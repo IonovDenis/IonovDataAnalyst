{
 "cells": [
  {
   "cell_type": "markdown",
   "metadata": {},
   "source": [
    "# Исследование надёжности заёмщиков\n",
    "\n",
    "Заказчик — кредитный отдел банка. Нужно разобраться, влияет ли семейное положение и количество детей клиента на факт погашения кредита в срок. Входные данные от банка — статистика о платёжеспособности клиентов.\n",
    "\n",
    "Результаты исследования будут учтены при построении модели **кредитного скоринга** — специальной системы, которая оценивает способность потенциального заёмщика вернуть кредит банку."
   ]
  },
  {
   "cell_type": "markdown",
   "metadata": {},
   "source": [
    "## Шаг 1. Откройте файл с данными и изучите общую информацию"
   ]
  },
  {
   "cell_type": "code",
   "execution_count": 2,
   "metadata": {},
   "outputs": [
    {
     "data": {
      "text/html": [
       "<div>\n",
       "<style scoped>\n",
       "    .dataframe tbody tr th:only-of-type {\n",
       "        vertical-align: middle;\n",
       "    }\n",
       "\n",
       "    .dataframe tbody tr th {\n",
       "        vertical-align: top;\n",
       "    }\n",
       "\n",
       "    .dataframe thead th {\n",
       "        text-align: right;\n",
       "    }\n",
       "</style>\n",
       "<table border=\"1\" class=\"dataframe\">\n",
       "  <thead>\n",
       "    <tr style=\"text-align: right;\">\n",
       "      <th></th>\n",
       "      <th>children</th>\n",
       "      <th>days_employed</th>\n",
       "      <th>dob_years</th>\n",
       "      <th>education</th>\n",
       "      <th>education_id</th>\n",
       "      <th>family_status</th>\n",
       "      <th>family_status_id</th>\n",
       "      <th>gender</th>\n",
       "      <th>income_type</th>\n",
       "      <th>debt</th>\n",
       "      <th>total_income</th>\n",
       "      <th>purpose</th>\n",
       "    </tr>\n",
       "  </thead>\n",
       "  <tbody>\n",
       "    <tr>\n",
       "      <td>0</td>\n",
       "      <td>1</td>\n",
       "      <td>-8437.673028</td>\n",
       "      <td>42</td>\n",
       "      <td>высшее</td>\n",
       "      <td>0</td>\n",
       "      <td>женат / замужем</td>\n",
       "      <td>0</td>\n",
       "      <td>F</td>\n",
       "      <td>сотрудник</td>\n",
       "      <td>0</td>\n",
       "      <td>253875.639453</td>\n",
       "      <td>покупка жилья</td>\n",
       "    </tr>\n",
       "    <tr>\n",
       "      <td>1</td>\n",
       "      <td>1</td>\n",
       "      <td>-4024.803754</td>\n",
       "      <td>36</td>\n",
       "      <td>среднее</td>\n",
       "      <td>1</td>\n",
       "      <td>женат / замужем</td>\n",
       "      <td>0</td>\n",
       "      <td>F</td>\n",
       "      <td>сотрудник</td>\n",
       "      <td>0</td>\n",
       "      <td>112080.014102</td>\n",
       "      <td>приобретение автомобиля</td>\n",
       "    </tr>\n",
       "    <tr>\n",
       "      <td>2</td>\n",
       "      <td>0</td>\n",
       "      <td>-5623.422610</td>\n",
       "      <td>33</td>\n",
       "      <td>Среднее</td>\n",
       "      <td>1</td>\n",
       "      <td>женат / замужем</td>\n",
       "      <td>0</td>\n",
       "      <td>M</td>\n",
       "      <td>сотрудник</td>\n",
       "      <td>0</td>\n",
       "      <td>145885.952297</td>\n",
       "      <td>покупка жилья</td>\n",
       "    </tr>\n",
       "    <tr>\n",
       "      <td>3</td>\n",
       "      <td>3</td>\n",
       "      <td>-4124.747207</td>\n",
       "      <td>32</td>\n",
       "      <td>среднее</td>\n",
       "      <td>1</td>\n",
       "      <td>женат / замужем</td>\n",
       "      <td>0</td>\n",
       "      <td>M</td>\n",
       "      <td>сотрудник</td>\n",
       "      <td>0</td>\n",
       "      <td>267628.550329</td>\n",
       "      <td>дополнительное образование</td>\n",
       "    </tr>\n",
       "    <tr>\n",
       "      <td>4</td>\n",
       "      <td>0</td>\n",
       "      <td>340266.072047</td>\n",
       "      <td>53</td>\n",
       "      <td>среднее</td>\n",
       "      <td>1</td>\n",
       "      <td>гражданский брак</td>\n",
       "      <td>1</td>\n",
       "      <td>F</td>\n",
       "      <td>пенсионер</td>\n",
       "      <td>0</td>\n",
       "      <td>158616.077870</td>\n",
       "      <td>сыграть свадьбу</td>\n",
       "    </tr>\n",
       "    <tr>\n",
       "      <td>5</td>\n",
       "      <td>0</td>\n",
       "      <td>-926.185831</td>\n",
       "      <td>27</td>\n",
       "      <td>высшее</td>\n",
       "      <td>0</td>\n",
       "      <td>гражданский брак</td>\n",
       "      <td>1</td>\n",
       "      <td>M</td>\n",
       "      <td>компаньон</td>\n",
       "      <td>0</td>\n",
       "      <td>255763.565419</td>\n",
       "      <td>покупка жилья</td>\n",
       "    </tr>\n",
       "    <tr>\n",
       "      <td>6</td>\n",
       "      <td>0</td>\n",
       "      <td>-2879.202052</td>\n",
       "      <td>43</td>\n",
       "      <td>высшее</td>\n",
       "      <td>0</td>\n",
       "      <td>женат / замужем</td>\n",
       "      <td>0</td>\n",
       "      <td>F</td>\n",
       "      <td>компаньон</td>\n",
       "      <td>0</td>\n",
       "      <td>240525.971920</td>\n",
       "      <td>операции с жильем</td>\n",
       "    </tr>\n",
       "    <tr>\n",
       "      <td>7</td>\n",
       "      <td>0</td>\n",
       "      <td>-152.779569</td>\n",
       "      <td>50</td>\n",
       "      <td>СРЕДНЕЕ</td>\n",
       "      <td>1</td>\n",
       "      <td>женат / замужем</td>\n",
       "      <td>0</td>\n",
       "      <td>M</td>\n",
       "      <td>сотрудник</td>\n",
       "      <td>0</td>\n",
       "      <td>135823.934197</td>\n",
       "      <td>образование</td>\n",
       "    </tr>\n",
       "    <tr>\n",
       "      <td>8</td>\n",
       "      <td>2</td>\n",
       "      <td>-6929.865299</td>\n",
       "      <td>35</td>\n",
       "      <td>ВЫСШЕЕ</td>\n",
       "      <td>0</td>\n",
       "      <td>гражданский брак</td>\n",
       "      <td>1</td>\n",
       "      <td>F</td>\n",
       "      <td>сотрудник</td>\n",
       "      <td>0</td>\n",
       "      <td>95856.832424</td>\n",
       "      <td>на проведение свадьбы</td>\n",
       "    </tr>\n",
       "    <tr>\n",
       "      <td>9</td>\n",
       "      <td>0</td>\n",
       "      <td>-2188.756445</td>\n",
       "      <td>41</td>\n",
       "      <td>среднее</td>\n",
       "      <td>1</td>\n",
       "      <td>женат / замужем</td>\n",
       "      <td>0</td>\n",
       "      <td>M</td>\n",
       "      <td>сотрудник</td>\n",
       "      <td>0</td>\n",
       "      <td>144425.938277</td>\n",
       "      <td>покупка жилья для семьи</td>\n",
       "    </tr>\n",
       "  </tbody>\n",
       "</table>\n",
       "</div>"
      ],
      "text/plain": [
       "   children  days_employed  dob_years education  education_id  \\\n",
       "0         1   -8437.673028         42    высшее             0   \n",
       "1         1   -4024.803754         36   среднее             1   \n",
       "2         0   -5623.422610         33   Среднее             1   \n",
       "3         3   -4124.747207         32   среднее             1   \n",
       "4         0  340266.072047         53   среднее             1   \n",
       "5         0    -926.185831         27    высшее             0   \n",
       "6         0   -2879.202052         43    высшее             0   \n",
       "7         0    -152.779569         50   СРЕДНЕЕ             1   \n",
       "8         2   -6929.865299         35    ВЫСШЕЕ             0   \n",
       "9         0   -2188.756445         41   среднее             1   \n",
       "\n",
       "      family_status  family_status_id gender income_type  debt   total_income  \\\n",
       "0   женат / замужем                 0      F   сотрудник     0  253875.639453   \n",
       "1   женат / замужем                 0      F   сотрудник     0  112080.014102   \n",
       "2   женат / замужем                 0      M   сотрудник     0  145885.952297   \n",
       "3   женат / замужем                 0      M   сотрудник     0  267628.550329   \n",
       "4  гражданский брак                 1      F   пенсионер     0  158616.077870   \n",
       "5  гражданский брак                 1      M   компаньон     0  255763.565419   \n",
       "6   женат / замужем                 0      F   компаньон     0  240525.971920   \n",
       "7   женат / замужем                 0      M   сотрудник     0  135823.934197   \n",
       "8  гражданский брак                 1      F   сотрудник     0   95856.832424   \n",
       "9   женат / замужем                 0      M   сотрудник     0  144425.938277   \n",
       "\n",
       "                      purpose  \n",
       "0               покупка жилья  \n",
       "1     приобретение автомобиля  \n",
       "2               покупка жилья  \n",
       "3  дополнительное образование  \n",
       "4             сыграть свадьбу  \n",
       "5               покупка жилья  \n",
       "6           операции с жильем  \n",
       "7                 образование  \n",
       "8       на проведение свадьбы  \n",
       "9     покупка жилья для семьи  "
      ]
     },
     "metadata": {},
     "output_type": "display_data"
    },
    {
     "name": "stdout",
     "output_type": "stream",
     "text": [
      "<class 'pandas.core.frame.DataFrame'>\n",
      "RangeIndex: 21525 entries, 0 to 21524\n",
      "Data columns (total 12 columns):\n",
      "children            21525 non-null int64\n",
      "days_employed       19351 non-null float64\n",
      "dob_years           21525 non-null int64\n",
      "education           21525 non-null object\n",
      "education_id        21525 non-null int64\n",
      "family_status       21525 non-null object\n",
      "family_status_id    21525 non-null int64\n",
      "gender              21525 non-null object\n",
      "income_type         21525 non-null object\n",
      "debt                21525 non-null int64\n",
      "total_income        19351 non-null float64\n",
      "purpose             21525 non-null object\n",
      "dtypes: float64(2), int64(5), object(5)\n",
      "memory usage: 2.0+ MB\n"
     ]
    }
   ],
   "source": [
    "import pandas as pd\n",
    "data = pd.read_csv('/datasets/data.csv')\n",
    "display(data.head(10))\n",
    "data.info()"
   ]
  },
  {
   "cell_type": "markdown",
   "metadata": {},
   "source": [
    "**Вывод**"
   ]
  },
  {
   "cell_type": "markdown",
   "metadata": {},
   "source": [
    "Выведенная таблица состоит из 21525 строк и 12 стобцов:\n",
    "\n",
    "+ children — количество детей в семье - (int64)\n",
    "+ days_employed — общий трудовой стаж в днях - (float64)\n",
    "+ dob_years — возраст клиента в годах - (int64)\n",
    "+ education — уровень образования клиента - (object)\n",
    "+ education_id — идентификатор уровня образования - (int64)\n",
    "+ family_status — семейное положение - (object)\n",
    "+ family_status_id — идентификатор семейного положения - (int64)\n",
    "+ gender — пол клиента - (object)\n",
    "+ income_type — тип занятости - (object)\n",
    "+ debt — имел ли задолженность по возврату кредитов - (int64)\n",
    "+ total_income — ежемесячный доход - (float64)\n",
    "+ purpose — цель получения кредита - (object)\n",
    "\n",
    "В столбцах days_employed и total_income имеются пропуски."
   ]
  },
  {
   "cell_type": "markdown",
   "metadata": {},
   "source": [
    "## Шаг 2. Предобработка данных"
   ]
  },
  {
   "cell_type": "markdown",
   "metadata": {},
   "source": [
    "### Обработка пропусков"
   ]
  },
  {
   "cell_type": "code",
   "execution_count": 3,
   "metadata": {},
   "outputs": [
    {
     "data": {
      "text/html": [
       "<div>\n",
       "<style scoped>\n",
       "    .dataframe tbody tr th:only-of-type {\n",
       "        vertical-align: middle;\n",
       "    }\n",
       "\n",
       "    .dataframe tbody tr th {\n",
       "        vertical-align: top;\n",
       "    }\n",
       "\n",
       "    .dataframe thead th {\n",
       "        text-align: right;\n",
       "    }\n",
       "</style>\n",
       "<table border=\"1\" class=\"dataframe\">\n",
       "  <thead>\n",
       "    <tr style=\"text-align: right;\">\n",
       "      <th></th>\n",
       "      <th>children</th>\n",
       "      <th>days_employed</th>\n",
       "      <th>dob_years</th>\n",
       "      <th>education</th>\n",
       "      <th>education_id</th>\n",
       "      <th>family_status</th>\n",
       "      <th>family_status_id</th>\n",
       "      <th>gender</th>\n",
       "      <th>income_type</th>\n",
       "      <th>debt</th>\n",
       "      <th>total_income</th>\n",
       "      <th>purpose</th>\n",
       "    </tr>\n",
       "  </thead>\n",
       "  <tbody>\n",
       "    <tr>\n",
       "      <td>12</td>\n",
       "      <td>0</td>\n",
       "      <td>NaN</td>\n",
       "      <td>65</td>\n",
       "      <td>среднее</td>\n",
       "      <td>1</td>\n",
       "      <td>гражданский брак</td>\n",
       "      <td>1</td>\n",
       "      <td>M</td>\n",
       "      <td>пенсионер</td>\n",
       "      <td>0</td>\n",
       "      <td>NaN</td>\n",
       "      <td>сыграть свадьбу</td>\n",
       "    </tr>\n",
       "    <tr>\n",
       "      <td>26</td>\n",
       "      <td>0</td>\n",
       "      <td>NaN</td>\n",
       "      <td>41</td>\n",
       "      <td>среднее</td>\n",
       "      <td>1</td>\n",
       "      <td>женат / замужем</td>\n",
       "      <td>0</td>\n",
       "      <td>M</td>\n",
       "      <td>госслужащий</td>\n",
       "      <td>0</td>\n",
       "      <td>NaN</td>\n",
       "      <td>образование</td>\n",
       "    </tr>\n",
       "    <tr>\n",
       "      <td>29</td>\n",
       "      <td>0</td>\n",
       "      <td>NaN</td>\n",
       "      <td>63</td>\n",
       "      <td>среднее</td>\n",
       "      <td>1</td>\n",
       "      <td>Не женат / не замужем</td>\n",
       "      <td>4</td>\n",
       "      <td>F</td>\n",
       "      <td>пенсионер</td>\n",
       "      <td>0</td>\n",
       "      <td>NaN</td>\n",
       "      <td>строительство жилой недвижимости</td>\n",
       "    </tr>\n",
       "    <tr>\n",
       "      <td>41</td>\n",
       "      <td>0</td>\n",
       "      <td>NaN</td>\n",
       "      <td>50</td>\n",
       "      <td>среднее</td>\n",
       "      <td>1</td>\n",
       "      <td>женат / замужем</td>\n",
       "      <td>0</td>\n",
       "      <td>F</td>\n",
       "      <td>госслужащий</td>\n",
       "      <td>0</td>\n",
       "      <td>NaN</td>\n",
       "      <td>сделка с подержанным автомобилем</td>\n",
       "    </tr>\n",
       "    <tr>\n",
       "      <td>55</td>\n",
       "      <td>0</td>\n",
       "      <td>NaN</td>\n",
       "      <td>54</td>\n",
       "      <td>среднее</td>\n",
       "      <td>1</td>\n",
       "      <td>гражданский брак</td>\n",
       "      <td>1</td>\n",
       "      <td>F</td>\n",
       "      <td>пенсионер</td>\n",
       "      <td>1</td>\n",
       "      <td>NaN</td>\n",
       "      <td>сыграть свадьбу</td>\n",
       "    </tr>\n",
       "    <tr>\n",
       "      <td>...</td>\n",
       "      <td>...</td>\n",
       "      <td>...</td>\n",
       "      <td>...</td>\n",
       "      <td>...</td>\n",
       "      <td>...</td>\n",
       "      <td>...</td>\n",
       "      <td>...</td>\n",
       "      <td>...</td>\n",
       "      <td>...</td>\n",
       "      <td>...</td>\n",
       "      <td>...</td>\n",
       "      <td>...</td>\n",
       "    </tr>\n",
       "    <tr>\n",
       "      <td>21489</td>\n",
       "      <td>2</td>\n",
       "      <td>NaN</td>\n",
       "      <td>47</td>\n",
       "      <td>Среднее</td>\n",
       "      <td>1</td>\n",
       "      <td>женат / замужем</td>\n",
       "      <td>0</td>\n",
       "      <td>M</td>\n",
       "      <td>компаньон</td>\n",
       "      <td>0</td>\n",
       "      <td>NaN</td>\n",
       "      <td>сделка с автомобилем</td>\n",
       "    </tr>\n",
       "    <tr>\n",
       "      <td>21495</td>\n",
       "      <td>1</td>\n",
       "      <td>NaN</td>\n",
       "      <td>50</td>\n",
       "      <td>среднее</td>\n",
       "      <td>1</td>\n",
       "      <td>гражданский брак</td>\n",
       "      <td>1</td>\n",
       "      <td>F</td>\n",
       "      <td>сотрудник</td>\n",
       "      <td>0</td>\n",
       "      <td>NaN</td>\n",
       "      <td>свадьба</td>\n",
       "    </tr>\n",
       "    <tr>\n",
       "      <td>21497</td>\n",
       "      <td>0</td>\n",
       "      <td>NaN</td>\n",
       "      <td>48</td>\n",
       "      <td>ВЫСШЕЕ</td>\n",
       "      <td>0</td>\n",
       "      <td>женат / замужем</td>\n",
       "      <td>0</td>\n",
       "      <td>F</td>\n",
       "      <td>компаньон</td>\n",
       "      <td>0</td>\n",
       "      <td>NaN</td>\n",
       "      <td>строительство недвижимости</td>\n",
       "    </tr>\n",
       "    <tr>\n",
       "      <td>21502</td>\n",
       "      <td>1</td>\n",
       "      <td>NaN</td>\n",
       "      <td>42</td>\n",
       "      <td>среднее</td>\n",
       "      <td>1</td>\n",
       "      <td>женат / замужем</td>\n",
       "      <td>0</td>\n",
       "      <td>F</td>\n",
       "      <td>сотрудник</td>\n",
       "      <td>0</td>\n",
       "      <td>NaN</td>\n",
       "      <td>строительство жилой недвижимости</td>\n",
       "    </tr>\n",
       "    <tr>\n",
       "      <td>21510</td>\n",
       "      <td>2</td>\n",
       "      <td>NaN</td>\n",
       "      <td>28</td>\n",
       "      <td>среднее</td>\n",
       "      <td>1</td>\n",
       "      <td>женат / замужем</td>\n",
       "      <td>0</td>\n",
       "      <td>F</td>\n",
       "      <td>сотрудник</td>\n",
       "      <td>0</td>\n",
       "      <td>NaN</td>\n",
       "      <td>приобретение автомобиля</td>\n",
       "    </tr>\n",
       "  </tbody>\n",
       "</table>\n",
       "<p>2174 rows × 12 columns</p>\n",
       "</div>"
      ],
      "text/plain": [
       "       children  days_employed  dob_years education  education_id  \\\n",
       "12            0            NaN         65   среднее             1   \n",
       "26            0            NaN         41   среднее             1   \n",
       "29            0            NaN         63   среднее             1   \n",
       "41            0            NaN         50   среднее             1   \n",
       "55            0            NaN         54   среднее             1   \n",
       "...         ...            ...        ...       ...           ...   \n",
       "21489         2            NaN         47   Среднее             1   \n",
       "21495         1            NaN         50   среднее             1   \n",
       "21497         0            NaN         48    ВЫСШЕЕ             0   \n",
       "21502         1            NaN         42   среднее             1   \n",
       "21510         2            NaN         28   среднее             1   \n",
       "\n",
       "               family_status  family_status_id gender  income_type  debt  \\\n",
       "12          гражданский брак                 1      M    пенсионер     0   \n",
       "26           женат / замужем                 0      M  госслужащий     0   \n",
       "29     Не женат / не замужем                 4      F    пенсионер     0   \n",
       "41           женат / замужем                 0      F  госслужащий     0   \n",
       "55          гражданский брак                 1      F    пенсионер     1   \n",
       "...                      ...               ...    ...          ...   ...   \n",
       "21489        женат / замужем                 0      M    компаньон     0   \n",
       "21495       гражданский брак                 1      F    сотрудник     0   \n",
       "21497        женат / замужем                 0      F    компаньон     0   \n",
       "21502        женат / замужем                 0      F    сотрудник     0   \n",
       "21510        женат / замужем                 0      F    сотрудник     0   \n",
       "\n",
       "       total_income                           purpose  \n",
       "12              NaN                   сыграть свадьбу  \n",
       "26              NaN                       образование  \n",
       "29              NaN  строительство жилой недвижимости  \n",
       "41              NaN  сделка с подержанным автомобилем  \n",
       "55              NaN                   сыграть свадьбу  \n",
       "...             ...                               ...  \n",
       "21489           NaN              сделка с автомобилем  \n",
       "21495           NaN                           свадьба  \n",
       "21497           NaN        строительство недвижимости  \n",
       "21502           NaN  строительство жилой недвижимости  \n",
       "21510           NaN           приобретение автомобиля  \n",
       "\n",
       "[2174 rows x 12 columns]"
      ]
     },
     "execution_count": 3,
     "metadata": {},
     "output_type": "execute_result"
    }
   ],
   "source": [
    "data[data['total_income'].isnull()] #определяем пропуски в столбце 'total_income' - ежемесячный доход"
   ]
  },
  {
   "cell_type": "code",
   "execution_count": 4,
   "metadata": {},
   "outputs": [
    {
     "data": {
      "text/plain": [
       "2174"
      ]
     },
     "execution_count": 4,
     "metadata": {},
     "output_type": "execute_result"
    }
   ],
   "source": [
    "len(data[data['total_income'].isna()]) #считаем общее количество пропусков NaN в стобце 'total_income'"
   ]
  },
  {
   "cell_type": "code",
   "execution_count": 5,
   "metadata": {},
   "outputs": [
    {
     "data": {
      "text/plain": [
       "children            2174\n",
       "days_employed          0\n",
       "dob_years           2174\n",
       "education           2174\n",
       "education_id        2174\n",
       "family_status       2174\n",
       "family_status_id    2174\n",
       "gender              2174\n",
       "income_type         2174\n",
       "debt                2174\n",
       "total_income           0\n",
       "purpose             2174\n",
       "dtype: int64"
      ]
     },
     "execution_count": 5,
     "metadata": {},
     "output_type": "execute_result"
    }
   ],
   "source": [
    "data[data['total_income'].isna()].count() #количество пропущенных значений NaN, в целом по таблице"
   ]
  },
  {
   "cell_type": "markdown",
   "metadata": {},
   "source": [
    "Из таблицы видим, что количество пропусков в столбцах days_employed и total_income идентично и они находятся на одних и тех же строчках. Для дальнейших операций возьмем столбец ежемесячного дохода, поскольку это более весомый аргумент в получении кредита нежели трудовой стаж, тем более, что цифры в total_income хотя бы одного порядка и одного знака."
   ]
  },
  {
   "cell_type": "code",
   "execution_count": 6,
   "metadata": {},
   "outputs": [],
   "source": [
    "median_income_type = data.groupby('income_type')['total_income'].transform('mean')\n",
    "#посчитаем средние значения ежемесячного дохода в столбце total_income, согласно типу занятости income_type "
   ]
  },
  {
   "cell_type": "code",
   "execution_count": 7,
   "metadata": {},
   "outputs": [],
   "source": [
    "data['total_income'].fillna(median_income_type, inplace=True) \n",
    "#Заменим пропуски в столбце total_income средними значениями ежемесячного дохода"
   ]
  },
  {
   "cell_type": "code",
   "execution_count": 8,
   "metadata": {},
   "outputs": [
    {
     "data": {
      "text/plain": [
       "0"
      ]
     },
     "execution_count": 8,
     "metadata": {},
     "output_type": "execute_result"
    }
   ],
   "source": [
    "len(data[data['total_income'].isna()]) #проверим общее количество пропусков NaN в стобце 'total_income'"
   ]
  },
  {
   "cell_type": "code",
   "execution_count": 9,
   "metadata": {
    "scrolled": true
   },
   "outputs": [
    {
     "name": "stdout",
     "output_type": "stream",
     "text": [
      "<class 'pandas.core.frame.DataFrame'>\n",
      "RangeIndex: 21525 entries, 0 to 21524\n",
      "Data columns (total 12 columns):\n",
      "children            21525 non-null int64\n",
      "days_employed       19351 non-null float64\n",
      "dob_years           21525 non-null int64\n",
      "education           21525 non-null object\n",
      "education_id        21525 non-null int64\n",
      "family_status       21525 non-null object\n",
      "family_status_id    21525 non-null int64\n",
      "gender              21525 non-null object\n",
      "income_type         21525 non-null object\n",
      "debt                21525 non-null int64\n",
      "total_income        21525 non-null float64\n",
      "purpose             21525 non-null object\n",
      "dtypes: float64(2), int64(5), object(5)\n",
      "memory usage: 2.0+ MB\n"
     ]
    }
   ],
   "source": [
    "data.info()"
   ]
  },
  {
   "cell_type": "markdown",
   "metadata": {},
   "source": [
    "**Вывод** "
   ]
  },
  {
   "cell_type": "markdown",
   "metadata": {},
   "source": [
    "В результате получили таблицу из 21524 строк и 11 столбцов, в процессе обработки был отброшен столбец по стажу работы, за ненадобностью. Пропуски были заменены на средние значения ежемесячного дохода типу занятости, вероятней всего пропуски были допущены при заполнении заявления заемщиком с целью сокрытия данных или же на момент подачи заявки клиент не работал."
   ]
  },
  {
   "cell_type": "markdown",
   "metadata": {},
   "source": [
    "### Замена типа данных"
   ]
  },
  {
   "cell_type": "code",
   "execution_count": 10,
   "metadata": {
    "scrolled": true
   },
   "outputs": [
    {
     "name": "stdout",
     "output_type": "stream",
     "text": [
      "<class 'pandas.core.frame.DataFrame'>\n",
      "RangeIndex: 21525 entries, 0 to 21524\n",
      "Data columns (total 12 columns):\n",
      "children            21525 non-null int64\n",
      "days_employed       19351 non-null float64\n",
      "dob_years           21525 non-null int64\n",
      "education           21525 non-null object\n",
      "education_id        21525 non-null int64\n",
      "family_status       21525 non-null object\n",
      "family_status_id    21525 non-null int64\n",
      "gender              21525 non-null object\n",
      "income_type         21525 non-null object\n",
      "debt                21525 non-null int64\n",
      "total_income        21525 non-null int64\n",
      "purpose             21525 non-null object\n",
      "dtypes: float64(1), int64(6), object(5)\n",
      "memory usage: 2.0+ MB\n"
     ]
    },
    {
     "data": {
      "text/html": [
       "<div>\n",
       "<style scoped>\n",
       "    .dataframe tbody tr th:only-of-type {\n",
       "        vertical-align: middle;\n",
       "    }\n",
       "\n",
       "    .dataframe tbody tr th {\n",
       "        vertical-align: top;\n",
       "    }\n",
       "\n",
       "    .dataframe thead th {\n",
       "        text-align: right;\n",
       "    }\n",
       "</style>\n",
       "<table border=\"1\" class=\"dataframe\">\n",
       "  <thead>\n",
       "    <tr style=\"text-align: right;\">\n",
       "      <th></th>\n",
       "      <th>children</th>\n",
       "      <th>days_employed</th>\n",
       "      <th>dob_years</th>\n",
       "      <th>education</th>\n",
       "      <th>education_id</th>\n",
       "      <th>family_status</th>\n",
       "      <th>family_status_id</th>\n",
       "      <th>gender</th>\n",
       "      <th>income_type</th>\n",
       "      <th>debt</th>\n",
       "      <th>total_income</th>\n",
       "      <th>purpose</th>\n",
       "    </tr>\n",
       "  </thead>\n",
       "  <tbody>\n",
       "    <tr>\n",
       "      <td>0</td>\n",
       "      <td>1</td>\n",
       "      <td>-8437.673028</td>\n",
       "      <td>42</td>\n",
       "      <td>высшее</td>\n",
       "      <td>0</td>\n",
       "      <td>женат / замужем</td>\n",
       "      <td>0</td>\n",
       "      <td>F</td>\n",
       "      <td>сотрудник</td>\n",
       "      <td>0</td>\n",
       "      <td>253875</td>\n",
       "      <td>покупка жилья</td>\n",
       "    </tr>\n",
       "    <tr>\n",
       "      <td>1</td>\n",
       "      <td>1</td>\n",
       "      <td>-4024.803754</td>\n",
       "      <td>36</td>\n",
       "      <td>среднее</td>\n",
       "      <td>1</td>\n",
       "      <td>женат / замужем</td>\n",
       "      <td>0</td>\n",
       "      <td>F</td>\n",
       "      <td>сотрудник</td>\n",
       "      <td>0</td>\n",
       "      <td>112080</td>\n",
       "      <td>приобретение автомобиля</td>\n",
       "    </tr>\n",
       "    <tr>\n",
       "      <td>2</td>\n",
       "      <td>0</td>\n",
       "      <td>-5623.422610</td>\n",
       "      <td>33</td>\n",
       "      <td>Среднее</td>\n",
       "      <td>1</td>\n",
       "      <td>женат / замужем</td>\n",
       "      <td>0</td>\n",
       "      <td>M</td>\n",
       "      <td>сотрудник</td>\n",
       "      <td>0</td>\n",
       "      <td>145885</td>\n",
       "      <td>покупка жилья</td>\n",
       "    </tr>\n",
       "    <tr>\n",
       "      <td>3</td>\n",
       "      <td>3</td>\n",
       "      <td>-4124.747207</td>\n",
       "      <td>32</td>\n",
       "      <td>среднее</td>\n",
       "      <td>1</td>\n",
       "      <td>женат / замужем</td>\n",
       "      <td>0</td>\n",
       "      <td>M</td>\n",
       "      <td>сотрудник</td>\n",
       "      <td>0</td>\n",
       "      <td>267628</td>\n",
       "      <td>дополнительное образование</td>\n",
       "    </tr>\n",
       "    <tr>\n",
       "      <td>4</td>\n",
       "      <td>0</td>\n",
       "      <td>340266.072047</td>\n",
       "      <td>53</td>\n",
       "      <td>среднее</td>\n",
       "      <td>1</td>\n",
       "      <td>гражданский брак</td>\n",
       "      <td>1</td>\n",
       "      <td>F</td>\n",
       "      <td>пенсионер</td>\n",
       "      <td>0</td>\n",
       "      <td>158616</td>\n",
       "      <td>сыграть свадьбу</td>\n",
       "    </tr>\n",
       "  </tbody>\n",
       "</table>\n",
       "</div>"
      ],
      "text/plain": [
       "   children  days_employed  dob_years education  education_id  \\\n",
       "0         1   -8437.673028         42    высшее             0   \n",
       "1         1   -4024.803754         36   среднее             1   \n",
       "2         0   -5623.422610         33   Среднее             1   \n",
       "3         3   -4124.747207         32   среднее             1   \n",
       "4         0  340266.072047         53   среднее             1   \n",
       "\n",
       "      family_status  family_status_id gender income_type  debt  total_income  \\\n",
       "0   женат / замужем                 0      F   сотрудник     0        253875   \n",
       "1   женат / замужем                 0      F   сотрудник     0        112080   \n",
       "2   женат / замужем                 0      M   сотрудник     0        145885   \n",
       "3   женат / замужем                 0      M   сотрудник     0        267628   \n",
       "4  гражданский брак                 1      F   пенсионер     0        158616   \n",
       "\n",
       "                      purpose  \n",
       "0               покупка жилья  \n",
       "1     приобретение автомобиля  \n",
       "2               покупка жилья  \n",
       "3  дополнительное образование  \n",
       "4             сыграть свадьбу  "
      ]
     },
     "execution_count": 10,
     "metadata": {},
     "output_type": "execute_result"
    }
   ],
   "source": [
    "data['total_income'] = data['total_income'].astype('int64')\n",
    "#округлим значения столбца ежемесячного дохода до целых чисел, с помощью метода astype()\n",
    "data.info()\n",
    "data.head()"
   ]
  },
  {
   "cell_type": "markdown",
   "metadata": {},
   "source": [
    "**Вывод**"
   ]
  },
  {
   "cell_type": "markdown",
   "metadata": {},
   "source": [
    "Табличные значения легче воспринимать когда это целые числа, а не дробные."
   ]
  },
  {
   "cell_type": "markdown",
   "metadata": {},
   "source": [
    "### Обработка дубликатов"
   ]
  },
  {
   "cell_type": "markdown",
   "metadata": {},
   "source": [
    "Значения столбца education вызывают вопросы"
   ]
  },
  {
   "cell_type": "code",
   "execution_count": 11,
   "metadata": {},
   "outputs": [
    {
     "data": {
      "text/plain": [
       "среднее                13750\n",
       "высшее                  4718\n",
       "СРЕДНЕЕ                  772\n",
       "Среднее                  711\n",
       "неоконченное высшее      668\n",
       "ВЫСШЕЕ                   274\n",
       "Высшее                   268\n",
       "начальное                250\n",
       "Неоконченное высшее       47\n",
       "НЕОКОНЧЕННОЕ ВЫСШЕЕ       29\n",
       "НАЧАЛЬНОЕ                 17\n",
       "Начальное                 15\n",
       "ученая степень             4\n",
       "УЧЕНАЯ СТЕПЕНЬ             1\n",
       "Ученая степень             1\n",
       "Name: education, dtype: int64"
      ]
     },
     "execution_count": 11,
     "metadata": {},
     "output_type": "execute_result"
    }
   ],
   "source": [
    "data['education'].value_counts() #обнаружены неявные дубликаты, с помощью метода value_counts()"
   ]
  },
  {
   "cell_type": "code",
   "execution_count": 12,
   "metadata": {},
   "outputs": [],
   "source": [
    "data['education'] = data['education'].str.lower() #приведем все значения к нижнему регистру, с помощью метода string.lower()"
   ]
  },
  {
   "cell_type": "code",
   "execution_count": 13,
   "metadata": {},
   "outputs": [
    {
     "data": {
      "text/plain": [
       "array(['высшее', 'среднее', 'неоконченное высшее', 'начальное',\n",
       "       'ученая степень'], dtype=object)"
      ]
     },
     "execution_count": 13,
     "metadata": {},
     "output_type": "execute_result"
    }
   ],
   "source": [
    "data['education'].unique() #проверка"
   ]
  },
  {
   "cell_type": "code",
   "execution_count": 14,
   "metadata": {},
   "outputs": [
    {
     "data": {
      "text/plain": [
       "71"
      ]
     },
     "execution_count": 14,
     "metadata": {},
     "output_type": "execute_result"
    }
   ],
   "source": [
    "data.duplicated().sum() #в датафрейме обнаружено 71 явный дубликат, с помощью метода sum()"
   ]
  },
  {
   "cell_type": "code",
   "execution_count": 15,
   "metadata": {},
   "outputs": [
    {
     "data": {
      "text/html": [
       "<div>\n",
       "<style scoped>\n",
       "    .dataframe tbody tr th:only-of-type {\n",
       "        vertical-align: middle;\n",
       "    }\n",
       "\n",
       "    .dataframe tbody tr th {\n",
       "        vertical-align: top;\n",
       "    }\n",
       "\n",
       "    .dataframe thead th {\n",
       "        text-align: right;\n",
       "    }\n",
       "</style>\n",
       "<table border=\"1\" class=\"dataframe\">\n",
       "  <thead>\n",
       "    <tr style=\"text-align: right;\">\n",
       "      <th></th>\n",
       "      <th>children</th>\n",
       "      <th>days_employed</th>\n",
       "      <th>dob_years</th>\n",
       "      <th>education</th>\n",
       "      <th>education_id</th>\n",
       "      <th>family_status</th>\n",
       "      <th>family_status_id</th>\n",
       "      <th>gender</th>\n",
       "      <th>income_type</th>\n",
       "      <th>debt</th>\n",
       "      <th>total_income</th>\n",
       "      <th>purpose</th>\n",
       "    </tr>\n",
       "  </thead>\n",
       "  <tbody>\n",
       "    <tr>\n",
       "      <td>0</td>\n",
       "      <td>1</td>\n",
       "      <td>-8437.673028</td>\n",
       "      <td>42</td>\n",
       "      <td>высшее</td>\n",
       "      <td>0</td>\n",
       "      <td>женат / замужем</td>\n",
       "      <td>0</td>\n",
       "      <td>F</td>\n",
       "      <td>сотрудник</td>\n",
       "      <td>0</td>\n",
       "      <td>253875</td>\n",
       "      <td>покупка жилья</td>\n",
       "    </tr>\n",
       "    <tr>\n",
       "      <td>1</td>\n",
       "      <td>1</td>\n",
       "      <td>-4024.803754</td>\n",
       "      <td>36</td>\n",
       "      <td>среднее</td>\n",
       "      <td>1</td>\n",
       "      <td>женат / замужем</td>\n",
       "      <td>0</td>\n",
       "      <td>F</td>\n",
       "      <td>сотрудник</td>\n",
       "      <td>0</td>\n",
       "      <td>112080</td>\n",
       "      <td>приобретение автомобиля</td>\n",
       "    </tr>\n",
       "    <tr>\n",
       "      <td>2</td>\n",
       "      <td>0</td>\n",
       "      <td>-5623.422610</td>\n",
       "      <td>33</td>\n",
       "      <td>среднее</td>\n",
       "      <td>1</td>\n",
       "      <td>женат / замужем</td>\n",
       "      <td>0</td>\n",
       "      <td>M</td>\n",
       "      <td>сотрудник</td>\n",
       "      <td>0</td>\n",
       "      <td>145885</td>\n",
       "      <td>покупка жилья</td>\n",
       "    </tr>\n",
       "    <tr>\n",
       "      <td>3</td>\n",
       "      <td>3</td>\n",
       "      <td>-4124.747207</td>\n",
       "      <td>32</td>\n",
       "      <td>среднее</td>\n",
       "      <td>1</td>\n",
       "      <td>женат / замужем</td>\n",
       "      <td>0</td>\n",
       "      <td>M</td>\n",
       "      <td>сотрудник</td>\n",
       "      <td>0</td>\n",
       "      <td>267628</td>\n",
       "      <td>дополнительное образование</td>\n",
       "    </tr>\n",
       "    <tr>\n",
       "      <td>4</td>\n",
       "      <td>0</td>\n",
       "      <td>340266.072047</td>\n",
       "      <td>53</td>\n",
       "      <td>среднее</td>\n",
       "      <td>1</td>\n",
       "      <td>гражданский брак</td>\n",
       "      <td>1</td>\n",
       "      <td>F</td>\n",
       "      <td>пенсионер</td>\n",
       "      <td>0</td>\n",
       "      <td>158616</td>\n",
       "      <td>сыграть свадьбу</td>\n",
       "    </tr>\n",
       "    <tr>\n",
       "      <td>...</td>\n",
       "      <td>...</td>\n",
       "      <td>...</td>\n",
       "      <td>...</td>\n",
       "      <td>...</td>\n",
       "      <td>...</td>\n",
       "      <td>...</td>\n",
       "      <td>...</td>\n",
       "      <td>...</td>\n",
       "      <td>...</td>\n",
       "      <td>...</td>\n",
       "      <td>...</td>\n",
       "      <td>...</td>\n",
       "    </tr>\n",
       "    <tr>\n",
       "      <td>21449</td>\n",
       "      <td>1</td>\n",
       "      <td>-4529.316663</td>\n",
       "      <td>43</td>\n",
       "      <td>среднее</td>\n",
       "      <td>1</td>\n",
       "      <td>гражданский брак</td>\n",
       "      <td>1</td>\n",
       "      <td>F</td>\n",
       "      <td>компаньон</td>\n",
       "      <td>0</td>\n",
       "      <td>224791</td>\n",
       "      <td>операции с жильем</td>\n",
       "    </tr>\n",
       "    <tr>\n",
       "      <td>21450</td>\n",
       "      <td>0</td>\n",
       "      <td>343937.404131</td>\n",
       "      <td>67</td>\n",
       "      <td>среднее</td>\n",
       "      <td>1</td>\n",
       "      <td>женат / замужем</td>\n",
       "      <td>0</td>\n",
       "      <td>F</td>\n",
       "      <td>пенсионер</td>\n",
       "      <td>0</td>\n",
       "      <td>155999</td>\n",
       "      <td>сделка с автомобилем</td>\n",
       "    </tr>\n",
       "    <tr>\n",
       "      <td>21451</td>\n",
       "      <td>1</td>\n",
       "      <td>-2113.346888</td>\n",
       "      <td>38</td>\n",
       "      <td>среднее</td>\n",
       "      <td>1</td>\n",
       "      <td>гражданский брак</td>\n",
       "      <td>1</td>\n",
       "      <td>M</td>\n",
       "      <td>сотрудник</td>\n",
       "      <td>1</td>\n",
       "      <td>89672</td>\n",
       "      <td>недвижимость</td>\n",
       "    </tr>\n",
       "    <tr>\n",
       "      <td>21452</td>\n",
       "      <td>3</td>\n",
       "      <td>-3112.481705</td>\n",
       "      <td>38</td>\n",
       "      <td>среднее</td>\n",
       "      <td>1</td>\n",
       "      <td>женат / замужем</td>\n",
       "      <td>0</td>\n",
       "      <td>M</td>\n",
       "      <td>сотрудник</td>\n",
       "      <td>1</td>\n",
       "      <td>244093</td>\n",
       "      <td>на покупку своего автомобиля</td>\n",
       "    </tr>\n",
       "    <tr>\n",
       "      <td>21453</td>\n",
       "      <td>2</td>\n",
       "      <td>-1984.507589</td>\n",
       "      <td>40</td>\n",
       "      <td>среднее</td>\n",
       "      <td>1</td>\n",
       "      <td>женат / замужем</td>\n",
       "      <td>0</td>\n",
       "      <td>F</td>\n",
       "      <td>сотрудник</td>\n",
       "      <td>0</td>\n",
       "      <td>82047</td>\n",
       "      <td>на покупку автомобиля</td>\n",
       "    </tr>\n",
       "  </tbody>\n",
       "</table>\n",
       "<p>21454 rows × 12 columns</p>\n",
       "</div>"
      ],
      "text/plain": [
       "       children  days_employed  dob_years education  education_id  \\\n",
       "0             1   -8437.673028         42    высшее             0   \n",
       "1             1   -4024.803754         36   среднее             1   \n",
       "2             0   -5623.422610         33   среднее             1   \n",
       "3             3   -4124.747207         32   среднее             1   \n",
       "4             0  340266.072047         53   среднее             1   \n",
       "...         ...            ...        ...       ...           ...   \n",
       "21449         1   -4529.316663         43   среднее             1   \n",
       "21450         0  343937.404131         67   среднее             1   \n",
       "21451         1   -2113.346888         38   среднее             1   \n",
       "21452         3   -3112.481705         38   среднее             1   \n",
       "21453         2   -1984.507589         40   среднее             1   \n",
       "\n",
       "          family_status  family_status_id gender income_type  debt  \\\n",
       "0       женат / замужем                 0      F   сотрудник     0   \n",
       "1       женат / замужем                 0      F   сотрудник     0   \n",
       "2       женат / замужем                 0      M   сотрудник     0   \n",
       "3       женат / замужем                 0      M   сотрудник     0   \n",
       "4      гражданский брак                 1      F   пенсионер     0   \n",
       "...                 ...               ...    ...         ...   ...   \n",
       "21449  гражданский брак                 1      F   компаньон     0   \n",
       "21450   женат / замужем                 0      F   пенсионер     0   \n",
       "21451  гражданский брак                 1      M   сотрудник     1   \n",
       "21452   женат / замужем                 0      M   сотрудник     1   \n",
       "21453   женат / замужем                 0      F   сотрудник     0   \n",
       "\n",
       "       total_income                       purpose  \n",
       "0            253875                 покупка жилья  \n",
       "1            112080       приобретение автомобиля  \n",
       "2            145885                 покупка жилья  \n",
       "3            267628    дополнительное образование  \n",
       "4            158616               сыграть свадьбу  \n",
       "...             ...                           ...  \n",
       "21449        224791             операции с жильем  \n",
       "21450        155999          сделка с автомобилем  \n",
       "21451         89672                  недвижимость  \n",
       "21452        244093  на покупку своего автомобиля  \n",
       "21453         82047         на покупку автомобиля  \n",
       "\n",
       "[21454 rows x 12 columns]"
      ]
     },
     "metadata": {},
     "output_type": "display_data"
    }
   ],
   "source": [
    "data = data.drop_duplicates().reset_index(drop = True)\n",
    "#сохраним таблицу, очищенную от дубликатов, с новой индексацией\n",
    "display(data)"
   ]
  },
  {
   "cell_type": "code",
   "execution_count": 16,
   "metadata": {},
   "outputs": [
    {
     "data": {
      "text/plain": [
       "0"
      ]
     },
     "execution_count": 16,
     "metadata": {},
     "output_type": "execute_result"
    }
   ],
   "source": [
    "data.duplicated().sum() #проверим"
   ]
  },
  {
   "cell_type": "markdown",
   "metadata": {},
   "source": [
    "**Вывод**"
   ]
  },
  {
   "cell_type": "markdown",
   "metadata": {},
   "source": [
    "Значительное количество неявных дубликатов было представлено в столбце, уровень образования клиента, также было выявлено 71 явный дубликат. После зачистки дубликатов не обнаружено, а количество строк в таблице уменьшилось до 21454."
   ]
  },
  {
   "cell_type": "markdown",
   "metadata": {},
   "source": [
    "### Лемматизация"
   ]
  },
  {
   "cell_type": "code",
   "execution_count": 17,
   "metadata": {},
   "outputs": [],
   "source": [
    "from pymystem3 import Mystem \n",
    "m = Mystem() "
   ]
  },
  {
   "cell_type": "code",
   "execution_count": 18,
   "metadata": {},
   "outputs": [
    {
     "name": "stdout",
     "output_type": "stream",
     "text": [
      "Counter({'свадьба': 791, 'на проведение свадьбы': 768, 'сыграть свадьбу': 765, 'операции с недвижимостью': 675, 'покупка коммерческой недвижимости': 661, 'операции с жильем': 652, 'покупка жилья для сдачи': 651, 'операции с коммерческой недвижимостью': 650, 'покупка жилья': 646, 'жилье': 646, 'покупка жилья для семьи': 638, 'строительство собственной недвижимости': 635, 'недвижимость': 633, 'операции со своей недвижимостью': 627, 'строительство жилой недвижимости': 624, 'покупка недвижимости': 621, 'покупка своего жилья': 620, 'строительство недвижимости': 619, 'ремонт жилью': 607, 'покупка жилой недвижимости': 606, 'на покупку своего автомобиля': 505, 'заняться высшим образованием': 496, 'автомобиль': 494, 'сделка с подержанным автомобилем': 486, 'на покупку подержанного автомобиля': 478, 'автомобили': 478, 'свой автомобиль': 478, 'на покупку автомобиля': 471, 'приобретение автомобиля': 461, 'дополнительное образование': 460, 'сделка с автомобилем': 455, 'высшее образование': 452, 'образование': 447, 'получение дополнительного образования': 446, 'получение образования': 442, 'профильное образование': 436, 'получение высшего образования': 426, 'заняться образованием': 408})\n"
     ]
    }
   ],
   "source": [
    "from collections import Counter\n",
    "print(Counter(data['purpose'])) "
   ]
  },
  {
   "cell_type": "code",
   "execution_count": 19,
   "metadata": {},
   "outputs": [
    {
     "data": {
      "text/plain": [
       "свадьба                                   791\n",
       "на проведение свадьбы                     768\n",
       "сыграть свадьбу                           765\n",
       "операции с недвижимостью                  675\n",
       "покупка коммерческой недвижимости         661\n",
       "операции с жильем                         652\n",
       "покупка жилья для сдачи                   651\n",
       "операции с коммерческой недвижимостью     650\n",
       "покупка жилья                             646\n",
       "жилье                                     646\n",
       "покупка жилья для семьи                   638\n",
       "строительство собственной недвижимости    635\n",
       "недвижимость                              633\n",
       "операции со своей недвижимостью           627\n",
       "строительство жилой недвижимости          624\n",
       "покупка недвижимости                      621\n",
       "покупка своего жилья                      620\n",
       "строительство недвижимости                619\n",
       "ремонт жилью                              607\n",
       "покупка жилой недвижимости                606\n",
       "на покупку своего автомобиля              505\n",
       "заняться высшим образованием              496\n",
       "автомобиль                                494\n",
       "сделка с подержанным автомобилем          486\n",
       "автомобили                                478\n",
       "свой автомобиль                           478\n",
       "на покупку подержанного автомобиля        478\n",
       "на покупку автомобиля                     471\n",
       "приобретение автомобиля                   461\n",
       "дополнительное образование                460\n",
       "сделка с автомобилем                      455\n",
       "высшее образование                        452\n",
       "образование                               447\n",
       "получение дополнительного образования     446\n",
       "получение образования                     442\n",
       "профильное образование                    436\n",
       "получение высшего образования             426\n",
       "заняться образованием                     408\n",
       "Name: purpose, dtype: int64"
      ]
     },
     "execution_count": 19,
     "metadata": {},
     "output_type": "execute_result"
    }
   ],
   "source": [
    "data['purpose'].value_counts() #посмотрим на цели кредита"
   ]
  },
  {
   "cell_type": "markdown",
   "metadata": {},
   "source": [
    "Среди целей кредита выделяются четыре направления:  \n",
    "+ свадьба\n",
    "+ недвижимость, жилье\n",
    "+ автомобиль\n",
    "+ образование"
   ]
  },
  {
   "cell_type": "code",
   "execution_count": 20,
   "metadata": {},
   "outputs": [],
   "source": [
    "def lemmatization (purpose): #зададим группы целей для получения кредита\n",
    "              \n",
    "    lemma = m.lemmatize(purpose) \n",
    "\n",
    "    if ('недвижимость' in lemma) or ('жилье' in lemma):\n",
    "        lemma_name = 'недвижимость'\n",
    "        return lemma_name\n",
    "    \n",
    "    elif 'свадьба' in lemma:\n",
    "        lemma_name = 'свадьба'\n",
    "        return lemma_name\n",
    "     \n",
    "    elif 'автомобиль' in lemma:\n",
    "        lemma_name = 'автомобиль'\n",
    "        return lemma_name\n",
    "   \n",
    "    else:\n",
    "        lemma_name = 'образование'\n",
    "        return lemma_name"
   ]
  },
  {
   "cell_type": "code",
   "execution_count": 21,
   "metadata": {},
   "outputs": [],
   "source": [
    "lemma_purpose = data['purpose'].apply(lemmatization)\n",
    "#берём значения столбца датафрейма и применяем к ним функцию со своим аргументом"
   ]
  },
  {
   "cell_type": "code",
   "execution_count": 22,
   "metadata": {},
   "outputs": [],
   "source": [
    "data['purpose'] = lemma_purpose #возвращаем в датафрейм значения целей кредита"
   ]
  },
  {
   "cell_type": "code",
   "execution_count": 23,
   "metadata": {
    "scrolled": true
   },
   "outputs": [
    {
     "data": {
      "text/html": [
       "<div>\n",
       "<style scoped>\n",
       "    .dataframe tbody tr th:only-of-type {\n",
       "        vertical-align: middle;\n",
       "    }\n",
       "\n",
       "    .dataframe tbody tr th {\n",
       "        vertical-align: top;\n",
       "    }\n",
       "\n",
       "    .dataframe thead th {\n",
       "        text-align: right;\n",
       "    }\n",
       "</style>\n",
       "<table border=\"1\" class=\"dataframe\">\n",
       "  <thead>\n",
       "    <tr style=\"text-align: right;\">\n",
       "      <th></th>\n",
       "      <th>children</th>\n",
       "      <th>days_employed</th>\n",
       "      <th>dob_years</th>\n",
       "      <th>education</th>\n",
       "      <th>education_id</th>\n",
       "      <th>family_status</th>\n",
       "      <th>family_status_id</th>\n",
       "      <th>gender</th>\n",
       "      <th>income_type</th>\n",
       "      <th>debt</th>\n",
       "      <th>total_income</th>\n",
       "      <th>purpose</th>\n",
       "    </tr>\n",
       "  </thead>\n",
       "  <tbody>\n",
       "    <tr>\n",
       "      <td>0</td>\n",
       "      <td>1</td>\n",
       "      <td>-8437.673028</td>\n",
       "      <td>42</td>\n",
       "      <td>высшее</td>\n",
       "      <td>0</td>\n",
       "      <td>женат / замужем</td>\n",
       "      <td>0</td>\n",
       "      <td>F</td>\n",
       "      <td>сотрудник</td>\n",
       "      <td>0</td>\n",
       "      <td>253875</td>\n",
       "      <td>недвижимость</td>\n",
       "    </tr>\n",
       "    <tr>\n",
       "      <td>1</td>\n",
       "      <td>1</td>\n",
       "      <td>-4024.803754</td>\n",
       "      <td>36</td>\n",
       "      <td>среднее</td>\n",
       "      <td>1</td>\n",
       "      <td>женат / замужем</td>\n",
       "      <td>0</td>\n",
       "      <td>F</td>\n",
       "      <td>сотрудник</td>\n",
       "      <td>0</td>\n",
       "      <td>112080</td>\n",
       "      <td>автомобиль</td>\n",
       "    </tr>\n",
       "    <tr>\n",
       "      <td>2</td>\n",
       "      <td>0</td>\n",
       "      <td>-5623.422610</td>\n",
       "      <td>33</td>\n",
       "      <td>среднее</td>\n",
       "      <td>1</td>\n",
       "      <td>женат / замужем</td>\n",
       "      <td>0</td>\n",
       "      <td>M</td>\n",
       "      <td>сотрудник</td>\n",
       "      <td>0</td>\n",
       "      <td>145885</td>\n",
       "      <td>недвижимость</td>\n",
       "    </tr>\n",
       "    <tr>\n",
       "      <td>3</td>\n",
       "      <td>3</td>\n",
       "      <td>-4124.747207</td>\n",
       "      <td>32</td>\n",
       "      <td>среднее</td>\n",
       "      <td>1</td>\n",
       "      <td>женат / замужем</td>\n",
       "      <td>0</td>\n",
       "      <td>M</td>\n",
       "      <td>сотрудник</td>\n",
       "      <td>0</td>\n",
       "      <td>267628</td>\n",
       "      <td>образование</td>\n",
       "    </tr>\n",
       "    <tr>\n",
       "      <td>4</td>\n",
       "      <td>0</td>\n",
       "      <td>340266.072047</td>\n",
       "      <td>53</td>\n",
       "      <td>среднее</td>\n",
       "      <td>1</td>\n",
       "      <td>гражданский брак</td>\n",
       "      <td>1</td>\n",
       "      <td>F</td>\n",
       "      <td>пенсионер</td>\n",
       "      <td>0</td>\n",
       "      <td>158616</td>\n",
       "      <td>свадьба</td>\n",
       "    </tr>\n",
       "    <tr>\n",
       "      <td>5</td>\n",
       "      <td>0</td>\n",
       "      <td>-926.185831</td>\n",
       "      <td>27</td>\n",
       "      <td>высшее</td>\n",
       "      <td>0</td>\n",
       "      <td>гражданский брак</td>\n",
       "      <td>1</td>\n",
       "      <td>M</td>\n",
       "      <td>компаньон</td>\n",
       "      <td>0</td>\n",
       "      <td>255763</td>\n",
       "      <td>недвижимость</td>\n",
       "    </tr>\n",
       "    <tr>\n",
       "      <td>6</td>\n",
       "      <td>0</td>\n",
       "      <td>-2879.202052</td>\n",
       "      <td>43</td>\n",
       "      <td>высшее</td>\n",
       "      <td>0</td>\n",
       "      <td>женат / замужем</td>\n",
       "      <td>0</td>\n",
       "      <td>F</td>\n",
       "      <td>компаньон</td>\n",
       "      <td>0</td>\n",
       "      <td>240525</td>\n",
       "      <td>недвижимость</td>\n",
       "    </tr>\n",
       "    <tr>\n",
       "      <td>7</td>\n",
       "      <td>0</td>\n",
       "      <td>-152.779569</td>\n",
       "      <td>50</td>\n",
       "      <td>среднее</td>\n",
       "      <td>1</td>\n",
       "      <td>женат / замужем</td>\n",
       "      <td>0</td>\n",
       "      <td>M</td>\n",
       "      <td>сотрудник</td>\n",
       "      <td>0</td>\n",
       "      <td>135823</td>\n",
       "      <td>образование</td>\n",
       "    </tr>\n",
       "    <tr>\n",
       "      <td>8</td>\n",
       "      <td>2</td>\n",
       "      <td>-6929.865299</td>\n",
       "      <td>35</td>\n",
       "      <td>высшее</td>\n",
       "      <td>0</td>\n",
       "      <td>гражданский брак</td>\n",
       "      <td>1</td>\n",
       "      <td>F</td>\n",
       "      <td>сотрудник</td>\n",
       "      <td>0</td>\n",
       "      <td>95856</td>\n",
       "      <td>свадьба</td>\n",
       "    </tr>\n",
       "    <tr>\n",
       "      <td>9</td>\n",
       "      <td>0</td>\n",
       "      <td>-2188.756445</td>\n",
       "      <td>41</td>\n",
       "      <td>среднее</td>\n",
       "      <td>1</td>\n",
       "      <td>женат / замужем</td>\n",
       "      <td>0</td>\n",
       "      <td>M</td>\n",
       "      <td>сотрудник</td>\n",
       "      <td>0</td>\n",
       "      <td>144425</td>\n",
       "      <td>недвижимость</td>\n",
       "    </tr>\n",
       "  </tbody>\n",
       "</table>\n",
       "</div>"
      ],
      "text/plain": [
       "   children  days_employed  dob_years education  education_id  \\\n",
       "0         1   -8437.673028         42    высшее             0   \n",
       "1         1   -4024.803754         36   среднее             1   \n",
       "2         0   -5623.422610         33   среднее             1   \n",
       "3         3   -4124.747207         32   среднее             1   \n",
       "4         0  340266.072047         53   среднее             1   \n",
       "5         0    -926.185831         27    высшее             0   \n",
       "6         0   -2879.202052         43    высшее             0   \n",
       "7         0    -152.779569         50   среднее             1   \n",
       "8         2   -6929.865299         35    высшее             0   \n",
       "9         0   -2188.756445         41   среднее             1   \n",
       "\n",
       "      family_status  family_status_id gender income_type  debt  total_income  \\\n",
       "0   женат / замужем                 0      F   сотрудник     0        253875   \n",
       "1   женат / замужем                 0      F   сотрудник     0        112080   \n",
       "2   женат / замужем                 0      M   сотрудник     0        145885   \n",
       "3   женат / замужем                 0      M   сотрудник     0        267628   \n",
       "4  гражданский брак                 1      F   пенсионер     0        158616   \n",
       "5  гражданский брак                 1      M   компаньон     0        255763   \n",
       "6   женат / замужем                 0      F   компаньон     0        240525   \n",
       "7   женат / замужем                 0      M   сотрудник     0        135823   \n",
       "8  гражданский брак                 1      F   сотрудник     0         95856   \n",
       "9   женат / замужем                 0      M   сотрудник     0        144425   \n",
       "\n",
       "        purpose  \n",
       "0  недвижимость  \n",
       "1    автомобиль  \n",
       "2  недвижимость  \n",
       "3   образование  \n",
       "4       свадьба  \n",
       "5  недвижимость  \n",
       "6  недвижимость  \n",
       "7   образование  \n",
       "8       свадьба  \n",
       "9  недвижимость  "
      ]
     },
     "metadata": {},
     "output_type": "display_data"
    }
   ],
   "source": [
    "display(data.head(10))"
   ]
  },
  {
   "cell_type": "code",
   "execution_count": 24,
   "metadata": {},
   "outputs": [
    {
     "data": {
      "text/plain": [
       "недвижимость    10811\n",
       "автомобиль       4306\n",
       "образование      4013\n",
       "свадьба          2324\n",
       "Name: purpose, dtype: int64"
      ]
     },
     "metadata": {},
     "output_type": "display_data"
    }
   ],
   "source": [
    "display(data['purpose'].value_counts())"
   ]
  },
  {
   "cell_type": "code",
   "execution_count": 25,
   "metadata": {},
   "outputs": [
    {
     "data": {
      "text/plain": [
       "Counter({'недвижимость': 10811,\n",
       "         '\\n': 21454,\n",
       "         'автомобиль': 4306,\n",
       "         'образование': 4013,\n",
       "         'свадьба': 2324})"
      ]
     },
     "execution_count": 25,
     "metadata": {},
     "output_type": "execute_result"
    }
   ],
   "source": [
    "Counter(data['purpose'].apply(m.lemmatize).sum()) "
   ]
  },
  {
   "cell_type": "markdown",
   "metadata": {},
   "source": [
    "Попробуем найти **артефакты** в других столбцах."
   ]
  },
  {
   "cell_type": "code",
   "execution_count": 26,
   "metadata": {
    "scrolled": true
   },
   "outputs": [
    {
     "data": {
      "text/plain": [
       " 0     14091\n",
       " 1      4808\n",
       " 2      2052\n",
       " 3       330\n",
       " 20       76\n",
       "-1        47\n",
       " 4        41\n",
       " 5         9\n",
       "Name: children, dtype: int64"
      ]
     },
     "execution_count": 26,
     "metadata": {},
     "output_type": "execute_result"
    }
   ],
   "source": [
    "data['children'].value_counts() #посмотрим количество детей.\n",
    "#из .value_counts() видно что у 47 человек количество детей ошибочно записано с минусом"
   ]
  },
  {
   "cell_type": "code",
   "execution_count": 27,
   "metadata": {},
   "outputs": [
    {
     "data": {
      "text/plain": [
       "0    14091\n",
       "1     4855\n",
       "2     2128\n",
       "3      330\n",
       "4       41\n",
       "5        9\n",
       "Name: children, dtype: int64"
      ]
     },
     "execution_count": 27,
     "metadata": {},
     "output_type": "execute_result"
    }
   ],
   "source": [
    "data['children'] = data['children'].abs() #возьмем число детей по модулю чтобы исключить отрицательные значения\n",
    "#следующей опечаткой является число 20, врядли у 76 человек так много детей, скорей всего количество детей двое.\n",
    "data['children'] = data['children'].replace(20,2)\n",
    "\n",
    "data['children'].value_counts() #проверим"
   ]
  },
  {
   "cell_type": "code",
   "execution_count": 28,
   "metadata": {},
   "outputs": [
    {
     "data": {
      "text/plain": [
       "array([42, 36, 33, 32, 53, 27, 43, 50, 35, 41, 40, 65, 54, 56, 26, 48, 24,\n",
       "       21, 57, 67, 28, 63, 62, 47, 34, 68, 25, 31, 30, 20, 49, 37, 45, 61,\n",
       "       64, 44, 52, 46, 23, 38, 39, 51,  0, 59, 29, 60, 55, 58, 71, 22, 73,\n",
       "       66, 69, 19, 72, 70, 74, 75])"
      ]
     },
     "execution_count": 28,
     "metadata": {},
     "output_type": "execute_result"
    }
   ],
   "source": [
    "data['dob_years'].unique() #посмотрим значения возраста."
   ]
  },
  {
   "cell_type": "code",
   "execution_count": 29,
   "metadata": {},
   "outputs": [
    {
     "data": {
      "text/plain": [
       "array([42, 36, 33, 32, 53, 27, 43, 50, 35, 41, 40, 65, 54, 56, 26, 48, 24,\n",
       "       21, 57, 67, 28, 63, 62, 47, 34, 68, 25, 31, 30, 20, 49, 37, 45, 61,\n",
       "       64, 44, 52, 46, 23, 38, 39, 51, 59, 29, 60, 55, 58, 71, 22, 73, 66,\n",
       "       69, 19, 72, 70, 74, 75])"
      ]
     },
     "execution_count": 29,
     "metadata": {},
     "output_type": "execute_result"
    }
   ],
   "source": [
    "data=data.drop(data[data['dob_years']==0].index) #удаляем значение 0\n",
    "data['dob_years'].unique() #проверим"
   ]
  },
  {
   "cell_type": "code",
   "execution_count": 30,
   "metadata": {},
   "outputs": [
    {
     "data": {
      "text/plain": [
       "array([0, 1, 2, 3, 4])"
      ]
     },
     "execution_count": 30,
     "metadata": {},
     "output_type": "execute_result"
    }
   ],
   "source": [
    "data['education_id'].unique() #проверим идентификатор уровня образования"
   ]
  },
  {
   "cell_type": "markdown",
   "metadata": {},
   "source": [
    "Ничего особенного в этом столбце нет\n",
    "тоже самое со всеми оставшимися столбцами, кроме пола клиента"
   ]
  },
  {
   "cell_type": "code",
   "execution_count": 31,
   "metadata": {},
   "outputs": [
    {
     "data": {
      "text/plain": [
       "F      14102\n",
       "M       7250\n",
       "XNA        1\n",
       "Name: gender, dtype: int64"
      ]
     },
     "execution_count": 31,
     "metadata": {},
     "output_type": "execute_result"
    }
   ],
   "source": [
    "data['gender'].value_counts() #проверим пол клиента"
   ]
  },
  {
   "cell_type": "code",
   "execution_count": 32,
   "metadata": {},
   "outputs": [
    {
     "data": {
      "text/plain": [
       "array(['F', 'M'], dtype=object)"
      ]
     },
     "execution_count": 32,
     "metadata": {},
     "output_type": "execute_result"
    }
   ],
   "source": [
    "data=data.drop(data[data['gender']=='XNA'].index) #удалим \"средний род\" и перепроверим\n",
    "data['gender'].unique()"
   ]
  },
  {
   "cell_type": "markdown",
   "metadata": {},
   "source": [
    "**Вывод**"
   ]
  },
  {
   "cell_type": "markdown",
   "metadata": {},
   "source": [
    "Провели лемматизацию целей кредита, то есть выделили ключевые слова относящиееся к определенной категории кредита, а затем удалили оставшиеся огрехи таблицы, которые могли возникнуть при ошибочном введении данных."
   ]
  },
  {
   "cell_type": "markdown",
   "metadata": {},
   "source": [
    "### Категоризация данных"
   ]
  },
  {
   "cell_type": "code",
   "execution_count": 33,
   "metadata": {},
   "outputs": [
    {
     "data": {
      "text/html": [
       "<div>\n",
       "<style scoped>\n",
       "    .dataframe tbody tr th:only-of-type {\n",
       "        vertical-align: middle;\n",
       "    }\n",
       "\n",
       "    .dataframe tbody tr th {\n",
       "        vertical-align: top;\n",
       "    }\n",
       "\n",
       "    .dataframe thead th {\n",
       "        text-align: right;\n",
       "    }\n",
       "</style>\n",
       "<table border=\"1\" class=\"dataframe\">\n",
       "  <thead>\n",
       "    <tr style=\"text-align: right;\">\n",
       "      <th></th>\n",
       "      <th>children</th>\n",
       "      <th>days_employed</th>\n",
       "      <th>dob_years</th>\n",
       "      <th>education</th>\n",
       "      <th>education_id</th>\n",
       "      <th>family_status</th>\n",
       "      <th>family_status_id</th>\n",
       "      <th>gender</th>\n",
       "      <th>income_type</th>\n",
       "      <th>debt</th>\n",
       "      <th>total_income</th>\n",
       "      <th>purpose</th>\n",
       "    </tr>\n",
       "  </thead>\n",
       "  <tbody>\n",
       "    <tr>\n",
       "      <td>8307</td>\n",
       "      <td>0</td>\n",
       "      <td>-556.088508</td>\n",
       "      <td>19</td>\n",
       "      <td>среднее</td>\n",
       "      <td>1</td>\n",
       "      <td>Не женат / не замужем</td>\n",
       "      <td>4</td>\n",
       "      <td>F</td>\n",
       "      <td>сотрудник</td>\n",
       "      <td>0</td>\n",
       "      <td>68524</td>\n",
       "      <td>образование</td>\n",
       "    </tr>\n",
       "    <tr>\n",
       "      <td>4050</td>\n",
       "      <td>0</td>\n",
       "      <td>NaN</td>\n",
       "      <td>19</td>\n",
       "      <td>среднее</td>\n",
       "      <td>1</td>\n",
       "      <td>гражданский брак</td>\n",
       "      <td>1</td>\n",
       "      <td>M</td>\n",
       "      <td>сотрудник</td>\n",
       "      <td>0</td>\n",
       "      <td>161380</td>\n",
       "      <td>свадьба</td>\n",
       "    </tr>\n",
       "    <tr>\n",
       "      <td>15624</td>\n",
       "      <td>0</td>\n",
       "      <td>-948.225743</td>\n",
       "      <td>19</td>\n",
       "      <td>неоконченное высшее</td>\n",
       "      <td>2</td>\n",
       "      <td>гражданский брак</td>\n",
       "      <td>1</td>\n",
       "      <td>F</td>\n",
       "      <td>компаньон</td>\n",
       "      <td>0</td>\n",
       "      <td>167211</td>\n",
       "      <td>автомобиль</td>\n",
       "    </tr>\n",
       "    <tr>\n",
       "      <td>2725</td>\n",
       "      <td>0</td>\n",
       "      <td>-115.876036</td>\n",
       "      <td>19</td>\n",
       "      <td>среднее</td>\n",
       "      <td>1</td>\n",
       "      <td>Не женат / не замужем</td>\n",
       "      <td>4</td>\n",
       "      <td>F</td>\n",
       "      <td>компаньон</td>\n",
       "      <td>0</td>\n",
       "      <td>131967</td>\n",
       "      <td>недвижимость</td>\n",
       "    </tr>\n",
       "    <tr>\n",
       "      <td>12027</td>\n",
       "      <td>0</td>\n",
       "      <td>-1020.183130</td>\n",
       "      <td>19</td>\n",
       "      <td>среднее</td>\n",
       "      <td>1</td>\n",
       "      <td>Не женат / не замужем</td>\n",
       "      <td>4</td>\n",
       "      <td>M</td>\n",
       "      <td>сотрудник</td>\n",
       "      <td>1</td>\n",
       "      <td>93343</td>\n",
       "      <td>недвижимость</td>\n",
       "    </tr>\n",
       "    <tr>\n",
       "      <td>...</td>\n",
       "      <td>...</td>\n",
       "      <td>...</td>\n",
       "      <td>...</td>\n",
       "      <td>...</td>\n",
       "      <td>...</td>\n",
       "      <td>...</td>\n",
       "      <td>...</td>\n",
       "      <td>...</td>\n",
       "      <td>...</td>\n",
       "      <td>...</td>\n",
       "      <td>...</td>\n",
       "      <td>...</td>\n",
       "    </tr>\n",
       "    <tr>\n",
       "      <td>3458</td>\n",
       "      <td>0</td>\n",
       "      <td>344623.836105</td>\n",
       "      <td>74</td>\n",
       "      <td>среднее</td>\n",
       "      <td>1</td>\n",
       "      <td>женат / замужем</td>\n",
       "      <td>0</td>\n",
       "      <td>M</td>\n",
       "      <td>пенсионер</td>\n",
       "      <td>0</td>\n",
       "      <td>54754</td>\n",
       "      <td>недвижимость</td>\n",
       "    </tr>\n",
       "    <tr>\n",
       "      <td>12297</td>\n",
       "      <td>0</td>\n",
       "      <td>-1729.632531</td>\n",
       "      <td>74</td>\n",
       "      <td>среднее</td>\n",
       "      <td>1</td>\n",
       "      <td>женат / замужем</td>\n",
       "      <td>0</td>\n",
       "      <td>M</td>\n",
       "      <td>компаньон</td>\n",
       "      <td>0</td>\n",
       "      <td>124830</td>\n",
       "      <td>недвижимость</td>\n",
       "    </tr>\n",
       "    <tr>\n",
       "      <td>4891</td>\n",
       "      <td>0</td>\n",
       "      <td>341528.126150</td>\n",
       "      <td>74</td>\n",
       "      <td>высшее</td>\n",
       "      <td>0</td>\n",
       "      <td>женат / замужем</td>\n",
       "      <td>0</td>\n",
       "      <td>F</td>\n",
       "      <td>пенсионер</td>\n",
       "      <td>0</td>\n",
       "      <td>134935</td>\n",
       "      <td>недвижимость</td>\n",
       "    </tr>\n",
       "    <tr>\n",
       "      <td>2557</td>\n",
       "      <td>0</td>\n",
       "      <td>372861.103965</td>\n",
       "      <td>74</td>\n",
       "      <td>среднее</td>\n",
       "      <td>1</td>\n",
       "      <td>женат / замужем</td>\n",
       "      <td>0</td>\n",
       "      <td>F</td>\n",
       "      <td>пенсионер</td>\n",
       "      <td>0</td>\n",
       "      <td>42927</td>\n",
       "      <td>автомобиль</td>\n",
       "    </tr>\n",
       "    <tr>\n",
       "      <td>8870</td>\n",
       "      <td>0</td>\n",
       "      <td>-1678.969771</td>\n",
       "      <td>75</td>\n",
       "      <td>среднее</td>\n",
       "      <td>1</td>\n",
       "      <td>вдовец / вдова</td>\n",
       "      <td>2</td>\n",
       "      <td>F</td>\n",
       "      <td>госслужащий</td>\n",
       "      <td>0</td>\n",
       "      <td>153282</td>\n",
       "      <td>образование</td>\n",
       "    </tr>\n",
       "  </tbody>\n",
       "</table>\n",
       "<p>21352 rows × 12 columns</p>\n",
       "</div>"
      ],
      "text/plain": [
       "       children  days_employed  dob_years            education  education_id  \\\n",
       "8307          0    -556.088508         19              среднее             1   \n",
       "4050          0            NaN         19              среднее             1   \n",
       "15624         0    -948.225743         19  неоконченное высшее             2   \n",
       "2725          0    -115.876036         19              среднее             1   \n",
       "12027         0   -1020.183130         19              среднее             1   \n",
       "...         ...            ...        ...                  ...           ...   \n",
       "3458          0  344623.836105         74              среднее             1   \n",
       "12297         0   -1729.632531         74              среднее             1   \n",
       "4891          0  341528.126150         74               высшее             0   \n",
       "2557          0  372861.103965         74              среднее             1   \n",
       "8870          0   -1678.969771         75              среднее             1   \n",
       "\n",
       "               family_status  family_status_id gender  income_type  debt  \\\n",
       "8307   Не женат / не замужем                 4      F    сотрудник     0   \n",
       "4050        гражданский брак                 1      M    сотрудник     0   \n",
       "15624       гражданский брак                 1      F    компаньон     0   \n",
       "2725   Не женат / не замужем                 4      F    компаньон     0   \n",
       "12027  Не женат / не замужем                 4      M    сотрудник     1   \n",
       "...                      ...               ...    ...          ...   ...   \n",
       "3458         женат / замужем                 0      M    пенсионер     0   \n",
       "12297        женат / замужем                 0      M    компаньон     0   \n",
       "4891         женат / замужем                 0      F    пенсионер     0   \n",
       "2557         женат / замужем                 0      F    пенсионер     0   \n",
       "8870          вдовец / вдова                 2      F  госслужащий     0   \n",
       "\n",
       "       total_income       purpose  \n",
       "8307          68524   образование  \n",
       "4050         161380       свадьба  \n",
       "15624        167211    автомобиль  \n",
       "2725         131967  недвижимость  \n",
       "12027         93343  недвижимость  \n",
       "...             ...           ...  \n",
       "3458          54754  недвижимость  \n",
       "12297        124830  недвижимость  \n",
       "4891         134935  недвижимость  \n",
       "2557          42927    автомобиль  \n",
       "8870         153282   образование  \n",
       "\n",
       "[21352 rows x 12 columns]"
      ]
     },
     "execution_count": 33,
     "metadata": {},
     "output_type": "execute_result"
    }
   ],
   "source": [
    "data.sort_values(by = 'dob_years') #отсортируем данные по возрасту заемщиков\n",
    "#минимальный возраст 19 лет, а максимальный 75"
   ]
  },
  {
   "cell_type": "code",
   "execution_count": 34,
   "metadata": {},
   "outputs": [],
   "source": [
    "def age_group(age): #разобьем заемщиков по возрастам\n",
    "        \n",
    "    if 19 <= age <= 30:\n",
    "        return 'молодые'\n",
    "\n",
    "    if 31 <= age <=59:\n",
    "        return 'взрослые'\n",
    "\n",
    "    return 'пенсионеры' \n"
   ]
  },
  {
   "cell_type": "code",
   "execution_count": 35,
   "metadata": {
    "scrolled": true
   },
   "outputs": [
    {
     "data": {
      "text/plain": [
       "'взрослые'"
      ]
     },
     "execution_count": 35,
     "metadata": {},
     "output_type": "execute_result"
    }
   ],
   "source": [
    "age_group(38) #проверим работоспособность функции\n"
   ]
  },
  {
   "cell_type": "code",
   "execution_count": 36,
   "metadata": {},
   "outputs": [],
   "source": [
    "data['dob_years'] = data['dob_years'].apply(age_group) #применим функцию к столбцу с возрастом с помощью метода apply()"
   ]
  },
  {
   "cell_type": "code",
   "execution_count": 37,
   "metadata": {},
   "outputs": [
    {
     "data": {
      "text/plain": [
       "взрослые      15136\n",
       "молодые        3716\n",
       "пенсионеры     2500\n",
       "Name: dob_years, dtype: int64"
      ]
     },
     "execution_count": 37,
     "metadata": {},
     "output_type": "execute_result"
    }
   ],
   "source": [
    "data['dob_years'].value_counts() #количество людей в возрастных группах"
   ]
  },
  {
   "cell_type": "code",
   "execution_count": 38,
   "metadata": {
    "scrolled": true
   },
   "outputs": [
    {
     "data": {
      "text/html": [
       "<div>\n",
       "<style scoped>\n",
       "    .dataframe tbody tr th:only-of-type {\n",
       "        vertical-align: middle;\n",
       "    }\n",
       "\n",
       "    .dataframe tbody tr th {\n",
       "        vertical-align: top;\n",
       "    }\n",
       "\n",
       "    .dataframe thead th {\n",
       "        text-align: right;\n",
       "    }\n",
       "</style>\n",
       "<table border=\"1\" class=\"dataframe\">\n",
       "  <thead>\n",
       "    <tr style=\"text-align: right;\">\n",
       "      <th></th>\n",
       "      <th>children</th>\n",
       "      <th>days_employed</th>\n",
       "      <th>dob_years</th>\n",
       "      <th>education</th>\n",
       "      <th>education_id</th>\n",
       "      <th>family_status</th>\n",
       "      <th>family_status_id</th>\n",
       "      <th>gender</th>\n",
       "      <th>income_type</th>\n",
       "      <th>debt</th>\n",
       "      <th>total_income</th>\n",
       "      <th>purpose</th>\n",
       "    </tr>\n",
       "  </thead>\n",
       "  <tbody>\n",
       "    <tr>\n",
       "      <td>0</td>\n",
       "      <td>1</td>\n",
       "      <td>-8437.673028</td>\n",
       "      <td>взрослые</td>\n",
       "      <td>высшее</td>\n",
       "      <td>0</td>\n",
       "      <td>женат / замужем</td>\n",
       "      <td>0</td>\n",
       "      <td>F</td>\n",
       "      <td>сотрудник</td>\n",
       "      <td>0</td>\n",
       "      <td>253875</td>\n",
       "      <td>недвижимость</td>\n",
       "    </tr>\n",
       "    <tr>\n",
       "      <td>1</td>\n",
       "      <td>1</td>\n",
       "      <td>-4024.803754</td>\n",
       "      <td>взрослые</td>\n",
       "      <td>среднее</td>\n",
       "      <td>1</td>\n",
       "      <td>женат / замужем</td>\n",
       "      <td>0</td>\n",
       "      <td>F</td>\n",
       "      <td>сотрудник</td>\n",
       "      <td>0</td>\n",
       "      <td>112080</td>\n",
       "      <td>автомобиль</td>\n",
       "    </tr>\n",
       "    <tr>\n",
       "      <td>2</td>\n",
       "      <td>0</td>\n",
       "      <td>-5623.422610</td>\n",
       "      <td>взрослые</td>\n",
       "      <td>среднее</td>\n",
       "      <td>1</td>\n",
       "      <td>женат / замужем</td>\n",
       "      <td>0</td>\n",
       "      <td>M</td>\n",
       "      <td>сотрудник</td>\n",
       "      <td>0</td>\n",
       "      <td>145885</td>\n",
       "      <td>недвижимость</td>\n",
       "    </tr>\n",
       "    <tr>\n",
       "      <td>3</td>\n",
       "      <td>3</td>\n",
       "      <td>-4124.747207</td>\n",
       "      <td>взрослые</td>\n",
       "      <td>среднее</td>\n",
       "      <td>1</td>\n",
       "      <td>женат / замужем</td>\n",
       "      <td>0</td>\n",
       "      <td>M</td>\n",
       "      <td>сотрудник</td>\n",
       "      <td>0</td>\n",
       "      <td>267628</td>\n",
       "      <td>образование</td>\n",
       "    </tr>\n",
       "    <tr>\n",
       "      <td>4</td>\n",
       "      <td>0</td>\n",
       "      <td>340266.072047</td>\n",
       "      <td>взрослые</td>\n",
       "      <td>среднее</td>\n",
       "      <td>1</td>\n",
       "      <td>гражданский брак</td>\n",
       "      <td>1</td>\n",
       "      <td>F</td>\n",
       "      <td>пенсионер</td>\n",
       "      <td>0</td>\n",
       "      <td>158616</td>\n",
       "      <td>свадьба</td>\n",
       "    </tr>\n",
       "    <tr>\n",
       "      <td>...</td>\n",
       "      <td>...</td>\n",
       "      <td>...</td>\n",
       "      <td>...</td>\n",
       "      <td>...</td>\n",
       "      <td>...</td>\n",
       "      <td>...</td>\n",
       "      <td>...</td>\n",
       "      <td>...</td>\n",
       "      <td>...</td>\n",
       "      <td>...</td>\n",
       "      <td>...</td>\n",
       "      <td>...</td>\n",
       "    </tr>\n",
       "    <tr>\n",
       "      <td>21449</td>\n",
       "      <td>1</td>\n",
       "      <td>-4529.316663</td>\n",
       "      <td>взрослые</td>\n",
       "      <td>среднее</td>\n",
       "      <td>1</td>\n",
       "      <td>гражданский брак</td>\n",
       "      <td>1</td>\n",
       "      <td>F</td>\n",
       "      <td>компаньон</td>\n",
       "      <td>0</td>\n",
       "      <td>224791</td>\n",
       "      <td>недвижимость</td>\n",
       "    </tr>\n",
       "    <tr>\n",
       "      <td>21450</td>\n",
       "      <td>0</td>\n",
       "      <td>343937.404131</td>\n",
       "      <td>пенсионеры</td>\n",
       "      <td>среднее</td>\n",
       "      <td>1</td>\n",
       "      <td>женат / замужем</td>\n",
       "      <td>0</td>\n",
       "      <td>F</td>\n",
       "      <td>пенсионер</td>\n",
       "      <td>0</td>\n",
       "      <td>155999</td>\n",
       "      <td>автомобиль</td>\n",
       "    </tr>\n",
       "    <tr>\n",
       "      <td>21451</td>\n",
       "      <td>1</td>\n",
       "      <td>-2113.346888</td>\n",
       "      <td>взрослые</td>\n",
       "      <td>среднее</td>\n",
       "      <td>1</td>\n",
       "      <td>гражданский брак</td>\n",
       "      <td>1</td>\n",
       "      <td>M</td>\n",
       "      <td>сотрудник</td>\n",
       "      <td>1</td>\n",
       "      <td>89672</td>\n",
       "      <td>недвижимость</td>\n",
       "    </tr>\n",
       "    <tr>\n",
       "      <td>21452</td>\n",
       "      <td>3</td>\n",
       "      <td>-3112.481705</td>\n",
       "      <td>взрослые</td>\n",
       "      <td>среднее</td>\n",
       "      <td>1</td>\n",
       "      <td>женат / замужем</td>\n",
       "      <td>0</td>\n",
       "      <td>M</td>\n",
       "      <td>сотрудник</td>\n",
       "      <td>1</td>\n",
       "      <td>244093</td>\n",
       "      <td>автомобиль</td>\n",
       "    </tr>\n",
       "    <tr>\n",
       "      <td>21453</td>\n",
       "      <td>2</td>\n",
       "      <td>-1984.507589</td>\n",
       "      <td>взрослые</td>\n",
       "      <td>среднее</td>\n",
       "      <td>1</td>\n",
       "      <td>женат / замужем</td>\n",
       "      <td>0</td>\n",
       "      <td>F</td>\n",
       "      <td>сотрудник</td>\n",
       "      <td>0</td>\n",
       "      <td>82047</td>\n",
       "      <td>автомобиль</td>\n",
       "    </tr>\n",
       "  </tbody>\n",
       "</table>\n",
       "<p>21352 rows × 12 columns</p>\n",
       "</div>"
      ],
      "text/plain": [
       "       children  days_employed   dob_years education  education_id  \\\n",
       "0             1   -8437.673028    взрослые    высшее             0   \n",
       "1             1   -4024.803754    взрослые   среднее             1   \n",
       "2             0   -5623.422610    взрослые   среднее             1   \n",
       "3             3   -4124.747207    взрослые   среднее             1   \n",
       "4             0  340266.072047    взрослые   среднее             1   \n",
       "...         ...            ...         ...       ...           ...   \n",
       "21449         1   -4529.316663    взрослые   среднее             1   \n",
       "21450         0  343937.404131  пенсионеры   среднее             1   \n",
       "21451         1   -2113.346888    взрослые   среднее             1   \n",
       "21452         3   -3112.481705    взрослые   среднее             1   \n",
       "21453         2   -1984.507589    взрослые   среднее             1   \n",
       "\n",
       "          family_status  family_status_id gender income_type  debt  \\\n",
       "0       женат / замужем                 0      F   сотрудник     0   \n",
       "1       женат / замужем                 0      F   сотрудник     0   \n",
       "2       женат / замужем                 0      M   сотрудник     0   \n",
       "3       женат / замужем                 0      M   сотрудник     0   \n",
       "4      гражданский брак                 1      F   пенсионер     0   \n",
       "...                 ...               ...    ...         ...   ...   \n",
       "21449  гражданский брак                 1      F   компаньон     0   \n",
       "21450   женат / замужем                 0      F   пенсионер     0   \n",
       "21451  гражданский брак                 1      M   сотрудник     1   \n",
       "21452   женат / замужем                 0      M   сотрудник     1   \n",
       "21453   женат / замужем                 0      F   сотрудник     0   \n",
       "\n",
       "       total_income       purpose  \n",
       "0            253875  недвижимость  \n",
       "1            112080    автомобиль  \n",
       "2            145885  недвижимость  \n",
       "3            267628   образование  \n",
       "4            158616       свадьба  \n",
       "...             ...           ...  \n",
       "21449        224791  недвижимость  \n",
       "21450        155999    автомобиль  \n",
       "21451         89672  недвижимость  \n",
       "21452        244093    автомобиль  \n",
       "21453         82047    автомобиль  \n",
       "\n",
       "[21352 rows x 12 columns]"
      ]
     },
     "metadata": {},
     "output_type": "display_data"
    }
   ],
   "source": [
    "display(data)"
   ]
  },
  {
   "cell_type": "code",
   "execution_count": 39,
   "metadata": {},
   "outputs": [
    {
     "data": {
      "text/html": [
       "<div>\n",
       "<style scoped>\n",
       "    .dataframe tbody tr th:only-of-type {\n",
       "        vertical-align: middle;\n",
       "    }\n",
       "\n",
       "    .dataframe tbody tr th {\n",
       "        vertical-align: top;\n",
       "    }\n",
       "\n",
       "    .dataframe thead th {\n",
       "        text-align: right;\n",
       "    }\n",
       "</style>\n",
       "<table border=\"1\" class=\"dataframe\">\n",
       "  <thead>\n",
       "    <tr style=\"text-align: right;\">\n",
       "      <th></th>\n",
       "      <th>children</th>\n",
       "      <th>days_employed</th>\n",
       "      <th>dob_years</th>\n",
       "      <th>education</th>\n",
       "      <th>education_id</th>\n",
       "      <th>family_status</th>\n",
       "      <th>family_status_id</th>\n",
       "      <th>gender</th>\n",
       "      <th>income_type</th>\n",
       "      <th>debt</th>\n",
       "      <th>total_income</th>\n",
       "      <th>purpose</th>\n",
       "    </tr>\n",
       "  </thead>\n",
       "  <tbody>\n",
       "    <tr>\n",
       "      <td>14555</td>\n",
       "      <td>0</td>\n",
       "      <td>359219.059341</td>\n",
       "      <td>взрослые</td>\n",
       "      <td>среднее</td>\n",
       "      <td>1</td>\n",
       "      <td>женат / замужем</td>\n",
       "      <td>0</td>\n",
       "      <td>F</td>\n",
       "      <td>пенсионер</td>\n",
       "      <td>1</td>\n",
       "      <td>20667</td>\n",
       "      <td>недвижимость</td>\n",
       "    </tr>\n",
       "    <tr>\n",
       "      <td>12983</td>\n",
       "      <td>0</td>\n",
       "      <td>369708.589113</td>\n",
       "      <td>взрослые</td>\n",
       "      <td>среднее</td>\n",
       "      <td>1</td>\n",
       "      <td>гражданский брак</td>\n",
       "      <td>1</td>\n",
       "      <td>M</td>\n",
       "      <td>пенсионер</td>\n",
       "      <td>0</td>\n",
       "      <td>21205</td>\n",
       "      <td>образование</td>\n",
       "    </tr>\n",
       "    <tr>\n",
       "      <td>16138</td>\n",
       "      <td>1</td>\n",
       "      <td>-3642.820023</td>\n",
       "      <td>взрослые</td>\n",
       "      <td>среднее</td>\n",
       "      <td>1</td>\n",
       "      <td>женат / замужем</td>\n",
       "      <td>0</td>\n",
       "      <td>M</td>\n",
       "      <td>сотрудник</td>\n",
       "      <td>0</td>\n",
       "      <td>21367</td>\n",
       "      <td>автомобиль</td>\n",
       "    </tr>\n",
       "    <tr>\n",
       "      <td>1598</td>\n",
       "      <td>0</td>\n",
       "      <td>359726.104207</td>\n",
       "      <td>пенсионеры</td>\n",
       "      <td>среднее</td>\n",
       "      <td>1</td>\n",
       "      <td>гражданский брак</td>\n",
       "      <td>1</td>\n",
       "      <td>M</td>\n",
       "      <td>пенсионер</td>\n",
       "      <td>0</td>\n",
       "      <td>21695</td>\n",
       "      <td>свадьба</td>\n",
       "    </tr>\n",
       "    <tr>\n",
       "      <td>14247</td>\n",
       "      <td>0</td>\n",
       "      <td>346602.453782</td>\n",
       "      <td>пенсионеры</td>\n",
       "      <td>среднее</td>\n",
       "      <td>1</td>\n",
       "      <td>женат / замужем</td>\n",
       "      <td>0</td>\n",
       "      <td>F</td>\n",
       "      <td>пенсионер</td>\n",
       "      <td>0</td>\n",
       "      <td>21895</td>\n",
       "      <td>недвижимость</td>\n",
       "    </tr>\n",
       "    <tr>\n",
       "      <td>...</td>\n",
       "      <td>...</td>\n",
       "      <td>...</td>\n",
       "      <td>...</td>\n",
       "      <td>...</td>\n",
       "      <td>...</td>\n",
       "      <td>...</td>\n",
       "      <td>...</td>\n",
       "      <td>...</td>\n",
       "      <td>...</td>\n",
       "      <td>...</td>\n",
       "      <td>...</td>\n",
       "      <td>...</td>\n",
       "    </tr>\n",
       "    <tr>\n",
       "      <td>17137</td>\n",
       "      <td>0</td>\n",
       "      <td>-5734.127087</td>\n",
       "      <td>взрослые</td>\n",
       "      <td>высшее</td>\n",
       "      <td>0</td>\n",
       "      <td>гражданский брак</td>\n",
       "      <td>1</td>\n",
       "      <td>M</td>\n",
       "      <td>компаньон</td>\n",
       "      <td>0</td>\n",
       "      <td>1711309</td>\n",
       "      <td>свадьба</td>\n",
       "    </tr>\n",
       "    <tr>\n",
       "      <td>20742</td>\n",
       "      <td>0</td>\n",
       "      <td>-4719.273476</td>\n",
       "      <td>пенсионеры</td>\n",
       "      <td>среднее</td>\n",
       "      <td>1</td>\n",
       "      <td>Не женат / не замужем</td>\n",
       "      <td>4</td>\n",
       "      <td>F</td>\n",
       "      <td>сотрудник</td>\n",
       "      <td>0</td>\n",
       "      <td>1715018</td>\n",
       "      <td>недвижимость</td>\n",
       "    </tr>\n",
       "    <tr>\n",
       "      <td>9159</td>\n",
       "      <td>1</td>\n",
       "      <td>-5248.554336</td>\n",
       "      <td>взрослые</td>\n",
       "      <td>среднее</td>\n",
       "      <td>1</td>\n",
       "      <td>гражданский брак</td>\n",
       "      <td>1</td>\n",
       "      <td>M</td>\n",
       "      <td>сотрудник</td>\n",
       "      <td>0</td>\n",
       "      <td>1726276</td>\n",
       "      <td>образование</td>\n",
       "    </tr>\n",
       "    <tr>\n",
       "      <td>19548</td>\n",
       "      <td>1</td>\n",
       "      <td>-2577.664662</td>\n",
       "      <td>взрослые</td>\n",
       "      <td>высшее</td>\n",
       "      <td>0</td>\n",
       "      <td>женат / замужем</td>\n",
       "      <td>0</td>\n",
       "      <td>M</td>\n",
       "      <td>компаньон</td>\n",
       "      <td>1</td>\n",
       "      <td>2200852</td>\n",
       "      <td>недвижимость</td>\n",
       "    </tr>\n",
       "    <tr>\n",
       "      <td>12390</td>\n",
       "      <td>0</td>\n",
       "      <td>-1477.438114</td>\n",
       "      <td>взрослые</td>\n",
       "      <td>высшее</td>\n",
       "      <td>0</td>\n",
       "      <td>женат / замужем</td>\n",
       "      <td>0</td>\n",
       "      <td>M</td>\n",
       "      <td>компаньон</td>\n",
       "      <td>0</td>\n",
       "      <td>2265604</td>\n",
       "      <td>недвижимость</td>\n",
       "    </tr>\n",
       "  </tbody>\n",
       "</table>\n",
       "<p>21352 rows × 12 columns</p>\n",
       "</div>"
      ],
      "text/plain": [
       "       children  days_employed   dob_years education  education_id  \\\n",
       "14555         0  359219.059341    взрослые   среднее             1   \n",
       "12983         0  369708.589113    взрослые   среднее             1   \n",
       "16138         1   -3642.820023    взрослые   среднее             1   \n",
       "1598          0  359726.104207  пенсионеры   среднее             1   \n",
       "14247         0  346602.453782  пенсионеры   среднее             1   \n",
       "...         ...            ...         ...       ...           ...   \n",
       "17137         0   -5734.127087    взрослые    высшее             0   \n",
       "20742         0   -4719.273476  пенсионеры   среднее             1   \n",
       "9159          1   -5248.554336    взрослые   среднее             1   \n",
       "19548         1   -2577.664662    взрослые    высшее             0   \n",
       "12390         0   -1477.438114    взрослые    высшее             0   \n",
       "\n",
       "               family_status  family_status_id gender income_type  debt  \\\n",
       "14555        женат / замужем                 0      F   пенсионер     1   \n",
       "12983       гражданский брак                 1      M   пенсионер     0   \n",
       "16138        женат / замужем                 0      M   сотрудник     0   \n",
       "1598        гражданский брак                 1      M   пенсионер     0   \n",
       "14247        женат / замужем                 0      F   пенсионер     0   \n",
       "...                      ...               ...    ...         ...   ...   \n",
       "17137       гражданский брак                 1      M   компаньон     0   \n",
       "20742  Не женат / не замужем                 4      F   сотрудник     0   \n",
       "9159        гражданский брак                 1      M   сотрудник     0   \n",
       "19548        женат / замужем                 0      M   компаньон     1   \n",
       "12390        женат / замужем                 0      M   компаньон     0   \n",
       "\n",
       "       total_income       purpose  \n",
       "14555         20667  недвижимость  \n",
       "12983         21205   образование  \n",
       "16138         21367    автомобиль  \n",
       "1598          21695       свадьба  \n",
       "14247         21895  недвижимость  \n",
       "...             ...           ...  \n",
       "17137       1711309       свадьба  \n",
       "20742       1715018  недвижимость  \n",
       "9159        1726276   образование  \n",
       "19548       2200852  недвижимость  \n",
       "12390       2265604  недвижимость  \n",
       "\n",
       "[21352 rows x 12 columns]"
      ]
     },
     "execution_count": 39,
     "metadata": {},
     "output_type": "execute_result"
    }
   ],
   "source": [
    "data.sort_values(by = 'total_income') #отсортируем заемщиков по уровню дохода"
   ]
  },
  {
   "cell_type": "markdown",
   "metadata": {},
   "source": [
    "Из таблицы видно, что доход лежит в интервале от 20 тысяч до 2,2 млн руб."
   ]
  },
  {
   "cell_type": "code",
   "execution_count": 40,
   "metadata": {},
   "outputs": [],
   "source": [
    "def total_income_group(income): #разобьем заемщиков по уровню дохода\n",
    "        \n",
    "    if 20000 <= income <= 50000:\n",
    "        return 'низкий'\n",
    "\n",
    "    if 50001 <= income <=120000:\n",
    "        return 'средний'\n",
    "   \n",
    "    if 120001 <= income <=210000:\n",
    "        return 'высокий'\n",
    "\n",
    "    return 'очень высокий' "
   ]
  },
  {
   "cell_type": "code",
   "execution_count": 41,
   "metadata": {},
   "outputs": [
    {
     "data": {
      "text/plain": [
       "'высокий'"
      ]
     },
     "execution_count": 41,
     "metadata": {},
     "output_type": "execute_result"
    }
   ],
   "source": [
    "total_income_group(160000) #проверим работоспособность функции"
   ]
  },
  {
   "cell_type": "code",
   "execution_count": 42,
   "metadata": {},
   "outputs": [],
   "source": [
    "data['total_income'] = data['total_income'].apply(total_income_group) \n",
    "#применим функцию к столбцу с доходом с помощью метода apply()"
   ]
  },
  {
   "cell_type": "code",
   "execution_count": 43,
   "metadata": {},
   "outputs": [
    {
     "data": {
      "text/plain": [
       "высокий          10064\n",
       "средний           6438\n",
       "очень высокий     4480\n",
       "низкий             370\n",
       "Name: total_income, dtype: int64"
      ]
     },
     "execution_count": 43,
     "metadata": {},
     "output_type": "execute_result"
    }
   ],
   "source": [
    "data['total_income'].value_counts() #количество людей с разным доходом"
   ]
  },
  {
   "cell_type": "code",
   "execution_count": 44,
   "metadata": {},
   "outputs": [
    {
     "data": {
      "text/html": [
       "<div>\n",
       "<style scoped>\n",
       "    .dataframe tbody tr th:only-of-type {\n",
       "        vertical-align: middle;\n",
       "    }\n",
       "\n",
       "    .dataframe tbody tr th {\n",
       "        vertical-align: top;\n",
       "    }\n",
       "\n",
       "    .dataframe thead th {\n",
       "        text-align: right;\n",
       "    }\n",
       "</style>\n",
       "<table border=\"1\" class=\"dataframe\">\n",
       "  <thead>\n",
       "    <tr style=\"text-align: right;\">\n",
       "      <th></th>\n",
       "      <th>children</th>\n",
       "      <th>days_employed</th>\n",
       "      <th>dob_years</th>\n",
       "      <th>education</th>\n",
       "      <th>education_id</th>\n",
       "      <th>family_status</th>\n",
       "      <th>family_status_id</th>\n",
       "      <th>gender</th>\n",
       "      <th>income_type</th>\n",
       "      <th>debt</th>\n",
       "      <th>total_income</th>\n",
       "      <th>purpose</th>\n",
       "    </tr>\n",
       "  </thead>\n",
       "  <tbody>\n",
       "    <tr>\n",
       "      <td>0</td>\n",
       "      <td>1</td>\n",
       "      <td>-8437.673028</td>\n",
       "      <td>взрослые</td>\n",
       "      <td>высшее</td>\n",
       "      <td>0</td>\n",
       "      <td>женат / замужем</td>\n",
       "      <td>0</td>\n",
       "      <td>F</td>\n",
       "      <td>сотрудник</td>\n",
       "      <td>0</td>\n",
       "      <td>очень высокий</td>\n",
       "      <td>недвижимость</td>\n",
       "    </tr>\n",
       "    <tr>\n",
       "      <td>1</td>\n",
       "      <td>1</td>\n",
       "      <td>-4024.803754</td>\n",
       "      <td>взрослые</td>\n",
       "      <td>среднее</td>\n",
       "      <td>1</td>\n",
       "      <td>женат / замужем</td>\n",
       "      <td>0</td>\n",
       "      <td>F</td>\n",
       "      <td>сотрудник</td>\n",
       "      <td>0</td>\n",
       "      <td>средний</td>\n",
       "      <td>автомобиль</td>\n",
       "    </tr>\n",
       "    <tr>\n",
       "      <td>2</td>\n",
       "      <td>0</td>\n",
       "      <td>-5623.422610</td>\n",
       "      <td>взрослые</td>\n",
       "      <td>среднее</td>\n",
       "      <td>1</td>\n",
       "      <td>женат / замужем</td>\n",
       "      <td>0</td>\n",
       "      <td>M</td>\n",
       "      <td>сотрудник</td>\n",
       "      <td>0</td>\n",
       "      <td>высокий</td>\n",
       "      <td>недвижимость</td>\n",
       "    </tr>\n",
       "    <tr>\n",
       "      <td>3</td>\n",
       "      <td>3</td>\n",
       "      <td>-4124.747207</td>\n",
       "      <td>взрослые</td>\n",
       "      <td>среднее</td>\n",
       "      <td>1</td>\n",
       "      <td>женат / замужем</td>\n",
       "      <td>0</td>\n",
       "      <td>M</td>\n",
       "      <td>сотрудник</td>\n",
       "      <td>0</td>\n",
       "      <td>очень высокий</td>\n",
       "      <td>образование</td>\n",
       "    </tr>\n",
       "    <tr>\n",
       "      <td>4</td>\n",
       "      <td>0</td>\n",
       "      <td>340266.072047</td>\n",
       "      <td>взрослые</td>\n",
       "      <td>среднее</td>\n",
       "      <td>1</td>\n",
       "      <td>гражданский брак</td>\n",
       "      <td>1</td>\n",
       "      <td>F</td>\n",
       "      <td>пенсионер</td>\n",
       "      <td>0</td>\n",
       "      <td>высокий</td>\n",
       "      <td>свадьба</td>\n",
       "    </tr>\n",
       "    <tr>\n",
       "      <td>...</td>\n",
       "      <td>...</td>\n",
       "      <td>...</td>\n",
       "      <td>...</td>\n",
       "      <td>...</td>\n",
       "      <td>...</td>\n",
       "      <td>...</td>\n",
       "      <td>...</td>\n",
       "      <td>...</td>\n",
       "      <td>...</td>\n",
       "      <td>...</td>\n",
       "      <td>...</td>\n",
       "      <td>...</td>\n",
       "    </tr>\n",
       "    <tr>\n",
       "      <td>21449</td>\n",
       "      <td>1</td>\n",
       "      <td>-4529.316663</td>\n",
       "      <td>взрослые</td>\n",
       "      <td>среднее</td>\n",
       "      <td>1</td>\n",
       "      <td>гражданский брак</td>\n",
       "      <td>1</td>\n",
       "      <td>F</td>\n",
       "      <td>компаньон</td>\n",
       "      <td>0</td>\n",
       "      <td>очень высокий</td>\n",
       "      <td>недвижимость</td>\n",
       "    </tr>\n",
       "    <tr>\n",
       "      <td>21450</td>\n",
       "      <td>0</td>\n",
       "      <td>343937.404131</td>\n",
       "      <td>пенсионеры</td>\n",
       "      <td>среднее</td>\n",
       "      <td>1</td>\n",
       "      <td>женат / замужем</td>\n",
       "      <td>0</td>\n",
       "      <td>F</td>\n",
       "      <td>пенсионер</td>\n",
       "      <td>0</td>\n",
       "      <td>высокий</td>\n",
       "      <td>автомобиль</td>\n",
       "    </tr>\n",
       "    <tr>\n",
       "      <td>21451</td>\n",
       "      <td>1</td>\n",
       "      <td>-2113.346888</td>\n",
       "      <td>взрослые</td>\n",
       "      <td>среднее</td>\n",
       "      <td>1</td>\n",
       "      <td>гражданский брак</td>\n",
       "      <td>1</td>\n",
       "      <td>M</td>\n",
       "      <td>сотрудник</td>\n",
       "      <td>1</td>\n",
       "      <td>средний</td>\n",
       "      <td>недвижимость</td>\n",
       "    </tr>\n",
       "    <tr>\n",
       "      <td>21452</td>\n",
       "      <td>3</td>\n",
       "      <td>-3112.481705</td>\n",
       "      <td>взрослые</td>\n",
       "      <td>среднее</td>\n",
       "      <td>1</td>\n",
       "      <td>женат / замужем</td>\n",
       "      <td>0</td>\n",
       "      <td>M</td>\n",
       "      <td>сотрудник</td>\n",
       "      <td>1</td>\n",
       "      <td>очень высокий</td>\n",
       "      <td>автомобиль</td>\n",
       "    </tr>\n",
       "    <tr>\n",
       "      <td>21453</td>\n",
       "      <td>2</td>\n",
       "      <td>-1984.507589</td>\n",
       "      <td>взрослые</td>\n",
       "      <td>среднее</td>\n",
       "      <td>1</td>\n",
       "      <td>женат / замужем</td>\n",
       "      <td>0</td>\n",
       "      <td>F</td>\n",
       "      <td>сотрудник</td>\n",
       "      <td>0</td>\n",
       "      <td>средний</td>\n",
       "      <td>автомобиль</td>\n",
       "    </tr>\n",
       "  </tbody>\n",
       "</table>\n",
       "<p>21352 rows × 12 columns</p>\n",
       "</div>"
      ],
      "text/plain": [
       "       children  days_employed   dob_years education  education_id  \\\n",
       "0             1   -8437.673028    взрослые    высшее             0   \n",
       "1             1   -4024.803754    взрослые   среднее             1   \n",
       "2             0   -5623.422610    взрослые   среднее             1   \n",
       "3             3   -4124.747207    взрослые   среднее             1   \n",
       "4             0  340266.072047    взрослые   среднее             1   \n",
       "...         ...            ...         ...       ...           ...   \n",
       "21449         1   -4529.316663    взрослые   среднее             1   \n",
       "21450         0  343937.404131  пенсионеры   среднее             1   \n",
       "21451         1   -2113.346888    взрослые   среднее             1   \n",
       "21452         3   -3112.481705    взрослые   среднее             1   \n",
       "21453         2   -1984.507589    взрослые   среднее             1   \n",
       "\n",
       "          family_status  family_status_id gender income_type  debt  \\\n",
       "0       женат / замужем                 0      F   сотрудник     0   \n",
       "1       женат / замужем                 0      F   сотрудник     0   \n",
       "2       женат / замужем                 0      M   сотрудник     0   \n",
       "3       женат / замужем                 0      M   сотрудник     0   \n",
       "4      гражданский брак                 1      F   пенсионер     0   \n",
       "...                 ...               ...    ...         ...   ...   \n",
       "21449  гражданский брак                 1      F   компаньон     0   \n",
       "21450   женат / замужем                 0      F   пенсионер     0   \n",
       "21451  гражданский брак                 1      M   сотрудник     1   \n",
       "21452   женат / замужем                 0      M   сотрудник     1   \n",
       "21453   женат / замужем                 0      F   сотрудник     0   \n",
       "\n",
       "        total_income       purpose  \n",
       "0      очень высокий  недвижимость  \n",
       "1            средний    автомобиль  \n",
       "2            высокий  недвижимость  \n",
       "3      очень высокий   образование  \n",
       "4            высокий       свадьба  \n",
       "...              ...           ...  \n",
       "21449  очень высокий  недвижимость  \n",
       "21450        высокий    автомобиль  \n",
       "21451        средний  недвижимость  \n",
       "21452  очень высокий    автомобиль  \n",
       "21453        средний    автомобиль  \n",
       "\n",
       "[21352 rows x 12 columns]"
      ]
     },
     "metadata": {},
     "output_type": "display_data"
    }
   ],
   "source": [
    "display(data)"
   ]
  },
  {
   "cell_type": "markdown",
   "metadata": {},
   "source": [
    "**Вывод**"
   ]
  },
  {
   "cell_type": "markdown",
   "metadata": {},
   "source": [
    "Были категоризированны два столбца данных: возраст заемщика и его доход, поскольку эти два фактора оказывают слильное влияние на одобрение кредита. "
   ]
  },
  {
   "cell_type": "markdown",
   "metadata": {},
   "source": [
    "## Шаг 3. Ответьте на вопросы"
   ]
  },
  {
   "cell_type": "markdown",
   "metadata": {},
   "source": [
    "- **Есть ли зависимость между наличием детей и возвратом кредита в срок?**"
   ]
  },
  {
   "cell_type": "markdown",
   "metadata": {},
   "source": [
    "Нас интересуют столбцы: 'children' (количество детей в семье) и 'debt' (задолжность по возврату кредита)  "
   ]
  },
  {
   "cell_type": "code",
   "execution_count": 45,
   "metadata": {},
   "outputs": [
    {
     "data": {
      "text/plain": [
       "0    19619\n",
       "1     1733\n",
       "Name: debt, dtype: int64"
      ]
     },
     "execution_count": 45,
     "metadata": {},
     "output_type": "execute_result"
    }
   ],
   "source": [
    "data['debt'].value_counts() #задолжность по возрврату имеет всего два значения - либо она есть, либо ее нет"
   ]
  },
  {
   "cell_type": "code",
   "execution_count": 46,
   "metadata": {},
   "outputs": [
    {
     "data": {
      "text/plain": [
       "0    14021\n",
       "1     4839\n",
       "2     2114\n",
       "3      328\n",
       "4       41\n",
       "5        9\n",
       "Name: children, dtype: int64"
      ]
     },
     "execution_count": 46,
     "metadata": {},
     "output_type": "execute_result"
    }
   ],
   "source": [
    "data['children'].value_counts() #количество детей у заемщиков"
   ]
  },
  {
   "cell_type": "code",
   "execution_count": 47,
   "metadata": {},
   "outputs": [
    {
     "data": {
      "text/html": [
       "<div>\n",
       "<style scoped>\n",
       "    .dataframe tbody tr th:only-of-type {\n",
       "        vertical-align: middle;\n",
       "    }\n",
       "\n",
       "    .dataframe tbody tr th {\n",
       "        vertical-align: top;\n",
       "    }\n",
       "\n",
       "    .dataframe thead tr th {\n",
       "        text-align: left;\n",
       "    }\n",
       "\n",
       "    .dataframe thead tr:last-of-type th {\n",
       "        text-align: right;\n",
       "    }\n",
       "</style>\n",
       "<table border=\"1\" class=\"dataframe\">\n",
       "  <thead>\n",
       "    <tr>\n",
       "      <th></th>\n",
       "      <th colspan=\"2\" halign=\"left\">debt</th>\n",
       "    </tr>\n",
       "    <tr>\n",
       "      <th></th>\n",
       "      <th>count</th>\n",
       "      <th>sum</th>\n",
       "    </tr>\n",
       "    <tr>\n",
       "      <th>children</th>\n",
       "      <th></th>\n",
       "      <th></th>\n",
       "    </tr>\n",
       "  </thead>\n",
       "  <tbody>\n",
       "    <tr>\n",
       "      <td>0</td>\n",
       "      <td>14021</td>\n",
       "      <td>1058</td>\n",
       "    </tr>\n",
       "    <tr>\n",
       "      <td>1</td>\n",
       "      <td>4839</td>\n",
       "      <td>442</td>\n",
       "    </tr>\n",
       "    <tr>\n",
       "      <td>2</td>\n",
       "      <td>2114</td>\n",
       "      <td>202</td>\n",
       "    </tr>\n",
       "    <tr>\n",
       "      <td>3</td>\n",
       "      <td>328</td>\n",
       "      <td>27</td>\n",
       "    </tr>\n",
       "    <tr>\n",
       "      <td>4</td>\n",
       "      <td>41</td>\n",
       "      <td>4</td>\n",
       "    </tr>\n",
       "    <tr>\n",
       "      <td>5</td>\n",
       "      <td>9</td>\n",
       "      <td>0</td>\n",
       "    </tr>\n",
       "  </tbody>\n",
       "</table>\n",
       "</div>"
      ],
      "text/plain": [
       "           debt      \n",
       "          count   sum\n",
       "children             \n",
       "0         14021  1058\n",
       "1          4839   442\n",
       "2          2114   202\n",
       "3           328    27\n",
       "4            41     4\n",
       "5             9     0"
      ]
     },
     "metadata": {},
     "output_type": "display_data"
    }
   ],
   "source": [
    "data_debt_children = data.groupby('children').agg({'debt':['count','sum']}) #агрегирующая функция\n",
    "display(data_debt_children)"
   ]
  },
  {
   "cell_type": "code",
   "execution_count": 48,
   "metadata": {},
   "outputs": [
    {
     "data": {
      "text/plain": [
       "children\n",
       "5    0.000000\n",
       "0    7.545824\n",
       "3    8.231707\n",
       "1    9.134119\n",
       "2    9.555345\n",
       "4    9.756098\n",
       "dtype: float64"
      ]
     },
     "execution_count": 48,
     "metadata": {},
     "output_type": "execute_result"
    }
   ],
   "source": [
    "data_debt_children_procent = data_debt_children['debt']['sum']/data_debt_children['debt']['count']*100\n",
    "data_debt_children_procent.sort_values()\n",
    "#найдем долю невозвращенных кредитов у людей с разным количеством детей"
   ]
  },
  {
   "cell_type": "code",
   "execution_count": 49,
   "metadata": {},
   "outputs": [
    {
     "data": {
      "text/html": [
       "<div>\n",
       "<style scoped>\n",
       "    .dataframe tbody tr th:only-of-type {\n",
       "        vertical-align: middle;\n",
       "    }\n",
       "\n",
       "    .dataframe tbody tr th {\n",
       "        vertical-align: top;\n",
       "    }\n",
       "\n",
       "    .dataframe thead tr th {\n",
       "        text-align: left;\n",
       "    }\n",
       "\n",
       "    .dataframe thead tr:last-of-type th {\n",
       "        text-align: right;\n",
       "    }\n",
       "</style>\n",
       "<table border=\"1\" class=\"dataframe\">\n",
       "  <thead>\n",
       "    <tr>\n",
       "      <th></th>\n",
       "      <th colspan=\"2\" halign=\"left\">debt</th>\n",
       "      <th>data_debt_children_procent</th>\n",
       "    </tr>\n",
       "    <tr>\n",
       "      <th></th>\n",
       "      <th>count</th>\n",
       "      <th>sum</th>\n",
       "      <th></th>\n",
       "    </tr>\n",
       "    <tr>\n",
       "      <th>children</th>\n",
       "      <th></th>\n",
       "      <th></th>\n",
       "      <th></th>\n",
       "    </tr>\n",
       "  </thead>\n",
       "  <tbody>\n",
       "    <tr>\n",
       "      <td>0</td>\n",
       "      <td>14021</td>\n",
       "      <td>1058</td>\n",
       "      <td>7.545824</td>\n",
       "    </tr>\n",
       "    <tr>\n",
       "      <td>1</td>\n",
       "      <td>4839</td>\n",
       "      <td>442</td>\n",
       "      <td>9.134119</td>\n",
       "    </tr>\n",
       "    <tr>\n",
       "      <td>2</td>\n",
       "      <td>2114</td>\n",
       "      <td>202</td>\n",
       "      <td>9.555345</td>\n",
       "    </tr>\n",
       "    <tr>\n",
       "      <td>3</td>\n",
       "      <td>328</td>\n",
       "      <td>27</td>\n",
       "      <td>8.231707</td>\n",
       "    </tr>\n",
       "    <tr>\n",
       "      <td>4</td>\n",
       "      <td>41</td>\n",
       "      <td>4</td>\n",
       "      <td>9.756098</td>\n",
       "    </tr>\n",
       "    <tr>\n",
       "      <td>5</td>\n",
       "      <td>9</td>\n",
       "      <td>0</td>\n",
       "      <td>0.000000</td>\n",
       "    </tr>\n",
       "  </tbody>\n",
       "</table>\n",
       "</div>"
      ],
      "text/plain": [
       "           debt       data_debt_children_procent\n",
       "          count   sum                           \n",
       "children                                        \n",
       "0         14021  1058                   7.545824\n",
       "1          4839   442                   9.134119\n",
       "2          2114   202                   9.555345\n",
       "3           328    27                   8.231707\n",
       "4            41     4                   9.756098\n",
       "5             9     0                   0.000000"
      ]
     },
     "metadata": {},
     "output_type": "display_data"
    }
   ],
   "source": [
    "data_debt_children['data_debt_children_procent'] = data_debt_children_procent = data_debt_children['debt']['sum']/data_debt_children['debt']['count']*100\n",
    "display(data_debt_children)"
   ]
  },
  {
   "cell_type": "markdown",
   "metadata": {},
   "source": [
    "**Вывод**"
   ]
  },
  {
   "cell_type": "markdown",
   "metadata": {},
   "source": [
    "Зависимость присутствует, меньше всего долгов у тех людей, которые не имеют детей - 7,5%, как только в семье появляется пополнение, оно оттягивает на себя часть доходов и долги растут, но в таблице имеется 9 человек у кого в семье по 5 детей, такие семьи оказались без долгов, думаю это связано с тем что их всего 9 человек из 21 тысячи заемщиков, просто совпадение.  "
   ]
  },
  {
   "cell_type": "markdown",
   "metadata": {},
   "source": [
    "- **Есть ли зависимость между семейным положением и возвратом кредита в срок?**"
   ]
  },
  {
   "cell_type": "markdown",
   "metadata": {},
   "source": [
    "Нас интересуют столбцы: 'family_status' (семейное положение) и 'debt' (задолжность по возврату кредита)  "
   ]
  },
  {
   "cell_type": "code",
   "execution_count": 50,
   "metadata": {},
   "outputs": [
    {
     "data": {
      "text/plain": [
       "женат / замужем          12290\n",
       "гражданский брак          4129\n",
       "Не женат / не замужем     2794\n",
       "в разводе                 1185\n",
       "вдовец / вдова             954\n",
       "Name: family_status, dtype: int64"
      ]
     },
     "execution_count": 50,
     "metadata": {},
     "output_type": "execute_result"
    }
   ],
   "source": [
    "data['family_status'].value_counts() #количество людей с разным семейным положением"
   ]
  },
  {
   "cell_type": "code",
   "execution_count": 51,
   "metadata": {},
   "outputs": [
    {
     "data": {
      "text/html": [
       "<div>\n",
       "<style scoped>\n",
       "    .dataframe tbody tr th:only-of-type {\n",
       "        vertical-align: middle;\n",
       "    }\n",
       "\n",
       "    .dataframe tbody tr th {\n",
       "        vertical-align: top;\n",
       "    }\n",
       "\n",
       "    .dataframe thead tr th {\n",
       "        text-align: left;\n",
       "    }\n",
       "\n",
       "    .dataframe thead tr:last-of-type th {\n",
       "        text-align: right;\n",
       "    }\n",
       "</style>\n",
       "<table border=\"1\" class=\"dataframe\">\n",
       "  <thead>\n",
       "    <tr>\n",
       "      <th></th>\n",
       "      <th colspan=\"2\" halign=\"left\">debt</th>\n",
       "    </tr>\n",
       "    <tr>\n",
       "      <th></th>\n",
       "      <th>count</th>\n",
       "      <th>sum</th>\n",
       "    </tr>\n",
       "    <tr>\n",
       "      <th>family_status</th>\n",
       "      <th></th>\n",
       "      <th></th>\n",
       "    </tr>\n",
       "  </thead>\n",
       "  <tbody>\n",
       "    <tr>\n",
       "      <td>Не женат / не замужем</td>\n",
       "      <td>2794</td>\n",
       "      <td>273</td>\n",
       "    </tr>\n",
       "    <tr>\n",
       "      <td>в разводе</td>\n",
       "      <td>1185</td>\n",
       "      <td>85</td>\n",
       "    </tr>\n",
       "    <tr>\n",
       "      <td>вдовец / вдова</td>\n",
       "      <td>954</td>\n",
       "      <td>62</td>\n",
       "    </tr>\n",
       "    <tr>\n",
       "      <td>гражданский брак</td>\n",
       "      <td>4129</td>\n",
       "      <td>386</td>\n",
       "    </tr>\n",
       "    <tr>\n",
       "      <td>женат / замужем</td>\n",
       "      <td>12290</td>\n",
       "      <td>927</td>\n",
       "    </tr>\n",
       "  </tbody>\n",
       "</table>\n",
       "</div>"
      ],
      "text/plain": [
       "                        debt     \n",
       "                       count  sum\n",
       "family_status                    \n",
       "Не женат / не замужем   2794  273\n",
       "в разводе               1185   85\n",
       "вдовец / вдова           954   62\n",
       "гражданский брак        4129  386\n",
       "женат / замужем        12290  927"
      ]
     },
     "metadata": {},
     "output_type": "display_data"
    }
   ],
   "source": [
    "data_debt_family_status = data.groupby('family_status').agg({'debt':['count','sum']}) #агрегирующая функция\n",
    "display(data_debt_family_status)"
   ]
  },
  {
   "cell_type": "code",
   "execution_count": 52,
   "metadata": {},
   "outputs": [
    {
     "data": {
      "text/plain": [
       "family_status\n",
       "вдовец / вдова           6.498952\n",
       "в разводе                7.172996\n",
       "женат / замужем          7.542718\n",
       "гражданский брак         9.348511\n",
       "Не женат / не замужем    9.770938\n",
       "dtype: float64"
      ]
     },
     "execution_count": 52,
     "metadata": {},
     "output_type": "execute_result"
    }
   ],
   "source": [
    "data_debt_family_status_procent = data_debt_family_status['debt']['sum']/data_debt_family_status['debt']['count']*100\n",
    "data_debt_family_status_procent.sort_values()\n",
    "#найдем долю невозвращенных кредитов у людей с разным семейным положением"
   ]
  },
  {
   "cell_type": "code",
   "execution_count": 53,
   "metadata": {},
   "outputs": [
    {
     "data": {
      "text/html": [
       "<div>\n",
       "<style scoped>\n",
       "    .dataframe tbody tr th:only-of-type {\n",
       "        vertical-align: middle;\n",
       "    }\n",
       "\n",
       "    .dataframe tbody tr th {\n",
       "        vertical-align: top;\n",
       "    }\n",
       "\n",
       "    .dataframe thead tr th {\n",
       "        text-align: left;\n",
       "    }\n",
       "\n",
       "    .dataframe thead tr:last-of-type th {\n",
       "        text-align: right;\n",
       "    }\n",
       "</style>\n",
       "<table border=\"1\" class=\"dataframe\">\n",
       "  <thead>\n",
       "    <tr>\n",
       "      <th></th>\n",
       "      <th colspan=\"2\" halign=\"left\">debt</th>\n",
       "      <th>data_debt_family_status_procent</th>\n",
       "    </tr>\n",
       "    <tr>\n",
       "      <th></th>\n",
       "      <th>count</th>\n",
       "      <th>sum</th>\n",
       "      <th></th>\n",
       "    </tr>\n",
       "    <tr>\n",
       "      <th>family_status</th>\n",
       "      <th></th>\n",
       "      <th></th>\n",
       "      <th></th>\n",
       "    </tr>\n",
       "  </thead>\n",
       "  <tbody>\n",
       "    <tr>\n",
       "      <td>Не женат / не замужем</td>\n",
       "      <td>2794</td>\n",
       "      <td>273</td>\n",
       "      <td>9.770938</td>\n",
       "    </tr>\n",
       "    <tr>\n",
       "      <td>в разводе</td>\n",
       "      <td>1185</td>\n",
       "      <td>85</td>\n",
       "      <td>7.172996</td>\n",
       "    </tr>\n",
       "    <tr>\n",
       "      <td>вдовец / вдова</td>\n",
       "      <td>954</td>\n",
       "      <td>62</td>\n",
       "      <td>6.498952</td>\n",
       "    </tr>\n",
       "    <tr>\n",
       "      <td>гражданский брак</td>\n",
       "      <td>4129</td>\n",
       "      <td>386</td>\n",
       "      <td>9.348511</td>\n",
       "    </tr>\n",
       "    <tr>\n",
       "      <td>женат / замужем</td>\n",
       "      <td>12290</td>\n",
       "      <td>927</td>\n",
       "      <td>7.542718</td>\n",
       "    </tr>\n",
       "  </tbody>\n",
       "</table>\n",
       "</div>"
      ],
      "text/plain": [
       "                        debt      data_debt_family_status_procent\n",
       "                       count  sum                                \n",
       "family_status                                                    \n",
       "Не женат / не замужем   2794  273                        9.770938\n",
       "в разводе               1185   85                        7.172996\n",
       "вдовец / вдова           954   62                        6.498952\n",
       "гражданский брак        4129  386                        9.348511\n",
       "женат / замужем        12290  927                        7.542718"
      ]
     },
     "metadata": {},
     "output_type": "display_data"
    }
   ],
   "source": [
    "data_debt_family_status['data_debt_family_status_procent'] = data_debt_family_status['debt']['sum']/data_debt_family_status['debt']['count']*100\n",
    "display(data_debt_family_status)"
   ]
  },
  {
   "cell_type": "markdown",
   "metadata": {},
   "source": [
    "**Вывод**"
   ]
  },
  {
   "cell_type": "markdown",
   "metadata": {},
   "source": [
    "Наиболее рисковые для банка группы: люди, проживающие в гражданском браке и не женатые/не замужние. Люди, проживающие в гражданском браке, часто расходятся и по отдельности не могут гасить задолжности, а не женатые/не замужние могут пропасть из виду, накопленные долги нельзя передать родителям, поскольку их дети достигшие совершеннолетние считаются полностью самостоятельными. Средними показателями обладают женатые пары - их больше всего."
   ]
  },
  {
   "cell_type": "markdown",
   "metadata": {},
   "source": [
    "- **Есть ли зависимость между уровнем дохода и возвратом кредита в срок?**"
   ]
  },
  {
   "cell_type": "markdown",
   "metadata": {},
   "source": [
    "Нас интересуют столбцы: 'total_income' (ежемесячный доход) и 'debt' (задолжность по возврату кредита)  "
   ]
  },
  {
   "cell_type": "code",
   "execution_count": 54,
   "metadata": {},
   "outputs": [
    {
     "data": {
      "text/plain": [
       "высокий          10064\n",
       "средний           6438\n",
       "очень высокий     4480\n",
       "низкий             370\n",
       "Name: total_income, dtype: int64"
      ]
     },
     "execution_count": 54,
     "metadata": {},
     "output_type": "execute_result"
    }
   ],
   "source": [
    "data['total_income'].value_counts() #количество людей с разным доходом"
   ]
  },
  {
   "cell_type": "code",
   "execution_count": 55,
   "metadata": {},
   "outputs": [
    {
     "data": {
      "text/html": [
       "<div>\n",
       "<style scoped>\n",
       "    .dataframe tbody tr th:only-of-type {\n",
       "        vertical-align: middle;\n",
       "    }\n",
       "\n",
       "    .dataframe tbody tr th {\n",
       "        vertical-align: top;\n",
       "    }\n",
       "\n",
       "    .dataframe thead tr th {\n",
       "        text-align: left;\n",
       "    }\n",
       "\n",
       "    .dataframe thead tr:last-of-type th {\n",
       "        text-align: right;\n",
       "    }\n",
       "</style>\n",
       "<table border=\"1\" class=\"dataframe\">\n",
       "  <thead>\n",
       "    <tr>\n",
       "      <th></th>\n",
       "      <th colspan=\"2\" halign=\"left\">debt</th>\n",
       "    </tr>\n",
       "    <tr>\n",
       "      <th></th>\n",
       "      <th>count</th>\n",
       "      <th>sum</th>\n",
       "    </tr>\n",
       "    <tr>\n",
       "      <th>total_income</th>\n",
       "      <th></th>\n",
       "      <th></th>\n",
       "    </tr>\n",
       "  </thead>\n",
       "  <tbody>\n",
       "    <tr>\n",
       "      <td>высокий</td>\n",
       "      <td>10064</td>\n",
       "      <td>871</td>\n",
       "    </tr>\n",
       "    <tr>\n",
       "      <td>низкий</td>\n",
       "      <td>370</td>\n",
       "      <td>23</td>\n",
       "    </tr>\n",
       "    <tr>\n",
       "      <td>очень высокий</td>\n",
       "      <td>4480</td>\n",
       "      <td>314</td>\n",
       "    </tr>\n",
       "    <tr>\n",
       "      <td>средний</td>\n",
       "      <td>6438</td>\n",
       "      <td>525</td>\n",
       "    </tr>\n",
       "  </tbody>\n",
       "</table>\n",
       "</div>"
      ],
      "text/plain": [
       "                debt     \n",
       "               count  sum\n",
       "total_income             \n",
       "высокий        10064  871\n",
       "низкий           370   23\n",
       "очень высокий   4480  314\n",
       "средний         6438  525"
      ]
     },
     "metadata": {},
     "output_type": "display_data"
    }
   ],
   "source": [
    "data_debt_total_income = data.groupby('total_income').agg({'debt':['count','sum']}) #агрегирующая функция\n",
    "display(data_debt_total_income)"
   ]
  },
  {
   "cell_type": "code",
   "execution_count": 56,
   "metadata": {},
   "outputs": [
    {
     "data": {
      "text/plain": [
       "total_income\n",
       "низкий           6.216216\n",
       "очень высокий    7.008929\n",
       "средний          8.154706\n",
       "высокий          8.654610\n",
       "dtype: float64"
      ]
     },
     "execution_count": 56,
     "metadata": {},
     "output_type": "execute_result"
    }
   ],
   "source": [
    "data_debt_total_income_procent = data_debt_total_income['debt']['sum']/data_debt_total_income['debt']['count']*100\n",
    "data_debt_total_income_procent.sort_values()\n",
    "#найдем долю невозвращенных кредитов у людей с разным доходом"
   ]
  },
  {
   "cell_type": "code",
   "execution_count": 57,
   "metadata": {},
   "outputs": [
    {
     "data": {
      "text/html": [
       "<div>\n",
       "<style scoped>\n",
       "    .dataframe tbody tr th:only-of-type {\n",
       "        vertical-align: middle;\n",
       "    }\n",
       "\n",
       "    .dataframe tbody tr th {\n",
       "        vertical-align: top;\n",
       "    }\n",
       "\n",
       "    .dataframe thead tr th {\n",
       "        text-align: left;\n",
       "    }\n",
       "\n",
       "    .dataframe thead tr:last-of-type th {\n",
       "        text-align: right;\n",
       "    }\n",
       "</style>\n",
       "<table border=\"1\" class=\"dataframe\">\n",
       "  <thead>\n",
       "    <tr>\n",
       "      <th></th>\n",
       "      <th colspan=\"2\" halign=\"left\">debt</th>\n",
       "      <th>data_debt_total_income_procent</th>\n",
       "    </tr>\n",
       "    <tr>\n",
       "      <th></th>\n",
       "      <th>count</th>\n",
       "      <th>sum</th>\n",
       "      <th></th>\n",
       "    </tr>\n",
       "    <tr>\n",
       "      <th>total_income</th>\n",
       "      <th></th>\n",
       "      <th></th>\n",
       "      <th></th>\n",
       "    </tr>\n",
       "  </thead>\n",
       "  <tbody>\n",
       "    <tr>\n",
       "      <td>высокий</td>\n",
       "      <td>10064</td>\n",
       "      <td>871</td>\n",
       "      <td>8.654610</td>\n",
       "    </tr>\n",
       "    <tr>\n",
       "      <td>низкий</td>\n",
       "      <td>370</td>\n",
       "      <td>23</td>\n",
       "      <td>6.216216</td>\n",
       "    </tr>\n",
       "    <tr>\n",
       "      <td>очень высокий</td>\n",
       "      <td>4480</td>\n",
       "      <td>314</td>\n",
       "      <td>7.008929</td>\n",
       "    </tr>\n",
       "    <tr>\n",
       "      <td>средний</td>\n",
       "      <td>6438</td>\n",
       "      <td>525</td>\n",
       "      <td>8.154706</td>\n",
       "    </tr>\n",
       "  </tbody>\n",
       "</table>\n",
       "</div>"
      ],
      "text/plain": [
       "                debt      data_debt_total_income_procent\n",
       "               count  sum                               \n",
       "total_income                                            \n",
       "высокий        10064  871                       8.654610\n",
       "низкий           370   23                       6.216216\n",
       "очень высокий   4480  314                       7.008929\n",
       "средний         6438  525                       8.154706"
      ]
     },
     "metadata": {},
     "output_type": "display_data"
    }
   ],
   "source": [
    "data_debt_total_income['data_debt_total_income_procent'] = data_debt_total_income['debt']['sum']/data_debt_total_income['debt']['count']*100\n",
    "display(data_debt_total_income)"
   ]
  },
  {
   "cell_type": "markdown",
   "metadata": {},
   "source": [
    "**Вывод**"
   ]
  },
  {
   "cell_type": "markdown",
   "metadata": {},
   "source": [
    "В данном случае меньше всего долгов у людей с низким уровнем дохода, это просто объяснить - они не берут кредиты вовсе.\n",
    "Самое большое количество долгов накопилось у заемщиков со средним и высоким уровнем дохода, это как раз основная масса людей, которые обращаются в банки. Люди со сверхвысоким доходом реже обращаются в банки, поскольку заработка и накопленных средств им хватает."
   ]
  },
  {
   "cell_type": "markdown",
   "metadata": {},
   "source": [
    "- **Как разные цели кредита влияют на его возврат в срок?**"
   ]
  },
  {
   "cell_type": "markdown",
   "metadata": {},
   "source": [
    "Нас интересуют столбцы: 'purpose' (цель получения кредита) и 'debt' (задолжность по возврату кредита)  "
   ]
  },
  {
   "cell_type": "code",
   "execution_count": 58,
   "metadata": {},
   "outputs": [
    {
     "data": {
      "text/plain": [
       "недвижимость    10763\n",
       "автомобиль       4284\n",
       "образование      3995\n",
       "свадьба          2310\n",
       "Name: purpose, dtype: int64"
      ]
     },
     "execution_count": 58,
     "metadata": {},
     "output_type": "execute_result"
    }
   ],
   "source": [
    "data['purpose'].value_counts() #количество людей с разными целями по кредиту"
   ]
  },
  {
   "cell_type": "code",
   "execution_count": 59,
   "metadata": {},
   "outputs": [
    {
     "data": {
      "text/html": [
       "<div>\n",
       "<style scoped>\n",
       "    .dataframe tbody tr th:only-of-type {\n",
       "        vertical-align: middle;\n",
       "    }\n",
       "\n",
       "    .dataframe tbody tr th {\n",
       "        vertical-align: top;\n",
       "    }\n",
       "\n",
       "    .dataframe thead tr th {\n",
       "        text-align: left;\n",
       "    }\n",
       "\n",
       "    .dataframe thead tr:last-of-type th {\n",
       "        text-align: right;\n",
       "    }\n",
       "</style>\n",
       "<table border=\"1\" class=\"dataframe\">\n",
       "  <thead>\n",
       "    <tr>\n",
       "      <th></th>\n",
       "      <th colspan=\"2\" halign=\"left\">debt</th>\n",
       "    </tr>\n",
       "    <tr>\n",
       "      <th></th>\n",
       "      <th>count</th>\n",
       "      <th>sum</th>\n",
       "    </tr>\n",
       "    <tr>\n",
       "      <th>purpose</th>\n",
       "      <th></th>\n",
       "      <th></th>\n",
       "    </tr>\n",
       "  </thead>\n",
       "  <tbody>\n",
       "    <tr>\n",
       "      <td>автомобиль</td>\n",
       "      <td>4284</td>\n",
       "      <td>400</td>\n",
       "    </tr>\n",
       "    <tr>\n",
       "      <td>недвижимость</td>\n",
       "      <td>10763</td>\n",
       "      <td>779</td>\n",
       "    </tr>\n",
       "    <tr>\n",
       "      <td>образование</td>\n",
       "      <td>3995</td>\n",
       "      <td>370</td>\n",
       "    </tr>\n",
       "    <tr>\n",
       "      <td>свадьба</td>\n",
       "      <td>2310</td>\n",
       "      <td>184</td>\n",
       "    </tr>\n",
       "  </tbody>\n",
       "</table>\n",
       "</div>"
      ],
      "text/plain": [
       "               debt     \n",
       "              count  sum\n",
       "purpose                 \n",
       "автомобиль     4284  400\n",
       "недвижимость  10763  779\n",
       "образование    3995  370\n",
       "свадьба        2310  184"
      ]
     },
     "metadata": {},
     "output_type": "display_data"
    }
   ],
   "source": [
    "data_debt_purpose = data.groupby('purpose').agg({'debt':['count','sum']}) #агрегирующая функция\n",
    "display(data_debt_purpose)"
   ]
  },
  {
   "cell_type": "code",
   "execution_count": 60,
   "metadata": {},
   "outputs": [
    {
     "data": {
      "text/plain": [
       "purpose\n",
       "недвижимость    7.237759\n",
       "свадьба         7.965368\n",
       "образование     9.261577\n",
       "автомобиль      9.337068\n",
       "dtype: float64"
      ]
     },
     "execution_count": 60,
     "metadata": {},
     "output_type": "execute_result"
    }
   ],
   "source": [
    "data_debt_purpose_procent = data_debt_purpose['debt']['sum']/data_debt_purpose['debt']['count']*100\n",
    "data_debt_purpose_procent.sort_values()\n",
    "#найдем долю невозвращенных кредитов у людей с разными целями по кредиту"
   ]
  },
  {
   "cell_type": "code",
   "execution_count": 61,
   "metadata": {},
   "outputs": [
    {
     "data": {
      "text/html": [
       "<div>\n",
       "<style scoped>\n",
       "    .dataframe tbody tr th:only-of-type {\n",
       "        vertical-align: middle;\n",
       "    }\n",
       "\n",
       "    .dataframe tbody tr th {\n",
       "        vertical-align: top;\n",
       "    }\n",
       "\n",
       "    .dataframe thead tr th {\n",
       "        text-align: left;\n",
       "    }\n",
       "\n",
       "    .dataframe thead tr:last-of-type th {\n",
       "        text-align: right;\n",
       "    }\n",
       "</style>\n",
       "<table border=\"1\" class=\"dataframe\">\n",
       "  <thead>\n",
       "    <tr>\n",
       "      <th></th>\n",
       "      <th colspan=\"2\" halign=\"left\">debt</th>\n",
       "      <th>data_debt_purpose_procent</th>\n",
       "    </tr>\n",
       "    <tr>\n",
       "      <th></th>\n",
       "      <th>count</th>\n",
       "      <th>sum</th>\n",
       "      <th></th>\n",
       "    </tr>\n",
       "    <tr>\n",
       "      <th>purpose</th>\n",
       "      <th></th>\n",
       "      <th></th>\n",
       "      <th></th>\n",
       "    </tr>\n",
       "  </thead>\n",
       "  <tbody>\n",
       "    <tr>\n",
       "      <td>автомобиль</td>\n",
       "      <td>4284</td>\n",
       "      <td>400</td>\n",
       "      <td>9.337068</td>\n",
       "    </tr>\n",
       "    <tr>\n",
       "      <td>недвижимость</td>\n",
       "      <td>10763</td>\n",
       "      <td>779</td>\n",
       "      <td>7.237759</td>\n",
       "    </tr>\n",
       "    <tr>\n",
       "      <td>образование</td>\n",
       "      <td>3995</td>\n",
       "      <td>370</td>\n",
       "      <td>9.261577</td>\n",
       "    </tr>\n",
       "    <tr>\n",
       "      <td>свадьба</td>\n",
       "      <td>2310</td>\n",
       "      <td>184</td>\n",
       "      <td>7.965368</td>\n",
       "    </tr>\n",
       "  </tbody>\n",
       "</table>\n",
       "</div>"
      ],
      "text/plain": [
       "               debt      data_debt_purpose_procent\n",
       "              count  sum                          \n",
       "purpose                                           \n",
       "автомобиль     4284  400                  9.337068\n",
       "недвижимость  10763  779                  7.237759\n",
       "образование    3995  370                  9.261577\n",
       "свадьба        2310  184                  7.965368"
      ]
     },
     "metadata": {},
     "output_type": "display_data"
    }
   ],
   "source": [
    "data_debt_purpose['data_debt_purpose_procent'] = data_debt_purpose['debt']['sum']/data_debt_purpose['debt']['count']*100\n",
    "display(data_debt_purpose)"
   ]
  },
  {
   "cell_type": "markdown",
   "metadata": {},
   "source": [
    "**Вывод**"
   ]
  },
  {
   "cell_type": "markdown",
   "metadata": {},
   "source": [
    "Как видим из полученных занчений, наибольшими долгами обладают люди, покупающие в кредит автомобили, наиболее надежными заемщиками являются люди, берущие ипотеку."
   ]
  },
  {
   "cell_type": "markdown",
   "metadata": {},
   "source": [
    "## Шаг 4. Общий вывод"
   ]
  },
  {
   "cell_type": "markdown",
   "metadata": {},
   "source": [
    "В выполненном проекте, были изучены и обработанны данные, полученные от заказчика. Наиболее надежным для банка клиентом будет условно, женатый человек, со средним или высоким доходом, не имеющий детей, и планирующий обзавестись новой недвижимостью. "
   ]
  }
 ],
 "metadata": {
  "ExecuteTimeLog": [
   {
    "duration": 756,
    "start_time": "2021-12-13T15:07:34.123Z"
   },
   {
    "duration": 81,
    "start_time": "2021-12-13T15:10:26.226Z"
   },
   {
    "duration": 56,
    "start_time": "2021-12-13T15:14:19.292Z"
   },
   {
    "duration": 54,
    "start_time": "2021-12-13T15:27:38.156Z"
   },
   {
    "duration": 72,
    "start_time": "2021-12-13T15:29:27.092Z"
   },
   {
    "duration": 80,
    "start_time": "2021-12-13T15:41:38.267Z"
   },
   {
    "duration": 346,
    "start_time": "2021-12-13T15:43:16.198Z"
   },
   {
    "duration": 104,
    "start_time": "2021-12-13T15:43:27.355Z"
   },
   {
    "duration": 243,
    "start_time": "2021-12-13T15:43:48.066Z"
   },
   {
    "duration": 14,
    "start_time": "2021-12-13T15:43:57.376Z"
   },
   {
    "duration": 9,
    "start_time": "2021-12-13T15:44:06.627Z"
   },
   {
    "duration": 14,
    "start_time": "2021-12-13T15:44:18.078Z"
   },
   {
    "duration": 18,
    "start_time": "2021-12-13T15:44:41.526Z"
   },
   {
    "duration": 20,
    "start_time": "2021-12-13T15:56:43.265Z"
   },
   {
    "duration": 80,
    "start_time": "2021-12-13T16:09:08.573Z"
   },
   {
    "duration": 7,
    "start_time": "2021-12-13T16:09:13.368Z"
   },
   {
    "duration": 14,
    "start_time": "2021-12-13T16:09:59.113Z"
   },
   {
    "duration": 8,
    "start_time": "2021-12-13T16:11:55.603Z"
   },
   {
    "duration": 16,
    "start_time": "2021-12-13T16:12:32.432Z"
   },
   {
    "duration": 6,
    "start_time": "2021-12-13T16:12:55.847Z"
   },
   {
    "duration": 7,
    "start_time": "2021-12-13T16:16:56.442Z"
   },
   {
    "duration": 8,
    "start_time": "2021-12-13T16:30:36.835Z"
   },
   {
    "duration": 15,
    "start_time": "2021-12-13T16:33:54.695Z"
   },
   {
    "duration": 7,
    "start_time": "2021-12-13T16:33:59.639Z"
   },
   {
    "duration": 8,
    "start_time": "2021-12-13T16:34:17.957Z"
   },
   {
    "duration": 70,
    "start_time": "2021-12-13T16:34:54.511Z"
   },
   {
    "duration": 23,
    "start_time": "2021-12-13T16:34:54.585Z"
   },
   {
    "duration": 6,
    "start_time": "2021-12-13T16:34:54.610Z"
   },
   {
    "duration": 9,
    "start_time": "2021-12-13T16:34:54.618Z"
   },
   {
    "duration": 289,
    "start_time": "2021-12-13T16:38:54.699Z"
   },
   {
    "duration": 12,
    "start_time": "2021-12-13T16:39:07.993Z"
   },
   {
    "duration": 9,
    "start_time": "2021-12-13T16:39:16.539Z"
   },
   {
    "duration": 14,
    "start_time": "2021-12-13T16:43:48.109Z"
   },
   {
    "duration": 6,
    "start_time": "2021-12-13T16:45:53.858Z"
   },
   {
    "duration": 4,
    "start_time": "2021-12-13T16:45:59.062Z"
   },
   {
    "duration": 4,
    "start_time": "2021-12-13T16:46:37.271Z"
   },
   {
    "duration": 19,
    "start_time": "2021-12-13T16:47:21.970Z"
   },
   {
    "duration": 5,
    "start_time": "2021-12-13T16:47:51.349Z"
   },
   {
    "duration": 5,
    "start_time": "2021-12-13T16:49:21.464Z"
   },
   {
    "duration": 4,
    "start_time": "2021-12-13T16:49:23.629Z"
   },
   {
    "duration": 9,
    "start_time": "2021-12-13T16:51:02.758Z"
   },
   {
    "duration": 4,
    "start_time": "2021-12-13T16:51:04.167Z"
   },
   {
    "duration": 5,
    "start_time": "2021-12-13T16:51:05.655Z"
   },
   {
    "duration": 7,
    "start_time": "2021-12-13T16:52:43.067Z"
   },
   {
    "duration": 10,
    "start_time": "2021-12-13T16:52:57.103Z"
   },
   {
    "duration": 14,
    "start_time": "2021-12-13T16:53:35.107Z"
   },
   {
    "duration": 5,
    "start_time": "2021-12-13T16:53:44.242Z"
   },
   {
    "duration": 68,
    "start_time": "2021-12-13T16:53:52.820Z"
   },
   {
    "duration": 17,
    "start_time": "2021-12-13T16:53:56.715Z"
   },
   {
    "duration": 18,
    "start_time": "2021-12-13T16:54:07.848Z"
   },
   {
    "duration": 6,
    "start_time": "2021-12-13T16:57:41.548Z"
   },
   {
    "duration": 5,
    "start_time": "2021-12-13T16:57:43.209Z"
   },
   {
    "duration": 7,
    "start_time": "2021-12-13T16:57:44.095Z"
   },
   {
    "duration": 14,
    "start_time": "2021-12-13T17:04:48.492Z"
   },
   {
    "duration": 12,
    "start_time": "2021-12-13T17:05:12.222Z"
   },
   {
    "duration": 11,
    "start_time": "2021-12-13T17:05:21.700Z"
   },
   {
    "duration": 229,
    "start_time": "2021-12-13T17:07:16.412Z"
   },
   {
    "duration": 600,
    "start_time": "2021-12-13T17:07:26.235Z"
   },
   {
    "duration": 3,
    "start_time": "2021-12-13T17:07:49.131Z"
   },
   {
    "duration": 11,
    "start_time": "2021-12-13T17:07:55.728Z"
   },
   {
    "duration": 11,
    "start_time": "2021-12-13T17:08:03.314Z"
   },
   {
    "duration": 5,
    "start_time": "2021-12-13T17:10:29.856Z"
   },
   {
    "duration": 6,
    "start_time": "2021-12-13T17:10:30.541Z"
   },
   {
    "duration": 5,
    "start_time": "2021-12-13T17:10:31.068Z"
   },
   {
    "duration": 6452,
    "start_time": "2021-12-13T17:10:31.923Z"
   },
   {
    "duration": -602,
    "start_time": "2021-12-13T17:10:38.980Z"
   },
   {
    "duration": 6,
    "start_time": "2021-12-13T17:10:48.094Z"
   },
   {
    "duration": 6080,
    "start_time": "2021-12-13T17:10:51.588Z"
   },
   {
    "duration": 66,
    "start_time": "2021-12-13T17:11:13.148Z"
   },
   {
    "duration": 22,
    "start_time": "2021-12-13T17:11:16.210Z"
   },
   {
    "duration": 5,
    "start_time": "2021-12-13T17:11:16.883Z"
   },
   {
    "duration": 7,
    "start_time": "2021-12-13T17:11:17.550Z"
   },
   {
    "duration": 5,
    "start_time": "2021-12-13T17:11:18.738Z"
   },
   {
    "duration": 7,
    "start_time": "2021-12-13T17:11:19.270Z"
   },
   {
    "duration": 6,
    "start_time": "2021-12-13T17:11:19.833Z"
   },
   {
    "duration": 3,
    "start_time": "2021-12-13T17:11:20.842Z"
   },
   {
    "duration": 12,
    "start_time": "2021-12-13T17:11:21.910Z"
   },
   {
    "duration": 6,
    "start_time": "2021-12-13T17:13:16.815Z"
   },
   {
    "duration": 6,
    "start_time": "2021-12-13T17:13:17.735Z"
   },
   {
    "duration": 7,
    "start_time": "2021-12-13T17:13:18.708Z"
   },
   {
    "duration": 9,
    "start_time": "2021-12-13T17:13:25.425Z"
   },
   {
    "duration": 6,
    "start_time": "2021-12-13T17:13:28.706Z"
   },
   {
    "duration": 6,
    "start_time": "2021-12-13T17:13:44.497Z"
   },
   {
    "duration": 5,
    "start_time": "2021-12-13T17:13:52.356Z"
   },
   {
    "duration": 5,
    "start_time": "2021-12-13T17:13:53.128Z"
   },
   {
    "duration": 5,
    "start_time": "2021-12-13T17:13:53.652Z"
   },
   {
    "duration": 6380,
    "start_time": "2021-12-13T17:13:54.318Z"
   },
   {
    "duration": -603,
    "start_time": "2021-12-13T17:14:01.303Z"
   },
   {
    "duration": 24,
    "start_time": "2021-12-13T17:14:09.785Z"
   },
   {
    "duration": 6,
    "start_time": "2021-12-13T17:14:13.810Z"
   },
   {
    "duration": 10,
    "start_time": "2021-12-13T17:14:17.203Z"
   },
   {
    "duration": 14856,
    "start_time": "2021-12-13T17:14:28.334Z"
   },
   {
    "duration": -603,
    "start_time": "2021-12-13T17:14:43.795Z"
   },
   {
    "duration": 3,
    "start_time": "2021-12-13T17:14:50.593Z"
   },
   {
    "duration": 11,
    "start_time": "2021-12-13T17:14:53.241Z"
   },
   {
    "duration": 61,
    "start_time": "2021-12-13T17:14:58.509Z"
   },
   {
    "duration": 24,
    "start_time": "2021-12-13T17:15:05.302Z"
   },
   {
    "duration": 7,
    "start_time": "2021-12-13T17:15:10.747Z"
   },
   {
    "duration": 11,
    "start_time": "2021-12-13T17:15:15.511Z"
   },
   {
    "duration": 6,
    "start_time": "2021-12-13T17:15:21.207Z"
   },
   {
    "duration": 12,
    "start_time": "2021-12-13T17:15:25.420Z"
   },
   {
    "duration": 6,
    "start_time": "2021-12-13T17:15:27.975Z"
   },
   {
    "duration": 11,
    "start_time": "2021-12-13T17:16:18.423Z"
   },
   {
    "duration": 6,
    "start_time": "2021-12-13T17:16:44.075Z"
   },
   {
    "duration": 6,
    "start_time": "2021-12-13T17:16:45.089Z"
   },
   {
    "duration": 5,
    "start_time": "2021-12-13T17:16:51.929Z"
   },
   {
    "duration": 2,
    "start_time": "2021-12-13T17:16:58.931Z"
   },
   {
    "duration": 13,
    "start_time": "2021-12-13T17:16:59.606Z"
   },
   {
    "duration": 6,
    "start_time": "2021-12-13T17:17:19.071Z"
   },
   {
    "duration": 3,
    "start_time": "2021-12-13T17:17:19.969Z"
   },
   {
    "duration": 5,
    "start_time": "2021-12-13T17:17:20.656Z"
   },
   {
    "duration": 7,
    "start_time": "2021-12-13T17:18:00.510Z"
   },
   {
    "duration": 3,
    "start_time": "2021-12-13T17:18:01.315Z"
   },
   {
    "duration": 5,
    "start_time": "2021-12-13T17:18:02.126Z"
   },
   {
    "duration": 5,
    "start_time": "2021-12-13T17:18:04.367Z"
   },
   {
    "duration": 5,
    "start_time": "2021-12-13T17:18:23.068Z"
   },
   {
    "duration": 5,
    "start_time": "2021-12-13T17:18:23.563Z"
   },
   {
    "duration": 5,
    "start_time": "2021-12-13T17:18:24.000Z"
   },
   {
    "duration": 5,
    "start_time": "2021-12-13T17:18:40.241Z"
   },
   {
    "duration": 12,
    "start_time": "2021-12-13T17:18:44.783Z"
   },
   {
    "duration": 64,
    "start_time": "2021-12-13T17:18:49.769Z"
   },
   {
    "duration": 20,
    "start_time": "2021-12-13T17:18:53.363Z"
   },
   {
    "duration": 5,
    "start_time": "2021-12-13T17:18:58.641Z"
   },
   {
    "duration": 9,
    "start_time": "2021-12-13T17:18:59.457Z"
   },
   {
    "duration": 5,
    "start_time": "2021-12-13T17:19:01.173Z"
   },
   {
    "duration": 6,
    "start_time": "2021-12-13T17:19:01.956Z"
   },
   {
    "duration": 8,
    "start_time": "2021-12-13T17:19:02.598Z"
   },
   {
    "duration": 5,
    "start_time": "2021-12-13T17:19:09.004Z"
   },
   {
    "duration": 8,
    "start_time": "2021-12-13T17:19:09.734Z"
   },
   {
    "duration": 7,
    "start_time": "2021-12-13T17:19:10.312Z"
   },
   {
    "duration": 7,
    "start_time": "2021-12-13T17:19:32.878Z"
   },
   {
    "duration": 4,
    "start_time": "2021-12-13T17:19:33.360Z"
   },
   {
    "duration": 5,
    "start_time": "2021-12-13T17:19:33.821Z"
   },
   {
    "duration": 5,
    "start_time": "2021-12-13T17:20:32.644Z"
   },
   {
    "duration": 4,
    "start_time": "2021-12-13T17:20:33.141Z"
   },
   {
    "duration": 4,
    "start_time": "2021-12-13T17:20:33.552Z"
   },
   {
    "duration": 5,
    "start_time": "2021-12-13T17:26:29.942Z"
   },
   {
    "duration": 7,
    "start_time": "2021-12-13T17:26:31.252Z"
   },
   {
    "duration": 6,
    "start_time": "2021-12-13T17:26:32.321Z"
   },
   {
    "duration": 3,
    "start_time": "2021-12-13T17:26:33.687Z"
   },
   {
    "duration": 5,
    "start_time": "2021-12-13T17:26:36.547Z"
   },
   {
    "duration": 6,
    "start_time": "2021-12-13T17:26:38.312Z"
   },
   {
    "duration": 6,
    "start_time": "2021-12-13T17:26:39.046Z"
   },
   {
    "duration": 5,
    "start_time": "2021-12-13T17:26:39.709Z"
   },
   {
    "duration": 2,
    "start_time": "2021-12-13T17:26:40.400Z"
   },
   {
    "duration": 8,
    "start_time": "2021-12-13T17:26:43.930Z"
   },
   {
    "duration": 78,
    "start_time": "2021-12-13T17:26:51.166Z"
   },
   {
    "duration": 30,
    "start_time": "2021-12-13T17:26:55.105Z"
   },
   {
    "duration": 8,
    "start_time": "2021-12-13T17:26:57.211Z"
   },
   {
    "duration": 7,
    "start_time": "2021-12-13T17:26:59.308Z"
   },
   {
    "duration": 9,
    "start_time": "2021-12-13T17:27:00.174Z"
   },
   {
    "duration": 7,
    "start_time": "2021-12-13T17:27:17.062Z"
   },
   {
    "duration": 6,
    "start_time": "2021-12-13T17:27:19.202Z"
   },
   {
    "duration": 5,
    "start_time": "2021-12-13T17:27:27.520Z"
   },
   {
    "duration": 7,
    "start_time": "2021-12-13T17:27:28.465Z"
   },
   {
    "duration": 7,
    "start_time": "2021-12-13T17:27:29.357Z"
   },
   {
    "duration": 7,
    "start_time": "2021-12-13T17:27:39.791Z"
   },
   {
    "duration": 8,
    "start_time": "2021-12-13T17:27:44.420Z"
   },
   {
    "duration": 6,
    "start_time": "2021-12-13T17:27:45.186Z"
   },
   {
    "duration": 6,
    "start_time": "2021-12-13T17:28:04.425Z"
   },
   {
    "duration": 7,
    "start_time": "2021-12-13T17:28:04.962Z"
   },
   {
    "duration": 5,
    "start_time": "2021-12-13T17:28:05.467Z"
   },
   {
    "duration": 6,
    "start_time": "2021-12-13T17:28:31.931Z"
   },
   {
    "duration": 4,
    "start_time": "2021-12-13T17:28:32.392Z"
   },
   {
    "duration": 5,
    "start_time": "2021-12-13T17:28:32.809Z"
   },
   {
    "duration": 6,
    "start_time": "2021-12-13T17:31:47.785Z"
   },
   {
    "duration": 7,
    "start_time": "2021-12-13T17:31:48.299Z"
   },
   {
    "duration": 6,
    "start_time": "2021-12-13T17:31:48.797Z"
   },
   {
    "duration": 5,
    "start_time": "2021-12-13T17:32:09.235Z"
   },
   {
    "duration": 6,
    "start_time": "2021-12-13T17:32:09.652Z"
   },
   {
    "duration": 6,
    "start_time": "2021-12-13T17:32:09.988Z"
   },
   {
    "duration": 9,
    "start_time": "2021-12-13T17:32:13.802Z"
   },
   {
    "duration": 61,
    "start_time": "2021-12-13T17:32:17.925Z"
   },
   {
    "duration": 29,
    "start_time": "2021-12-13T17:32:20.081Z"
   },
   {
    "duration": 7,
    "start_time": "2021-12-13T17:32:20.576Z"
   },
   {
    "duration": 10,
    "start_time": "2021-12-13T17:32:21.042Z"
   },
   {
    "duration": 6,
    "start_time": "2021-12-13T17:32:21.926Z"
   },
   {
    "duration": 6,
    "start_time": "2021-12-13T17:32:22.448Z"
   },
   {
    "duration": 7,
    "start_time": "2021-12-13T17:32:23.186Z"
   },
   {
    "duration": 2,
    "start_time": "2021-12-13T17:32:23.863Z"
   },
   {
    "duration": 7,
    "start_time": "2021-12-13T17:33:10.996Z"
   },
   {
    "duration": 4,
    "start_time": "2021-12-13T17:33:11.339Z"
   },
   {
    "duration": 5,
    "start_time": "2021-12-13T17:33:11.698Z"
   },
   {
    "duration": 3,
    "start_time": "2021-12-13T17:33:12.528Z"
   },
   {
    "duration": 15,
    "start_time": "2021-12-13T17:36:09.486Z"
   },
   {
    "duration": 4,
    "start_time": "2021-12-13T17:36:25.320Z"
   },
   {
    "duration": 10,
    "start_time": "2021-12-13T17:36:27.452Z"
   },
   {
    "duration": 6,
    "start_time": "2021-12-13T17:40:54.882Z"
   },
   {
    "duration": 6487,
    "start_time": "2021-12-13T17:40:56.951Z"
   },
   {
    "duration": -610,
    "start_time": "2021-12-13T17:41:04.050Z"
   },
   {
    "duration": 95,
    "start_time": "2021-12-13T17:41:08.966Z"
   },
   {
    "duration": 20,
    "start_time": "2021-12-13T17:41:12.257Z"
   },
   {
    "duration": 6,
    "start_time": "2021-12-13T17:41:12.974Z"
   },
   {
    "duration": 7,
    "start_time": "2021-12-13T17:41:13.859Z"
   },
   {
    "duration": 7,
    "start_time": "2021-12-13T17:41:15.414Z"
   },
   {
    "duration": 3,
    "start_time": "2021-12-13T17:41:16.080Z"
   },
   {
    "duration": 4,
    "start_time": "2021-12-13T17:41:16.745Z"
   },
   {
    "duration": 4,
    "start_time": "2021-12-13T17:41:17.792Z"
   },
   {
    "duration": 12,
    "start_time": "2021-12-13T17:41:18.618Z"
   },
   {
    "duration": 244,
    "start_time": "2021-12-13T17:45:48.876Z"
   },
   {
    "duration": 4,
    "start_time": "2021-12-13T17:46:07.149Z"
   },
   {
    "duration": 5,
    "start_time": "2021-12-13T17:50:35.725Z"
   },
   {
    "duration": 4,
    "start_time": "2021-12-13T17:54:09.146Z"
   },
   {
    "duration": 12,
    "start_time": "2021-12-13T17:55:23.238Z"
   },
   {
    "duration": 14,
    "start_time": "2021-12-13T17:55:54.076Z"
   },
   {
    "duration": 26,
    "start_time": "2021-12-13T17:57:22.800Z"
   },
   {
    "duration": 300,
    "start_time": "2021-12-13T18:01:27.877Z"
   },
   {
    "duration": 14,
    "start_time": "2021-12-13T18:01:45.212Z"
   },
   {
    "duration": 13,
    "start_time": "2021-12-13T18:01:53.440Z"
   },
   {
    "duration": 13,
    "start_time": "2021-12-13T18:01:56.928Z"
   },
   {
    "duration": 6681,
    "start_time": "2021-12-13T18:03:42.346Z"
   },
   {
    "duration": 8,
    "start_time": "2021-12-13T18:04:24.417Z"
   },
   {
    "duration": 14,
    "start_time": "2021-12-13T18:14:06.405Z"
   },
   {
    "duration": 11,
    "start_time": "2021-12-13T18:14:13.111Z"
   },
   {
    "duration": 246,
    "start_time": "2021-12-13T18:17:17.155Z"
   },
   {
    "duration": 11,
    "start_time": "2021-12-13T18:17:24.563Z"
   },
   {
    "duration": 12,
    "start_time": "2021-12-13T18:17:28.530Z"
   },
   {
    "duration": 18,
    "start_time": "2021-12-13T18:21:47.998Z"
   },
   {
    "duration": 8,
    "start_time": "2021-12-13T18:21:56.425Z"
   },
   {
    "duration": 7,
    "start_time": "2021-12-13T18:22:52.345Z"
   },
   {
    "duration": 8,
    "start_time": "2021-12-13T18:22:56.936Z"
   },
   {
    "duration": 18,
    "start_time": "2021-12-13T18:22:59.514Z"
   },
   {
    "duration": 12,
    "start_time": "2021-12-13T18:23:01.602Z"
   },
   {
    "duration": 22,
    "start_time": "2021-12-13T18:23:05.671Z"
   },
   {
    "duration": 6,
    "start_time": "2021-12-13T18:23:23.004Z"
   },
   {
    "duration": 69,
    "start_time": "2021-12-13T18:23:27.558Z"
   },
   {
    "duration": 27,
    "start_time": "2021-12-13T18:23:29.812Z"
   },
   {
    "duration": 6,
    "start_time": "2021-12-13T18:23:30.412Z"
   },
   {
    "duration": 10,
    "start_time": "2021-12-13T18:23:31.091Z"
   },
   {
    "duration": 7,
    "start_time": "2021-12-13T18:23:32.166Z"
   },
   {
    "duration": 4,
    "start_time": "2021-12-13T18:23:32.903Z"
   },
   {
    "duration": 6,
    "start_time": "2021-12-13T18:23:33.386Z"
   },
   {
    "duration": 4,
    "start_time": "2021-12-13T18:23:33.874Z"
   },
   {
    "duration": 10,
    "start_time": "2021-12-13T18:23:34.433Z"
   },
   {
    "duration": 22,
    "start_time": "2021-12-13T18:23:36.743Z"
   },
   {
    "duration": 5,
    "start_time": "2021-12-13T18:23:39.643Z"
   },
   {
    "duration": 9,
    "start_time": "2021-12-13T18:23:42.596Z"
   },
   {
    "duration": 2,
    "start_time": "2021-12-13T18:23:45.349Z"
   },
   {
    "duration": 10,
    "start_time": "2021-12-13T18:27:51.575Z"
   },
   {
    "duration": 12,
    "start_time": "2021-12-13T18:27:53.912Z"
   },
   {
    "duration": 11,
    "start_time": "2021-12-13T18:27:57.495Z"
   },
   {
    "duration": 8,
    "start_time": "2021-12-13T18:28:00.098Z"
   },
   {
    "duration": 7,
    "start_time": "2021-12-13T18:28:23.466Z"
   },
   {
    "duration": 15,
    "start_time": "2021-12-13T18:28:38.643Z"
   },
   {
    "duration": 30,
    "start_time": "2021-12-13T18:32:11.378Z"
   },
   {
    "duration": 13,
    "start_time": "2021-12-13T18:36:40.874Z"
   },
   {
    "duration": 16,
    "start_time": "2021-12-13T18:36:48.039Z"
   },
   {
    "duration": 14,
    "start_time": "2021-12-13T18:36:50.698Z"
   },
   {
    "duration": 4,
    "start_time": "2021-12-13T18:36:55.235Z"
   },
   {
    "duration": 14,
    "start_time": "2021-12-13T18:36:56.227Z"
   },
   {
    "duration": 17,
    "start_time": "2021-12-13T18:36:57.220Z"
   },
   {
    "duration": 14,
    "start_time": "2021-12-13T18:36:58.033Z"
   },
   {
    "duration": 5,
    "start_time": "2021-12-13T18:37:02.774Z"
   },
   {
    "duration": 20,
    "start_time": "2021-12-13T18:37:07.931Z"
   },
   {
    "duration": 67,
    "start_time": "2021-12-13T18:37:21.031Z"
   },
   {
    "duration": 89,
    "start_time": "2021-12-13T18:37:29.171Z"
   },
   {
    "duration": 20,
    "start_time": "2021-12-13T18:37:31.524Z"
   },
   {
    "duration": 6,
    "start_time": "2021-12-13T18:37:32.107Z"
   },
   {
    "duration": 7,
    "start_time": "2021-12-13T18:37:32.742Z"
   },
   {
    "duration": 6,
    "start_time": "2021-12-13T18:37:33.956Z"
   },
   {
    "duration": 4,
    "start_time": "2021-12-13T18:37:34.589Z"
   },
   {
    "duration": 5,
    "start_time": "2021-12-13T18:37:35.174Z"
   },
   {
    "duration": 4,
    "start_time": "2021-12-13T18:37:35.776Z"
   },
   {
    "duration": 10,
    "start_time": "2021-12-13T18:37:36.420Z"
   },
   {
    "duration": 20,
    "start_time": "2021-12-13T18:37:39.197Z"
   },
   {
    "duration": 5,
    "start_time": "2021-12-13T18:37:42.670Z"
   },
   {
    "duration": 11,
    "start_time": "2021-12-13T18:37:43.761Z"
   },
   {
    "duration": 6,
    "start_time": "2021-12-13T18:37:44.760Z"
   },
   {
    "duration": 14,
    "start_time": "2021-12-13T18:37:45.652Z"
   },
   {
    "duration": 16,
    "start_time": "2021-12-13T18:37:46.534Z"
   },
   {
    "duration": 14,
    "start_time": "2021-12-13T18:37:47.644Z"
   },
   {
    "duration": 29,
    "start_time": "2021-12-13T18:38:09.230Z"
   },
   {
    "duration": 14,
    "start_time": "2021-12-13T18:38:15.919Z"
   },
   {
    "duration": 20,
    "start_time": "2021-12-13T18:38:19.469Z"
   },
   {
    "duration": 18,
    "start_time": "2021-12-13T18:38:24.841Z"
   },
   {
    "duration": 9,
    "start_time": "2021-12-13T18:38:28.940Z"
   },
   {
    "duration": 61,
    "start_time": "2021-12-13T18:38:37.299Z"
   },
   {
    "duration": 61,
    "start_time": "2021-12-13T18:38:51.640Z"
   },
   {
    "duration": 18,
    "start_time": "2021-12-13T18:38:54.060Z"
   },
   {
    "duration": 5,
    "start_time": "2021-12-13T18:38:54.470Z"
   },
   {
    "duration": 7,
    "start_time": "2021-12-13T18:38:54.891Z"
   },
   {
    "duration": 6,
    "start_time": "2021-12-13T18:38:55.775Z"
   },
   {
    "duration": 3,
    "start_time": "2021-12-13T18:38:56.447Z"
   },
   {
    "duration": 5,
    "start_time": "2021-12-13T18:38:56.903Z"
   },
   {
    "duration": 3,
    "start_time": "2021-12-13T18:38:57.405Z"
   },
   {
    "duration": 10,
    "start_time": "2021-12-13T18:38:57.985Z"
   },
   {
    "duration": 19,
    "start_time": "2021-12-13T18:39:00.803Z"
   },
   {
    "duration": 5,
    "start_time": "2021-12-13T18:39:03.828Z"
   },
   {
    "duration": 11,
    "start_time": "2021-12-13T18:39:04.412Z"
   },
   {
    "duration": 6,
    "start_time": "2021-12-13T18:39:05.090Z"
   },
   {
    "duration": 14,
    "start_time": "2021-12-13T18:39:05.796Z"
   },
   {
    "duration": 34,
    "start_time": "2021-12-13T18:39:11.011Z"
   },
   {
    "duration": 15,
    "start_time": "2021-12-13T18:39:15.288Z"
   },
   {
    "duration": 7,
    "start_time": "2021-12-13T18:42:59.346Z"
   },
   {
    "duration": 62,
    "start_time": "2021-12-13T18:43:09.497Z"
   },
   {
    "duration": 20,
    "start_time": "2021-12-13T18:43:11.945Z"
   },
   {
    "duration": 5,
    "start_time": "2021-12-13T18:43:12.418Z"
   },
   {
    "duration": 8,
    "start_time": "2021-12-13T18:43:12.928Z"
   },
   {
    "duration": 6,
    "start_time": "2021-12-13T18:43:13.854Z"
   },
   {
    "duration": 4,
    "start_time": "2021-12-13T18:43:14.337Z"
   },
   {
    "duration": 4,
    "start_time": "2021-12-13T18:43:14.813Z"
   },
   {
    "duration": 3,
    "start_time": "2021-12-13T18:43:15.308Z"
   },
   {
    "duration": 10,
    "start_time": "2021-12-13T18:43:15.779Z"
   },
   {
    "duration": 18,
    "start_time": "2021-12-13T18:43:17.941Z"
   },
   {
    "duration": 7,
    "start_time": "2021-12-13T18:43:20.698Z"
   },
   {
    "duration": 11,
    "start_time": "2021-12-13T18:43:22.047Z"
   },
   {
    "duration": 6,
    "start_time": "2021-12-13T18:43:22.995Z"
   },
   {
    "duration": 13,
    "start_time": "2021-12-13T18:43:23.754Z"
   },
   {
    "duration": 28,
    "start_time": "2021-12-13T18:43:24.420Z"
   },
   {
    "duration": 26,
    "start_time": "2021-12-13T18:43:25.537Z"
   },
   {
    "duration": 14,
    "start_time": "2021-12-13T18:54:26.836Z"
   },
   {
    "duration": 73,
    "start_time": "2021-12-13T18:54:32.089Z"
   },
   {
    "duration": 21,
    "start_time": "2021-12-13T18:54:34.704Z"
   },
   {
    "duration": 6,
    "start_time": "2021-12-13T18:54:35.107Z"
   },
   {
    "duration": 7,
    "start_time": "2021-12-13T18:54:35.515Z"
   },
   {
    "duration": 5,
    "start_time": "2021-12-13T18:54:36.303Z"
   },
   {
    "duration": 4,
    "start_time": "2021-12-13T18:54:36.729Z"
   },
   {
    "duration": 4,
    "start_time": "2021-12-13T18:54:37.074Z"
   },
   {
    "duration": 3,
    "start_time": "2021-12-13T18:54:37.486Z"
   },
   {
    "duration": 9,
    "start_time": "2021-12-13T18:54:37.966Z"
   },
   {
    "duration": 19,
    "start_time": "2021-12-13T18:54:39.712Z"
   },
   {
    "duration": 7,
    "start_time": "2021-12-13T18:54:42.196Z"
   },
   {
    "duration": 11,
    "start_time": "2021-12-13T18:54:42.737Z"
   },
   {
    "duration": 6,
    "start_time": "2021-12-13T18:54:43.256Z"
   },
   {
    "duration": 14,
    "start_time": "2021-12-13T18:54:43.760Z"
   },
   {
    "duration": 27,
    "start_time": "2021-12-13T18:54:46.665Z"
   },
   {
    "duration": 14,
    "start_time": "2021-12-13T18:54:46.758Z"
   },
   {
    "duration": 8,
    "start_time": "2021-12-13T19:15:24.584Z"
   },
   {
    "duration": 239,
    "start_time": "2021-12-13T19:19:15.698Z"
   },
   {
    "duration": 252,
    "start_time": "2021-12-13T19:19:58.257Z"
   },
   {
    "duration": 226,
    "start_time": "2021-12-13T19:20:14.394Z"
   },
   {
    "duration": 267,
    "start_time": "2021-12-13T19:20:21.840Z"
   },
   {
    "duration": 286,
    "start_time": "2021-12-13T19:23:17.137Z"
   },
   {
    "duration": 19,
    "start_time": "2021-12-13T19:23:23.481Z"
   },
   {
    "duration": 3,
    "start_time": "2021-12-13T19:23:27.552Z"
   },
   {
    "duration": 242,
    "start_time": "2021-12-13T19:23:28.993Z"
   },
   {
    "duration": 7,
    "start_time": "2021-12-13T19:26:31.481Z"
   },
   {
    "duration": 4,
    "start_time": "2021-12-13T19:51:02.911Z"
   },
   {
    "duration": 645,
    "start_time": "2021-12-13T20:03:39.183Z"
   },
   {
    "duration": 78,
    "start_time": "2021-12-13T20:04:07.831Z"
   },
   {
    "duration": 4,
    "start_time": "2021-12-13T20:04:15.038Z"
   },
   {
    "duration": 866,
    "start_time": "2021-12-13T20:10:02.889Z"
   },
   {
    "duration": 710,
    "start_time": "2021-12-13T20:10:09.177Z"
   },
   {
    "duration": 4,
    "start_time": "2021-12-13T20:11:45.472Z"
   },
   {
    "duration": 1618,
    "start_time": "2021-12-13T20:12:48.081Z"
   },
   {
    "duration": 12,
    "start_time": "2021-12-13T20:17:00.123Z"
   },
   {
    "duration": 18,
    "start_time": "2021-12-13T20:17:12.958Z"
   },
   {
    "duration": 4,
    "start_time": "2021-12-13T20:18:11.446Z"
   },
   {
    "duration": 1054,
    "start_time": "2021-12-13T20:18:12.069Z"
   },
   {
    "duration": 3,
    "start_time": "2021-12-13T20:18:13.125Z"
   },
   {
    "duration": 21,
    "start_time": "2021-12-13T20:18:13.130Z"
   },
   {
    "duration": 10,
    "start_time": "2021-12-13T20:18:25.478Z"
   },
   {
    "duration": 12,
    "start_time": "2021-12-13T20:18:29.090Z"
   },
   {
    "duration": 10,
    "start_time": "2021-12-13T20:18:44.013Z"
   },
   {
    "duration": 3,
    "start_time": "2021-12-13T20:19:17.271Z"
   },
   {
    "duration": 1055,
    "start_time": "2021-12-13T20:19:17.976Z"
   },
   {
    "duration": 3,
    "start_time": "2021-12-13T20:19:19.033Z"
   },
   {
    "duration": 10,
    "start_time": "2021-12-13T20:19:19.400Z"
   },
   {
    "duration": 11,
    "start_time": "2021-12-13T20:19:34.383Z"
   },
   {
    "duration": 4,
    "start_time": "2021-12-13T20:22:16.632Z"
   },
   {
    "duration": 1040,
    "start_time": "2021-12-13T20:22:17.088Z"
   },
   {
    "duration": 4,
    "start_time": "2021-12-13T20:22:18.129Z"
   },
   {
    "duration": 10,
    "start_time": "2021-12-13T20:22:18.285Z"
   },
   {
    "duration": 3,
    "start_time": "2021-12-13T20:23:23.825Z"
   },
   {
    "duration": 1022,
    "start_time": "2021-12-13T20:23:24.438Z"
   },
   {
    "duration": 3,
    "start_time": "2021-12-13T20:23:25.461Z"
   },
   {
    "duration": 11,
    "start_time": "2021-12-13T20:23:25.911Z"
   },
   {
    "duration": 4,
    "start_time": "2021-12-13T20:23:34.116Z"
   },
   {
    "duration": 1055,
    "start_time": "2021-12-13T20:23:34.555Z"
   },
   {
    "duration": 4,
    "start_time": "2021-12-13T20:23:35.612Z"
   },
   {
    "duration": 12,
    "start_time": "2021-12-13T20:23:35.618Z"
   },
   {
    "duration": 4,
    "start_time": "2021-12-13T20:24:22.491Z"
   },
   {
    "duration": 1060,
    "start_time": "2021-12-13T20:24:25.050Z"
   },
   {
    "duration": 3,
    "start_time": "2021-12-13T20:24:26.111Z"
   },
   {
    "duration": 21,
    "start_time": "2021-12-13T20:24:26.116Z"
   },
   {
    "duration": 4,
    "start_time": "2021-12-13T20:24:33.613Z"
   },
   {
    "duration": 1035,
    "start_time": "2021-12-13T20:24:33.971Z"
   },
   {
    "duration": 3,
    "start_time": "2021-12-13T20:24:35.008Z"
   },
   {
    "duration": 14,
    "start_time": "2021-12-13T20:24:35.013Z"
   },
   {
    "duration": 3,
    "start_time": "2021-12-13T20:25:06.561Z"
   },
   {
    "duration": 1679,
    "start_time": "2021-12-13T20:25:07.281Z"
   },
   {
    "duration": -616,
    "start_time": "2021-12-13T20:25:09.578Z"
   },
   {
    "duration": 3,
    "start_time": "2021-12-13T20:25:20.597Z"
   },
   {
    "duration": 1053,
    "start_time": "2021-12-13T20:25:21.082Z"
   },
   {
    "duration": 3,
    "start_time": "2021-12-13T20:25:22.137Z"
   },
   {
    "duration": 11,
    "start_time": "2021-12-13T20:25:22.795Z"
   },
   {
    "duration": 3,
    "start_time": "2021-12-13T20:29:49.563Z"
   },
   {
    "duration": 1125,
    "start_time": "2021-12-13T20:29:50.138Z"
   },
   {
    "duration": 3,
    "start_time": "2021-12-13T20:29:51.264Z"
   },
   {
    "duration": 11,
    "start_time": "2021-12-13T20:29:51.423Z"
   },
   {
    "duration": 3,
    "start_time": "2021-12-13T20:48:39.659Z"
   },
   {
    "duration": 3,
    "start_time": "2021-12-13T20:48:50.843Z"
   },
   {
    "duration": 248,
    "start_time": "2021-12-13T20:48:55.625Z"
   },
   {
    "duration": 79,
    "start_time": "2021-12-13T20:49:57.724Z"
   },
   {
    "duration": 3,
    "start_time": "2021-12-13T20:50:03.236Z"
   },
   {
    "duration": 403,
    "start_time": "2021-12-13T20:50:14.390Z"
   },
   {
    "duration": 231,
    "start_time": "2021-12-13T20:51:59.175Z"
   },
   {
    "duration": 234,
    "start_time": "2021-12-13T20:54:35.797Z"
   },
   {
    "duration": 229,
    "start_time": "2021-12-13T20:54:49.969Z"
   },
   {
    "duration": 3,
    "start_time": "2021-12-13T20:56:02.044Z"
   },
   {
    "duration": 3,
    "start_time": "2021-12-13T20:56:26.372Z"
   },
   {
    "duration": 1802,
    "start_time": "2021-12-13T20:56:27.912Z"
   },
   {
    "duration": -622,
    "start_time": "2021-12-13T20:56:30.338Z"
   },
   {
    "duration": -625,
    "start_time": "2021-12-13T20:56:30.341Z"
   },
   {
    "duration": 26,
    "start_time": "2021-12-13T20:56:43.099Z"
   },
   {
    "duration": 1783,
    "start_time": "2021-12-13T20:56:43.614Z"
   },
   {
    "duration": 4,
    "start_time": "2021-12-13T20:56:48.343Z"
   },
   {
    "duration": 11,
    "start_time": "2021-12-13T20:56:49.847Z"
   },
   {
    "duration": 11,
    "start_time": "2021-12-13T20:57:19.165Z"
   },
   {
    "duration": 10,
    "start_time": "2021-12-13T20:57:26.002Z"
   },
   {
    "duration": 26,
    "start_time": "2021-12-13T20:58:05.137Z"
   },
   {
    "duration": 94,
    "start_time": "2021-12-13T20:58:16.611Z"
   },
   {
    "duration": 3,
    "start_time": "2021-12-13T20:58:22.076Z"
   },
   {
    "duration": 483,
    "start_time": "2021-12-13T21:00:46.495Z"
   },
   {
    "duration": 2050,
    "start_time": "2021-12-13T21:01:52.878Z"
   },
   {
    "duration": 1902,
    "start_time": "2021-12-13T21:02:06.237Z"
   },
   {
    "duration": 1894,
    "start_time": "2021-12-13T21:05:04.117Z"
   },
   {
    "duration": 3,
    "start_time": "2021-12-13T21:05:52.497Z"
   },
   {
    "duration": 82,
    "start_time": "2021-12-13T21:06:28.977Z"
   },
   {
    "duration": 3,
    "start_time": "2021-12-13T21:06:33.923Z"
   },
   {
    "duration": 26,
    "start_time": "2021-12-13T21:08:28.109Z"
   },
   {
    "duration": 7,
    "start_time": "2021-12-13T21:08:29.117Z"
   },
   {
    "duration": 89,
    "start_time": "2021-12-13T21:08:40.386Z"
   },
   {
    "duration": 30,
    "start_time": "2021-12-13T21:08:43.099Z"
   },
   {
    "duration": 7,
    "start_time": "2021-12-13T21:08:43.505Z"
   },
   {
    "duration": 10,
    "start_time": "2021-12-13T21:08:43.969Z"
   },
   {
    "duration": 7,
    "start_time": "2021-12-13T21:08:44.859Z"
   },
   {
    "duration": 4,
    "start_time": "2021-12-13T21:08:45.320Z"
   },
   {
    "duration": 5,
    "start_time": "2021-12-13T21:08:45.764Z"
   },
   {
    "duration": 3,
    "start_time": "2021-12-13T21:08:46.215Z"
   },
   {
    "duration": 10,
    "start_time": "2021-12-13T21:08:46.714Z"
   },
   {
    "duration": 19,
    "start_time": "2021-12-13T21:08:48.698Z"
   },
   {
    "duration": 7,
    "start_time": "2021-12-13T21:08:51.548Z"
   },
   {
    "duration": 11,
    "start_time": "2021-12-13T21:08:52.815Z"
   },
   {
    "duration": 7,
    "start_time": "2021-12-13T21:08:53.825Z"
   },
   {
    "duration": 15,
    "start_time": "2021-12-13T21:08:54.519Z"
   },
   {
    "duration": 27,
    "start_time": "2021-12-13T21:08:55.151Z"
   },
   {
    "duration": 15,
    "start_time": "2021-12-13T21:08:55.744Z"
   },
   {
    "duration": 3,
    "start_time": "2021-12-13T21:08:58.270Z"
   },
   {
    "duration": 8,
    "start_time": "2021-12-13T21:08:58.853Z"
   },
   {
    "duration": 4,
    "start_time": "2021-12-13T21:09:01.305Z"
   },
   {
    "duration": 3879,
    "start_time": "2021-12-13T21:09:02.047Z"
   },
   {
    "duration": 3,
    "start_time": "2021-12-13T21:09:05.928Z"
   },
   {
    "duration": 12,
    "start_time": "2021-12-13T21:09:07.249Z"
   },
   {
    "duration": 63,
    "start_time": "2021-12-13T21:13:36.980Z"
   },
   {
    "duration": 18,
    "start_time": "2021-12-13T21:13:37.045Z"
   },
   {
    "duration": 22,
    "start_time": "2021-12-13T21:13:37.065Z"
   },
   {
    "duration": 7,
    "start_time": "2021-12-13T21:13:37.089Z"
   },
   {
    "duration": 5,
    "start_time": "2021-12-13T21:13:37.098Z"
   },
   {
    "duration": 3,
    "start_time": "2021-12-13T21:13:37.104Z"
   },
   {
    "duration": 6,
    "start_time": "2021-12-13T21:13:37.108Z"
   },
   {
    "duration": 5,
    "start_time": "2021-12-13T21:13:37.116Z"
   },
   {
    "duration": 11,
    "start_time": "2021-12-13T21:13:37.123Z"
   },
   {
    "duration": 17,
    "start_time": "2021-12-13T21:13:37.136Z"
   },
   {
    "duration": 34,
    "start_time": "2021-12-13T21:13:37.154Z"
   },
   {
    "duration": 10,
    "start_time": "2021-12-13T21:13:37.190Z"
   },
   {
    "duration": 9,
    "start_time": "2021-12-13T21:13:37.201Z"
   },
   {
    "duration": 12,
    "start_time": "2021-12-13T21:13:37.211Z"
   },
   {
    "duration": 25,
    "start_time": "2021-12-13T21:13:37.225Z"
   },
   {
    "duration": 37,
    "start_time": "2021-12-13T21:13:37.252Z"
   },
   {
    "duration": 24,
    "start_time": "2021-12-13T21:13:37.290Z"
   },
   {
    "duration": 7,
    "start_time": "2021-12-13T21:13:37.316Z"
   },
   {
    "duration": 63,
    "start_time": "2021-12-13T21:13:45.390Z"
   },
   {
    "duration": 42,
    "start_time": "2021-12-13T21:13:45.455Z"
   },
   {
    "duration": 5,
    "start_time": "2021-12-13T21:13:45.499Z"
   },
   {
    "duration": 7,
    "start_time": "2021-12-13T21:13:45.506Z"
   },
   {
    "duration": 5,
    "start_time": "2021-12-13T21:13:45.514Z"
   },
   {
    "duration": 4,
    "start_time": "2021-12-13T21:13:45.521Z"
   },
   {
    "duration": 5,
    "start_time": "2021-12-13T21:13:45.527Z"
   },
   {
    "duration": 4,
    "start_time": "2021-12-13T21:13:45.533Z"
   },
   {
    "duration": 10,
    "start_time": "2021-12-13T21:13:45.539Z"
   },
   {
    "duration": 53,
    "start_time": "2021-12-13T21:13:45.550Z"
   },
   {
    "duration": 6,
    "start_time": "2021-12-13T21:13:45.604Z"
   },
   {
    "duration": 12,
    "start_time": "2021-12-13T21:13:45.612Z"
   },
   {
    "duration": 8,
    "start_time": "2021-12-13T21:13:45.626Z"
   },
   {
    "duration": 14,
    "start_time": "2021-12-13T21:13:45.635Z"
   },
   {
    "duration": 50,
    "start_time": "2021-12-13T21:13:45.650Z"
   },
   {
    "duration": 13,
    "start_time": "2021-12-13T21:13:45.702Z"
   },
   {
    "duration": 2,
    "start_time": "2021-12-13T21:13:45.716Z"
   },
   {
    "duration": 8,
    "start_time": "2021-12-13T21:13:45.720Z"
   },
   {
    "duration": 4,
    "start_time": "2021-12-13T21:13:45.729Z"
   },
   {
    "duration": 3299,
    "start_time": "2021-12-13T21:13:45.735Z"
   },
   {
    "duration": 4,
    "start_time": "2021-12-13T21:13:49.036Z"
   },
   {
    "duration": 15,
    "start_time": "2021-12-13T21:13:49.041Z"
   },
   {
    "duration": 783,
    "start_time": "2021-12-14T18:15:33.074Z"
   },
   {
    "duration": 440,
    "start_time": "2021-12-14T18:15:46.456Z"
   },
   {
    "duration": 775,
    "start_time": "2021-12-14T18:16:09.654Z"
   },
   {
    "duration": 32,
    "start_time": "2021-12-14T18:16:10.431Z"
   },
   {
    "duration": 7,
    "start_time": "2021-12-14T18:16:10.465Z"
   },
   {
    "duration": 54,
    "start_time": "2021-12-14T18:16:10.474Z"
   },
   {
    "duration": 8,
    "start_time": "2021-12-14T18:16:10.530Z"
   },
   {
    "duration": 5,
    "start_time": "2021-12-14T18:16:10.542Z"
   },
   {
    "duration": 12,
    "start_time": "2021-12-14T18:16:10.550Z"
   },
   {
    "duration": 5,
    "start_time": "2021-12-14T18:16:10.565Z"
   },
   {
    "duration": 57,
    "start_time": "2021-12-14T18:16:10.573Z"
   },
   {
    "duration": 27,
    "start_time": "2021-12-14T18:16:10.633Z"
   },
   {
    "duration": 9,
    "start_time": "2021-12-14T18:16:10.662Z"
   },
   {
    "duration": 53,
    "start_time": "2021-12-14T18:16:10.674Z"
   },
   {
    "duration": 8,
    "start_time": "2021-12-14T18:16:10.730Z"
   },
   {
    "duration": 21,
    "start_time": "2021-12-14T18:16:10.741Z"
   },
   {
    "duration": 89,
    "start_time": "2021-12-14T18:16:10.765Z"
   },
   {
    "duration": 21,
    "start_time": "2021-12-14T18:16:10.856Z"
   },
   {
    "duration": 9,
    "start_time": "2021-12-14T18:16:10.879Z"
   },
   {
    "duration": 39,
    "start_time": "2021-12-14T18:16:10.891Z"
   },
   {
    "duration": 5,
    "start_time": "2021-12-14T18:16:10.933Z"
   },
   {
    "duration": 4635,
    "start_time": "2021-12-14T18:16:10.941Z"
   },
   {
    "duration": 5,
    "start_time": "2021-12-14T18:16:15.579Z"
   },
   {
    "duration": 42,
    "start_time": "2021-12-14T18:16:15.587Z"
   },
   {
    "duration": 9,
    "start_time": "2021-12-14T18:16:19.479Z"
   },
   {
    "duration": 6,
    "start_time": "2021-12-14T18:16:39.060Z"
   },
   {
    "duration": 11,
    "start_time": "2021-12-14T18:22:03.762Z"
   },
   {
    "duration": 366,
    "start_time": "2021-12-14T18:24:21.693Z"
   },
   {
    "duration": 117,
    "start_time": "2021-12-14T18:24:30.437Z"
   },
   {
    "duration": 348,
    "start_time": "2021-12-14T18:24:34.238Z"
   },
   {
    "duration": 315,
    "start_time": "2021-12-14T18:25:25.719Z"
   },
   {
    "duration": 334,
    "start_time": "2021-12-14T18:25:36.825Z"
   },
   {
    "duration": 287,
    "start_time": "2021-12-14T18:26:43.758Z"
   },
   {
    "duration": 6,
    "start_time": "2021-12-14T18:26:58.270Z"
   },
   {
    "duration": 6,
    "start_time": "2021-12-14T18:27:00.552Z"
   },
   {
    "duration": 12,
    "start_time": "2021-12-14T18:27:11.600Z"
   },
   {
    "duration": 13,
    "start_time": "2021-12-14T18:34:16.167Z"
   },
   {
    "duration": 6,
    "start_time": "2021-12-14T18:34:48.976Z"
   },
   {
    "duration": 20,
    "start_time": "2021-12-14T18:35:28.224Z"
   },
   {
    "duration": 33,
    "start_time": "2021-12-14T18:38:43.778Z"
   },
   {
    "duration": 113,
    "start_time": "2021-12-14T18:40:07.822Z"
   },
   {
    "duration": 409,
    "start_time": "2021-12-14T18:40:14.569Z"
   },
   {
    "duration": 31,
    "start_time": "2021-12-14T18:42:49.075Z"
   },
   {
    "duration": 33,
    "start_time": "2021-12-14T18:43:03.045Z"
   },
   {
    "duration": 2601,
    "start_time": "2021-12-14T18:44:02.387Z"
   },
   {
    "duration": 32,
    "start_time": "2021-12-14T18:44:17.210Z"
   },
   {
    "duration": 391,
    "start_time": "2021-12-14T18:46:48.026Z"
   },
   {
    "duration": 29,
    "start_time": "2021-12-14T18:47:02.930Z"
   },
   {
    "duration": 11,
    "start_time": "2021-12-14T18:47:37.953Z"
   },
   {
    "duration": 6,
    "start_time": "2021-12-14T18:47:48.858Z"
   },
   {
    "duration": 297,
    "start_time": "2021-12-14T18:47:58.049Z"
   },
   {
    "duration": 7,
    "start_time": "2021-12-14T18:47:59.817Z"
   },
   {
    "duration": 13,
    "start_time": "2021-12-14T18:48:03.975Z"
   },
   {
    "duration": 278,
    "start_time": "2021-12-14T18:48:21.355Z"
   },
   {
    "duration": 10,
    "start_time": "2021-12-14T18:48:34.226Z"
   },
   {
    "duration": 6,
    "start_time": "2021-12-14T18:48:37.055Z"
   },
   {
    "duration": 16,
    "start_time": "2021-12-14T18:49:50.231Z"
   },
   {
    "duration": 16,
    "start_time": "2021-12-14T18:50:04.100Z"
   },
   {
    "duration": 6,
    "start_time": "2021-12-14T18:50:14.254Z"
   },
   {
    "duration": 7,
    "start_time": "2021-12-14T18:50:30.087Z"
   },
   {
    "duration": 7,
    "start_time": "2021-12-14T18:50:55.842Z"
   },
   {
    "duration": 5,
    "start_time": "2021-12-14T18:51:08.610Z"
   },
   {
    "duration": 6,
    "start_time": "2021-12-14T18:51:15.649Z"
   },
   {
    "duration": 7,
    "start_time": "2021-12-14T18:51:44.499Z"
   },
   {
    "duration": 7,
    "start_time": "2021-12-14T18:53:05.713Z"
   },
   {
    "duration": 7,
    "start_time": "2021-12-14T18:54:31.665Z"
   },
   {
    "duration": 10,
    "start_time": "2021-12-14T18:55:50.894Z"
   },
   {
    "duration": 15,
    "start_time": "2021-12-14T18:56:50.994Z"
   },
   {
    "duration": 327,
    "start_time": "2021-12-14T19:07:14.117Z"
   },
   {
    "duration": 1676,
    "start_time": "2021-12-14T19:07:22.607Z"
   },
   {
    "duration": 282,
    "start_time": "2021-12-14T19:10:57.196Z"
   },
   {
    "duration": 33,
    "start_time": "2021-12-14T19:11:05.968Z"
   },
   {
    "duration": 131,
    "start_time": "2021-12-14T19:17:29.915Z"
   },
   {
    "duration": 5,
    "start_time": "2021-12-14T19:23:43.708Z"
   },
   {
    "duration": 4,
    "start_time": "2021-12-14T19:26:16.927Z"
   },
   {
    "duration": 6,
    "start_time": "2021-12-14T19:26:47.143Z"
   },
   {
    "duration": 616,
    "start_time": "2021-12-14T19:27:05.262Z"
   },
   {
    "duration": 4,
    "start_time": "2021-12-14T19:27:39.811Z"
   },
   {
    "duration": 564,
    "start_time": "2021-12-14T19:27:40.780Z"
   },
   {
    "duration": 4,
    "start_time": "2021-12-14T19:32:30.662Z"
   },
   {
    "duration": 698,
    "start_time": "2021-12-14T19:32:32.103Z"
   },
   {
    "duration": 86,
    "start_time": "2021-12-14T19:32:39.155Z"
   },
   {
    "duration": 33,
    "start_time": "2021-12-14T19:32:39.244Z"
   },
   {
    "duration": 43,
    "start_time": "2021-12-14T19:32:39.280Z"
   },
   {
    "duration": 11,
    "start_time": "2021-12-14T19:32:39.326Z"
   },
   {
    "duration": 15,
    "start_time": "2021-12-14T19:32:39.339Z"
   },
   {
    "duration": 25,
    "start_time": "2021-12-14T19:32:39.356Z"
   },
   {
    "duration": 25,
    "start_time": "2021-12-14T19:32:39.383Z"
   },
   {
    "duration": 22,
    "start_time": "2021-12-14T19:32:39.410Z"
   },
   {
    "duration": 32,
    "start_time": "2021-12-14T19:32:39.435Z"
   },
   {
    "duration": 31,
    "start_time": "2021-12-14T19:32:39.471Z"
   },
   {
    "duration": 10,
    "start_time": "2021-12-14T19:32:39.523Z"
   },
   {
    "duration": 18,
    "start_time": "2021-12-14T19:32:39.535Z"
   },
   {
    "duration": 12,
    "start_time": "2021-12-14T19:32:39.556Z"
   },
   {
    "duration": 54,
    "start_time": "2021-12-14T19:32:39.571Z"
   },
   {
    "duration": 44,
    "start_time": "2021-12-14T19:32:39.628Z"
   },
   {
    "duration": 50,
    "start_time": "2021-12-14T19:32:39.674Z"
   },
   {
    "duration": 28,
    "start_time": "2021-12-14T19:32:39.728Z"
   },
   {
    "duration": 11,
    "start_time": "2021-12-14T19:32:39.758Z"
   },
   {
    "duration": 5,
    "start_time": "2021-12-14T19:32:39.771Z"
   },
   {
    "duration": 4833,
    "start_time": "2021-12-14T19:32:39.779Z"
   },
   {
    "duration": 10,
    "start_time": "2021-12-14T19:32:44.615Z"
   },
   {
    "duration": 23,
    "start_time": "2021-12-14T19:32:44.628Z"
   },
   {
    "duration": 21,
    "start_time": "2021-12-14T19:32:44.654Z"
   },
   {
    "duration": 51,
    "start_time": "2021-12-14T19:32:44.678Z"
   },
   {
    "duration": 7,
    "start_time": "2021-12-14T19:32:44.731Z"
   },
   {
    "duration": 42,
    "start_time": "2021-12-14T19:32:44.740Z"
   },
   {
    "duration": 10,
    "start_time": "2021-12-14T19:32:44.789Z"
   },
   {
    "duration": 115,
    "start_time": "2021-12-14T19:32:44.802Z"
   },
   {
    "duration": -36,
    "start_time": "2021-12-14T19:32:44.955Z"
   },
   {
    "duration": -36,
    "start_time": "2021-12-14T19:32:44.957Z"
   },
   {
    "duration": -38,
    "start_time": "2021-12-14T19:32:44.960Z"
   },
   {
    "duration": -45,
    "start_time": "2021-12-14T19:32:44.969Z"
   },
   {
    "duration": -46,
    "start_time": "2021-12-14T19:32:44.971Z"
   },
   {
    "duration": 9,
    "start_time": "2021-12-14T19:33:07.205Z"
   },
   {
    "duration": 14,
    "start_time": "2021-12-14T19:33:08.654Z"
   },
   {
    "duration": 35,
    "start_time": "2021-12-14T19:33:12.352Z"
   },
   {
    "duration": 4,
    "start_time": "2021-12-14T19:33:13.614Z"
   },
   {
    "duration": 5,
    "start_time": "2021-12-14T19:33:20.922Z"
   },
   {
    "duration": 930,
    "start_time": "2021-12-14T19:33:21.858Z"
   },
   {
    "duration": 4,
    "start_time": "2021-12-14T19:33:58.743Z"
   },
   {
    "duration": 5,
    "start_time": "2021-12-14T19:33:59.516Z"
   },
   {
    "duration": 5,
    "start_time": "2021-12-14T19:34:14.031Z"
   },
   {
    "duration": 1852,
    "start_time": "2021-12-14T19:34:14.529Z"
   },
   {
    "duration": 5,
    "start_time": "2021-12-14T19:35:48.929Z"
   },
   {
    "duration": 1201,
    "start_time": "2021-12-14T19:35:49.744Z"
   },
   {
    "duration": 842,
    "start_time": "2021-12-14T19:35:59.124Z"
   },
   {
    "duration": 5,
    "start_time": "2021-12-14T19:40:38.912Z"
   },
   {
    "duration": 5,
    "start_time": "2021-12-14T19:41:27.737Z"
   },
   {
    "duration": 597,
    "start_time": "2021-12-14T19:41:28.782Z"
   },
   {
    "duration": 95,
    "start_time": "2021-12-14T19:41:58.994Z"
   },
   {
    "duration": 6,
    "start_time": "2021-12-14T19:42:56.710Z"
   },
   {
    "duration": 569,
    "start_time": "2021-12-14T19:42:58.324Z"
   },
   {
    "duration": 4,
    "start_time": "2021-12-14T19:43:21.665Z"
   },
   {
    "duration": 4,
    "start_time": "2021-12-14T19:43:22.538Z"
   },
   {
    "duration": 611,
    "start_time": "2021-12-14T19:52:19.021Z"
   },
   {
    "duration": 16,
    "start_time": "2021-12-14T19:53:47.202Z"
   },
   {
    "duration": 29,
    "start_time": "2021-12-14T19:54:01.482Z"
   },
   {
    "duration": 16,
    "start_time": "2021-12-14T19:55:33.327Z"
   },
   {
    "duration": 1713,
    "start_time": "2021-12-14T19:57:46.146Z"
   },
   {
    "duration": 1779,
    "start_time": "2021-12-14T19:57:49.410Z"
   },
   {
    "duration": 1163,
    "start_time": "2021-12-14T19:59:04.854Z"
   },
   {
    "duration": 119,
    "start_time": "2021-12-14T19:59:36.544Z"
   },
   {
    "duration": 62,
    "start_time": "2021-12-14T19:59:36.666Z"
   },
   {
    "duration": 10,
    "start_time": "2021-12-14T19:59:36.732Z"
   },
   {
    "duration": 33,
    "start_time": "2021-12-14T19:59:36.747Z"
   },
   {
    "duration": 10,
    "start_time": "2021-12-14T19:59:36.783Z"
   },
   {
    "duration": 30,
    "start_time": "2021-12-14T19:59:36.796Z"
   },
   {
    "duration": 8,
    "start_time": "2021-12-14T19:59:36.833Z"
   },
   {
    "duration": 8,
    "start_time": "2021-12-14T19:59:36.847Z"
   },
   {
    "duration": 18,
    "start_time": "2021-12-14T19:59:36.861Z"
   },
   {
    "duration": 79,
    "start_time": "2021-12-14T19:59:36.884Z"
   },
   {
    "duration": 12,
    "start_time": "2021-12-14T19:59:36.966Z"
   },
   {
    "duration": 58,
    "start_time": "2021-12-14T19:59:36.981Z"
   },
   {
    "duration": 17,
    "start_time": "2021-12-14T19:59:37.042Z"
   },
   {
    "duration": 22,
    "start_time": "2021-12-14T19:59:37.061Z"
   },
   {
    "duration": 102,
    "start_time": "2021-12-14T19:59:37.086Z"
   },
   {
    "duration": 53,
    "start_time": "2021-12-14T19:59:37.191Z"
   },
   {
    "duration": 28,
    "start_time": "2021-12-14T19:59:37.247Z"
   },
   {
    "duration": 15,
    "start_time": "2021-12-14T19:59:37.278Z"
   },
   {
    "duration": 40,
    "start_time": "2021-12-14T19:59:37.297Z"
   },
   {
    "duration": 6252,
    "start_time": "2021-12-14T19:59:37.340Z"
   },
   {
    "duration": 6,
    "start_time": "2021-12-14T19:59:43.596Z"
   },
   {
    "duration": 39,
    "start_time": "2021-12-14T19:59:43.606Z"
   },
   {
    "duration": 14,
    "start_time": "2021-12-14T19:59:43.649Z"
   },
   {
    "duration": 16,
    "start_time": "2021-12-14T19:59:43.666Z"
   },
   {
    "duration": 14,
    "start_time": "2021-12-14T19:59:43.727Z"
   },
   {
    "duration": 20,
    "start_time": "2021-12-14T19:59:43.744Z"
   },
   {
    "duration": 9,
    "start_time": "2021-12-14T19:59:43.770Z"
   },
   {
    "duration": 41,
    "start_time": "2021-12-14T19:59:43.782Z"
   },
   {
    "duration": 20,
    "start_time": "2021-12-14T19:59:43.828Z"
   },
   {
    "duration": 32,
    "start_time": "2021-12-14T19:59:43.851Z"
   },
   {
    "duration": 39,
    "start_time": "2021-12-14T19:59:43.885Z"
   },
   {
    "duration": 30,
    "start_time": "2021-12-14T19:59:43.927Z"
   },
   {
    "duration": 15,
    "start_time": "2021-12-14T19:59:43.960Z"
   },
   {
    "duration": 21,
    "start_time": "2021-12-14T19:59:43.978Z"
   },
   {
    "duration": 1208,
    "start_time": "2021-12-14T20:00:34.572Z"
   },
   {
    "duration": -43,
    "start_time": "2021-12-14T20:00:35.826Z"
   },
   {
    "duration": 1532,
    "start_time": "2021-12-14T20:00:45.599Z"
   },
   {
    "duration": 313,
    "start_time": "2021-12-14T20:01:37.644Z"
   },
   {
    "duration": 1447,
    "start_time": "2021-12-14T20:02:33.045Z"
   },
   {
    "duration": 312,
    "start_time": "2021-12-14T20:03:36.040Z"
   },
   {
    "duration": 4,
    "start_time": "2021-12-14T20:03:44.002Z"
   },
   {
    "duration": 6,
    "start_time": "2021-12-14T20:03:45.188Z"
   },
   {
    "duration": 11,
    "start_time": "2021-12-14T20:03:48.596Z"
   },
   {
    "duration": 24,
    "start_time": "2021-12-14T20:03:50.686Z"
   },
   {
    "duration": 1254,
    "start_time": "2021-12-14T20:04:13.109Z"
   },
   {
    "duration": 22,
    "start_time": "2021-12-14T20:04:14.627Z"
   },
   {
    "duration": 4,
    "start_time": "2021-12-14T20:04:18.029Z"
   },
   {
    "duration": 5,
    "start_time": "2021-12-14T20:04:18.478Z"
   },
   {
    "duration": 13,
    "start_time": "2021-12-14T20:04:18.955Z"
   },
   {
    "duration": 18,
    "start_time": "2021-12-14T20:04:19.644Z"
   },
   {
    "duration": 18,
    "start_time": "2021-12-14T20:04:30.616Z"
   },
   {
    "duration": 24,
    "start_time": "2021-12-14T20:04:34.245Z"
   },
   {
    "duration": 18,
    "start_time": "2021-12-14T20:04:45.949Z"
   },
   {
    "duration": 21,
    "start_time": "2021-12-14T20:04:50.388Z"
   },
   {
    "duration": 19,
    "start_time": "2021-12-14T20:04:57.256Z"
   },
   {
    "duration": 50,
    "start_time": "2021-12-14T20:05:09.855Z"
   },
   {
    "duration": 44,
    "start_time": "2021-12-14T20:05:19.386Z"
   },
   {
    "duration": 42,
    "start_time": "2021-12-14T20:09:43.622Z"
   },
   {
    "duration": 1411,
    "start_time": "2021-12-14T20:18:55.137Z"
   },
   {
    "duration": -50,
    "start_time": "2021-12-14T20:18:56.602Z"
   },
   {
    "duration": 49,
    "start_time": "2021-12-14T20:19:01.515Z"
   },
   {
    "duration": 5,
    "start_time": "2021-12-14T20:19:02.054Z"
   },
   {
    "duration": 5,
    "start_time": "2021-12-14T20:19:02.797Z"
   },
   {
    "duration": 2260,
    "start_time": "2021-12-14T20:19:03.457Z"
   },
   {
    "duration": 1492,
    "start_time": "2021-12-14T20:19:12.319Z"
   },
   {
    "duration": -54,
    "start_time": "2021-12-14T20:19:13.868Z"
   },
   {
    "duration": 19,
    "start_time": "2021-12-14T20:19:17.770Z"
   },
   {
    "duration": 51,
    "start_time": "2021-12-14T20:19:20.491Z"
   },
   {
    "duration": 93,
    "start_time": "2021-12-14T20:19:38.998Z"
   },
   {
    "duration": 64,
    "start_time": "2021-12-14T20:19:39.094Z"
   },
   {
    "duration": 7,
    "start_time": "2021-12-14T20:19:39.161Z"
   },
   {
    "duration": 12,
    "start_time": "2021-12-14T20:19:39.171Z"
   },
   {
    "duration": 51,
    "start_time": "2021-12-14T20:19:39.185Z"
   },
   {
    "duration": 5,
    "start_time": "2021-12-14T20:19:39.240Z"
   },
   {
    "duration": 8,
    "start_time": "2021-12-14T20:19:39.247Z"
   },
   {
    "duration": 4,
    "start_time": "2021-12-14T20:19:39.259Z"
   },
   {
    "duration": 62,
    "start_time": "2021-12-14T20:19:39.266Z"
   },
   {
    "duration": 42,
    "start_time": "2021-12-14T20:19:39.330Z"
   },
   {
    "duration": 9,
    "start_time": "2021-12-14T20:19:39.374Z"
   },
   {
    "duration": 44,
    "start_time": "2021-12-14T20:19:39.386Z"
   },
   {
    "duration": 10,
    "start_time": "2021-12-14T20:19:39.436Z"
   },
   {
    "duration": 22,
    "start_time": "2021-12-14T20:19:39.449Z"
   },
   {
    "duration": 88,
    "start_time": "2021-12-14T20:19:39.473Z"
   },
   {
    "duration": 21,
    "start_time": "2021-12-14T20:19:39.564Z"
   },
   {
    "duration": 56,
    "start_time": "2021-12-14T20:19:39.587Z"
   },
   {
    "duration": 10,
    "start_time": "2021-12-14T20:19:39.645Z"
   },
   {
    "duration": 6,
    "start_time": "2021-12-14T20:19:39.658Z"
   },
   {
    "duration": 4922,
    "start_time": "2021-12-14T20:19:39.666Z"
   },
   {
    "duration": 5,
    "start_time": "2021-12-14T20:19:44.591Z"
   },
   {
    "duration": 49,
    "start_time": "2021-12-14T20:19:44.599Z"
   },
   {
    "duration": 10,
    "start_time": "2021-12-14T20:19:44.656Z"
   },
   {
    "duration": 11,
    "start_time": "2021-12-14T20:19:44.670Z"
   },
   {
    "duration": 45,
    "start_time": "2021-12-14T20:19:44.684Z"
   },
   {
    "duration": 18,
    "start_time": "2021-12-14T20:19:44.732Z"
   },
   {
    "duration": 7,
    "start_time": "2021-12-14T20:19:44.753Z"
   },
   {
    "duration": 59,
    "start_time": "2021-12-14T20:19:44.763Z"
   },
   {
    "duration": 19,
    "start_time": "2021-12-14T20:19:44.824Z"
   },
   {
    "duration": 33,
    "start_time": "2021-12-14T20:19:44.846Z"
   },
   {
    "duration": 4,
    "start_time": "2021-12-14T20:19:44.882Z"
   },
   {
    "duration": 12,
    "start_time": "2021-12-14T20:19:44.923Z"
   },
   {
    "duration": 17,
    "start_time": "2021-12-14T20:19:44.938Z"
   },
   {
    "duration": 28,
    "start_time": "2021-12-14T20:19:44.957Z"
   },
   {
    "duration": 41,
    "start_time": "2021-12-14T20:19:45.023Z"
   },
   {
    "duration": 4,
    "start_time": "2021-12-14T20:19:45.067Z"
   },
   {
    "duration": 462,
    "start_time": "2021-12-14T20:23:48.924Z"
   },
   {
    "duration": 5,
    "start_time": "2021-12-14T20:23:52.613Z"
   },
   {
    "duration": 6,
    "start_time": "2021-12-14T20:23:53.505Z"
   },
   {
    "duration": 14,
    "start_time": "2021-12-14T20:25:34.702Z"
   },
   {
    "duration": 28,
    "start_time": "2021-12-14T20:25:51.776Z"
   },
   {
    "duration": 31,
    "start_time": "2021-12-14T20:27:02.995Z"
   },
   {
    "duration": 29,
    "start_time": "2021-12-14T20:27:14.669Z"
   },
   {
    "duration": 324,
    "start_time": "2021-12-14T20:30:58.783Z"
   },
   {
    "duration": 114,
    "start_time": "2021-12-14T20:31:15.549Z"
   },
   {
    "duration": 75,
    "start_time": "2021-12-14T20:31:15.667Z"
   },
   {
    "duration": 8,
    "start_time": "2021-12-14T20:31:15.745Z"
   },
   {
    "duration": 16,
    "start_time": "2021-12-14T20:31:15.756Z"
   },
   {
    "duration": 9,
    "start_time": "2021-12-14T20:31:15.775Z"
   },
   {
    "duration": 38,
    "start_time": "2021-12-14T20:31:15.786Z"
   },
   {
    "duration": 17,
    "start_time": "2021-12-14T20:31:15.830Z"
   },
   {
    "duration": 9,
    "start_time": "2021-12-14T20:31:15.852Z"
   },
   {
    "duration": 28,
    "start_time": "2021-12-14T20:31:15.864Z"
   },
   {
    "duration": 54,
    "start_time": "2021-12-14T20:31:15.894Z"
   },
   {
    "duration": 10,
    "start_time": "2021-12-14T20:31:15.950Z"
   },
   {
    "duration": 21,
    "start_time": "2021-12-14T20:31:15.963Z"
   },
   {
    "duration": 43,
    "start_time": "2021-12-14T20:31:15.987Z"
   },
   {
    "duration": 27,
    "start_time": "2021-12-14T20:31:16.033Z"
   },
   {
    "duration": 83,
    "start_time": "2021-12-14T20:31:16.064Z"
   },
   {
    "duration": 21,
    "start_time": "2021-12-14T20:31:16.149Z"
   },
   {
    "duration": 55,
    "start_time": "2021-12-14T20:31:16.172Z"
   },
   {
    "duration": 14,
    "start_time": "2021-12-14T20:31:16.229Z"
   },
   {
    "duration": 5,
    "start_time": "2021-12-14T20:31:16.246Z"
   },
   {
    "duration": 4928,
    "start_time": "2021-12-14T20:31:16.254Z"
   },
   {
    "duration": 6,
    "start_time": "2021-12-14T20:31:21.185Z"
   },
   {
    "duration": 45,
    "start_time": "2021-12-14T20:31:21.193Z"
   },
   {
    "duration": 24,
    "start_time": "2021-12-14T20:31:21.244Z"
   },
   {
    "duration": 11,
    "start_time": "2021-12-14T20:31:21.270Z"
   },
   {
    "duration": 6,
    "start_time": "2021-12-14T20:31:21.283Z"
   },
   {
    "duration": 48,
    "start_time": "2021-12-14T20:31:21.291Z"
   },
   {
    "duration": 7,
    "start_time": "2021-12-14T20:31:21.342Z"
   },
   {
    "duration": 12,
    "start_time": "2021-12-14T20:31:21.351Z"
   },
   {
    "duration": 68,
    "start_time": "2021-12-14T20:31:21.365Z"
   },
   {
    "duration": 46,
    "start_time": "2021-12-14T20:31:21.436Z"
   },
   {
    "duration": 5,
    "start_time": "2021-12-14T20:31:21.484Z"
   },
   {
    "duration": 40,
    "start_time": "2021-12-14T20:31:21.491Z"
   },
   {
    "duration": 21,
    "start_time": "2021-12-14T20:31:21.533Z"
   },
   {
    "duration": 29,
    "start_time": "2021-12-14T20:31:21.556Z"
   },
   {
    "duration": 288,
    "start_time": "2021-12-14T20:31:21.587Z"
   },
   {
    "duration": -46,
    "start_time": "2021-12-14T20:31:21.924Z"
   },
   {
    "duration": -49,
    "start_time": "2021-12-14T20:31:21.929Z"
   },
   {
    "duration": -61,
    "start_time": "2021-12-14T20:31:21.942Z"
   },
   {
    "duration": -62,
    "start_time": "2021-12-14T20:31:21.945Z"
   },
   {
    "duration": -62,
    "start_time": "2021-12-14T20:31:21.947Z"
   },
   {
    "duration": -63,
    "start_time": "2021-12-14T20:31:21.949Z"
   },
   {
    "duration": 10,
    "start_time": "2021-12-14T20:33:33.466Z"
   },
   {
    "duration": 5,
    "start_time": "2021-12-14T20:34:36.450Z"
   },
   {
    "duration": 25,
    "start_time": "2021-12-14T20:34:37.309Z"
   },
   {
    "duration": 30,
    "start_time": "2021-12-14T20:34:38.160Z"
   },
   {
    "duration": 10,
    "start_time": "2021-12-14T20:34:41.182Z"
   },
   {
    "duration": 39,
    "start_time": "2021-12-14T20:39:41.104Z"
   },
   {
    "duration": 75,
    "start_time": "2021-12-14T20:40:01.973Z"
   },
   {
    "duration": 11,
    "start_time": "2021-12-14T20:40:32.336Z"
   },
   {
    "duration": 31,
    "start_time": "2021-12-14T20:40:35.787Z"
   },
   {
    "duration": 44,
    "start_time": "2021-12-14T20:40:37.553Z"
   },
   {
    "duration": 18,
    "start_time": "2021-12-14T20:40:49.123Z"
   },
   {
    "duration": 435,
    "start_time": "2021-12-15T16:56:44.697Z"
   },
   {
    "duration": 690,
    "start_time": "2021-12-15T16:56:53.405Z"
   },
   {
    "duration": 21,
    "start_time": "2021-12-15T16:56:54.097Z"
   },
   {
    "duration": 6,
    "start_time": "2021-12-15T16:56:54.121Z"
   },
   {
    "duration": 20,
    "start_time": "2021-12-15T16:56:54.129Z"
   },
   {
    "duration": 6,
    "start_time": "2021-12-15T16:56:54.164Z"
   },
   {
    "duration": 4,
    "start_time": "2021-12-15T16:56:54.172Z"
   },
   {
    "duration": 7,
    "start_time": "2021-12-15T16:56:54.177Z"
   },
   {
    "duration": 4,
    "start_time": "2021-12-15T16:56:54.186Z"
   },
   {
    "duration": 13,
    "start_time": "2021-12-15T16:56:54.192Z"
   },
   {
    "duration": 21,
    "start_time": "2021-12-15T16:56:54.207Z"
   },
   {
    "duration": 7,
    "start_time": "2021-12-15T16:56:54.263Z"
   },
   {
    "duration": 14,
    "start_time": "2021-12-15T16:56:54.272Z"
   },
   {
    "duration": 7,
    "start_time": "2021-12-15T16:56:54.288Z"
   },
   {
    "duration": 16,
    "start_time": "2021-12-15T16:56:54.297Z"
   },
   {
    "duration": 51,
    "start_time": "2021-12-15T16:56:54.315Z"
   },
   {
    "duration": 15,
    "start_time": "2021-12-15T16:56:54.368Z"
   },
   {
    "duration": 4,
    "start_time": "2021-12-15T16:56:54.385Z"
   },
   {
    "duration": 8,
    "start_time": "2021-12-15T16:56:54.390Z"
   },
   {
    "duration": 6,
    "start_time": "2021-12-15T16:56:54.399Z"
   },
   {
    "duration": 3917,
    "start_time": "2021-12-15T16:56:54.406Z"
   },
   {
    "duration": 4,
    "start_time": "2021-12-15T16:56:58.325Z"
   },
   {
    "duration": 15,
    "start_time": "2021-12-15T16:56:58.331Z"
   },
   {
    "duration": 6,
    "start_time": "2021-12-15T16:56:58.363Z"
   },
   {
    "duration": 8,
    "start_time": "2021-12-15T16:56:58.372Z"
   },
   {
    "duration": 5,
    "start_time": "2021-12-15T16:56:58.381Z"
   },
   {
    "duration": 12,
    "start_time": "2021-12-15T16:56:58.387Z"
   },
   {
    "duration": 5,
    "start_time": "2021-12-15T16:56:58.401Z"
   },
   {
    "duration": 11,
    "start_time": "2021-12-15T16:56:58.407Z"
   },
   {
    "duration": 48,
    "start_time": "2021-12-15T16:56:58.420Z"
   },
   {
    "duration": 20,
    "start_time": "2021-12-15T16:56:58.470Z"
   },
   {
    "duration": 2,
    "start_time": "2021-12-15T16:56:58.492Z"
   },
   {
    "duration": 7,
    "start_time": "2021-12-15T16:56:58.496Z"
   },
   {
    "duration": 18,
    "start_time": "2021-12-15T16:56:58.505Z"
   },
   {
    "duration": 20,
    "start_time": "2021-12-15T16:56:58.525Z"
   },
   {
    "duration": 30,
    "start_time": "2021-12-15T16:56:58.547Z"
   },
   {
    "duration": 25,
    "start_time": "2021-12-15T16:56:58.580Z"
   },
   {
    "duration": 3,
    "start_time": "2021-12-15T16:56:58.607Z"
   },
   {
    "duration": 15,
    "start_time": "2021-12-15T16:56:58.612Z"
   },
   {
    "duration": 13,
    "start_time": "2021-12-15T16:56:58.628Z"
   },
   {
    "duration": 24,
    "start_time": "2021-12-15T16:56:58.643Z"
   },
   {
    "duration": 20,
    "start_time": "2021-12-15T16:56:58.669Z"
   },
   {
    "duration": 19,
    "start_time": "2021-12-15T16:56:58.691Z"
   },
   {
    "duration": 5,
    "start_time": "2021-12-15T16:57:04.833Z"
   },
   {
    "duration": 9,
    "start_time": "2021-12-15T16:57:17.590Z"
   },
   {
    "duration": 8,
    "start_time": "2021-12-15T16:57:47.108Z"
   },
   {
    "duration": 9,
    "start_time": "2021-12-15T16:57:59.576Z"
   },
   {
    "duration": 10,
    "start_time": "2021-12-15T16:58:31.602Z"
   },
   {
    "duration": 9,
    "start_time": "2021-12-15T16:59:04.118Z"
   },
   {
    "duration": 6,
    "start_time": "2021-12-15T16:59:18.061Z"
   },
   {
    "duration": 9,
    "start_time": "2021-12-15T17:01:27.174Z"
   },
   {
    "duration": 9,
    "start_time": "2021-12-15T17:01:44.585Z"
   },
   {
    "duration": 18,
    "start_time": "2021-12-15T17:03:45.032Z"
   },
   {
    "duration": 7,
    "start_time": "2021-12-15T17:04:41.514Z"
   },
   {
    "duration": 15,
    "start_time": "2021-12-15T17:12:14.963Z"
   },
   {
    "duration": 8,
    "start_time": "2021-12-15T17:13:39.030Z"
   },
   {
    "duration": 98,
    "start_time": "2021-12-15T17:15:01.559Z"
   },
   {
    "duration": 9,
    "start_time": "2021-12-15T17:15:05.282Z"
   },
   {
    "duration": 7,
    "start_time": "2021-12-15T17:25:32.677Z"
   },
   {
    "duration": 12,
    "start_time": "2021-12-15T17:26:17.358Z"
   },
   {
    "duration": 7,
    "start_time": "2021-12-15T17:27:50.295Z"
   },
   {
    "duration": 82,
    "start_time": "2021-12-15T17:28:21.662Z"
   },
   {
    "duration": 93,
    "start_time": "2021-12-15T17:30:30.733Z"
   },
   {
    "duration": 119,
    "start_time": "2021-12-15T17:31:10.687Z"
   },
   {
    "duration": 107,
    "start_time": "2021-12-15T17:31:55.752Z"
   },
   {
    "duration": 7,
    "start_time": "2021-12-15T17:32:13.998Z"
   },
   {
    "duration": 7,
    "start_time": "2021-12-15T17:32:23.674Z"
   },
   {
    "duration": 86,
    "start_time": "2021-12-15T17:33:33.628Z"
   },
   {
    "duration": 295,
    "start_time": "2021-12-15T17:33:41.475Z"
   },
   {
    "duration": 271,
    "start_time": "2021-12-15T17:34:01.285Z"
   },
   {
    "duration": 91,
    "start_time": "2021-12-15T17:34:06.452Z"
   },
   {
    "duration": 6,
    "start_time": "2021-12-15T17:34:12.229Z"
   },
   {
    "duration": 5,
    "start_time": "2021-12-15T17:35:27.756Z"
   },
   {
    "duration": 8,
    "start_time": "2021-12-15T17:37:07.413Z"
   },
   {
    "duration": 8,
    "start_time": "2021-12-15T17:41:30.438Z"
   },
   {
    "duration": 8,
    "start_time": "2021-12-15T17:42:34.065Z"
   },
   {
    "duration": 7,
    "start_time": "2021-12-15T17:42:39.062Z"
   },
   {
    "duration": 7,
    "start_time": "2021-12-15T17:42:39.770Z"
   },
   {
    "duration": 17,
    "start_time": "2021-12-15T17:42:40.382Z"
   },
   {
    "duration": 7,
    "start_time": "2021-12-15T17:42:41.350Z"
   },
   {
    "duration": 81,
    "start_time": "2021-12-15T17:43:05.244Z"
   },
   {
    "duration": 82,
    "start_time": "2021-12-15T17:43:14.126Z"
   },
   {
    "duration": 8,
    "start_time": "2021-12-15T17:43:17.643Z"
   },
   {
    "duration": 6,
    "start_time": "2021-12-15T17:43:18.124Z"
   },
   {
    "duration": 12,
    "start_time": "2021-12-15T17:43:18.632Z"
   },
   {
    "duration": 361,
    "start_time": "2021-12-15T17:43:19.262Z"
   },
   {
    "duration": 8,
    "start_time": "2021-12-15T17:43:27.557Z"
   },
   {
    "duration": 11,
    "start_time": "2021-12-15T17:44:30.383Z"
   },
   {
    "duration": 12,
    "start_time": "2021-12-15T17:45:04.358Z"
   },
   {
    "duration": 7,
    "start_time": "2021-12-15T17:45:05.430Z"
   },
   {
    "duration": 7,
    "start_time": "2021-12-15T17:56:21.495Z"
   },
   {
    "duration": 8,
    "start_time": "2021-12-15T18:00:20.288Z"
   },
   {
    "duration": 13,
    "start_time": "2021-12-15T18:00:38.306Z"
   },
   {
    "duration": 9,
    "start_time": "2021-12-15T18:02:43.091Z"
   },
   {
    "duration": 9,
    "start_time": "2021-12-15T18:02:47.979Z"
   },
   {
    "duration": 19,
    "start_time": "2021-12-15T18:02:48.774Z"
   },
   {
    "duration": 12,
    "start_time": "2021-12-15T18:02:49.878Z"
   },
   {
    "duration": 11,
    "start_time": "2021-12-15T18:03:07.722Z"
   },
   {
    "duration": 15,
    "start_time": "2021-12-15T18:06:48.100Z"
   },
   {
    "duration": 8,
    "start_time": "2021-12-15T18:07:18.864Z"
   },
   {
    "duration": 12,
    "start_time": "2021-12-15T18:07:55.930Z"
   },
   {
    "duration": 8,
    "start_time": "2021-12-15T18:08:17.202Z"
   },
   {
    "duration": 11,
    "start_time": "2021-12-15T18:18:08.637Z"
   },
   {
    "duration": 10,
    "start_time": "2021-12-15T18:18:22.248Z"
   },
   {
    "duration": 14,
    "start_time": "2021-12-15T18:19:27.579Z"
   },
   {
    "duration": 9,
    "start_time": "2021-12-15T18:20:41.545Z"
   },
   {
    "duration": 11,
    "start_time": "2021-12-15T18:28:08.553Z"
   },
   {
    "duration": 69,
    "start_time": "2021-12-15T18:49:52.849Z"
   },
   {
    "duration": 59,
    "start_time": "2021-12-15T18:49:52.921Z"
   },
   {
    "duration": 6,
    "start_time": "2021-12-15T18:49:52.983Z"
   },
   {
    "duration": 10,
    "start_time": "2021-12-15T18:49:52.991Z"
   },
   {
    "duration": 7,
    "start_time": "2021-12-15T18:49:53.003Z"
   },
   {
    "duration": 4,
    "start_time": "2021-12-15T18:49:53.012Z"
   },
   {
    "duration": 8,
    "start_time": "2021-12-15T18:49:53.018Z"
   },
   {
    "duration": 36,
    "start_time": "2021-12-15T18:49:53.029Z"
   },
   {
    "duration": 21,
    "start_time": "2021-12-15T18:49:53.067Z"
   },
   {
    "duration": 24,
    "start_time": "2021-12-15T18:49:53.090Z"
   },
   {
    "duration": 8,
    "start_time": "2021-12-15T18:49:53.116Z"
   },
   {
    "duration": 41,
    "start_time": "2021-12-15T18:49:53.125Z"
   },
   {
    "duration": 10,
    "start_time": "2021-12-15T18:49:53.169Z"
   },
   {
    "duration": 18,
    "start_time": "2021-12-15T18:49:53.181Z"
   },
   {
    "duration": 33,
    "start_time": "2021-12-15T18:49:53.201Z"
   },
   {
    "duration": 51,
    "start_time": "2021-12-15T18:49:53.235Z"
   },
   {
    "duration": 24,
    "start_time": "2021-12-15T18:49:53.289Z"
   },
   {
    "duration": 13,
    "start_time": "2021-12-15T18:49:53.315Z"
   },
   {
    "duration": 7,
    "start_time": "2021-12-15T18:49:53.330Z"
   },
   {
    "duration": 4383,
    "start_time": "2021-12-15T18:49:53.339Z"
   },
   {
    "duration": 7,
    "start_time": "2021-12-15T18:49:57.725Z"
   },
   {
    "duration": 30,
    "start_time": "2021-12-15T18:49:57.734Z"
   },
   {
    "duration": 9,
    "start_time": "2021-12-15T18:49:57.772Z"
   },
   {
    "duration": 8,
    "start_time": "2021-12-15T18:49:57.785Z"
   },
   {
    "duration": 5,
    "start_time": "2021-12-15T18:49:57.796Z"
   },
   {
    "duration": 14,
    "start_time": "2021-12-15T18:49:57.803Z"
   },
   {
    "duration": 5,
    "start_time": "2021-12-15T18:49:57.819Z"
   },
   {
    "duration": 49,
    "start_time": "2021-12-15T18:49:57.825Z"
   },
   {
    "duration": 20,
    "start_time": "2021-12-15T18:49:57.876Z"
   },
   {
    "duration": 34,
    "start_time": "2021-12-15T18:49:57.898Z"
   },
   {
    "duration": 4,
    "start_time": "2021-12-15T18:49:57.934Z"
   },
   {
    "duration": 9,
    "start_time": "2021-12-15T18:49:57.963Z"
   },
   {
    "duration": 11,
    "start_time": "2021-12-15T18:49:57.976Z"
   },
   {
    "duration": 10,
    "start_time": "2021-12-15T18:49:57.989Z"
   },
   {
    "duration": 22,
    "start_time": "2021-12-15T18:49:58.001Z"
   },
   {
    "duration": 62,
    "start_time": "2021-12-15T18:49:58.025Z"
   },
   {
    "duration": 4,
    "start_time": "2021-12-15T18:49:58.089Z"
   },
   {
    "duration": 7,
    "start_time": "2021-12-15T18:49:58.094Z"
   },
   {
    "duration": 13,
    "start_time": "2021-12-15T18:49:58.103Z"
   },
   {
    "duration": 8,
    "start_time": "2021-12-15T18:49:58.118Z"
   },
   {
    "duration": 48,
    "start_time": "2021-12-15T18:49:58.128Z"
   },
   {
    "duration": 8,
    "start_time": "2021-12-15T18:49:58.179Z"
   },
   {
    "duration": 8,
    "start_time": "2021-12-15T18:49:58.189Z"
   },
   {
    "duration": 25,
    "start_time": "2021-12-15T18:49:58.199Z"
   },
   {
    "duration": 42,
    "start_time": "2021-12-15T18:49:58.226Z"
   },
   {
    "duration": 13,
    "start_time": "2021-12-15T18:49:58.270Z"
   },
   {
    "duration": 14,
    "start_time": "2021-12-15T18:49:58.285Z"
   },
   {
    "duration": 9,
    "start_time": "2021-12-15T18:49:58.301Z"
   },
   {
    "duration": 9,
    "start_time": "2021-12-15T18:49:58.312Z"
   },
   {
    "duration": 50,
    "start_time": "2021-12-15T18:49:58.323Z"
   },
   {
    "duration": 8,
    "start_time": "2021-12-15T18:49:58.376Z"
   },
   {
    "duration": 10,
    "start_time": "2021-12-15T18:49:58.386Z"
   },
   {
    "duration": 14,
    "start_time": "2021-12-15T18:49:58.398Z"
   },
   {
    "duration": 8,
    "start_time": "2021-12-15T18:49:58.414Z"
   },
   {
    "duration": 65,
    "start_time": "2021-12-16T09:58:50.305Z"
   },
   {
    "duration": 407,
    "start_time": "2021-12-16T15:22:00.980Z"
   },
   {
    "duration": 738,
    "start_time": "2021-12-16T15:22:14.787Z"
   },
   {
    "duration": 21,
    "start_time": "2021-12-16T15:22:15.527Z"
   },
   {
    "duration": 5,
    "start_time": "2021-12-16T15:22:15.549Z"
   },
   {
    "duration": 7,
    "start_time": "2021-12-16T15:22:15.556Z"
   },
   {
    "duration": 7,
    "start_time": "2021-12-16T15:22:15.565Z"
   },
   {
    "duration": 34,
    "start_time": "2021-12-16T15:22:15.574Z"
   },
   {
    "duration": 6,
    "start_time": "2021-12-16T15:22:15.609Z"
   },
   {
    "duration": 15,
    "start_time": "2021-12-16T15:22:15.618Z"
   },
   {
    "duration": 20,
    "start_time": "2021-12-16T15:22:15.635Z"
   },
   {
    "duration": 6,
    "start_time": "2021-12-16T15:22:15.657Z"
   },
   {
    "duration": 41,
    "start_time": "2021-12-16T15:22:15.665Z"
   },
   {
    "duration": 6,
    "start_time": "2021-12-16T15:22:15.708Z"
   },
   {
    "duration": 19,
    "start_time": "2021-12-16T15:22:15.716Z"
   },
   {
    "duration": 32,
    "start_time": "2021-12-16T15:22:15.737Z"
   },
   {
    "duration": 42,
    "start_time": "2021-12-16T15:22:15.771Z"
   },
   {
    "duration": 15,
    "start_time": "2021-12-16T15:22:15.815Z"
   },
   {
    "duration": 7,
    "start_time": "2021-12-16T15:22:15.832Z"
   },
   {
    "duration": 4,
    "start_time": "2021-12-16T15:22:15.841Z"
   },
   {
    "duration": 3659,
    "start_time": "2021-12-16T15:22:15.847Z"
   },
   {
    "duration": 4,
    "start_time": "2021-12-16T15:22:19.508Z"
   },
   {
    "duration": 15,
    "start_time": "2021-12-16T15:22:19.514Z"
   },
   {
    "duration": 8,
    "start_time": "2021-12-16T15:22:19.531Z"
   },
   {
    "duration": 8,
    "start_time": "2021-12-16T15:22:19.542Z"
   },
   {
    "duration": 6,
    "start_time": "2021-12-16T15:22:19.551Z"
   },
   {
    "duration": 13,
    "start_time": "2021-12-16T15:22:19.558Z"
   },
   {
    "duration": 6,
    "start_time": "2021-12-16T15:22:19.572Z"
   },
   {
    "duration": 7,
    "start_time": "2021-12-16T15:22:19.607Z"
   },
   {
    "duration": 13,
    "start_time": "2021-12-16T15:22:19.616Z"
   },
   {
    "duration": 21,
    "start_time": "2021-12-16T15:22:19.631Z"
   },
   {
    "duration": 3,
    "start_time": "2021-12-16T15:22:19.654Z"
   },
   {
    "duration": 5,
    "start_time": "2021-12-16T15:22:19.659Z"
   },
   {
    "duration": 41,
    "start_time": "2021-12-16T15:22:19.666Z"
   },
   {
    "duration": 7,
    "start_time": "2021-12-16T15:22:19.709Z"
   },
   {
    "duration": 25,
    "start_time": "2021-12-16T15:22:19.718Z"
   },
   {
    "duration": 26,
    "start_time": "2021-12-16T15:22:19.744Z"
   },
   {
    "duration": 3,
    "start_time": "2021-12-16T15:22:19.772Z"
   },
   {
    "duration": 32,
    "start_time": "2021-12-16T15:22:19.776Z"
   },
   {
    "duration": 12,
    "start_time": "2021-12-16T15:22:19.809Z"
   },
   {
    "duration": 12,
    "start_time": "2021-12-16T15:22:19.822Z"
   },
   {
    "duration": 21,
    "start_time": "2021-12-16T15:22:19.836Z"
   },
   {
    "duration": 7,
    "start_time": "2021-12-16T15:22:19.859Z"
   },
   {
    "duration": 6,
    "start_time": "2021-12-16T15:22:19.867Z"
   },
   {
    "duration": 42,
    "start_time": "2021-12-16T15:22:19.874Z"
   },
   {
    "duration": 11,
    "start_time": "2021-12-16T15:22:19.918Z"
   },
   {
    "duration": 7,
    "start_time": "2021-12-16T15:22:19.930Z"
   },
   {
    "duration": 18,
    "start_time": "2021-12-16T15:22:19.938Z"
   },
   {
    "duration": 6,
    "start_time": "2021-12-16T15:22:19.957Z"
   },
   {
    "duration": 13,
    "start_time": "2021-12-16T15:22:19.965Z"
   },
   {
    "duration": 35,
    "start_time": "2021-12-16T15:22:19.980Z"
   },
   {
    "duration": 7,
    "start_time": "2021-12-16T15:22:20.017Z"
   },
   {
    "duration": 16,
    "start_time": "2021-12-16T15:22:20.025Z"
   },
   {
    "duration": 28,
    "start_time": "2021-12-16T15:22:20.043Z"
   },
   {
    "duration": 7,
    "start_time": "2021-12-16T15:22:20.072Z"
   },
   {
    "duration": 5,
    "start_time": "2021-12-16T15:28:05.649Z"
   },
   {
    "duration": 427,
    "start_time": "2021-12-16T15:28:14.460Z"
   },
   {
    "duration": 334,
    "start_time": "2021-12-16T15:28:35.696Z"
   },
   {
    "duration": 7,
    "start_time": "2021-12-16T15:28:52.440Z"
   },
   {
    "duration": 362,
    "start_time": "2021-12-16T15:30:28.242Z"
   },
   {
    "duration": 8,
    "start_time": "2021-12-16T15:30:34.344Z"
   },
   {
    "duration": 7,
    "start_time": "2021-12-16T15:40:08.609Z"
   },
   {
    "duration": 12,
    "start_time": "2021-12-16T15:40:35.430Z"
   },
   {
    "duration": 12,
    "start_time": "2021-12-16T15:43:11.920Z"
   },
   {
    "duration": 11,
    "start_time": "2021-12-16T15:44:34.391Z"
   },
   {
    "duration": 13,
    "start_time": "2021-12-16T15:45:10.421Z"
   },
   {
    "duration": 10,
    "start_time": "2021-12-16T15:45:58.860Z"
   },
   {
    "duration": 283,
    "start_time": "2021-12-17T13:57:31.928Z"
   },
   {
    "duration": 634,
    "start_time": "2021-12-17T13:57:42.319Z"
   },
   {
    "duration": 19,
    "start_time": "2021-12-17T13:57:42.955Z"
   },
   {
    "duration": 13,
    "start_time": "2021-12-17T13:57:42.976Z"
   },
   {
    "duration": 12,
    "start_time": "2021-12-17T13:57:42.991Z"
   },
   {
    "duration": 6,
    "start_time": "2021-12-17T13:57:43.005Z"
   },
   {
    "duration": 3,
    "start_time": "2021-12-17T13:57:43.013Z"
   },
   {
    "duration": 7,
    "start_time": "2021-12-17T13:57:43.017Z"
   },
   {
    "duration": 11,
    "start_time": "2021-12-17T13:57:43.026Z"
   },
   {
    "duration": 18,
    "start_time": "2021-12-17T13:57:43.038Z"
   },
   {
    "duration": 10,
    "start_time": "2021-12-17T13:57:43.089Z"
   },
   {
    "duration": 11,
    "start_time": "2021-12-17T13:57:43.101Z"
   },
   {
    "duration": 9,
    "start_time": "2021-12-17T13:57:43.114Z"
   },
   {
    "duration": 15,
    "start_time": "2021-12-17T13:57:43.125Z"
   },
   {
    "duration": 67,
    "start_time": "2021-12-17T13:57:43.142Z"
   },
   {
    "duration": 16,
    "start_time": "2021-12-17T13:57:43.210Z"
   },
   {
    "duration": 4,
    "start_time": "2021-12-17T13:57:43.228Z"
   },
   {
    "duration": 8,
    "start_time": "2021-12-17T13:57:43.234Z"
   },
   {
    "duration": 3,
    "start_time": "2021-12-17T13:57:43.244Z"
   },
   {
    "duration": 3374,
    "start_time": "2021-12-17T13:57:43.249Z"
   },
   {
    "duration": 3,
    "start_time": "2021-12-17T13:57:46.625Z"
   },
   {
    "duration": 13,
    "start_time": "2021-12-17T13:57:46.630Z"
   },
   {
    "duration": 8,
    "start_time": "2021-12-17T13:57:46.645Z"
   },
   {
    "duration": 289,
    "start_time": "2021-12-17T13:57:46.656Z"
   },
   {
    "duration": -35,
    "start_time": "2021-12-17T13:57:46.982Z"
   },
   {
    "duration": -37,
    "start_time": "2021-12-17T13:57:46.985Z"
   },
   {
    "duration": -39,
    "start_time": "2021-12-17T13:57:46.987Z"
   },
   {
    "duration": -40,
    "start_time": "2021-12-17T13:57:46.989Z"
   },
   {
    "duration": -45,
    "start_time": "2021-12-17T13:57:46.995Z"
   },
   {
    "duration": -46,
    "start_time": "2021-12-17T13:57:46.997Z"
   },
   {
    "duration": -49,
    "start_time": "2021-12-17T13:57:47.001Z"
   },
   {
    "duration": -50,
    "start_time": "2021-12-17T13:57:47.003Z"
   },
   {
    "duration": -52,
    "start_time": "2021-12-17T13:57:47.006Z"
   },
   {
    "duration": -53,
    "start_time": "2021-12-17T13:57:47.008Z"
   },
   {
    "duration": -55,
    "start_time": "2021-12-17T13:57:47.011Z"
   },
   {
    "duration": -56,
    "start_time": "2021-12-17T13:57:47.013Z"
   },
   {
    "duration": -58,
    "start_time": "2021-12-17T13:57:47.015Z"
   },
   {
    "duration": -59,
    "start_time": "2021-12-17T13:57:47.017Z"
   },
   {
    "duration": -60,
    "start_time": "2021-12-17T13:57:47.019Z"
   },
   {
    "duration": -61,
    "start_time": "2021-12-17T13:57:47.021Z"
   },
   {
    "duration": -62,
    "start_time": "2021-12-17T13:57:47.023Z"
   },
   {
    "duration": -63,
    "start_time": "2021-12-17T13:57:47.025Z"
   },
   {
    "duration": -64,
    "start_time": "2021-12-17T13:57:47.027Z"
   },
   {
    "duration": -69,
    "start_time": "2021-12-17T13:57:47.033Z"
   },
   {
    "duration": -72,
    "start_time": "2021-12-17T13:57:47.036Z"
   },
   {
    "duration": -72,
    "start_time": "2021-12-17T13:57:47.037Z"
   },
   {
    "duration": -74,
    "start_time": "2021-12-17T13:57:47.040Z"
   },
   {
    "duration": -74,
    "start_time": "2021-12-17T13:57:47.041Z"
   },
   {
    "duration": -76,
    "start_time": "2021-12-17T13:57:47.044Z"
   },
   {
    "duration": -76,
    "start_time": "2021-12-17T13:57:47.045Z"
   },
   {
    "duration": -78,
    "start_time": "2021-12-17T13:57:47.048Z"
   },
   {
    "duration": -80,
    "start_time": "2021-12-17T13:57:47.050Z"
   },
   {
    "duration": -81,
    "start_time": "2021-12-17T13:57:47.052Z"
   },
   {
    "duration": -81,
    "start_time": "2021-12-17T13:57:47.053Z"
   },
   {
    "duration": -82,
    "start_time": "2021-12-17T13:57:47.055Z"
   },
   {
    "duration": -83,
    "start_time": "2021-12-17T13:57:47.057Z"
   },
   {
    "duration": -84,
    "start_time": "2021-12-17T13:57:47.059Z"
   },
   {
    "duration": -85,
    "start_time": "2021-12-17T13:57:47.061Z"
   },
   {
    "duration": -85,
    "start_time": "2021-12-17T13:57:47.062Z"
   },
   {
    "duration": -87,
    "start_time": "2021-12-17T13:57:47.064Z"
   },
   {
    "duration": 308,
    "start_time": "2021-12-17T13:58:18.008Z"
   },
   {
    "duration": 260,
    "start_time": "2021-12-17T13:58:35.761Z"
   },
   {
    "duration": 248,
    "start_time": "2021-12-17T13:58:50.077Z"
   },
   {
    "duration": 3,
    "start_time": "2021-12-17T13:58:57.807Z"
   },
   {
    "duration": 3,
    "start_time": "2021-12-17T13:59:00.444Z"
   },
   {
    "duration": 241,
    "start_time": "2021-12-17T14:00:06.541Z"
   },
   {
    "duration": 302,
    "start_time": "2021-12-17T14:01:15.922Z"
   },
   {
    "duration": 5,
    "start_time": "2021-12-17T14:01:29.565Z"
   },
   {
    "duration": 3,
    "start_time": "2021-12-17T14:02:29.161Z"
   },
   {
    "duration": 8,
    "start_time": "2021-12-17T14:02:34.985Z"
   },
   {
    "duration": 5,
    "start_time": "2021-12-17T14:04:14.053Z"
   },
   {
    "duration": 3,
    "start_time": "2021-12-17T14:08:33.146Z"
   },
   {
    "duration": 5,
    "start_time": "2021-12-17T14:08:59.894Z"
   },
   {
    "duration": 65,
    "start_time": "2021-12-17T14:09:21.566Z"
   },
   {
    "duration": 22,
    "start_time": "2021-12-17T14:09:21.632Z"
   },
   {
    "duration": 33,
    "start_time": "2021-12-17T14:09:21.656Z"
   },
   {
    "duration": 10,
    "start_time": "2021-12-17T14:09:21.691Z"
   },
   {
    "duration": 6,
    "start_time": "2021-12-17T14:09:21.702Z"
   },
   {
    "duration": 3,
    "start_time": "2021-12-17T14:09:21.709Z"
   },
   {
    "duration": 8,
    "start_time": "2021-12-17T14:09:21.714Z"
   },
   {
    "duration": 10,
    "start_time": "2021-12-17T14:09:21.724Z"
   },
   {
    "duration": 53,
    "start_time": "2021-12-17T14:09:21.736Z"
   },
   {
    "duration": 7,
    "start_time": "2021-12-17T14:09:21.790Z"
   },
   {
    "duration": 13,
    "start_time": "2021-12-17T14:09:21.798Z"
   },
   {
    "duration": 8,
    "start_time": "2021-12-17T14:09:21.812Z"
   },
   {
    "duration": 15,
    "start_time": "2021-12-17T14:09:21.822Z"
   },
   {
    "duration": 55,
    "start_time": "2021-12-17T14:09:21.838Z"
   },
   {
    "duration": 15,
    "start_time": "2021-12-17T14:09:21.895Z"
   },
   {
    "duration": 16,
    "start_time": "2021-12-17T14:09:21.912Z"
   },
   {
    "duration": 6,
    "start_time": "2021-12-17T14:09:21.929Z"
   },
   {
    "duration": 10,
    "start_time": "2021-12-17T14:09:21.936Z"
   },
   {
    "duration": 4,
    "start_time": "2021-12-17T14:09:21.948Z"
   },
   {
    "duration": 3564,
    "start_time": "2021-12-17T14:09:21.953Z"
   },
   {
    "duration": 4,
    "start_time": "2021-12-17T14:09:25.519Z"
   },
   {
    "duration": 15,
    "start_time": "2021-12-17T14:09:25.525Z"
   },
   {
    "duration": 7,
    "start_time": "2021-12-17T14:09:25.544Z"
   },
   {
    "duration": 6,
    "start_time": "2021-12-17T14:09:25.553Z"
   },
   {
    "duration": 29,
    "start_time": "2021-12-17T14:09:25.561Z"
   },
   {
    "duration": 11,
    "start_time": "2021-12-17T14:09:25.592Z"
   },
   {
    "duration": 5,
    "start_time": "2021-12-17T14:09:25.604Z"
   },
   {
    "duration": 12,
    "start_time": "2021-12-17T14:09:25.610Z"
   },
   {
    "duration": 4,
    "start_time": "2021-12-17T14:09:25.623Z"
   },
   {
    "duration": 8,
    "start_time": "2021-12-17T14:09:25.628Z"
   },
   {
    "duration": 11,
    "start_time": "2021-12-17T14:09:25.638Z"
   },
   {
    "duration": 54,
    "start_time": "2021-12-17T14:09:25.650Z"
   },
   {
    "duration": 3,
    "start_time": "2021-12-17T14:09:25.706Z"
   },
   {
    "duration": 5,
    "start_time": "2021-12-17T14:09:25.711Z"
   },
   {
    "duration": 10,
    "start_time": "2021-12-17T14:09:25.718Z"
   },
   {
    "duration": 7,
    "start_time": "2021-12-17T14:09:25.730Z"
   },
   {
    "duration": 25,
    "start_time": "2021-12-17T14:09:25.738Z"
   },
   {
    "duration": 45,
    "start_time": "2021-12-17T14:09:25.764Z"
   },
   {
    "duration": 2,
    "start_time": "2021-12-17T14:09:25.811Z"
   },
   {
    "duration": 22,
    "start_time": "2021-12-17T14:09:25.815Z"
   },
   {
    "duration": 19,
    "start_time": "2021-12-17T14:09:25.838Z"
   },
   {
    "duration": 30,
    "start_time": "2021-12-17T14:09:25.858Z"
   },
   {
    "duration": 34,
    "start_time": "2021-12-17T14:09:25.889Z"
   },
   {
    "duration": 5,
    "start_time": "2021-12-17T14:09:25.925Z"
   },
   {
    "duration": 22,
    "start_time": "2021-12-17T14:09:25.931Z"
   },
   {
    "duration": 25,
    "start_time": "2021-12-17T14:09:25.954Z"
   },
   {
    "duration": 28,
    "start_time": "2021-12-17T14:09:25.980Z"
   },
   {
    "duration": 10,
    "start_time": "2021-12-17T14:09:26.009Z"
   },
   {
    "duration": 7,
    "start_time": "2021-12-17T14:09:26.021Z"
   },
   {
    "duration": 14,
    "start_time": "2021-12-17T14:09:26.029Z"
   },
   {
    "duration": 5,
    "start_time": "2021-12-17T14:09:26.045Z"
   },
   {
    "duration": 12,
    "start_time": "2021-12-17T14:09:26.052Z"
   },
   {
    "duration": 8,
    "start_time": "2021-12-17T14:09:26.065Z"
   },
   {
    "duration": 11,
    "start_time": "2021-12-17T14:09:26.088Z"
   },
   {
    "duration": 6,
    "start_time": "2021-12-17T14:09:26.101Z"
   },
   {
    "duration": 27,
    "start_time": "2021-12-17T14:09:26.109Z"
   },
   {
    "duration": 26,
    "start_time": "2021-12-17T14:09:26.138Z"
   },
   {
    "duration": 43,
    "start_time": "2021-12-17T14:09:26.165Z"
   },
   {
    "duration": 16,
    "start_time": "2021-12-17T14:09:26.210Z"
   },
   {
    "duration": 9,
    "start_time": "2021-12-17T14:09:26.228Z"
   },
   {
    "duration": 666,
    "start_time": "2021-12-18T09:31:12.519Z"
   },
   {
    "duration": 20,
    "start_time": "2021-12-18T09:31:13.187Z"
   },
   {
    "duration": 6,
    "start_time": "2021-12-18T09:31:13.209Z"
   },
   {
    "duration": 8,
    "start_time": "2021-12-18T09:31:13.216Z"
   },
   {
    "duration": 6,
    "start_time": "2021-12-18T09:31:13.225Z"
   },
   {
    "duration": 5,
    "start_time": "2021-12-18T09:31:13.232Z"
   },
   {
    "duration": 6,
    "start_time": "2021-12-18T09:31:13.238Z"
   },
   {
    "duration": 9,
    "start_time": "2021-12-18T09:31:13.247Z"
   },
   {
    "duration": 52,
    "start_time": "2021-12-18T09:31:13.258Z"
   },
   {
    "duration": 6,
    "start_time": "2021-12-18T09:31:13.312Z"
   },
   {
    "duration": 12,
    "start_time": "2021-12-18T09:31:13.320Z"
   },
   {
    "duration": 7,
    "start_time": "2021-12-18T09:31:13.334Z"
   },
   {
    "duration": 16,
    "start_time": "2021-12-18T09:31:13.342Z"
   },
   {
    "duration": 64,
    "start_time": "2021-12-18T09:31:13.359Z"
   },
   {
    "duration": 16,
    "start_time": "2021-12-18T09:31:13.425Z"
   },
   {
    "duration": 3,
    "start_time": "2021-12-18T09:31:13.443Z"
   },
   {
    "duration": 9,
    "start_time": "2021-12-18T09:31:13.448Z"
   },
   {
    "duration": 9258,
    "start_time": "2021-12-18T09:31:13.459Z"
   },
   {
    "duration": 8,
    "start_time": "2021-12-18T09:31:22.719Z"
   },
   {
    "duration": 6,
    "start_time": "2021-12-18T09:31:22.729Z"
   },
   {
    "duration": 2828,
    "start_time": "2021-12-18T09:31:22.737Z"
   },
   {
    "duration": 3,
    "start_time": "2021-12-18T09:31:25.567Z"
   },
   {
    "duration": 14,
    "start_time": "2021-12-18T09:31:25.574Z"
   },
   {
    "duration": 22,
    "start_time": "2021-12-18T09:31:25.590Z"
   },
   {
    "duration": 8,
    "start_time": "2021-12-18T09:31:25.613Z"
   },
   {
    "duration": 7,
    "start_time": "2021-12-18T09:31:25.623Z"
   },
   {
    "duration": 4,
    "start_time": "2021-12-18T09:31:25.631Z"
   },
   {
    "duration": 13,
    "start_time": "2021-12-18T09:31:25.637Z"
   },
   {
    "duration": 5,
    "start_time": "2021-12-18T09:31:25.652Z"
   },
   {
    "duration": 12,
    "start_time": "2021-12-18T09:31:25.658Z"
   },
   {
    "duration": 48,
    "start_time": "2021-12-18T09:31:25.671Z"
   },
   {
    "duration": 23,
    "start_time": "2021-12-18T09:31:25.721Z"
   },
   {
    "duration": 3,
    "start_time": "2021-12-18T09:31:25.746Z"
   },
   {
    "duration": 11,
    "start_time": "2021-12-18T09:31:25.750Z"
   },
   {
    "duration": 10,
    "start_time": "2021-12-18T09:31:25.762Z"
   },
   {
    "duration": 7,
    "start_time": "2021-12-18T09:31:25.773Z"
   },
   {
    "duration": 37,
    "start_time": "2021-12-18T09:31:25.782Z"
   },
   {
    "duration": 24,
    "start_time": "2021-12-18T09:31:25.821Z"
   },
   {
    "duration": 3,
    "start_time": "2021-12-18T09:31:25.847Z"
   },
   {
    "duration": 6,
    "start_time": "2021-12-18T09:31:25.852Z"
   },
   {
    "duration": 12,
    "start_time": "2021-12-18T09:31:25.860Z"
   },
   {
    "duration": 37,
    "start_time": "2021-12-18T09:31:25.874Z"
   },
   {
    "duration": 21,
    "start_time": "2021-12-18T09:31:25.913Z"
   },
   {
    "duration": 5,
    "start_time": "2021-12-18T09:31:25.936Z"
   },
   {
    "duration": 10,
    "start_time": "2021-12-18T09:31:25.943Z"
   },
   {
    "duration": 18,
    "start_time": "2021-12-18T09:31:25.955Z"
   },
   {
    "duration": 40,
    "start_time": "2021-12-18T09:31:25.975Z"
   },
   {
    "duration": 16,
    "start_time": "2021-12-18T09:31:26.017Z"
   },
   {
    "duration": 10,
    "start_time": "2021-12-18T09:31:26.034Z"
   },
   {
    "duration": 12,
    "start_time": "2021-12-18T09:31:26.046Z"
   },
   {
    "duration": 7,
    "start_time": "2021-12-18T09:31:26.060Z"
   },
   {
    "duration": 39,
    "start_time": "2021-12-18T09:31:26.069Z"
   },
   {
    "duration": 7,
    "start_time": "2021-12-18T09:31:26.110Z"
   },
   {
    "duration": 13,
    "start_time": "2021-12-18T09:31:26.118Z"
   },
   {
    "duration": 6,
    "start_time": "2021-12-18T09:31:26.133Z"
   },
   {
    "duration": 14,
    "start_time": "2021-12-18T09:31:26.141Z"
   },
   {
    "duration": 8,
    "start_time": "2021-12-18T09:31:26.156Z"
   },
   {
    "duration": 46,
    "start_time": "2021-12-18T09:31:26.165Z"
   },
   {
    "duration": 7,
    "start_time": "2021-12-18T09:31:26.212Z"
   },
   {
    "duration": 12,
    "start_time": "2021-12-18T09:31:26.221Z"
   },
   {
    "duration": 324,
    "start_time": "2021-12-19T09:32:26.949Z"
   },
   {
    "duration": 833,
    "start_time": "2021-12-19T09:32:31.964Z"
   },
   {
    "duration": 37,
    "start_time": "2021-12-19T09:32:32.800Z"
   },
   {
    "duration": 7,
    "start_time": "2021-12-19T09:32:32.840Z"
   },
   {
    "duration": 9,
    "start_time": "2021-12-19T09:32:32.850Z"
   },
   {
    "duration": 8,
    "start_time": "2021-12-19T09:32:32.861Z"
   },
   {
    "duration": 4,
    "start_time": "2021-12-19T09:32:32.871Z"
   },
   {
    "duration": 47,
    "start_time": "2021-12-19T09:32:32.877Z"
   },
   {
    "duration": 13,
    "start_time": "2021-12-19T09:32:32.928Z"
   },
   {
    "duration": 30,
    "start_time": "2021-12-19T09:32:32.944Z"
   },
   {
    "duration": 47,
    "start_time": "2021-12-19T09:32:32.976Z"
   },
   {
    "duration": 17,
    "start_time": "2021-12-19T09:32:33.026Z"
   },
   {
    "duration": 11,
    "start_time": "2021-12-19T09:32:33.046Z"
   },
   {
    "duration": 61,
    "start_time": "2021-12-19T09:32:33.061Z"
   },
   {
    "duration": 52,
    "start_time": "2021-12-19T09:32:33.125Z"
   },
   {
    "duration": 50,
    "start_time": "2021-12-19T09:32:33.180Z"
   },
   {
    "duration": 8,
    "start_time": "2021-12-19T09:32:33.233Z"
   },
   {
    "duration": 9,
    "start_time": "2021-12-19T09:32:33.244Z"
   },
   {
    "duration": 13,
    "start_time": "2021-12-19T09:32:33.256Z"
   },
   {
    "duration": 6,
    "start_time": "2021-12-19T09:32:33.271Z"
   },
   {
    "duration": 4647,
    "start_time": "2021-12-19T09:32:33.317Z"
   },
   {
    "duration": 5,
    "start_time": "2021-12-19T09:32:37.966Z"
   },
   {
    "duration": 21,
    "start_time": "2021-12-19T09:32:37.973Z"
   },
   {
    "duration": 11,
    "start_time": "2021-12-19T09:32:38.016Z"
   },
   {
    "duration": 4840,
    "start_time": "2021-12-19T09:32:38.030Z"
   },
   {
    "duration": 8,
    "start_time": "2021-12-19T09:32:42.873Z"
   },
   {
    "duration": 35,
    "start_time": "2021-12-19T09:32:42.883Z"
   },
   {
    "duration": 15,
    "start_time": "2021-12-19T09:32:42.921Z"
   },
   {
    "duration": 17,
    "start_time": "2021-12-19T09:32:42.939Z"
   },
   {
    "duration": 17,
    "start_time": "2021-12-19T09:32:42.958Z"
   },
   {
    "duration": 42,
    "start_time": "2021-12-19T09:32:42.978Z"
   },
   {
    "duration": 41,
    "start_time": "2021-12-19T09:32:43.022Z"
   },
   {
    "duration": 48,
    "start_time": "2021-12-19T09:32:43.066Z"
   },
   {
    "duration": 4,
    "start_time": "2021-12-19T09:32:43.117Z"
   },
   {
    "duration": 31,
    "start_time": "2021-12-19T09:32:43.124Z"
   },
   {
    "duration": 19,
    "start_time": "2021-12-19T09:32:43.158Z"
   },
   {
    "duration": 13,
    "start_time": "2021-12-19T09:32:43.180Z"
   },
   {
    "duration": 34,
    "start_time": "2021-12-19T09:32:43.196Z"
   },
   {
    "duration": 45,
    "start_time": "2021-12-19T09:32:43.232Z"
   },
   {
    "duration": 4,
    "start_time": "2021-12-19T09:32:43.280Z"
   },
   {
    "duration": 29,
    "start_time": "2021-12-19T09:32:43.287Z"
   },
   {
    "duration": 16,
    "start_time": "2021-12-19T09:32:43.319Z"
   },
   {
    "duration": 11,
    "start_time": "2021-12-19T09:32:43.338Z"
   },
   {
    "duration": 67,
    "start_time": "2021-12-19T09:32:43.352Z"
   },
   {
    "duration": 10,
    "start_time": "2021-12-19T09:32:43.422Z"
   },
   {
    "duration": 11,
    "start_time": "2021-12-19T09:32:43.435Z"
   },
   {
    "duration": 69,
    "start_time": "2021-12-19T09:32:43.448Z"
   },
   {
    "duration": 17,
    "start_time": "2021-12-19T09:32:43.520Z"
   },
   {
    "duration": 16,
    "start_time": "2021-12-19T09:32:43.540Z"
   },
   {
    "duration": 13,
    "start_time": "2021-12-19T09:32:43.559Z"
   },
   {
    "duration": 60,
    "start_time": "2021-12-19T09:32:43.575Z"
   },
   {
    "duration": 11,
    "start_time": "2021-12-19T09:32:43.637Z"
   },
   {
    "duration": 19,
    "start_time": "2021-12-19T09:32:43.650Z"
   },
   {
    "duration": 46,
    "start_time": "2021-12-19T09:32:43.672Z"
   },
   {
    "duration": 19,
    "start_time": "2021-12-19T09:32:43.721Z"
   },
   {
    "duration": 11,
    "start_time": "2021-12-19T09:32:43.742Z"
   },
   {
    "duration": 19,
    "start_time": "2021-12-19T09:32:43.756Z"
   },
   {
    "duration": 45,
    "start_time": "2021-12-19T09:32:43.778Z"
   },
   {
    "duration": 20,
    "start_time": "2021-12-19T09:32:43.826Z"
   },
   {
    "duration": 11,
    "start_time": "2021-12-19T09:32:43.849Z"
   },
   {
    "duration": 63,
    "start_time": "2021-12-19T09:32:43.863Z"
   }
  ],
  "kernelspec": {
   "display_name": "Python 3 (ipykernel)",
   "language": "python",
   "name": "python3"
  },
  "language_info": {
   "codemirror_mode": {
    "name": "ipython",
    "version": 3
   },
   "file_extension": ".py",
   "mimetype": "text/x-python",
   "name": "python",
   "nbconvert_exporter": "python",
   "pygments_lexer": "ipython3",
   "version": "3.9.7"
  },
  "toc": {
   "base_numbering": 1,
   "nav_menu": {},
   "number_sections": true,
   "sideBar": true,
   "skip_h1_title": true,
   "title_cell": "Table of Contents",
   "title_sidebar": "Contents",
   "toc_cell": false,
   "toc_position": {
    "height": "calc(100% - 180px)",
    "left": "10px",
    "top": "150px",
    "width": "409px"
   },
   "toc_section_display": true,
   "toc_window_display": false
  }
 },
 "nbformat": 4,
 "nbformat_minor": 2
}
