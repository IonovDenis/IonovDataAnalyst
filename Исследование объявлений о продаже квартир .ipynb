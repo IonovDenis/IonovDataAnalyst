{
 "cells": [
  {
   "cell_type": "markdown",
   "metadata": {},
   "source": [
    "# Исследование объявлений о продаже квартир\n",
    "\n",
    "В вашем распоряжении данные сервиса Яндекс.Недвижимость — архив объявлений о продаже квартир в Санкт-Петербурге и соседних населённых пунктах за несколько лет. Нужно научиться определять рыночную стоимость объектов недвижимости. Ваша задача — установить параметры. Это позволит построить автоматизированную систему: она отследит аномалии и мошенническую деятельность. \n",
    "\n",
    "По каждой квартире на продажу доступны два вида данных. Первые вписаны пользователем, вторые получены автоматически на основе картографических данных. Например, расстояние до центра, аэропорта, ближайшего парка и водоёма. "
   ]
  },
  {
   "cell_type": "markdown",
   "metadata": {},
   "source": [
    "## Изучение данных из файла"
   ]
  },
  {
   "cell_type": "code",
   "execution_count": 108,
   "metadata": {},
   "outputs": [
    {
     "data": {
      "text/html": [
       "<div>\n",
       "<style scoped>\n",
       "    .dataframe tbody tr th:only-of-type {\n",
       "        vertical-align: middle;\n",
       "    }\n",
       "\n",
       "    .dataframe tbody tr th {\n",
       "        vertical-align: top;\n",
       "    }\n",
       "\n",
       "    .dataframe thead th {\n",
       "        text-align: right;\n",
       "    }\n",
       "</style>\n",
       "<table border=\"1\" class=\"dataframe\">\n",
       "  <thead>\n",
       "    <tr style=\"text-align: right;\">\n",
       "      <th></th>\n",
       "      <th>total_images</th>\n",
       "      <th>last_price</th>\n",
       "      <th>total_area</th>\n",
       "      <th>first_day_exposition</th>\n",
       "      <th>rooms</th>\n",
       "      <th>ceiling_height</th>\n",
       "      <th>floors_total</th>\n",
       "      <th>living_area</th>\n",
       "      <th>floor</th>\n",
       "      <th>is_apartment</th>\n",
       "      <th>...</th>\n",
       "      <th>kitchen_area</th>\n",
       "      <th>balcony</th>\n",
       "      <th>locality_name</th>\n",
       "      <th>airports_nearest</th>\n",
       "      <th>cityCenters_nearest</th>\n",
       "      <th>parks_around3000</th>\n",
       "      <th>parks_nearest</th>\n",
       "      <th>ponds_around3000</th>\n",
       "      <th>ponds_nearest</th>\n",
       "      <th>days_exposition</th>\n",
       "    </tr>\n",
       "  </thead>\n",
       "  <tbody>\n",
       "    <tr>\n",
       "      <td>0</td>\n",
       "      <td>20</td>\n",
       "      <td>13000000.0</td>\n",
       "      <td>108.00</td>\n",
       "      <td>2019-03-07T00:00:00</td>\n",
       "      <td>3</td>\n",
       "      <td>2.70</td>\n",
       "      <td>16.0</td>\n",
       "      <td>51.0</td>\n",
       "      <td>8</td>\n",
       "      <td>NaN</td>\n",
       "      <td>...</td>\n",
       "      <td>25.00</td>\n",
       "      <td>NaN</td>\n",
       "      <td>Санкт-Петербург</td>\n",
       "      <td>18863.0</td>\n",
       "      <td>16028.0</td>\n",
       "      <td>1.0</td>\n",
       "      <td>482.0</td>\n",
       "      <td>2.0</td>\n",
       "      <td>755.0</td>\n",
       "      <td>NaN</td>\n",
       "    </tr>\n",
       "    <tr>\n",
       "      <td>1</td>\n",
       "      <td>7</td>\n",
       "      <td>3350000.0</td>\n",
       "      <td>40.40</td>\n",
       "      <td>2018-12-04T00:00:00</td>\n",
       "      <td>1</td>\n",
       "      <td>NaN</td>\n",
       "      <td>11.0</td>\n",
       "      <td>18.6</td>\n",
       "      <td>1</td>\n",
       "      <td>NaN</td>\n",
       "      <td>...</td>\n",
       "      <td>11.00</td>\n",
       "      <td>2.0</td>\n",
       "      <td>посёлок Шушары</td>\n",
       "      <td>12817.0</td>\n",
       "      <td>18603.0</td>\n",
       "      <td>0.0</td>\n",
       "      <td>NaN</td>\n",
       "      <td>0.0</td>\n",
       "      <td>NaN</td>\n",
       "      <td>81.0</td>\n",
       "    </tr>\n",
       "    <tr>\n",
       "      <td>2</td>\n",
       "      <td>10</td>\n",
       "      <td>5196000.0</td>\n",
       "      <td>56.00</td>\n",
       "      <td>2015-08-20T00:00:00</td>\n",
       "      <td>2</td>\n",
       "      <td>NaN</td>\n",
       "      <td>5.0</td>\n",
       "      <td>34.3</td>\n",
       "      <td>4</td>\n",
       "      <td>NaN</td>\n",
       "      <td>...</td>\n",
       "      <td>8.30</td>\n",
       "      <td>0.0</td>\n",
       "      <td>Санкт-Петербург</td>\n",
       "      <td>21741.0</td>\n",
       "      <td>13933.0</td>\n",
       "      <td>1.0</td>\n",
       "      <td>90.0</td>\n",
       "      <td>2.0</td>\n",
       "      <td>574.0</td>\n",
       "      <td>558.0</td>\n",
       "    </tr>\n",
       "    <tr>\n",
       "      <td>3</td>\n",
       "      <td>0</td>\n",
       "      <td>64900000.0</td>\n",
       "      <td>159.00</td>\n",
       "      <td>2015-07-24T00:00:00</td>\n",
       "      <td>3</td>\n",
       "      <td>NaN</td>\n",
       "      <td>14.0</td>\n",
       "      <td>NaN</td>\n",
       "      <td>9</td>\n",
       "      <td>NaN</td>\n",
       "      <td>...</td>\n",
       "      <td>NaN</td>\n",
       "      <td>0.0</td>\n",
       "      <td>Санкт-Петербург</td>\n",
       "      <td>28098.0</td>\n",
       "      <td>6800.0</td>\n",
       "      <td>2.0</td>\n",
       "      <td>84.0</td>\n",
       "      <td>3.0</td>\n",
       "      <td>234.0</td>\n",
       "      <td>424.0</td>\n",
       "    </tr>\n",
       "    <tr>\n",
       "      <td>4</td>\n",
       "      <td>2</td>\n",
       "      <td>10000000.0</td>\n",
       "      <td>100.00</td>\n",
       "      <td>2018-06-19T00:00:00</td>\n",
       "      <td>2</td>\n",
       "      <td>3.03</td>\n",
       "      <td>14.0</td>\n",
       "      <td>32.0</td>\n",
       "      <td>13</td>\n",
       "      <td>NaN</td>\n",
       "      <td>...</td>\n",
       "      <td>41.00</td>\n",
       "      <td>NaN</td>\n",
       "      <td>Санкт-Петербург</td>\n",
       "      <td>31856.0</td>\n",
       "      <td>8098.0</td>\n",
       "      <td>2.0</td>\n",
       "      <td>112.0</td>\n",
       "      <td>1.0</td>\n",
       "      <td>48.0</td>\n",
       "      <td>121.0</td>\n",
       "    </tr>\n",
       "    <tr>\n",
       "      <td>...</td>\n",
       "      <td>...</td>\n",
       "      <td>...</td>\n",
       "      <td>...</td>\n",
       "      <td>...</td>\n",
       "      <td>...</td>\n",
       "      <td>...</td>\n",
       "      <td>...</td>\n",
       "      <td>...</td>\n",
       "      <td>...</td>\n",
       "      <td>...</td>\n",
       "      <td>...</td>\n",
       "      <td>...</td>\n",
       "      <td>...</td>\n",
       "      <td>...</td>\n",
       "      <td>...</td>\n",
       "      <td>...</td>\n",
       "      <td>...</td>\n",
       "      <td>...</td>\n",
       "      <td>...</td>\n",
       "      <td>...</td>\n",
       "      <td>...</td>\n",
       "    </tr>\n",
       "    <tr>\n",
       "      <td>23694</td>\n",
       "      <td>9</td>\n",
       "      <td>9700000.0</td>\n",
       "      <td>133.81</td>\n",
       "      <td>2017-03-21T00:00:00</td>\n",
       "      <td>3</td>\n",
       "      <td>3.70</td>\n",
       "      <td>5.0</td>\n",
       "      <td>73.3</td>\n",
       "      <td>3</td>\n",
       "      <td>NaN</td>\n",
       "      <td>...</td>\n",
       "      <td>13.83</td>\n",
       "      <td>NaN</td>\n",
       "      <td>Санкт-Петербург</td>\n",
       "      <td>24665.0</td>\n",
       "      <td>4232.0</td>\n",
       "      <td>1.0</td>\n",
       "      <td>796.0</td>\n",
       "      <td>3.0</td>\n",
       "      <td>381.0</td>\n",
       "      <td>NaN</td>\n",
       "    </tr>\n",
       "    <tr>\n",
       "      <td>23695</td>\n",
       "      <td>14</td>\n",
       "      <td>3100000.0</td>\n",
       "      <td>59.00</td>\n",
       "      <td>2018-01-15T00:00:00</td>\n",
       "      <td>3</td>\n",
       "      <td>NaN</td>\n",
       "      <td>5.0</td>\n",
       "      <td>38.0</td>\n",
       "      <td>4</td>\n",
       "      <td>NaN</td>\n",
       "      <td>...</td>\n",
       "      <td>8.50</td>\n",
       "      <td>NaN</td>\n",
       "      <td>Тосно</td>\n",
       "      <td>NaN</td>\n",
       "      <td>NaN</td>\n",
       "      <td>NaN</td>\n",
       "      <td>NaN</td>\n",
       "      <td>NaN</td>\n",
       "      <td>NaN</td>\n",
       "      <td>45.0</td>\n",
       "    </tr>\n",
       "    <tr>\n",
       "      <td>23696</td>\n",
       "      <td>18</td>\n",
       "      <td>2500000.0</td>\n",
       "      <td>56.70</td>\n",
       "      <td>2018-02-11T00:00:00</td>\n",
       "      <td>2</td>\n",
       "      <td>NaN</td>\n",
       "      <td>3.0</td>\n",
       "      <td>29.7</td>\n",
       "      <td>1</td>\n",
       "      <td>NaN</td>\n",
       "      <td>...</td>\n",
       "      <td>NaN</td>\n",
       "      <td>NaN</td>\n",
       "      <td>село Рождествено</td>\n",
       "      <td>NaN</td>\n",
       "      <td>NaN</td>\n",
       "      <td>NaN</td>\n",
       "      <td>NaN</td>\n",
       "      <td>NaN</td>\n",
       "      <td>NaN</td>\n",
       "      <td>NaN</td>\n",
       "    </tr>\n",
       "    <tr>\n",
       "      <td>23697</td>\n",
       "      <td>13</td>\n",
       "      <td>11475000.0</td>\n",
       "      <td>76.75</td>\n",
       "      <td>2017-03-28T00:00:00</td>\n",
       "      <td>2</td>\n",
       "      <td>3.00</td>\n",
       "      <td>17.0</td>\n",
       "      <td>NaN</td>\n",
       "      <td>12</td>\n",
       "      <td>NaN</td>\n",
       "      <td>...</td>\n",
       "      <td>23.30</td>\n",
       "      <td>2.0</td>\n",
       "      <td>Санкт-Петербург</td>\n",
       "      <td>39140.0</td>\n",
       "      <td>10364.0</td>\n",
       "      <td>2.0</td>\n",
       "      <td>173.0</td>\n",
       "      <td>3.0</td>\n",
       "      <td>196.0</td>\n",
       "      <td>602.0</td>\n",
       "    </tr>\n",
       "    <tr>\n",
       "      <td>23698</td>\n",
       "      <td>4</td>\n",
       "      <td>1350000.0</td>\n",
       "      <td>32.30</td>\n",
       "      <td>2017-07-21T00:00:00</td>\n",
       "      <td>1</td>\n",
       "      <td>2.50</td>\n",
       "      <td>5.0</td>\n",
       "      <td>12.3</td>\n",
       "      <td>1</td>\n",
       "      <td>NaN</td>\n",
       "      <td>...</td>\n",
       "      <td>9.00</td>\n",
       "      <td>NaN</td>\n",
       "      <td>поселок Новый Учхоз</td>\n",
       "      <td>NaN</td>\n",
       "      <td>NaN</td>\n",
       "      <td>NaN</td>\n",
       "      <td>NaN</td>\n",
       "      <td>NaN</td>\n",
       "      <td>NaN</td>\n",
       "      <td>NaN</td>\n",
       "    </tr>\n",
       "  </tbody>\n",
       "</table>\n",
       "<p>23699 rows × 22 columns</p>\n",
       "</div>"
      ],
      "text/plain": [
       "       total_images  last_price  total_area first_day_exposition  rooms  \\\n",
       "0                20  13000000.0      108.00  2019-03-07T00:00:00      3   \n",
       "1                 7   3350000.0       40.40  2018-12-04T00:00:00      1   \n",
       "2                10   5196000.0       56.00  2015-08-20T00:00:00      2   \n",
       "3                 0  64900000.0      159.00  2015-07-24T00:00:00      3   \n",
       "4                 2  10000000.0      100.00  2018-06-19T00:00:00      2   \n",
       "...             ...         ...         ...                  ...    ...   \n",
       "23694             9   9700000.0      133.81  2017-03-21T00:00:00      3   \n",
       "23695            14   3100000.0       59.00  2018-01-15T00:00:00      3   \n",
       "23696            18   2500000.0       56.70  2018-02-11T00:00:00      2   \n",
       "23697            13  11475000.0       76.75  2017-03-28T00:00:00      2   \n",
       "23698             4   1350000.0       32.30  2017-07-21T00:00:00      1   \n",
       "\n",
       "       ceiling_height  floors_total  living_area  floor is_apartment  ...  \\\n",
       "0                2.70          16.0         51.0      8          NaN  ...   \n",
       "1                 NaN          11.0         18.6      1          NaN  ...   \n",
       "2                 NaN           5.0         34.3      4          NaN  ...   \n",
       "3                 NaN          14.0          NaN      9          NaN  ...   \n",
       "4                3.03          14.0         32.0     13          NaN  ...   \n",
       "...               ...           ...          ...    ...          ...  ...   \n",
       "23694            3.70           5.0         73.3      3          NaN  ...   \n",
       "23695             NaN           5.0         38.0      4          NaN  ...   \n",
       "23696             NaN           3.0         29.7      1          NaN  ...   \n",
       "23697            3.00          17.0          NaN     12          NaN  ...   \n",
       "23698            2.50           5.0         12.3      1          NaN  ...   \n",
       "\n",
       "       kitchen_area  balcony        locality_name  airports_nearest  \\\n",
       "0             25.00      NaN      Санкт-Петербург           18863.0   \n",
       "1             11.00      2.0       посёлок Шушары           12817.0   \n",
       "2              8.30      0.0      Санкт-Петербург           21741.0   \n",
       "3               NaN      0.0      Санкт-Петербург           28098.0   \n",
       "4             41.00      NaN      Санкт-Петербург           31856.0   \n",
       "...             ...      ...                  ...               ...   \n",
       "23694         13.83      NaN      Санкт-Петербург           24665.0   \n",
       "23695          8.50      NaN                Тосно               NaN   \n",
       "23696           NaN      NaN     село Рождествено               NaN   \n",
       "23697         23.30      2.0      Санкт-Петербург           39140.0   \n",
       "23698          9.00      NaN  поселок Новый Учхоз               NaN   \n",
       "\n",
       "      cityCenters_nearest  parks_around3000  parks_nearest  ponds_around3000  \\\n",
       "0                 16028.0               1.0          482.0               2.0   \n",
       "1                 18603.0               0.0            NaN               0.0   \n",
       "2                 13933.0               1.0           90.0               2.0   \n",
       "3                  6800.0               2.0           84.0               3.0   \n",
       "4                  8098.0               2.0          112.0               1.0   \n",
       "...                   ...               ...            ...               ...   \n",
       "23694              4232.0               1.0          796.0               3.0   \n",
       "23695                 NaN               NaN            NaN               NaN   \n",
       "23696                 NaN               NaN            NaN               NaN   \n",
       "23697             10364.0               2.0          173.0               3.0   \n",
       "23698                 NaN               NaN            NaN               NaN   \n",
       "\n",
       "       ponds_nearest  days_exposition  \n",
       "0              755.0              NaN  \n",
       "1                NaN             81.0  \n",
       "2              574.0            558.0  \n",
       "3              234.0            424.0  \n",
       "4               48.0            121.0  \n",
       "...              ...              ...  \n",
       "23694          381.0              NaN  \n",
       "23695            NaN             45.0  \n",
       "23696            NaN              NaN  \n",
       "23697          196.0            602.0  \n",
       "23698            NaN              NaN  \n",
       "\n",
       "[23699 rows x 22 columns]"
      ]
     },
     "execution_count": 108,
     "metadata": {},
     "output_type": "execute_result"
    }
   ],
   "source": [
    "import warnings\n",
    "warnings.filterwarnings('ignore')\n",
    "import pandas as pd\n",
    "df = pd.read_csv('/datasets/real_estate_data.csv', sep='\\t')\n",
    "df #посмотрим на датасет"
   ]
  },
  {
   "cell_type": "code",
   "execution_count": 109,
   "metadata": {},
   "outputs": [
    {
     "name": "stdout",
     "output_type": "stream",
     "text": [
      "<class 'pandas.core.frame.DataFrame'>\n",
      "RangeIndex: 23699 entries, 0 to 23698\n",
      "Data columns (total 22 columns):\n",
      "total_images            23699 non-null int64\n",
      "last_price              23699 non-null float64\n",
      "total_area              23699 non-null float64\n",
      "first_day_exposition    23699 non-null object\n",
      "rooms                   23699 non-null int64\n",
      "ceiling_height          14504 non-null float64\n",
      "floors_total            23613 non-null float64\n",
      "living_area             21796 non-null float64\n",
      "floor                   23699 non-null int64\n",
      "is_apartment            2775 non-null object\n",
      "studio                  23699 non-null bool\n",
      "open_plan               23699 non-null bool\n",
      "kitchen_area            21421 non-null float64\n",
      "balcony                 12180 non-null float64\n",
      "locality_name           23650 non-null object\n",
      "airports_nearest        18157 non-null float64\n",
      "cityCenters_nearest     18180 non-null float64\n",
      "parks_around3000        18181 non-null float64\n",
      "parks_nearest           8079 non-null float64\n",
      "ponds_around3000        18181 non-null float64\n",
      "ponds_nearest           9110 non-null float64\n",
      "days_exposition         20518 non-null float64\n",
      "dtypes: bool(2), float64(14), int64(3), object(3)\n",
      "memory usage: 3.7+ MB\n"
     ]
    }
   ],
   "source": [
    "df.info() #посмотрим на типы данных"
   ]
  },
  {
   "cell_type": "markdown",
   "metadata": {},
   "source": [
    "### Вывод"
   ]
  },
  {
   "cell_type": "markdown",
   "metadata": {},
   "source": [
    " При выводе таблицы датасет склеился и пришлось его разделить с помощью sep='\\t'.\n",
    "\n",
    " Итого имеем таблицу с 23699 строками и 22 столбцами.\n",
    "\n",
    " Во многих столбцах имеются пропуски.\n",
    "\n",
    " Большинство столбцов содержат данные в виде десятичных дробей, хотя этого не требуется, предстоит сменить тип данных.\n",
    "\n",
    "+ total_images — число фотографий квартиры в объявлении\n",
    "+ last_price — цена на момент снятия с публикации **(дробь/целое число)**\t\n",
    "+ total_area — площадь квартиры в квадратных метрах (м²)\n",
    "+ first_day_exposition — дата публикации\t\n",
    "+ rooms — число комнат\n",
    "+ ceiling_height — высота потолков (м)\n",
    "+ floors_total — всего этажей в доме **(дробь/целое число)**\t\t\n",
    "+ living_area — жилая площадь в квадратных метрах (м²)\n",
    "+ floor — этаж\n",
    "+ is_apartment — апартаменты (булев тип)\t\n",
    "+ studio — квартира-студия (булев тип)\t\n",
    "+ open_plan — свободная планировка (булев тип)\t\n",
    "+ kitchen_area — площадь кухни в квадратных метрах (м²)\n",
    "+ balcony — число балконов **(дробь/целое число)**\t\n",
    "+ locality_name — название населённого пункта\n",
    "+ airports_nearest — расстояние до ближайшего аэропорта в метрах (м) **(дробь/целое число)**\t\n",
    "+ cityCenters_nearest — расстояние до центра города (м) **(дробь/целое число)**\t\n",
    "+ parks_around3000 — число парков в радиусе 3 км\t**(дробь/целое число)**\t\n",
    "+ parks_nearest — расстояние до ближайшего парка (м) **(дробь/целое число)**\t\n",
    "+ ponds_around3000 — число водоёмов в радиусе 3 км **(дробь/целое число)**\t\n",
    "+ ponds_nearest — расстояние до ближайшего водоёма (м) **(дробь/целое число)**\t\t\n",
    "+ days_exposition — сколько дней было размещено объявление (от публикации до снятия) **(дробь/целое число)**\t"
   ]
  },
  {
   "cell_type": "markdown",
   "metadata": {},
   "source": [
    "## Предобработка данных"
   ]
  },
  {
   "cell_type": "code",
   "execution_count": 110,
   "metadata": {},
   "outputs": [
    {
     "data": {
      "text/html": [
       "<div>\n",
       "<style scoped>\n",
       "    .dataframe tbody tr th:only-of-type {\n",
       "        vertical-align: middle;\n",
       "    }\n",
       "\n",
       "    .dataframe tbody tr th {\n",
       "        vertical-align: top;\n",
       "    }\n",
       "\n",
       "    .dataframe thead th {\n",
       "        text-align: right;\n",
       "    }\n",
       "</style>\n",
       "<table border=\"1\" class=\"dataframe\">\n",
       "  <thead>\n",
       "    <tr style=\"text-align: right;\">\n",
       "      <th></th>\n",
       "      <th>last_price</th>\n",
       "      <th>floors_total</th>\n",
       "      <th>balcony</th>\n",
       "      <th>airports_nearest</th>\n",
       "      <th>cityCenters_nearest</th>\n",
       "      <th>parks_around3000</th>\n",
       "      <th>parks_nearest</th>\n",
       "      <th>ponds_around3000</th>\n",
       "      <th>ponds_nearest</th>\n",
       "      <th>days_exposition</th>\n",
       "    </tr>\n",
       "  </thead>\n",
       "  <tbody>\n",
       "    <tr>\n",
       "      <td>0</td>\n",
       "      <td>13000000.0</td>\n",
       "      <td>16.0</td>\n",
       "      <td>NaN</td>\n",
       "      <td>18863.0</td>\n",
       "      <td>16028.0</td>\n",
       "      <td>1.0</td>\n",
       "      <td>482.0</td>\n",
       "      <td>2.0</td>\n",
       "      <td>755.0</td>\n",
       "      <td>NaN</td>\n",
       "    </tr>\n",
       "    <tr>\n",
       "      <td>1</td>\n",
       "      <td>3350000.0</td>\n",
       "      <td>11.0</td>\n",
       "      <td>2.0</td>\n",
       "      <td>12817.0</td>\n",
       "      <td>18603.0</td>\n",
       "      <td>0.0</td>\n",
       "      <td>NaN</td>\n",
       "      <td>0.0</td>\n",
       "      <td>NaN</td>\n",
       "      <td>81.0</td>\n",
       "    </tr>\n",
       "    <tr>\n",
       "      <td>2</td>\n",
       "      <td>5196000.0</td>\n",
       "      <td>5.0</td>\n",
       "      <td>0.0</td>\n",
       "      <td>21741.0</td>\n",
       "      <td>13933.0</td>\n",
       "      <td>1.0</td>\n",
       "      <td>90.0</td>\n",
       "      <td>2.0</td>\n",
       "      <td>574.0</td>\n",
       "      <td>558.0</td>\n",
       "    </tr>\n",
       "    <tr>\n",
       "      <td>3</td>\n",
       "      <td>64900000.0</td>\n",
       "      <td>14.0</td>\n",
       "      <td>0.0</td>\n",
       "      <td>28098.0</td>\n",
       "      <td>6800.0</td>\n",
       "      <td>2.0</td>\n",
       "      <td>84.0</td>\n",
       "      <td>3.0</td>\n",
       "      <td>234.0</td>\n",
       "      <td>424.0</td>\n",
       "    </tr>\n",
       "    <tr>\n",
       "      <td>4</td>\n",
       "      <td>10000000.0</td>\n",
       "      <td>14.0</td>\n",
       "      <td>NaN</td>\n",
       "      <td>31856.0</td>\n",
       "      <td>8098.0</td>\n",
       "      <td>2.0</td>\n",
       "      <td>112.0</td>\n",
       "      <td>1.0</td>\n",
       "      <td>48.0</td>\n",
       "      <td>121.0</td>\n",
       "    </tr>\n",
       "    <tr>\n",
       "      <td>...</td>\n",
       "      <td>...</td>\n",
       "      <td>...</td>\n",
       "      <td>...</td>\n",
       "      <td>...</td>\n",
       "      <td>...</td>\n",
       "      <td>...</td>\n",
       "      <td>...</td>\n",
       "      <td>...</td>\n",
       "      <td>...</td>\n",
       "      <td>...</td>\n",
       "    </tr>\n",
       "    <tr>\n",
       "      <td>23694</td>\n",
       "      <td>9700000.0</td>\n",
       "      <td>5.0</td>\n",
       "      <td>NaN</td>\n",
       "      <td>24665.0</td>\n",
       "      <td>4232.0</td>\n",
       "      <td>1.0</td>\n",
       "      <td>796.0</td>\n",
       "      <td>3.0</td>\n",
       "      <td>381.0</td>\n",
       "      <td>NaN</td>\n",
       "    </tr>\n",
       "    <tr>\n",
       "      <td>23695</td>\n",
       "      <td>3100000.0</td>\n",
       "      <td>5.0</td>\n",
       "      <td>NaN</td>\n",
       "      <td>NaN</td>\n",
       "      <td>NaN</td>\n",
       "      <td>NaN</td>\n",
       "      <td>NaN</td>\n",
       "      <td>NaN</td>\n",
       "      <td>NaN</td>\n",
       "      <td>45.0</td>\n",
       "    </tr>\n",
       "    <tr>\n",
       "      <td>23696</td>\n",
       "      <td>2500000.0</td>\n",
       "      <td>3.0</td>\n",
       "      <td>NaN</td>\n",
       "      <td>NaN</td>\n",
       "      <td>NaN</td>\n",
       "      <td>NaN</td>\n",
       "      <td>NaN</td>\n",
       "      <td>NaN</td>\n",
       "      <td>NaN</td>\n",
       "      <td>NaN</td>\n",
       "    </tr>\n",
       "    <tr>\n",
       "      <td>23697</td>\n",
       "      <td>11475000.0</td>\n",
       "      <td>17.0</td>\n",
       "      <td>2.0</td>\n",
       "      <td>39140.0</td>\n",
       "      <td>10364.0</td>\n",
       "      <td>2.0</td>\n",
       "      <td>173.0</td>\n",
       "      <td>3.0</td>\n",
       "      <td>196.0</td>\n",
       "      <td>602.0</td>\n",
       "    </tr>\n",
       "    <tr>\n",
       "      <td>23698</td>\n",
       "      <td>1350000.0</td>\n",
       "      <td>5.0</td>\n",
       "      <td>NaN</td>\n",
       "      <td>NaN</td>\n",
       "      <td>NaN</td>\n",
       "      <td>NaN</td>\n",
       "      <td>NaN</td>\n",
       "      <td>NaN</td>\n",
       "      <td>NaN</td>\n",
       "      <td>NaN</td>\n",
       "    </tr>\n",
       "  </tbody>\n",
       "</table>\n",
       "<p>23699 rows × 10 columns</p>\n",
       "</div>"
      ],
      "text/plain": [
       "       last_price  floors_total  balcony  airports_nearest  \\\n",
       "0      13000000.0          16.0      NaN           18863.0   \n",
       "1       3350000.0          11.0      2.0           12817.0   \n",
       "2       5196000.0           5.0      0.0           21741.0   \n",
       "3      64900000.0          14.0      0.0           28098.0   \n",
       "4      10000000.0          14.0      NaN           31856.0   \n",
       "...           ...           ...      ...               ...   \n",
       "23694   9700000.0           5.0      NaN           24665.0   \n",
       "23695   3100000.0           5.0      NaN               NaN   \n",
       "23696   2500000.0           3.0      NaN               NaN   \n",
       "23697  11475000.0          17.0      2.0           39140.0   \n",
       "23698   1350000.0           5.0      NaN               NaN   \n",
       "\n",
       "       cityCenters_nearest  parks_around3000  parks_nearest  ponds_around3000  \\\n",
       "0                  16028.0               1.0          482.0               2.0   \n",
       "1                  18603.0               0.0            NaN               0.0   \n",
       "2                  13933.0               1.0           90.0               2.0   \n",
       "3                   6800.0               2.0           84.0               3.0   \n",
       "4                   8098.0               2.0          112.0               1.0   \n",
       "...                    ...               ...            ...               ...   \n",
       "23694               4232.0               1.0          796.0               3.0   \n",
       "23695                  NaN               NaN            NaN               NaN   \n",
       "23696                  NaN               NaN            NaN               NaN   \n",
       "23697              10364.0               2.0          173.0               3.0   \n",
       "23698                  NaN               NaN            NaN               NaN   \n",
       "\n",
       "       ponds_nearest  days_exposition  \n",
       "0              755.0              NaN  \n",
       "1                NaN             81.0  \n",
       "2              574.0            558.0  \n",
       "3              234.0            424.0  \n",
       "4               48.0            121.0  \n",
       "...              ...              ...  \n",
       "23694          381.0              NaN  \n",
       "23695            NaN             45.0  \n",
       "23696            NaN              NaN  \n",
       "23697          196.0            602.0  \n",
       "23698            NaN              NaN  \n",
       "\n",
       "[23699 rows x 10 columns]"
      ]
     },
     "execution_count": 110,
     "metadata": {},
     "output_type": "execute_result"
    }
   ],
   "source": [
    "#рассмотрим часть таблицы с дробными числами которым можно придать целочисленный вид\n",
    "\n",
    "\n",
    "(\n",
    "    df.loc[:, ['last_price', 'floors_total', 'balcony', 'airports_nearest', 'cityCenters_nearest',\n",
    "               'parks_around3000', 'parks_nearest', 'ponds_around3000', 'ponds_nearest', 'days_exposition']]\n",
    ")"
   ]
  },
  {
   "cell_type": "code",
   "execution_count": 111,
   "metadata": {},
   "outputs": [
    {
     "name": "stdout",
     "output_type": "stream",
     "text": [
      "<class 'pandas.core.frame.DataFrame'>\n",
      "RangeIndex: 23699 entries, 0 to 23698\n",
      "Data columns (total 22 columns):\n",
      "total_images            23699 non-null int64\n",
      "last_price              23699 non-null int32\n",
      "total_area              23699 non-null float64\n",
      "first_day_exposition    23699 non-null object\n",
      "rooms                   23699 non-null int64\n",
      "ceiling_height          14504 non-null float64\n",
      "floors_total            23613 non-null float64\n",
      "living_area             21796 non-null float64\n",
      "floor                   23699 non-null int64\n",
      "is_apartment            2775 non-null object\n",
      "studio                  23699 non-null bool\n",
      "open_plan               23699 non-null bool\n",
      "kitchen_area            21421 non-null float64\n",
      "balcony                 12180 non-null float64\n",
      "locality_name           23650 non-null object\n",
      "airports_nearest        18157 non-null float64\n",
      "cityCenters_nearest     18180 non-null float64\n",
      "parks_around3000        18181 non-null float64\n",
      "parks_nearest           8079 non-null float64\n",
      "ponds_around3000        18181 non-null float64\n",
      "ponds_nearest           9110 non-null float64\n",
      "days_exposition         20518 non-null float64\n",
      "dtypes: bool(2), float64(13), int32(1), int64(3), object(3)\n",
      "memory usage: 3.6+ MB\n"
     ]
    }
   ],
   "source": [
    "#преобразуем в целые числа \n",
    "\n",
    "int_columns = ('last_price, floors_total, balcony, airports_nearest, cityCenters_nearest, parks_around3000, parks_nearest, ponds_around3000, ponds_nearest, days_exposition')               \n",
    "int_columns = int_columns.split(', ')\n",
    "for column in int_columns:\n",
    "    df[column] = pd.to_numeric(df[column], errors='coerce', downcast='integer')\n",
    "    \n",
    "df.info() "
   ]
  },
  {
   "cell_type": "code",
   "execution_count": 112,
   "metadata": {},
   "outputs": [
    {
     "data": {
      "text/plain": [
       "0    санкт-петербург\n",
       "1     посёлок шушары\n",
       "2    санкт-петербург\n",
       "3    санкт-петербург\n",
       "4    санкт-петербург\n",
       "Name: locality_name, dtype: object"
      ]
     },
     "execution_count": 112,
     "metadata": {},
     "output_type": "execute_result"
    }
   ],
   "source": [
    "#в населенных пунктах встречаются заглавные буквы, приведем их к единому виду\n",
    "df['locality_name'] = df['locality_name'].str.lower()\n",
    "#проверка\n",
    "df['locality_name'].head()\n"
   ]
  },
  {
   "cell_type": "code",
   "execution_count": 113,
   "metadata": {},
   "outputs": [
    {
     "data": {
      "text/plain": [
       "9195"
      ]
     },
     "execution_count": 113,
     "metadata": {},
     "output_type": "execute_result"
    }
   ],
   "source": [
    "#первый столбец имеющий пропуски 'ceiling_height' - высота потолка\n",
    "df['ceiling_height'].isna().sum()"
   ]
  },
  {
   "cell_type": "code",
   "execution_count": 114,
   "metadata": {},
   "outputs": [
    {
     "data": {
      "text/plain": [
       "0        2.70\n",
       "1         NaN\n",
       "2         NaN\n",
       "3         NaN\n",
       "4        3.03\n",
       "         ... \n",
       "23694    3.70\n",
       "23695     NaN\n",
       "23696     NaN\n",
       "23697    3.00\n",
       "23698    2.50\n",
       "Name: ceiling_height, Length: 23699, dtype: float64"
      ]
     },
     "execution_count": 114,
     "metadata": {},
     "output_type": "execute_result"
    }
   ],
   "source": [
    "df['ceiling_height']"
   ]
  },
  {
   "cell_type": "code",
   "execution_count": 115,
   "metadata": {},
   "outputs": [
    {
     "data": {
      "text/plain": [
       "array([  2.7 ,    nan,   3.03,   2.5 ,   2.67,   2.56,   3.05,   2.75,\n",
       "         2.6 ,   2.9 ,   2.8 ,   2.55,   3.  ,   2.65,   3.2 ,   2.61,\n",
       "         3.25,   3.45,   2.77,   2.85,   2.64,   2.57,   4.15,   3.5 ,\n",
       "         3.3 ,   2.71,   4.  ,   2.47,   2.73,   2.84,   3.1 ,   2.34,\n",
       "         3.4 ,   3.06,   2.72,   2.54,   2.51,   2.78,   2.76,  25.  ,\n",
       "         2.58,   3.7 ,   2.52,   5.2 ,   2.87,   2.66,   2.59,   2.  ,\n",
       "         2.45,   3.6 ,   2.92,   3.11,   3.13,   3.8 ,   3.15,   3.55,\n",
       "         3.16,   3.62,   3.12,   2.53,   2.74,   2.96,   2.46,   5.3 ,\n",
       "         5.  ,   2.79,   2.95,   4.06,   2.94,   3.82,   3.54,   3.53,\n",
       "         2.83,   4.7 ,   2.4 ,   3.38,   3.01,   5.6 ,   3.65,   3.9 ,\n",
       "         3.18,   3.35,   2.3 ,   3.57,   2.48,   2.62,   2.82,   3.98,\n",
       "         2.63,   3.83,   3.52,   3.95,   3.75,   2.88,   3.67,   3.87,\n",
       "         3.66,   3.85,   3.86,   4.19,   3.24,   4.8 ,   4.5 ,   4.2 ,\n",
       "         3.36,  32.  ,   3.08,   3.68,   3.07,   3.37,   3.09,   8.  ,\n",
       "         3.26,   3.34,   2.81,   3.44,   2.97,   3.14,   4.37,   2.68,\n",
       "         3.22,   3.27,  27.  ,   4.1 ,   2.93,   3.46,  24.  ,   3.47,\n",
       "         3.33,   3.63,   3.32,  26.  ,   1.2 ,   8.3 ,   2.98,   2.86,\n",
       "         3.17,   4.4 ,   3.28,   3.04,   4.45,   5.5 ,   3.84,   3.23,\n",
       "         3.02,   3.21,   3.43,   3.78,   4.3 ,   3.39,   2.69,   3.31,\n",
       "         4.65,   3.56,   2.2 ,   3.51,   3.93,   3.42,   2.99,   3.49,\n",
       "        14.  ,   4.14,   2.91,   3.88,   1.75,   4.25,   3.29,  20.  ,\n",
       "         2.25,   3.76,   3.69,   6.  ,  22.6 ,   2.89,   3.58,   5.8 ,\n",
       "        27.5 ,   2.49,   4.9 ,   3.48,  10.3 ,   1.  , 100.  ,   3.59])"
      ]
     },
     "execution_count": 115,
     "metadata": {},
     "output_type": "execute_result"
    }
   ],
   "source": [
    "#в столбце с высотой потолка видны явные ошибки, высота потолка не может быть 100 метров,\n",
    "#и если речь идет о квартирах, ограничимся максимальной высотой в 3 метра (сталинки или дореволюционные дома)\n",
    "#точно также минимальная высота не может быть ниже потолков в хрущевке - 2,20м\n",
    "df['ceiling_height'].unique()"
   ]
  },
  {
   "cell_type": "code",
   "execution_count": 116,
   "metadata": {},
   "outputs": [],
   "source": [
    "#Уберем значения больше высоты потолков в сталинках и меньше высоты потолков в хрущевках\n",
    "def ceiling_height_function(row):\n",
    "    if row > 3:\n",
    "        return 3\n",
    "    elif row < 2.2:\n",
    "        return 2.2\n",
    "    return row\n",
    "#применим функцию и округлим до десятых    \n",
    "df['ceiling_height'] = df['ceiling_height'].apply(ceiling_height_function).round(decimals = 1)"
   ]
  },
  {
   "cell_type": "code",
   "execution_count": 117,
   "metadata": {},
   "outputs": [
    {
     "data": {
      "text/plain": [
       "array([2.7, nan, 3. , 2.5, 2.6, 2.8, 2.9, 2.3, 2.2, 2.4])"
      ]
     },
     "execution_count": 117,
     "metadata": {},
     "output_type": "execute_result"
    }
   ],
   "source": [
    "#Проверим высоту потолков\n",
    "df['ceiling_height'].unique()"
   ]
  },
  {
   "cell_type": "code",
   "execution_count": 118,
   "metadata": {},
   "outputs": [],
   "source": [
    "#возьмем значения NaN и подставим вместо них средние значения потолка\n",
    "df['ceiling_height'] = df['ceiling_height'].fillna(df['ceiling_height'].mean()).round(decimals = 1)  "
   ]
  },
  {
   "cell_type": "code",
   "execution_count": 119,
   "metadata": {},
   "outputs": [
    {
     "data": {
      "text/plain": [
       "0"
      ]
     },
     "execution_count": 119,
     "metadata": {},
     "output_type": "execute_result"
    }
   ],
   "source": [
    "#сразу проверим\n",
    "df['ceiling_height'].isna().sum()"
   ]
  },
  {
   "cell_type": "code",
   "execution_count": 120,
   "metadata": {},
   "outputs": [
    {
     "data": {
      "text/plain": [
       "86"
      ]
     },
     "execution_count": 120,
     "metadata": {},
     "output_type": "execute_result"
    }
   ],
   "source": [
    "#Следующий столбец с пропусками 'floors_total' - общее количество этажей в доме\n",
    "df['floors_total'].isna().sum()"
   ]
  },
  {
   "cell_type": "code",
   "execution_count": 121,
   "metadata": {},
   "outputs": [],
   "source": [
    "#заполняем средним значением, поскольку пропусков всего 86 и замена не скажется на общих цифрах,\n",
    "\n",
    "df['floors_total'] = df['floors_total'].fillna(df['floors_total'].mean())"
   ]
  },
  {
   "cell_type": "code",
   "execution_count": 122,
   "metadata": {},
   "outputs": [
    {
     "data": {
      "text/plain": [
       "0"
      ]
     },
     "execution_count": 122,
     "metadata": {},
     "output_type": "execute_result"
    }
   ],
   "source": [
    "#проверяем пропуски\n",
    "df['floors_total'].isna().sum()\n"
   ]
  },
  {
   "cell_type": "code",
   "execution_count": 123,
   "metadata": {},
   "outputs": [
    {
     "data": {
      "text/plain": [
       "20924"
      ]
     },
     "execution_count": 123,
     "metadata": {},
     "output_type": "execute_result"
    }
   ],
   "source": [
    "#Следующий столбец с пропусками 'is_apartment' - апартаменты (булев тип), но у нас не булев значит предстоит еще сменить тип данных\n",
    "#вернемся к апартаментам, пропусков так много потому что риелторы при размещении объявлении используют столбец 'is_apartment',\n",
    "#только в случае продажи апартаментов.\n",
    "df['is_apartment'].isna().sum()"
   ]
  },
  {
   "cell_type": "code",
   "execution_count": 124,
   "metadata": {},
   "outputs": [],
   "source": [
    "#заменим пропуски значениями 0, чтобы метод .astype() выдавал False, что соответствует квартирам\n",
    "df['is_apartment'] = df['is_apartment'].fillna(0)"
   ]
  },
  {
   "cell_type": "code",
   "execution_count": 125,
   "metadata": {},
   "outputs": [],
   "source": [
    "#сменим тип данных\n",
    "df['is_apartment'] = df['is_apartment'].astype(bool)"
   ]
  },
  {
   "cell_type": "code",
   "execution_count": 126,
   "metadata": {},
   "outputs": [
    {
     "data": {
      "text/plain": [
       "0"
      ]
     },
     "execution_count": 126,
     "metadata": {},
     "output_type": "execute_result"
    }
   ],
   "source": [
    "#проверим пропуски\n",
    "df['is_apartment'].isna().sum()"
   ]
  },
  {
   "cell_type": "code",
   "execution_count": 127,
   "metadata": {},
   "outputs": [],
   "source": [
    "#Из задания сразу дается подсказка:\n",
    "    #Для некоторых пропущенных значений можно предположить логичную замену. \n",
    "    #Например, если человек не указал число балконов — скорее всего, их нет. \n",
    "    #Такие пропуски правильно заменить на 0.\n",
    "df['balcony'] = df['balcony'].fillna(0)"
   ]
  },
  {
   "cell_type": "code",
   "execution_count": 128,
   "metadata": {},
   "outputs": [
    {
     "data": {
      "text/html": [
       "<div>\n",
       "<style scoped>\n",
       "    .dataframe tbody tr th:only-of-type {\n",
       "        vertical-align: middle;\n",
       "    }\n",
       "\n",
       "    .dataframe tbody tr th {\n",
       "        vertical-align: top;\n",
       "    }\n",
       "\n",
       "    .dataframe thead th {\n",
       "        text-align: right;\n",
       "    }\n",
       "</style>\n",
       "<table border=\"1\" class=\"dataframe\">\n",
       "  <thead>\n",
       "    <tr style=\"text-align: right;\">\n",
       "      <th></th>\n",
       "      <th>total_images</th>\n",
       "      <th>last_price</th>\n",
       "      <th>total_area</th>\n",
       "      <th>first_day_exposition</th>\n",
       "      <th>rooms</th>\n",
       "      <th>ceiling_height</th>\n",
       "      <th>floors_total</th>\n",
       "      <th>living_area</th>\n",
       "      <th>floor</th>\n",
       "      <th>is_apartment</th>\n",
       "      <th>...</th>\n",
       "      <th>kitchen_area</th>\n",
       "      <th>balcony</th>\n",
       "      <th>locality_name</th>\n",
       "      <th>airports_nearest</th>\n",
       "      <th>cityCenters_nearest</th>\n",
       "      <th>parks_around3000</th>\n",
       "      <th>parks_nearest</th>\n",
       "      <th>ponds_around3000</th>\n",
       "      <th>ponds_nearest</th>\n",
       "      <th>days_exposition</th>\n",
       "    </tr>\n",
       "  </thead>\n",
       "  <tbody>\n",
       "    <tr>\n",
       "      <td>0</td>\n",
       "      <td>20</td>\n",
       "      <td>13000000</td>\n",
       "      <td>108.00</td>\n",
       "      <td>2019-03-07T00:00:00</td>\n",
       "      <td>3</td>\n",
       "      <td>2.7</td>\n",
       "      <td>16.0</td>\n",
       "      <td>51.0</td>\n",
       "      <td>8</td>\n",
       "      <td>False</td>\n",
       "      <td>...</td>\n",
       "      <td>25.00</td>\n",
       "      <td>0.0</td>\n",
       "      <td>санкт-петербург</td>\n",
       "      <td>18863.0</td>\n",
       "      <td>16028.0</td>\n",
       "      <td>1.0</td>\n",
       "      <td>482.0</td>\n",
       "      <td>2.0</td>\n",
       "      <td>755.0</td>\n",
       "      <td>NaN</td>\n",
       "    </tr>\n",
       "    <tr>\n",
       "      <td>1</td>\n",
       "      <td>7</td>\n",
       "      <td>3350000</td>\n",
       "      <td>40.40</td>\n",
       "      <td>2018-12-04T00:00:00</td>\n",
       "      <td>1</td>\n",
       "      <td>2.7</td>\n",
       "      <td>11.0</td>\n",
       "      <td>18.6</td>\n",
       "      <td>1</td>\n",
       "      <td>False</td>\n",
       "      <td>...</td>\n",
       "      <td>11.00</td>\n",
       "      <td>2.0</td>\n",
       "      <td>посёлок шушары</td>\n",
       "      <td>12817.0</td>\n",
       "      <td>18603.0</td>\n",
       "      <td>0.0</td>\n",
       "      <td>NaN</td>\n",
       "      <td>0.0</td>\n",
       "      <td>NaN</td>\n",
       "      <td>81.0</td>\n",
       "    </tr>\n",
       "    <tr>\n",
       "      <td>2</td>\n",
       "      <td>10</td>\n",
       "      <td>5196000</td>\n",
       "      <td>56.00</td>\n",
       "      <td>2015-08-20T00:00:00</td>\n",
       "      <td>2</td>\n",
       "      <td>2.7</td>\n",
       "      <td>5.0</td>\n",
       "      <td>34.3</td>\n",
       "      <td>4</td>\n",
       "      <td>False</td>\n",
       "      <td>...</td>\n",
       "      <td>8.30</td>\n",
       "      <td>0.0</td>\n",
       "      <td>санкт-петербург</td>\n",
       "      <td>21741.0</td>\n",
       "      <td>13933.0</td>\n",
       "      <td>1.0</td>\n",
       "      <td>90.0</td>\n",
       "      <td>2.0</td>\n",
       "      <td>574.0</td>\n",
       "      <td>558.0</td>\n",
       "    </tr>\n",
       "    <tr>\n",
       "      <td>3</td>\n",
       "      <td>0</td>\n",
       "      <td>64900000</td>\n",
       "      <td>159.00</td>\n",
       "      <td>2015-07-24T00:00:00</td>\n",
       "      <td>3</td>\n",
       "      <td>2.7</td>\n",
       "      <td>14.0</td>\n",
       "      <td>NaN</td>\n",
       "      <td>9</td>\n",
       "      <td>False</td>\n",
       "      <td>...</td>\n",
       "      <td>NaN</td>\n",
       "      <td>0.0</td>\n",
       "      <td>санкт-петербург</td>\n",
       "      <td>28098.0</td>\n",
       "      <td>6800.0</td>\n",
       "      <td>2.0</td>\n",
       "      <td>84.0</td>\n",
       "      <td>3.0</td>\n",
       "      <td>234.0</td>\n",
       "      <td>424.0</td>\n",
       "    </tr>\n",
       "    <tr>\n",
       "      <td>4</td>\n",
       "      <td>2</td>\n",
       "      <td>10000000</td>\n",
       "      <td>100.00</td>\n",
       "      <td>2018-06-19T00:00:00</td>\n",
       "      <td>2</td>\n",
       "      <td>3.0</td>\n",
       "      <td>14.0</td>\n",
       "      <td>32.0</td>\n",
       "      <td>13</td>\n",
       "      <td>False</td>\n",
       "      <td>...</td>\n",
       "      <td>41.00</td>\n",
       "      <td>0.0</td>\n",
       "      <td>санкт-петербург</td>\n",
       "      <td>31856.0</td>\n",
       "      <td>8098.0</td>\n",
       "      <td>2.0</td>\n",
       "      <td>112.0</td>\n",
       "      <td>1.0</td>\n",
       "      <td>48.0</td>\n",
       "      <td>121.0</td>\n",
       "    </tr>\n",
       "    <tr>\n",
       "      <td>...</td>\n",
       "      <td>...</td>\n",
       "      <td>...</td>\n",
       "      <td>...</td>\n",
       "      <td>...</td>\n",
       "      <td>...</td>\n",
       "      <td>...</td>\n",
       "      <td>...</td>\n",
       "      <td>...</td>\n",
       "      <td>...</td>\n",
       "      <td>...</td>\n",
       "      <td>...</td>\n",
       "      <td>...</td>\n",
       "      <td>...</td>\n",
       "      <td>...</td>\n",
       "      <td>...</td>\n",
       "      <td>...</td>\n",
       "      <td>...</td>\n",
       "      <td>...</td>\n",
       "      <td>...</td>\n",
       "      <td>...</td>\n",
       "      <td>...</td>\n",
       "    </tr>\n",
       "    <tr>\n",
       "      <td>23694</td>\n",
       "      <td>9</td>\n",
       "      <td>9700000</td>\n",
       "      <td>133.81</td>\n",
       "      <td>2017-03-21T00:00:00</td>\n",
       "      <td>3</td>\n",
       "      <td>3.0</td>\n",
       "      <td>5.0</td>\n",
       "      <td>73.3</td>\n",
       "      <td>3</td>\n",
       "      <td>False</td>\n",
       "      <td>...</td>\n",
       "      <td>13.83</td>\n",
       "      <td>0.0</td>\n",
       "      <td>санкт-петербург</td>\n",
       "      <td>24665.0</td>\n",
       "      <td>4232.0</td>\n",
       "      <td>1.0</td>\n",
       "      <td>796.0</td>\n",
       "      <td>3.0</td>\n",
       "      <td>381.0</td>\n",
       "      <td>NaN</td>\n",
       "    </tr>\n",
       "    <tr>\n",
       "      <td>23695</td>\n",
       "      <td>14</td>\n",
       "      <td>3100000</td>\n",
       "      <td>59.00</td>\n",
       "      <td>2018-01-15T00:00:00</td>\n",
       "      <td>3</td>\n",
       "      <td>2.7</td>\n",
       "      <td>5.0</td>\n",
       "      <td>38.0</td>\n",
       "      <td>4</td>\n",
       "      <td>False</td>\n",
       "      <td>...</td>\n",
       "      <td>8.50</td>\n",
       "      <td>0.0</td>\n",
       "      <td>тосно</td>\n",
       "      <td>NaN</td>\n",
       "      <td>NaN</td>\n",
       "      <td>NaN</td>\n",
       "      <td>NaN</td>\n",
       "      <td>NaN</td>\n",
       "      <td>NaN</td>\n",
       "      <td>45.0</td>\n",
       "    </tr>\n",
       "    <tr>\n",
       "      <td>23696</td>\n",
       "      <td>18</td>\n",
       "      <td>2500000</td>\n",
       "      <td>56.70</td>\n",
       "      <td>2018-02-11T00:00:00</td>\n",
       "      <td>2</td>\n",
       "      <td>2.7</td>\n",
       "      <td>3.0</td>\n",
       "      <td>29.7</td>\n",
       "      <td>1</td>\n",
       "      <td>False</td>\n",
       "      <td>...</td>\n",
       "      <td>NaN</td>\n",
       "      <td>0.0</td>\n",
       "      <td>село рождествено</td>\n",
       "      <td>NaN</td>\n",
       "      <td>NaN</td>\n",
       "      <td>NaN</td>\n",
       "      <td>NaN</td>\n",
       "      <td>NaN</td>\n",
       "      <td>NaN</td>\n",
       "      <td>NaN</td>\n",
       "    </tr>\n",
       "    <tr>\n",
       "      <td>23697</td>\n",
       "      <td>13</td>\n",
       "      <td>11475000</td>\n",
       "      <td>76.75</td>\n",
       "      <td>2017-03-28T00:00:00</td>\n",
       "      <td>2</td>\n",
       "      <td>3.0</td>\n",
       "      <td>17.0</td>\n",
       "      <td>NaN</td>\n",
       "      <td>12</td>\n",
       "      <td>False</td>\n",
       "      <td>...</td>\n",
       "      <td>23.30</td>\n",
       "      <td>2.0</td>\n",
       "      <td>санкт-петербург</td>\n",
       "      <td>39140.0</td>\n",
       "      <td>10364.0</td>\n",
       "      <td>2.0</td>\n",
       "      <td>173.0</td>\n",
       "      <td>3.0</td>\n",
       "      <td>196.0</td>\n",
       "      <td>602.0</td>\n",
       "    </tr>\n",
       "    <tr>\n",
       "      <td>23698</td>\n",
       "      <td>4</td>\n",
       "      <td>1350000</td>\n",
       "      <td>32.30</td>\n",
       "      <td>2017-07-21T00:00:00</td>\n",
       "      <td>1</td>\n",
       "      <td>2.5</td>\n",
       "      <td>5.0</td>\n",
       "      <td>12.3</td>\n",
       "      <td>1</td>\n",
       "      <td>False</td>\n",
       "      <td>...</td>\n",
       "      <td>9.00</td>\n",
       "      <td>0.0</td>\n",
       "      <td>поселок новый учхоз</td>\n",
       "      <td>NaN</td>\n",
       "      <td>NaN</td>\n",
       "      <td>NaN</td>\n",
       "      <td>NaN</td>\n",
       "      <td>NaN</td>\n",
       "      <td>NaN</td>\n",
       "      <td>NaN</td>\n",
       "    </tr>\n",
       "  </tbody>\n",
       "</table>\n",
       "<p>23699 rows × 22 columns</p>\n",
       "</div>"
      ],
      "text/plain": [
       "       total_images  last_price  total_area first_day_exposition  rooms  \\\n",
       "0                20    13000000      108.00  2019-03-07T00:00:00      3   \n",
       "1                 7     3350000       40.40  2018-12-04T00:00:00      1   \n",
       "2                10     5196000       56.00  2015-08-20T00:00:00      2   \n",
       "3                 0    64900000      159.00  2015-07-24T00:00:00      3   \n",
       "4                 2    10000000      100.00  2018-06-19T00:00:00      2   \n",
       "...             ...         ...         ...                  ...    ...   \n",
       "23694             9     9700000      133.81  2017-03-21T00:00:00      3   \n",
       "23695            14     3100000       59.00  2018-01-15T00:00:00      3   \n",
       "23696            18     2500000       56.70  2018-02-11T00:00:00      2   \n",
       "23697            13    11475000       76.75  2017-03-28T00:00:00      2   \n",
       "23698             4     1350000       32.30  2017-07-21T00:00:00      1   \n",
       "\n",
       "       ceiling_height  floors_total  living_area  floor  is_apartment  ...  \\\n",
       "0                 2.7          16.0         51.0      8         False  ...   \n",
       "1                 2.7          11.0         18.6      1         False  ...   \n",
       "2                 2.7           5.0         34.3      4         False  ...   \n",
       "3                 2.7          14.0          NaN      9         False  ...   \n",
       "4                 3.0          14.0         32.0     13         False  ...   \n",
       "...               ...           ...          ...    ...           ...  ...   \n",
       "23694             3.0           5.0         73.3      3         False  ...   \n",
       "23695             2.7           5.0         38.0      4         False  ...   \n",
       "23696             2.7           3.0         29.7      1         False  ...   \n",
       "23697             3.0          17.0          NaN     12         False  ...   \n",
       "23698             2.5           5.0         12.3      1         False  ...   \n",
       "\n",
       "       kitchen_area  balcony        locality_name  airports_nearest  \\\n",
       "0             25.00      0.0      санкт-петербург           18863.0   \n",
       "1             11.00      2.0       посёлок шушары           12817.0   \n",
       "2              8.30      0.0      санкт-петербург           21741.0   \n",
       "3               NaN      0.0      санкт-петербург           28098.0   \n",
       "4             41.00      0.0      санкт-петербург           31856.0   \n",
       "...             ...      ...                  ...               ...   \n",
       "23694         13.83      0.0      санкт-петербург           24665.0   \n",
       "23695          8.50      0.0                тосно               NaN   \n",
       "23696           NaN      0.0     село рождествено               NaN   \n",
       "23697         23.30      2.0      санкт-петербург           39140.0   \n",
       "23698          9.00      0.0  поселок новый учхоз               NaN   \n",
       "\n",
       "      cityCenters_nearest  parks_around3000  parks_nearest  ponds_around3000  \\\n",
       "0                 16028.0               1.0          482.0               2.0   \n",
       "1                 18603.0               0.0            NaN               0.0   \n",
       "2                 13933.0               1.0           90.0               2.0   \n",
       "3                  6800.0               2.0           84.0               3.0   \n",
       "4                  8098.0               2.0          112.0               1.0   \n",
       "...                   ...               ...            ...               ...   \n",
       "23694              4232.0               1.0          796.0               3.0   \n",
       "23695                 NaN               NaN            NaN               NaN   \n",
       "23696                 NaN               NaN            NaN               NaN   \n",
       "23697             10364.0               2.0          173.0               3.0   \n",
       "23698                 NaN               NaN            NaN               NaN   \n",
       "\n",
       "       ponds_nearest  days_exposition  \n",
       "0              755.0              NaN  \n",
       "1                NaN             81.0  \n",
       "2              574.0            558.0  \n",
       "3              234.0            424.0  \n",
       "4               48.0            121.0  \n",
       "...              ...              ...  \n",
       "23694          381.0              NaN  \n",
       "23695            NaN             45.0  \n",
       "23696            NaN              NaN  \n",
       "23697          196.0            602.0  \n",
       "23698            NaN              NaN  \n",
       "\n",
       "[23699 rows x 22 columns]"
      ]
     },
     "execution_count": 128,
     "metadata": {},
     "output_type": "execute_result"
    }
   ],
   "source": [
    "df"
   ]
  },
  {
   "cell_type": "markdown",
   "metadata": {},
   "source": [
    "В процессе предобработки были изменены типы данных там где это необходимо и убраны пропуски, там где это не повлияет на результат."
   ]
  },
  {
   "cell_type": "code",
   "execution_count": 129,
   "metadata": {},
   "outputs": [
    {
     "name": "stdout",
     "output_type": "stream",
     "text": [
      "<class 'pandas.core.frame.DataFrame'>\n",
      "RangeIndex: 23699 entries, 0 to 23698\n",
      "Data columns (total 22 columns):\n",
      "total_images            23699 non-null int64\n",
      "last_price              23699 non-null int32\n",
      "total_area              23699 non-null float64\n",
      "first_day_exposition    23699 non-null object\n",
      "rooms                   23699 non-null int64\n",
      "ceiling_height          23699 non-null float64\n",
      "floors_total            23699 non-null float64\n",
      "living_area             21796 non-null float64\n",
      "floor                   23699 non-null int64\n",
      "is_apartment            23699 non-null bool\n",
      "studio                  23699 non-null bool\n",
      "open_plan               23699 non-null bool\n",
      "kitchen_area            21421 non-null float64\n",
      "balcony                 23699 non-null float64\n",
      "locality_name           23650 non-null object\n",
      "airports_nearest        18157 non-null float64\n",
      "cityCenters_nearest     18180 non-null float64\n",
      "parks_around3000        18181 non-null float64\n",
      "parks_nearest           8079 non-null float64\n",
      "ponds_around3000        18181 non-null float64\n",
      "ponds_nearest           9110 non-null float64\n",
      "days_exposition         20518 non-null float64\n",
      "dtypes: bool(3), float64(13), int32(1), int64(3), object(2)\n",
      "memory usage: 3.4+ MB\n"
     ]
    }
   ],
   "source": [
    "df.info()"
   ]
  },
  {
   "cell_type": "code",
   "execution_count": 130,
   "metadata": {},
   "outputs": [
    {
     "data": {
      "text/plain": [
       "1903"
      ]
     },
     "execution_count": 130,
     "metadata": {},
     "output_type": "execute_result"
    }
   ],
   "source": [
    "#Посчитаем количество пропусков в 'living_area'\n",
    "df['living_area'].isna().sum()"
   ]
  },
  {
   "cell_type": "code",
   "execution_count": 131,
   "metadata": {},
   "outputs": [],
   "source": [
    "#вместо пропусков подставим среднее значение в 'living_area'\n",
    "df['living_area'] = df['living_area'].fillna(df['living_area'].mean())"
   ]
  },
  {
   "cell_type": "code",
   "execution_count": 132,
   "metadata": {},
   "outputs": [
    {
     "data": {
      "text/plain": [
       "0"
      ]
     },
     "execution_count": 132,
     "metadata": {},
     "output_type": "execute_result"
    }
   ],
   "source": [
    "#проверим\n",
    "df['living_area'].isna().sum()"
   ]
  },
  {
   "cell_type": "code",
   "execution_count": 133,
   "metadata": {},
   "outputs": [
    {
     "data": {
      "text/plain": [
       "2278"
      ]
     },
     "execution_count": 133,
     "metadata": {},
     "output_type": "execute_result"
    }
   ],
   "source": [
    "#Посчитаем количество пропусков в 'kitchen_area'\n",
    "df['kitchen_area'].isna().sum()"
   ]
  },
  {
   "cell_type": "code",
   "execution_count": 134,
   "metadata": {},
   "outputs": [],
   "source": [
    "#вместо пропусков подставим среднее значение в 'kitchen_area'\n",
    "df['kitchen_area'] = df['kitchen_area'].fillna(df['kitchen_area'].mean())"
   ]
  },
  {
   "cell_type": "code",
   "execution_count": 135,
   "metadata": {},
   "outputs": [
    {
     "data": {
      "text/plain": [
       "0"
      ]
     },
     "execution_count": 135,
     "metadata": {},
     "output_type": "execute_result"
    }
   ],
   "source": [
    "#проверим\n",
    "df['kitchen_area'].isna().sum()"
   ]
  },
  {
   "cell_type": "code",
   "execution_count": 136,
   "metadata": {},
   "outputs": [
    {
     "data": {
      "text/plain": [
       "3181"
      ]
     },
     "execution_count": 136,
     "metadata": {},
     "output_type": "execute_result"
    }
   ],
   "source": [
    "#считаем пропуски в 'days_exposition'\n",
    "df['days_exposition'].isna().sum()"
   ]
  },
  {
   "cell_type": "code",
   "execution_count": 137,
   "metadata": {},
   "outputs": [],
   "source": [
    "#меняем тип данных в 'days_exposition', попутно заполняя пропуски средним значением\n",
    "df['days_exposition'] = df['days_exposition'].fillna(df['days_exposition'].mean())"
   ]
  },
  {
   "cell_type": "code",
   "execution_count": 138,
   "metadata": {},
   "outputs": [
    {
     "data": {
      "text/plain": [
       "0"
      ]
     },
     "execution_count": 138,
     "metadata": {},
     "output_type": "execute_result"
    }
   ],
   "source": [
    "#проверим\n",
    "df['days_exposition'].isna().sum()"
   ]
  },
  {
   "cell_type": "code",
   "execution_count": 139,
   "metadata": {},
   "outputs": [],
   "source": [
    "#меняем тип данных в 'days_exposition'\n",
    "df['days_exposition'] = df['days_exposition'].astype(int)"
   ]
  },
  {
   "cell_type": "code",
   "execution_count": 140,
   "metadata": {},
   "outputs": [],
   "source": [
    "#меняем тип данных в 'balcony'\n",
    "df['balcony'] = df['balcony'].astype(int)"
   ]
  },
  {
   "cell_type": "code",
   "execution_count": 141,
   "metadata": {},
   "outputs": [],
   "source": [
    "#меняем тип данных в 'floors_total'\n",
    "df['floors_total'] = df['floors_total'].astype(int)"
   ]
  },
  {
   "cell_type": "code",
   "execution_count": 142,
   "metadata": {},
   "outputs": [
    {
     "data": {
      "text/plain": [
       "array(['санкт-петербург', 'посёлок шушары', 'городской посёлок янино-1',\n",
       "       'посёлок парголово', 'посёлок мурино', 'ломоносов', 'сертолово',\n",
       "       'петергоф', 'пушкин', 'деревня кудрово', 'коммунар', 'колпино',\n",
       "       'поселок городского типа красный бор', 'гатчина', 'поселок мурино',\n",
       "       'деревня фёдоровское', 'выборг', 'кронштадт', 'кировск',\n",
       "       'деревня новое девяткино', 'посёлок металлострой',\n",
       "       'посёлок городского типа лебяжье',\n",
       "       'посёлок городского типа сиверский', 'поселок молодцово',\n",
       "       'поселок городского типа кузьмоловский',\n",
       "       'садовое товарищество новая ропша', 'павловск',\n",
       "       'деревня пикколово', 'всеволожск', 'волхов', 'кингисепп',\n",
       "       'приозерск', 'сестрорецк', 'деревня куттузи', 'посёлок аннино',\n",
       "       'поселок городского типа ефимовский', 'посёлок плодовое',\n",
       "       'деревня заклинье', 'поселок торковичи', 'поселок первомайское',\n",
       "       'красное село', 'посёлок понтонный', 'сясьстрой', 'деревня старая',\n",
       "       'деревня лесколово', 'посёлок новый свет', 'сланцы',\n",
       "       'село путилово', 'ивангород', 'мурино', 'шлиссельбург',\n",
       "       'никольское', 'зеленогорск', 'сосновый бор', 'поселок новый свет',\n",
       "       'деревня оржицы', 'деревня кальтино', 'кудрово',\n",
       "       'поселок романовка', 'посёлок бугры', 'поселок бугры',\n",
       "       'поселок городского типа рощино', 'кириши', 'луга', 'волосово',\n",
       "       'отрадное', 'село павлово', 'поселок оредеж', 'село копорье',\n",
       "       'посёлок городского типа красный бор', 'посёлок молодёжное',\n",
       "       'тихвин', 'посёлок победа', 'деревня нурма',\n",
       "       'поселок городского типа синявино', 'тосно',\n",
       "       'посёлок городского типа кузьмоловский', 'посёлок стрельна',\n",
       "       'бокситогорск', 'посёлок александровская', 'деревня лопухинка',\n",
       "       'пикалёво', 'поселок терволово',\n",
       "       'поселок городского типа советский', 'подпорожье',\n",
       "       'посёлок петровское', 'посёлок городского типа токсово',\n",
       "       'поселок сельцо', 'посёлок городского типа вырица',\n",
       "       'деревня кипень', 'деревня келози', 'деревня вартемяги',\n",
       "       'посёлок тельмана', 'поселок севастьяново',\n",
       "       'городской поселок большая ижора', nan,\n",
       "       'городской посёлок павлово', 'деревня агалатово',\n",
       "       'посёлок новогорелово', 'городской посёлок лесогорский',\n",
       "       'деревня лаголово', 'поселок цвелодубово',\n",
       "       'поселок городского типа рахья', 'поселок городского типа вырица',\n",
       "       'деревня белогорка', 'поселок заводской',\n",
       "       'городской посёлок новоселье', 'деревня большие колпаны',\n",
       "       'деревня горбунки', 'деревня батово', 'деревня заневка',\n",
       "       'деревня иссад', 'приморск', 'городской посёлок фёдоровское',\n",
       "       'деревня мистолово', 'новая ладога', 'поселок зимитицы',\n",
       "       'поселок барышево', 'деревня разметелево',\n",
       "       'поселок городского типа имени свердлова', 'деревня пеники',\n",
       "       'поселок рябово', 'деревня пудомяги', 'поселок станции корнево',\n",
       "       'деревня низино', 'деревня бегуницы', 'посёлок поляны',\n",
       "       'городской посёлок мга', 'поселок елизаветино',\n",
       "       'посёлок городского типа кузнечное', 'деревня колтуши',\n",
       "       'поселок запорожское', 'посёлок городского типа рощино',\n",
       "       'деревня гостилицы', 'деревня малое карлино',\n",
       "       'посёлок мичуринское', 'посёлок городского типа имени морозова',\n",
       "       'посёлок песочный', 'посёлок сосново', 'деревня аро',\n",
       "       'поселок ильичёво', 'посёлок городского типа тайцы',\n",
       "       'деревня малое верево', 'деревня извара', 'поселок станции вещево',\n",
       "       'село паша', 'деревня калитино',\n",
       "       'посёлок городского типа ульяновка', 'деревня чудской бор',\n",
       "       'поселок городского типа дубровка', 'деревня мины',\n",
       "       'поселок войсковицы', 'посёлок городского типа имени свердлова',\n",
       "       'деревня коркино', 'посёлок ропша',\n",
       "       'поселок городского типа приладожский', 'посёлок щеглово',\n",
       "       'посёлок гаврилово', 'лодейное поле', 'деревня рабитицы',\n",
       "       'поселок городского типа никольский', 'деревня кузьмолово',\n",
       "       'деревня малые колпаны', 'поселок тельмана',\n",
       "       'посёлок петро-славянка', 'городской посёлок назия',\n",
       "       'посёлок репино', 'посёлок ильичёво', 'поселок углово',\n",
       "       'поселок старая малукса', 'садовое товарищество рахья',\n",
       "       'поселок аннино', 'поселок победа', 'деревня меньково',\n",
       "       'деревня старые бегуницы', 'посёлок сапёрный', 'поселок семрино',\n",
       "       'поселок гаврилово', 'поселок глажево', 'поселок кобринское',\n",
       "       'деревня гарболово', 'деревня юкки',\n",
       "       'поселок станции приветнинское', 'деревня мануйлово',\n",
       "       'деревня пчева', 'поселок поляны', 'поселок цвылёво',\n",
       "       'поселок мельниково', 'посёлок пудость', 'посёлок усть-луга',\n",
       "       'светогорск', 'любань', 'поселок селезнёво',\n",
       "       'поселок городского типа рябово', 'каменногорск', 'деревня кривко',\n",
       "       'поселок глебычево', 'деревня парицы', 'поселок жилпосёлок',\n",
       "       'посёлок городского типа мга', 'городской поселок янино-1',\n",
       "       'посёлок войскорово', 'село никольское', 'посёлок терволово',\n",
       "       'поселок стеклянный', 'посёлок городского типа важины',\n",
       "       'посёлок мыза-ивановка', 'село русско-высоцкое',\n",
       "       'поселок городского типа лебяжье',\n",
       "       'поселок городского типа форносово', 'село старая ладога',\n",
       "       'поселок житково', 'городской посёлок виллози', 'деревня лампово',\n",
       "       'деревня шпаньково', 'деревня лаврики', 'посёлок сумино',\n",
       "       'посёлок возрождение', 'деревня старосиверская',\n",
       "       'посёлок кикерино', 'поселок возрождение',\n",
       "       'деревня старое хинколово', 'посёлок пригородный',\n",
       "       'посёлок торфяное', 'городской посёлок будогощь',\n",
       "       'поселок суходолье', 'поселок красная долина', 'деревня хапо-ое',\n",
       "       'поселок городского типа дружная горка', 'поселок лисий нос',\n",
       "       'деревня яльгелево', 'посёлок стеклянный', 'село рождествено',\n",
       "       'деревня старополье', 'посёлок левашово', 'деревня сяськелево',\n",
       "       'деревня камышовка',\n",
       "       'садоводческое некоммерческое товарищество лесная поляна',\n",
       "       'деревня хязельки', 'поселок жилгородок',\n",
       "       'посёлок городского типа павлово', 'деревня ялгино',\n",
       "       'поселок новый учхоз', 'городской посёлок рощино',\n",
       "       'поселок гончарово', 'поселок почап', 'посёлок сапёрное',\n",
       "       'посёлок платформа 69-й километр', 'поселок каложицы',\n",
       "       'деревня фалилеево', 'деревня пельгора',\n",
       "       'поселок городского типа лесогорский', 'деревня торошковичи',\n",
       "       'посёлок белоостров', 'посёлок алексеевка', 'поселок серебрянский',\n",
       "       'поселок лукаши', 'поселок петровское', 'деревня щеглово',\n",
       "       'поселок мичуринское', 'деревня тарасово', 'поселок кингисеппский',\n",
       "       'посёлок при железнодорожной станции вещево', 'поселок ушаки',\n",
       "       'деревня котлы', 'деревня сижно', 'деревня торосово',\n",
       "       'посёлок форт красная горка', 'поселок городского типа токсово',\n",
       "       'деревня новолисино', 'посёлок станции громово', 'деревня глинка',\n",
       "       'посёлок мельниково', 'поселок городского типа назия',\n",
       "       'деревня старая пустошь', 'поселок коммунары', 'поселок починок',\n",
       "       'посёлок городского типа вознесенье', 'деревня разбегаево',\n",
       "       'посёлок городского типа рябово', 'поселок гладкое',\n",
       "       'посёлок при железнодорожной станции приветнинское',\n",
       "       'поселок тёсово-4', 'посёлок жилгородок', 'деревня бор',\n",
       "       'посёлок коробицыно', 'деревня большая вруда', 'деревня курковицы',\n",
       "       'посёлок лисий нос', 'городской посёлок советский',\n",
       "       'посёлок кобралово', 'деревня суоранда', 'поселок кобралово',\n",
       "       'поселок городского типа кондратьево',\n",
       "       'коттеджный поселок счастье', 'поселок любань', 'деревня реброво',\n",
       "       'деревня зимитицы', 'деревня тойворово', 'поселок семиозерье',\n",
       "       'поселок лесное', 'поселок совхозный', 'поселок усть-луга',\n",
       "       'посёлок ленинское', 'посёлок суйда',\n",
       "       'посёлок городского типа форносово', 'деревня нижние осельки',\n",
       "       'посёлок станции свирь', 'поселок перово', 'высоцк',\n",
       "       'поселок гарболово', 'село шум', 'поселок котельский',\n",
       "       'поселок станции лужайка', 'деревня большая пустомержа',\n",
       "       'поселок красносельское', 'деревня вахнова кара', 'деревня пижма',\n",
       "       'коттеджный поселок кивеннапа север', 'поселок коробицыно',\n",
       "       'поселок ромашки', 'посёлок перово', 'деревня каськово',\n",
       "       'деревня куровицы', 'посёлок плоское', 'поселок сумино',\n",
       "       'поселок городского типа большая ижора', 'поселок кирпичное',\n",
       "       'деревня ям-тесово', 'деревня раздолье', 'деревня терпилицы',\n",
       "       'посёлок шугозеро', 'деревня ваганово', 'поселок пушное',\n",
       "       'садовое товарищество садко', 'посёлок усть-ижора',\n",
       "       'деревня выскатка', 'городской посёлок свирьстрой',\n",
       "       'поселок громово', 'деревня кисельня', 'посёлок старая малукса',\n",
       "       'деревня трубников бор', 'поселок калитино',\n",
       "       'посёлок высокоключевой', 'садовое товарищество приладожский',\n",
       "       'посёлок пансионат зелёный бор', 'деревня ненимяки',\n",
       "       'поселок пансионат зелёный бор', 'деревня снегирёвка',\n",
       "       'деревня рапполово', 'деревня пустынка', 'поселок рабитицы',\n",
       "       'деревня большой сабск', 'деревня русско', 'деревня лупполово',\n",
       "       'деревня большое рейзино', 'деревня малая романовка',\n",
       "       'поселок дружноселье', 'поселок пчевжа', 'поселок володарское',\n",
       "       'деревня нижняя', 'коттеджный посёлок лесное', 'деревня тихковицы',\n",
       "       'деревня борисова грива', 'посёлок дзержинского'], dtype=object)"
      ]
     },
     "execution_count": 142,
     "metadata": {},
     "output_type": "execute_result"
    }
   ],
   "source": [
    "df['locality_name'].unique()"
   ]
  },
  {
   "cell_type": "code",
   "execution_count": 143,
   "metadata": {},
   "outputs": [
    {
     "name": "stdout",
     "output_type": "stream",
     "text": [
      "Кол-во строк где произведена замена = 2146\n"
     ]
    }
   ],
   "source": [
    "#меняем ё на е\n",
    "import re\n",
    "i = 0 #счетчик строк где Ё и ё\n",
    "for index in df.loc[(df['locality_name'].isna()==False),'locality_name'].index:    \n",
    "    loc_str = df.loc[index, 'locality_name']\n",
    "    if 'ё' in loc_str:\n",
    "        i+=1\n",
    "        loc_str = re.sub('ё', 'е', loc_str)\n",
    "    df.loc[index, 'locality_name'] = loc_str\n",
    "print(\"Кол-во строк где произведена замена =\", i)"
   ]
  },
  {
   "cell_type": "code",
   "execution_count": 144,
   "metadata": {},
   "outputs": [
    {
     "data": {
      "text/plain": [
       "array(['санкт-петербург', 'поселок шушары', 'городской поселок янино-1',\n",
       "       'поселок парголово', 'поселок мурино', 'ломоносов', 'сертолово',\n",
       "       'петергоф', 'пушкин', 'деревня кудрово', 'коммунар', 'колпино',\n",
       "       'поселок городского типа красный бор', 'гатчина',\n",
       "       'деревня федоровское', 'выборг', 'кронштадт', 'кировск',\n",
       "       'деревня новое девяткино', 'поселок металлострой',\n",
       "       'поселок городского типа лебяжье',\n",
       "       'поселок городского типа сиверский', 'поселок молодцово',\n",
       "       'поселок городского типа кузьмоловский',\n",
       "       'садовое товарищество новая ропша', 'павловск',\n",
       "       'деревня пикколово', 'всеволожск', 'волхов', 'кингисепп',\n",
       "       'приозерск', 'сестрорецк', 'деревня куттузи', 'поселок аннино',\n",
       "       'поселок городского типа ефимовский', 'поселок плодовое',\n",
       "       'деревня заклинье', 'поселок торковичи', 'поселок первомайское',\n",
       "       'красное село', 'поселок понтонный', 'сясьстрой', 'деревня старая',\n",
       "       'деревня лесколово', 'поселок новый свет', 'сланцы',\n",
       "       'село путилово', 'ивангород', 'мурино', 'шлиссельбург',\n",
       "       'никольское', 'зеленогорск', 'сосновый бор', 'деревня оржицы',\n",
       "       'деревня кальтино', 'кудрово', 'поселок романовка',\n",
       "       'поселок бугры', 'поселок городского типа рощино', 'кириши',\n",
       "       'луга', 'волосово', 'отрадное', 'село павлово', 'поселок оредеж',\n",
       "       'село копорье', 'поселок молодежное', 'тихвин', 'поселок победа',\n",
       "       'деревня нурма', 'поселок городского типа синявино', 'тосно',\n",
       "       'поселок стрельна', 'бокситогорск', 'поселок александровская',\n",
       "       'деревня лопухинка', 'пикалево', 'поселок терволово',\n",
       "       'поселок городского типа советский', 'подпорожье',\n",
       "       'поселок петровское', 'поселок городского типа токсово',\n",
       "       'поселок сельцо', 'поселок городского типа вырица',\n",
       "       'деревня кипень', 'деревня келози', 'деревня вартемяги',\n",
       "       'поселок тельмана', 'поселок севастьяново',\n",
       "       'городской поселок большая ижора', nan,\n",
       "       'городской поселок павлово', 'деревня агалатово',\n",
       "       'поселок новогорелово', 'городской поселок лесогорский',\n",
       "       'деревня лаголово', 'поселок цвелодубово',\n",
       "       'поселок городского типа рахья', 'деревня белогорка',\n",
       "       'поселок заводской', 'городской поселок новоселье',\n",
       "       'деревня большие колпаны', 'деревня горбунки', 'деревня батово',\n",
       "       'деревня заневка', 'деревня иссад', 'приморск',\n",
       "       'городской поселок федоровское', 'деревня мистолово',\n",
       "       'новая ладога', 'поселок зимитицы', 'поселок барышево',\n",
       "       'деревня разметелево', 'поселок городского типа имени свердлова',\n",
       "       'деревня пеники', 'поселок рябово', 'деревня пудомяги',\n",
       "       'поселок станции корнево', 'деревня низино', 'деревня бегуницы',\n",
       "       'поселок поляны', 'городской поселок мга', 'поселок елизаветино',\n",
       "       'поселок городского типа кузнечное', 'деревня колтуши',\n",
       "       'поселок запорожское', 'деревня гостилицы',\n",
       "       'деревня малое карлино', 'поселок мичуринское',\n",
       "       'поселок городского типа имени морозова', 'поселок песочный',\n",
       "       'поселок сосново', 'деревня аро', 'поселок ильичево',\n",
       "       'поселок городского типа тайцы', 'деревня малое верево',\n",
       "       'деревня извара', 'поселок станции вещево', 'село паша',\n",
       "       'деревня калитино', 'поселок городского типа ульяновка',\n",
       "       'деревня чудской бор', 'поселок городского типа дубровка',\n",
       "       'деревня мины', 'поселок войсковицы', 'деревня коркино',\n",
       "       'поселок ропша', 'поселок городского типа приладожский',\n",
       "       'поселок щеглово', 'поселок гаврилово', 'лодейное поле',\n",
       "       'деревня рабитицы', 'поселок городского типа никольский',\n",
       "       'деревня кузьмолово', 'деревня малые колпаны',\n",
       "       'поселок петро-славянка', 'городской поселок назия',\n",
       "       'поселок репино', 'поселок углово', 'поселок старая малукса',\n",
       "       'садовое товарищество рахья', 'деревня меньково',\n",
       "       'деревня старые бегуницы', 'поселок саперный', 'поселок семрино',\n",
       "       'поселок глажево', 'поселок кобринское', 'деревня гарболово',\n",
       "       'деревня юкки', 'поселок станции приветнинское',\n",
       "       'деревня мануйлово', 'деревня пчева', 'поселок цвылево',\n",
       "       'поселок мельниково', 'поселок пудость', 'поселок усть-луга',\n",
       "       'светогорск', 'любань', 'поселок селезнево',\n",
       "       'поселок городского типа рябово', 'каменногорск', 'деревня кривко',\n",
       "       'поселок глебычево', 'деревня парицы', 'поселок жилпоселок',\n",
       "       'поселок городского типа мга', 'поселок войскорово',\n",
       "       'село никольское', 'поселок стеклянный',\n",
       "       'поселок городского типа важины', 'поселок мыза-ивановка',\n",
       "       'село русско-высоцкое', 'поселок городского типа форносово',\n",
       "       'село старая ладога', 'поселок житково',\n",
       "       'городской поселок виллози', 'деревня лампово',\n",
       "       'деревня шпаньково', 'деревня лаврики', 'поселок сумино',\n",
       "       'поселок возрождение', 'деревня старосиверская',\n",
       "       'поселок кикерино', 'деревня старое хинколово',\n",
       "       'поселок пригородный', 'поселок торфяное',\n",
       "       'городской поселок будогощь', 'поселок суходолье',\n",
       "       'поселок красная долина', 'деревня хапо-ое',\n",
       "       'поселок городского типа дружная горка', 'поселок лисий нос',\n",
       "       'деревня яльгелево', 'село рождествено', 'деревня старополье',\n",
       "       'поселок левашово', 'деревня сяськелево', 'деревня камышовка',\n",
       "       'садоводческое некоммерческое товарищество лесная поляна',\n",
       "       'деревня хязельки', 'поселок жилгородок',\n",
       "       'поселок городского типа павлово', 'деревня ялгино',\n",
       "       'поселок новый учхоз', 'городской поселок рощино',\n",
       "       'поселок гончарово', 'поселок почап', 'поселок саперное',\n",
       "       'поселок платформа 69-й километр', 'поселок каложицы',\n",
       "       'деревня фалилеево', 'деревня пельгора',\n",
       "       'поселок городского типа лесогорский', 'деревня торошковичи',\n",
       "       'поселок белоостров', 'поселок алексеевка', 'поселок серебрянский',\n",
       "       'поселок лукаши', 'деревня щеглово', 'деревня тарасово',\n",
       "       'поселок кингисеппский',\n",
       "       'поселок при железнодорожной станции вещево', 'поселок ушаки',\n",
       "       'деревня котлы', 'деревня сижно', 'деревня торосово',\n",
       "       'поселок форт красная горка', 'деревня новолисино',\n",
       "       'поселок станции громово', 'деревня глинка',\n",
       "       'поселок городского типа назия', 'деревня старая пустошь',\n",
       "       'поселок коммунары', 'поселок починок',\n",
       "       'поселок городского типа вознесенье', 'деревня разбегаево',\n",
       "       'поселок гладкое',\n",
       "       'поселок при железнодорожной станции приветнинское',\n",
       "       'поселок тесово-4', 'деревня бор', 'поселок коробицыно',\n",
       "       'деревня большая вруда', 'деревня курковицы',\n",
       "       'городской поселок советский', 'поселок кобралово',\n",
       "       'деревня суоранда', 'поселок городского типа кондратьево',\n",
       "       'коттеджный поселок счастье', 'поселок любань', 'деревня реброво',\n",
       "       'деревня зимитицы', 'деревня тойворово', 'поселок семиозерье',\n",
       "       'поселок лесное', 'поселок совхозный', 'поселок ленинское',\n",
       "       'поселок суйда', 'деревня нижние осельки', 'поселок станции свирь',\n",
       "       'поселок перово', 'высоцк', 'поселок гарболово', 'село шум',\n",
       "       'поселок котельский', 'поселок станции лужайка',\n",
       "       'деревня большая пустомержа', 'поселок красносельское',\n",
       "       'деревня вахнова кара', 'деревня пижма',\n",
       "       'коттеджный поселок кивеннапа север', 'поселок ромашки',\n",
       "       'деревня каськово', 'деревня куровицы', 'поселок плоское',\n",
       "       'поселок городского типа большая ижора', 'поселок кирпичное',\n",
       "       'деревня ям-тесово', 'деревня раздолье', 'деревня терпилицы',\n",
       "       'поселок шугозеро', 'деревня ваганово', 'поселок пушное',\n",
       "       'садовое товарищество садко', 'поселок усть-ижора',\n",
       "       'деревня выскатка', 'городской поселок свирьстрой',\n",
       "       'поселок громово', 'деревня кисельня', 'деревня трубников бор',\n",
       "       'поселок калитино', 'поселок высокоключевой',\n",
       "       'садовое товарищество приладожский',\n",
       "       'поселок пансионат зеленый бор', 'деревня ненимяки',\n",
       "       'деревня снегиревка', 'деревня рапполово', 'деревня пустынка',\n",
       "       'поселок рабитицы', 'деревня большой сабск', 'деревня русско',\n",
       "       'деревня лупполово', 'деревня большое рейзино',\n",
       "       'деревня малая романовка', 'поселок дружноселье', 'поселок пчевжа',\n",
       "       'поселок володарское', 'деревня нижняя',\n",
       "       'коттеджный поселок лесное', 'деревня тихковицы',\n",
       "       'деревня борисова грива', 'поселок дзержинского'], dtype=object)"
      ]
     },
     "execution_count": 144,
     "metadata": {},
     "output_type": "execute_result"
    }
   ],
   "source": [
    "#смотрим уникальные значения\n",
    "df['locality_name'].unique()"
   ]
  },
  {
   "cell_type": "code",
   "execution_count": 145,
   "metadata": {},
   "outputs": [],
   "source": [
    "#удаляем типы населенных пунктов, оставляя их имена\n",
    "df['locality_name'] = df['locality_name'].astype('str')\n",
    "for name in ['поселок', 'деревня', 'село', 'садовое', 'товарищество', 'станции', 'городского типа', \n",
    "             'садоводческое некоммерческое', 'при железнодорожной', 'коттеджный', 'городской', 'пансионат']:\n",
    "    df['locality_name'] = df['locality_name'].str.replace(name,'')"
   ]
  },
  {
   "cell_type": "code",
   "execution_count": 146,
   "metadata": {},
   "outputs": [
    {
     "data": {
      "text/plain": [
       "array(['санкт-петербург', ' шушары', '  янино-1', ' парголово', ' мурино',\n",
       "       'ломоносов', 'сертолово', 'петергоф', 'пушкин', ' кудрово',\n",
       "       'коммунар', 'колпино', '  красный бор', 'гатчина', ' федоровское',\n",
       "       'выборг', 'кронштадт', 'кировск', ' новое девяткино',\n",
       "       ' металлострой', '  лебяжье', '  сиверский', ' молодцово',\n",
       "       '  кузьмоловский', '  новая ропша', 'павловск', ' пикколово',\n",
       "       'всеволожск', 'волхов', 'кингисепп', 'приозерск', 'сестрорецк',\n",
       "       ' куттузи', ' аннино', '  ефимовский', ' плодовое', ' заклинье',\n",
       "       ' торковичи', ' первомайское', 'красное ', ' понтонный',\n",
       "       'сясьстрой', ' старая', ' лесколово', ' новый свет', 'сланцы',\n",
       "       ' путилово', 'ивангород', 'мурино', 'шлиссельбург', 'никольское',\n",
       "       'зеленогорск', 'сосновый бор', ' оржицы', ' кальтино', 'кудрово',\n",
       "       ' романовка', ' бугры', '  рощино', 'кириши', 'луга', 'волосово',\n",
       "       'отрадное', ' павлово', ' оредеж', ' копорье', ' молодежное',\n",
       "       'тихвин', ' победа', ' нурма', '  синявино', 'тосно', ' стрельна',\n",
       "       'бокситогорск', ' александровская', ' лопухинка', 'пикалево',\n",
       "       ' терволово', '  советский', 'подпорожье', ' петровское',\n",
       "       '  токсово', ' сельцо', '  вырица', ' кипень', ' келози',\n",
       "       ' вартемяги', ' тельмана', ' севастьяново', '  большая ижора',\n",
       "       'nan', '  павлово', ' агалатово', ' новогорелово', '  лесогорский',\n",
       "       ' лаголово', ' цвелодубово', '  рахья', ' белогорка', ' заводской',\n",
       "       '  новоселье', ' большие колпаны', ' горбунки', ' батово',\n",
       "       ' заневка', ' иссад', 'приморск', '  федоровское', ' мистолово',\n",
       "       'новая ладога', ' зимитицы', ' барышево', ' разметелево',\n",
       "       '  имени свердлова', ' пеники', ' рябово', ' пудомяги',\n",
       "       '  корнево', ' низино', ' бегуницы', ' поляны', '  мга',\n",
       "       ' елизаветино', '  кузнечное', ' колтуши', ' запорожское',\n",
       "       ' гостилицы', ' малое карлино', ' мичуринское', '  имени морозова',\n",
       "       ' песочный', ' сосново', ' аро', ' ильичево', '  тайцы',\n",
       "       ' малое верево', ' извара', '  вещево', ' паша', ' калитино',\n",
       "       '  ульяновка', ' чудской бор', '  дубровка', ' мины',\n",
       "       ' войсковицы', ' коркино', ' ропша', '  приладожский', ' щеглово',\n",
       "       ' гаврилово', 'лодейное поле', ' рабитицы', '  никольский',\n",
       "       ' кузьмолово', ' малые колпаны', ' петро-славянка', '  назия',\n",
       "       ' репино', ' углово', ' старая малукса', ' меньково',\n",
       "       ' старые бегуницы', ' саперный', ' семрино', ' глажево',\n",
       "       ' кобринское', ' гарболово', ' юкки', '  приветнинское',\n",
       "       ' мануйлово', ' пчева', ' цвылево', ' мельниково', ' пудость',\n",
       "       ' усть-луга', 'светогорск', 'любань', ' селезнево', '  рябово',\n",
       "       'каменногорск', ' кривко', ' глебычево', ' парицы', ' жил',\n",
       "       ' войскорово', ' никольское', ' стеклянный', '  важины',\n",
       "       ' мыза-ивановка', ' русско-высоцкое', '  форносово',\n",
       "       ' старая ладога', ' житково', '  виллози', ' лампово',\n",
       "       ' шпаньково', ' лаврики', ' сумино', ' возрождение',\n",
       "       ' старосиверская', ' кикерино', ' старое хинколово',\n",
       "       ' пригородный', ' торфяное', '  будогощь', ' суходолье',\n",
       "       ' красная долина', ' хапо-ое', '  дружная горка', ' лисий нос',\n",
       "       ' яльгелево', ' рождествено', ' старополье', ' левашово',\n",
       "       ' сяськелево', ' камышовка', '  лесная поляна', ' хязельки',\n",
       "       ' жилгородок', ' ялгино', ' новый учхоз', ' гончарово', ' почап',\n",
       "       ' саперное', ' платформа 69-й километр', ' каложицы', ' фалилеево',\n",
       "       ' пельгора', ' торошковичи', ' белоостров', ' алексеевка',\n",
       "       ' серебрянский', ' лукаши', ' тарасово', ' кингисеппский',\n",
       "       '   вещево', ' ушаки', ' котлы', ' сижно', ' торосово',\n",
       "       ' форт красная горка', ' новолисино', '  громово', ' глинка',\n",
       "       ' старая пустошь', ' коммунары', ' починок', '  вознесенье',\n",
       "       ' разбегаево', ' гладкое', '   приветнинское', ' тесово-4', ' бор',\n",
       "       ' коробицыно', ' большая вруда', ' курковицы', ' кобралово',\n",
       "       ' суоранда', '  кондратьево', '  счастье', ' любань', ' реброво',\n",
       "       ' тойворово', ' семиозерье', ' лесное', ' совхозный', ' ленинское',\n",
       "       ' суйда', ' нижние осельки', '  свирь', ' перово', 'высоцк',\n",
       "       ' шум', ' котельский', '  лужайка', ' большая пустомержа',\n",
       "       ' красносельское', ' вахнова кара', ' пижма', '  кивеннапа север',\n",
       "       ' ромашки', ' каськово', ' куровицы', ' плоское', ' кирпичное',\n",
       "       ' ям-тесово', ' раздолье', ' терпилицы', ' шугозеро', ' ваганово',\n",
       "       ' пушное', '  садко', ' усть-ижора', ' выскатка', '  свирьстрой',\n",
       "       ' громово', ' кисельня', ' трубников бор', ' высокоключевой',\n",
       "       '  зеленый бор', ' ненимяки', ' снегиревка', ' рапполово',\n",
       "       ' пустынка', ' большой сабск', ' русско', ' лупполово',\n",
       "       ' большое рейзино', ' малая романовка', ' дружноселье', ' пчевжа',\n",
       "       ' володарское', ' нижняя', '  лесное', ' тихковицы',\n",
       "       ' борисова грива', ' дзержинского'], dtype=object)"
      ]
     },
     "execution_count": 146,
     "metadata": {},
     "output_type": "execute_result"
    }
   ],
   "source": [
    "#проверяем\n",
    "df['locality_name'].unique()"
   ]
  },
  {
   "cell_type": "code",
   "execution_count": 147,
   "metadata": {},
   "outputs": [
    {
     "data": {
      "text/plain": [
       "0"
      ]
     },
     "execution_count": 147,
     "metadata": {},
     "output_type": "execute_result"
    }
   ],
   "source": [
    "#дубликатов нет\n",
    "df.duplicated().sum()"
   ]
  },
  {
   "cell_type": "markdown",
   "metadata": {},
   "source": [
    "## Расчёты и добавление результатов в таблицу"
   ]
  },
  {
   "cell_type": "markdown",
   "metadata": {},
   "source": [
    "**Цена квадратного метра**"
   ]
  },
  {
   "cell_type": "code",
   "execution_count": 148,
   "metadata": {},
   "outputs": [
    {
     "data": {
      "text/plain": [
       "0    120370.370370\n",
       "1     82920.792079\n",
       "2     92785.714286\n",
       "3    408176.100629\n",
       "4    100000.000000\n",
       "Name: price_m2, dtype: float64"
      ]
     },
     "execution_count": 148,
     "metadata": {},
     "output_type": "execute_result"
    }
   ],
   "source": [
    "#найдем цену квадратного метра и добавим значения в таблицу\n",
    "df['price_m2'] = df['last_price']/df['total_area']\n",
    "df['price_m2'].head()"
   ]
  },
  {
   "cell_type": "code",
   "execution_count": 149,
   "metadata": {},
   "outputs": [
    {
     "data": {
      "text/plain": [
       "<matplotlib.axes._subplots.AxesSubplot at 0x7f1cbb453c90>"
      ]
     },
     "execution_count": 149,
     "metadata": {},
     "output_type": "execute_result"
    },
    {
     "data": {
      "image/png": "[encoded data removed]",
      "text/plain": [
       "<Figure size 432x288 with 1 Axes>"
      ]
     },
     "metadata": {
      "needs_background": "light"
     },
     "output_type": "display_data"
    }
   ],
   "source": [
    "df['price_m2'].hist(bins=50)"
   ]
  },
  {
   "cell_type": "markdown",
   "metadata": {},
   "source": [
    "**День недели, месяц и год публикации объявления**"
   ]
  },
  {
   "cell_type": "code",
   "execution_count": 150,
   "metadata": {},
   "outputs": [],
   "source": [
    "#добавим столбцы дня недели, месяца и года публикации объявления\n",
    "df['weekday'] = pd.DatetimeIndex(df['first_day_exposition']).weekday\n",
    "df['month'] = pd.DatetimeIndex(df['first_day_exposition']).month\n",
    "df['year'] = pd.DatetimeIndex(df['first_day_exposition']).year"
   ]
  },
  {
   "cell_type": "code",
   "execution_count": 151,
   "metadata": {},
   "outputs": [
    {
     "data": {
      "text/plain": [
       "23694   2017-03-21\n",
       "23695   2018-01-15\n",
       "23696   2018-02-11\n",
       "23697   2017-03-28\n",
       "23698   2017-07-21\n",
       "Name: first_day_exposition, dtype: datetime64[ns]"
      ]
     },
     "execution_count": 151,
     "metadata": {},
     "output_type": "execute_result"
    }
   ],
   "source": [
    "#Уберем часы минуты секунды из стоблца 'first_day_exposition'\n",
    "df['first_day_exposition'] = pd.to_datetime(df['first_day_exposition'],format='%Y-%m-%d')\n",
    "# и проверим\n",
    "df['first_day_exposition'].tail()"
   ]
  },
  {
   "cell_type": "markdown",
   "metadata": {},
   "source": [
    "**Этаж квартиры; варианты — первый, последний, другой**"
   ]
  },
  {
   "cell_type": "code",
   "execution_count": 152,
   "metadata": {},
   "outputs": [],
   "source": [
    "#пропишем этажность квартиры с помощью функции\n",
    "def floor_function(row):\n",
    "    if row['floor'] == 1:\n",
    "        return 'первый'\n",
    "    elif row['floor'] == row['floors_total']:\n",
    "        return 'последний'\n",
    "    return 'другой'\n",
    "\n",
    "#берём значения датафрейма и применяем к ним функцию со своим аргументом   \n",
    "df['floor_position'] = df.apply(floor_function, axis = 1)"
   ]
  },
  {
   "cell_type": "code",
   "execution_count": 153,
   "metadata": {},
   "outputs": [
    {
     "data": {
      "text/plain": [
       "<matplotlib.axes._subplots.AxesSubplot at 0x7f1cb92a6dd0>"
      ]
     },
     "execution_count": 153,
     "metadata": {},
     "output_type": "execute_result"
    },
    {
     "data": {
      "image/png": "[encoded data removed]",
      "text/plain": [
       "<Figure size 432x288 with 1 Axes>"
      ]
     },
     "metadata": {
      "needs_background": "light"
     },
     "output_type": "display_data"
    }
   ],
   "source": [
    "#строим диаграмму распределения этажности\n",
    "df['floor_position'].value_counts().plot(kind='bar')"
   ]
  },
  {
   "cell_type": "markdown",
   "metadata": {},
   "source": [
    "**Cоотношение жилой и общей площади, а также отношение площади кухни к общей**"
   ]
  },
  {
   "cell_type": "code",
   "execution_count": 154,
   "metadata": {},
   "outputs": [],
   "source": [
    "#найдем отношение жилой площади к общей \n",
    "df['ratio_living_total'] = df['living_area'] / df['total_area']\n",
    "#найдем отношение площади кухни к общей площади\n",
    "df['ratio_kitchen_total'] = df['kitchen_area'] / df['total_area']"
   ]
  },
  {
   "cell_type": "code",
   "execution_count": 155,
   "metadata": {},
   "outputs": [
    {
     "data": {
      "text/plain": [
       "<matplotlib.axes._subplots.AxesSubplot at 0x7f1cb870d050>"
      ]
     },
     "execution_count": 155,
     "metadata": {},
     "output_type": "execute_result"
    },
    {
     "data": {
      "image/png": "[encoded data removed]",
      "text/plain": [
       "<Figure size 432x288 with 1 Axes>"
      ]
     },
     "metadata": {
      "needs_background": "light"
     },
     "output_type": "display_data"
    }
   ],
   "source": [
    "#около половины всей площади квартиры занимает жилая зона\n",
    "df['ratio_living_total'].hist(bins=30, range=(0.1, 1))"
   ]
  },
  {
   "cell_type": "code",
   "execution_count": 156,
   "metadata": {},
   "outputs": [
    {
     "data": {
      "text/plain": [
       "<matplotlib.axes._subplots.AxesSubplot at 0x7f1cb91d4e50>"
      ]
     },
     "execution_count": 156,
     "metadata": {},
     "output_type": "execute_result"
    },
    {
     "data": {
      "image/png": "[encoded data removed]",
      "text/plain": [
       "<Figure size 432x288 with 1 Axes>"
      ]
     },
     "metadata": {
      "needs_background": "light"
     },
     "output_type": "display_data"
    }
   ],
   "source": [
    "#всего лишь одну десятую занимает кухня от общей площади, это объясняется наличием квартир с большой общей площадью\n",
    "df['ratio_kitchen_total'].hist(bins=30, range=(0, 1))"
   ]
  },
  {
   "cell_type": "markdown",
   "metadata": {},
   "source": [
    "**Площадь, цена, число комнат, высота потолков**"
   ]
  },
  {
   "cell_type": "code",
   "execution_count": 157,
   "metadata": {},
   "outputs": [
    {
     "data": {
      "text/html": [
       "<div>\n",
       "<style scoped>\n",
       "    .dataframe tbody tr th:only-of-type {\n",
       "        vertical-align: middle;\n",
       "    }\n",
       "\n",
       "    .dataframe tbody tr th {\n",
       "        vertical-align: top;\n",
       "    }\n",
       "\n",
       "    .dataframe thead th {\n",
       "        text-align: right;\n",
       "    }\n",
       "</style>\n",
       "<table border=\"1\" class=\"dataframe\">\n",
       "  <thead>\n",
       "    <tr style=\"text-align: right;\">\n",
       "      <th></th>\n",
       "      <th>total_area</th>\n",
       "      <th>last_price</th>\n",
       "      <th>rooms</th>\n",
       "      <th>ceiling_height</th>\n",
       "    </tr>\n",
       "  </thead>\n",
       "  <tbody>\n",
       "    <tr>\n",
       "      <td>0</td>\n",
       "      <td>108.00</td>\n",
       "      <td>13000000</td>\n",
       "      <td>3</td>\n",
       "      <td>2.7</td>\n",
       "    </tr>\n",
       "    <tr>\n",
       "      <td>1</td>\n",
       "      <td>40.40</td>\n",
       "      <td>3350000</td>\n",
       "      <td>1</td>\n",
       "      <td>2.7</td>\n",
       "    </tr>\n",
       "    <tr>\n",
       "      <td>2</td>\n",
       "      <td>56.00</td>\n",
       "      <td>5196000</td>\n",
       "      <td>2</td>\n",
       "      <td>2.7</td>\n",
       "    </tr>\n",
       "    <tr>\n",
       "      <td>3</td>\n",
       "      <td>159.00</td>\n",
       "      <td>64900000</td>\n",
       "      <td>3</td>\n",
       "      <td>2.7</td>\n",
       "    </tr>\n",
       "    <tr>\n",
       "      <td>4</td>\n",
       "      <td>100.00</td>\n",
       "      <td>10000000</td>\n",
       "      <td>2</td>\n",
       "      <td>3.0</td>\n",
       "    </tr>\n",
       "    <tr>\n",
       "      <td>...</td>\n",
       "      <td>...</td>\n",
       "      <td>...</td>\n",
       "      <td>...</td>\n",
       "      <td>...</td>\n",
       "    </tr>\n",
       "    <tr>\n",
       "      <td>23694</td>\n",
       "      <td>133.81</td>\n",
       "      <td>9700000</td>\n",
       "      <td>3</td>\n",
       "      <td>3.0</td>\n",
       "    </tr>\n",
       "    <tr>\n",
       "      <td>23695</td>\n",
       "      <td>59.00</td>\n",
       "      <td>3100000</td>\n",
       "      <td>3</td>\n",
       "      <td>2.7</td>\n",
       "    </tr>\n",
       "    <tr>\n",
       "      <td>23696</td>\n",
       "      <td>56.70</td>\n",
       "      <td>2500000</td>\n",
       "      <td>2</td>\n",
       "      <td>2.7</td>\n",
       "    </tr>\n",
       "    <tr>\n",
       "      <td>23697</td>\n",
       "      <td>76.75</td>\n",
       "      <td>11475000</td>\n",
       "      <td>2</td>\n",
       "      <td>3.0</td>\n",
       "    </tr>\n",
       "    <tr>\n",
       "      <td>23698</td>\n",
       "      <td>32.30</td>\n",
       "      <td>1350000</td>\n",
       "      <td>1</td>\n",
       "      <td>2.5</td>\n",
       "    </tr>\n",
       "  </tbody>\n",
       "</table>\n",
       "<p>23699 rows × 4 columns</p>\n",
       "</div>"
      ],
      "text/plain": [
       "       total_area  last_price  rooms  ceiling_height\n",
       "0          108.00    13000000      3             2.7\n",
       "1           40.40     3350000      1             2.7\n",
       "2           56.00     5196000      2             2.7\n",
       "3          159.00    64900000      3             2.7\n",
       "4          100.00    10000000      2             3.0\n",
       "...           ...         ...    ...             ...\n",
       "23694      133.81     9700000      3             3.0\n",
       "23695       59.00     3100000      3             2.7\n",
       "23696       56.70     2500000      2             2.7\n",
       "23697       76.75    11475000      2             3.0\n",
       "23698       32.30     1350000      1             2.5\n",
       "\n",
       "[23699 rows x 4 columns]"
      ]
     },
     "execution_count": 157,
     "metadata": {},
     "output_type": "execute_result"
    }
   ],
   "source": [
    "#рассмотрим столбцы: 'total_area', 'last_price', 'rooms', 'ceiling_height'\n",
    "(\n",
    "    df.loc[:, ['total_area', 'last_price', 'rooms', 'ceiling_height']]\n",
    ")"
   ]
  },
  {
   "cell_type": "code",
   "execution_count": 158,
   "metadata": {},
   "outputs": [
    {
     "data": {
      "text/plain": [
       "<matplotlib.axes._subplots.AxesSubplot at 0x7f1cb9174e50>"
      ]
     },
     "execution_count": 158,
     "metadata": {},
     "output_type": "execute_result"
    },
    {
     "data": {
      "image/png": "[encoded data removed]",
      "text/plain": [
       "<Figure size 432x288 with 1 Axes>"
      ]
     },
     "metadata": {
      "needs_background": "light"
     },
     "output_type": "display_data"
    }
   ],
   "source": [
    "#подавляющее число квартир площадью до 50 квадратов\n",
    "df['total_area'].hist(bins=30, range=(0, 300))"
   ]
  },
  {
   "cell_type": "code",
   "execution_count": 159,
   "metadata": {},
   "outputs": [
    {
     "data": {
      "text/plain": [
       "<matplotlib.axes._subplots.AxesSubplot at 0x7f1cb904b310>"
      ]
     },
     "execution_count": 159,
     "metadata": {},
     "output_type": "execute_result"
    },
    {
     "data": {
      "image/png": "[encoded data removed]",
      "text/plain": [
       "<Figure size 432x288 with 1 Axes>"
      ]
     },
     "metadata": {
      "needs_background": "light"
     },
     "output_type": "display_data"
    }
   ],
   "source": [
    "#подавляющее число квартир стоимостью от 3 до 5 млн \n",
    "df['last_price'].hist(bins=30,range=(0,30000000))"
   ]
  },
  {
   "cell_type": "code",
   "execution_count": 160,
   "metadata": {},
   "outputs": [
    {
     "data": {
      "text/plain": [
       "<matplotlib.axes._subplots.AxesSubplot at 0x7f1cb8fea6d0>"
      ]
     },
     "execution_count": 160,
     "metadata": {},
     "output_type": "execute_result"
    },
    {
     "data": {
      "image/png": "[encoded data removed]",
      "text/plain": [
       "<Figure size 432x288 with 1 Axes>"
      ]
     },
     "metadata": {
      "needs_background": "light"
     },
     "output_type": "display_data"
    }
   ],
   "source": [
    "#построим гистограмму, показывающую какую долю занимают квартиры с разным количеством комнат в датасете\n",
    "df['rooms'].hist(bins=30,range=(1,8))"
   ]
  },
  {
   "cell_type": "markdown",
   "metadata": {},
   "source": [
    "Как видно из гистограммы в продаже примерно равное количество однушек и двушек, они являются лидерами продаж,\n",
    "за ними следуют трешки, далее идут квартиры с количеством комнат более трех их заметно меньше, поскольку они менее популярны"
   ]
  },
  {
   "cell_type": "code",
   "execution_count": 161,
   "metadata": {},
   "outputs": [
    {
     "data": {
      "text/plain": [
       "<matplotlib.axes._subplots.AxesSubplot at 0x7f1cb8ea2c10>"
      ]
     },
     "execution_count": 161,
     "metadata": {},
     "output_type": "execute_result"
    },
    {
     "data": {
      "image/png": "[encoded data removed]",
      "text/plain": [
       "<Figure size 432x288 with 1 Axes>"
      ]
     },
     "metadata": {
      "needs_background": "light"
     },
     "output_type": "display_data"
    }
   ],
   "source": [
    "#построим гистограмму высоты потолков\n",
    "df['ceiling_height'].hist(bins=30,range=(2,4))"
   ]
  },
  {
   "cell_type": "markdown",
   "metadata": {},
   "source": [
    "Наибольшим изменениям в процессе предобработки данных подвергся столбец с высотой потолков.\n",
    "безоговорочным лидером являются квартиры с потолками до 2,7 метров, по всей видимости это дома-новостройки, к сожалению в датафрейме отсутствует очень важный столбец года постройки дома, из за чего нельзя сказать точно."
   ]
  },
  {
   "cell_type": "markdown",
   "metadata": {},
   "source": [
    "## Исследовательский анализ данных"
   ]
  },
  {
   "cell_type": "markdown",
   "metadata": {},
   "source": [
    "**Изучим время продажи квартир**\n"
   ]
  },
  {
   "cell_type": "code",
   "execution_count": 162,
   "metadata": {},
   "outputs": [
    {
     "data": {
      "text/plain": [
       "<matplotlib.axes._subplots.AxesSubplot at 0x7f1cb8de3710>"
      ]
     },
     "execution_count": 162,
     "metadata": {},
     "output_type": "execute_result"
    },
    {
     "data": {
      "image/png": "[encoded data removed]",
      "text/plain": [
       "<Figure size 432x288 with 1 Axes>"
      ]
     },
     "metadata": {
      "needs_background": "light"
     },
     "output_type": "display_data"
    }
   ],
   "source": [
    "#построим гистограмму\n",
    "df['days_exposition'].hist(bins=30)"
   ]
  },
  {
   "cell_type": "code",
   "execution_count": 163,
   "metadata": {},
   "outputs": [
    {
     "data": {
      "text/plain": [
       "1"
      ]
     },
     "execution_count": 163,
     "metadata": {},
     "output_type": "execute_result"
    }
   ],
   "source": [
    "#минимальное время, которое потребовалось для продажи - 1 день\n",
    "df['days_exposition'].min()"
   ]
  },
  {
   "cell_type": "code",
   "execution_count": 164,
   "metadata": {},
   "outputs": [
    {
     "data": {
      "text/plain": [
       "4.328767123287672"
      ]
     },
     "execution_count": 164,
     "metadata": {},
     "output_type": "execute_result"
    }
   ],
   "source": [
    "#максимальное время, которое потребовалось для продаж - 4 года и 3 месяца\n",
    "df['days_exposition'].max()/365"
   ]
  },
  {
   "cell_type": "code",
   "execution_count": 165,
   "metadata": {},
   "outputs": [
    {
     "data": {
      "text/plain": [
       "124.0"
      ]
     },
     "execution_count": 165,
     "metadata": {},
     "output_type": "execute_result"
    }
   ],
   "source": [
    "#Медианное время\n",
    "df['days_exposition'].median()"
   ]
  },
  {
   "cell_type": "code",
   "execution_count": 166,
   "metadata": {},
   "outputs": [
    {
     "data": {
      "text/plain": [
       "180.7693573568505"
      ]
     },
     "execution_count": 166,
     "metadata": {},
     "output_type": "execute_result"
    }
   ],
   "source": [
    "#среднее время\n",
    "df['days_exposition'].mean()"
   ]
  },
  {
   "cell_type": "code",
   "execution_count": 167,
   "metadata": {},
   "outputs": [
    {
     "data": {
      "image/png": "[encoded data removed]",
      "text/plain": [
       "<Figure size 432x288 with 1 Axes>"
      ]
     },
     "metadata": {
      "needs_background": "light"
     },
     "output_type": "display_data"
    },
    {
     "data": {
      "text/plain": [
       "count    23699.000000\n",
       "mean       180.769357\n",
       "std        204.449917\n",
       "min          1.000000\n",
       "25%         45.000000\n",
       "50%        124.000000\n",
       "75%        199.000000\n",
       "max       1580.000000\n",
       "Name: days_exposition, dtype: float64"
      ]
     },
     "execution_count": 167,
     "metadata": {},
     "output_type": "execute_result"
    }
   ],
   "source": [
    "import matplotlib.pyplot as plt \n",
    "plt.ylim(0,1700)\n",
    "df.boxplot(column = 'days_exposition') \n",
    "plt.show()\n",
    "df['days_exposition'].describe()\n",
    "\n",
    "\n"
   ]
  },
  {
   "cell_type": "markdown",
   "metadata": {},
   "source": [
    "Максимальное число квартир продается в на 95 день, больше всего квартир продается в интервале от 45 дней до 232.\n",
    "Самой долгой продажей (если не брать во внимание выбросы, которые лежат за 1.5 межквартального размаха, добавленного в третьей квартилии) - 500 дней."
   ]
  },
  {
   "cell_type": "code",
   "execution_count": 168,
   "metadata": {},
   "outputs": [],
   "source": [
    "#уберем выбросы\n",
    "df = df.query('days_exposition<500')"
   ]
  },
  {
   "cell_type": "code",
   "execution_count": 169,
   "metadata": {},
   "outputs": [
    {
     "data": {
      "text/plain": [
       "<matplotlib.axes._subplots.AxesSubplot at 0x7f1cb8e79d90>"
      ]
     },
     "execution_count": 169,
     "metadata": {},
     "output_type": "execute_result"
    },
    {
     "data": {
      "image/png": "[encoded data removed]",
      "text/plain": [
       "<Figure size 432x288 with 1 Axes>"
      ]
     },
     "metadata": {
      "needs_background": "light"
     },
     "output_type": "display_data"
    }
   ],
   "source": [
    "#диаграмма без выбросов\n",
    "df['days_exposition'].hist(bins=100,range=(0,500))"
   ]
  },
  {
   "cell_type": "code",
   "execution_count": 170,
   "metadata": {},
   "outputs": [
    {
     "data": {
      "image/png": "[encoded data removed]",
      "text/plain": [
       "<Figure size 432x288 with 1 Axes>"
      ]
     },
     "metadata": {
      "needs_background": "light"
     },
     "output_type": "display_data"
    }
   ],
   "source": [
    "#Диаграмма размаха говорит, что самые дорогие квартиры продаются дольше всего, в данном случае \n",
    "#11 млн уже барьер для быстрой продажи\n",
    "plt.ylim(100000,15000000)\n",
    "df.boxplot(column='last_price')\n",
    "plt.show()"
   ]
  },
  {
   "cell_type": "code",
   "execution_count": 171,
   "metadata": {},
   "outputs": [
    {
     "data": {
      "text/html": [
       "<div>\n",
       "<style scoped>\n",
       "    .dataframe tbody tr th:only-of-type {\n",
       "        vertical-align: middle;\n",
       "    }\n",
       "\n",
       "    .dataframe tbody tr th {\n",
       "        vertical-align: top;\n",
       "    }\n",
       "\n",
       "    .dataframe thead th {\n",
       "        text-align: right;\n",
       "    }\n",
       "</style>\n",
       "<table border=\"1\" class=\"dataframe\">\n",
       "  <thead>\n",
       "    <tr style=\"text-align: right;\">\n",
       "      <th></th>\n",
       "      <th>total_images</th>\n",
       "      <th>last_price</th>\n",
       "      <th>total_area</th>\n",
       "      <th>first_day_exposition</th>\n",
       "      <th>rooms</th>\n",
       "      <th>ceiling_height</th>\n",
       "      <th>floors_total</th>\n",
       "      <th>living_area</th>\n",
       "      <th>floor</th>\n",
       "      <th>is_apartment</th>\n",
       "      <th>...</th>\n",
       "      <th>ponds_around3000</th>\n",
       "      <th>ponds_nearest</th>\n",
       "      <th>days_exposition</th>\n",
       "      <th>price_m2</th>\n",
       "      <th>weekday</th>\n",
       "      <th>month</th>\n",
       "      <th>year</th>\n",
       "      <th>floor_position</th>\n",
       "      <th>ratio_living_total</th>\n",
       "      <th>ratio_kitchen_total</th>\n",
       "    </tr>\n",
       "  </thead>\n",
       "  <tbody>\n",
       "    <tr>\n",
       "      <td>8793</td>\n",
       "      <td>7</td>\n",
       "      <td>12190</td>\n",
       "      <td>109.0</td>\n",
       "      <td>2019-03-20</td>\n",
       "      <td>2</td>\n",
       "      <td>2.8</td>\n",
       "      <td>25</td>\n",
       "      <td>32.000000</td>\n",
       "      <td>25</td>\n",
       "      <td>False</td>\n",
       "      <td>...</td>\n",
       "      <td>0.0</td>\n",
       "      <td>NaN</td>\n",
       "      <td>8</td>\n",
       "      <td>1.118349e+02</td>\n",
       "      <td>2</td>\n",
       "      <td>3</td>\n",
       "      <td>2019</td>\n",
       "      <td>последний</td>\n",
       "      <td>0.293578</td>\n",
       "      <td>0.371560</td>\n",
       "    </tr>\n",
       "    <tr>\n",
       "      <td>14911</td>\n",
       "      <td>5</td>\n",
       "      <td>430000</td>\n",
       "      <td>54.0</td>\n",
       "      <td>2018-06-26</td>\n",
       "      <td>2</td>\n",
       "      <td>2.7</td>\n",
       "      <td>3</td>\n",
       "      <td>34.457852</td>\n",
       "      <td>3</td>\n",
       "      <td>False</td>\n",
       "      <td>...</td>\n",
       "      <td>NaN</td>\n",
       "      <td>NaN</td>\n",
       "      <td>44</td>\n",
       "      <td>7.962963e+03</td>\n",
       "      <td>1</td>\n",
       "      <td>6</td>\n",
       "      <td>2018</td>\n",
       "      <td>последний</td>\n",
       "      <td>0.638108</td>\n",
       "      <td>0.195737</td>\n",
       "    </tr>\n",
       "    <tr>\n",
       "      <td>17456</td>\n",
       "      <td>7</td>\n",
       "      <td>430000</td>\n",
       "      <td>30.4</td>\n",
       "      <td>2019-04-22</td>\n",
       "      <td>1</td>\n",
       "      <td>2.7</td>\n",
       "      <td>2</td>\n",
       "      <td>16.000000</td>\n",
       "      <td>1</td>\n",
       "      <td>False</td>\n",
       "      <td>...</td>\n",
       "      <td>NaN</td>\n",
       "      <td>NaN</td>\n",
       "      <td>180</td>\n",
       "      <td>1.414474e+04</td>\n",
       "      <td>0</td>\n",
       "      <td>4</td>\n",
       "      <td>2019</td>\n",
       "      <td>первый</td>\n",
       "      <td>0.526316</td>\n",
       "      <td>0.197368</td>\n",
       "    </tr>\n",
       "    <tr>\n",
       "      <td>16274</td>\n",
       "      <td>18</td>\n",
       "      <td>440000</td>\n",
       "      <td>40.0</td>\n",
       "      <td>2018-07-10</td>\n",
       "      <td>1</td>\n",
       "      <td>2.7</td>\n",
       "      <td>5</td>\n",
       "      <td>34.457852</td>\n",
       "      <td>1</td>\n",
       "      <td>False</td>\n",
       "      <td>...</td>\n",
       "      <td>NaN</td>\n",
       "      <td>NaN</td>\n",
       "      <td>45</td>\n",
       "      <td>1.100000e+04</td>\n",
       "      <td>1</td>\n",
       "      <td>7</td>\n",
       "      <td>2018</td>\n",
       "      <td>первый</td>\n",
       "      <td>0.861446</td>\n",
       "      <td>0.264245</td>\n",
       "    </tr>\n",
       "    <tr>\n",
       "      <td>17676</td>\n",
       "      <td>0</td>\n",
       "      <td>450000</td>\n",
       "      <td>36.5</td>\n",
       "      <td>2018-02-01</td>\n",
       "      <td>1</td>\n",
       "      <td>2.7</td>\n",
       "      <td>5</td>\n",
       "      <td>17.300000</td>\n",
       "      <td>4</td>\n",
       "      <td>False</td>\n",
       "      <td>...</td>\n",
       "      <td>NaN</td>\n",
       "      <td>NaN</td>\n",
       "      <td>120</td>\n",
       "      <td>1.232877e+04</td>\n",
       "      <td>3</td>\n",
       "      <td>2</td>\n",
       "      <td>2018</td>\n",
       "      <td>другой</td>\n",
       "      <td>0.473973</td>\n",
       "      <td>0.232877</td>\n",
       "    </tr>\n",
       "    <tr>\n",
       "      <td>...</td>\n",
       "      <td>...</td>\n",
       "      <td>...</td>\n",
       "      <td>...</td>\n",
       "      <td>...</td>\n",
       "      <td>...</td>\n",
       "      <td>...</td>\n",
       "      <td>...</td>\n",
       "      <td>...</td>\n",
       "      <td>...</td>\n",
       "      <td>...</td>\n",
       "      <td>...</td>\n",
       "      <td>...</td>\n",
       "      <td>...</td>\n",
       "      <td>...</td>\n",
       "      <td>...</td>\n",
       "      <td>...</td>\n",
       "      <td>...</td>\n",
       "      <td>...</td>\n",
       "      <td>...</td>\n",
       "      <td>...</td>\n",
       "      <td>...</td>\n",
       "    </tr>\n",
       "    <tr>\n",
       "      <td>15651</td>\n",
       "      <td>20</td>\n",
       "      <td>300000000</td>\n",
       "      <td>618.0</td>\n",
       "      <td>2017-12-18</td>\n",
       "      <td>7</td>\n",
       "      <td>3.0</td>\n",
       "      <td>7</td>\n",
       "      <td>258.000000</td>\n",
       "      <td>5</td>\n",
       "      <td>False</td>\n",
       "      <td>...</td>\n",
       "      <td>2.0</td>\n",
       "      <td>198.0</td>\n",
       "      <td>111</td>\n",
       "      <td>4.854369e+05</td>\n",
       "      <td>0</td>\n",
       "      <td>12</td>\n",
       "      <td>2017</td>\n",
       "      <td>другой</td>\n",
       "      <td>0.417476</td>\n",
       "      <td>0.113269</td>\n",
       "    </tr>\n",
       "    <tr>\n",
       "      <td>1436</td>\n",
       "      <td>19</td>\n",
       "      <td>330000000</td>\n",
       "      <td>190.0</td>\n",
       "      <td>2018-04-04</td>\n",
       "      <td>3</td>\n",
       "      <td>3.0</td>\n",
       "      <td>7</td>\n",
       "      <td>95.000000</td>\n",
       "      <td>5</td>\n",
       "      <td>False</td>\n",
       "      <td>...</td>\n",
       "      <td>3.0</td>\n",
       "      <td>285.0</td>\n",
       "      <td>233</td>\n",
       "      <td>1.736842e+06</td>\n",
       "      <td>2</td>\n",
       "      <td>4</td>\n",
       "      <td>2018</td>\n",
       "      <td>другой</td>\n",
       "      <td>0.500000</td>\n",
       "      <td>0.210526</td>\n",
       "    </tr>\n",
       "    <tr>\n",
       "      <td>14706</td>\n",
       "      <td>15</td>\n",
       "      <td>401300000</td>\n",
       "      <td>401.0</td>\n",
       "      <td>2016-02-20</td>\n",
       "      <td>5</td>\n",
       "      <td>2.7</td>\n",
       "      <td>9</td>\n",
       "      <td>204.000000</td>\n",
       "      <td>9</td>\n",
       "      <td>False</td>\n",
       "      <td>...</td>\n",
       "      <td>1.0</td>\n",
       "      <td>478.0</td>\n",
       "      <td>393</td>\n",
       "      <td>1.000748e+06</td>\n",
       "      <td>5</td>\n",
       "      <td>2</td>\n",
       "      <td>2016</td>\n",
       "      <td>последний</td>\n",
       "      <td>0.508728</td>\n",
       "      <td>0.059850</td>\n",
       "    </tr>\n",
       "    <tr>\n",
       "      <td>19540</td>\n",
       "      <td>8</td>\n",
       "      <td>420000000</td>\n",
       "      <td>900.0</td>\n",
       "      <td>2017-12-06</td>\n",
       "      <td>12</td>\n",
       "      <td>2.8</td>\n",
       "      <td>25</td>\n",
       "      <td>409.700000</td>\n",
       "      <td>25</td>\n",
       "      <td>False</td>\n",
       "      <td>...</td>\n",
       "      <td>2.0</td>\n",
       "      <td>318.0</td>\n",
       "      <td>106</td>\n",
       "      <td>4.666667e+05</td>\n",
       "      <td>2</td>\n",
       "      <td>12</td>\n",
       "      <td>2017</td>\n",
       "      <td>последний</td>\n",
       "      <td>0.455222</td>\n",
       "      <td>0.124444</td>\n",
       "    </tr>\n",
       "    <tr>\n",
       "      <td>12971</td>\n",
       "      <td>19</td>\n",
       "      <td>763000000</td>\n",
       "      <td>400.0</td>\n",
       "      <td>2017-09-30</td>\n",
       "      <td>7</td>\n",
       "      <td>2.7</td>\n",
       "      <td>10</td>\n",
       "      <td>250.000000</td>\n",
       "      <td>10</td>\n",
       "      <td>False</td>\n",
       "      <td>...</td>\n",
       "      <td>3.0</td>\n",
       "      <td>756.0</td>\n",
       "      <td>33</td>\n",
       "      <td>1.907500e+06</td>\n",
       "      <td>5</td>\n",
       "      <td>9</td>\n",
       "      <td>2017</td>\n",
       "      <td>последний</td>\n",
       "      <td>0.625000</td>\n",
       "      <td>0.026425</td>\n",
       "    </tr>\n",
       "  </tbody>\n",
       "</table>\n",
       "<p>21945 rows × 29 columns</p>\n",
       "</div>"
      ],
      "text/plain": [
       "       total_images  last_price  total_area first_day_exposition  rooms  \\\n",
       "8793              7       12190       109.0           2019-03-20      2   \n",
       "14911             5      430000        54.0           2018-06-26      2   \n",
       "17456             7      430000        30.4           2019-04-22      1   \n",
       "16274            18      440000        40.0           2018-07-10      1   \n",
       "17676             0      450000        36.5           2018-02-01      1   \n",
       "...             ...         ...         ...                  ...    ...   \n",
       "15651            20   300000000       618.0           2017-12-18      7   \n",
       "1436             19   330000000       190.0           2018-04-04      3   \n",
       "14706            15   401300000       401.0           2016-02-20      5   \n",
       "19540             8   420000000       900.0           2017-12-06     12   \n",
       "12971            19   763000000       400.0           2017-09-30      7   \n",
       "\n",
       "       ceiling_height  floors_total  living_area  floor  is_apartment  ...  \\\n",
       "8793              2.8            25    32.000000     25         False  ...   \n",
       "14911             2.7             3    34.457852      3         False  ...   \n",
       "17456             2.7             2    16.000000      1         False  ...   \n",
       "16274             2.7             5    34.457852      1         False  ...   \n",
       "17676             2.7             5    17.300000      4         False  ...   \n",
       "...               ...           ...          ...    ...           ...  ...   \n",
       "15651             3.0             7   258.000000      5         False  ...   \n",
       "1436              3.0             7    95.000000      5         False  ...   \n",
       "14706             2.7             9   204.000000      9         False  ...   \n",
       "19540             2.8            25   409.700000     25         False  ...   \n",
       "12971             2.7            10   250.000000     10         False  ...   \n",
       "\n",
       "       ponds_around3000  ponds_nearest  days_exposition      price_m2 weekday  \\\n",
       "8793                0.0            NaN                8  1.118349e+02       2   \n",
       "14911               NaN            NaN               44  7.962963e+03       1   \n",
       "17456               NaN            NaN              180  1.414474e+04       0   \n",
       "16274               NaN            NaN               45  1.100000e+04       1   \n",
       "17676               NaN            NaN              120  1.232877e+04       3   \n",
       "...                 ...            ...              ...           ...     ...   \n",
       "15651               2.0          198.0              111  4.854369e+05       0   \n",
       "1436                3.0          285.0              233  1.736842e+06       2   \n",
       "14706               1.0          478.0              393  1.000748e+06       5   \n",
       "19540               2.0          318.0              106  4.666667e+05       2   \n",
       "12971               3.0          756.0               33  1.907500e+06       5   \n",
       "\n",
       "       month  year  floor_position  ratio_living_total  ratio_kitchen_total  \n",
       "8793       3  2019       последний            0.293578             0.371560  \n",
       "14911      6  2018       последний            0.638108             0.195737  \n",
       "17456      4  2019          первый            0.526316             0.197368  \n",
       "16274      7  2018          первый            0.861446             0.264245  \n",
       "17676      2  2018          другой            0.473973             0.232877  \n",
       "...      ...   ...             ...                 ...                  ...  \n",
       "15651     12  2017          другой            0.417476             0.113269  \n",
       "1436       4  2018          другой            0.500000             0.210526  \n",
       "14706      2  2016       последний            0.508728             0.059850  \n",
       "19540     12  2017       последний            0.455222             0.124444  \n",
       "12971      9  2017       последний            0.625000             0.026425  \n",
       "\n",
       "[21945 rows x 29 columns]"
      ]
     },
     "execution_count": 171,
     "metadata": {},
     "output_type": "execute_result"
    }
   ],
   "source": [
    "df.sort_values(by='last_price',ascending=True)"
   ]
  },
  {
   "cell_type": "code",
   "execution_count": 172,
   "metadata": {},
   "outputs": [],
   "source": [
    "#уберем выбросы квартир стоимостью свыше 11 млн. руб,и одну квартиру которая стоит всего 12190руб., что естественно тоже опечатка\n",
    "df = df.query('430000<last_price<11000000').reset_index(drop = True)\n",
    "\n"
   ]
  },
  {
   "cell_type": "markdown",
   "metadata": {},
   "source": [
    "Для продажи квартиры требуется чуть больше трех месяцев. средний показатель 180, в таблице есть квартиры которые продаются очень долго. Согласно boxplot верхний ус около 500 дней. Все, что продается дольше, можно считать необычно долгой продажей."
   ]
  },
  {
   "cell_type": "code",
   "execution_count": 173,
   "metadata": {},
   "outputs": [
    {
     "data": {
      "text/plain": [
       "1    7506\n",
       "2    7039\n",
       "3    4437\n",
       "4     642\n",
       "0     188\n",
       "5      86\n",
       "6       8\n",
       "7       1\n",
       "Name: rooms, dtype: int64"
      ]
     },
     "execution_count": 173,
     "metadata": {},
     "output_type": "execute_result"
    }
   ],
   "source": [
    "#рассмотрим столбец 'rooms' - квартир с нулевым количеством комнат не бывает\n",
    "df['rooms'].value_counts()"
   ]
  },
  {
   "cell_type": "code",
   "execution_count": 174,
   "metadata": {},
   "outputs": [
    {
     "data": {
      "text/plain": [
       "count    188.000000\n",
       "mean      27.261755\n",
       "std        6.727197\n",
       "min       15.500000\n",
       "25%       24.175000\n",
       "50%       26.075000\n",
       "75%       28.325000\n",
       "max       73.600000\n",
       "Name: total_area, dtype: float64"
      ]
     },
     "execution_count": 174,
     "metadata": {},
     "output_type": "execute_result"
    }
   ],
   "source": [
    "#Посмотрим значения площадей квартир в этих строках\n",
    "#видно что площадь менее 30кв. это однокомнатные квартиры\n",
    "df.query('rooms == 0')['total_area'].describe()"
   ]
  },
  {
   "cell_type": "code",
   "execution_count": 175,
   "metadata": {},
   "outputs": [],
   "source": [
    "#заменим квартиры с нулевым количеством комнат на однокомнатные\n",
    "df['rooms'] = df['rooms'].replace(0, 1)"
   ]
  },
  {
   "cell_type": "code",
   "execution_count": 176,
   "metadata": {},
   "outputs": [
    {
     "data": {
      "text/plain": [
       "1    7694\n",
       "2    7039\n",
       "3    4437\n",
       "4     642\n",
       "5      86\n",
       "6       8\n",
       "7       1\n",
       "Name: rooms, dtype: int64"
      ]
     },
     "execution_count": 176,
     "metadata": {},
     "output_type": "execute_result"
    }
   ],
   "source": [
    "#проверка\n",
    "df['rooms'].value_counts()"
   ]
  },
  {
   "cell_type": "code",
   "execution_count": 177,
   "metadata": {},
   "outputs": [
    {
     "data": {
      "text/plain": [
       "33"
      ]
     },
     "execution_count": 177,
     "metadata": {},
     "output_type": "execute_result"
    }
   ],
   "source": [
    "#максимальный этаж не превышает этажность зданий, здесь все ровно.\n",
    "df['floor'].max()"
   ]
  },
  {
   "cell_type": "code",
   "execution_count": 178,
   "metadata": {},
   "outputs": [
    {
     "data": {
      "text/plain": [
       "60"
      ]
     },
     "execution_count": 178,
     "metadata": {},
     "output_type": "execute_result"
    }
   ],
   "source": [
    "df['floors_total'].max()"
   ]
  },
  {
   "cell_type": "markdown",
   "metadata": {},
   "source": [
    "**Факторы, влияющие на стоимость квартиры**"
   ]
  },
  {
   "cell_type": "code",
   "execution_count": 179,
   "metadata": {},
   "outputs": [
    {
     "data": {
      "text/plain": [
       "<matplotlib.axes._subplots.AxesSubplot at 0x7f1cbaf83410>"
      ]
     },
     "execution_count": 179,
     "metadata": {},
     "output_type": "execute_result"
    },
    {
     "data": {
      "image/png": "[encoded data removed]",
      "text/plain": [
       "<Figure size 2160x360 with 1 Axes>"
      ]
     },
     "metadata": {
      "needs_background": "light"
     },
     "output_type": "display_data"
    }
   ],
   "source": [
    "#зависимость цены от метража\n",
    "(\n",
    "    df.sort_values(by='last_price',ascending=True)\n",
    "    .plot(x='last_price',y='total_area',grid=True, style='o-',figsize=(30,5))\n",
    ")"
   ]
  },
  {
   "cell_type": "markdown",
   "metadata": {},
   "source": [
    "Цена растет с увеличением площади, в этом нет ничего удивительного."
   ]
  },
  {
   "cell_type": "code",
   "execution_count": 180,
   "metadata": {},
   "outputs": [
    {
     "data": {
      "text/plain": [
       "<matplotlib.axes._subplots.AxesSubplot at 0x7f1cb8a02290>"
      ]
     },
     "execution_count": 180,
     "metadata": {},
     "output_type": "execute_result"
    },
    {
     "data": {
      "image/png": "[encoded data removed]",
      "text/plain": [
       "<Figure size 1080x576 with 1 Axes>"
      ]
     },
     "metadata": {
      "needs_background": "light"
     },
     "output_type": "display_data"
    }
   ],
   "source": [
    "#зависимость цены от количества комнат\n",
    "(\n",
    "    df.groupby('rooms')['last_price'].median().plot\n",
    "    (x='rooms',y='last_price',style='o-',grid=True,figsize=(15,8),alpha=1)\n",
    ")"
   ]
  },
  {
   "cell_type": "markdown",
   "metadata": {},
   "source": [
    "Цена равномерно растет с увеличением числа комнат, при этом после четырехкомнатных квартир мы видим резкий рост цены,\n",
    "видимо здесь вступает в силу класс жилья, эконом сменился бизнесом, 7-комнатные квартиры ниже в стоимости 6 комнатных, по видимому из за их неликвидности."
   ]
  },
  {
   "cell_type": "code",
   "execution_count": 181,
   "metadata": {},
   "outputs": [
    {
     "data": {
      "text/plain": [
       "<matplotlib.axes._subplots.AxesSubplot at 0x7f1cb898ed90>"
      ]
     },
     "execution_count": 181,
     "metadata": {},
     "output_type": "execute_result"
    },
    {
     "data": {
      "image/png": "[encoded data removed]",
      "text/plain": [
       "<Figure size 432x288 with 1 Axes>"
      ]
     },
     "metadata": {
      "needs_background": "light"
     },
     "output_type": "display_data"
    }
   ],
   "source": [
    "#зависимость цены от этажа\n",
    "(\n",
    "    df.groupby('floor_position')['last_price'].median()\n",
    "    .plot(x='floor_position',y='last_price',kind='bar')\n",
    ")"
   ]
  },
  {
   "cell_type": "markdown",
   "metadata": {},
   "source": [
    "Цена на первом и последнем этаже ниже рынка, неписанное правило, на первом этаже заметно больше шума и выше вероятность появления всяких вредителей, на последнем этаже проблема лифта и протечек крыш."
   ]
  },
  {
   "cell_type": "code",
   "execution_count": 182,
   "metadata": {
    "scrolled": true
   },
   "outputs": [
    {
     "data": {
      "text/plain": [
       "<matplotlib.axes._subplots.AxesSubplot at 0x7f1cb8d39610>"
      ]
     },
     "execution_count": 182,
     "metadata": {},
     "output_type": "execute_result"
    },
    {
     "data": {
      "image/png": "[encoded data removed]",
      "text/plain": [
       "<Figure size 432x288 with 1 Axes>"
      ]
     },
     "metadata": {
      "needs_background": "light"
     },
     "output_type": "display_data"
    }
   ],
   "source": [
    "#зависимость цены от дня недели\n",
    "#df['weekday'] df['Month'] df['Year']\n",
    "(\n",
    "    df.groupby('weekday')['last_price'].count()\n",
    "    .plot(x='weekday',y='last_price',kind='bar')\n",
    ")"
   ]
  },
  {
   "cell_type": "markdown",
   "metadata": {},
   "source": [
    "По субботам и воскресеньям проводится меньше всего сделок."
   ]
  },
  {
   "cell_type": "code",
   "execution_count": 183,
   "metadata": {
    "scrolled": true
   },
   "outputs": [
    {
     "data": {
      "text/plain": [
       "<matplotlib.axes._subplots.AxesSubplot at 0x7f1cb88f28d0>"
      ]
     },
     "execution_count": 183,
     "metadata": {},
     "output_type": "execute_result"
    },
    {
     "data": {
      "image/png": "[encoded data removed]",
      "text/plain": [
       "<Figure size 432x288 with 1 Axes>"
      ]
     },
     "metadata": {
      "needs_background": "light"
     },
     "output_type": "display_data"
    }
   ],
   "source": [
    "#зависимость цены от месяца\n",
    "(\n",
    "    df.groupby('month')['last_price'].count()\n",
    "    .plot(x='month',y='last_price',kind='bar')\n",
    ")"
   ]
  },
  {
   "cell_type": "markdown",
   "metadata": {},
   "source": [
    "Меньше всего продаж в декабре, январе, а также в мае, кроме праздников никаких других причин снижения не наблюдается. Больше всего сделок проводится в феврале, ноябре."
   ]
  },
  {
   "cell_type": "code",
   "execution_count": 184,
   "metadata": {},
   "outputs": [
    {
     "data": {
      "text/plain": [
       "<matplotlib.axes._subplots.AxesSubplot at 0x7f1cb87fd3d0>"
      ]
     },
     "execution_count": 184,
     "metadata": {},
     "output_type": "execute_result"
    },
    {
     "data": {
      "image/png": "[encoded data removed]",
      "text/plain": [
       "<Figure size 432x288 with 1 Axes>"
      ]
     },
     "metadata": {
      "needs_background": "light"
     },
     "output_type": "display_data"
    }
   ],
   "source": [
    "#зависимость цены от года\n",
    "(\n",
    "    df.groupby('year')['last_price'].count()\n",
    "    .plot(x='year',y='last_price',kind='bar')\n",
    ")"
   ]
  },
  {
   "cell_type": "markdown",
   "metadata": {},
   "source": [
    "Пик продаж недвижимости пришелся на 2017-2018 года, если бы в датафреме присутствовали сделки за 2020 и 2021 год, их было бы в разы больше."
   ]
  },
  {
   "cell_type": "code",
   "execution_count": 185,
   "metadata": {},
   "outputs": [],
   "source": [
    "#зависимость цены от близости к центру\n",
    "#переведем расстояние в километры и округлим до десятых для удобства.\n",
    "df['cityCenters_nearest'] = (df['cityCenters_nearest'] / 1000).round(decimals = 1)"
   ]
  },
  {
   "cell_type": "code",
   "execution_count": 186,
   "metadata": {},
   "outputs": [
    {
     "data": {
      "text/html": [
       "<div>\n",
       "<style scoped>\n",
       "    .dataframe tbody tr th:only-of-type {\n",
       "        vertical-align: middle;\n",
       "    }\n",
       "\n",
       "    .dataframe tbody tr th {\n",
       "        vertical-align: top;\n",
       "    }\n",
       "\n",
       "    .dataframe thead th {\n",
       "        text-align: right;\n",
       "    }\n",
       "</style>\n",
       "<table border=\"1\" class=\"dataframe\">\n",
       "  <thead>\n",
       "    <tr style=\"text-align: right;\">\n",
       "      <th></th>\n",
       "      <th>last_price</th>\n",
       "      <th>cityCenters_nearest</th>\n",
       "    </tr>\n",
       "  </thead>\n",
       "  <tbody>\n",
       "    <tr>\n",
       "      <td>0</td>\n",
       "      <td>3350000</td>\n",
       "      <td>18.6</td>\n",
       "    </tr>\n",
       "    <tr>\n",
       "      <td>1</td>\n",
       "      <td>10000000</td>\n",
       "      <td>8.1</td>\n",
       "    </tr>\n",
       "    <tr>\n",
       "      <td>2</td>\n",
       "      <td>2890000</td>\n",
       "      <td>NaN</td>\n",
       "    </tr>\n",
       "    <tr>\n",
       "      <td>3</td>\n",
       "      <td>3700000</td>\n",
       "      <td>19.1</td>\n",
       "    </tr>\n",
       "    <tr>\n",
       "      <td>4</td>\n",
       "      <td>7915000</td>\n",
       "      <td>11.6</td>\n",
       "    </tr>\n",
       "    <tr>\n",
       "      <td>...</td>\n",
       "      <td>...</td>\n",
       "      <td>...</td>\n",
       "    </tr>\n",
       "    <tr>\n",
       "      <td>19902</td>\n",
       "      <td>4600000</td>\n",
       "      <td>34.1</td>\n",
       "    </tr>\n",
       "    <tr>\n",
       "      <td>19903</td>\n",
       "      <td>9700000</td>\n",
       "      <td>4.2</td>\n",
       "    </tr>\n",
       "    <tr>\n",
       "      <td>19904</td>\n",
       "      <td>3100000</td>\n",
       "      <td>NaN</td>\n",
       "    </tr>\n",
       "    <tr>\n",
       "      <td>19905</td>\n",
       "      <td>2500000</td>\n",
       "      <td>NaN</td>\n",
       "    </tr>\n",
       "    <tr>\n",
       "      <td>19906</td>\n",
       "      <td>1350000</td>\n",
       "      <td>NaN</td>\n",
       "    </tr>\n",
       "  </tbody>\n",
       "</table>\n",
       "<p>19907 rows × 2 columns</p>\n",
       "</div>"
      ],
      "text/plain": [
       "       last_price  cityCenters_nearest\n",
       "0         3350000                 18.6\n",
       "1        10000000                  8.1\n",
       "2         2890000                  NaN\n",
       "3         3700000                 19.1\n",
       "4         7915000                 11.6\n",
       "...           ...                  ...\n",
       "19902     4600000                 34.1\n",
       "19903     9700000                  4.2\n",
       "19904     3100000                  NaN\n",
       "19905     2500000                  NaN\n",
       "19906     1350000                  NaN\n",
       "\n",
       "[19907 rows x 2 columns]"
      ]
     },
     "execution_count": 186,
     "metadata": {},
     "output_type": "execute_result"
    }
   ],
   "source": [
    "#вспомним содержимое столбцов 'last_price' и 'cityCenters_neares' \n",
    "(\n",
    "    df.loc[:, ['last_price', 'cityCenters_nearest',]]\n",
    ")"
   ]
  },
  {
   "cell_type": "code",
   "execution_count": 187,
   "metadata": {},
   "outputs": [
    {
     "data": {
      "text/plain": [
       "<matplotlib.axes._subplots.AxesSubplot at 0x7f1cb87ef4d0>"
      ]
     },
     "execution_count": 187,
     "metadata": {},
     "output_type": "execute_result"
    },
    {
     "data": {
      "image/png": "[encoded data removed]",
      "text/plain": [
       "<Figure size 1080x576 with 1 Axes>"
      ]
     },
     "metadata": {
      "needs_background": "light"
     },
     "output_type": "display_data"
    }
   ],
   "source": [
    "#построим график зависимости цены от близости к центру\n",
    "(\n",
    "    df.groupby('cityCenters_nearest')['last_price'].median().plot\n",
    "    (x='cityCenters_nearest',y='last_price',style='o-',grid=True,figsize=(15,8),alpha=1)\n",
    ")"
   ]
  },
  {
   "cell_type": "markdown",
   "metadata": {},
   "source": [
    "Цена прямо пропорциональна близости к центру, чем ближе к центру тем выше цена, присутствуют несколько значений дорогой недвижимости далеко за городом, богатые любят жить вдали от городской суеты."
   ]
  },
  {
   "cell_type": "markdown",
   "metadata": {},
   "source": [
    "<div style=\"border:solid green 2px; padding: 20px\"> \n",
    "    \n",
    "**Комментарий ревьюера**\n",
    "\n",
    "**#ок**\n",
    "\n",
    "Отлично. Зависимости отображены верно\n",
    "    \n",
    "</div>"
   ]
  },
  {
   "cell_type": "code",
   "execution_count": 188,
   "metadata": {},
   "outputs": [
    {
     "data": {
      "text/html": [
       "<div>\n",
       "<style scoped>\n",
       "    .dataframe tbody tr th:only-of-type {\n",
       "        vertical-align: middle;\n",
       "    }\n",
       "\n",
       "    .dataframe tbody tr th {\n",
       "        vertical-align: top;\n",
       "    }\n",
       "\n",
       "    .dataframe thead th {\n",
       "        text-align: right;\n",
       "    }\n",
       "</style>\n",
       "<table border=\"1\" class=\"dataframe\">\n",
       "  <thead>\n",
       "    <tr style=\"text-align: right;\">\n",
       "      <th></th>\n",
       "      <th>count</th>\n",
       "      <th>mean</th>\n",
       "    </tr>\n",
       "    <tr>\n",
       "      <th>locality_name</th>\n",
       "      <th></th>\n",
       "      <th></th>\n",
       "    </tr>\n",
       "  </thead>\n",
       "  <tbody>\n",
       "    <tr>\n",
       "      <td>санкт-петербург</td>\n",
       "      <td>12545</td>\n",
       "      <td>105034.712031</td>\n",
       "    </tr>\n",
       "    <tr>\n",
       "      <td>мурино</td>\n",
       "      <td>522</td>\n",
       "      <td>85915.986714</td>\n",
       "    </tr>\n",
       "    <tr>\n",
       "      <td>шушары</td>\n",
       "      <td>417</td>\n",
       "      <td>78647.981165</td>\n",
       "    </tr>\n",
       "    <tr>\n",
       "      <td>всеволожск</td>\n",
       "      <td>365</td>\n",
       "      <td>67080.918976</td>\n",
       "    </tr>\n",
       "    <tr>\n",
       "      <td>колпино</td>\n",
       "      <td>321</td>\n",
       "      <td>75122.070861</td>\n",
       "    </tr>\n",
       "    <tr>\n",
       "      <td>парголово</td>\n",
       "      <td>312</td>\n",
       "      <td>89914.894072</td>\n",
       "    </tr>\n",
       "    <tr>\n",
       "      <td>пушкин</td>\n",
       "      <td>311</td>\n",
       "      <td>99836.328823</td>\n",
       "    </tr>\n",
       "    <tr>\n",
       "      <td>гатчина</td>\n",
       "      <td>281</td>\n",
       "      <td>68582.891681</td>\n",
       "    </tr>\n",
       "    <tr>\n",
       "      <td>кудрово</td>\n",
       "      <td>265</td>\n",
       "      <td>92585.904864</td>\n",
       "    </tr>\n",
       "    <tr>\n",
       "      <td>выборг</td>\n",
       "      <td>221</td>\n",
       "      <td>57926.425617</td>\n",
       "    </tr>\n",
       "  </tbody>\n",
       "</table>\n",
       "</div>"
      ],
      "text/plain": [
       "                 count           mean\n",
       "locality_name                        \n",
       "санкт-петербург  12545  105034.712031\n",
       " мурино            522   85915.986714\n",
       " шушары            417   78647.981165\n",
       "всеволожск         365   67080.918976\n",
       "колпино            321   75122.070861\n",
       " парголово         312   89914.894072\n",
       "пушкин             311   99836.328823\n",
       "гатчина            281   68582.891681\n",
       " кудрово           265   92585.904864\n",
       "выборг             221   57926.425617"
      ]
     },
     "execution_count": 188,
     "metadata": {},
     "output_type": "execute_result"
    }
   ],
   "source": [
    "#Выберем 10 населённых пунктов с наибольшим числом объявлений\n",
    "biggest_cities = df.pivot_table(index='locality_name',values='price_m2',aggfunc=('count','mean'))\n",
    "biggest_cities.sort_values(by='count',ascending=False).head(10)"
   ]
  },
  {
   "cell_type": "markdown",
   "metadata": {},
   "source": [
    "Самая дорогая недвижимость в Питере, а самая дешевая в Выборге."
   ]
  },
  {
   "cell_type": "markdown",
   "metadata": {},
   "source": [
    "<div style=\"border:solid green 2px; padding: 20px\"> \n",
    "    \n",
    "**Комментарий ревьюера**\n",
    "\n",
    "**#ок**\n",
    "\n",
    "Топ получен правильно. После обработки названий числа немного скорректируются, но радикально картина не изменится\n",
    "    \n",
    "</div>"
   ]
  },
  {
   "cell_type": "markdown",
   "metadata": {},
   "source": [
    "**Квартиры в Петербурге**"
   ]
  },
  {
   "cell_type": "code",
   "execution_count": 189,
   "metadata": {},
   "outputs": [],
   "source": [
    "#выделим квартиры в Петербурге\n",
    "saint_p = df.query('locality_name == \"санкт-петербург\"')\n",
    "#округлим\n",
    "saint_p['cityCenters_nearest'] = saint_p['cityCenters_nearest'].round()"
   ]
  },
  {
   "cell_type": "code",
   "execution_count": 190,
   "metadata": {},
   "outputs": [
    {
     "data": {
      "text/plain": [
       "<matplotlib.axes._subplots.AxesSubplot at 0x7f1cc76f4490>"
      ]
     },
     "execution_count": 190,
     "metadata": {},
     "output_type": "execute_result"
    },
    {
     "data": {
      "image/png": "[encoded data removed]",
      "text/plain": [
       "<Figure size 1080x576 with 1 Axes>"
      ]
     },
     "metadata": {
      "needs_background": "light"
     },
     "output_type": "display_data"
    }
   ],
   "source": [
    "#строим график зависимости цены от удаленности к центру\n",
    "(\n",
    "    saint_p.groupby('cityCenters_nearest')['last_price'].median().plot\n",
    "    (x='cityCenters_nearest',y='last_price',style='-',grid=True,figsize=(15,8),alpha=1)\n",
    ")"
   ]
  },
  {
   "cell_type": "markdown",
   "metadata": {},
   "source": [
    "Цена максимальна в пределах 5 километров от центра - это центральная зона, по удалении она начинает быстро падать."
   ]
  },
  {
   "cell_type": "markdown",
   "metadata": {},
   "source": [
    "**Центральная зона Питера**"
   ]
  },
  {
   "cell_type": "code",
   "execution_count": 191,
   "metadata": {},
   "outputs": [
    {
     "data": {
      "text/html": [
       "<div>\n",
       "<style scoped>\n",
       "    .dataframe tbody tr th:only-of-type {\n",
       "        vertical-align: middle;\n",
       "    }\n",
       "\n",
       "    .dataframe tbody tr th {\n",
       "        vertical-align: top;\n",
       "    }\n",
       "\n",
       "    .dataframe thead th {\n",
       "        text-align: right;\n",
       "    }\n",
       "</style>\n",
       "<table border=\"1\" class=\"dataframe\">\n",
       "  <thead>\n",
       "    <tr style=\"text-align: right;\">\n",
       "      <th></th>\n",
       "      <th>total_images</th>\n",
       "      <th>last_price</th>\n",
       "      <th>total_area</th>\n",
       "      <th>rooms</th>\n",
       "      <th>ceiling_height</th>\n",
       "      <th>floors_total</th>\n",
       "      <th>living_area</th>\n",
       "      <th>floor</th>\n",
       "      <th>kitchen_area</th>\n",
       "      <th>balcony</th>\n",
       "      <th>...</th>\n",
       "      <th>parks_nearest</th>\n",
       "      <th>ponds_around3000</th>\n",
       "      <th>ponds_nearest</th>\n",
       "      <th>days_exposition</th>\n",
       "      <th>price_m2</th>\n",
       "      <th>weekday</th>\n",
       "      <th>month</th>\n",
       "      <th>year</th>\n",
       "      <th>ratio_living_total</th>\n",
       "      <th>ratio_kitchen_total</th>\n",
       "    </tr>\n",
       "  </thead>\n",
       "  <tbody>\n",
       "    <tr>\n",
       "      <td>count</td>\n",
       "      <td>1263.0</td>\n",
       "      <td>1263.0</td>\n",
       "      <td>1263.0</td>\n",
       "      <td>1263.0</td>\n",
       "      <td>1263.0</td>\n",
       "      <td>1263.0</td>\n",
       "      <td>1263.0</td>\n",
       "      <td>1263.0</td>\n",
       "      <td>1263.0</td>\n",
       "      <td>1263.0</td>\n",
       "      <td>...</td>\n",
       "      <td>812.0</td>\n",
       "      <td>1263.0</td>\n",
       "      <td>924.0</td>\n",
       "      <td>1263.0</td>\n",
       "      <td>1263.0</td>\n",
       "      <td>1263.0</td>\n",
       "      <td>1263.0</td>\n",
       "      <td>1263.0</td>\n",
       "      <td>1263.0</td>\n",
       "      <td>1263.0</td>\n",
       "    </tr>\n",
       "    <tr>\n",
       "      <td>mean</td>\n",
       "      <td>9.6</td>\n",
       "      <td>7307368.6</td>\n",
       "      <td>67.3</td>\n",
       "      <td>2.4</td>\n",
       "      <td>2.8</td>\n",
       "      <td>6.1</td>\n",
       "      <td>39.6</td>\n",
       "      <td>3.5</td>\n",
       "      <td>11.3</td>\n",
       "      <td>0.2</td>\n",
       "      <td>...</td>\n",
       "      <td>466.5</td>\n",
       "      <td>1.3</td>\n",
       "      <td>473.7</td>\n",
       "      <td>148.8</td>\n",
       "      <td>115151.9</td>\n",
       "      <td>2.5</td>\n",
       "      <td>6.6</td>\n",
       "      <td>2017.4</td>\n",
       "      <td>0.6</td>\n",
       "      <td>0.2</td>\n",
       "    </tr>\n",
       "    <tr>\n",
       "      <td>std</td>\n",
       "      <td>5.7</td>\n",
       "      <td>1930866.8</td>\n",
       "      <td>23.4</td>\n",
       "      <td>1.0</td>\n",
       "      <td>0.2</td>\n",
       "      <td>3.3</td>\n",
       "      <td>16.7</td>\n",
       "      <td>2.3</td>\n",
       "      <td>4.5</td>\n",
       "      <td>0.6</td>\n",
       "      <td>...</td>\n",
       "      <td>319.5</td>\n",
       "      <td>1.1</td>\n",
       "      <td>279.4</td>\n",
       "      <td>118.9</td>\n",
       "      <td>30621.6</td>\n",
       "      <td>1.7</td>\n",
       "      <td>3.4</td>\n",
       "      <td>0.9</td>\n",
       "      <td>0.1</td>\n",
       "      <td>0.1</td>\n",
       "    </tr>\n",
       "    <tr>\n",
       "      <td>min</td>\n",
       "      <td>0.0</td>\n",
       "      <td>1600000.0</td>\n",
       "      <td>12.0</td>\n",
       "      <td>1.0</td>\n",
       "      <td>2.4</td>\n",
       "      <td>2.0</td>\n",
       "      <td>6.0</td>\n",
       "      <td>1.0</td>\n",
       "      <td>2.0</td>\n",
       "      <td>0.0</td>\n",
       "      <td>...</td>\n",
       "      <td>17.0</td>\n",
       "      <td>0.0</td>\n",
       "      <td>22.0</td>\n",
       "      <td>3.0</td>\n",
       "      <td>15345.3</td>\n",
       "      <td>0.0</td>\n",
       "      <td>1.0</td>\n",
       "      <td>2015.0</td>\n",
       "      <td>0.1</td>\n",
       "      <td>0.1</td>\n",
       "    </tr>\n",
       "    <tr>\n",
       "      <td>25%</td>\n",
       "      <td>5.0</td>\n",
       "      <td>5970000.0</td>\n",
       "      <td>50.0</td>\n",
       "      <td>2.0</td>\n",
       "      <td>2.7</td>\n",
       "      <td>5.0</td>\n",
       "      <td>28.0</td>\n",
       "      <td>2.0</td>\n",
       "      <td>8.5</td>\n",
       "      <td>0.0</td>\n",
       "      <td>...</td>\n",
       "      <td>278.0</td>\n",
       "      <td>0.0</td>\n",
       "      <td>227.5</td>\n",
       "      <td>55.0</td>\n",
       "      <td>93295.1</td>\n",
       "      <td>1.0</td>\n",
       "      <td>3.0</td>\n",
       "      <td>2017.0</td>\n",
       "      <td>0.5</td>\n",
       "      <td>0.1</td>\n",
       "    </tr>\n",
       "    <tr>\n",
       "      <td>50%</td>\n",
       "      <td>9.0</td>\n",
       "      <td>7350000.0</td>\n",
       "      <td>65.6</td>\n",
       "      <td>2.0</td>\n",
       "      <td>2.8</td>\n",
       "      <td>5.0</td>\n",
       "      <td>36.6</td>\n",
       "      <td>3.0</td>\n",
       "      <td>10.6</td>\n",
       "      <td>0.0</td>\n",
       "      <td>...</td>\n",
       "      <td>426.0</td>\n",
       "      <td>1.0</td>\n",
       "      <td>450.0</td>\n",
       "      <td>130.0</td>\n",
       "      <td>109958.5</td>\n",
       "      <td>3.0</td>\n",
       "      <td>7.0</td>\n",
       "      <td>2017.0</td>\n",
       "      <td>0.6</td>\n",
       "      <td>0.2</td>\n",
       "    </tr>\n",
       "    <tr>\n",
       "      <td>75%</td>\n",
       "      <td>14.0</td>\n",
       "      <td>8767500.0</td>\n",
       "      <td>82.0</td>\n",
       "      <td>3.0</td>\n",
       "      <td>3.0</td>\n",
       "      <td>6.0</td>\n",
       "      <td>50.0</td>\n",
       "      <td>4.0</td>\n",
       "      <td>12.6</td>\n",
       "      <td>0.0</td>\n",
       "      <td>...</td>\n",
       "      <td>588.0</td>\n",
       "      <td>2.0</td>\n",
       "      <td>693.2</td>\n",
       "      <td>194.0</td>\n",
       "      <td>131538.5</td>\n",
       "      <td>4.0</td>\n",
       "      <td>10.0</td>\n",
       "      <td>2018.0</td>\n",
       "      <td>0.7</td>\n",
       "      <td>0.2</td>\n",
       "    </tr>\n",
       "    <tr>\n",
       "      <td>max</td>\n",
       "      <td>32.0</td>\n",
       "      <td>10999000.0</td>\n",
       "      <td>190.0</td>\n",
       "      <td>6.0</td>\n",
       "      <td>3.0</td>\n",
       "      <td>25.0</td>\n",
       "      <td>108.0</td>\n",
       "      <td>19.0</td>\n",
       "      <td>48.3</td>\n",
       "      <td>5.0</td>\n",
       "      <td>...</td>\n",
       "      <td>2295.0</td>\n",
       "      <td>3.0</td>\n",
       "      <td>1179.0</td>\n",
       "      <td>497.0</td>\n",
       "      <td>292307.7</td>\n",
       "      <td>6.0</td>\n",
       "      <td>12.0</td>\n",
       "      <td>2019.0</td>\n",
       "      <td>2.6</td>\n",
       "      <td>0.9</td>\n",
       "    </tr>\n",
       "  </tbody>\n",
       "</table>\n",
       "<p>8 rows × 23 columns</p>\n",
       "</div>"
      ],
      "text/plain": [
       "       total_images  last_price  total_area   rooms  ceiling_height  \\\n",
       "count        1263.0      1263.0      1263.0  1263.0          1263.0   \n",
       "mean            9.6   7307368.6        67.3     2.4             2.8   \n",
       "std             5.7   1930866.8        23.4     1.0             0.2   \n",
       "min             0.0   1600000.0        12.0     1.0             2.4   \n",
       "25%             5.0   5970000.0        50.0     2.0             2.7   \n",
       "50%             9.0   7350000.0        65.6     2.0             2.8   \n",
       "75%            14.0   8767500.0        82.0     3.0             3.0   \n",
       "max            32.0  10999000.0       190.0     6.0             3.0   \n",
       "\n",
       "       floors_total  living_area   floor  kitchen_area  balcony  ...  \\\n",
       "count        1263.0       1263.0  1263.0        1263.0   1263.0  ...   \n",
       "mean            6.1         39.6     3.5          11.3      0.2  ...   \n",
       "std             3.3         16.7     2.3           4.5      0.6  ...   \n",
       "min             2.0          6.0     1.0           2.0      0.0  ...   \n",
       "25%             5.0         28.0     2.0           8.5      0.0  ...   \n",
       "50%             5.0         36.6     3.0          10.6      0.0  ...   \n",
       "75%             6.0         50.0     4.0          12.6      0.0  ...   \n",
       "max            25.0        108.0    19.0          48.3      5.0  ...   \n",
       "\n",
       "       parks_nearest  ponds_around3000  ponds_nearest  days_exposition  \\\n",
       "count          812.0            1263.0          924.0           1263.0   \n",
       "mean           466.5               1.3          473.7            148.8   \n",
       "std            319.5               1.1          279.4            118.9   \n",
       "min             17.0               0.0           22.0              3.0   \n",
       "25%            278.0               0.0          227.5             55.0   \n",
       "50%            426.0               1.0          450.0            130.0   \n",
       "75%            588.0               2.0          693.2            194.0   \n",
       "max           2295.0               3.0         1179.0            497.0   \n",
       "\n",
       "       price_m2  weekday   month    year  ratio_living_total  \\\n",
       "count    1263.0   1263.0  1263.0  1263.0              1263.0   \n",
       "mean   115151.9      2.5     6.6  2017.4                 0.6   \n",
       "std     30621.6      1.7     3.4     0.9                 0.1   \n",
       "min     15345.3      0.0     1.0  2015.0                 0.1   \n",
       "25%     93295.1      1.0     3.0  2017.0                 0.5   \n",
       "50%    109958.5      3.0     7.0  2017.0                 0.6   \n",
       "75%    131538.5      4.0    10.0  2018.0                 0.7   \n",
       "max    292307.7      6.0    12.0  2019.0                 2.6   \n",
       "\n",
       "       ratio_kitchen_total  \n",
       "count               1263.0  \n",
       "mean                   0.2  \n",
       "std                    0.1  \n",
       "min                    0.1  \n",
       "25%                    0.1  \n",
       "50%                    0.2  \n",
       "75%                    0.2  \n",
       "max                    0.9  \n",
       "\n",
       "[8 rows x 23 columns]"
      ]
     },
     "execution_count": 191,
     "metadata": {},
     "output_type": "execute_result"
    }
   ],
   "source": [
    "#рассмотрим центральную зону Питера\n",
    "centre_saint_p = saint_p.query('cityCenters_nearest <= 5')\n",
    "centre_saint_p.describe().round(1)"
   ]
  },
  {
   "cell_type": "code",
   "execution_count": 192,
   "metadata": {},
   "outputs": [
    {
     "data": {
      "text/html": [
       "<div>\n",
       "<style scoped>\n",
       "    .dataframe tbody tr th:only-of-type {\n",
       "        vertical-align: middle;\n",
       "    }\n",
       "\n",
       "    .dataframe tbody tr th {\n",
       "        vertical-align: top;\n",
       "    }\n",
       "\n",
       "    .dataframe thead th {\n",
       "        text-align: right;\n",
       "    }\n",
       "</style>\n",
       "<table border=\"1\" class=\"dataframe\">\n",
       "  <thead>\n",
       "    <tr style=\"text-align: right;\">\n",
       "      <th></th>\n",
       "      <th>total_images</th>\n",
       "      <th>last_price</th>\n",
       "      <th>total_area</th>\n",
       "      <th>rooms</th>\n",
       "      <th>ceiling_height</th>\n",
       "      <th>floors_total</th>\n",
       "      <th>living_area</th>\n",
       "      <th>floor</th>\n",
       "      <th>kitchen_area</th>\n",
       "      <th>balcony</th>\n",
       "      <th>...</th>\n",
       "      <th>parks_nearest</th>\n",
       "      <th>ponds_around3000</th>\n",
       "      <th>ponds_nearest</th>\n",
       "      <th>days_exposition</th>\n",
       "      <th>price_m2</th>\n",
       "      <th>weekday</th>\n",
       "      <th>month</th>\n",
       "      <th>year</th>\n",
       "      <th>ratio_living_total</th>\n",
       "      <th>ratio_kitchen_total</th>\n",
       "    </tr>\n",
       "  </thead>\n",
       "  <tbody>\n",
       "    <tr>\n",
       "      <td>count</td>\n",
       "      <td>12545.0</td>\n",
       "      <td>12545.0</td>\n",
       "      <td>12545.0</td>\n",
       "      <td>12545.0</td>\n",
       "      <td>12545.0</td>\n",
       "      <td>12545.0</td>\n",
       "      <td>12545.0</td>\n",
       "      <td>12545.0</td>\n",
       "      <td>12545.0</td>\n",
       "      <td>12545.0</td>\n",
       "      <td>...</td>\n",
       "      <td>5392.0</td>\n",
       "      <td>12504.0</td>\n",
       "      <td>6035.0</td>\n",
       "      <td>12545.0</td>\n",
       "      <td>12545.0</td>\n",
       "      <td>12545.0</td>\n",
       "      <td>12545.0</td>\n",
       "      <td>12545.0</td>\n",
       "      <td>12545.0</td>\n",
       "      <td>12545.0</td>\n",
       "    </tr>\n",
       "    <tr>\n",
       "      <td>mean</td>\n",
       "      <td>10.0</td>\n",
       "      <td>5515935.5</td>\n",
       "      <td>53.5</td>\n",
       "      <td>1.9</td>\n",
       "      <td>2.7</td>\n",
       "      <td>11.6</td>\n",
       "      <td>31.0</td>\n",
       "      <td>6.3</td>\n",
       "      <td>9.7</td>\n",
       "      <td>0.6</td>\n",
       "      <td>...</td>\n",
       "      <td>493.3</td>\n",
       "      <td>0.7</td>\n",
       "      <td>542.4</td>\n",
       "      <td>128.3</td>\n",
       "      <td>105034.7</td>\n",
       "      <td>2.6</td>\n",
       "      <td>6.4</td>\n",
       "      <td>2017.5</td>\n",
       "      <td>0.6</td>\n",
       "      <td>0.2</td>\n",
       "    </tr>\n",
       "    <tr>\n",
       "      <td>std</td>\n",
       "      <td>5.5</td>\n",
       "      <td>1934723.7</td>\n",
       "      <td>18.5</td>\n",
       "      <td>0.9</td>\n",
       "      <td>0.1</td>\n",
       "      <td>6.4</td>\n",
       "      <td>12.8</td>\n",
       "      <td>4.9</td>\n",
       "      <td>3.6</td>\n",
       "      <td>0.9</td>\n",
       "      <td>...</td>\n",
       "      <td>318.7</td>\n",
       "      <td>0.9</td>\n",
       "      <td>278.5</td>\n",
       "      <td>111.1</td>\n",
       "      <td>22654.7</td>\n",
       "      <td>1.8</td>\n",
       "      <td>3.5</td>\n",
       "      <td>0.9</td>\n",
       "      <td>0.1</td>\n",
       "      <td>0.1</td>\n",
       "    </tr>\n",
       "    <tr>\n",
       "      <td>min</td>\n",
       "      <td>0.0</td>\n",
       "      <td>1190000.0</td>\n",
       "      <td>12.0</td>\n",
       "      <td>1.0</td>\n",
       "      <td>2.2</td>\n",
       "      <td>1.0</td>\n",
       "      <td>2.0</td>\n",
       "      <td>1.0</td>\n",
       "      <td>1.3</td>\n",
       "      <td>0.0</td>\n",
       "      <td>...</td>\n",
       "      <td>1.0</td>\n",
       "      <td>0.0</td>\n",
       "      <td>16.0</td>\n",
       "      <td>1.0</td>\n",
       "      <td>15345.3</td>\n",
       "      <td>0.0</td>\n",
       "      <td>1.0</td>\n",
       "      <td>2014.0</td>\n",
       "      <td>0.0</td>\n",
       "      <td>0.0</td>\n",
       "    </tr>\n",
       "    <tr>\n",
       "      <td>25%</td>\n",
       "      <td>6.0</td>\n",
       "      <td>4000000.0</td>\n",
       "      <td>40.0</td>\n",
       "      <td>1.0</td>\n",
       "      <td>2.6</td>\n",
       "      <td>6.0</td>\n",
       "      <td>19.0</td>\n",
       "      <td>3.0</td>\n",
       "      <td>7.0</td>\n",
       "      <td>0.0</td>\n",
       "      <td>...</td>\n",
       "      <td>302.0</td>\n",
       "      <td>0.0</td>\n",
       "      <td>328.0</td>\n",
       "      <td>42.0</td>\n",
       "      <td>89506.2</td>\n",
       "      <td>1.0</td>\n",
       "      <td>3.0</td>\n",
       "      <td>2017.0</td>\n",
       "      <td>0.5</td>\n",
       "      <td>0.1</td>\n",
       "    </tr>\n",
       "    <tr>\n",
       "      <td>50%</td>\n",
       "      <td>10.0</td>\n",
       "      <td>5050000.0</td>\n",
       "      <td>50.0</td>\n",
       "      <td>2.0</td>\n",
       "      <td>2.7</td>\n",
       "      <td>9.0</td>\n",
       "      <td>30.2</td>\n",
       "      <td>5.0</td>\n",
       "      <td>9.4</td>\n",
       "      <td>0.0</td>\n",
       "      <td>...</td>\n",
       "      <td>463.0</td>\n",
       "      <td>0.0</td>\n",
       "      <td>533.0</td>\n",
       "      <td>96.0</td>\n",
       "      <td>101724.1</td>\n",
       "      <td>3.0</td>\n",
       "      <td>6.0</td>\n",
       "      <td>2018.0</td>\n",
       "      <td>0.6</td>\n",
       "      <td>0.2</td>\n",
       "    </tr>\n",
       "    <tr>\n",
       "      <td>75%</td>\n",
       "      <td>14.0</td>\n",
       "      <td>6700000.0</td>\n",
       "      <td>64.0</td>\n",
       "      <td>3.0</td>\n",
       "      <td>2.7</td>\n",
       "      <td>16.0</td>\n",
       "      <td>38.6</td>\n",
       "      <td>9.0</td>\n",
       "      <td>11.0</td>\n",
       "      <td>1.0</td>\n",
       "      <td>...</td>\n",
       "      <td>619.0</td>\n",
       "      <td>1.0</td>\n",
       "      <td>758.0</td>\n",
       "      <td>180.0</td>\n",
       "      <td>117021.3</td>\n",
       "      <td>4.0</td>\n",
       "      <td>10.0</td>\n",
       "      <td>2018.0</td>\n",
       "      <td>0.6</td>\n",
       "      <td>0.2</td>\n",
       "    </tr>\n",
       "    <tr>\n",
       "      <td>max</td>\n",
       "      <td>32.0</td>\n",
       "      <td>10999000.0</td>\n",
       "      <td>190.0</td>\n",
       "      <td>6.0</td>\n",
       "      <td>3.0</td>\n",
       "      <td>52.0</td>\n",
       "      <td>112.0</td>\n",
       "      <td>33.0</td>\n",
       "      <td>48.3</td>\n",
       "      <td>5.0</td>\n",
       "      <td>...</td>\n",
       "      <td>3190.0</td>\n",
       "      <td>3.0</td>\n",
       "      <td>1337.0</td>\n",
       "      <td>499.0</td>\n",
       "      <td>312240.0</td>\n",
       "      <td>6.0</td>\n",
       "      <td>12.0</td>\n",
       "      <td>2019.0</td>\n",
       "      <td>2.7</td>\n",
       "      <td>0.9</td>\n",
       "    </tr>\n",
       "  </tbody>\n",
       "</table>\n",
       "<p>8 rows × 23 columns</p>\n",
       "</div>"
      ],
      "text/plain": [
       "       total_images  last_price  total_area    rooms  ceiling_height  \\\n",
       "count       12545.0     12545.0     12545.0  12545.0         12545.0   \n",
       "mean           10.0   5515935.5        53.5      1.9             2.7   \n",
       "std             5.5   1934723.7        18.5      0.9             0.1   \n",
       "min             0.0   1190000.0        12.0      1.0             2.2   \n",
       "25%             6.0   4000000.0        40.0      1.0             2.6   \n",
       "50%            10.0   5050000.0        50.0      2.0             2.7   \n",
       "75%            14.0   6700000.0        64.0      3.0             2.7   \n",
       "max            32.0  10999000.0       190.0      6.0             3.0   \n",
       "\n",
       "       floors_total  living_area    floor  kitchen_area  balcony  ...  \\\n",
       "count       12545.0      12545.0  12545.0       12545.0  12545.0  ...   \n",
       "mean           11.6         31.0      6.3           9.7      0.6  ...   \n",
       "std             6.4         12.8      4.9           3.6      0.9  ...   \n",
       "min             1.0          2.0      1.0           1.3      0.0  ...   \n",
       "25%             6.0         19.0      3.0           7.0      0.0  ...   \n",
       "50%             9.0         30.2      5.0           9.4      0.0  ...   \n",
       "75%            16.0         38.6      9.0          11.0      1.0  ...   \n",
       "max            52.0        112.0     33.0          48.3      5.0  ...   \n",
       "\n",
       "       parks_nearest  ponds_around3000  ponds_nearest  days_exposition  \\\n",
       "count         5392.0           12504.0         6035.0          12545.0   \n",
       "mean           493.3               0.7          542.4            128.3   \n",
       "std            318.7               0.9          278.5            111.1   \n",
       "min              1.0               0.0           16.0              1.0   \n",
       "25%            302.0               0.0          328.0             42.0   \n",
       "50%            463.0               0.0          533.0             96.0   \n",
       "75%            619.0               1.0          758.0            180.0   \n",
       "max           3190.0               3.0         1337.0            499.0   \n",
       "\n",
       "       price_m2  weekday    month     year  ratio_living_total  \\\n",
       "count   12545.0  12545.0  12545.0  12545.0             12545.0   \n",
       "mean   105034.7      2.6      6.4   2017.5                 0.6   \n",
       "std     22654.7      1.8      3.5      0.9                 0.1   \n",
       "min     15345.3      0.0      1.0   2014.0                 0.0   \n",
       "25%     89506.2      1.0      3.0   2017.0                 0.5   \n",
       "50%    101724.1      3.0      6.0   2018.0                 0.6   \n",
       "75%    117021.3      4.0     10.0   2018.0                 0.6   \n",
       "max    312240.0      6.0     12.0   2019.0                 2.7   \n",
       "\n",
       "       ratio_kitchen_total  \n",
       "count              12545.0  \n",
       "mean                   0.2  \n",
       "std                    0.1  \n",
       "min                    0.0  \n",
       "25%                    0.1  \n",
       "50%                    0.2  \n",
       "75%                    0.2  \n",
       "max                    0.9  \n",
       "\n",
       "[8 rows x 23 columns]"
      ]
     },
     "execution_count": 192,
     "metadata": {},
     "output_type": "execute_result"
    }
   ],
   "source": [
    "#рассмотрим весь город\n",
    "saint_p.describe().round(1)"
   ]
  },
  {
   "cell_type": "markdown",
   "metadata": {},
   "source": [
    "Для центральной зоны Петербурга характерны следующие средние параметры:\n",
    "+ площадь: 66.6\n",
    "+ цена: 7172172.5\n",
    "+ число комнат: 2.4\n",
    "+ высота потолков: 2.8 \n",
    " \n",
    "Для всего города показатели следующие:\n",
    "+ площадь: 51.9\n",
    "+ цена: 4665076.4\t\n",
    "+ число комнат: 1.9\n",
    "+ высота потолков: 2.7 \n",
    "\n",
    "Отсюда вывод:\n",
    "\n",
    "В центре квартиры побогаче, имеют больше комнат, большую площадь и более высокую стоимость."
   ]
  },
  {
   "cell_type": "markdown",
   "metadata": {},
   "source": [
    "**Факторы, которые влияют на стоимость квартиры (число комнат, этаж, удалённость от центра, дата размещения объявления)**"
   ]
  },
  {
   "cell_type": "code",
   "execution_count": 193,
   "metadata": {},
   "outputs": [
    {
     "data": {
      "text/html": [
       "<div>\n",
       "<style scoped>\n",
       "    .dataframe tbody tr th:only-of-type {\n",
       "        vertical-align: middle;\n",
       "    }\n",
       "\n",
       "    .dataframe tbody tr th {\n",
       "        vertical-align: top;\n",
       "    }\n",
       "\n",
       "    .dataframe thead th {\n",
       "        text-align: right;\n",
       "    }\n",
       "</style>\n",
       "<table border=\"1\" class=\"dataframe\">\n",
       "  <thead>\n",
       "    <tr style=\"text-align: right;\">\n",
       "      <th></th>\n",
       "      <th>last_price</th>\n",
       "      <th>rooms</th>\n",
       "      <th>floor</th>\n",
       "      <th>cityCenters_nearest</th>\n",
       "      <th>days_exposition</th>\n",
       "    </tr>\n",
       "  </thead>\n",
       "  <tbody>\n",
       "    <tr>\n",
       "      <td>last_price</td>\n",
       "      <td>1.000000</td>\n",
       "      <td>0.461962</td>\n",
       "      <td>0.131264</td>\n",
       "      <td>-0.066221</td>\n",
       "      <td>0.132768</td>\n",
       "    </tr>\n",
       "    <tr>\n",
       "      <td>rooms</td>\n",
       "      <td>0.461962</td>\n",
       "      <td>1.000000</td>\n",
       "      <td>-0.109735</td>\n",
       "      <td>-0.082574</td>\n",
       "      <td>0.115592</td>\n",
       "    </tr>\n",
       "    <tr>\n",
       "      <td>floor</td>\n",
       "      <td>0.131264</td>\n",
       "      <td>-0.109735</td>\n",
       "      <td>1.000000</td>\n",
       "      <td>0.184885</td>\n",
       "      <td>-0.019480</td>\n",
       "    </tr>\n",
       "    <tr>\n",
       "      <td>cityCenters_nearest</td>\n",
       "      <td>-0.066221</td>\n",
       "      <td>-0.082574</td>\n",
       "      <td>0.184885</td>\n",
       "      <td>1.000000</td>\n",
       "      <td>0.012689</td>\n",
       "    </tr>\n",
       "    <tr>\n",
       "      <td>days_exposition</td>\n",
       "      <td>0.132768</td>\n",
       "      <td>0.115592</td>\n",
       "      <td>-0.019480</td>\n",
       "      <td>0.012689</td>\n",
       "      <td>1.000000</td>\n",
       "    </tr>\n",
       "  </tbody>\n",
       "</table>\n",
       "</div>"
      ],
      "text/plain": [
       "                     last_price     rooms     floor  cityCenters_nearest  \\\n",
       "last_price             1.000000  0.461962  0.131264            -0.066221   \n",
       "rooms                  0.461962  1.000000 -0.109735            -0.082574   \n",
       "floor                  0.131264 -0.109735  1.000000             0.184885   \n",
       "cityCenters_nearest   -0.066221 -0.082574  0.184885             1.000000   \n",
       "days_exposition        0.132768  0.115592 -0.019480             0.012689   \n",
       "\n",
       "                     days_exposition  \n",
       "last_price                  0.132768  \n",
       "rooms                       0.115592  \n",
       "floor                      -0.019480  \n",
       "cityCenters_nearest         0.012689  \n",
       "days_exposition             1.000000  "
      ]
     },
     "execution_count": 193,
     "metadata": {},
     "output_type": "execute_result"
    }
   ],
   "source": [
    "#обратим внимание насколько коррелируют к цене различные факторы в центре города\n",
    "centre_saint_p[['last_price','rooms', 'floor', 'cityCenters_nearest','days_exposition']].corr()"
   ]
  },
  {
   "cell_type": "code",
   "execution_count": 194,
   "metadata": {},
   "outputs": [
    {
     "data": {
      "text/html": [
       "<div>\n",
       "<style scoped>\n",
       "    .dataframe tbody tr th:only-of-type {\n",
       "        vertical-align: middle;\n",
       "    }\n",
       "\n",
       "    .dataframe tbody tr th {\n",
       "        vertical-align: top;\n",
       "    }\n",
       "\n",
       "    .dataframe thead th {\n",
       "        text-align: right;\n",
       "    }\n",
       "</style>\n",
       "<table border=\"1\" class=\"dataframe\">\n",
       "  <thead>\n",
       "    <tr style=\"text-align: right;\">\n",
       "      <th></th>\n",
       "      <th>last_price</th>\n",
       "      <th>rooms</th>\n",
       "      <th>floor</th>\n",
       "      <th>cityCenters_nearest</th>\n",
       "      <th>days_exposition</th>\n",
       "    </tr>\n",
       "  </thead>\n",
       "  <tbody>\n",
       "    <tr>\n",
       "      <td>last_price</td>\n",
       "      <td>1.000000</td>\n",
       "      <td>0.513781</td>\n",
       "      <td>0.058550</td>\n",
       "      <td>-0.336424</td>\n",
       "      <td>0.108147</td>\n",
       "    </tr>\n",
       "    <tr>\n",
       "      <td>rooms</td>\n",
       "      <td>0.513781</td>\n",
       "      <td>1.000000</td>\n",
       "      <td>-0.192165</td>\n",
       "      <td>-0.146125</td>\n",
       "      <td>0.083432</td>\n",
       "    </tr>\n",
       "    <tr>\n",
       "      <td>floor</td>\n",
       "      <td>0.058550</td>\n",
       "      <td>-0.192165</td>\n",
       "      <td>1.000000</td>\n",
       "      <td>0.217276</td>\n",
       "      <td>-0.032148</td>\n",
       "    </tr>\n",
       "    <tr>\n",
       "      <td>cityCenters_nearest</td>\n",
       "      <td>-0.336424</td>\n",
       "      <td>-0.146125</td>\n",
       "      <td>0.217276</td>\n",
       "      <td>1.000000</td>\n",
       "      <td>-0.041904</td>\n",
       "    </tr>\n",
       "    <tr>\n",
       "      <td>days_exposition</td>\n",
       "      <td>0.108147</td>\n",
       "      <td>0.083432</td>\n",
       "      <td>-0.032148</td>\n",
       "      <td>-0.041904</td>\n",
       "      <td>1.000000</td>\n",
       "    </tr>\n",
       "  </tbody>\n",
       "</table>\n",
       "</div>"
      ],
      "text/plain": [
       "                     last_price     rooms     floor  cityCenters_nearest  \\\n",
       "last_price             1.000000  0.513781  0.058550            -0.336424   \n",
       "rooms                  0.513781  1.000000 -0.192165            -0.146125   \n",
       "floor                  0.058550 -0.192165  1.000000             0.217276   \n",
       "cityCenters_nearest   -0.336424 -0.146125  0.217276             1.000000   \n",
       "days_exposition        0.108147  0.083432 -0.032148            -0.041904   \n",
       "\n",
       "                     days_exposition  \n",
       "last_price                  0.108147  \n",
       "rooms                       0.083432  \n",
       "floor                      -0.032148  \n",
       "cityCenters_nearest        -0.041904  \n",
       "days_exposition             1.000000  "
      ]
     },
     "execution_count": 194,
     "metadata": {},
     "output_type": "execute_result"
    }
   ],
   "source": [
    "#обратим внимание насколько коррелируют к цене различные факторы во всем городе\n",
    "saint_p[['last_price','rooms', 'floor', 'cityCenters_nearest','days_exposition']].corr()"
   ]
  },
  {
   "cell_type": "markdown",
   "metadata": {},
   "source": [
    "как видно в масштабах всего города, цена наиболее сильно зависит от количества комнат и удаленности от центра, что логично, в центральной зоне Питера удаленность от центра почти не играет никакой роли, потому что центр города как мы уже выяснили из предыдущего исследования, ограничен всего 5км."
   ]
  },
  {
   "cell_type": "markdown",
   "metadata": {},
   "source": [
    "## Общий вывод"
   ]
  },
  {
   "cell_type": "markdown",
   "metadata": {},
   "source": [
    "Из проведенного исследования выяснилось, что наибольшее количество объявлений в регионе относится к квартирам площадью до 50 квадратов и стоимостью от 3 до 5 млн рублей. Основная масса - это однушки и двушки.  Больше всего квартир продается в интервале от 45 дней до 232. Для продажи квартиры требуется чуть больше трех месяцев. Цена растет с увеличением площади, числа комнат и близости к центру населенного пункта. Цена на первом и последнем этаже ниже рынка, неписанное правило, на первом этаже заметно больше шума и выше вероятность появления всяких вредителей, на последнем этаже проблема лифта и протечек крыш.\n",
    "По субботам и воскресеньям проводится меньше сделок, также меньше всего продаж в декабре, январе в мае. Больше всего сделок проводится в феврале, ноябре. Пик продаж недвижимости пришелся на 2017-2018 года, если бы в датафреме присутствовали сделки за 2020 и 2021 год, их было бы в разы больше из за низкой ставки ЦБ."
   ]
  }
 ],
 "metadata": {
  "ExecuteTimeLog": [
   {
    "duration": 2981,
    "start_time": "2021-12-27T15:15:15.553Z"
   },
   {
    "duration": 2276,
    "start_time": "2021-12-27T15:16:20.423Z"
   },
   {
    "duration": 2028,
    "start_time": "2021-12-27T15:16:34.252Z"
   },
   {
    "duration": 90,
    "start_time": "2021-12-27T15:17:24.208Z"
   },
   {
    "duration": 79,
    "start_time": "2021-12-27T15:18:00.923Z"
   },
   {
    "duration": 77,
    "start_time": "2021-12-27T15:18:11.056Z"
   },
   {
    "duration": 76,
    "start_time": "2021-12-27T15:18:53.407Z"
   },
   {
    "duration": 71,
    "start_time": "2021-12-27T15:19:07.010Z"
   },
   {
    "duration": 82,
    "start_time": "2021-12-27T15:19:11.696Z"
   },
   {
    "duration": 2075,
    "start_time": "2021-12-27T15:21:02.221Z"
   },
   {
    "duration": 79,
    "start_time": "2021-12-27T15:21:11.934Z"
   },
   {
    "duration": 80,
    "start_time": "2021-12-27T15:25:02.219Z"
   },
   {
    "duration": 755,
    "start_time": "2021-12-27T15:26:14.551Z"
   },
   {
    "duration": 77,
    "start_time": "2021-12-27T15:26:24.442Z"
   },
   {
    "duration": 1871,
    "start_time": "2021-12-27T15:29:16.570Z"
   },
   {
    "duration": 77,
    "start_time": "2021-12-27T15:29:23.331Z"
   },
   {
    "duration": 83,
    "start_time": "2021-12-27T15:42:19.641Z"
   },
   {
    "duration": 81,
    "start_time": "2021-12-27T15:42:40.514Z"
   },
   {
    "duration": 81,
    "start_time": "2021-12-27T15:42:49.281Z"
   },
   {
    "duration": 77,
    "start_time": "2021-12-27T15:44:34.462Z"
   },
   {
    "duration": 81,
    "start_time": "2021-12-27T15:44:42.566Z"
   },
   {
    "duration": 126,
    "start_time": "2021-12-27T15:45:31.032Z"
   },
   {
    "duration": 18,
    "start_time": "2021-12-27T15:47:58.827Z"
   },
   {
    "duration": 84,
    "start_time": "2021-12-27T15:52:58.109Z"
   },
   {
    "duration": 93,
    "start_time": "2021-12-27T15:53:17.584Z"
   },
   {
    "duration": 89,
    "start_time": "2021-12-27T15:53:23.289Z"
   },
   {
    "duration": 82,
    "start_time": "2021-12-27T15:59:16.804Z"
   },
   {
    "duration": 85,
    "start_time": "2021-12-27T15:59:38.614Z"
   },
   {
    "duration": 6,
    "start_time": "2021-12-27T15:59:50.783Z"
   },
   {
    "duration": 5,
    "start_time": "2021-12-27T16:00:08.508Z"
   },
   {
    "duration": 77,
    "start_time": "2021-12-27T16:34:05.337Z"
   },
   {
    "duration": 258,
    "start_time": "2021-12-27T16:34:24.763Z"
   },
   {
    "duration": 261,
    "start_time": "2021-12-27T16:34:44.181Z"
   },
   {
    "duration": 121,
    "start_time": "2021-12-27T16:34:57.142Z"
   },
   {
    "duration": 16,
    "start_time": "2021-12-27T16:35:00.084Z"
   },
   {
    "duration": 5,
    "start_time": "2021-12-27T16:35:04.967Z"
   },
   {
    "duration": 257,
    "start_time": "2021-12-27T16:35:07.020Z"
   },
   {
    "duration": 291,
    "start_time": "2021-12-27T16:35:20.045Z"
   },
   {
    "duration": 6,
    "start_time": "2021-12-27T16:35:46.258Z"
   },
   {
    "duration": 7,
    "start_time": "2021-12-27T16:40:33.132Z"
   },
   {
    "duration": 45,
    "start_time": "2021-12-27T16:40:39.213Z"
   },
   {
    "duration": 45,
    "start_time": "2021-12-27T16:41:06.814Z"
   },
   {
    "duration": 7,
    "start_time": "2021-12-27T16:44:27.637Z"
   },
   {
    "duration": 126,
    "start_time": "2021-12-27T16:44:38.401Z"
   },
   {
    "duration": 16,
    "start_time": "2021-12-27T16:44:39.784Z"
   },
   {
    "duration": 5,
    "start_time": "2021-12-27T16:44:43.663Z"
   },
   {
    "duration": 6,
    "start_time": "2021-12-27T16:44:53.096Z"
   },
   {
    "duration": 6,
    "start_time": "2021-12-27T16:45:12.640Z"
   },
   {
    "duration": 6,
    "start_time": "2021-12-27T16:47:02.619Z"
   },
   {
    "duration": 5,
    "start_time": "2021-12-27T16:49:25.438Z"
   },
   {
    "duration": 5,
    "start_time": "2021-12-27T16:50:29.818Z"
   },
   {
    "duration": 5,
    "start_time": "2021-12-27T16:50:37.269Z"
   },
   {
    "duration": 7,
    "start_time": "2021-12-27T16:50:37.807Z"
   },
   {
    "duration": 6,
    "start_time": "2021-12-27T16:50:39.414Z"
   },
   {
    "duration": 6,
    "start_time": "2021-12-27T16:51:10.852Z"
   },
   {
    "duration": 8,
    "start_time": "2021-12-27T16:52:06.743Z"
   },
   {
    "duration": 8,
    "start_time": "2021-12-27T16:52:07.503Z"
   },
   {
    "duration": 267,
    "start_time": "2021-12-27T16:52:33.830Z"
   },
   {
    "duration": 9,
    "start_time": "2021-12-27T16:52:43.459Z"
   },
   {
    "duration": 6,
    "start_time": "2021-12-27T16:52:53.043Z"
   },
   {
    "duration": 6,
    "start_time": "2021-12-27T16:53:01.175Z"
   },
   {
    "duration": 6,
    "start_time": "2021-12-27T16:53:11.128Z"
   },
   {
    "duration": 5,
    "start_time": "2021-12-27T16:53:31.908Z"
   },
   {
    "duration": 5,
    "start_time": "2021-12-27T16:54:03.735Z"
   },
   {
    "duration": 6,
    "start_time": "2021-12-27T16:54:04.475Z"
   },
   {
    "duration": 7,
    "start_time": "2021-12-27T16:57:17.812Z"
   },
   {
    "duration": 295,
    "start_time": "2021-12-27T17:08:55.201Z"
   },
   {
    "duration": 262,
    "start_time": "2021-12-27T17:11:28.598Z"
   },
   {
    "duration": 263,
    "start_time": "2021-12-27T17:12:17.380Z"
   },
   {
    "duration": 321,
    "start_time": "2021-12-27T17:12:29.958Z"
   },
   {
    "duration": 266,
    "start_time": "2021-12-27T17:13:17.298Z"
   },
   {
    "duration": 291,
    "start_time": "2021-12-27T17:17:11.155Z"
   },
   {
    "duration": 7,
    "start_time": "2021-12-27T17:17:52.231Z"
   },
   {
    "duration": 5,
    "start_time": "2021-12-27T17:17:52.752Z"
   },
   {
    "duration": 126,
    "start_time": "2021-12-27T17:17:56.454Z"
   },
   {
    "duration": 15,
    "start_time": "2021-12-27T17:17:57.176Z"
   },
   {
    "duration": 6,
    "start_time": "2021-12-27T17:17:59.317Z"
   },
   {
    "duration": 7,
    "start_time": "2021-12-27T17:17:59.800Z"
   },
   {
    "duration": 6,
    "start_time": "2021-12-27T17:18:00.236Z"
   },
   {
    "duration": 8,
    "start_time": "2021-12-27T17:18:00.676Z"
   },
   {
    "duration": 8,
    "start_time": "2021-12-27T17:18:01.140Z"
   },
   {
    "duration": 8,
    "start_time": "2021-12-27T17:18:01.558Z"
   },
   {
    "duration": 6,
    "start_time": "2021-12-27T17:18:02.053Z"
   },
   {
    "duration": 8,
    "start_time": "2021-12-27T17:18:02.740Z"
   },
   {
    "duration": 124,
    "start_time": "2021-12-27T17:26:10.227Z"
   },
   {
    "duration": 15,
    "start_time": "2021-12-27T17:26:10.902Z"
   },
   {
    "duration": 6,
    "start_time": "2021-12-27T17:26:16.392Z"
   },
   {
    "duration": 6,
    "start_time": "2021-12-27T17:26:16.831Z"
   },
   {
    "duration": 5,
    "start_time": "2021-12-27T17:26:17.223Z"
   },
   {
    "duration": 6,
    "start_time": "2021-12-27T17:26:17.603Z"
   },
   {
    "duration": 6,
    "start_time": "2021-12-27T17:26:17.973Z"
   },
   {
    "duration": 6,
    "start_time": "2021-12-27T17:26:18.376Z"
   },
   {
    "duration": 4,
    "start_time": "2021-12-27T17:26:18.828Z"
   },
   {
    "duration": 6,
    "start_time": "2021-12-27T17:26:19.262Z"
   },
   {
    "duration": 10,
    "start_time": "2021-12-27T17:31:02.503Z"
   },
   {
    "duration": 10,
    "start_time": "2021-12-27T17:34:00.307Z"
   },
   {
    "duration": 6,
    "start_time": "2021-12-27T17:34:14.057Z"
   },
   {
    "duration": 8,
    "start_time": "2021-12-27T17:34:26.154Z"
   },
   {
    "duration": 9,
    "start_time": "2021-12-27T17:34:39.833Z"
   },
   {
    "duration": 7,
    "start_time": "2021-12-27T17:35:50.803Z"
   },
   {
    "duration": 6,
    "start_time": "2021-12-27T17:36:56.609Z"
   },
   {
    "duration": 124,
    "start_time": "2021-12-27T17:37:02.311Z"
   },
   {
    "duration": 15,
    "start_time": "2021-12-27T17:37:02.482Z"
   },
   {
    "duration": 5,
    "start_time": "2021-12-27T17:37:04.232Z"
   },
   {
    "duration": 5,
    "start_time": "2021-12-27T17:37:04.695Z"
   },
   {
    "duration": 5,
    "start_time": "2021-12-27T17:37:05.128Z"
   },
   {
    "duration": 7,
    "start_time": "2021-12-27T17:37:05.616Z"
   },
   {
    "duration": 9,
    "start_time": "2021-12-27T17:37:06.418Z"
   },
   {
    "duration": 7,
    "start_time": "2021-12-27T17:37:06.974Z"
   },
   {
    "duration": 5,
    "start_time": "2021-12-27T17:37:07.801Z"
   },
   {
    "duration": 6,
    "start_time": "2021-12-27T17:37:08.277Z"
   },
   {
    "duration": 8,
    "start_time": "2021-12-27T17:37:10.511Z"
   },
   {
    "duration": 6440,
    "start_time": "2021-12-27T17:38:52.998Z"
   },
   {
    "duration": 7115,
    "start_time": "2021-12-27T17:39:12.405Z"
   },
   {
    "duration": 7,
    "start_time": "2021-12-27T17:39:38.202Z"
   },
   {
    "duration": 257,
    "start_time": "2021-12-27T17:39:52.549Z"
   },
   {
    "duration": 10,
    "start_time": "2021-12-27T17:40:02.740Z"
   },
   {
    "duration": 1915,
    "start_time": "2021-12-27T17:40:22.724Z"
   },
   {
    "duration": 1918,
    "start_time": "2021-12-27T17:40:33.388Z"
   },
   {
    "duration": 7,
    "start_time": "2021-12-27T17:40:42.617Z"
   },
   {
    "duration": 6577,
    "start_time": "2021-12-27T17:41:33.998Z"
   },
   {
    "duration": -353,
    "start_time": "2021-12-27T17:41:40.931Z"
   },
   {
    "duration": 6328,
    "start_time": "2021-12-27T17:41:51.396Z"
   },
   {
    "duration": 7055,
    "start_time": "2021-12-27T17:42:48.399Z"
   },
   {
    "duration": -358,
    "start_time": "2021-12-27T17:42:55.814Z"
   },
   {
    "duration": 5,
    "start_time": "2021-12-27T17:42:58.871Z"
   },
   {
    "duration": 6,
    "start_time": "2021-12-27T17:42:59.426Z"
   },
   {
    "duration": 6,
    "start_time": "2021-12-27T17:42:59.911Z"
   },
   {
    "duration": 7,
    "start_time": "2021-12-27T17:43:00.539Z"
   },
   {
    "duration": 10,
    "start_time": "2021-12-27T17:43:01.606Z"
   },
   {
    "duration": 7,
    "start_time": "2021-12-27T17:43:02.920Z"
   },
   {
    "duration": 6,
    "start_time": "2021-12-27T17:43:26.024Z"
   },
   {
    "duration": 127,
    "start_time": "2021-12-27T17:43:30.684Z"
   },
   {
    "duration": 17,
    "start_time": "2021-12-27T17:43:30.871Z"
   },
   {
    "duration": 6,
    "start_time": "2021-12-27T17:43:32.072Z"
   },
   {
    "duration": 6,
    "start_time": "2021-12-27T17:43:32.512Z"
   },
   {
    "duration": 6,
    "start_time": "2021-12-27T17:43:32.873Z"
   },
   {
    "duration": 6,
    "start_time": "2021-12-27T17:43:33.308Z"
   },
   {
    "duration": 9,
    "start_time": "2021-12-27T17:43:33.760Z"
   },
   {
    "duration": 5,
    "start_time": "2021-12-27T17:43:34.328Z"
   },
   {
    "duration": 5,
    "start_time": "2021-12-27T17:43:34.814Z"
   },
   {
    "duration": 6,
    "start_time": "2021-12-27T17:43:35.321Z"
   },
   {
    "duration": 7,
    "start_time": "2021-12-27T17:43:36.278Z"
   },
   {
    "duration": 6,
    "start_time": "2021-12-27T17:43:36.931Z"
   },
   {
    "duration": 12,
    "start_time": "2021-12-27T17:43:37.896Z"
   },
   {
    "duration": 8,
    "start_time": "2021-12-27T17:43:38.599Z"
   },
   {
    "duration": 14,
    "start_time": "2021-12-27T17:43:44.618Z"
   },
   {
    "duration": 7,
    "start_time": "2021-12-27T17:43:47.654Z"
   },
   {
    "duration": 85,
    "start_time": "2021-12-27T17:47:12.650Z"
   },
   {
    "duration": 83,
    "start_time": "2021-12-27T17:47:19.037Z"
   },
   {
    "duration": 26,
    "start_time": "2021-12-27T17:47:28.910Z"
   },
   {
    "duration": 4,
    "start_time": "2021-12-27T17:47:40.180Z"
   },
   {
    "duration": 122,
    "start_time": "2021-12-27T17:48:00.729Z"
   },
   {
    "duration": 15,
    "start_time": "2021-12-27T17:48:01.174Z"
   },
   {
    "duration": 7,
    "start_time": "2021-12-27T17:48:02.982Z"
   },
   {
    "duration": 5,
    "start_time": "2021-12-27T17:48:03.455Z"
   },
   {
    "duration": 6,
    "start_time": "2021-12-27T17:48:03.906Z"
   },
   {
    "duration": 6,
    "start_time": "2021-12-27T17:48:04.370Z"
   },
   {
    "duration": 9,
    "start_time": "2021-12-27T17:48:04.893Z"
   },
   {
    "duration": 6,
    "start_time": "2021-12-27T17:48:05.531Z"
   },
   {
    "duration": 6,
    "start_time": "2021-12-27T17:48:06.118Z"
   },
   {
    "duration": 7,
    "start_time": "2021-12-27T17:48:06.685Z"
   },
   {
    "duration": 16,
    "start_time": "2021-12-27T17:48:07.351Z"
   },
   {
    "duration": 8,
    "start_time": "2021-12-27T18:26:34.460Z"
   },
   {
    "duration": 31,
    "start_time": "2021-12-27T18:37:42.849Z"
   },
   {
    "duration": 28,
    "start_time": "2021-12-27T18:38:05.017Z"
   },
   {
    "duration": 277,
    "start_time": "2021-12-27T18:38:24.915Z"
   },
   {
    "duration": 279,
    "start_time": "2021-12-27T18:38:32.248Z"
   },
   {
    "duration": 27,
    "start_time": "2021-12-27T18:38:42.545Z"
   },
   {
    "duration": 245,
    "start_time": "2021-12-27T18:42:14.605Z"
   },
   {
    "duration": 28,
    "start_time": "2021-12-27T18:43:40.382Z"
   },
   {
    "duration": 35,
    "start_time": "2021-12-27T18:44:10.556Z"
   },
   {
    "duration": 87,
    "start_time": "2021-12-27T18:50:47.388Z"
   },
   {
    "duration": 31,
    "start_time": "2021-12-27T18:51:01.133Z"
   },
   {
    "duration": 7,
    "start_time": "2021-12-27T18:54:28.754Z"
   },
   {
    "duration": 6,
    "start_time": "2021-12-27T18:55:01.416Z"
   },
   {
    "duration": 5,
    "start_time": "2021-12-27T18:55:06.100Z"
   },
   {
    "duration": 9,
    "start_time": "2021-12-27T18:55:10.309Z"
   },
   {
    "duration": 6,
    "start_time": "2021-12-27T19:05:24.394Z"
   },
   {
    "duration": 6,
    "start_time": "2021-12-27T19:05:25.082Z"
   },
   {
    "duration": 5,
    "start_time": "2021-12-27T19:05:25.707Z"
   },
   {
    "duration": 57,
    "start_time": "2021-12-27T19:09:05.376Z"
   },
   {
    "duration": 15,
    "start_time": "2021-12-27T19:11:21.251Z"
   },
   {
    "duration": 324,
    "start_time": "2021-12-27T19:12:25.408Z"
   },
   {
    "duration": 294,
    "start_time": "2021-12-27T19:12:28.803Z"
   },
   {
    "duration": 264,
    "start_time": "2021-12-27T19:12:30.823Z"
   },
   {
    "duration": 10,
    "start_time": "2021-12-27T19:12:46.994Z"
   },
   {
    "duration": 10,
    "start_time": "2021-12-27T19:13:29.894Z"
   },
   {
    "duration": 25,
    "start_time": "2021-12-27T19:18:51.450Z"
   },
   {
    "duration": 265,
    "start_time": "2021-12-27T19:19:36.351Z"
   },
   {
    "duration": 26,
    "start_time": "2021-12-27T19:20:18.902Z"
   },
   {
    "duration": 21,
    "start_time": "2021-12-27T19:21:15.151Z"
   },
   {
    "duration": 21,
    "start_time": "2021-12-27T19:22:27.094Z"
   },
   {
    "duration": 21,
    "start_time": "2021-12-27T19:22:48.991Z"
   },
   {
    "duration": 28,
    "start_time": "2021-12-27T19:23:13.208Z"
   },
   {
    "duration": 26,
    "start_time": "2021-12-27T19:23:18.659Z"
   },
   {
    "duration": 349,
    "start_time": "2021-12-28T15:33:19.665Z"
   },
   {
    "duration": 305,
    "start_time": "2021-12-28T15:33:20.350Z"
   },
   {
    "duration": 346,
    "start_time": "2021-12-28T15:33:27.715Z"
   },
   {
    "duration": 310,
    "start_time": "2021-12-28T15:33:46.699Z"
   },
   {
    "duration": 1036,
    "start_time": "2021-12-28T15:33:52.412Z"
   },
   {
    "duration": 16,
    "start_time": "2021-12-28T15:34:01.524Z"
   },
   {
    "duration": 132,
    "start_time": "2021-12-28T15:34:30.643Z"
   },
   {
    "duration": 5,
    "start_time": "2021-12-28T15:34:40.338Z"
   },
   {
    "duration": 5,
    "start_time": "2021-12-28T15:34:42.606Z"
   },
   {
    "duration": 5,
    "start_time": "2021-12-28T15:34:46.095Z"
   },
   {
    "duration": 9,
    "start_time": "2021-12-28T15:40:48.252Z"
   },
   {
    "duration": 10,
    "start_time": "2021-12-28T15:44:16.702Z"
   },
   {
    "duration": 91,
    "start_time": "2021-12-28T15:52:19.553Z"
   },
   {
    "duration": 525,
    "start_time": "2021-12-28T15:53:05.852Z"
   },
   {
    "duration": 12,
    "start_time": "2021-12-28T15:55:57.308Z"
   },
   {
    "duration": 10,
    "start_time": "2021-12-28T15:56:22.164Z"
   },
   {
    "duration": 12,
    "start_time": "2021-12-28T15:56:30.373Z"
   },
   {
    "duration": 8,
    "start_time": "2021-12-28T15:56:32.476Z"
   },
   {
    "duration": 272,
    "start_time": "2021-12-28T15:58:49.301Z"
   },
   {
    "duration": 9,
    "start_time": "2021-12-28T16:09:01.576Z"
   },
   {
    "duration": 340,
    "start_time": "2021-12-28T16:09:14.368Z"
   },
   {
    "duration": 12,
    "start_time": "2021-12-28T16:09:36.561Z"
   },
   {
    "duration": 8,
    "start_time": "2021-12-28T16:09:38.747Z"
   },
   {
    "duration": 7345,
    "start_time": "2021-12-28T16:12:04.284Z"
   },
   {
    "duration": -2066,
    "start_time": "2021-12-28T16:12:13.698Z"
   },
   {
    "duration": 298,
    "start_time": "2021-12-28T16:12:20.242Z"
   },
   {
    "duration": 328,
    "start_time": "2021-12-28T16:13:07.750Z"
   },
   {
    "duration": 282,
    "start_time": "2021-12-28T16:15:05.781Z"
   },
   {
    "duration": 91,
    "start_time": "2021-12-28T16:16:06.152Z"
   },
   {
    "duration": 107,
    "start_time": "2021-12-28T16:16:09.968Z"
   },
   {
    "duration": 9,
    "start_time": "2021-12-28T16:16:28.305Z"
   },
   {
    "duration": 8,
    "start_time": "2021-12-28T16:16:29.983Z"
   },
   {
    "duration": 407,
    "start_time": "2021-12-28T16:16:48.215Z"
   },
   {
    "duration": 13,
    "start_time": "2021-12-28T16:18:34.999Z"
   },
   {
    "duration": 10,
    "start_time": "2021-12-28T16:18:36.520Z"
   },
   {
    "duration": 14,
    "start_time": "2021-12-28T16:18:55.809Z"
   },
   {
    "duration": 7,
    "start_time": "2021-12-28T16:18:56.671Z"
   },
   {
    "duration": 101,
    "start_time": "2021-12-28T16:20:23.180Z"
   },
   {
    "duration": 109,
    "start_time": "2021-12-28T16:20:29.466Z"
   },
   {
    "duration": 95,
    "start_time": "2021-12-28T16:20:36.399Z"
   },
   {
    "duration": 99,
    "start_time": "2021-12-28T16:20:40.611Z"
   },
   {
    "duration": 110,
    "start_time": "2021-12-28T16:20:51.070Z"
   },
   {
    "duration": 8,
    "start_time": "2021-12-28T16:20:56.864Z"
   },
   {
    "duration": 13,
    "start_time": "2021-12-28T16:22:26.371Z"
   },
   {
    "duration": 8,
    "start_time": "2021-12-28T16:22:27.457Z"
   },
   {
    "duration": 14,
    "start_time": "2021-12-28T16:25:24.411Z"
   },
   {
    "duration": 8,
    "start_time": "2021-12-28T16:25:24.428Z"
   },
   {
    "duration": 6,
    "start_time": "2021-12-28T16:25:36.060Z"
   },
   {
    "duration": 6,
    "start_time": "2021-12-28T16:25:37.077Z"
   },
   {
    "duration": 287,
    "start_time": "2021-12-28T16:28:35.587Z"
   },
   {
    "duration": 9,
    "start_time": "2021-12-28T16:28:50.304Z"
   },
   {
    "duration": 6,
    "start_time": "2021-12-28T16:29:12.236Z"
   },
   {
    "duration": 17,
    "start_time": "2021-12-28T16:30:58.926Z"
   },
   {
    "duration": 7,
    "start_time": "2021-12-28T16:30:59.570Z"
   },
   {
    "duration": 15,
    "start_time": "2021-12-28T16:31:16.703Z"
   },
   {
    "duration": 6,
    "start_time": "2021-12-28T16:31:17.178Z"
   },
   {
    "duration": 6,
    "start_time": "2021-12-28T16:31:34.997Z"
   },
   {
    "duration": 132,
    "start_time": "2021-12-28T16:31:42.672Z"
   },
   {
    "duration": 164,
    "start_time": "2021-12-28T16:31:48.103Z"
   },
   {
    "duration": 141,
    "start_time": "2021-12-28T16:32:01.237Z"
   },
   {
    "duration": 15,
    "start_time": "2021-12-28T16:32:01.523Z"
   },
   {
    "duration": 27,
    "start_time": "2021-12-28T16:32:04.176Z"
   },
   {
    "duration": 32,
    "start_time": "2021-12-28T16:32:04.656Z"
   },
   {
    "duration": 16,
    "start_time": "2021-12-28T16:32:05.770Z"
   },
   {
    "duration": 21,
    "start_time": "2021-12-28T16:32:05.789Z"
   },
   {
    "duration": 6,
    "start_time": "2021-12-28T16:32:06.646Z"
   },
   {
    "duration": 8,
    "start_time": "2021-12-28T16:32:06.956Z"
   },
   {
    "duration": 16,
    "start_time": "2021-12-28T16:32:08.870Z"
   },
   {
    "duration": 7,
    "start_time": "2021-12-28T16:32:10.270Z"
   },
   {
    "duration": 362,
    "start_time": "2021-12-28T16:34:16.238Z"
   },
   {
    "duration": 7,
    "start_time": "2021-12-28T16:34:17.007Z"
   },
   {
    "duration": 15,
    "start_time": "2021-12-28T16:34:25.797Z"
   },
   {
    "duration": 9,
    "start_time": "2021-12-28T16:34:28.404Z"
   },
   {
    "duration": 349,
    "start_time": "2021-12-28T16:35:00.503Z"
   },
   {
    "duration": 504,
    "start_time": "2021-12-28T16:36:06.853Z"
   },
   {
    "duration": 122,
    "start_time": "2021-12-28T16:38:41.923Z"
   },
   {
    "duration": 15,
    "start_time": "2021-12-28T16:38:47.363Z"
   },
   {
    "duration": 7,
    "start_time": "2021-12-28T16:38:48.443Z"
   },
   {
    "duration": 20,
    "start_time": "2021-12-28T16:38:58.268Z"
   },
   {
    "duration": 7,
    "start_time": "2021-12-28T16:38:58.893Z"
   },
   {
    "duration": 6,
    "start_time": "2021-12-28T16:39:02.544Z"
   },
   {
    "duration": 135,
    "start_time": "2021-12-28T16:39:07.240Z"
   },
   {
    "duration": 16,
    "start_time": "2021-12-28T16:39:07.435Z"
   },
   {
    "duration": 24,
    "start_time": "2021-12-28T16:39:08.762Z"
   },
   {
    "duration": 38,
    "start_time": "2021-12-28T16:39:08.812Z"
   },
   {
    "duration": 15,
    "start_time": "2021-12-28T16:39:09.183Z"
   },
   {
    "duration": 22,
    "start_time": "2021-12-28T16:39:09.607Z"
   },
   {
    "duration": 6,
    "start_time": "2021-12-28T16:39:11.152Z"
   },
   {
    "duration": 9,
    "start_time": "2021-12-28T16:39:11.888Z"
   },
   {
    "duration": 15,
    "start_time": "2021-12-28T16:39:13.112Z"
   },
   {
    "duration": 8,
    "start_time": "2021-12-28T16:39:14.319Z"
   },
   {
    "duration": 289,
    "start_time": "2021-12-28T16:53:15.402Z"
   },
   {
    "duration": 7,
    "start_time": "2021-12-28T16:53:16.123Z"
   },
   {
    "duration": 15,
    "start_time": "2021-12-28T16:53:29.920Z"
   },
   {
    "duration": 7,
    "start_time": "2021-12-28T16:53:31.036Z"
   },
   {
    "duration": 22,
    "start_time": "2021-12-28T16:53:35.024Z"
   },
   {
    "duration": 6,
    "start_time": "2021-12-28T16:53:35.697Z"
   },
   {
    "duration": 7,
    "start_time": "2021-12-28T16:53:36.217Z"
   },
   {
    "duration": 25,
    "start_time": "2021-12-28T16:53:39.432Z"
   },
   {
    "duration": 28,
    "start_time": "2021-12-28T16:53:39.825Z"
   },
   {
    "duration": 9,
    "start_time": "2021-12-28T16:53:41.003Z"
   },
   {
    "duration": 20,
    "start_time": "2021-12-28T16:53:41.015Z"
   },
   {
    "duration": 6,
    "start_time": "2021-12-28T16:53:42.156Z"
   },
   {
    "duration": 6,
    "start_time": "2021-12-28T16:53:43.570Z"
   },
   {
    "duration": 14,
    "start_time": "2021-12-28T16:53:45.075Z"
   },
   {
    "duration": 6,
    "start_time": "2021-12-28T16:53:45.936Z"
   },
   {
    "duration": 125,
    "start_time": "2021-12-28T16:53:51.323Z"
   },
   {
    "duration": 14,
    "start_time": "2021-12-28T16:53:51.759Z"
   },
   {
    "duration": 23,
    "start_time": "2021-12-28T16:53:53.887Z"
   },
   {
    "duration": 28,
    "start_time": "2021-12-28T16:53:54.411Z"
   },
   {
    "duration": 16,
    "start_time": "2021-12-28T16:53:54.976Z"
   },
   {
    "duration": 20,
    "start_time": "2021-12-28T16:53:55.546Z"
   },
   {
    "duration": 6,
    "start_time": "2021-12-28T16:53:56.109Z"
   },
   {
    "duration": 7,
    "start_time": "2021-12-28T16:53:56.696Z"
   },
   {
    "duration": 16,
    "start_time": "2021-12-28T16:53:57.489Z"
   },
   {
    "duration": 7,
    "start_time": "2021-12-28T16:53:58.264Z"
   },
   {
    "duration": 17,
    "start_time": "2021-12-28T16:57:44.780Z"
   },
   {
    "duration": 6,
    "start_time": "2021-12-28T16:57:54.758Z"
   },
   {
    "duration": 5,
    "start_time": "2021-12-28T16:57:57.655Z"
   },
   {
    "duration": 16,
    "start_time": "2021-12-28T16:58:23.830Z"
   },
   {
    "duration": 6,
    "start_time": "2021-12-28T16:58:27.369Z"
   },
   {
    "duration": 132,
    "start_time": "2021-12-28T16:58:37.559Z"
   },
   {
    "duration": 16,
    "start_time": "2021-12-28T16:58:38.131Z"
   },
   {
    "duration": 27,
    "start_time": "2021-12-28T16:58:40.531Z"
   },
   {
    "duration": 39,
    "start_time": "2021-12-28T16:58:41.341Z"
   },
   {
    "duration": 15,
    "start_time": "2021-12-28T16:58:42.187Z"
   },
   {
    "duration": 29,
    "start_time": "2021-12-28T16:58:43.303Z"
   },
   {
    "duration": 8,
    "start_time": "2021-12-28T16:58:44.145Z"
   },
   {
    "duration": 10,
    "start_time": "2021-12-28T16:58:45.159Z"
   },
   {
    "duration": 28,
    "start_time": "2021-12-28T16:58:46.138Z"
   },
   {
    "duration": 8,
    "start_time": "2021-12-28T16:58:47.317Z"
   },
   {
    "duration": 5,
    "start_time": "2021-12-28T16:58:49.149Z"
   },
   {
    "duration": 7,
    "start_time": "2021-12-28T16:58:50.451Z"
   },
   {
    "duration": 7,
    "start_time": "2021-12-28T16:58:51.360Z"
   },
   {
    "duration": 21,
    "start_time": "2021-12-28T16:59:05.168Z"
   },
   {
    "duration": 6,
    "start_time": "2021-12-28T16:59:06.060Z"
   },
   {
    "duration": 295,
    "start_time": "2021-12-28T16:59:48.734Z"
   },
   {
    "duration": 20,
    "start_time": "2021-12-28T16:59:59.034Z"
   },
   {
    "duration": 7,
    "start_time": "2021-12-28T17:00:01.400Z"
   },
   {
    "duration": 15,
    "start_time": "2021-12-28T17:00:31.144Z"
   },
   {
    "duration": 7,
    "start_time": "2021-12-28T17:00:32.723Z"
   },
   {
    "duration": 6,
    "start_time": "2021-12-28T17:00:47.512Z"
   },
   {
    "duration": 7,
    "start_time": "2021-12-28T17:00:48.459Z"
   },
   {
    "duration": 15,
    "start_time": "2021-12-28T17:01:26.039Z"
   },
   {
    "duration": 6,
    "start_time": "2021-12-28T17:01:26.801Z"
   },
   {
    "duration": 7,
    "start_time": "2021-12-28T17:28:32.967Z"
   },
   {
    "duration": 7,
    "start_time": "2021-12-28T17:29:17.108Z"
   },
   {
    "duration": 123,
    "start_time": "2021-12-28T17:29:22.408Z"
   },
   {
    "duration": 14,
    "start_time": "2021-12-28T17:29:22.794Z"
   },
   {
    "duration": 27,
    "start_time": "2021-12-28T17:29:24.644Z"
   },
   {
    "duration": 32,
    "start_time": "2021-12-28T17:29:25.189Z"
   },
   {
    "duration": 17,
    "start_time": "2021-12-28T17:29:25.935Z"
   },
   {
    "duration": 25,
    "start_time": "2021-12-28T17:29:28.472Z"
   },
   {
    "duration": 7,
    "start_time": "2021-12-28T17:29:29.715Z"
   },
   {
    "duration": 9,
    "start_time": "2021-12-28T17:29:30.932Z"
   },
   {
    "duration": 6,
    "start_time": "2021-12-28T17:56:55.797Z"
   },
   {
    "duration": 6,
    "start_time": "2021-12-28T17:56:56.694Z"
   },
   {
    "duration": 8,
    "start_time": "2021-12-28T17:56:57.937Z"
   },
   {
    "duration": 14,
    "start_time": "2021-12-28T17:57:11.523Z"
   },
   {
    "duration": 6,
    "start_time": "2021-12-28T17:57:12.095Z"
   },
   {
    "duration": 5,
    "start_time": "2021-12-28T17:57:12.643Z"
   },
   {
    "duration": 7,
    "start_time": "2021-12-28T17:57:13.256Z"
   },
   {
    "duration": 6,
    "start_time": "2021-12-28T17:57:13.833Z"
   },
   {
    "duration": 5,
    "start_time": "2021-12-28T17:57:14.435Z"
   },
   {
    "duration": 6,
    "start_time": "2021-12-28T17:57:18.351Z"
   },
   {
    "duration": 6,
    "start_time": "2021-12-28T17:57:31.437Z"
   },
   {
    "duration": 148,
    "start_time": "2021-12-28T17:57:35.870Z"
   },
   {
    "duration": 14,
    "start_time": "2021-12-28T17:57:36.260Z"
   },
   {
    "duration": 26,
    "start_time": "2021-12-28T17:57:37.678Z"
   },
   {
    "duration": 31,
    "start_time": "2021-12-28T17:57:37.984Z"
   },
   {
    "duration": 20,
    "start_time": "2021-12-28T17:57:38.203Z"
   },
   {
    "duration": 22,
    "start_time": "2021-12-28T17:57:38.459Z"
   },
   {
    "duration": 5,
    "start_time": "2021-12-28T17:57:38.736Z"
   },
   {
    "duration": 8,
    "start_time": "2021-12-28T17:57:39.414Z"
   },
   {
    "duration": 8,
    "start_time": "2021-12-28T17:57:40.010Z"
   },
   {
    "duration": 15,
    "start_time": "2021-12-28T17:57:40.562Z"
   },
   {
    "duration": 6,
    "start_time": "2021-12-28T17:57:41.188Z"
   },
   {
    "duration": 6,
    "start_time": "2021-12-28T17:57:41.774Z"
   },
   {
    "duration": 5,
    "start_time": "2021-12-28T17:57:42.295Z"
   },
   {
    "duration": 6,
    "start_time": "2021-12-28T17:57:42.815Z"
   },
   {
    "duration": 5,
    "start_time": "2021-12-28T17:57:44.078Z"
   },
   {
    "duration": 7,
    "start_time": "2021-12-28T17:57:44.472Z"
   },
   {
    "duration": 6,
    "start_time": "2021-12-28T17:58:29.159Z"
   },
   {
    "duration": 8,
    "start_time": "2021-12-28T17:58:37.772Z"
   },
   {
    "duration": 8,
    "start_time": "2021-12-28T18:04:54.512Z"
   },
   {
    "duration": 15,
    "start_time": "2021-12-28T18:04:55.222Z"
   },
   {
    "duration": 7,
    "start_time": "2021-12-28T18:04:55.993Z"
   },
   {
    "duration": 8,
    "start_time": "2021-12-28T18:05:17.382Z"
   },
   {
    "duration": 17,
    "start_time": "2021-12-28T18:06:06.821Z"
   },
   {
    "duration": 4,
    "start_time": "2021-12-28T18:06:19.149Z"
   },
   {
    "duration": 7,
    "start_time": "2021-12-28T18:06:19.828Z"
   },
   {
    "duration": 6,
    "start_time": "2021-12-28T18:06:26.504Z"
   },
   {
    "duration": 5,
    "start_time": "2021-12-28T18:09:31.263Z"
   },
   {
    "duration": 57,
    "start_time": "2021-12-28T18:10:00.732Z"
   },
   {
    "duration": 273,
    "start_time": "2021-12-28T18:16:41.792Z"
   },
   {
    "duration": 6,
    "start_time": "2021-12-28T18:16:49.980Z"
   },
   {
    "duration": 36,
    "start_time": "2021-12-28T18:17:07.266Z"
   },
   {
    "duration": 9,
    "start_time": "2021-12-28T18:18:11.876Z"
   },
   {
    "duration": 9,
    "start_time": "2021-12-28T18:21:17.942Z"
   },
   {
    "duration": 123,
    "start_time": "2021-12-28T18:21:42.846Z"
   },
   {
    "duration": 60,
    "start_time": "2021-12-28T18:21:50.511Z"
   },
   {
    "duration": 10,
    "start_time": "2021-12-28T18:21:54.571Z"
   },
   {
    "duration": 16,
    "start_time": "2021-12-28T18:21:57.322Z"
   },
   {
    "duration": 20,
    "start_time": "2021-12-28T18:29:16.641Z"
   },
   {
    "duration": 17,
    "start_time": "2021-12-28T18:30:22.955Z"
   },
   {
    "duration": 6,
    "start_time": "2021-12-28T18:30:39.025Z"
   },
   {
    "duration": 7,
    "start_time": "2021-12-28T18:30:48.416Z"
   },
   {
    "duration": 10,
    "start_time": "2021-12-28T18:30:58.917Z"
   },
   {
    "duration": 1398,
    "start_time": "2021-12-28T18:31:22.958Z"
   },
   {
    "duration": -36,
    "start_time": "2021-12-28T18:31:24.394Z"
   },
   {
    "duration": 12,
    "start_time": "2021-12-28T18:31:38.277Z"
   },
   {
    "duration": 9,
    "start_time": "2021-12-28T18:31:40.275Z"
   },
   {
    "duration": 1605,
    "start_time": "2021-12-28T18:32:29.976Z"
   },
   {
    "duration": -37,
    "start_time": "2021-12-28T18:32:31.622Z"
   },
   {
    "duration": 1415,
    "start_time": "2021-12-28T18:34:54.588Z"
   },
   {
    "duration": -40,
    "start_time": "2021-12-28T18:34:56.046Z"
   },
   {
    "duration": 2073,
    "start_time": "2021-12-28T18:35:27.738Z"
   },
   {
    "duration": 1279,
    "start_time": "2021-12-28T18:35:35.166Z"
   },
   {
    "duration": 2693,
    "start_time": "2021-12-28T18:35:44.596Z"
   },
   {
    "duration": 1447,
    "start_time": "2021-12-28T18:35:54.083Z"
   },
   {
    "duration": -38,
    "start_time": "2021-12-28T18:35:55.571Z"
   },
   {
    "duration": 2193,
    "start_time": "2021-12-28T18:36:02.852Z"
   },
   {
    "duration": -40,
    "start_time": "2021-12-28T18:36:05.087Z"
   },
   {
    "duration": 1418,
    "start_time": "2021-12-28T18:36:32.797Z"
   },
   {
    "duration": -37,
    "start_time": "2021-12-28T18:36:34.254Z"
   },
   {
    "duration": 97,
    "start_time": "2021-12-28T18:38:11.647Z"
   },
   {
    "duration": 1356,
    "start_time": "2021-12-28T18:38:24.569Z"
   },
   {
    "duration": 1349,
    "start_time": "2021-12-28T18:38:45.272Z"
   },
   {
    "duration": 1560,
    "start_time": "2021-12-28T18:41:34.489Z"
   },
   {
    "duration": 1354,
    "start_time": "2021-12-28T18:41:51.399Z"
   },
   {
    "duration": -37,
    "start_time": "2021-12-28T18:41:52.794Z"
   },
   {
    "duration": 125,
    "start_time": "2021-12-28T18:41:58.806Z"
   },
   {
    "duration": 15,
    "start_time": "2021-12-28T18:41:59.244Z"
   },
   {
    "duration": 27,
    "start_time": "2021-12-28T18:42:02.269Z"
   },
   {
    "duration": 49,
    "start_time": "2021-12-28T18:42:02.298Z"
   },
   {
    "duration": 31,
    "start_time": "2021-12-28T18:42:02.351Z"
   },
   {
    "duration": 6,
    "start_time": "2021-12-28T18:42:02.385Z"
   },
   {
    "duration": 7,
    "start_time": "2021-12-28T18:42:02.423Z"
   },
   {
    "duration": 12,
    "start_time": "2021-12-28T18:42:02.432Z"
   },
   {
    "duration": 16,
    "start_time": "2021-12-28T18:42:02.603Z"
   },
   {
    "duration": 6,
    "start_time": "2021-12-28T18:42:02.998Z"
   },
   {
    "duration": 6,
    "start_time": "2021-12-28T18:42:03.368Z"
   },
   {
    "duration": 7,
    "start_time": "2021-12-28T18:42:03.682Z"
   },
   {
    "duration": 6,
    "start_time": "2021-12-28T18:42:04.052Z"
   },
   {
    "duration": 4,
    "start_time": "2021-12-28T18:42:04.490Z"
   },
   {
    "duration": 7,
    "start_time": "2021-12-28T18:42:05.033Z"
   },
   {
    "duration": 7,
    "start_time": "2021-12-28T18:42:05.499Z"
   },
   {
    "duration": 15,
    "start_time": "2021-12-28T18:42:05.976Z"
   },
   {
    "duration": 8,
    "start_time": "2021-12-28T18:42:06.533Z"
   },
   {
    "duration": 8,
    "start_time": "2021-12-28T18:42:07.200Z"
   },
   {
    "duration": 5,
    "start_time": "2021-12-28T18:42:07.962Z"
   },
   {
    "duration": 59,
    "start_time": "2021-12-28T18:42:08.797Z"
   },
   {
    "duration": 8,
    "start_time": "2021-12-28T18:42:12.611Z"
   },
   {
    "duration": 14,
    "start_time": "2021-12-28T18:42:14.559Z"
   },
   {
    "duration": 1314,
    "start_time": "2021-12-28T18:42:16.607Z"
   },
   {
    "duration": 1674,
    "start_time": "2021-12-28T18:43:45.135Z"
   },
   {
    "duration": 1526,
    "start_time": "2021-12-28T18:44:24.588Z"
   },
   {
    "duration": 13,
    "start_time": "2021-12-28T18:44:34.934Z"
   },
   {
    "duration": 10,
    "start_time": "2021-12-28T18:44:39.644Z"
   },
   {
    "duration": 974,
    "start_time": "2021-12-28T18:45:41.633Z"
   },
   {
    "duration": 18,
    "start_time": "2021-12-28T18:45:43.171Z"
   },
   {
    "duration": 16,
    "start_time": "2021-12-28T18:46:31.070Z"
   },
   {
    "duration": 10,
    "start_time": "2021-12-28T18:46:33.444Z"
   },
   {
    "duration": 1299,
    "start_time": "2021-12-28T18:46:40.581Z"
   },
   {
    "duration": 1313,
    "start_time": "2021-12-28T18:47:45.357Z"
   },
   {
    "duration": 4380,
    "start_time": "2021-12-28T18:47:52.686Z"
   },
   {
    "duration": 1057,
    "start_time": "2021-12-28T18:48:59.857Z"
   },
   {
    "duration": 12,
    "start_time": "2021-12-28T18:49:09.654Z"
   },
   {
    "duration": 923,
    "start_time": "2021-12-28T18:50:24.007Z"
   },
   {
    "duration": 10,
    "start_time": "2021-12-28T18:50:24.933Z"
   },
   {
    "duration": 593,
    "start_time": "2021-12-28T18:51:10.719Z"
   },
   {
    "duration": 994,
    "start_time": "2021-12-28T18:51:29.033Z"
   },
   {
    "duration": 10,
    "start_time": "2021-12-28T18:51:30.284Z"
   },
   {
    "duration": 628,
    "start_time": "2021-12-28T18:53:50.362Z"
   },
   {
    "duration": 394,
    "start_time": "2021-12-28T18:54:02.438Z"
   },
   {
    "duration": 647,
    "start_time": "2021-12-28T18:54:09.242Z"
   },
   {
    "duration": 527,
    "start_time": "2021-12-28T18:54:14.418Z"
   },
   {
    "duration": 461,
    "start_time": "2021-12-28T18:54:19.101Z"
   },
   {
    "duration": 393,
    "start_time": "2021-12-28T18:54:29.086Z"
   },
   {
    "duration": 538,
    "start_time": "2021-12-28T18:54:37.757Z"
   },
   {
    "duration": 21,
    "start_time": "2021-12-28T18:56:16.660Z"
   },
   {
    "duration": 297,
    "start_time": "2021-12-28T18:58:04.663Z"
   },
   {
    "duration": 368,
    "start_time": "2021-12-28T18:58:42.305Z"
   },
   {
    "duration": 10,
    "start_time": "2021-12-28T18:58:47.610Z"
   },
   {
    "duration": 314,
    "start_time": "2021-12-28T18:58:48.270Z"
   },
   {
    "duration": 304,
    "start_time": "2021-12-28T18:59:00.026Z"
   },
   {
    "duration": 20,
    "start_time": "2021-12-28T19:00:29.455Z"
   },
   {
    "duration": 20,
    "start_time": "2021-12-28T19:01:55.499Z"
   },
   {
    "duration": 9,
    "start_time": "2021-12-28T19:01:58.606Z"
   },
   {
    "duration": 16,
    "start_time": "2021-12-28T19:02:10.872Z"
   },
   {
    "duration": 220,
    "start_time": "2021-12-28T19:08:12.835Z"
   },
   {
    "duration": 1540,
    "start_time": "2021-12-28T19:09:53.071Z"
   },
   {
    "duration": -48,
    "start_time": "2021-12-28T19:09:54.662Z"
   },
   {
    "duration": 1058,
    "start_time": "2021-12-28T19:09:59.656Z"
   },
   {
    "duration": 317,
    "start_time": "2021-12-28T19:10:00.717Z"
   },
   {
    "duration": 771,
    "start_time": "2021-12-28T19:26:13.356Z"
   },
   {
    "duration": 6,
    "start_time": "2021-12-28T19:31:17.516Z"
   },
   {
    "duration": 6,
    "start_time": "2021-12-28T19:32:10.307Z"
   },
   {
    "duration": 456,
    "start_time": "2021-12-28T19:36:04.306Z"
   },
   {
    "duration": 329,
    "start_time": "2021-12-28T19:36:15.975Z"
   },
   {
    "duration": 312,
    "start_time": "2021-12-28T19:36:22.072Z"
   },
   {
    "duration": 318,
    "start_time": "2021-12-28T19:37:33.564Z"
   },
   {
    "duration": 292,
    "start_time": "2021-12-28T19:37:54.412Z"
   },
   {
    "duration": 267,
    "start_time": "2021-12-28T19:38:02.570Z"
   },
   {
    "duration": 496,
    "start_time": "2021-12-28T19:38:06.882Z"
   },
   {
    "duration": 359,
    "start_time": "2021-12-28T19:38:14.520Z"
   },
   {
    "duration": 319,
    "start_time": "2021-12-28T19:38:19.412Z"
   },
   {
    "duration": 312,
    "start_time": "2021-12-28T19:38:37.994Z"
   },
   {
    "duration": 351,
    "start_time": "2021-12-28T19:38:53.017Z"
   },
   {
    "duration": 487,
    "start_time": "2021-12-28T19:39:11.651Z"
   },
   {
    "duration": 324,
    "start_time": "2021-12-28T19:39:19.471Z"
   },
   {
    "duration": 311,
    "start_time": "2021-12-28T19:40:33.576Z"
   },
   {
    "duration": 20,
    "start_time": "2021-12-28T19:44:05.271Z"
   },
   {
    "duration": 121,
    "start_time": "2021-12-28T19:44:55.095Z"
   },
   {
    "duration": 117,
    "start_time": "2021-12-28T19:44:55.277Z"
   },
   {
    "duration": 126,
    "start_time": "2021-12-28T19:44:56.748Z"
   },
   {
    "duration": 17,
    "start_time": "2021-12-28T19:44:57.902Z"
   },
   {
    "duration": 31,
    "start_time": "2021-12-28T19:44:59.489Z"
   },
   {
    "duration": 31,
    "start_time": "2021-12-28T19:44:59.704Z"
   },
   {
    "duration": 21,
    "start_time": "2021-12-28T19:44:59.900Z"
   },
   {
    "duration": 9,
    "start_time": "2021-12-28T19:45:00.109Z"
   },
   {
    "duration": 8,
    "start_time": "2021-12-28T19:45:00.310Z"
   },
   {
    "duration": 8,
    "start_time": "2021-12-28T19:45:00.511Z"
   },
   {
    "duration": 16,
    "start_time": "2021-12-28T19:45:00.716Z"
   },
   {
    "duration": 6,
    "start_time": "2021-12-28T19:45:00.905Z"
   },
   {
    "duration": 5,
    "start_time": "2021-12-28T19:45:01.111Z"
   },
   {
    "duration": 6,
    "start_time": "2021-12-28T19:45:01.333Z"
   },
   {
    "duration": 7,
    "start_time": "2021-12-28T19:45:01.617Z"
   },
   {
    "duration": 6,
    "start_time": "2021-12-28T19:45:02.040Z"
   },
   {
    "duration": 6,
    "start_time": "2021-12-28T19:45:02.336Z"
   },
   {
    "duration": 7,
    "start_time": "2021-12-28T19:45:02.601Z"
   },
   {
    "duration": 20,
    "start_time": "2021-12-28T19:45:02.845Z"
   },
   {
    "duration": 7,
    "start_time": "2021-12-28T19:45:03.103Z"
   },
   {
    "duration": 7,
    "start_time": "2021-12-28T19:45:03.404Z"
   },
   {
    "duration": 4,
    "start_time": "2021-12-28T19:45:03.675Z"
   },
   {
    "duration": 57,
    "start_time": "2021-12-28T19:45:03.979Z"
   },
   {
    "duration": 9,
    "start_time": "2021-12-28T19:45:05.377Z"
   },
   {
    "duration": 534,
    "start_time": "2021-12-28T19:45:05.883Z"
   },
   {
    "duration": 35,
    "start_time": "2021-12-28T19:45:07.273Z"
   },
   {
    "duration": 15,
    "start_time": "2021-12-28T19:45:07.956Z"
   },
   {
    "duration": 919,
    "start_time": "2021-12-28T19:45:09.207Z"
   },
   {
    "duration": 237,
    "start_time": "2021-12-28T19:45:10.129Z"
   },
   {
    "duration": 7,
    "start_time": "2021-12-28T19:45:11.380Z"
   },
   {
    "duration": 315,
    "start_time": "2021-12-28T19:45:12.090Z"
   },
   {
    "duration": 347,
    "start_time": "2021-12-28T19:45:13.182Z"
   },
   {
    "duration": 20,
    "start_time": "2021-12-28T19:45:15.039Z"
   },
   {
    "duration": 10,
    "start_time": "2021-12-28T19:47:13.586Z"
   },
   {
    "duration": 20,
    "start_time": "2021-12-28T19:47:31.285Z"
   },
   {
    "duration": 23,
    "start_time": "2021-12-28T19:47:36.002Z"
   },
   {
    "duration": 54,
    "start_time": "2021-12-28T19:48:53.395Z"
   },
   {
    "duration": 19,
    "start_time": "2021-12-28T19:49:10.706Z"
   },
   {
    "duration": 6,
    "start_time": "2021-12-28T19:49:12.297Z"
   },
   {
    "duration": 123,
    "start_time": "2021-12-28T19:49:28.961Z"
   },
   {
    "duration": 15,
    "start_time": "2021-12-28T19:49:29.559Z"
   },
   {
    "duration": 24,
    "start_time": "2021-12-28T19:49:31.593Z"
   },
   {
    "duration": 29,
    "start_time": "2021-12-28T19:49:32.439Z"
   },
   {
    "duration": 20,
    "start_time": "2021-12-28T19:49:33.321Z"
   },
   {
    "duration": 6,
    "start_time": "2021-12-28T19:49:34.589Z"
   },
   {
    "duration": 7,
    "start_time": "2021-12-28T19:49:35.427Z"
   },
   {
    "duration": 8,
    "start_time": "2021-12-28T19:49:36.552Z"
   },
   {
    "duration": 20,
    "start_time": "2021-12-28T19:49:37.952Z"
   },
   {
    "duration": 8,
    "start_time": "2021-12-28T19:49:39.493Z"
   },
   {
    "duration": 6,
    "start_time": "2021-12-28T19:49:47.397Z"
   },
   {
    "duration": 7,
    "start_time": "2021-12-28T19:49:48.686Z"
   },
   {
    "duration": 7,
    "start_time": "2021-12-28T19:49:49.670Z"
   },
   {
    "duration": 14,
    "start_time": "2021-12-28T19:50:02.097Z"
   },
   {
    "duration": 130,
    "start_time": "2021-12-28T19:50:08.244Z"
   },
   {
    "duration": 15,
    "start_time": "2021-12-28T19:50:08.721Z"
   },
   {
    "duration": 25,
    "start_time": "2021-12-28T19:50:11.076Z"
   },
   {
    "duration": 30,
    "start_time": "2021-12-28T19:50:11.672Z"
   },
   {
    "duration": 20,
    "start_time": "2021-12-28T19:50:12.290Z"
   },
   {
    "duration": 6,
    "start_time": "2021-12-28T19:50:12.933Z"
   },
   {
    "duration": 7,
    "start_time": "2021-12-28T19:50:13.566Z"
   },
   {
    "duration": 9,
    "start_time": "2021-12-28T19:50:14.661Z"
   },
   {
    "duration": 14,
    "start_time": "2021-12-28T19:50:15.671Z"
   },
   {
    "duration": 6,
    "start_time": "2021-12-28T19:50:16.876Z"
   },
   {
    "duration": 6,
    "start_time": "2021-12-28T19:50:19.981Z"
   },
   {
    "duration": 6,
    "start_time": "2021-12-28T19:50:50.969Z"
   },
   {
    "duration": 6,
    "start_time": "2021-12-28T19:50:52.023Z"
   },
   {
    "duration": 7,
    "start_time": "2021-12-28T19:50:52.617Z"
   },
   {
    "duration": 5,
    "start_time": "2021-12-28T19:50:53.262Z"
   },
   {
    "duration": 6,
    "start_time": "2021-12-28T19:50:53.977Z"
   },
   {
    "duration": 6,
    "start_time": "2021-12-28T19:50:54.537Z"
   },
   {
    "duration": 14,
    "start_time": "2021-12-28T19:50:55.064Z"
   },
   {
    "duration": 7,
    "start_time": "2021-12-28T19:50:55.578Z"
   },
   {
    "duration": 7,
    "start_time": "2021-12-28T19:50:56.113Z"
   },
   {
    "duration": 5,
    "start_time": "2021-12-28T19:50:56.640Z"
   },
   {
    "duration": 60,
    "start_time": "2021-12-28T19:50:57.175Z"
   },
   {
    "duration": 10,
    "start_time": "2021-12-28T19:50:58.837Z"
   },
   {
    "duration": 651,
    "start_time": "2021-12-28T19:50:59.509Z"
   },
   {
    "duration": 42,
    "start_time": "2021-12-28T19:51:00.972Z"
   },
   {
    "duration": 16,
    "start_time": "2021-12-28T19:51:01.710Z"
   },
   {
    "duration": 883,
    "start_time": "2021-12-28T19:51:03.300Z"
   },
   {
    "duration": 224,
    "start_time": "2021-12-28T19:51:04.267Z"
   },
   {
    "duration": 7,
    "start_time": "2021-12-28T19:51:06.451Z"
   },
   {
    "duration": 322,
    "start_time": "2021-12-28T19:51:07.503Z"
   },
   {
    "duration": 312,
    "start_time": "2021-12-28T19:51:09.153Z"
   },
   {
    "duration": 22,
    "start_time": "2021-12-28T19:51:13.119Z"
   },
   {
    "duration": 325,
    "start_time": "2021-12-28T19:53:49.772Z"
   },
   {
    "duration": 320,
    "start_time": "2021-12-28T19:54:09.375Z"
   },
   {
    "duration": 468,
    "start_time": "2021-12-28T19:54:16.888Z"
   },
   {
    "duration": 344,
    "start_time": "2021-12-28T19:54:19.829Z"
   },
   {
    "duration": 378,
    "start_time": "2021-12-28T19:54:59.764Z"
   },
   {
    "duration": 334,
    "start_time": "2021-12-28T19:55:04.455Z"
   },
   {
    "duration": 685,
    "start_time": "2021-12-28T19:55:25.178Z"
   },
   {
    "duration": 343,
    "start_time": "2021-12-28T19:57:10.061Z"
   },
   {
    "duration": 372,
    "start_time": "2021-12-28T19:59:11.973Z"
   },
   {
    "duration": 357,
    "start_time": "2021-12-28T19:59:17.298Z"
   },
   {
    "duration": 378,
    "start_time": "2021-12-28T19:59:25.115Z"
   },
   {
    "duration": 356,
    "start_time": "2021-12-28T20:05:38.024Z"
   },
   {
    "duration": 352,
    "start_time": "2021-12-28T20:05:38.382Z"
   },
   {
    "duration": 317,
    "start_time": "2021-12-28T20:06:38.456Z"
   },
   {
    "duration": 325,
    "start_time": "2021-12-28T20:06:55.170Z"
   },
   {
    "duration": 334,
    "start_time": "2021-12-28T20:07:14.966Z"
   },
   {
    "duration": 578,
    "start_time": "2021-12-28T20:08:12.933Z"
   },
   {
    "duration": 506,
    "start_time": "2021-12-28T20:08:27.449Z"
   },
   {
    "duration": 622,
    "start_time": "2021-12-28T20:11:33.481Z"
   },
   {
    "duration": 561,
    "start_time": "2021-12-28T20:12:08.106Z"
   },
   {
    "duration": 337,
    "start_time": "2021-12-28T20:12:19.286Z"
   },
   {
    "duration": 369,
    "start_time": "2021-12-28T20:12:24.328Z"
   },
   {
    "duration": 345,
    "start_time": "2021-12-28T20:12:31.597Z"
   },
   {
    "duration": 379,
    "start_time": "2021-12-28T20:12:38.364Z"
   },
   {
    "duration": 365,
    "start_time": "2021-12-28T20:27:43.234Z"
   },
   {
    "duration": 1300,
    "start_time": "2021-12-28T20:27:50.967Z"
   },
   {
    "duration": 18,
    "start_time": "2021-12-28T20:27:52.270Z"
   },
   {
    "duration": 26,
    "start_time": "2021-12-28T20:27:54.080Z"
   },
   {
    "duration": 35,
    "start_time": "2021-12-28T20:27:54.545Z"
   },
   {
    "duration": 30,
    "start_time": "2021-12-28T20:27:54.856Z"
   },
   {
    "duration": 7,
    "start_time": "2021-12-28T20:27:55.148Z"
   },
   {
    "duration": 8,
    "start_time": "2021-12-28T20:27:55.436Z"
   },
   {
    "duration": 8,
    "start_time": "2021-12-28T20:27:55.682Z"
   },
   {
    "duration": 20,
    "start_time": "2021-12-28T20:27:55.936Z"
   },
   {
    "duration": 6,
    "start_time": "2021-12-28T20:27:56.179Z"
   },
   {
    "duration": 6,
    "start_time": "2021-12-28T20:27:56.428Z"
   },
   {
    "duration": 9,
    "start_time": "2021-12-28T20:27:56.676Z"
   },
   {
    "duration": 7,
    "start_time": "2021-12-28T20:27:56.980Z"
   },
   {
    "duration": 6,
    "start_time": "2021-12-28T20:27:57.219Z"
   },
   {
    "duration": 7,
    "start_time": "2021-12-28T20:27:57.501Z"
   },
   {
    "duration": 8,
    "start_time": "2021-12-28T20:27:57.750Z"
   },
   {
    "duration": 18,
    "start_time": "2021-12-28T20:27:58.013Z"
   },
   {
    "duration": 8,
    "start_time": "2021-12-28T20:27:58.274Z"
   },
   {
    "duration": 7,
    "start_time": "2021-12-28T20:27:58.544Z"
   },
   {
    "duration": 5,
    "start_time": "2021-12-28T20:27:58.790Z"
   },
   {
    "duration": 69,
    "start_time": "2021-12-28T20:27:59.070Z"
   },
   {
    "duration": 143,
    "start_time": "2021-12-28T20:27:59.890Z"
   },
   {
    "duration": 662,
    "start_time": "2021-12-28T20:28:00.141Z"
   },
   {
    "duration": 37,
    "start_time": "2021-12-28T20:28:00.805Z"
   },
   {
    "duration": 16,
    "start_time": "2021-12-28T20:28:00.906Z"
   },
   {
    "duration": 1946,
    "start_time": "2021-12-28T20:28:01.963Z"
   },
   {
    "duration": 357,
    "start_time": "2021-12-28T20:28:03.913Z"
   },
   {
    "duration": 10,
    "start_time": "2021-12-28T20:28:04.274Z"
   },
   {
    "duration": 568,
    "start_time": "2021-12-28T20:28:04.288Z"
   },
   {
    "duration": 578,
    "start_time": "2021-12-28T20:28:04.859Z"
   },
   {
    "duration": 26,
    "start_time": "2021-12-28T20:28:05.440Z"
   },
   {
    "duration": 378,
    "start_time": "2021-12-28T20:28:05.471Z"
   },
   {
    "duration": 587,
    "start_time": "2021-12-28T20:28:05.853Z"
   },
   {
    "duration": 612,
    "start_time": "2021-12-28T20:28:06.443Z"
   },
   {
    "duration": 358,
    "start_time": "2021-12-28T20:28:20.434Z"
   },
   {
    "duration": 396,
    "start_time": "2021-12-28T20:28:26.132Z"
   },
   {
    "duration": 326,
    "start_time": "2021-12-28T20:28:36.183Z"
   },
   {
    "duration": 419,
    "start_time": "2021-12-28T20:31:41.575Z"
   },
   {
    "duration": 362,
    "start_time": "2021-12-28T20:32:30.595Z"
   },
   {
    "duration": 454,
    "start_time": "2021-12-28T20:35:27.903Z"
   },
   {
    "duration": 319,
    "start_time": "2021-12-28T20:35:35.335Z"
   },
   {
    "duration": 362,
    "start_time": "2021-12-29T12:27:22.192Z"
   },
   {
    "duration": 1095,
    "start_time": "2021-12-29T12:27:29.627Z"
   },
   {
    "duration": 16,
    "start_time": "2021-12-29T12:27:30.725Z"
   },
   {
    "duration": 27,
    "start_time": "2021-12-29T12:27:32.760Z"
   },
   {
    "duration": 33,
    "start_time": "2021-12-29T12:27:33.778Z"
   },
   {
    "duration": 23,
    "start_time": "2021-12-29T12:27:34.666Z"
   },
   {
    "duration": 6,
    "start_time": "2021-12-29T12:27:35.210Z"
   },
   {
    "duration": 7,
    "start_time": "2021-12-29T12:27:35.639Z"
   },
   {
    "duration": 11,
    "start_time": "2021-12-29T12:27:36.009Z"
   },
   {
    "duration": 16,
    "start_time": "2021-12-29T12:27:36.321Z"
   },
   {
    "duration": 8,
    "start_time": "2021-12-29T12:27:36.659Z"
   },
   {
    "duration": 7,
    "start_time": "2021-12-29T12:27:36.955Z"
   },
   {
    "duration": 6,
    "start_time": "2021-12-29T12:27:37.182Z"
   },
   {
    "duration": 6,
    "start_time": "2021-12-29T12:27:37.417Z"
   },
   {
    "duration": 6,
    "start_time": "2021-12-29T12:27:37.650Z"
   },
   {
    "duration": 6,
    "start_time": "2021-12-29T12:27:37.877Z"
   },
   {
    "duration": 7,
    "start_time": "2021-12-29T12:27:38.112Z"
   },
   {
    "duration": 19,
    "start_time": "2021-12-29T12:27:38.354Z"
   },
   {
    "duration": 8,
    "start_time": "2021-12-29T12:27:38.598Z"
   },
   {
    "duration": 7,
    "start_time": "2021-12-29T12:27:38.861Z"
   },
   {
    "duration": 20,
    "start_time": "2021-12-29T12:27:39.142Z"
   },
   {
    "duration": 92,
    "start_time": "2021-12-29T12:27:39.429Z"
   },
   {
    "duration": 29,
    "start_time": "2021-12-29T12:27:40.243Z"
   },
   {
    "duration": 677,
    "start_time": "2021-12-29T12:27:40.539Z"
   },
   {
    "duration": 47,
    "start_time": "2021-12-29T12:27:41.218Z"
   },
   {
    "duration": 17,
    "start_time": "2021-12-29T12:27:41.358Z"
   },
   {
    "duration": 1161,
    "start_time": "2021-12-29T12:27:41.969Z"
   },
   {
    "duration": 341,
    "start_time": "2021-12-29T12:27:43.133Z"
   },
   {
    "duration": 8,
    "start_time": "2021-12-29T12:27:43.479Z"
   },
   {
    "duration": 521,
    "start_time": "2021-12-29T12:27:43.491Z"
   },
   {
    "duration": 370,
    "start_time": "2021-12-29T12:27:44.015Z"
   },
   {
    "duration": 24,
    "start_time": "2021-12-29T12:27:44.862Z"
   },
   {
    "duration": 374,
    "start_time": "2021-12-29T12:27:45.322Z"
   },
   {
    "duration": 380,
    "start_time": "2021-12-29T12:27:45.728Z"
   },
   {
    "duration": 571,
    "start_time": "2021-12-29T12:27:46.112Z"
   },
   {
    "duration": 392,
    "start_time": "2021-12-29T12:27:46.686Z"
   },
   {
    "duration": 372,
    "start_time": "2021-12-29T12:27:47.990Z"
   },
   {
    "duration": 367,
    "start_time": "2021-12-29T12:29:35.222Z"
   },
   {
    "duration": 417,
    "start_time": "2021-12-29T12:29:44.132Z"
   },
   {
    "duration": 7,
    "start_time": "2021-12-29T12:29:47.260Z"
   },
   {
    "duration": 7,
    "start_time": "2021-12-29T12:29:57.419Z"
   },
   {
    "duration": 8,
    "start_time": "2021-12-29T12:30:09.168Z"
   },
   {
    "duration": 7,
    "start_time": "2021-12-29T12:30:16.846Z"
   },
   {
    "duration": 6,
    "start_time": "2021-12-29T12:30:21.923Z"
   },
   {
    "duration": 7,
    "start_time": "2021-12-29T12:30:40.857Z"
   },
   {
    "duration": 6,
    "start_time": "2021-12-29T12:30:52.446Z"
   },
   {
    "duration": 10,
    "start_time": "2021-12-29T12:31:42.162Z"
   },
   {
    "duration": 7,
    "start_time": "2021-12-29T12:31:46.633Z"
   },
   {
    "duration": 8,
    "start_time": "2021-12-29T12:32:22.552Z"
   },
   {
    "duration": 8,
    "start_time": "2021-12-29T12:32:31.623Z"
   },
   {
    "duration": 8,
    "start_time": "2021-12-29T12:34:45.313Z"
   },
   {
    "duration": 8,
    "start_time": "2021-12-29T12:35:00.740Z"
   },
   {
    "duration": 363,
    "start_time": "2021-12-29T12:36:36.082Z"
   },
   {
    "duration": 248,
    "start_time": "2021-12-29T12:41:45.545Z"
   },
   {
    "duration": 373,
    "start_time": "2021-12-29T12:53:18.420Z"
   },
   {
    "duration": 283,
    "start_time": "2021-12-29T12:53:26.833Z"
   },
   {
    "duration": 337,
    "start_time": "2021-12-29T12:54:23.495Z"
   },
   {
    "duration": 231,
    "start_time": "2021-12-29T12:54:32.567Z"
   },
   {
    "duration": 218,
    "start_time": "2021-12-29T12:54:42.500Z"
   },
   {
    "duration": 252,
    "start_time": "2021-12-29T12:54:52.053Z"
   },
   {
    "duration": 15,
    "start_time": "2021-12-29T12:58:48.012Z"
   },
   {
    "duration": 407,
    "start_time": "2021-12-29T13:01:09.299Z"
   },
   {
    "duration": 688,
    "start_time": "2021-12-29T13:01:17.174Z"
   },
   {
    "duration": 538,
    "start_time": "2021-12-29T13:03:23.620Z"
   },
   {
    "duration": 762,
    "start_time": "2021-12-29T13:03:32.986Z"
   },
   {
    "duration": 216,
    "start_time": "2021-12-29T13:03:37.022Z"
   },
   {
    "duration": 12,
    "start_time": "2021-12-29T13:05:29.333Z"
   },
   {
    "duration": 1432,
    "start_time": "2021-12-29T13:18:53.296Z"
   },
   {
    "duration": 1326,
    "start_time": "2021-12-29T13:19:22.950Z"
   },
   {
    "duration": 1256,
    "start_time": "2021-12-29T13:20:02.193Z"
   },
   {
    "duration": 1324,
    "start_time": "2021-12-29T13:20:09.900Z"
   },
   {
    "duration": 1295,
    "start_time": "2021-12-29T13:20:15.975Z"
   },
   {
    "duration": 1314,
    "start_time": "2021-12-29T13:20:25.328Z"
   },
   {
    "duration": 1194,
    "start_time": "2021-12-29T13:26:01.238Z"
   },
   {
    "duration": 1135,
    "start_time": "2021-12-29T13:26:13.259Z"
   },
   {
    "duration": 696,
    "start_time": "2021-12-29T13:28:33.009Z"
   },
   {
    "duration": 13,
    "start_time": "2021-12-29T13:30:04.105Z"
   },
   {
    "duration": 710,
    "start_time": "2021-12-29T13:30:07.615Z"
   },
   {
    "duration": 10,
    "start_time": "2021-12-29T13:31:37.391Z"
   },
   {
    "duration": 8,
    "start_time": "2021-12-29T13:36:32.772Z"
   },
   {
    "duration": 7,
    "start_time": "2021-12-29T13:36:43.393Z"
   },
   {
    "duration": 7,
    "start_time": "2021-12-29T13:36:51.405Z"
   },
   {
    "duration": 56,
    "start_time": "2021-12-29T13:37:54.390Z"
   },
   {
    "duration": 252,
    "start_time": "2021-12-29T13:38:16.831Z"
   },
   {
    "duration": 192,
    "start_time": "2021-12-29T13:38:24.127Z"
   },
   {
    "duration": 22,
    "start_time": "2021-12-29T13:38:24.606Z"
   },
   {
    "duration": 32,
    "start_time": "2021-12-29T13:38:26.645Z"
   },
   {
    "duration": 43,
    "start_time": "2021-12-29T13:38:27.137Z"
   },
   {
    "duration": 31,
    "start_time": "2021-12-29T13:38:27.671Z"
   },
   {
    "duration": 7,
    "start_time": "2021-12-29T13:38:28.221Z"
   },
   {
    "duration": 17,
    "start_time": "2021-12-29T13:38:28.723Z"
   },
   {
    "duration": 12,
    "start_time": "2021-12-29T13:38:29.237Z"
   },
   {
    "duration": 21,
    "start_time": "2021-12-29T13:38:29.758Z"
   },
   {
    "duration": 7,
    "start_time": "2021-12-29T13:38:30.262Z"
   },
   {
    "duration": 12,
    "start_time": "2021-12-29T13:38:30.763Z"
   },
   {
    "duration": 17,
    "start_time": "2021-12-29T13:38:31.265Z"
   },
   {
    "duration": 6,
    "start_time": "2021-12-29T13:38:31.726Z"
   },
   {
    "duration": 5,
    "start_time": "2021-12-29T13:38:32.238Z"
   },
   {
    "duration": 7,
    "start_time": "2021-12-29T13:38:32.745Z"
   },
   {
    "duration": 7,
    "start_time": "2021-12-29T13:38:33.242Z"
   },
   {
    "duration": 17,
    "start_time": "2021-12-29T13:38:33.741Z"
   },
   {
    "duration": 8,
    "start_time": "2021-12-29T13:38:34.249Z"
   },
   {
    "duration": 10,
    "start_time": "2021-12-29T13:38:34.782Z"
   },
   {
    "duration": 6,
    "start_time": "2021-12-29T13:38:35.292Z"
   },
   {
    "duration": 63,
    "start_time": "2021-12-29T13:38:35.793Z"
   },
   {
    "duration": 12,
    "start_time": "2021-12-29T13:38:36.869Z"
   },
   {
    "duration": 852,
    "start_time": "2021-12-29T13:38:37.205Z"
   },
   {
    "duration": 55,
    "start_time": "2021-12-29T13:38:38.061Z"
   },
   {
    "duration": 17,
    "start_time": "2021-12-29T13:38:38.287Z"
   },
   {
    "duration": 1272,
    "start_time": "2021-12-29T13:38:39.080Z"
   },
   {
    "duration": 253,
    "start_time": "2021-12-29T13:38:40.355Z"
   },
   {
    "duration": 8,
    "start_time": "2021-12-29T13:38:40.611Z"
   },
   {
    "duration": 520,
    "start_time": "2021-12-29T13:38:40.622Z"
   },
   {
    "duration": 375,
    "start_time": "2021-12-29T13:38:41.145Z"
   },
   {
    "duration": 32,
    "start_time": "2021-12-29T13:38:41.858Z"
   },
   {
    "duration": 389,
    "start_time": "2021-12-29T13:38:42.539Z"
   },
   {
    "duration": 362,
    "start_time": "2021-12-29T13:38:43.340Z"
   },
   {
    "duration": 380,
    "start_time": "2021-12-29T13:38:43.905Z"
   },
   {
    "duration": 378,
    "start_time": "2021-12-29T13:38:44.657Z"
   },
   {
    "duration": 538,
    "start_time": "2021-12-29T13:38:49.388Z"
   },
   {
    "duration": 7,
    "start_time": "2021-12-29T13:38:51.578Z"
   },
   {
    "duration": 7,
    "start_time": "2021-12-29T13:38:52.705Z"
   },
   {
    "duration": 8,
    "start_time": "2021-12-29T13:38:53.225Z"
   },
   {
    "duration": 7,
    "start_time": "2021-12-29T13:38:53.667Z"
   },
   {
    "duration": 370,
    "start_time": "2021-12-29T13:38:55.216Z"
   },
   {
    "duration": 13,
    "start_time": "2021-12-29T13:38:57.444Z"
   },
   {
    "duration": 819,
    "start_time": "2021-12-29T13:39:02.212Z"
   },
   {
    "duration": 334,
    "start_time": "2021-12-29T13:39:12.284Z"
   },
   {
    "duration": 66,
    "start_time": "2021-12-29T13:39:14.101Z"
   },
   {
    "duration": 72,
    "start_time": "2021-12-29T13:39:26.044Z"
   },
   {
    "duration": 18,
    "start_time": "2021-12-29T13:40:06.535Z"
   },
   {
    "duration": 783,
    "start_time": "2021-12-29T13:40:15.694Z"
   },
   {
    "duration": 12,
    "start_time": "2021-12-29T13:41:31.601Z"
   },
   {
    "duration": 15,
    "start_time": "2021-12-29T13:41:57.158Z"
   },
   {
    "duration": 720,
    "start_time": "2021-12-29T13:42:00.116Z"
   },
   {
    "duration": 477,
    "start_time": "2021-12-29T13:42:59.705Z"
   },
   {
    "duration": 408,
    "start_time": "2021-12-29T19:25:30.229Z"
   },
   {
    "duration": 1170,
    "start_time": "2021-12-29T19:25:38.490Z"
   },
   {
    "duration": 19,
    "start_time": "2021-12-29T19:25:39.662Z"
   },
   {
    "duration": 26,
    "start_time": "2021-12-29T19:25:41.043Z"
   },
   {
    "duration": 33,
    "start_time": "2021-12-29T19:25:41.557Z"
   },
   {
    "duration": 39,
    "start_time": "2021-12-29T19:25:42.110Z"
   },
   {
    "duration": 8,
    "start_time": "2021-12-29T19:25:42.683Z"
   },
   {
    "duration": 7,
    "start_time": "2021-12-29T19:25:43.200Z"
   },
   {
    "duration": 9,
    "start_time": "2021-12-29T19:25:43.752Z"
   },
   {
    "duration": 17,
    "start_time": "2021-12-29T19:25:44.300Z"
   },
   {
    "duration": 8,
    "start_time": "2021-12-29T19:25:44.865Z"
   },
   {
    "duration": 9,
    "start_time": "2021-12-29T19:25:45.390Z"
   },
   {
    "duration": 9,
    "start_time": "2021-12-29T19:25:45.924Z"
   },
   {
    "duration": 8,
    "start_time": "2021-12-29T19:25:46.436Z"
   },
   {
    "duration": 6,
    "start_time": "2021-12-29T19:25:46.951Z"
   },
   {
    "duration": 7,
    "start_time": "2021-12-29T19:25:47.465Z"
   },
   {
    "duration": 8,
    "start_time": "2021-12-29T19:25:49.590Z"
   },
   {
    "duration": 20,
    "start_time": "2021-12-29T19:25:49.601Z"
   },
   {
    "duration": 13,
    "start_time": "2021-12-29T19:25:49.631Z"
   },
   {
    "duration": 13,
    "start_time": "2021-12-29T19:25:49.647Z"
   },
   {
    "duration": 6,
    "start_time": "2021-12-29T19:25:49.947Z"
   },
   {
    "duration": 77,
    "start_time": "2021-12-29T19:25:50.500Z"
   },
   {
    "duration": 15,
    "start_time": "2021-12-29T19:25:52.268Z"
   },
   {
    "duration": 686,
    "start_time": "2021-12-29T19:25:52.802Z"
   },
   {
    "duration": 35,
    "start_time": "2021-12-29T19:25:53.853Z"
   },
   {
    "duration": 17,
    "start_time": "2021-12-29T19:25:54.397Z"
   },
   {
    "duration": 1097,
    "start_time": "2021-12-29T19:25:55.507Z"
   },
   {
    "duration": 270,
    "start_time": "2021-12-29T19:25:56.607Z"
   },
   {
    "duration": 8,
    "start_time": "2021-12-29T19:25:56.881Z"
   },
   {
    "duration": 384,
    "start_time": "2021-12-29T19:25:57.019Z"
   },
   {
    "duration": 504,
    "start_time": "2021-12-29T19:25:57.434Z"
   },
   {
    "duration": 34,
    "start_time": "2021-12-29T19:25:58.359Z"
   },
   {
    "duration": 384,
    "start_time": "2021-12-29T19:25:58.900Z"
   },
   {
    "duration": 358,
    "start_time": "2021-12-29T19:25:59.411Z"
   },
   {
    "duration": 412,
    "start_time": "2021-12-29T19:26:00.178Z"
   },
   {
    "duration": 495,
    "start_time": "2021-12-29T19:26:01.019Z"
   },
   {
    "duration": 551,
    "start_time": "2021-12-29T19:26:03.496Z"
   },
   {
    "duration": 14,
    "start_time": "2021-12-29T19:26:04.540Z"
   },
   {
    "duration": 7,
    "start_time": "2021-12-29T19:26:05.071Z"
   },
   {
    "duration": 8,
    "start_time": "2021-12-29T19:26:05.468Z"
   },
   {
    "duration": 6,
    "start_time": "2021-12-29T19:26:05.889Z"
   },
   {
    "duration": 244,
    "start_time": "2021-12-29T19:26:06.706Z"
   },
   {
    "duration": 19,
    "start_time": "2021-12-29T19:26:08.896Z"
   },
   {
    "duration": 904,
    "start_time": "2021-12-29T19:26:16.538Z"
   },
   {
    "duration": 309,
    "start_time": "2021-12-29T19:26:23.555Z"
   },
   {
    "duration": 105,
    "start_time": "2021-12-29T19:26:29.239Z"
   },
   {
    "duration": 18,
    "start_time": "2021-12-29T19:26:46.551Z"
   },
   {
    "duration": 973,
    "start_time": "2021-12-29T19:26:53.518Z"
   },
   {
    "duration": 590,
    "start_time": "2021-12-29T19:26:59.720Z"
   },
   {
    "duration": 12,
    "start_time": "2021-12-29T19:30:55.487Z"
   },
   {
    "duration": 19,
    "start_time": "2021-12-29T19:31:15.220Z"
   },
   {
    "duration": 113,
    "start_time": "2021-12-29T19:31:32.352Z"
   },
   {
    "duration": 18,
    "start_time": "2021-12-29T19:31:39.888Z"
   },
   {
    "duration": 1706,
    "start_time": "2021-12-29T19:35:49.516Z"
   },
   {
    "duration": 601,
    "start_time": "2021-12-29T19:37:16.306Z"
   },
   {
    "duration": 293,
    "start_time": "2021-12-29T19:38:30.463Z"
   },
   {
    "duration": 246,
    "start_time": "2021-12-29T19:39:07.577Z"
   },
   {
    "duration": 248,
    "start_time": "2021-12-29T19:47:32.805Z"
   },
   {
    "duration": 149,
    "start_time": "2021-12-29T19:47:50.730Z"
   },
   {
    "duration": 18,
    "start_time": "2021-12-29T19:47:51.455Z"
   },
   {
    "duration": 33,
    "start_time": "2021-12-29T19:47:53.710Z"
   },
   {
    "duration": 50,
    "start_time": "2021-12-29T19:47:54.195Z"
   },
   {
    "duration": 24,
    "start_time": "2021-12-29T19:47:54.686Z"
   },
   {
    "duration": 7,
    "start_time": "2021-12-29T19:47:55.171Z"
   },
   {
    "duration": 7,
    "start_time": "2021-12-29T19:47:55.661Z"
   },
   {
    "duration": 9,
    "start_time": "2021-12-29T19:47:56.163Z"
   },
   {
    "duration": 15,
    "start_time": "2021-12-29T19:47:56.654Z"
   },
   {
    "duration": 7,
    "start_time": "2021-12-29T19:47:57.173Z"
   },
   {
    "duration": 7,
    "start_time": "2021-12-29T19:47:57.634Z"
   },
   {
    "duration": 8,
    "start_time": "2021-12-29T19:47:58.111Z"
   },
   {
    "duration": 7,
    "start_time": "2021-12-29T19:47:58.596Z"
   },
   {
    "duration": 6,
    "start_time": "2021-12-29T19:47:59.065Z"
   },
   {
    "duration": 7,
    "start_time": "2021-12-29T19:47:59.534Z"
   },
   {
    "duration": 9,
    "start_time": "2021-12-29T19:47:59.997Z"
   },
   {
    "duration": 29,
    "start_time": "2021-12-29T19:48:00.431Z"
   },
   {
    "duration": 9,
    "start_time": "2021-12-29T19:48:00.897Z"
   },
   {
    "duration": 7,
    "start_time": "2021-12-29T19:48:01.343Z"
   },
   {
    "duration": 10,
    "start_time": "2021-12-29T19:48:01.822Z"
   },
   {
    "duration": 72,
    "start_time": "2021-12-29T19:48:02.259Z"
   },
   {
    "duration": 9,
    "start_time": "2021-12-29T19:48:03.648Z"
   },
   {
    "duration": 684,
    "start_time": "2021-12-29T19:48:04.118Z"
   },
   {
    "duration": 35,
    "start_time": "2021-12-29T19:48:05.074Z"
   },
   {
    "duration": 16,
    "start_time": "2021-12-29T19:48:05.590Z"
   },
   {
    "duration": 1126,
    "start_time": "2021-12-29T19:48:06.494Z"
   },
   {
    "duration": 253,
    "start_time": "2021-12-29T19:48:07.623Z"
   },
   {
    "duration": 7,
    "start_time": "2021-12-29T19:48:08.146Z"
   },
   {
    "duration": 362,
    "start_time": "2021-12-29T19:48:08.692Z"
   },
   {
    "duration": 380,
    "start_time": "2021-12-29T19:48:09.173Z"
   },
   {
    "duration": 36,
    "start_time": "2021-12-29T19:48:09.749Z"
   },
   {
    "duration": 381,
    "start_time": "2021-12-29T19:48:09.961Z"
   },
   {
    "duration": 393,
    "start_time": "2021-12-29T19:48:10.344Z"
   },
   {
    "duration": 394,
    "start_time": "2021-12-29T19:48:10.741Z"
   },
   {
    "duration": 388,
    "start_time": "2021-12-29T19:48:11.140Z"
   },
   {
    "duration": 559,
    "start_time": "2021-12-29T19:48:11.532Z"
   },
   {
    "duration": 23,
    "start_time": "2021-12-29T19:48:12.094Z"
   },
   {
    "duration": 9,
    "start_time": "2021-12-29T19:48:12.122Z"
   },
   {
    "duration": 7,
    "start_time": "2021-12-29T19:48:12.390Z"
   },
   {
    "duration": 7,
    "start_time": "2021-12-29T19:48:12.731Z"
   },
   {
    "duration": 316,
    "start_time": "2021-12-29T19:48:12.958Z"
   },
   {
    "duration": 12,
    "start_time": "2021-12-29T19:48:13.501Z"
   },
   {
    "duration": 672,
    "start_time": "2021-12-29T19:48:13.810Z"
   },
   {
    "duration": 248,
    "start_time": "2021-12-29T19:48:14.486Z"
   },
   {
    "duration": 81,
    "start_time": "2021-12-29T19:48:14.738Z"
   },
   {
    "duration": 17,
    "start_time": "2021-12-29T19:48:14.822Z"
   },
   {
    "duration": 943,
    "start_time": "2021-12-29T19:48:16.074Z"
   },
   {
    "duration": 531,
    "start_time": "2021-12-29T19:48:17.020Z"
   },
   {
    "duration": 317,
    "start_time": "2021-12-29T19:48:18.117Z"
   },
   {
    "duration": 238,
    "start_time": "2021-12-29T19:48:20.633Z"
   },
   {
    "duration": 310,
    "start_time": "2021-12-29T19:48:57.881Z"
   },
   {
    "duration": 406,
    "start_time": "2021-12-29T19:50:40.453Z"
   },
   {
    "duration": 359,
    "start_time": "2021-12-29T19:55:17.072Z"
   },
   {
    "duration": 15,
    "start_time": "2021-12-29T19:58:16.452Z"
   },
   {
    "duration": 10,
    "start_time": "2021-12-29T19:58:17.209Z"
   },
   {
    "duration": 785,
    "start_time": "2021-12-29T19:58:19.216Z"
   },
   {
    "duration": 241,
    "start_time": "2021-12-29T19:58:20.012Z"
   },
   {
    "duration": 7,
    "start_time": "2021-12-29T19:58:21.479Z"
   },
   {
    "duration": 387,
    "start_time": "2021-12-29T19:58:22.008Z"
   },
   {
    "duration": 366,
    "start_time": "2021-12-29T19:58:22.487Z"
   },
   {
    "duration": 26,
    "start_time": "2021-12-29T19:58:23.593Z"
   },
   {
    "duration": 659,
    "start_time": "2021-12-29T19:58:24.198Z"
   },
   {
    "duration": 562,
    "start_time": "2021-12-29T19:58:24.875Z"
   },
   {
    "duration": 379,
    "start_time": "2021-12-29T19:58:25.494Z"
   },
   {
    "duration": 370,
    "start_time": "2021-12-29T19:58:26.165Z"
   },
   {
    "duration": 340,
    "start_time": "2021-12-29T19:58:28.442Z"
   },
   {
    "duration": 8,
    "start_time": "2021-12-29T19:58:28.830Z"
   },
   {
    "duration": 6,
    "start_time": "2021-12-29T19:58:29.114Z"
   },
   {
    "duration": 8,
    "start_time": "2021-12-29T19:58:29.338Z"
   },
   {
    "duration": 13,
    "start_time": "2021-12-29T19:58:29.530Z"
   },
   {
    "duration": 257,
    "start_time": "2021-12-29T19:58:29.722Z"
   },
   {
    "duration": 27,
    "start_time": "2021-12-29T19:58:30.118Z"
   },
   {
    "duration": 854,
    "start_time": "2021-12-29T19:58:30.342Z"
   },
   {
    "duration": 259,
    "start_time": "2021-12-29T19:58:31.200Z"
   },
   {
    "duration": 84,
    "start_time": "2021-12-29T19:58:31.467Z"
   },
   {
    "duration": 19,
    "start_time": "2021-12-29T19:58:31.554Z"
   },
   {
    "duration": 928,
    "start_time": "2021-12-29T19:58:31.657Z"
   },
   {
    "duration": 654,
    "start_time": "2021-12-29T19:58:32.589Z"
   },
   {
    "duration": 251,
    "start_time": "2021-12-29T19:58:33.247Z"
   },
   {
    "duration": 254,
    "start_time": "2021-12-29T19:58:35.678Z"
   },
   {
    "duration": 321,
    "start_time": "2021-12-29T19:58:45.106Z"
   },
   {
    "duration": 263,
    "start_time": "2021-12-29T19:58:53.306Z"
   },
   {
    "duration": 448,
    "start_time": "2022-01-05T17:45:14.405Z"
   },
   {
    "duration": 382,
    "start_time": "2022-01-05T17:45:20.210Z"
   },
   {
    "duration": 374,
    "start_time": "2022-01-05T17:52:32.459Z"
   },
   {
    "duration": 887,
    "start_time": "2022-01-05T17:52:38.106Z"
   },
   {
    "duration": 17,
    "start_time": "2022-01-05T17:52:38.995Z"
   },
   {
    "duration": 26,
    "start_time": "2022-01-05T17:52:40.839Z"
   },
   {
    "duration": 33,
    "start_time": "2022-01-05T17:52:41.481Z"
   },
   {
    "duration": 21,
    "start_time": "2022-01-05T17:52:41.516Z"
   },
   {
    "duration": 6,
    "start_time": "2022-01-05T17:52:41.540Z"
   },
   {
    "duration": 8,
    "start_time": "2022-01-05T17:52:41.630Z"
   },
   {
    "duration": 9,
    "start_time": "2022-01-05T17:52:41.806Z"
   },
   {
    "duration": 16,
    "start_time": "2022-01-05T17:52:41.980Z"
   },
   {
    "duration": 6,
    "start_time": "2022-01-05T17:52:42.156Z"
   },
   {
    "duration": 6,
    "start_time": "2022-01-05T17:52:42.322Z"
   },
   {
    "duration": 6,
    "start_time": "2022-01-05T17:52:42.493Z"
   },
   {
    "duration": 6,
    "start_time": "2022-01-05T17:52:42.652Z"
   },
   {
    "duration": 5,
    "start_time": "2022-01-05T17:52:42.826Z"
   },
   {
    "duration": 7,
    "start_time": "2022-01-05T17:52:42.998Z"
   },
   {
    "duration": 8,
    "start_time": "2022-01-05T17:52:43.167Z"
   },
   {
    "duration": 15,
    "start_time": "2022-01-05T17:52:43.328Z"
   },
   {
    "duration": 8,
    "start_time": "2022-01-05T17:52:43.498Z"
   },
   {
    "duration": 7,
    "start_time": "2022-01-05T17:52:43.680Z"
   },
   {
    "duration": 5,
    "start_time": "2022-01-05T17:52:43.834Z"
   },
   {
    "duration": 66,
    "start_time": "2022-01-05T17:52:43.999Z"
   },
   {
    "duration": 15,
    "start_time": "2022-01-05T17:52:44.505Z"
   },
   {
    "duration": 654,
    "start_time": "2022-01-05T17:52:44.678Z"
   },
   {
    "duration": 43,
    "start_time": "2022-01-05T17:52:45.335Z"
   },
   {
    "duration": 15,
    "start_time": "2022-01-05T17:52:45.381Z"
   },
   {
    "duration": 1107,
    "start_time": "2022-01-05T17:52:45.513Z"
   },
   {
    "duration": 245,
    "start_time": "2022-01-05T17:52:46.623Z"
   },
   {
    "duration": 8,
    "start_time": "2022-01-05T17:52:46.872Z"
   },
   {
    "duration": 364,
    "start_time": "2022-01-05T17:52:46.883Z"
   },
   {
    "duration": 361,
    "start_time": "2022-01-05T17:52:47.249Z"
   },
   {
    "duration": 26,
    "start_time": "2022-01-05T17:52:47.612Z"
   },
   {
    "duration": 378,
    "start_time": "2022-01-05T17:52:47.641Z"
   },
   {
    "duration": 369,
    "start_time": "2022-01-05T17:52:48.022Z"
   },
   {
    "duration": 389,
    "start_time": "2022-01-05T17:52:48.394Z"
   },
   {
    "duration": 377,
    "start_time": "2022-01-05T17:52:48.786Z"
   },
   {
    "duration": 396,
    "start_time": "2022-01-05T17:52:49.167Z"
   },
   {
    "duration": 5,
    "start_time": "2022-01-05T17:52:49.566Z"
   },
   {
    "duration": 6,
    "start_time": "2022-01-05T17:52:49.606Z"
   },
   {
    "duration": 6,
    "start_time": "2022-01-05T17:52:49.986Z"
   },
   {
    "duration": 7,
    "start_time": "2022-01-05T17:52:50.337Z"
   },
   {
    "duration": 234,
    "start_time": "2022-01-05T17:52:50.743Z"
   },
   {
    "duration": 14,
    "start_time": "2022-01-05T17:52:51.684Z"
   },
   {
    "duration": 597,
    "start_time": "2022-01-05T17:52:52.155Z"
   },
   {
    "duration": 238,
    "start_time": "2022-01-05T17:52:52.755Z"
   },
   {
    "duration": 81,
    "start_time": "2022-01-05T17:52:52.996Z"
   },
   {
    "duration": 13,
    "start_time": "2022-01-05T17:52:53.420Z"
   },
   {
    "duration": 692,
    "start_time": "2022-01-05T17:52:54.616Z"
   },
   {
    "duration": 458,
    "start_time": "2022-01-05T17:52:55.431Z"
   },
   {
    "duration": 213,
    "start_time": "2022-01-05T17:52:56.295Z"
   },
   {
    "duration": 238,
    "start_time": "2022-01-05T17:52:57.092Z"
   },
   {
    "duration": 303,
    "start_time": "2022-01-05T17:52:57.926Z"
   },
   {
    "duration": 261,
    "start_time": "2022-01-05T17:52:58.658Z"
   },
   {
    "duration": 16,
    "start_time": "2022-01-05T17:52:59.391Z"
   },
   {
    "duration": 14,
    "start_time": "2022-01-05T17:53:14.862Z"
   },
   {
    "duration": 478,
    "start_time": "2022-01-05T17:54:52.176Z"
   },
   {
    "duration": 372,
    "start_time": "2022-01-05T17:54:57.660Z"
   },
   {
    "duration": 15,
    "start_time": "2022-01-05T17:55:28.601Z"
   },
   {
    "duration": 1159,
    "start_time": "2022-01-05T18:06:30.867Z"
   },
   {
    "duration": 17,
    "start_time": "2022-01-05T18:06:36.097Z"
   },
   {
    "duration": 27,
    "start_time": "2022-01-05T18:06:38.410Z"
   },
   {
    "duration": 33,
    "start_time": "2022-01-05T18:06:38.891Z"
   },
   {
    "duration": 23,
    "start_time": "2022-01-05T18:06:54.733Z"
   },
   {
    "duration": 6,
    "start_time": "2022-01-05T18:06:55.363Z"
   },
   {
    "duration": 7,
    "start_time": "2022-01-05T18:06:55.713Z"
   },
   {
    "duration": 8,
    "start_time": "2022-01-05T18:06:55.925Z"
   },
   {
    "duration": 19,
    "start_time": "2022-01-05T18:06:56.235Z"
   },
   {
    "duration": 6,
    "start_time": "2022-01-05T18:06:56.445Z"
   },
   {
    "duration": 6,
    "start_time": "2022-01-05T18:06:56.659Z"
   },
   {
    "duration": 7,
    "start_time": "2022-01-05T18:06:56.825Z"
   },
   {
    "duration": 7,
    "start_time": "2022-01-05T18:06:56.979Z"
   },
   {
    "duration": 6,
    "start_time": "2022-01-05T18:06:57.127Z"
   },
   {
    "duration": 6,
    "start_time": "2022-01-05T18:06:57.281Z"
   },
   {
    "duration": 7,
    "start_time": "2022-01-05T18:06:57.436Z"
   },
   {
    "duration": 15,
    "start_time": "2022-01-05T18:06:57.599Z"
   },
   {
    "duration": 9,
    "start_time": "2022-01-05T18:06:57.760Z"
   },
   {
    "duration": 8,
    "start_time": "2022-01-05T18:06:57.925Z"
   },
   {
    "duration": 4,
    "start_time": "2022-01-05T18:06:58.089Z"
   },
   {
    "duration": 62,
    "start_time": "2022-01-05T18:06:58.248Z"
   },
   {
    "duration": 69,
    "start_time": "2022-01-05T18:06:58.736Z"
   },
   {
    "duration": 672,
    "start_time": "2022-01-05T18:06:58.895Z"
   },
   {
    "duration": 34,
    "start_time": "2022-01-05T18:06:59.570Z"
   },
   {
    "duration": 14,
    "start_time": "2022-01-05T18:06:59.607Z"
   },
   {
    "duration": 1118,
    "start_time": "2022-01-05T18:06:59.694Z"
   },
   {
    "duration": 263,
    "start_time": "2022-01-05T18:07:00.816Z"
   },
   {
    "duration": 7,
    "start_time": "2022-01-05T18:07:01.082Z"
   },
   {
    "duration": 421,
    "start_time": "2022-01-05T18:07:01.092Z"
   },
   {
    "duration": 379,
    "start_time": "2022-01-05T18:07:01.516Z"
   },
   {
    "duration": 28,
    "start_time": "2022-01-05T18:07:01.898Z"
   },
   {
    "duration": 364,
    "start_time": "2022-01-05T18:07:01.929Z"
   },
   {
    "duration": 371,
    "start_time": "2022-01-05T18:07:02.295Z"
   },
   {
    "duration": 385,
    "start_time": "2022-01-05T18:07:02.668Z"
   },
   {
    "duration": 376,
    "start_time": "2022-01-05T18:07:03.056Z"
   },
   {
    "duration": 382,
    "start_time": "2022-01-05T18:07:03.435Z"
   },
   {
    "duration": 5,
    "start_time": "2022-01-05T18:07:03.820Z"
   },
   {
    "duration": 6,
    "start_time": "2022-01-05T18:07:03.828Z"
   },
   {
    "duration": 6,
    "start_time": "2022-01-05T18:07:03.861Z"
   },
   {
    "duration": 6,
    "start_time": "2022-01-05T18:07:03.870Z"
   },
   {
    "duration": 258,
    "start_time": "2022-01-05T18:07:03.879Z"
   },
   {
    "duration": 26,
    "start_time": "2022-01-05T18:07:04.139Z"
   },
   {
    "duration": 600,
    "start_time": "2022-01-05T18:07:04.275Z"
   },
   {
    "duration": 227,
    "start_time": "2022-01-05T18:07:04.878Z"
   },
   {
    "duration": 83,
    "start_time": "2022-01-05T18:07:05.108Z"
   },
   {
    "duration": 13,
    "start_time": "2022-01-05T18:07:05.195Z"
   },
   {
    "duration": 720,
    "start_time": "2022-01-05T18:07:05.281Z"
   },
   {
    "duration": 524,
    "start_time": "2022-01-05T18:07:06.004Z"
   },
   {
    "duration": 228,
    "start_time": "2022-01-05T18:07:06.531Z"
   },
   {
    "duration": 258,
    "start_time": "2022-01-05T18:07:06.761Z"
   },
   {
    "duration": 307,
    "start_time": "2022-01-05T18:07:07.022Z"
   },
   {
    "duration": 251,
    "start_time": "2022-01-05T18:07:07.332Z"
   },
   {
    "duration": 9,
    "start_time": "2022-01-05T18:07:09.199Z"
   },
   {
    "duration": 15,
    "start_time": "2022-01-05T18:07:10.873Z"
   },
   {
    "duration": 182,
    "start_time": "2022-01-05T18:08:33.088Z"
   },
   {
    "duration": 617,
    "start_time": "2022-01-05T18:08:36.845Z"
   },
   {
    "duration": 8,
    "start_time": "2022-01-05T18:09:07.659Z"
   },
   {
    "duration": 8,
    "start_time": "2022-01-05T18:09:21.917Z"
   },
   {
    "duration": 5,
    "start_time": "2022-01-05T18:10:41.588Z"
   },
   {
    "duration": 16,
    "start_time": "2022-01-05T18:10:45.187Z"
   },
   {
    "duration": 5,
    "start_time": "2022-01-05T18:11:10.682Z"
   },
   {
    "duration": 15,
    "start_time": "2022-01-05T18:11:11.302Z"
   },
   {
    "duration": 5,
    "start_time": "2022-01-05T18:11:42.940Z"
   },
   {
    "duration": 16,
    "start_time": "2022-01-05T18:11:43.930Z"
   },
   {
    "duration": 5,
    "start_time": "2022-01-05T18:12:54.293Z"
   },
   {
    "duration": 15,
    "start_time": "2022-01-05T18:12:55.113Z"
   },
   {
    "duration": 134,
    "start_time": "2022-01-05T18:12:58.841Z"
   },
   {
    "duration": 16,
    "start_time": "2022-01-05T18:12:59.253Z"
   },
   {
    "duration": 5,
    "start_time": "2022-01-05T18:13:06.997Z"
   },
   {
    "duration": 15,
    "start_time": "2022-01-05T18:13:07.551Z"
   },
   {
    "duration": 152,
    "start_time": "2022-01-05T18:13:19.249Z"
   },
   {
    "duration": 15,
    "start_time": "2022-01-05T18:13:19.404Z"
   },
   {
    "duration": 25,
    "start_time": "2022-01-05T18:13:19.738Z"
   },
   {
    "duration": 31,
    "start_time": "2022-01-05T18:13:19.876Z"
   },
   {
    "duration": 29,
    "start_time": "2022-01-05T18:13:21.782Z"
   },
   {
    "duration": 8,
    "start_time": "2022-01-05T18:13:21.814Z"
   },
   {
    "duration": 12,
    "start_time": "2022-01-05T18:13:21.825Z"
   },
   {
    "duration": 23,
    "start_time": "2022-01-05T18:13:21.840Z"
   },
   {
    "duration": 15,
    "start_time": "2022-01-05T18:13:21.865Z"
   },
   {
    "duration": 8,
    "start_time": "2022-01-05T18:13:21.882Z"
   },
   {
    "duration": 9,
    "start_time": "2022-01-05T18:13:21.892Z"
   },
   {
    "duration": 11,
    "start_time": "2022-01-05T18:13:21.904Z"
   },
   {
    "duration": 42,
    "start_time": "2022-01-05T18:13:21.919Z"
   },
   {
    "duration": 5,
    "start_time": "2022-01-05T18:13:21.963Z"
   },
   {
    "duration": 17,
    "start_time": "2022-01-05T18:13:21.971Z"
   },
   {
    "duration": 24,
    "start_time": "2022-01-05T18:13:21.991Z"
   },
   {
    "duration": 26,
    "start_time": "2022-01-05T18:13:22.017Z"
   },
   {
    "duration": 29,
    "start_time": "2022-01-05T18:13:22.045Z"
   },
   {
    "duration": 16,
    "start_time": "2022-01-05T18:13:22.077Z"
   },
   {
    "duration": 5,
    "start_time": "2022-01-05T18:13:22.127Z"
   },
   {
    "duration": 62,
    "start_time": "2022-01-05T18:13:22.276Z"
   },
   {
    "duration": 9,
    "start_time": "2022-01-05T18:13:22.718Z"
   },
   {
    "duration": 586,
    "start_time": "2022-01-05T18:13:22.873Z"
   },
   {
    "duration": 34,
    "start_time": "2022-01-05T18:13:23.462Z"
   },
   {
    "duration": 16,
    "start_time": "2022-01-05T18:13:23.499Z"
   },
   {
    "duration": 1050,
    "start_time": "2022-01-05T18:13:23.592Z"
   },
   {
    "duration": 246,
    "start_time": "2022-01-05T18:13:24.646Z"
   },
   {
    "duration": 7,
    "start_time": "2022-01-05T18:13:24.895Z"
   },
   {
    "duration": 349,
    "start_time": "2022-01-05T18:13:24.906Z"
   },
   {
    "duration": 445,
    "start_time": "2022-01-05T18:13:25.259Z"
   },
   {
    "duration": 25,
    "start_time": "2022-01-05T18:13:25.706Z"
   },
   {
    "duration": 364,
    "start_time": "2022-01-05T18:13:25.734Z"
   },
   {
    "duration": 363,
    "start_time": "2022-01-05T18:13:26.101Z"
   },
   {
    "duration": 373,
    "start_time": "2022-01-05T18:13:26.466Z"
   },
   {
    "duration": 379,
    "start_time": "2022-01-05T18:13:26.842Z"
   },
   {
    "duration": 383,
    "start_time": "2022-01-05T18:13:27.224Z"
   },
   {
    "duration": 6,
    "start_time": "2022-01-05T18:13:27.610Z"
   },
   {
    "duration": 17,
    "start_time": "2022-01-05T18:13:27.618Z"
   },
   {
    "duration": 23,
    "start_time": "2022-01-05T18:13:27.637Z"
   },
   {
    "duration": 10,
    "start_time": "2022-01-05T18:13:27.663Z"
   },
   {
    "duration": 416,
    "start_time": "2022-01-05T18:13:27.675Z"
   },
   {
    "duration": 11,
    "start_time": "2022-01-05T18:13:28.094Z"
   },
   {
    "duration": 541,
    "start_time": "2022-01-05T18:13:28.108Z"
   },
   {
    "duration": 229,
    "start_time": "2022-01-05T18:13:28.651Z"
   },
   {
    "duration": 78,
    "start_time": "2022-01-05T18:13:28.883Z"
   },
   {
    "duration": 12,
    "start_time": "2022-01-05T18:13:28.963Z"
   },
   {
    "duration": 702,
    "start_time": "2022-01-05T18:13:28.978Z"
   },
   {
    "duration": 479,
    "start_time": "2022-01-05T18:13:29.683Z"
   },
   {
    "duration": 238,
    "start_time": "2022-01-05T18:13:30.165Z"
   },
   {
    "duration": 274,
    "start_time": "2022-01-05T18:13:30.406Z"
   },
   {
    "duration": 308,
    "start_time": "2022-01-05T18:13:30.682Z"
   },
   {
    "duration": 253,
    "start_time": "2022-01-05T18:13:30.993Z"
   },
   {
    "duration": 14,
    "start_time": "2022-01-05T18:13:31.248Z"
   },
   {
    "duration": 20,
    "start_time": "2022-01-05T18:13:31.265Z"
   },
   {
    "duration": 9591,
    "start_time": "2022-01-05T18:13:31.288Z"
   },
   {
    "duration": 9750,
    "start_time": "2022-01-05T18:15:14.246Z"
   },
   {
    "duration": 9741,
    "start_time": "2022-01-05T18:15:55.696Z"
   },
   {
    "duration": 7263,
    "start_time": "2022-01-05T18:16:56.704Z"
   },
   {
    "duration": 947,
    "start_time": "2022-01-05T18:18:42.657Z"
   },
   {
    "duration": 455,
    "start_time": "2022-01-05T18:22:32.618Z"
   },
   {
    "duration": 5,
    "start_time": "2022-01-05T18:25:07.382Z"
   },
   {
    "duration": 15,
    "start_time": "2022-01-05T18:25:08.173Z"
   },
   {
    "duration": 6,
    "start_time": "2022-01-05T18:25:14.984Z"
   },
   {
    "duration": 16,
    "start_time": "2022-01-05T18:25:15.608Z"
   },
   {
    "duration": 5,
    "start_time": "2022-01-05T18:25:20.217Z"
   },
   {
    "duration": 27,
    "start_time": "2022-01-05T18:25:20.225Z"
   },
   {
    "duration": 529,
    "start_time": "2022-01-05T18:25:20.255Z"
   },
   {
    "duration": 168,
    "start_time": "2022-01-05T18:25:51.833Z"
   },
   {
    "duration": 15,
    "start_time": "2022-01-05T18:25:52.005Z"
   },
   {
    "duration": 44,
    "start_time": "2022-01-05T18:25:52.024Z"
   },
   {
    "duration": 29,
    "start_time": "2022-01-05T18:25:52.071Z"
   },
   {
    "duration": 22,
    "start_time": "2022-01-05T18:25:52.102Z"
   },
   {
    "duration": 36,
    "start_time": "2022-01-05T18:25:52.127Z"
   },
   {
    "duration": 9,
    "start_time": "2022-01-05T18:25:52.166Z"
   },
   {
    "duration": 11,
    "start_time": "2022-01-05T18:25:52.178Z"
   },
   {
    "duration": 15,
    "start_time": "2022-01-05T18:25:52.195Z"
   },
   {
    "duration": 8,
    "start_time": "2022-01-05T18:25:52.261Z"
   },
   {
    "duration": 7,
    "start_time": "2022-01-05T18:25:52.272Z"
   },
   {
    "duration": 8,
    "start_time": "2022-01-05T18:25:52.282Z"
   },
   {
    "duration": 7,
    "start_time": "2022-01-05T18:25:52.293Z"
   },
   {
    "duration": 58,
    "start_time": "2022-01-05T18:25:52.303Z"
   },
   {
    "duration": 8,
    "start_time": "2022-01-05T18:25:52.364Z"
   },
   {
    "duration": 7,
    "start_time": "2022-01-05T18:25:52.374Z"
   },
   {
    "duration": 16,
    "start_time": "2022-01-05T18:25:52.383Z"
   },
   {
    "duration": 8,
    "start_time": "2022-01-05T18:25:52.401Z"
   },
   {
    "duration": 52,
    "start_time": "2022-01-05T18:25:52.412Z"
   },
   {
    "duration": 6,
    "start_time": "2022-01-05T18:25:52.466Z"
   },
   {
    "duration": 60,
    "start_time": "2022-01-05T18:25:52.474Z"
   },
   {
    "duration": 29,
    "start_time": "2022-01-05T18:25:52.536Z"
   },
   {
    "duration": 565,
    "start_time": "2022-01-05T18:25:52.567Z"
   },
   {
    "duration": 39,
    "start_time": "2022-01-05T18:25:53.135Z"
   },
   {
    "duration": 15,
    "start_time": "2022-01-05T18:25:53.177Z"
   },
   {
    "duration": 956,
    "start_time": "2022-01-05T18:25:53.194Z"
   },
   {
    "duration": 239,
    "start_time": "2022-01-05T18:25:54.155Z"
   },
   {
    "duration": 7,
    "start_time": "2022-01-05T18:25:54.397Z"
   },
   {
    "duration": 355,
    "start_time": "2022-01-05T18:25:54.407Z"
   },
   {
    "duration": 353,
    "start_time": "2022-01-05T18:25:54.764Z"
   },
   {
    "duration": 40,
    "start_time": "2022-01-05T18:25:55.119Z"
   },
   {
    "duration": 366,
    "start_time": "2022-01-05T18:25:55.162Z"
   },
   {
    "duration": 364,
    "start_time": "2022-01-05T18:25:55.531Z"
   },
   {
    "duration": 395,
    "start_time": "2022-01-05T18:25:55.898Z"
   },
   {
    "duration": 371,
    "start_time": "2022-01-05T18:25:56.296Z"
   },
   {
    "duration": 395,
    "start_time": "2022-01-05T18:25:56.670Z"
   },
   {
    "duration": 6,
    "start_time": "2022-01-05T18:25:57.068Z"
   },
   {
    "duration": 7,
    "start_time": "2022-01-05T18:25:57.077Z"
   },
   {
    "duration": 6,
    "start_time": "2022-01-05T18:25:57.087Z"
   },
   {
    "duration": 6,
    "start_time": "2022-01-05T18:25:57.095Z"
   },
   {
    "duration": 589,
    "start_time": "2022-01-05T18:25:57.103Z"
   },
   {
    "duration": 11,
    "start_time": "2022-01-05T18:25:57.694Z"
   },
   {
    "duration": 584,
    "start_time": "2022-01-05T18:25:57.708Z"
   },
   {
    "duration": 235,
    "start_time": "2022-01-05T18:25:58.295Z"
   },
   {
    "duration": 78,
    "start_time": "2022-01-05T18:25:58.533Z"
   },
   {
    "duration": 16,
    "start_time": "2022-01-05T18:25:58.615Z"
   },
   {
    "duration": 794,
    "start_time": "2022-01-05T18:25:58.633Z"
   },
   {
    "duration": 479,
    "start_time": "2022-01-05T18:25:59.429Z"
   },
   {
    "duration": 241,
    "start_time": "2022-01-05T18:25:59.911Z"
   },
   {
    "duration": 282,
    "start_time": "2022-01-05T18:26:00.155Z"
   },
   {
    "duration": 397,
    "start_time": "2022-01-05T18:26:00.440Z"
   },
   {
    "duration": 266,
    "start_time": "2022-01-05T18:26:00.839Z"
   },
   {
    "duration": 5,
    "start_time": "2022-01-05T18:26:01.108Z"
   },
   {
    "duration": 28,
    "start_time": "2022-01-05T18:26:01.116Z"
   },
   {
    "duration": 474,
    "start_time": "2022-01-05T18:26:01.160Z"
   },
   {
    "duration": 437,
    "start_time": "2022-01-05T18:28:29.623Z"
   },
   {
    "duration": 12991,
    "start_time": "2022-01-05T18:28:36.503Z"
   },
   {
    "duration": 443,
    "start_time": "2022-01-05T18:28:56.301Z"
   },
   {
    "duration": 6908,
    "start_time": "2022-01-05T18:30:12.556Z"
   },
   {
    "duration": 716,
    "start_time": "2022-01-05T18:31:55.704Z"
   },
   {
    "duration": 446,
    "start_time": "2022-01-05T18:32:14.740Z"
   },
   {
    "duration": 126,
    "start_time": "2022-01-05T18:39:42.147Z"
   },
   {
    "duration": 135,
    "start_time": "2022-01-05T18:40:05.588Z"
   },
   {
    "duration": 455,
    "start_time": "2022-01-05T18:54:23.073Z"
   },
   {
    "duration": 422,
    "start_time": "2022-01-05T19:00:01.581Z"
   },
   {
    "duration": 8,
    "start_time": "2022-01-05T19:00:13.654Z"
   },
   {
    "duration": 445,
    "start_time": "2022-01-05T19:00:27.951Z"
   },
   {
    "duration": 416,
    "start_time": "2022-01-05T19:01:41.897Z"
   },
   {
    "duration": 516,
    "start_time": "2022-01-05T19:01:55.822Z"
   },
   {
    "duration": 14,
    "start_time": "2022-01-05T19:02:05.289Z"
   },
   {
    "duration": 413,
    "start_time": "2022-01-05T19:02:06.319Z"
   },
   {
    "duration": 6,
    "start_time": "2022-01-05T19:02:11.198Z"
   },
   {
    "duration": 15,
    "start_time": "2022-01-05T19:02:11.693Z"
   },
   {
    "duration": 434,
    "start_time": "2022-01-05T19:02:12.218Z"
   },
   {
    "duration": 159,
    "start_time": "2022-01-05T19:02:18.600Z"
   },
   {
    "duration": 15,
    "start_time": "2022-01-05T19:02:18.761Z"
   },
   {
    "duration": 26,
    "start_time": "2022-01-05T19:02:18.779Z"
   },
   {
    "duration": 74,
    "start_time": "2022-01-05T19:02:18.809Z"
   },
   {
    "duration": 23,
    "start_time": "2022-01-05T19:02:18.886Z"
   },
   {
    "duration": 8,
    "start_time": "2022-01-05T19:02:18.912Z"
   },
   {
    "duration": 41,
    "start_time": "2022-01-05T19:02:18.923Z"
   },
   {
    "duration": 10,
    "start_time": "2022-01-05T19:02:18.970Z"
   },
   {
    "duration": 15,
    "start_time": "2022-01-05T19:02:18.984Z"
   },
   {
    "duration": 7,
    "start_time": "2022-01-05T19:02:19.001Z"
   },
   {
    "duration": 50,
    "start_time": "2022-01-05T19:02:19.011Z"
   },
   {
    "duration": 7,
    "start_time": "2022-01-05T19:02:19.064Z"
   },
   {
    "duration": 7,
    "start_time": "2022-01-05T19:02:19.074Z"
   },
   {
    "duration": 6,
    "start_time": "2022-01-05T19:02:19.084Z"
   },
   {
    "duration": 6,
    "start_time": "2022-01-05T19:02:19.093Z"
   },
   {
    "duration": 61,
    "start_time": "2022-01-05T19:02:19.102Z"
   },
   {
    "duration": 15,
    "start_time": "2022-01-05T19:02:19.166Z"
   },
   {
    "duration": 9,
    "start_time": "2022-01-05T19:02:19.184Z"
   },
   {
    "duration": 8,
    "start_time": "2022-01-05T19:02:19.195Z"
   },
   {
    "duration": 8,
    "start_time": "2022-01-05T19:02:19.205Z"
   },
   {
    "duration": 95,
    "start_time": "2022-01-05T19:02:19.216Z"
   },
   {
    "duration": 8,
    "start_time": "2022-01-05T19:02:19.314Z"
   },
   {
    "duration": 570,
    "start_time": "2022-01-05T19:02:19.328Z"
   },
   {
    "duration": 33,
    "start_time": "2022-01-05T19:02:19.901Z"
   },
   {
    "duration": 28,
    "start_time": "2022-01-05T19:02:19.937Z"
   },
   {
    "duration": 953,
    "start_time": "2022-01-05T19:02:19.967Z"
   },
   {
    "duration": 331,
    "start_time": "2022-01-05T19:02:20.923Z"
   },
   {
    "duration": 10,
    "start_time": "2022-01-05T19:02:21.261Z"
   },
   {
    "duration": 342,
    "start_time": "2022-01-05T19:02:21.273Z"
   },
   {
    "duration": 360,
    "start_time": "2022-01-05T19:02:21.618Z"
   },
   {
    "duration": 26,
    "start_time": "2022-01-05T19:02:21.980Z"
   },
   {
    "duration": 364,
    "start_time": "2022-01-05T19:02:22.009Z"
   },
   {
    "duration": 374,
    "start_time": "2022-01-05T19:02:22.376Z"
   },
   {
    "duration": 380,
    "start_time": "2022-01-05T19:02:22.760Z"
   },
   {
    "duration": 387,
    "start_time": "2022-01-05T19:02:23.143Z"
   },
   {
    "duration": 373,
    "start_time": "2022-01-05T19:02:23.533Z"
   },
   {
    "duration": 6,
    "start_time": "2022-01-05T19:02:23.909Z"
   },
   {
    "duration": 6,
    "start_time": "2022-01-05T19:02:23.918Z"
   },
   {
    "duration": 34,
    "start_time": "2022-01-05T19:02:23.927Z"
   },
   {
    "duration": 6,
    "start_time": "2022-01-05T19:02:23.964Z"
   },
   {
    "duration": 243,
    "start_time": "2022-01-05T19:02:23.973Z"
   },
   {
    "duration": 13,
    "start_time": "2022-01-05T19:02:24.219Z"
   },
   {
    "duration": 857,
    "start_time": "2022-01-05T19:02:24.235Z"
   },
   {
    "duration": 223,
    "start_time": "2022-01-05T19:02:25.094Z"
   },
   {
    "duration": 76,
    "start_time": "2022-01-05T19:02:25.319Z"
   },
   {
    "duration": 11,
    "start_time": "2022-01-05T19:02:25.398Z"
   },
   {
    "duration": 697,
    "start_time": "2022-01-05T19:02:25.412Z"
   },
   {
    "duration": 463,
    "start_time": "2022-01-05T19:02:26.111Z"
   },
   {
    "duration": 228,
    "start_time": "2022-01-05T19:02:26.577Z"
   },
   {
    "duration": 260,
    "start_time": "2022-01-05T19:02:26.808Z"
   },
   {
    "duration": 293,
    "start_time": "2022-01-05T19:02:27.070Z"
   },
   {
    "duration": 246,
    "start_time": "2022-01-05T19:02:27.365Z"
   },
   {
    "duration": 5,
    "start_time": "2022-01-05T19:02:27.613Z"
   },
   {
    "duration": 17,
    "start_time": "2022-01-05T19:02:27.621Z"
   },
   {
    "duration": 459,
    "start_time": "2022-01-05T19:02:27.659Z"
   },
   {
    "duration": 10,
    "start_time": "2022-01-05T19:02:28.121Z"
   },
   {
    "duration": 9,
    "start_time": "2022-01-05T19:08:17.824Z"
   },
   {
    "duration": 430,
    "start_time": "2022-01-05T19:08:39.078Z"
   },
   {
    "duration": 4,
    "start_time": "2022-01-05T19:12:35.691Z"
   },
   {
    "duration": 15,
    "start_time": "2022-01-05T19:12:36.120Z"
   },
   {
    "duration": 538,
    "start_time": "2022-01-05T19:12:38.635Z"
   },
   {
    "duration": 161,
    "start_time": "2022-01-05T19:12:43.929Z"
   },
   {
    "duration": 15,
    "start_time": "2022-01-05T19:12:44.093Z"
   },
   {
    "duration": 50,
    "start_time": "2022-01-05T19:12:44.111Z"
   },
   {
    "duration": 33,
    "start_time": "2022-01-05T19:12:44.164Z"
   },
   {
    "duration": 22,
    "start_time": "2022-01-05T19:12:44.199Z"
   },
   {
    "duration": 38,
    "start_time": "2022-01-05T19:12:44.223Z"
   },
   {
    "duration": 7,
    "start_time": "2022-01-05T19:12:44.263Z"
   },
   {
    "duration": 10,
    "start_time": "2022-01-05T19:12:44.272Z"
   },
   {
    "duration": 15,
    "start_time": "2022-01-05T19:12:44.286Z"
   },
   {
    "duration": 7,
    "start_time": "2022-01-05T19:12:44.304Z"
   },
   {
    "duration": 6,
    "start_time": "2022-01-05T19:12:44.313Z"
   },
   {
    "duration": 6,
    "start_time": "2022-01-05T19:12:44.360Z"
   },
   {
    "duration": 6,
    "start_time": "2022-01-05T19:12:44.368Z"
   },
   {
    "duration": 4,
    "start_time": "2022-01-05T19:12:44.377Z"
   },
   {
    "duration": 6,
    "start_time": "2022-01-05T19:12:44.383Z"
   },
   {
    "duration": 7,
    "start_time": "2022-01-05T19:12:44.391Z"
   },
   {
    "duration": 68,
    "start_time": "2022-01-05T19:12:44.400Z"
   },
   {
    "duration": 9,
    "start_time": "2022-01-05T19:12:44.470Z"
   },
   {
    "duration": 9,
    "start_time": "2022-01-05T19:12:44.482Z"
   },
   {
    "duration": 6,
    "start_time": "2022-01-05T19:12:44.493Z"
   },
   {
    "duration": 100,
    "start_time": "2022-01-05T19:12:44.502Z"
   },
   {
    "duration": 10,
    "start_time": "2022-01-05T19:12:44.605Z"
   },
   {
    "duration": 561,
    "start_time": "2022-01-05T19:12:44.617Z"
   },
   {
    "duration": 32,
    "start_time": "2022-01-05T19:12:45.180Z"
   },
   {
    "duration": 14,
    "start_time": "2022-01-05T19:12:45.214Z"
   },
   {
    "duration": 1159,
    "start_time": "2022-01-05T19:12:45.230Z"
   },
   {
    "duration": 258,
    "start_time": "2022-01-05T19:12:46.395Z"
   },
   {
    "duration": 7,
    "start_time": "2022-01-05T19:12:46.660Z"
   },
   {
    "duration": 352,
    "start_time": "2022-01-05T19:12:46.670Z"
   },
   {
    "duration": 353,
    "start_time": "2022-01-05T19:12:47.024Z"
   },
   {
    "duration": 27,
    "start_time": "2022-01-05T19:12:47.380Z"
   },
   {
    "duration": 376,
    "start_time": "2022-01-05T19:12:47.409Z"
   },
   {
    "duration": 364,
    "start_time": "2022-01-05T19:12:47.789Z"
   },
   {
    "duration": 373,
    "start_time": "2022-01-05T19:12:48.155Z"
   },
   {
    "duration": 478,
    "start_time": "2022-01-05T19:12:48.530Z"
   },
   {
    "duration": 490,
    "start_time": "2022-01-05T19:12:49.011Z"
   },
   {
    "duration": 7,
    "start_time": "2022-01-05T19:12:49.504Z"
   },
   {
    "duration": 6,
    "start_time": "2022-01-05T19:12:49.514Z"
   },
   {
    "duration": 9,
    "start_time": "2022-01-05T19:12:49.522Z"
   },
   {
    "duration": 5,
    "start_time": "2022-01-05T19:12:49.560Z"
   },
   {
    "duration": 239,
    "start_time": "2022-01-05T19:12:49.567Z"
   },
   {
    "duration": 13,
    "start_time": "2022-01-05T19:12:49.809Z"
   },
   {
    "duration": 788,
    "start_time": "2022-01-05T19:12:49.825Z"
   },
   {
    "duration": 231,
    "start_time": "2022-01-05T19:12:50.616Z"
   },
   {
    "duration": 74,
    "start_time": "2022-01-05T19:12:50.850Z"
   },
   {
    "duration": 12,
    "start_time": "2022-01-05T19:12:50.926Z"
   },
   {
    "duration": 696,
    "start_time": "2022-01-05T19:12:50.940Z"
   },
   {
    "duration": 453,
    "start_time": "2022-01-05T19:12:51.639Z"
   },
   {
    "duration": 223,
    "start_time": "2022-01-05T19:12:52.095Z"
   },
   {
    "duration": 247,
    "start_time": "2022-01-05T19:12:52.321Z"
   },
   {
    "duration": 319,
    "start_time": "2022-01-05T19:12:52.570Z"
   },
   {
    "duration": 244,
    "start_time": "2022-01-05T19:12:52.891Z"
   },
   {
    "duration": 5,
    "start_time": "2022-01-05T19:12:53.137Z"
   },
   {
    "duration": 14,
    "start_time": "2022-01-05T19:12:53.159Z"
   },
   {
    "duration": 462,
    "start_time": "2022-01-05T19:12:53.176Z"
   },
   {
    "duration": 388,
    "start_time": "2022-01-05T19:22:08.485Z"
   },
   {
    "duration": 434,
    "start_time": "2022-01-05T19:31:08.234Z"
   },
   {
    "duration": 412,
    "start_time": "2022-01-05T19:31:17.597Z"
   },
   {
    "duration": 418,
    "start_time": "2022-01-05T19:31:48.050Z"
   },
   {
    "duration": 166,
    "start_time": "2022-01-05T19:31:58.033Z"
   },
   {
    "duration": 14,
    "start_time": "2022-01-05T19:31:58.202Z"
   },
   {
    "duration": 46,
    "start_time": "2022-01-05T19:31:58.219Z"
   },
   {
    "duration": 28,
    "start_time": "2022-01-05T19:31:58.268Z"
   },
   {
    "duration": 20,
    "start_time": "2022-01-05T19:31:58.299Z"
   },
   {
    "duration": 37,
    "start_time": "2022-01-05T19:31:58.322Z"
   },
   {
    "duration": 7,
    "start_time": "2022-01-05T19:31:58.361Z"
   },
   {
    "duration": 10,
    "start_time": "2022-01-05T19:31:58.372Z"
   },
   {
    "duration": 15,
    "start_time": "2022-01-05T19:31:58.385Z"
   },
   {
    "duration": 7,
    "start_time": "2022-01-05T19:31:58.402Z"
   },
   {
    "duration": 50,
    "start_time": "2022-01-05T19:31:58.412Z"
   },
   {
    "duration": 6,
    "start_time": "2022-01-05T19:31:58.465Z"
   },
   {
    "duration": 7,
    "start_time": "2022-01-05T19:31:58.474Z"
   },
   {
    "duration": 6,
    "start_time": "2022-01-05T19:31:58.484Z"
   },
   {
    "duration": 8,
    "start_time": "2022-01-05T19:31:58.492Z"
   },
   {
    "duration": 11,
    "start_time": "2022-01-05T19:31:58.502Z"
   },
   {
    "duration": 56,
    "start_time": "2022-01-05T19:31:58.515Z"
   },
   {
    "duration": 8,
    "start_time": "2022-01-05T19:31:58.573Z"
   },
   {
    "duration": 9,
    "start_time": "2022-01-05T19:31:58.584Z"
   },
   {
    "duration": 4,
    "start_time": "2022-01-05T19:31:58.596Z"
   },
   {
    "duration": 102,
    "start_time": "2022-01-05T19:31:58.603Z"
   },
   {
    "duration": 9,
    "start_time": "2022-01-05T19:31:58.708Z"
   },
   {
    "duration": 916,
    "start_time": "2022-01-05T19:31:58.724Z"
   },
   {
    "duration": 41,
    "start_time": "2022-01-05T19:31:59.645Z"
   },
   {
    "duration": 15,
    "start_time": "2022-01-05T19:31:59.688Z"
   },
   {
    "duration": 1110,
    "start_time": "2022-01-05T19:31:59.705Z"
   },
   {
    "duration": 249,
    "start_time": "2022-01-05T19:32:00.817Z"
   },
   {
    "duration": 8,
    "start_time": "2022-01-05T19:32:01.068Z"
   },
   {
    "duration": 350,
    "start_time": "2022-01-05T19:32:01.078Z"
   },
   {
    "duration": 358,
    "start_time": "2022-01-05T19:32:01.431Z"
   },
   {
    "duration": 26,
    "start_time": "2022-01-05T19:32:01.791Z"
   },
   {
    "duration": 372,
    "start_time": "2022-01-05T19:32:01.820Z"
   },
   {
    "duration": 359,
    "start_time": "2022-01-05T19:32:02.195Z"
   },
   {
    "duration": 377,
    "start_time": "2022-01-05T19:32:02.559Z"
   },
   {
    "duration": 371,
    "start_time": "2022-01-05T19:32:02.939Z"
   },
   {
    "duration": 378,
    "start_time": "2022-01-05T19:32:03.313Z"
   },
   {
    "duration": 5,
    "start_time": "2022-01-05T19:32:03.694Z"
   },
   {
    "duration": 7,
    "start_time": "2022-01-05T19:32:03.701Z"
   },
   {
    "duration": 6,
    "start_time": "2022-01-05T19:32:03.710Z"
   },
   {
    "duration": 42,
    "start_time": "2022-01-05T19:32:03.719Z"
   },
   {
    "duration": 243,
    "start_time": "2022-01-05T19:32:03.763Z"
   },
   {
    "duration": 11,
    "start_time": "2022-01-05T19:32:04.008Z"
   },
   {
    "duration": 556,
    "start_time": "2022-01-05T19:32:04.022Z"
   },
   {
    "duration": 227,
    "start_time": "2022-01-05T19:32:04.580Z"
   },
   {
    "duration": 85,
    "start_time": "2022-01-05T19:32:04.810Z"
   },
   {
    "duration": 12,
    "start_time": "2022-01-05T19:32:04.898Z"
   },
   {
    "duration": 704,
    "start_time": "2022-01-05T19:32:04.913Z"
   },
   {
    "duration": 475,
    "start_time": "2022-01-05T19:32:05.620Z"
   },
   {
    "duration": 234,
    "start_time": "2022-01-05T19:32:06.099Z"
   },
   {
    "duration": 276,
    "start_time": "2022-01-05T19:32:06.336Z"
   },
   {
    "duration": 298,
    "start_time": "2022-01-05T19:32:06.615Z"
   },
   {
    "duration": 247,
    "start_time": "2022-01-05T19:32:06.915Z"
   },
   {
    "duration": 5,
    "start_time": "2022-01-05T19:32:07.165Z"
   },
   {
    "duration": 20,
    "start_time": "2022-01-05T19:32:07.172Z"
   },
   {
    "duration": 477,
    "start_time": "2022-01-05T19:32:07.195Z"
   },
   {
    "duration": 6,
    "start_time": "2022-01-05T19:43:00.551Z"
   },
   {
    "duration": 65,
    "start_time": "2022-01-05T19:43:33.629Z"
   },
   {
    "duration": 59,
    "start_time": "2022-01-05T20:44:36.873Z"
   },
   {
    "duration": 445,
    "start_time": "2022-01-05T20:44:47.190Z"
   },
   {
    "duration": 458,
    "start_time": "2022-01-05T20:45:00.563Z"
   },
   {
    "duration": 422,
    "start_time": "2022-01-05T20:45:10.405Z"
   },
   {
    "duration": 57,
    "start_time": "2022-01-05T20:46:00.249Z"
   },
   {
    "duration": 9,
    "start_time": "2022-01-05T20:46:23.416Z"
   },
   {
    "duration": 13,
    "start_time": "2022-01-05T20:46:34.109Z"
   },
   {
    "duration": 14,
    "start_time": "2022-01-05T20:46:46.147Z"
   },
   {
    "duration": 13,
    "start_time": "2022-01-05T20:47:22.324Z"
   },
   {
    "duration": 13,
    "start_time": "2022-01-05T20:47:25.162Z"
   },
   {
    "duration": 12,
    "start_time": "2022-01-05T20:47:31.982Z"
   },
   {
    "duration": 12,
    "start_time": "2022-01-05T20:47:42.658Z"
   },
   {
    "duration": 12,
    "start_time": "2022-01-05T20:47:46.491Z"
   },
   {
    "duration": 156,
    "start_time": "2022-01-05T20:47:52.907Z"
   },
   {
    "duration": 15,
    "start_time": "2022-01-05T20:47:53.066Z"
   },
   {
    "duration": 25,
    "start_time": "2022-01-05T20:47:53.083Z"
   },
   {
    "duration": 61,
    "start_time": "2022-01-05T20:47:53.111Z"
   },
   {
    "duration": 21,
    "start_time": "2022-01-05T20:47:53.175Z"
   },
   {
    "duration": 8,
    "start_time": "2022-01-05T20:47:53.199Z"
   },
   {
    "duration": 8,
    "start_time": "2022-01-05T20:47:53.209Z"
   },
   {
    "duration": 41,
    "start_time": "2022-01-05T20:47:53.220Z"
   },
   {
    "duration": 15,
    "start_time": "2022-01-05T20:47:53.264Z"
   },
   {
    "duration": 8,
    "start_time": "2022-01-05T20:47:53.281Z"
   },
   {
    "duration": 5,
    "start_time": "2022-01-05T20:47:53.291Z"
   },
   {
    "duration": 5,
    "start_time": "2022-01-05T20:47:53.299Z"
   },
   {
    "duration": 7,
    "start_time": "2022-01-05T20:47:53.307Z"
   },
   {
    "duration": 6,
    "start_time": "2022-01-05T20:47:53.360Z"
   },
   {
    "duration": 7,
    "start_time": "2022-01-05T20:47:53.369Z"
   },
   {
    "duration": 6,
    "start_time": "2022-01-05T20:47:53.379Z"
   },
   {
    "duration": 19,
    "start_time": "2022-01-05T20:47:53.387Z"
   },
   {
    "duration": 54,
    "start_time": "2022-01-05T20:47:53.408Z"
   },
   {
    "duration": 8,
    "start_time": "2022-01-05T20:47:53.464Z"
   },
   {
    "duration": 6,
    "start_time": "2022-01-05T20:47:53.474Z"
   },
   {
    "duration": 81,
    "start_time": "2022-01-05T20:47:53.482Z"
   },
   {
    "duration": 8,
    "start_time": "2022-01-05T20:47:53.566Z"
   },
   {
    "duration": 568,
    "start_time": "2022-01-05T20:47:53.580Z"
   },
   {
    "duration": 37,
    "start_time": "2022-01-05T20:47:54.151Z"
   },
   {
    "duration": 14,
    "start_time": "2022-01-05T20:47:54.191Z"
   },
   {
    "duration": 987,
    "start_time": "2022-01-05T20:47:54.207Z"
   },
   {
    "duration": 233,
    "start_time": "2022-01-05T20:47:55.196Z"
   },
   {
    "duration": 7,
    "start_time": "2022-01-05T20:47:55.431Z"
   },
   {
    "duration": 342,
    "start_time": "2022-01-05T20:47:55.440Z"
   },
   {
    "duration": 345,
    "start_time": "2022-01-05T20:47:55.785Z"
   },
   {
    "duration": 41,
    "start_time": "2022-01-05T20:47:56.133Z"
   },
   {
    "duration": 350,
    "start_time": "2022-01-05T20:47:56.177Z"
   },
   {
    "duration": 352,
    "start_time": "2022-01-05T20:47:56.529Z"
   },
   {
    "duration": 368,
    "start_time": "2022-01-05T20:47:56.884Z"
   },
   {
    "duration": 367,
    "start_time": "2022-01-05T20:47:57.259Z"
   },
   {
    "duration": 378,
    "start_time": "2022-01-05T20:47:57.629Z"
   },
   {
    "duration": 6,
    "start_time": "2022-01-05T20:47:58.010Z"
   },
   {
    "duration": 6,
    "start_time": "2022-01-05T20:47:58.018Z"
   },
   {
    "duration": 35,
    "start_time": "2022-01-05T20:47:58.027Z"
   },
   {
    "duration": 6,
    "start_time": "2022-01-05T20:47:58.064Z"
   },
   {
    "duration": 250,
    "start_time": "2022-01-05T20:47:58.073Z"
   },
   {
    "duration": 13,
    "start_time": "2022-01-05T20:47:58.326Z"
   },
   {
    "duration": 550,
    "start_time": "2022-01-05T20:47:58.341Z"
   },
   {
    "duration": 234,
    "start_time": "2022-01-05T20:47:58.894Z"
   },
   {
    "duration": 80,
    "start_time": "2022-01-05T20:47:59.131Z"
   },
   {
    "duration": 16,
    "start_time": "2022-01-05T20:47:59.214Z"
   },
   {
    "duration": 690,
    "start_time": "2022-01-05T20:47:59.233Z"
   },
   {
    "duration": 888,
    "start_time": "2022-01-05T20:47:59.926Z"
   },
   {
    "duration": 235,
    "start_time": "2022-01-05T20:48:00.817Z"
   },
   {
    "duration": 265,
    "start_time": "2022-01-05T20:48:01.054Z"
   },
   {
    "duration": 310,
    "start_time": "2022-01-05T20:48:01.322Z"
   },
   {
    "duration": 254,
    "start_time": "2022-01-05T20:48:01.635Z"
   },
   {
    "duration": 5,
    "start_time": "2022-01-05T20:48:01.891Z"
   },
   {
    "duration": 20,
    "start_time": "2022-01-05T20:48:01.898Z"
   },
   {
    "duration": 473,
    "start_time": "2022-01-05T20:48:01.920Z"
   },
   {
    "duration": 13,
    "start_time": "2022-01-05T20:48:02.397Z"
   },
   {
    "duration": 13,
    "start_time": "2022-01-05T20:48:35.214Z"
   },
   {
    "duration": 171,
    "start_time": "2022-01-05T20:48:39.163Z"
   },
   {
    "duration": 31,
    "start_time": "2022-01-05T20:48:39.336Z"
   },
   {
    "duration": 25,
    "start_time": "2022-01-05T20:48:39.370Z"
   },
   {
    "duration": 63,
    "start_time": "2022-01-05T20:48:39.398Z"
   },
   {
    "duration": 22,
    "start_time": "2022-01-05T20:48:39.464Z"
   },
   {
    "duration": 8,
    "start_time": "2022-01-05T20:48:39.488Z"
   },
   {
    "duration": 7,
    "start_time": "2022-01-05T20:48:39.499Z"
   },
   {
    "duration": 19,
    "start_time": "2022-01-05T20:48:39.509Z"
   },
   {
    "duration": 16,
    "start_time": "2022-01-05T20:48:39.559Z"
   },
   {
    "duration": 12,
    "start_time": "2022-01-05T20:48:39.577Z"
   },
   {
    "duration": 15,
    "start_time": "2022-01-05T20:48:39.591Z"
   },
   {
    "duration": 15,
    "start_time": "2022-01-05T20:48:39.608Z"
   },
   {
    "duration": 12,
    "start_time": "2022-01-05T20:48:39.625Z"
   },
   {
    "duration": 21,
    "start_time": "2022-01-05T20:48:39.639Z"
   },
   {
    "duration": 11,
    "start_time": "2022-01-05T20:48:39.662Z"
   },
   {
    "duration": 7,
    "start_time": "2022-01-05T20:48:39.676Z"
   },
   {
    "duration": 18,
    "start_time": "2022-01-05T20:48:39.686Z"
   },
   {
    "duration": 8,
    "start_time": "2022-01-05T20:48:39.707Z"
   },
   {
    "duration": 44,
    "start_time": "2022-01-05T20:48:39.717Z"
   },
   {
    "duration": 8,
    "start_time": "2022-01-05T20:48:39.763Z"
   },
   {
    "duration": 63,
    "start_time": "2022-01-05T20:48:39.773Z"
   },
   {
    "duration": 27,
    "start_time": "2022-01-05T20:48:39.838Z"
   },
   {
    "duration": 588,
    "start_time": "2022-01-05T20:48:39.871Z"
   },
   {
    "duration": 34,
    "start_time": "2022-01-05T20:48:40.462Z"
   },
   {
    "duration": 15,
    "start_time": "2022-01-05T20:48:40.498Z"
   },
   {
    "duration": 1027,
    "start_time": "2022-01-05T20:48:40.516Z"
   },
   {
    "duration": 258,
    "start_time": "2022-01-05T20:48:41.546Z"
   },
   {
    "duration": 8,
    "start_time": "2022-01-05T20:48:41.806Z"
   },
   {
    "duration": 358,
    "start_time": "2022-01-05T20:48:41.817Z"
   },
   {
    "duration": 343,
    "start_time": "2022-01-05T20:48:42.178Z"
   },
   {
    "duration": 38,
    "start_time": "2022-01-05T20:48:42.523Z"
   },
   {
    "duration": 357,
    "start_time": "2022-01-05T20:48:42.564Z"
   },
   {
    "duration": 398,
    "start_time": "2022-01-05T20:48:42.924Z"
   },
   {
    "duration": 394,
    "start_time": "2022-01-05T20:48:43.324Z"
   },
   {
    "duration": 364,
    "start_time": "2022-01-05T20:48:43.720Z"
   },
   {
    "duration": 414,
    "start_time": "2022-01-05T20:48:44.087Z"
   },
   {
    "duration": 7,
    "start_time": "2022-01-05T20:48:44.503Z"
   },
   {
    "duration": 6,
    "start_time": "2022-01-05T20:48:44.512Z"
   },
   {
    "duration": 8,
    "start_time": "2022-01-05T20:48:44.521Z"
   },
   {
    "duration": 7,
    "start_time": "2022-01-05T20:48:44.531Z"
   },
   {
    "duration": 364,
    "start_time": "2022-01-05T20:48:44.540Z"
   },
   {
    "duration": 12,
    "start_time": "2022-01-05T20:48:44.906Z"
   },
   {
    "duration": 692,
    "start_time": "2022-01-05T20:48:44.920Z"
   },
   {
    "duration": 227,
    "start_time": "2022-01-05T20:48:45.614Z"
   },
   {
    "duration": 72,
    "start_time": "2022-01-05T20:48:45.844Z"
   },
   {
    "duration": 12,
    "start_time": "2022-01-05T20:48:45.919Z"
   },
   {
    "duration": 704,
    "start_time": "2022-01-05T20:48:45.934Z"
   },
   {
    "duration": 465,
    "start_time": "2022-01-05T20:48:46.640Z"
   },
   {
    "duration": 232,
    "start_time": "2022-01-05T20:48:47.108Z"
   },
   {
    "duration": 251,
    "start_time": "2022-01-05T20:48:47.342Z"
   },
   {
    "duration": 297,
    "start_time": "2022-01-05T20:48:47.595Z"
   },
   {
    "duration": 238,
    "start_time": "2022-01-05T20:48:47.895Z"
   },
   {
    "duration": 5,
    "start_time": "2022-01-05T20:48:48.136Z"
   },
   {
    "duration": 27,
    "start_time": "2022-01-05T20:48:48.143Z"
   },
   {
    "duration": 468,
    "start_time": "2022-01-05T20:48:48.172Z"
   },
   {
    "duration": 27,
    "start_time": "2022-01-05T20:48:48.643Z"
   },
   {
    "duration": 23,
    "start_time": "2022-01-05T20:49:10.282Z"
   },
   {
    "duration": 15,
    "start_time": "2022-01-05T20:51:02.860Z"
   },
   {
    "duration": 147,
    "start_time": "2022-01-05T20:51:06.692Z"
   },
   {
    "duration": 32,
    "start_time": "2022-01-05T20:51:06.841Z"
   },
   {
    "duration": 26,
    "start_time": "2022-01-05T20:51:06.876Z"
   },
   {
    "duration": 54,
    "start_time": "2022-01-05T20:51:06.905Z"
   },
   {
    "duration": 22,
    "start_time": "2022-01-05T20:51:06.962Z"
   },
   {
    "duration": 7,
    "start_time": "2022-01-05T20:51:06.986Z"
   },
   {
    "duration": 10,
    "start_time": "2022-01-05T20:51:06.995Z"
   },
   {
    "duration": 13,
    "start_time": "2022-01-05T20:51:07.008Z"
   },
   {
    "duration": 50,
    "start_time": "2022-01-05T20:51:07.025Z"
   },
   {
    "duration": 6,
    "start_time": "2022-01-05T20:51:07.079Z"
   },
   {
    "duration": 7,
    "start_time": "2022-01-05T20:51:07.087Z"
   },
   {
    "duration": 8,
    "start_time": "2022-01-05T20:51:07.096Z"
   },
   {
    "duration": 8,
    "start_time": "2022-01-05T20:51:07.107Z"
   },
   {
    "duration": 46,
    "start_time": "2022-01-05T20:51:07.117Z"
   },
   {
    "duration": 6,
    "start_time": "2022-01-05T20:51:07.166Z"
   },
   {
    "duration": 8,
    "start_time": "2022-01-05T20:51:07.175Z"
   },
   {
    "duration": 16,
    "start_time": "2022-01-05T20:51:07.185Z"
   },
   {
    "duration": 10,
    "start_time": "2022-01-05T20:51:07.203Z"
   },
   {
    "duration": 47,
    "start_time": "2022-01-05T20:51:07.215Z"
   },
   {
    "duration": 5,
    "start_time": "2022-01-05T20:51:07.264Z"
   },
   {
    "duration": 65,
    "start_time": "2022-01-05T20:51:07.271Z"
   },
   {
    "duration": 8,
    "start_time": "2022-01-05T20:51:07.359Z"
   },
   {
    "duration": 568,
    "start_time": "2022-01-05T20:51:07.369Z"
   },
   {
    "duration": 40,
    "start_time": "2022-01-05T20:51:07.940Z"
   },
   {
    "duration": 15,
    "start_time": "2022-01-05T20:51:07.982Z"
   },
   {
    "duration": 973,
    "start_time": "2022-01-05T20:51:08.000Z"
   },
   {
    "duration": 258,
    "start_time": "2022-01-05T20:51:08.978Z"
   },
   {
    "duration": 8,
    "start_time": "2022-01-05T20:51:09.238Z"
   },
   {
    "duration": 334,
    "start_time": "2022-01-05T20:51:09.260Z"
   },
   {
    "duration": 456,
    "start_time": "2022-01-05T20:51:09.597Z"
   },
   {
    "duration": 25,
    "start_time": "2022-01-05T20:51:10.056Z"
   },
   {
    "duration": 379,
    "start_time": "2022-01-05T20:51:10.083Z"
   },
   {
    "duration": 360,
    "start_time": "2022-01-05T20:51:10.464Z"
   },
   {
    "duration": 385,
    "start_time": "2022-01-05T20:51:10.826Z"
   },
   {
    "duration": 369,
    "start_time": "2022-01-05T20:51:11.213Z"
   },
   {
    "duration": 383,
    "start_time": "2022-01-05T20:51:11.585Z"
   },
   {
    "duration": 7,
    "start_time": "2022-01-05T20:51:11.971Z"
   },
   {
    "duration": 7,
    "start_time": "2022-01-05T20:51:11.981Z"
   },
   {
    "duration": 8,
    "start_time": "2022-01-05T20:51:11.992Z"
   },
   {
    "duration": 57,
    "start_time": "2022-01-05T20:51:12.003Z"
   },
   {
    "duration": 246,
    "start_time": "2022-01-05T20:51:12.063Z"
   },
   {
    "duration": 15,
    "start_time": "2022-01-05T20:51:12.312Z"
   },
   {
    "duration": 574,
    "start_time": "2022-01-05T20:51:12.329Z"
   },
   {
    "duration": 246,
    "start_time": "2022-01-05T20:51:12.906Z"
   },
   {
    "duration": 70,
    "start_time": "2022-01-05T20:51:13.159Z"
   },
   {
    "duration": 33,
    "start_time": "2022-01-05T20:51:13.231Z"
   },
   {
    "duration": 698,
    "start_time": "2022-01-05T20:51:13.267Z"
   },
   {
    "duration": 464,
    "start_time": "2022-01-05T20:51:13.968Z"
   },
   {
    "duration": 227,
    "start_time": "2022-01-05T20:51:14.435Z"
   },
   {
    "duration": 267,
    "start_time": "2022-01-05T20:51:14.665Z"
   },
   {
    "duration": 305,
    "start_time": "2022-01-05T20:51:14.935Z"
   },
   {
    "duration": 254,
    "start_time": "2022-01-05T20:51:15.242Z"
   },
   {
    "duration": 5,
    "start_time": "2022-01-05T20:51:15.498Z"
   },
   {
    "duration": 20,
    "start_time": "2022-01-05T20:51:15.506Z"
   },
   {
    "duration": 1139,
    "start_time": "2022-01-05T20:51:15.528Z"
   },
   {
    "duration": 33,
    "start_time": "2022-01-05T20:51:16.670Z"
   },
   {
    "duration": 471,
    "start_time": "2022-01-05T20:53:03.333Z"
   },
   {
    "duration": 16,
    "start_time": "2022-01-05T20:53:35.526Z"
   },
   {
    "duration": 396,
    "start_time": "2022-01-05T20:53:36.847Z"
   },
   {
    "duration": 177,
    "start_time": "2022-01-05T20:53:42.915Z"
   },
   {
    "duration": 15,
    "start_time": "2022-01-05T20:53:43.094Z"
   },
   {
    "duration": 48,
    "start_time": "2022-01-05T20:53:43.113Z"
   },
   {
    "duration": 31,
    "start_time": "2022-01-05T20:53:43.164Z"
   },
   {
    "duration": 22,
    "start_time": "2022-01-05T20:53:43.198Z"
   },
   {
    "duration": 38,
    "start_time": "2022-01-05T20:53:43.223Z"
   },
   {
    "duration": 7,
    "start_time": "2022-01-05T20:53:43.264Z"
   },
   {
    "duration": 8,
    "start_time": "2022-01-05T20:53:43.273Z"
   },
   {
    "duration": 14,
    "start_time": "2022-01-05T20:53:43.285Z"
   },
   {
    "duration": 6,
    "start_time": "2022-01-05T20:53:43.302Z"
   },
   {
    "duration": 48,
    "start_time": "2022-01-05T20:53:43.311Z"
   },
   {
    "duration": 7,
    "start_time": "2022-01-05T20:53:43.361Z"
   },
   {
    "duration": 6,
    "start_time": "2022-01-05T20:53:43.370Z"
   },
   {
    "duration": 4,
    "start_time": "2022-01-05T20:53:43.379Z"
   },
   {
    "duration": 7,
    "start_time": "2022-01-05T20:53:43.386Z"
   },
   {
    "duration": 8,
    "start_time": "2022-01-05T20:53:43.395Z"
   },
   {
    "duration": 63,
    "start_time": "2022-01-05T20:53:43.405Z"
   },
   {
    "duration": 8,
    "start_time": "2022-01-05T20:53:43.471Z"
   },
   {
    "duration": 10,
    "start_time": "2022-01-05T20:53:43.482Z"
   },
   {
    "duration": 6,
    "start_time": "2022-01-05T20:53:43.494Z"
   },
   {
    "duration": 96,
    "start_time": "2022-01-05T20:53:43.502Z"
   },
   {
    "duration": 8,
    "start_time": "2022-01-05T20:53:43.601Z"
   },
   {
    "duration": 627,
    "start_time": "2022-01-05T20:53:43.611Z"
   },
   {
    "duration": 41,
    "start_time": "2022-01-05T20:53:44.240Z"
   },
   {
    "duration": 14,
    "start_time": "2022-01-05T20:53:44.284Z"
   },
   {
    "duration": 1000,
    "start_time": "2022-01-05T20:53:44.301Z"
   },
   {
    "duration": 277,
    "start_time": "2022-01-05T20:53:45.306Z"
   },
   {
    "duration": 7,
    "start_time": "2022-01-05T20:53:45.586Z"
   },
   {
    "duration": 350,
    "start_time": "2022-01-05T20:53:45.595Z"
   },
   {
    "duration": 353,
    "start_time": "2022-01-05T20:53:45.947Z"
   },
   {
    "duration": 28,
    "start_time": "2022-01-05T20:53:46.303Z"
   },
   {
    "duration": 372,
    "start_time": "2022-01-05T20:53:46.334Z"
   },
   {
    "duration": 358,
    "start_time": "2022-01-05T20:53:46.710Z"
   },
   {
    "duration": 382,
    "start_time": "2022-01-05T20:53:47.071Z"
   },
   {
    "duration": 379,
    "start_time": "2022-01-05T20:53:47.455Z"
   },
   {
    "duration": 367,
    "start_time": "2022-01-05T20:53:47.837Z"
   },
   {
    "duration": 7,
    "start_time": "2022-01-05T20:53:48.206Z"
   },
   {
    "duration": 10,
    "start_time": "2022-01-05T20:53:48.215Z"
   },
   {
    "duration": 35,
    "start_time": "2022-01-05T20:53:48.227Z"
   },
   {
    "duration": 9,
    "start_time": "2022-01-05T20:53:48.265Z"
   },
   {
    "duration": 249,
    "start_time": "2022-01-05T20:53:48.277Z"
   },
   {
    "duration": 33,
    "start_time": "2022-01-05T20:53:48.529Z"
   },
   {
    "duration": 549,
    "start_time": "2022-01-05T20:53:48.565Z"
   },
   {
    "duration": 227,
    "start_time": "2022-01-05T20:53:49.117Z"
   },
   {
    "duration": 77,
    "start_time": "2022-01-05T20:53:49.346Z"
   },
   {
    "duration": 33,
    "start_time": "2022-01-05T20:53:49.426Z"
   },
   {
    "duration": 671,
    "start_time": "2022-01-05T20:53:49.462Z"
   },
   {
    "duration": 465,
    "start_time": "2022-01-05T20:53:50.136Z"
   },
   {
    "duration": 228,
    "start_time": "2022-01-05T20:53:50.604Z"
   },
   {
    "duration": 262,
    "start_time": "2022-01-05T20:53:50.835Z"
   },
   {
    "duration": 313,
    "start_time": "2022-01-05T20:53:51.100Z"
   },
   {
    "duration": 247,
    "start_time": "2022-01-05T20:53:51.415Z"
   },
   {
    "duration": 5,
    "start_time": "2022-01-05T20:53:51.664Z"
   },
   {
    "duration": 15,
    "start_time": "2022-01-05T20:53:51.671Z"
   },
   {
    "duration": 494,
    "start_time": "2022-01-05T20:53:51.689Z"
   },
   {
    "duration": 23,
    "start_time": "2022-01-05T20:53:52.185Z"
   },
   {
    "duration": 450,
    "start_time": "2022-01-05T20:53:52.210Z"
   },
   {
    "duration": 15,
    "start_time": "2022-01-05T20:56:05.972Z"
   },
   {
    "duration": 380,
    "start_time": "2022-01-05T20:56:06.795Z"
   },
   {
    "duration": 148,
    "start_time": "2022-01-05T20:56:11.983Z"
   },
   {
    "duration": 35,
    "start_time": "2022-01-05T20:56:12.134Z"
   },
   {
    "duration": 25,
    "start_time": "2022-01-05T20:56:12.172Z"
   },
   {
    "duration": 30,
    "start_time": "2022-01-05T20:56:12.200Z"
   },
   {
    "duration": 21,
    "start_time": "2022-01-05T20:56:12.259Z"
   },
   {
    "duration": 6,
    "start_time": "2022-01-05T20:56:12.282Z"
   },
   {
    "duration": 8,
    "start_time": "2022-01-05T20:56:12.290Z"
   },
   {
    "duration": 8,
    "start_time": "2022-01-05T20:56:12.301Z"
   },
   {
    "duration": 56,
    "start_time": "2022-01-05T20:56:12.312Z"
   },
   {
    "duration": 9,
    "start_time": "2022-01-05T20:56:12.371Z"
   },
   {
    "duration": 5,
    "start_time": "2022-01-05T20:56:12.383Z"
   },
   {
    "duration": 7,
    "start_time": "2022-01-05T20:56:12.390Z"
   },
   {
    "duration": 6,
    "start_time": "2022-01-05T20:56:12.399Z"
   },
   {
    "duration": 6,
    "start_time": "2022-01-05T20:56:12.407Z"
   },
   {
    "duration": 47,
    "start_time": "2022-01-05T20:56:12.416Z"
   },
   {
    "duration": 8,
    "start_time": "2022-01-05T20:56:12.465Z"
   },
   {
    "duration": 21,
    "start_time": "2022-01-05T20:56:12.475Z"
   },
   {
    "duration": 12,
    "start_time": "2022-01-05T20:56:12.498Z"
   },
   {
    "duration": 11,
    "start_time": "2022-01-05T20:56:12.513Z"
   },
   {
    "duration": 35,
    "start_time": "2022-01-05T20:56:12.526Z"
   },
   {
    "duration": 62,
    "start_time": "2022-01-05T20:56:12.563Z"
   },
   {
    "duration": 32,
    "start_time": "2022-01-05T20:56:12.627Z"
   },
   {
    "duration": 555,
    "start_time": "2022-01-05T20:56:12.665Z"
   },
   {
    "duration": 46,
    "start_time": "2022-01-05T20:56:13.224Z"
   },
   {
    "duration": 15,
    "start_time": "2022-01-05T20:56:13.272Z"
   },
   {
    "duration": 963,
    "start_time": "2022-01-05T20:56:13.289Z"
   },
   {
    "duration": 249,
    "start_time": "2022-01-05T20:56:14.254Z"
   },
   {
    "duration": 7,
    "start_time": "2022-01-05T20:56:14.506Z"
   },
   {
    "duration": 343,
    "start_time": "2022-01-05T20:56:14.516Z"
   },
   {
    "duration": 344,
    "start_time": "2022-01-05T20:56:14.861Z"
   },
   {
    "duration": 25,
    "start_time": "2022-01-05T20:56:15.208Z"
   },
   {
    "duration": 416,
    "start_time": "2022-01-05T20:56:15.236Z"
   },
   {
    "duration": 378,
    "start_time": "2022-01-05T20:56:15.659Z"
   },
   {
    "duration": 390,
    "start_time": "2022-01-05T20:56:16.040Z"
   },
   {
    "duration": 371,
    "start_time": "2022-01-05T20:56:16.433Z"
   },
   {
    "duration": 366,
    "start_time": "2022-01-05T20:56:16.807Z"
   },
   {
    "duration": 6,
    "start_time": "2022-01-05T20:56:17.176Z"
   },
   {
    "duration": 6,
    "start_time": "2022-01-05T20:56:17.185Z"
   },
   {
    "duration": 6,
    "start_time": "2022-01-05T20:56:17.193Z"
   },
   {
    "duration": 6,
    "start_time": "2022-01-05T20:56:17.202Z"
   },
   {
    "duration": 275,
    "start_time": "2022-01-05T20:56:17.211Z"
   },
   {
    "duration": 12,
    "start_time": "2022-01-05T20:56:17.488Z"
   },
   {
    "duration": 549,
    "start_time": "2022-01-05T20:56:17.503Z"
   },
   {
    "duration": 219,
    "start_time": "2022-01-05T20:56:18.058Z"
   },
   {
    "duration": 65,
    "start_time": "2022-01-05T20:56:18.279Z"
   },
   {
    "duration": 15,
    "start_time": "2022-01-05T20:56:18.360Z"
   },
   {
    "duration": 686,
    "start_time": "2022-01-05T20:56:18.377Z"
   },
   {
    "duration": 474,
    "start_time": "2022-01-05T20:56:19.065Z"
   },
   {
    "duration": 227,
    "start_time": "2022-01-05T20:56:19.541Z"
   },
   {
    "duration": 249,
    "start_time": "2022-01-05T20:56:19.771Z"
   },
   {
    "duration": 303,
    "start_time": "2022-01-05T20:56:20.022Z"
   },
   {
    "duration": 250,
    "start_time": "2022-01-05T20:56:20.328Z"
   },
   {
    "duration": 5,
    "start_time": "2022-01-05T20:56:20.580Z"
   },
   {
    "duration": 17,
    "start_time": "2022-01-05T20:56:20.587Z"
   },
   {
    "duration": 470,
    "start_time": "2022-01-05T20:56:20.606Z"
   },
   {
    "duration": 33,
    "start_time": "2022-01-05T20:56:21.079Z"
   },
   {
    "duration": 532,
    "start_time": "2022-01-05T20:56:21.115Z"
   },
   {
    "duration": 490,
    "start_time": "2022-01-05T20:58:12.014Z"
   },
   {
    "duration": 654,
    "start_time": "2022-01-09T12:44:05.125Z"
   },
   {
    "duration": 18,
    "start_time": "2022-01-09T12:44:05.781Z"
   },
   {
    "duration": 17,
    "start_time": "2022-01-09T12:44:05.801Z"
   },
   {
    "duration": 24,
    "start_time": "2022-01-09T12:44:05.820Z"
   },
   {
    "duration": 17,
    "start_time": "2022-01-09T12:44:05.846Z"
   },
   {
    "duration": 29,
    "start_time": "2022-01-09T12:44:05.865Z"
   },
   {
    "duration": 9,
    "start_time": "2022-01-09T12:44:05.895Z"
   },
   {
    "duration": 8,
    "start_time": "2022-01-09T12:44:05.906Z"
   },
   {
    "duration": 10,
    "start_time": "2022-01-09T12:44:05.917Z"
   },
   {
    "duration": 10,
    "start_time": "2022-01-09T12:44:05.929Z"
   },
   {
    "duration": 5,
    "start_time": "2022-01-09T12:44:05.941Z"
   },
   {
    "duration": 6,
    "start_time": "2022-01-09T12:44:05.947Z"
   },
   {
    "duration": 7,
    "start_time": "2022-01-09T12:44:05.954Z"
   },
   {
    "duration": 5,
    "start_time": "2022-01-09T12:44:05.991Z"
   },
   {
    "duration": 7,
    "start_time": "2022-01-09T12:44:05.997Z"
   },
   {
    "duration": 8,
    "start_time": "2022-01-09T12:44:06.005Z"
   },
   {
    "duration": 14,
    "start_time": "2022-01-09T12:44:06.014Z"
   },
   {
    "duration": 11,
    "start_time": "2022-01-09T12:44:06.030Z"
   },
   {
    "duration": 6,
    "start_time": "2022-01-09T12:44:06.043Z"
   },
   {
    "duration": 5,
    "start_time": "2022-01-09T12:44:06.051Z"
   },
   {
    "duration": 75,
    "start_time": "2022-01-09T12:44:06.058Z"
   },
   {
    "duration": 7,
    "start_time": "2022-01-09T12:44:06.135Z"
   },
   {
    "duration": 450,
    "start_time": "2022-01-09T12:44:06.147Z"
   },
   {
    "duration": 25,
    "start_time": "2022-01-09T12:44:06.600Z"
   },
   {
    "duration": 13,
    "start_time": "2022-01-09T12:44:06.627Z"
   },
   {
    "duration": 659,
    "start_time": "2022-01-09T12:44:06.642Z"
   },
   {
    "duration": 165,
    "start_time": "2022-01-09T12:44:07.302Z"
   },
   {
    "duration": 6,
    "start_time": "2022-01-09T12:44:07.470Z"
   },
   {
    "duration": 236,
    "start_time": "2022-01-09T12:44:07.477Z"
   },
   {
    "duration": 228,
    "start_time": "2022-01-09T12:44:07.716Z"
   },
   {
    "duration": 18,
    "start_time": "2022-01-09T12:44:07.946Z"
   },
   {
    "duration": 246,
    "start_time": "2022-01-09T12:44:07.966Z"
   },
   {
    "duration": 233,
    "start_time": "2022-01-09T12:44:08.214Z"
   },
   {
    "duration": 245,
    "start_time": "2022-01-09T12:44:08.449Z"
   },
   {
    "duration": 250,
    "start_time": "2022-01-09T12:44:08.696Z"
   },
   {
    "duration": 247,
    "start_time": "2022-01-09T12:44:08.948Z"
   },
   {
    "duration": 5,
    "start_time": "2022-01-09T12:44:09.196Z"
   },
   {
    "duration": 6,
    "start_time": "2022-01-09T12:44:09.202Z"
   },
   {
    "duration": 5,
    "start_time": "2022-01-09T12:44:09.210Z"
   },
   {
    "duration": 5,
    "start_time": "2022-01-09T12:44:09.216Z"
   },
   {
    "duration": 185,
    "start_time": "2022-01-09T12:44:09.223Z"
   },
   {
    "duration": 10,
    "start_time": "2022-01-09T12:44:09.410Z"
   },
   {
    "duration": 424,
    "start_time": "2022-01-09T12:44:09.422Z"
   },
   {
    "duration": 147,
    "start_time": "2022-01-09T12:44:09.848Z"
   },
   {
    "duration": 50,
    "start_time": "2022-01-09T12:44:09.997Z"
   },
   {
    "duration": 12,
    "start_time": "2022-01-09T12:44:10.049Z"
   },
   {
    "duration": 485,
    "start_time": "2022-01-09T12:44:10.062Z"
   },
   {
    "duration": 288,
    "start_time": "2022-01-09T12:44:10.548Z"
   },
   {
    "duration": 144,
    "start_time": "2022-01-09T12:44:10.838Z"
   },
   {
    "duration": 165,
    "start_time": "2022-01-09T12:44:10.984Z"
   },
   {
    "duration": 198,
    "start_time": "2022-01-09T12:44:11.150Z"
   },
   {
    "duration": 170,
    "start_time": "2022-01-09T12:44:11.350Z"
   },
   {
    "duration": 4,
    "start_time": "2022-01-09T12:44:11.522Z"
   },
   {
    "duration": 14,
    "start_time": "2022-01-09T12:44:11.527Z"
   },
   {
    "duration": 304,
    "start_time": "2022-01-09T12:44:11.542Z"
   },
   {
    "duration": 296,
    "start_time": "2022-01-09T12:44:11.847Z"
   },
   {
    "duration": 167,
    "start_time": "2022-01-09T12:45:31.466Z"
   },
   {
    "duration": 9,
    "start_time": "2022-01-09T12:46:31.748Z"
   },
   {
    "duration": 4,
    "start_time": "2022-01-09T12:47:13.357Z"
   },
   {
    "duration": 10,
    "start_time": "2022-01-09T12:47:30.831Z"
   },
   {
    "duration": 294,
    "start_time": "2022-01-09T12:48:24.662Z"
   },
   {
    "duration": 4989,
    "start_time": "2022-01-09T12:50:03.441Z"
   },
   {
    "duration": 382,
    "start_time": "2022-01-09T12:50:16.565Z"
   },
   {
    "duration": 304,
    "start_time": "2022-01-09T12:50:22.273Z"
   },
   {
    "duration": 111,
    "start_time": "2022-01-09T12:50:51.313Z"
   },
   {
    "duration": 11,
    "start_time": "2022-01-09T12:50:51.427Z"
   },
   {
    "duration": 20,
    "start_time": "2022-01-09T12:50:51.441Z"
   },
   {
    "duration": 23,
    "start_time": "2022-01-09T12:50:51.493Z"
   },
   {
    "duration": 16,
    "start_time": "2022-01-09T12:50:51.518Z"
   },
   {
    "duration": 6,
    "start_time": "2022-01-09T12:50:51.536Z"
   },
   {
    "duration": 6,
    "start_time": "2022-01-09T12:50:51.543Z"
   },
   {
    "duration": 41,
    "start_time": "2022-01-09T12:50:51.551Z"
   },
   {
    "duration": 10,
    "start_time": "2022-01-09T12:50:51.594Z"
   },
   {
    "duration": 7,
    "start_time": "2022-01-09T12:50:51.606Z"
   },
   {
    "duration": 4,
    "start_time": "2022-01-09T12:50:51.615Z"
   },
   {
    "duration": 6,
    "start_time": "2022-01-09T12:50:51.620Z"
   },
   {
    "duration": 4,
    "start_time": "2022-01-09T12:50:51.628Z"
   },
   {
    "duration": 4,
    "start_time": "2022-01-09T12:50:51.633Z"
   },
   {
    "duration": 5,
    "start_time": "2022-01-09T12:50:51.638Z"
   },
   {
    "duration": 6,
    "start_time": "2022-01-09T12:50:51.645Z"
   },
   {
    "duration": 47,
    "start_time": "2022-01-09T12:50:51.652Z"
   },
   {
    "duration": 5,
    "start_time": "2022-01-09T12:50:51.701Z"
   },
   {
    "duration": 7,
    "start_time": "2022-01-09T12:50:51.708Z"
   },
   {
    "duration": 4,
    "start_time": "2022-01-09T12:50:51.717Z"
   },
   {
    "duration": 40,
    "start_time": "2022-01-09T12:50:51.723Z"
   },
   {
    "duration": 31,
    "start_time": "2022-01-09T12:50:51.765Z"
   },
   {
    "duration": 458,
    "start_time": "2022-01-09T12:50:51.799Z"
   },
   {
    "duration": 31,
    "start_time": "2022-01-09T12:50:52.260Z"
   },
   {
    "duration": 11,
    "start_time": "2022-01-09T12:50:52.293Z"
   },
   {
    "duration": 586,
    "start_time": "2022-01-09T12:50:52.305Z"
   },
   {
    "duration": 154,
    "start_time": "2022-01-09T12:50:52.893Z"
   },
   {
    "duration": 5,
    "start_time": "2022-01-09T12:50:53.049Z"
   },
   {
    "duration": 237,
    "start_time": "2022-01-09T12:50:53.056Z"
   },
   {
    "duration": 229,
    "start_time": "2022-01-09T12:50:53.295Z"
   },
   {
    "duration": 19,
    "start_time": "2022-01-09T12:50:53.527Z"
   },
   {
    "duration": 241,
    "start_time": "2022-01-09T12:50:53.547Z"
   },
   {
    "duration": 232,
    "start_time": "2022-01-09T12:50:53.791Z"
   },
   {
    "duration": 252,
    "start_time": "2022-01-09T12:50:54.025Z"
   },
   {
    "duration": 240,
    "start_time": "2022-01-09T12:50:54.279Z"
   },
   {
    "duration": 255,
    "start_time": "2022-01-09T12:50:54.520Z"
   },
   {
    "duration": 5,
    "start_time": "2022-01-09T12:50:54.777Z"
   },
   {
    "duration": 4,
    "start_time": "2022-01-09T12:50:54.792Z"
   },
   {
    "duration": 6,
    "start_time": "2022-01-09T12:50:54.798Z"
   },
   {
    "duration": 4,
    "start_time": "2022-01-09T12:50:54.806Z"
   },
   {
    "duration": 288,
    "start_time": "2022-01-09T12:50:54.812Z"
   },
   {
    "duration": 9,
    "start_time": "2022-01-09T12:50:55.102Z"
   },
   {
    "duration": 437,
    "start_time": "2022-01-09T12:50:55.113Z"
   },
   {
    "duration": 149,
    "start_time": "2022-01-09T12:50:55.552Z"
   },
   {
    "duration": 44,
    "start_time": "2022-01-09T12:50:55.703Z"
   },
   {
    "duration": 11,
    "start_time": "2022-01-09T12:50:55.749Z"
   },
   {
    "duration": 471,
    "start_time": "2022-01-09T12:50:55.761Z"
   },
   {
    "duration": 298,
    "start_time": "2022-01-09T12:50:56.234Z"
   },
   {
    "duration": 147,
    "start_time": "2022-01-09T12:50:56.534Z"
   },
   {
    "duration": 174,
    "start_time": "2022-01-09T12:50:56.683Z"
   },
   {
    "duration": 203,
    "start_time": "2022-01-09T12:50:56.859Z"
   },
   {
    "duration": 161,
    "start_time": "2022-01-09T12:50:57.063Z"
   },
   {
    "duration": 4,
    "start_time": "2022-01-09T12:50:57.225Z"
   },
   {
    "duration": 12,
    "start_time": "2022-01-09T12:50:57.231Z"
   },
   {
    "duration": 312,
    "start_time": "2022-01-09T12:50:57.244Z"
   },
   {
    "duration": 313,
    "start_time": "2022-01-09T12:50:57.558Z"
   },
   {
    "duration": 22,
    "start_time": "2022-01-09T12:50:57.873Z"
   },
   {
    "duration": 309,
    "start_time": "2022-01-09T12:50:57.897Z"
   },
   {
    "duration": 648,
    "start_time": "2022-01-10T16:11:36.238Z"
   },
   {
    "duration": 13,
    "start_time": "2022-01-10T16:11:36.888Z"
   },
   {
    "duration": 19,
    "start_time": "2022-01-10T16:11:36.903Z"
   },
   {
    "duration": 34,
    "start_time": "2022-01-10T16:11:36.925Z"
   },
   {
    "duration": 30,
    "start_time": "2022-01-10T16:11:36.962Z"
   },
   {
    "duration": 16,
    "start_time": "2022-01-10T16:11:36.994Z"
   },
   {
    "duration": 20,
    "start_time": "2022-01-10T16:11:37.012Z"
   },
   {
    "duration": 19,
    "start_time": "2022-01-10T16:11:37.034Z"
   },
   {
    "duration": 13,
    "start_time": "2022-01-10T16:11:37.056Z"
   },
   {
    "duration": 50,
    "start_time": "2022-01-10T16:11:37.071Z"
   },
   {
    "duration": 13,
    "start_time": "2022-01-10T16:11:37.124Z"
   },
   {
    "duration": 34,
    "start_time": "2022-01-10T16:11:37.138Z"
   },
   {
    "duration": 33,
    "start_time": "2022-01-10T16:11:37.173Z"
   },
   {
    "duration": 25,
    "start_time": "2022-01-10T16:11:37.208Z"
   },
   {
    "duration": 14,
    "start_time": "2022-01-10T16:11:37.234Z"
   },
   {
    "duration": 39,
    "start_time": "2022-01-10T16:11:37.250Z"
   },
   {
    "duration": 30,
    "start_time": "2022-01-10T16:11:37.291Z"
   },
   {
    "duration": 20,
    "start_time": "2022-01-10T16:11:37.322Z"
   },
   {
    "duration": 7,
    "start_time": "2022-01-10T16:11:37.343Z"
   },
   {
    "duration": 17,
    "start_time": "2022-01-10T16:11:37.352Z"
   },
   {
    "duration": 67,
    "start_time": "2022-01-10T16:11:37.370Z"
   },
   {
    "duration": 7,
    "start_time": "2022-01-10T16:11:37.439Z"
   },
   {
    "duration": 458,
    "start_time": "2022-01-10T16:11:37.447Z"
   },
   {
    "duration": 24,
    "start_time": "2022-01-10T16:11:37.907Z"
   },
   {
    "duration": 11,
    "start_time": "2022-01-10T16:11:37.933Z"
   },
   {
    "duration": 656,
    "start_time": "2022-01-10T16:11:37.946Z"
   },
   {
    "duration": 165,
    "start_time": "2022-01-10T16:11:38.605Z"
   },
   {
    "duration": 5,
    "start_time": "2022-01-10T16:11:38.772Z"
   },
   {
    "duration": 230,
    "start_time": "2022-01-10T16:11:38.778Z"
   },
   {
    "duration": 219,
    "start_time": "2022-01-10T16:11:39.010Z"
   },
   {
    "duration": 18,
    "start_time": "2022-01-10T16:11:39.231Z"
   },
   {
    "duration": 248,
    "start_time": "2022-01-10T16:11:39.251Z"
   },
   {
    "duration": 244,
    "start_time": "2022-01-10T16:11:39.501Z"
   },
   {
    "duration": 253,
    "start_time": "2022-01-10T16:11:39.747Z"
   },
   {
    "duration": 260,
    "start_time": "2022-01-10T16:11:40.002Z"
   },
   {
    "duration": 265,
    "start_time": "2022-01-10T16:11:40.264Z"
   },
   {
    "duration": 5,
    "start_time": "2022-01-10T16:11:40.530Z"
   },
   {
    "duration": 6,
    "start_time": "2022-01-10T16:11:40.536Z"
   },
   {
    "duration": 6,
    "start_time": "2022-01-10T16:11:40.544Z"
   },
   {
    "duration": 4,
    "start_time": "2022-01-10T16:11:40.552Z"
   },
   {
    "duration": 194,
    "start_time": "2022-01-10T16:11:40.558Z"
   },
   {
    "duration": 10,
    "start_time": "2022-01-10T16:11:40.754Z"
   },
   {
    "duration": 456,
    "start_time": "2022-01-10T16:11:40.766Z"
   },
   {
    "duration": 158,
    "start_time": "2022-01-10T16:11:41.223Z"
   },
   {
    "duration": 52,
    "start_time": "2022-01-10T16:11:41.383Z"
   },
   {
    "duration": 13,
    "start_time": "2022-01-10T16:11:41.437Z"
   },
   {
    "duration": 503,
    "start_time": "2022-01-10T16:11:41.452Z"
   },
   {
    "duration": 307,
    "start_time": "2022-01-10T16:11:41.957Z"
   },
   {
    "duration": 159,
    "start_time": "2022-01-10T16:11:42.266Z"
   },
   {
    "duration": 204,
    "start_time": "2022-01-10T16:11:42.427Z"
   },
   {
    "duration": 288,
    "start_time": "2022-01-10T16:11:42.634Z"
   },
   {
    "duration": 229,
    "start_time": "2022-01-10T16:11:42.924Z"
   },
   {
    "duration": 4,
    "start_time": "2022-01-10T16:11:43.155Z"
   },
   {
    "duration": 14,
    "start_time": "2022-01-10T16:11:43.161Z"
   },
   {
    "duration": 315,
    "start_time": "2022-01-10T16:11:43.192Z"
   },
   {
    "duration": 320,
    "start_time": "2022-01-10T16:11:43.509Z"
   },
   {
    "duration": 11,
    "start_time": "2022-01-10T16:11:43.831Z"
   },
   {
    "duration": 401,
    "start_time": "2022-01-10T16:11:43.844Z"
   },
   {
    "duration": 8,
    "start_time": "2022-01-10T16:21:50.008Z"
   },
   {
    "duration": 7,
    "start_time": "2022-01-10T16:22:16.832Z"
   },
   {
    "duration": 8,
    "start_time": "2022-01-10T16:22:31.787Z"
   },
   {
    "duration": 9,
    "start_time": "2022-01-10T16:25:15.044Z"
   },
   {
    "duration": 10,
    "start_time": "2022-01-10T16:25:50.782Z"
   },
   {
    "duration": 8,
    "start_time": "2022-01-10T16:25:57.593Z"
   },
   {
    "duration": 9,
    "start_time": "2022-01-10T16:27:41.163Z"
   },
   {
    "duration": 13,
    "start_time": "2022-01-10T16:28:24.956Z"
   },
   {
    "duration": 15,
    "start_time": "2022-01-10T16:28:36.880Z"
   },
   {
    "duration": 9,
    "start_time": "2022-01-10T16:28:49.065Z"
   },
   {
    "duration": 8,
    "start_time": "2022-01-10T16:29:07.312Z"
   },
   {
    "duration": 243,
    "start_time": "2022-01-10T16:31:22.732Z"
   },
   {
    "duration": 22,
    "start_time": "2022-01-10T16:35:03.002Z"
   },
   {
    "duration": 28,
    "start_time": "2022-01-10T16:35:10.919Z"
   },
   {
    "duration": 28,
    "start_time": "2022-01-10T16:35:15.937Z"
   },
   {
    "duration": 29,
    "start_time": "2022-01-10T16:35:29.402Z"
   },
   {
    "duration": 6,
    "start_time": "2022-01-10T16:42:07.285Z"
   },
   {
    "duration": 6,
    "start_time": "2022-01-10T16:43:02.064Z"
   },
   {
    "duration": 137,
    "start_time": "2022-01-10T16:43:14.162Z"
   },
   {
    "duration": 10,
    "start_time": "2022-01-10T16:43:14.301Z"
   },
   {
    "duration": 16,
    "start_time": "2022-01-10T16:43:14.314Z"
   },
   {
    "duration": 26,
    "start_time": "2022-01-10T16:43:14.332Z"
   },
   {
    "duration": 49,
    "start_time": "2022-01-10T16:43:14.360Z"
   },
   {
    "duration": 11,
    "start_time": "2022-01-10T16:43:14.411Z"
   },
   {
    "duration": 15,
    "start_time": "2022-01-10T16:43:14.424Z"
   },
   {
    "duration": 8,
    "start_time": "2022-01-10T16:43:14.440Z"
   },
   {
    "duration": 7,
    "start_time": "2022-01-10T16:43:14.451Z"
   },
   {
    "duration": 39,
    "start_time": "2022-01-10T16:43:14.460Z"
   },
   {
    "duration": 15,
    "start_time": "2022-01-10T16:43:14.501Z"
   },
   {
    "duration": 5,
    "start_time": "2022-01-10T16:43:14.518Z"
   },
   {
    "duration": 7,
    "start_time": "2022-01-10T16:43:14.525Z"
   },
   {
    "duration": 14,
    "start_time": "2022-01-10T16:43:14.534Z"
   },
   {
    "duration": 7,
    "start_time": "2022-01-10T16:43:14.550Z"
   },
   {
    "duration": 11,
    "start_time": "2022-01-10T16:43:14.558Z"
   },
   {
    "duration": 21,
    "start_time": "2022-01-10T16:43:14.571Z"
   },
   {
    "duration": 12,
    "start_time": "2022-01-10T16:43:14.593Z"
   },
   {
    "duration": 9,
    "start_time": "2022-01-10T16:43:14.607Z"
   },
   {
    "duration": 8,
    "start_time": "2022-01-10T16:43:14.618Z"
   },
   {
    "duration": 6,
    "start_time": "2022-01-10T16:43:14.627Z"
   },
   {
    "duration": 66,
    "start_time": "2022-01-10T16:43:14.634Z"
   },
   {
    "duration": 7,
    "start_time": "2022-01-10T16:43:14.702Z"
   },
   {
    "duration": 396,
    "start_time": "2022-01-10T16:43:14.711Z"
   },
   {
    "duration": 25,
    "start_time": "2022-01-10T16:43:15.109Z"
   },
   {
    "duration": 10,
    "start_time": "2022-01-10T16:43:15.136Z"
   },
   {
    "duration": 608,
    "start_time": "2022-01-10T16:43:15.151Z"
   },
   {
    "duration": 156,
    "start_time": "2022-01-10T16:43:15.761Z"
   },
   {
    "duration": 6,
    "start_time": "2022-01-10T16:43:15.919Z"
   },
   {
    "duration": 229,
    "start_time": "2022-01-10T16:43:15.926Z"
   },
   {
    "duration": 228,
    "start_time": "2022-01-10T16:43:16.157Z"
   },
   {
    "duration": 22,
    "start_time": "2022-01-10T16:43:16.386Z"
   },
   {
    "duration": 237,
    "start_time": "2022-01-10T16:43:16.410Z"
   },
   {
    "duration": 234,
    "start_time": "2022-01-10T16:43:16.649Z"
   },
   {
    "duration": 342,
    "start_time": "2022-01-10T16:43:16.884Z"
   },
   {
    "duration": 243,
    "start_time": "2022-01-10T16:43:17.228Z"
   },
   {
    "duration": 283,
    "start_time": "2022-01-10T16:43:17.473Z"
   },
   {
    "duration": 4,
    "start_time": "2022-01-10T16:43:17.758Z"
   },
   {
    "duration": 11,
    "start_time": "2022-01-10T16:43:17.764Z"
   },
   {
    "duration": 16,
    "start_time": "2022-01-10T16:43:17.776Z"
   },
   {
    "duration": 4,
    "start_time": "2022-01-10T16:43:17.794Z"
   },
   {
    "duration": 180,
    "start_time": "2022-01-10T16:43:17.800Z"
   },
   {
    "duration": 15,
    "start_time": "2022-01-10T16:43:17.982Z"
   },
   {
    "duration": 354,
    "start_time": "2022-01-10T16:43:17.999Z"
   },
   {
    "duration": 141,
    "start_time": "2022-01-10T16:43:18.355Z"
   },
   {
    "duration": 44,
    "start_time": "2022-01-10T16:43:18.497Z"
   },
   {
    "duration": 11,
    "start_time": "2022-01-10T16:43:18.546Z"
   },
   {
    "duration": 457,
    "start_time": "2022-01-10T16:43:18.560Z"
   },
   {
    "duration": 317,
    "start_time": "2022-01-10T16:43:19.019Z"
   },
   {
    "duration": 155,
    "start_time": "2022-01-10T16:43:19.338Z"
   },
   {
    "duration": 173,
    "start_time": "2022-01-10T16:43:19.496Z"
   },
   {
    "duration": 199,
    "start_time": "2022-01-10T16:43:19.671Z"
   },
   {
    "duration": 166,
    "start_time": "2022-01-10T16:43:19.871Z"
   },
   {
    "duration": 6,
    "start_time": "2022-01-10T16:43:20.038Z"
   },
   {
    "duration": 13,
    "start_time": "2022-01-10T16:43:20.046Z"
   },
   {
    "duration": 312,
    "start_time": "2022-01-10T16:43:20.061Z"
   },
   {
    "duration": 32,
    "start_time": "2022-01-10T16:43:20.375Z"
   },
   {
    "duration": 6,
    "start_time": "2022-01-10T16:43:20.409Z"
   },
   {
    "duration": 9,
    "start_time": "2022-01-10T16:49:24.546Z"
   },
   {
    "duration": 9,
    "start_time": "2022-01-10T16:49:44.187Z"
   },
   {
    "duration": 6,
    "start_time": "2022-01-10T16:50:35.447Z"
   },
   {
    "duration": 5,
    "start_time": "2022-01-10T16:51:25.337Z"
   },
   {
    "duration": 104,
    "start_time": "2022-01-10T16:51:46.220Z"
   },
   {
    "duration": 10,
    "start_time": "2022-01-10T16:51:46.326Z"
   },
   {
    "duration": 133,
    "start_time": "2022-01-10T16:51:46.338Z"
   },
   {
    "duration": 34,
    "start_time": "2022-01-10T16:51:46.473Z"
   },
   {
    "duration": 16,
    "start_time": "2022-01-10T16:51:46.508Z"
   },
   {
    "duration": 5,
    "start_time": "2022-01-10T16:51:46.525Z"
   },
   {
    "duration": 6,
    "start_time": "2022-01-10T16:51:46.531Z"
   },
   {
    "duration": 8,
    "start_time": "2022-01-10T16:51:46.539Z"
   },
   {
    "duration": 42,
    "start_time": "2022-01-10T16:51:46.550Z"
   },
   {
    "duration": 5,
    "start_time": "2022-01-10T16:51:46.594Z"
   },
   {
    "duration": 4,
    "start_time": "2022-01-10T16:51:46.601Z"
   },
   {
    "duration": 5,
    "start_time": "2022-01-10T16:51:46.607Z"
   },
   {
    "duration": 5,
    "start_time": "2022-01-10T16:51:46.613Z"
   },
   {
    "duration": 5,
    "start_time": "2022-01-10T16:51:46.619Z"
   },
   {
    "duration": 5,
    "start_time": "2022-01-10T16:51:46.625Z"
   },
   {
    "duration": 5,
    "start_time": "2022-01-10T16:51:46.632Z"
   },
   {
    "duration": 56,
    "start_time": "2022-01-10T16:51:46.639Z"
   },
   {
    "duration": 9,
    "start_time": "2022-01-10T16:51:46.697Z"
   },
   {
    "duration": 8,
    "start_time": "2022-01-10T16:51:46.708Z"
   },
   {
    "duration": 4,
    "start_time": "2022-01-10T16:51:46.718Z"
   },
   {
    "duration": 42,
    "start_time": "2022-01-10T16:51:46.723Z"
   },
   {
    "duration": 27,
    "start_time": "2022-01-10T16:51:46.767Z"
   },
   {
    "duration": 369,
    "start_time": "2022-01-10T16:51:46.795Z"
   },
   {
    "duration": 35,
    "start_time": "2022-01-10T16:51:47.166Z"
   },
   {
    "duration": 10,
    "start_time": "2022-01-10T16:51:47.203Z"
   },
   {
    "duration": 600,
    "start_time": "2022-01-10T16:51:47.215Z"
   },
   {
    "duration": 159,
    "start_time": "2022-01-10T16:51:47.820Z"
   },
   {
    "duration": 13,
    "start_time": "2022-01-10T16:51:47.982Z"
   },
   {
    "duration": 223,
    "start_time": "2022-01-10T16:51:47.996Z"
   },
   {
    "duration": 229,
    "start_time": "2022-01-10T16:51:48.221Z"
   },
   {
    "duration": 20,
    "start_time": "2022-01-10T16:51:48.452Z"
   },
   {
    "duration": 343,
    "start_time": "2022-01-10T16:51:48.474Z"
   },
   {
    "duration": 257,
    "start_time": "2022-01-10T16:51:48.820Z"
   },
   {
    "duration": 278,
    "start_time": "2022-01-10T16:51:49.080Z"
   },
   {
    "duration": 267,
    "start_time": "2022-01-10T16:51:49.360Z"
   },
   {
    "duration": 278,
    "start_time": "2022-01-10T16:51:49.630Z"
   },
   {
    "duration": 4,
    "start_time": "2022-01-10T16:51:49.910Z"
   },
   {
    "duration": 6,
    "start_time": "2022-01-10T16:51:49.916Z"
   },
   {
    "duration": 6,
    "start_time": "2022-01-10T16:51:49.923Z"
   },
   {
    "duration": 5,
    "start_time": "2022-01-10T16:51:49.931Z"
   },
   {
    "duration": 318,
    "start_time": "2022-01-10T16:51:49.937Z"
   },
   {
    "duration": 9,
    "start_time": "2022-01-10T16:51:50.257Z"
   },
   {
    "duration": 398,
    "start_time": "2022-01-10T16:51:50.268Z"
   },
   {
    "duration": 156,
    "start_time": "2022-01-10T16:51:50.668Z"
   },
   {
    "duration": 45,
    "start_time": "2022-01-10T16:51:50.826Z"
   },
   {
    "duration": 26,
    "start_time": "2022-01-10T16:51:50.873Z"
   },
   {
    "duration": 473,
    "start_time": "2022-01-10T16:51:50.901Z"
   },
   {
    "duration": 320,
    "start_time": "2022-01-10T16:51:51.376Z"
   },
   {
    "duration": 166,
    "start_time": "2022-01-10T16:51:51.698Z"
   },
   {
    "duration": 179,
    "start_time": "2022-01-10T16:51:51.865Z"
   },
   {
    "duration": 204,
    "start_time": "2022-01-10T16:51:52.046Z"
   },
   {
    "duration": 180,
    "start_time": "2022-01-10T16:51:52.252Z"
   },
   {
    "duration": 4,
    "start_time": "2022-01-10T16:51:52.434Z"
   },
   {
    "duration": 17,
    "start_time": "2022-01-10T16:51:52.440Z"
   },
   {
    "duration": 324,
    "start_time": "2022-01-10T16:51:52.459Z"
   },
   {
    "duration": 24,
    "start_time": "2022-01-10T16:51:52.792Z"
   },
   {
    "duration": 8,
    "start_time": "2022-01-10T16:51:52.818Z"
   },
   {
    "duration": 6,
    "start_time": "2022-01-10T16:51:52.828Z"
   },
   {
    "duration": 141,
    "start_time": "2022-01-10T16:52:02.896Z"
   },
   {
    "duration": 5,
    "start_time": "2022-01-10T16:52:28.854Z"
   },
   {
    "duration": 5,
    "start_time": "2022-01-10T16:52:57.786Z"
   },
   {
    "duration": 35,
    "start_time": "2022-01-10T16:53:14.074Z"
   },
   {
    "duration": 7,
    "start_time": "2022-01-10T16:54:50.997Z"
   },
   {
    "duration": 5,
    "start_time": "2022-01-10T16:55:05.898Z"
   },
   {
    "duration": 5,
    "start_time": "2022-01-10T16:55:11.211Z"
   },
   {
    "duration": 4,
    "start_time": "2022-01-10T16:55:13.884Z"
   },
   {
    "duration": 138,
    "start_time": "2022-01-10T16:56:22.875Z"
   },
   {
    "duration": 11,
    "start_time": "2022-01-10T16:56:23.014Z"
   },
   {
    "duration": 16,
    "start_time": "2022-01-10T16:56:23.027Z"
   },
   {
    "duration": 47,
    "start_time": "2022-01-10T16:56:23.045Z"
   },
   {
    "duration": 23,
    "start_time": "2022-01-10T16:56:23.094Z"
   },
   {
    "duration": 5,
    "start_time": "2022-01-10T16:56:23.119Z"
   },
   {
    "duration": 10,
    "start_time": "2022-01-10T16:56:23.126Z"
   },
   {
    "duration": 7,
    "start_time": "2022-01-10T16:56:23.139Z"
   },
   {
    "duration": 44,
    "start_time": "2022-01-10T16:56:23.149Z"
   },
   {
    "duration": 8,
    "start_time": "2022-01-10T16:56:23.195Z"
   },
   {
    "duration": 4,
    "start_time": "2022-01-10T16:56:23.205Z"
   },
   {
    "duration": 5,
    "start_time": "2022-01-10T16:56:23.211Z"
   },
   {
    "duration": 6,
    "start_time": "2022-01-10T16:56:23.218Z"
   },
   {
    "duration": 4,
    "start_time": "2022-01-10T16:56:23.226Z"
   },
   {
    "duration": 5,
    "start_time": "2022-01-10T16:56:23.232Z"
   },
   {
    "duration": 9,
    "start_time": "2022-01-10T16:56:23.239Z"
   },
   {
    "duration": 41,
    "start_time": "2022-01-10T16:56:23.250Z"
   },
   {
    "duration": 10,
    "start_time": "2022-01-10T16:56:23.293Z"
   },
   {
    "duration": 7,
    "start_time": "2022-01-10T16:56:23.304Z"
   },
   {
    "duration": 5,
    "start_time": "2022-01-10T16:56:23.312Z"
   },
   {
    "duration": 43,
    "start_time": "2022-01-10T16:56:23.318Z"
   },
   {
    "duration": 7,
    "start_time": "2022-01-10T16:56:23.362Z"
   },
   {
    "duration": 375,
    "start_time": "2022-01-10T16:56:23.394Z"
   },
   {
    "duration": 33,
    "start_time": "2022-01-10T16:56:23.772Z"
   },
   {
    "duration": 12,
    "start_time": "2022-01-10T16:56:23.807Z"
   },
   {
    "duration": 577,
    "start_time": "2022-01-10T16:56:23.821Z"
   },
   {
    "duration": 149,
    "start_time": "2022-01-10T16:56:24.399Z"
   },
   {
    "duration": 4,
    "start_time": "2022-01-10T16:56:24.550Z"
   },
   {
    "duration": 238,
    "start_time": "2022-01-10T16:56:24.556Z"
   },
   {
    "duration": 367,
    "start_time": "2022-01-10T16:56:24.796Z"
   },
   {
    "duration": 27,
    "start_time": "2022-01-10T16:56:25.165Z"
   },
   {
    "duration": 219,
    "start_time": "2022-01-10T16:56:25.193Z"
   },
   {
    "duration": 227,
    "start_time": "2022-01-10T16:56:25.414Z"
   },
   {
    "duration": 236,
    "start_time": "2022-01-10T16:56:25.643Z"
   },
   {
    "duration": 236,
    "start_time": "2022-01-10T16:56:25.881Z"
   },
   {
    "duration": 251,
    "start_time": "2022-01-10T16:56:26.119Z"
   },
   {
    "duration": 4,
    "start_time": "2022-01-10T16:56:26.372Z"
   },
   {
    "duration": 14,
    "start_time": "2022-01-10T16:56:26.378Z"
   },
   {
    "duration": 5,
    "start_time": "2022-01-10T16:56:26.394Z"
   },
   {
    "duration": 4,
    "start_time": "2022-01-10T16:56:26.400Z"
   },
   {
    "duration": 167,
    "start_time": "2022-01-10T16:56:26.406Z"
   },
   {
    "duration": 17,
    "start_time": "2022-01-10T16:56:26.574Z"
   },
   {
    "duration": 371,
    "start_time": "2022-01-10T16:56:26.593Z"
   },
   {
    "duration": 154,
    "start_time": "2022-01-10T16:56:26.966Z"
   },
   {
    "duration": 45,
    "start_time": "2022-01-10T16:56:27.122Z"
   },
   {
    "duration": 28,
    "start_time": "2022-01-10T16:56:27.169Z"
   },
   {
    "duration": 453,
    "start_time": "2022-01-10T16:56:27.199Z"
   },
   {
    "duration": 298,
    "start_time": "2022-01-10T16:56:27.654Z"
   },
   {
    "duration": 154,
    "start_time": "2022-01-10T16:56:27.954Z"
   },
   {
    "duration": 169,
    "start_time": "2022-01-10T16:56:28.109Z"
   },
   {
    "duration": 195,
    "start_time": "2022-01-10T16:56:28.280Z"
   },
   {
    "duration": 154,
    "start_time": "2022-01-10T16:56:28.477Z"
   },
   {
    "duration": 4,
    "start_time": "2022-01-10T16:56:28.633Z"
   },
   {
    "duration": 14,
    "start_time": "2022-01-10T16:56:28.638Z"
   },
   {
    "duration": 292,
    "start_time": "2022-01-10T16:56:28.653Z"
   },
   {
    "duration": 21,
    "start_time": "2022-01-10T16:56:28.946Z"
   },
   {
    "duration": 23,
    "start_time": "2022-01-10T16:56:28.969Z"
   },
   {
    "duration": 7,
    "start_time": "2022-01-10T16:56:31.990Z"
   },
   {
    "duration": 5404,
    "start_time": "2022-01-10T16:59:49.915Z"
   },
   {
    "duration": 758,
    "start_time": "2022-01-10T17:00:22.752Z"
   },
   {
    "duration": 300,
    "start_time": "2022-01-10T17:03:30.933Z"
   },
   {
    "duration": 297,
    "start_time": "2022-01-10T17:03:57.695Z"
   },
   {
    "duration": 285,
    "start_time": "2022-01-10T17:04:19.051Z"
   },
   {
    "duration": 283,
    "start_time": "2022-01-10T17:05:02.872Z"
   },
   {
    "duration": 6,
    "start_time": "2022-01-10T17:11:45.337Z"
   },
   {
    "duration": 6,
    "start_time": "2022-01-10T17:11:58.550Z"
   },
   {
    "duration": 175,
    "start_time": "2022-01-10T17:12:16.387Z"
   },
   {
    "duration": 187,
    "start_time": "2022-01-10T17:12:51.012Z"
   },
   {
    "duration": 213,
    "start_time": "2022-01-10T17:12:59.078Z"
   },
   {
    "duration": 180,
    "start_time": "2022-01-10T17:13:20.417Z"
   },
   {
    "duration": 6,
    "start_time": "2022-01-10T17:13:51.867Z"
   },
   {
    "duration": 4,
    "start_time": "2022-01-10T17:14:16.683Z"
   },
   {
    "duration": 94,
    "start_time": "2022-01-10T17:14:27.327Z"
   },
   {
    "duration": 10,
    "start_time": "2022-01-10T17:14:27.423Z"
   },
   {
    "duration": 17,
    "start_time": "2022-01-10T17:14:27.436Z"
   },
   {
    "duration": 45,
    "start_time": "2022-01-10T17:14:27.455Z"
   },
   {
    "duration": 16,
    "start_time": "2022-01-10T17:14:27.502Z"
   },
   {
    "duration": 9,
    "start_time": "2022-01-10T17:14:27.520Z"
   },
   {
    "duration": 10,
    "start_time": "2022-01-10T17:14:27.531Z"
   },
   {
    "duration": 7,
    "start_time": "2022-01-10T17:14:27.543Z"
   },
   {
    "duration": 9,
    "start_time": "2022-01-10T17:14:27.553Z"
   },
   {
    "duration": 29,
    "start_time": "2022-01-10T17:14:27.565Z"
   },
   {
    "duration": 4,
    "start_time": "2022-01-10T17:14:27.596Z"
   },
   {
    "duration": 6,
    "start_time": "2022-01-10T17:14:27.601Z"
   },
   {
    "duration": 5,
    "start_time": "2022-01-10T17:14:27.609Z"
   },
   {
    "duration": 5,
    "start_time": "2022-01-10T17:14:27.615Z"
   },
   {
    "duration": 8,
    "start_time": "2022-01-10T17:14:27.622Z"
   },
   {
    "duration": 6,
    "start_time": "2022-01-10T17:14:27.631Z"
   },
   {
    "duration": 53,
    "start_time": "2022-01-10T17:14:27.639Z"
   },
   {
    "duration": 6,
    "start_time": "2022-01-10T17:14:27.694Z"
   },
   {
    "duration": 7,
    "start_time": "2022-01-10T17:14:27.702Z"
   },
   {
    "duration": 4,
    "start_time": "2022-01-10T17:14:27.711Z"
   },
   {
    "duration": 41,
    "start_time": "2022-01-10T17:14:27.716Z"
   },
   {
    "duration": 39,
    "start_time": "2022-01-10T17:14:27.759Z"
   },
   {
    "duration": 568,
    "start_time": "2022-01-10T17:14:27.799Z"
   },
   {
    "duration": 33,
    "start_time": "2022-01-10T17:14:28.368Z"
   },
   {
    "duration": 14,
    "start_time": "2022-01-10T17:14:28.403Z"
   },
   {
    "duration": 645,
    "start_time": "2022-01-10T17:14:28.418Z"
   },
   {
    "duration": 158,
    "start_time": "2022-01-10T17:14:29.067Z"
   },
   {
    "duration": 5,
    "start_time": "2022-01-10T17:14:29.227Z"
   },
   {
    "duration": 228,
    "start_time": "2022-01-10T17:14:29.233Z"
   },
   {
    "duration": 233,
    "start_time": "2022-01-10T17:14:29.463Z"
   },
   {
    "duration": 15,
    "start_time": "2022-01-10T17:14:29.698Z"
   },
   {
    "duration": 234,
    "start_time": "2022-01-10T17:14:29.715Z"
   },
   {
    "duration": 248,
    "start_time": "2022-01-10T17:14:29.951Z"
   },
   {
    "duration": 244,
    "start_time": "2022-01-10T17:14:30.200Z"
   },
   {
    "duration": 248,
    "start_time": "2022-01-10T17:14:30.446Z"
   },
   {
    "duration": 248,
    "start_time": "2022-01-10T17:14:30.696Z"
   },
   {
    "duration": 5,
    "start_time": "2022-01-10T17:14:30.946Z"
   },
   {
    "duration": 23,
    "start_time": "2022-01-10T17:14:30.953Z"
   },
   {
    "duration": 8,
    "start_time": "2022-01-10T17:14:30.978Z"
   },
   {
    "duration": 14,
    "start_time": "2022-01-10T17:14:30.992Z"
   },
   {
    "duration": 169,
    "start_time": "2022-01-10T17:14:31.008Z"
   },
   {
    "duration": 18,
    "start_time": "2022-01-10T17:14:31.178Z"
   },
   {
    "duration": 376,
    "start_time": "2022-01-10T17:14:31.198Z"
   },
   {
    "duration": 157,
    "start_time": "2022-01-10T17:14:31.576Z"
   },
   {
    "duration": 42,
    "start_time": "2022-01-10T17:14:31.734Z"
   },
   {
    "duration": 22,
    "start_time": "2022-01-10T17:14:31.777Z"
   },
   {
    "duration": 442,
    "start_time": "2022-01-10T17:14:31.801Z"
   },
   {
    "duration": 301,
    "start_time": "2022-01-10T17:14:32.245Z"
   },
   {
    "duration": 147,
    "start_time": "2022-01-10T17:14:32.548Z"
   },
   {
    "duration": 172,
    "start_time": "2022-01-10T17:14:32.697Z"
   },
   {
    "duration": 194,
    "start_time": "2022-01-10T17:14:32.871Z"
   },
   {
    "duration": 169,
    "start_time": "2022-01-10T17:14:33.067Z"
   },
   {
    "duration": 4,
    "start_time": "2022-01-10T17:14:33.237Z"
   },
   {
    "duration": 11,
    "start_time": "2022-01-10T17:14:33.243Z"
   },
   {
    "duration": 305,
    "start_time": "2022-01-10T17:14:33.256Z"
   },
   {
    "duration": 40,
    "start_time": "2022-01-10T17:14:33.563Z"
   },
   {
    "duration": 7,
    "start_time": "2022-01-10T17:14:33.605Z"
   },
   {
    "duration": 4,
    "start_time": "2022-01-10T17:14:33.614Z"
   },
   {
    "duration": 283,
    "start_time": "2022-01-10T17:14:33.620Z"
   },
   {
    "duration": 8,
    "start_time": "2022-01-10T17:14:56.027Z"
   },
   {
    "duration": 6,
    "start_time": "2022-01-10T17:15:15.166Z"
   },
   {
    "duration": 117,
    "start_time": "2022-01-10T17:15:19.634Z"
   },
   {
    "duration": 12,
    "start_time": "2022-01-10T17:15:19.754Z"
   },
   {
    "duration": 42,
    "start_time": "2022-01-10T17:15:19.768Z"
   },
   {
    "duration": 32,
    "start_time": "2022-01-10T17:15:19.812Z"
   },
   {
    "duration": 25,
    "start_time": "2022-01-10T17:15:19.846Z"
   },
   {
    "duration": 22,
    "start_time": "2022-01-10T17:15:19.873Z"
   },
   {
    "duration": 6,
    "start_time": "2022-01-10T17:15:19.897Z"
   },
   {
    "duration": 9,
    "start_time": "2022-01-10T17:15:19.905Z"
   },
   {
    "duration": 16,
    "start_time": "2022-01-10T17:15:19.918Z"
   },
   {
    "duration": 7,
    "start_time": "2022-01-10T17:15:19.937Z"
   },
   {
    "duration": 5,
    "start_time": "2022-01-10T17:15:19.946Z"
   },
   {
    "duration": 42,
    "start_time": "2022-01-10T17:15:19.953Z"
   },
   {
    "duration": 6,
    "start_time": "2022-01-10T17:15:19.997Z"
   },
   {
    "duration": 14,
    "start_time": "2022-01-10T17:15:20.005Z"
   },
   {
    "duration": 11,
    "start_time": "2022-01-10T17:15:20.021Z"
   },
   {
    "duration": 8,
    "start_time": "2022-01-10T17:15:20.034Z"
   },
   {
    "duration": 12,
    "start_time": "2022-01-10T17:15:20.044Z"
   },
   {
    "duration": 12,
    "start_time": "2022-01-10T17:15:20.058Z"
   },
   {
    "duration": 5,
    "start_time": "2022-01-10T17:15:20.092Z"
   },
   {
    "duration": 5,
    "start_time": "2022-01-10T17:15:20.099Z"
   },
   {
    "duration": 42,
    "start_time": "2022-01-10T17:15:20.106Z"
   },
   {
    "duration": 6,
    "start_time": "2022-01-10T17:15:20.150Z"
   },
   {
    "duration": 610,
    "start_time": "2022-01-10T17:15:20.158Z"
   },
   {
    "duration": 32,
    "start_time": "2022-01-10T17:15:20.769Z"
   },
   {
    "duration": 10,
    "start_time": "2022-01-10T17:15:20.803Z"
   },
   {
    "duration": 586,
    "start_time": "2022-01-10T17:15:20.815Z"
   },
   {
    "duration": 163,
    "start_time": "2022-01-10T17:15:21.406Z"
   },
   {
    "duration": 6,
    "start_time": "2022-01-10T17:15:21.572Z"
   },
   {
    "duration": 235,
    "start_time": "2022-01-10T17:15:21.579Z"
   },
   {
    "duration": 212,
    "start_time": "2022-01-10T17:15:21.815Z"
   },
   {
    "duration": 17,
    "start_time": "2022-01-10T17:15:22.029Z"
   },
   {
    "duration": 245,
    "start_time": "2022-01-10T17:15:22.048Z"
   },
   {
    "duration": 231,
    "start_time": "2022-01-10T17:15:22.295Z"
   },
   {
    "duration": 250,
    "start_time": "2022-01-10T17:15:22.527Z"
   },
   {
    "duration": 246,
    "start_time": "2022-01-10T17:15:22.779Z"
   },
   {
    "duration": 266,
    "start_time": "2022-01-10T17:15:23.027Z"
   },
   {
    "duration": 4,
    "start_time": "2022-01-10T17:15:23.294Z"
   },
   {
    "duration": 6,
    "start_time": "2022-01-10T17:15:23.300Z"
   },
   {
    "duration": 14,
    "start_time": "2022-01-10T17:15:23.307Z"
   },
   {
    "duration": 28,
    "start_time": "2022-01-10T17:15:23.322Z"
   },
   {
    "duration": 160,
    "start_time": "2022-01-10T17:15:23.352Z"
   },
   {
    "duration": 7,
    "start_time": "2022-01-10T17:15:23.514Z"
   },
   {
    "duration": 373,
    "start_time": "2022-01-10T17:15:23.523Z"
   },
   {
    "duration": 148,
    "start_time": "2022-01-10T17:15:23.897Z"
   },
   {
    "duration": 55,
    "start_time": "2022-01-10T17:15:24.046Z"
   },
   {
    "duration": 11,
    "start_time": "2022-01-10T17:15:24.102Z"
   },
   {
    "duration": 442,
    "start_time": "2022-01-10T17:15:24.114Z"
   },
   {
    "duration": 297,
    "start_time": "2022-01-10T17:15:24.558Z"
   },
   {
    "duration": 156,
    "start_time": "2022-01-10T17:15:24.856Z"
   },
   {
    "duration": 170,
    "start_time": "2022-01-10T17:15:25.014Z"
   },
   {
    "duration": 192,
    "start_time": "2022-01-10T17:15:25.185Z"
   },
   {
    "duration": 164,
    "start_time": "2022-01-10T17:15:25.379Z"
   },
   {
    "duration": 4,
    "start_time": "2022-01-10T17:15:25.545Z"
   },
   {
    "duration": 29,
    "start_time": "2022-01-10T17:15:25.550Z"
   },
   {
    "duration": 294,
    "start_time": "2022-01-10T17:15:25.581Z"
   },
   {
    "duration": 29,
    "start_time": "2022-01-10T17:15:25.876Z"
   },
   {
    "duration": 7,
    "start_time": "2022-01-10T17:15:25.908Z"
   },
   {
    "duration": 5,
    "start_time": "2022-01-10T17:15:25.917Z"
   },
   {
    "duration": 310,
    "start_time": "2022-01-10T17:15:25.924Z"
   },
   {
    "duration": 7,
    "start_time": "2022-01-10T17:15:46.355Z"
   },
   {
    "duration": 6,
    "start_time": "2022-01-10T17:16:03.560Z"
   },
   {
    "duration": 105,
    "start_time": "2022-01-10T17:16:11.649Z"
   },
   {
    "duration": 36,
    "start_time": "2022-01-10T17:16:11.756Z"
   },
   {
    "duration": 19,
    "start_time": "2022-01-10T17:16:11.794Z"
   },
   {
    "duration": 21,
    "start_time": "2022-01-10T17:16:11.815Z"
   },
   {
    "duration": 15,
    "start_time": "2022-01-10T17:16:11.838Z"
   },
   {
    "duration": 38,
    "start_time": "2022-01-10T17:16:11.854Z"
   },
   {
    "duration": 5,
    "start_time": "2022-01-10T17:16:11.894Z"
   },
   {
    "duration": 7,
    "start_time": "2022-01-10T17:16:11.901Z"
   },
   {
    "duration": 9,
    "start_time": "2022-01-10T17:16:11.910Z"
   },
   {
    "duration": 8,
    "start_time": "2022-01-10T17:16:11.921Z"
   },
   {
    "duration": 7,
    "start_time": "2022-01-10T17:16:11.930Z"
   },
   {
    "duration": 6,
    "start_time": "2022-01-10T17:16:11.939Z"
   },
   {
    "duration": 46,
    "start_time": "2022-01-10T17:16:11.946Z"
   },
   {
    "duration": 5,
    "start_time": "2022-01-10T17:16:11.993Z"
   },
   {
    "duration": 7,
    "start_time": "2022-01-10T17:16:11.999Z"
   },
   {
    "duration": 6,
    "start_time": "2022-01-10T17:16:12.007Z"
   },
   {
    "duration": 14,
    "start_time": "2022-01-10T17:16:12.014Z"
   },
   {
    "duration": 9,
    "start_time": "2022-01-10T17:16:12.029Z"
   },
   {
    "duration": 6,
    "start_time": "2022-01-10T17:16:12.039Z"
   },
   {
    "duration": 4,
    "start_time": "2022-01-10T17:16:12.046Z"
   },
   {
    "duration": 76,
    "start_time": "2022-01-10T17:16:12.052Z"
   },
   {
    "duration": 6,
    "start_time": "2022-01-10T17:16:12.129Z"
   },
   {
    "duration": 394,
    "start_time": "2022-01-10T17:16:12.139Z"
   },
   {
    "duration": 24,
    "start_time": "2022-01-10T17:16:12.536Z"
   },
   {
    "duration": 10,
    "start_time": "2022-01-10T17:16:12.562Z"
   },
   {
    "duration": 823,
    "start_time": "2022-01-10T17:16:12.574Z"
   },
   {
    "duration": 164,
    "start_time": "2022-01-10T17:16:13.398Z"
   },
   {
    "duration": 5,
    "start_time": "2022-01-10T17:16:13.564Z"
   },
   {
    "duration": 228,
    "start_time": "2022-01-10T17:16:13.571Z"
   },
   {
    "duration": 240,
    "start_time": "2022-01-10T17:16:13.801Z"
   },
   {
    "duration": 16,
    "start_time": "2022-01-10T17:16:14.043Z"
   },
   {
    "duration": 254,
    "start_time": "2022-01-10T17:16:14.061Z"
   },
   {
    "duration": 239,
    "start_time": "2022-01-10T17:16:14.317Z"
   },
   {
    "duration": 250,
    "start_time": "2022-01-10T17:16:14.557Z"
   },
   {
    "duration": 251,
    "start_time": "2022-01-10T17:16:14.808Z"
   },
   {
    "duration": 254,
    "start_time": "2022-01-10T17:16:15.060Z"
   },
   {
    "duration": 6,
    "start_time": "2022-01-10T17:16:15.316Z"
   },
   {
    "duration": 6,
    "start_time": "2022-01-10T17:16:15.324Z"
   },
   {
    "duration": 6,
    "start_time": "2022-01-10T17:16:15.332Z"
   },
   {
    "duration": 4,
    "start_time": "2022-01-10T17:16:15.341Z"
   },
   {
    "duration": 198,
    "start_time": "2022-01-10T17:16:15.347Z"
   },
   {
    "duration": 9,
    "start_time": "2022-01-10T17:16:15.547Z"
   },
   {
    "duration": 376,
    "start_time": "2022-01-10T17:16:15.557Z"
   },
   {
    "duration": 154,
    "start_time": "2022-01-10T17:16:15.935Z"
   },
   {
    "duration": 43,
    "start_time": "2022-01-10T17:16:16.091Z"
   },
   {
    "duration": 12,
    "start_time": "2022-01-10T17:16:16.136Z"
   },
   {
    "duration": 462,
    "start_time": "2022-01-10T17:16:16.149Z"
   },
   {
    "duration": 314,
    "start_time": "2022-01-10T17:16:16.613Z"
   },
   {
    "duration": 159,
    "start_time": "2022-01-10T17:16:16.930Z"
   },
   {
    "duration": 175,
    "start_time": "2022-01-10T17:16:17.091Z"
   },
   {
    "duration": 199,
    "start_time": "2022-01-10T17:16:17.268Z"
   },
   {
    "duration": 166,
    "start_time": "2022-01-10T17:16:17.469Z"
   },
   {
    "duration": 4,
    "start_time": "2022-01-10T17:16:17.637Z"
   },
   {
    "duration": 42,
    "start_time": "2022-01-10T17:16:17.643Z"
   },
   {
    "duration": 303,
    "start_time": "2022-01-10T17:16:17.688Z"
   },
   {
    "duration": 21,
    "start_time": "2022-01-10T17:16:17.993Z"
   },
   {
    "duration": 24,
    "start_time": "2022-01-10T17:16:18.016Z"
   },
   {
    "duration": 22,
    "start_time": "2022-01-10T17:16:18.042Z"
   },
   {
    "duration": 308,
    "start_time": "2022-01-10T17:16:18.065Z"
   },
   {
    "duration": 5,
    "start_time": "2022-01-10T17:17:20.515Z"
   },
   {
    "duration": 7,
    "start_time": "2022-01-10T17:17:47.617Z"
   },
   {
    "duration": 5,
    "start_time": "2022-01-10T17:18:07.859Z"
   },
   {
    "duration": 9,
    "start_time": "2022-01-10T17:18:57.217Z"
   },
   {
    "duration": 5,
    "start_time": "2022-01-10T17:18:57.905Z"
   },
   {
    "duration": 105,
    "start_time": "2022-01-10T17:19:02.861Z"
   },
   {
    "duration": 34,
    "start_time": "2022-01-10T17:19:02.967Z"
   },
   {
    "duration": 17,
    "start_time": "2022-01-10T17:19:03.003Z"
   },
   {
    "duration": 30,
    "start_time": "2022-01-10T17:19:03.022Z"
   },
   {
    "duration": 38,
    "start_time": "2022-01-10T17:19:03.053Z"
   },
   {
    "duration": 5,
    "start_time": "2022-01-10T17:19:03.093Z"
   },
   {
    "duration": 8,
    "start_time": "2022-01-10T17:19:03.100Z"
   },
   {
    "duration": 7,
    "start_time": "2022-01-10T17:19:03.111Z"
   },
   {
    "duration": 10,
    "start_time": "2022-01-10T17:19:03.120Z"
   },
   {
    "duration": 11,
    "start_time": "2022-01-10T17:19:03.132Z"
   },
   {
    "duration": 7,
    "start_time": "2022-01-10T17:19:03.144Z"
   },
   {
    "duration": 40,
    "start_time": "2022-01-10T17:19:03.152Z"
   },
   {
    "duration": 6,
    "start_time": "2022-01-10T17:19:03.194Z"
   },
   {
    "duration": 4,
    "start_time": "2022-01-10T17:19:03.202Z"
   },
   {
    "duration": 5,
    "start_time": "2022-01-10T17:19:03.208Z"
   },
   {
    "duration": 8,
    "start_time": "2022-01-10T17:19:03.214Z"
   },
   {
    "duration": 12,
    "start_time": "2022-01-10T17:19:03.223Z"
   },
   {
    "duration": 11,
    "start_time": "2022-01-10T17:19:03.236Z"
   },
   {
    "duration": 7,
    "start_time": "2022-01-10T17:19:03.248Z"
   },
   {
    "duration": 34,
    "start_time": "2022-01-10T17:19:03.257Z"
   },
   {
    "duration": 43,
    "start_time": "2022-01-10T17:19:03.293Z"
   },
   {
    "duration": 6,
    "start_time": "2022-01-10T17:19:03.338Z"
   },
   {
    "duration": 392,
    "start_time": "2022-01-10T17:19:03.348Z"
   },
   {
    "duration": 24,
    "start_time": "2022-01-10T17:19:03.742Z"
   },
   {
    "duration": 26,
    "start_time": "2022-01-10T17:19:03.768Z"
   },
   {
    "duration": 608,
    "start_time": "2022-01-10T17:19:03.796Z"
   },
   {
    "duration": 171,
    "start_time": "2022-01-10T17:19:04.406Z"
   },
   {
    "duration": 12,
    "start_time": "2022-01-10T17:19:04.579Z"
   },
   {
    "duration": 281,
    "start_time": "2022-01-10T17:19:04.592Z"
   },
   {
    "duration": 241,
    "start_time": "2022-01-10T17:19:04.876Z"
   },
   {
    "duration": 16,
    "start_time": "2022-01-10T17:19:05.119Z"
   },
   {
    "duration": 260,
    "start_time": "2022-01-10T17:19:05.137Z"
   },
   {
    "duration": 240,
    "start_time": "2022-01-10T17:19:05.399Z"
   },
   {
    "duration": 273,
    "start_time": "2022-01-10T17:19:05.641Z"
   },
   {
    "duration": 572,
    "start_time": "2022-01-10T17:19:05.916Z"
   },
   {
    "duration": 249,
    "start_time": "2022-01-10T17:19:06.491Z"
   },
   {
    "duration": 5,
    "start_time": "2022-01-10T17:19:06.742Z"
   },
   {
    "duration": 7,
    "start_time": "2022-01-10T17:19:06.748Z"
   },
   {
    "duration": 7,
    "start_time": "2022-01-10T17:19:06.757Z"
   },
   {
    "duration": 5,
    "start_time": "2022-01-10T17:19:06.766Z"
   },
   {
    "duration": 161,
    "start_time": "2022-01-10T17:19:06.791Z"
   },
   {
    "duration": 7,
    "start_time": "2022-01-10T17:19:06.954Z"
   },
   {
    "duration": 373,
    "start_time": "2022-01-10T17:19:06.963Z"
   },
   {
    "duration": 156,
    "start_time": "2022-01-10T17:19:07.338Z"
   },
   {
    "duration": 46,
    "start_time": "2022-01-10T17:19:07.496Z"
   },
   {
    "duration": 13,
    "start_time": "2022-01-10T17:19:07.544Z"
   },
   {
    "duration": 477,
    "start_time": "2022-01-10T17:19:07.559Z"
   },
   {
    "duration": 310,
    "start_time": "2022-01-10T17:19:08.038Z"
   },
   {
    "duration": 151,
    "start_time": "2022-01-10T17:19:08.350Z"
   },
   {
    "duration": 174,
    "start_time": "2022-01-10T17:19:08.503Z"
   },
   {
    "duration": 212,
    "start_time": "2022-01-10T17:19:08.679Z"
   },
   {
    "duration": 170,
    "start_time": "2022-01-10T17:19:08.894Z"
   },
   {
    "duration": 4,
    "start_time": "2022-01-10T17:19:09.066Z"
   },
   {
    "duration": 36,
    "start_time": "2022-01-10T17:19:09.072Z"
   },
   {
    "duration": 311,
    "start_time": "2022-01-10T17:19:09.110Z"
   },
   {
    "duration": 24,
    "start_time": "2022-01-10T17:19:09.423Z"
   },
   {
    "duration": 9,
    "start_time": "2022-01-10T17:19:09.450Z"
   },
   {
    "duration": 34,
    "start_time": "2022-01-10T17:19:09.461Z"
   },
   {
    "duration": 11,
    "start_time": "2022-01-10T17:19:09.497Z"
   },
   {
    "duration": 306,
    "start_time": "2022-01-10T17:19:09.510Z"
   },
   {
    "duration": 6,
    "start_time": "2022-01-10T17:20:35.912Z"
   },
   {
    "duration": 8,
    "start_time": "2022-01-10T17:20:43.348Z"
   },
   {
    "duration": 9,
    "start_time": "2022-01-10T17:20:44.141Z"
   },
   {
    "duration": 6,
    "start_time": "2022-01-10T17:20:44.955Z"
   },
   {
    "duration": 285,
    "start_time": "2022-01-10T17:20:45.718Z"
   },
   {
    "duration": 5,
    "start_time": "2022-01-10T17:21:14.583Z"
   },
   {
    "duration": 6,
    "start_time": "2022-01-10T17:21:18.015Z"
   },
   {
    "duration": 9,
    "start_time": "2022-01-10T17:21:27.604Z"
   },
   {
    "duration": 8,
    "start_time": "2022-01-10T17:21:28.145Z"
   },
   {
    "duration": 4,
    "start_time": "2022-01-10T17:22:02.467Z"
   },
   {
    "duration": 6,
    "start_time": "2022-01-10T17:22:57.865Z"
   },
   {
    "duration": 7,
    "start_time": "2022-01-10T17:23:02.480Z"
   },
   {
    "duration": 6,
    "start_time": "2022-01-10T17:23:23.726Z"
   },
   {
    "duration": 6,
    "start_time": "2022-01-10T17:23:24.454Z"
   },
   {
    "duration": 6,
    "start_time": "2022-01-10T17:24:41.443Z"
   },
   {
    "duration": 298,
    "start_time": "2022-01-10T17:24:42.542Z"
   },
   {
    "duration": 6,
    "start_time": "2022-01-10T17:24:55.093Z"
   },
   {
    "duration": 6,
    "start_time": "2022-01-10T17:24:55.916Z"
   },
   {
    "duration": 294,
    "start_time": "2022-01-10T17:24:56.697Z"
   },
   {
    "duration": 8,
    "start_time": "2022-01-10T17:25:16.149Z"
   },
   {
    "duration": 203,
    "start_time": "2022-01-10T17:25:16.605Z"
   },
   {
    "duration": 6,
    "start_time": "2022-01-10T17:25:17.061Z"
   },
   {
    "duration": 302,
    "start_time": "2022-01-10T17:25:17.891Z"
   },
   {
    "duration": 6,
    "start_time": "2022-01-10T17:26:01.406Z"
   },
   {
    "duration": 5,
    "start_time": "2022-01-10T17:26:04.499Z"
   },
   {
    "duration": 7,
    "start_time": "2022-01-10T17:26:48.206Z"
   },
   {
    "duration": 7,
    "start_time": "2022-01-10T17:26:49.209Z"
   },
   {
    "duration": 326,
    "start_time": "2022-01-10T17:26:50.131Z"
   },
   {
    "duration": 7,
    "start_time": "2022-01-10T17:27:31.257Z"
   },
   {
    "duration": 5,
    "start_time": "2022-01-10T17:27:32.437Z"
   },
   {
    "duration": 272,
    "start_time": "2022-01-10T17:27:33.107Z"
   },
   {
    "duration": 177,
    "start_time": "2022-01-10T17:28:44.546Z"
   },
   {
    "duration": 5,
    "start_time": "2022-01-10T17:28:45.185Z"
   },
   {
    "duration": 292,
    "start_time": "2022-01-10T17:28:46.400Z"
   },
   {
    "duration": 6,
    "start_time": "2022-01-10T17:28:52.152Z"
   },
   {
    "duration": 7,
    "start_time": "2022-01-10T17:28:52.774Z"
   },
   {
    "duration": 271,
    "start_time": "2022-01-10T17:28:53.499Z"
   },
   {
    "duration": 10,
    "start_time": "2022-01-10T17:28:57.226Z"
   },
   {
    "duration": 186,
    "start_time": "2022-01-10T17:28:57.609Z"
   },
   {
    "duration": 7,
    "start_time": "2022-01-10T17:28:58.073Z"
   },
   {
    "duration": 280,
    "start_time": "2022-01-10T17:28:58.728Z"
   },
   {
    "duration": 197,
    "start_time": "2022-01-10T17:30:07.421Z"
   },
   {
    "duration": 6,
    "start_time": "2022-01-10T17:30:10.514Z"
   },
   {
    "duration": 10,
    "start_time": "2022-01-10T17:30:17.135Z"
   },
   {
    "duration": 194,
    "start_time": "2022-01-10T17:30:17.575Z"
   },
   {
    "duration": 5,
    "start_time": "2022-01-10T17:30:18.637Z"
   },
   {
    "duration": 7,
    "start_time": "2022-01-10T17:30:46.277Z"
   },
   {
    "duration": 5,
    "start_time": "2022-01-10T17:30:47.107Z"
   },
   {
    "duration": 301,
    "start_time": "2022-01-10T17:30:48.278Z"
   },
   {
    "duration": 184,
    "start_time": "2022-01-10T17:30:58.440Z"
   },
   {
    "duration": 282,
    "start_time": "2022-01-10T17:31:02.139Z"
   },
   {
    "duration": 657,
    "start_time": "2022-01-10T17:32:25.402Z"
   },
   {
    "duration": 325,
    "start_time": "2022-01-10T17:32:41.372Z"
   },
   {
    "duration": 204,
    "start_time": "2022-01-10T17:32:48.091Z"
   },
   {
    "duration": 6,
    "start_time": "2022-01-10T17:32:58.780Z"
   },
   {
    "duration": 13,
    "start_time": "2022-01-10T17:35:25.835Z"
   },
   {
    "duration": 176,
    "start_time": "2022-01-10T17:35:36.364Z"
   },
   {
    "duration": 7,
    "start_time": "2022-01-10T17:36:23.403Z"
   },
   {
    "duration": 6,
    "start_time": "2022-01-10T17:36:24.274Z"
   },
   {
    "duration": 4,
    "start_time": "2022-01-10T17:36:25.532Z"
   },
   {
    "duration": 13,
    "start_time": "2022-01-10T17:36:26.695Z"
   },
   {
    "duration": 14,
    "start_time": "2022-01-10T17:36:42.913Z"
   },
   {
    "duration": 249,
    "start_time": "2022-01-10T17:36:45.844Z"
   },
   {
    "duration": 13,
    "start_time": "2022-01-10T17:37:03.333Z"
   },
   {
    "duration": 185,
    "start_time": "2022-01-10T17:37:05.048Z"
   },
   {
    "duration": 5,
    "start_time": "2022-01-10T17:37:56.649Z"
   },
   {
    "duration": 7,
    "start_time": "2022-01-10T17:37:58.646Z"
   },
   {
    "duration": 7,
    "start_time": "2022-01-10T17:37:59.055Z"
   },
   {
    "duration": 5,
    "start_time": "2022-01-10T17:37:59.484Z"
   },
   {
    "duration": 144,
    "start_time": "2022-01-10T17:38:04.952Z"
   },
   {
    "duration": 10,
    "start_time": "2022-01-10T17:38:05.098Z"
   },
   {
    "duration": 17,
    "start_time": "2022-01-10T17:38:05.110Z"
   },
   {
    "duration": 19,
    "start_time": "2022-01-10T17:38:05.129Z"
   },
   {
    "duration": 16,
    "start_time": "2022-01-10T17:38:05.150Z"
   },
   {
    "duration": 4,
    "start_time": "2022-01-10T17:38:05.192Z"
   },
   {
    "duration": 11,
    "start_time": "2022-01-10T17:38:05.197Z"
   },
   {
    "duration": 9,
    "start_time": "2022-01-10T17:38:05.210Z"
   },
   {
    "duration": 25,
    "start_time": "2022-01-10T17:38:05.221Z"
   },
   {
    "duration": 15,
    "start_time": "2022-01-10T17:38:05.248Z"
   },
   {
    "duration": 18,
    "start_time": "2022-01-10T17:38:05.265Z"
   },
   {
    "duration": 7,
    "start_time": "2022-01-10T17:38:05.285Z"
   },
   {
    "duration": 7,
    "start_time": "2022-01-10T17:38:05.293Z"
   },
   {
    "duration": 8,
    "start_time": "2022-01-10T17:38:05.301Z"
   },
   {
    "duration": 13,
    "start_time": "2022-01-10T17:38:05.311Z"
   },
   {
    "duration": 18,
    "start_time": "2022-01-10T17:38:05.326Z"
   },
   {
    "duration": 16,
    "start_time": "2022-01-10T17:38:05.347Z"
   },
   {
    "duration": 19,
    "start_time": "2022-01-10T17:38:05.365Z"
   },
   {
    "duration": 19,
    "start_time": "2022-01-10T17:38:05.386Z"
   },
   {
    "duration": 29,
    "start_time": "2022-01-10T17:38:05.407Z"
   },
   {
    "duration": 45,
    "start_time": "2022-01-10T17:38:05.438Z"
   },
   {
    "duration": 5,
    "start_time": "2022-01-10T17:38:05.485Z"
   },
   {
    "duration": 386,
    "start_time": "2022-01-10T17:38:05.494Z"
   },
   {
    "duration": 27,
    "start_time": "2022-01-10T17:38:05.882Z"
   },
   {
    "duration": 11,
    "start_time": "2022-01-10T17:38:05.911Z"
   },
   {
    "duration": 602,
    "start_time": "2022-01-10T17:38:05.924Z"
   },
   {
    "duration": 169,
    "start_time": "2022-01-10T17:38:06.528Z"
   },
   {
    "duration": 5,
    "start_time": "2022-01-10T17:38:06.699Z"
   },
   {
    "duration": 242,
    "start_time": "2022-01-10T17:38:06.706Z"
   },
   {
    "duration": 257,
    "start_time": "2022-01-10T17:38:06.951Z"
   },
   {
    "duration": 16,
    "start_time": "2022-01-10T17:38:07.210Z"
   },
   {
    "duration": 256,
    "start_time": "2022-01-10T17:38:07.228Z"
   },
   {
    "duration": 246,
    "start_time": "2022-01-10T17:38:07.486Z"
   },
   {
    "duration": 256,
    "start_time": "2022-01-10T17:38:07.734Z"
   },
   {
    "duration": 264,
    "start_time": "2022-01-10T17:38:07.992Z"
   },
   {
    "duration": 255,
    "start_time": "2022-01-10T17:38:08.259Z"
   },
   {
    "duration": 5,
    "start_time": "2022-01-10T17:38:08.516Z"
   },
   {
    "duration": 8,
    "start_time": "2022-01-10T17:38:08.523Z"
   },
   {
    "duration": 6,
    "start_time": "2022-01-10T17:38:08.533Z"
   },
   {
    "duration": 5,
    "start_time": "2022-01-10T17:38:08.540Z"
   },
   {
    "duration": 234,
    "start_time": "2022-01-10T17:38:08.547Z"
   },
   {
    "duration": 15,
    "start_time": "2022-01-10T17:38:08.782Z"
   },
   {
    "duration": 364,
    "start_time": "2022-01-10T17:38:08.799Z"
   },
   {
    "duration": 159,
    "start_time": "2022-01-10T17:38:09.165Z"
   },
   {
    "duration": 46,
    "start_time": "2022-01-10T17:38:09.326Z"
   },
   {
    "duration": 25,
    "start_time": "2022-01-10T17:38:09.373Z"
   },
   {
    "duration": 473,
    "start_time": "2022-01-10T17:38:09.400Z"
   },
   {
    "duration": 670,
    "start_time": "2022-01-10T17:38:09.875Z"
   },
   {
    "duration": 157,
    "start_time": "2022-01-10T17:38:10.547Z"
   },
   {
    "duration": 168,
    "start_time": "2022-01-10T17:38:10.706Z"
   },
   {
    "duration": 203,
    "start_time": "2022-01-10T17:38:10.876Z"
   },
   {
    "duration": 178,
    "start_time": "2022-01-10T17:38:11.081Z"
   },
   {
    "duration": 4,
    "start_time": "2022-01-10T17:38:11.261Z"
   },
   {
    "duration": 24,
    "start_time": "2022-01-10T17:38:11.267Z"
   },
   {
    "duration": 309,
    "start_time": "2022-01-10T17:38:11.293Z"
   },
   {
    "duration": 24,
    "start_time": "2022-01-10T17:38:11.603Z"
   },
   {
    "duration": 7,
    "start_time": "2022-01-10T17:38:11.628Z"
   },
   {
    "duration": 12,
    "start_time": "2022-01-10T17:38:11.637Z"
   },
   {
    "duration": 6,
    "start_time": "2022-01-10T17:38:11.651Z"
   },
   {
    "duration": 296,
    "start_time": "2022-01-10T17:38:11.658Z"
   },
   {
    "duration": 7,
    "start_time": "2022-01-10T17:40:55.017Z"
   },
   {
    "duration": 5,
    "start_time": "2022-01-10T17:40:55.964Z"
   },
   {
    "duration": 197,
    "start_time": "2022-01-10T17:40:57.413Z"
   },
   {
    "duration": 6,
    "start_time": "2022-01-10T17:41:07.933Z"
   },
   {
    "duration": 24,
    "start_time": "2022-01-10T17:41:11.222Z"
   },
   {
    "duration": 107,
    "start_time": "2022-01-10T17:41:15.941Z"
   },
   {
    "duration": 10,
    "start_time": "2022-01-10T17:41:16.050Z"
   },
   {
    "duration": 42,
    "start_time": "2022-01-10T17:41:16.062Z"
   },
   {
    "duration": 23,
    "start_time": "2022-01-10T17:41:16.106Z"
   },
   {
    "duration": 17,
    "start_time": "2022-01-10T17:41:16.131Z"
   },
   {
    "duration": 5,
    "start_time": "2022-01-10T17:41:16.150Z"
   },
   {
    "duration": 6,
    "start_time": "2022-01-10T17:41:16.157Z"
   },
   {
    "duration": 5,
    "start_time": "2022-01-10T17:41:16.192Z"
   },
   {
    "duration": 14,
    "start_time": "2022-01-10T17:41:16.200Z"
   },
   {
    "duration": 6,
    "start_time": "2022-01-10T17:41:16.217Z"
   },
   {
    "duration": 5,
    "start_time": "2022-01-10T17:41:16.224Z"
   },
   {
    "duration": 5,
    "start_time": "2022-01-10T17:41:16.231Z"
   },
   {
    "duration": 6,
    "start_time": "2022-01-10T17:41:16.238Z"
   },
   {
    "duration": 4,
    "start_time": "2022-01-10T17:41:16.246Z"
   },
   {
    "duration": 40,
    "start_time": "2022-01-10T17:41:16.252Z"
   },
   {
    "duration": 7,
    "start_time": "2022-01-10T17:41:16.294Z"
   },
   {
    "duration": 13,
    "start_time": "2022-01-10T17:41:16.303Z"
   },
   {
    "duration": 8,
    "start_time": "2022-01-10T17:41:16.318Z"
   },
   {
    "duration": 6,
    "start_time": "2022-01-10T17:41:16.327Z"
   },
   {
    "duration": 5,
    "start_time": "2022-01-10T17:41:16.335Z"
   },
   {
    "duration": 103,
    "start_time": "2022-01-10T17:41:16.342Z"
   },
   {
    "duration": 9,
    "start_time": "2022-01-10T17:41:16.447Z"
   },
   {
    "duration": 394,
    "start_time": "2022-01-10T17:41:16.458Z"
   },
   {
    "duration": 24,
    "start_time": "2022-01-10T17:41:16.854Z"
   },
   {
    "duration": 11,
    "start_time": "2022-01-10T17:41:16.891Z"
   },
   {
    "duration": 601,
    "start_time": "2022-01-10T17:41:16.904Z"
   },
   {
    "duration": 165,
    "start_time": "2022-01-10T17:41:17.509Z"
   },
   {
    "duration": 14,
    "start_time": "2022-01-10T17:41:17.677Z"
   },
   {
    "duration": 232,
    "start_time": "2022-01-10T17:41:17.693Z"
   },
   {
    "duration": 233,
    "start_time": "2022-01-10T17:41:17.927Z"
   },
   {
    "duration": 15,
    "start_time": "2022-01-10T17:41:18.162Z"
   },
   {
    "duration": 251,
    "start_time": "2022-01-10T17:41:18.192Z"
   },
   {
    "duration": 271,
    "start_time": "2022-01-10T17:41:18.446Z"
   },
   {
    "duration": 252,
    "start_time": "2022-01-10T17:41:18.719Z"
   },
   {
    "duration": 257,
    "start_time": "2022-01-10T17:41:18.973Z"
   },
   {
    "duration": 278,
    "start_time": "2022-01-10T17:41:19.232Z"
   },
   {
    "duration": 6,
    "start_time": "2022-01-10T17:41:19.512Z"
   },
   {
    "duration": 12,
    "start_time": "2022-01-10T17:41:19.520Z"
   },
   {
    "duration": 11,
    "start_time": "2022-01-10T17:41:19.534Z"
   },
   {
    "duration": 6,
    "start_time": "2022-01-10T17:41:19.547Z"
   },
   {
    "duration": 207,
    "start_time": "2022-01-10T17:41:19.555Z"
   },
   {
    "duration": 10,
    "start_time": "2022-01-10T17:41:19.764Z"
   },
   {
    "duration": 383,
    "start_time": "2022-01-10T17:41:19.790Z"
   },
   {
    "duration": 164,
    "start_time": "2022-01-10T17:41:20.175Z"
   },
   {
    "duration": 52,
    "start_time": "2022-01-10T17:41:20.341Z"
   },
   {
    "duration": 11,
    "start_time": "2022-01-10T17:41:20.395Z"
   },
   {
    "duration": 481,
    "start_time": "2022-01-10T17:41:20.407Z"
   },
   {
    "duration": 318,
    "start_time": "2022-01-10T17:41:20.892Z"
   },
   {
    "duration": 164,
    "start_time": "2022-01-10T17:41:21.211Z"
   },
   {
    "duration": 184,
    "start_time": "2022-01-10T17:41:21.376Z"
   },
   {
    "duration": 218,
    "start_time": "2022-01-10T17:41:21.562Z"
   },
   {
    "duration": 172,
    "start_time": "2022-01-10T17:41:21.782Z"
   },
   {
    "duration": 4,
    "start_time": "2022-01-10T17:41:21.956Z"
   },
   {
    "duration": 34,
    "start_time": "2022-01-10T17:41:21.961Z"
   },
   {
    "duration": 328,
    "start_time": "2022-01-10T17:41:21.997Z"
   },
   {
    "duration": 22,
    "start_time": "2022-01-10T17:41:22.327Z"
   },
   {
    "duration": 6,
    "start_time": "2022-01-10T17:41:22.351Z"
   },
   {
    "duration": 33,
    "start_time": "2022-01-10T17:41:22.359Z"
   },
   {
    "duration": 8,
    "start_time": "2022-01-10T17:41:22.394Z"
   },
   {
    "duration": 217,
    "start_time": "2022-01-10T17:41:22.403Z"
   },
   {
    "duration": 7,
    "start_time": "2022-01-10T17:41:49.665Z"
   },
   {
    "duration": 6,
    "start_time": "2022-01-10T17:41:50.228Z"
   },
   {
    "duration": 178,
    "start_time": "2022-01-10T17:41:51.509Z"
   },
   {
    "duration": 7,
    "start_time": "2022-01-10T17:41:54.834Z"
   },
   {
    "duration": 18,
    "start_time": "2022-01-10T17:42:01.847Z"
   },
   {
    "duration": 117,
    "start_time": "2022-01-10T17:42:08.605Z"
   },
   {
    "duration": 12,
    "start_time": "2022-01-10T17:42:08.725Z"
   },
   {
    "duration": 19,
    "start_time": "2022-01-10T17:42:08.739Z"
   },
   {
    "duration": 48,
    "start_time": "2022-01-10T17:42:08.761Z"
   },
   {
    "duration": 15,
    "start_time": "2022-01-10T17:42:08.811Z"
   },
   {
    "duration": 5,
    "start_time": "2022-01-10T17:42:08.829Z"
   },
   {
    "duration": 6,
    "start_time": "2022-01-10T17:42:08.836Z"
   },
   {
    "duration": 48,
    "start_time": "2022-01-10T17:42:08.845Z"
   },
   {
    "duration": 10,
    "start_time": "2022-01-10T17:42:08.896Z"
   },
   {
    "duration": 7,
    "start_time": "2022-01-10T17:42:08.907Z"
   },
   {
    "duration": 5,
    "start_time": "2022-01-10T17:42:08.915Z"
   },
   {
    "duration": 5,
    "start_time": "2022-01-10T17:42:08.922Z"
   },
   {
    "duration": 5,
    "start_time": "2022-01-10T17:42:08.929Z"
   },
   {
    "duration": 4,
    "start_time": "2022-01-10T17:42:08.936Z"
   },
   {
    "duration": 50,
    "start_time": "2022-01-10T17:42:08.941Z"
   },
   {
    "duration": 5,
    "start_time": "2022-01-10T17:42:08.993Z"
   },
   {
    "duration": 14,
    "start_time": "2022-01-10T17:42:09.000Z"
   },
   {
    "duration": 8,
    "start_time": "2022-01-10T17:42:09.016Z"
   },
   {
    "duration": 6,
    "start_time": "2022-01-10T17:42:09.025Z"
   },
   {
    "duration": 5,
    "start_time": "2022-01-10T17:42:09.033Z"
   },
   {
    "duration": 62,
    "start_time": "2022-01-10T17:42:09.039Z"
   },
   {
    "duration": 6,
    "start_time": "2022-01-10T17:42:09.103Z"
   },
   {
    "duration": 396,
    "start_time": "2022-01-10T17:42:09.113Z"
   },
   {
    "duration": 35,
    "start_time": "2022-01-10T17:42:09.512Z"
   },
   {
    "duration": 12,
    "start_time": "2022-01-10T17:42:09.548Z"
   },
   {
    "duration": 606,
    "start_time": "2022-01-10T17:42:09.561Z"
   },
   {
    "duration": 175,
    "start_time": "2022-01-10T17:42:10.169Z"
   },
   {
    "duration": 5,
    "start_time": "2022-01-10T17:42:10.345Z"
   },
   {
    "duration": 231,
    "start_time": "2022-01-10T17:42:10.352Z"
   },
   {
    "duration": 232,
    "start_time": "2022-01-10T17:42:10.585Z"
   },
   {
    "duration": 16,
    "start_time": "2022-01-10T17:42:10.819Z"
   },
   {
    "duration": 234,
    "start_time": "2022-01-10T17:42:10.837Z"
   },
   {
    "duration": 234,
    "start_time": "2022-01-10T17:42:11.072Z"
   },
   {
    "duration": 259,
    "start_time": "2022-01-10T17:42:11.307Z"
   },
   {
    "duration": 255,
    "start_time": "2022-01-10T17:42:11.567Z"
   },
   {
    "duration": 237,
    "start_time": "2022-01-10T17:42:11.823Z"
   },
   {
    "duration": 4,
    "start_time": "2022-01-10T17:42:12.062Z"
   },
   {
    "duration": 22,
    "start_time": "2022-01-10T17:42:12.069Z"
   },
   {
    "duration": 5,
    "start_time": "2022-01-10T17:42:12.093Z"
   },
   {
    "duration": 6,
    "start_time": "2022-01-10T17:42:12.099Z"
   },
   {
    "duration": 170,
    "start_time": "2022-01-10T17:42:12.107Z"
   },
   {
    "duration": 17,
    "start_time": "2022-01-10T17:42:12.278Z"
   },
   {
    "duration": 755,
    "start_time": "2022-01-10T17:42:12.297Z"
   },
   {
    "duration": 154,
    "start_time": "2022-01-10T17:42:13.054Z"
   },
   {
    "duration": 42,
    "start_time": "2022-01-10T17:42:13.209Z"
   },
   {
    "duration": 18,
    "start_time": "2022-01-10T17:42:13.252Z"
   },
   {
    "duration": 465,
    "start_time": "2022-01-10T17:42:13.271Z"
   },
   {
    "duration": 295,
    "start_time": "2022-01-10T17:42:13.738Z"
   },
   {
    "duration": 157,
    "start_time": "2022-01-10T17:42:14.035Z"
   },
   {
    "duration": 174,
    "start_time": "2022-01-10T17:42:14.195Z"
   },
   {
    "duration": 213,
    "start_time": "2022-01-10T17:42:14.371Z"
   },
   {
    "duration": 182,
    "start_time": "2022-01-10T17:42:14.586Z"
   },
   {
    "duration": 5,
    "start_time": "2022-01-10T17:42:14.770Z"
   },
   {
    "duration": 21,
    "start_time": "2022-01-10T17:42:14.776Z"
   },
   {
    "duration": 322,
    "start_time": "2022-01-10T17:42:14.799Z"
   },
   {
    "duration": 23,
    "start_time": "2022-01-10T17:42:15.122Z"
   },
   {
    "duration": 16,
    "start_time": "2022-01-10T17:42:15.147Z"
   },
   {
    "duration": 27,
    "start_time": "2022-01-10T17:42:15.165Z"
   },
   {
    "duration": 7,
    "start_time": "2022-01-10T17:42:15.194Z"
   },
   {
    "duration": 183,
    "start_time": "2022-01-10T17:42:15.203Z"
   },
   {
    "duration": 48,
    "start_time": "2022-01-10T17:42:31.678Z"
   },
   {
    "duration": 178,
    "start_time": "2022-01-10T17:42:44.860Z"
   },
   {
    "duration": 4635,
    "start_time": "2022-01-10T17:42:58.352Z"
   },
   {
    "duration": 7,
    "start_time": "2022-01-10T17:43:19.940Z"
   },
   {
    "duration": 7,
    "start_time": "2022-01-10T17:43:21.113Z"
   },
   {
    "duration": 9,
    "start_time": "2022-01-10T17:43:21.730Z"
   },
   {
    "duration": 184,
    "start_time": "2022-01-10T17:43:23.529Z"
   },
   {
    "duration": 128,
    "start_time": "2022-01-10T17:43:34.559Z"
   },
   {
    "duration": 14,
    "start_time": "2022-01-10T17:43:34.710Z"
   },
   {
    "duration": 20,
    "start_time": "2022-01-10T17:43:35.281Z"
   },
   {
    "duration": 33,
    "start_time": "2022-01-10T17:43:35.418Z"
   },
   {
    "duration": 26,
    "start_time": "2022-01-10T17:43:35.563Z"
   },
   {
    "duration": 7,
    "start_time": "2022-01-10T17:43:35.707Z"
   },
   {
    "duration": 8,
    "start_time": "2022-01-10T17:43:35.854Z"
   },
   {
    "duration": 8,
    "start_time": "2022-01-10T17:43:35.992Z"
   },
   {
    "duration": 17,
    "start_time": "2022-01-10T17:43:36.134Z"
   },
   {
    "duration": 10,
    "start_time": "2022-01-10T17:43:36.283Z"
   },
   {
    "duration": 5,
    "start_time": "2022-01-10T17:43:36.423Z"
   },
   {
    "duration": 6,
    "start_time": "2022-01-10T17:43:36.589Z"
   },
   {
    "duration": 7,
    "start_time": "2022-01-10T17:43:36.735Z"
   },
   {
    "duration": 6,
    "start_time": "2022-01-10T17:43:36.897Z"
   },
   {
    "duration": 7,
    "start_time": "2022-01-10T17:43:37.058Z"
   },
   {
    "duration": 8,
    "start_time": "2022-01-10T17:43:37.223Z"
   },
   {
    "duration": 22,
    "start_time": "2022-01-10T17:43:37.369Z"
   },
   {
    "duration": 8,
    "start_time": "2022-01-10T17:43:37.541Z"
   },
   {
    "duration": 8,
    "start_time": "2022-01-10T17:43:37.687Z"
   },
   {
    "duration": 5,
    "start_time": "2022-01-10T17:43:37.848Z"
   },
   {
    "duration": 62,
    "start_time": "2022-01-10T17:43:38.021Z"
   },
   {
    "duration": 10,
    "start_time": "2022-01-10T17:43:38.521Z"
   },
   {
    "duration": 432,
    "start_time": "2022-01-10T17:43:38.679Z"
   },
   {
    "duration": 24,
    "start_time": "2022-01-10T17:43:39.113Z"
   },
   {
    "duration": 18,
    "start_time": "2022-01-10T17:43:39.180Z"
   },
   {
    "duration": 666,
    "start_time": "2022-01-10T17:43:39.517Z"
   },
   {
    "duration": 180,
    "start_time": "2022-01-10T17:43:40.186Z"
   },
   {
    "duration": 7,
    "start_time": "2022-01-10T17:43:40.368Z"
   },
   {
    "duration": 249,
    "start_time": "2022-01-10T17:43:40.377Z"
   },
   {
    "duration": 247,
    "start_time": "2022-01-10T17:43:40.629Z"
   },
   {
    "duration": 21,
    "start_time": "2022-01-10T17:43:40.879Z"
   },
   {
    "duration": 344,
    "start_time": "2022-01-10T17:43:40.902Z"
   },
   {
    "duration": 259,
    "start_time": "2022-01-10T17:43:41.249Z"
   },
   {
    "duration": 315,
    "start_time": "2022-01-10T17:43:41.511Z"
   },
   {
    "duration": 278,
    "start_time": "2022-01-10T17:43:41.828Z"
   },
   {
    "duration": 261,
    "start_time": "2022-01-10T17:43:42.109Z"
   },
   {
    "duration": 19,
    "start_time": "2022-01-10T17:43:42.372Z"
   },
   {
    "duration": 5,
    "start_time": "2022-01-10T17:43:42.393Z"
   },
   {
    "duration": 6,
    "start_time": "2022-01-10T17:43:42.401Z"
   },
   {
    "duration": 5,
    "start_time": "2022-01-10T17:43:42.520Z"
   },
   {
    "duration": 171,
    "start_time": "2022-01-10T17:43:42.688Z"
   },
   {
    "duration": 10,
    "start_time": "2022-01-10T17:43:43.023Z"
   },
   {
    "duration": 365,
    "start_time": "2022-01-10T17:43:43.203Z"
   },
   {
    "duration": 162,
    "start_time": "2022-01-10T17:43:43.569Z"
   },
   {
    "duration": 60,
    "start_time": "2022-01-10T17:43:43.733Z"
   },
   {
    "duration": 14,
    "start_time": "2022-01-10T17:43:43.796Z"
   },
   {
    "duration": 487,
    "start_time": "2022-01-10T17:43:44.243Z"
   },
   {
    "duration": 320,
    "start_time": "2022-01-10T17:43:44.732Z"
   },
   {
    "duration": 160,
    "start_time": "2022-01-10T17:43:45.054Z"
   },
   {
    "duration": 165,
    "start_time": "2022-01-10T17:43:45.324Z"
   },
   {
    "duration": 204,
    "start_time": "2022-01-10T17:43:45.677Z"
   },
   {
    "duration": 164,
    "start_time": "2022-01-10T17:43:46.030Z"
   },
   {
    "duration": 4,
    "start_time": "2022-01-10T17:43:46.386Z"
   },
   {
    "duration": 11,
    "start_time": "2022-01-10T17:43:46.545Z"
   },
   {
    "duration": 307,
    "start_time": "2022-01-10T17:43:46.723Z"
   },
   {
    "duration": 33,
    "start_time": "2022-01-10T17:43:48.148Z"
   },
   {
    "duration": 11,
    "start_time": "2022-01-10T17:43:50.864Z"
   },
   {
    "duration": 7,
    "start_time": "2022-01-10T17:43:51.309Z"
   },
   {
    "duration": 8,
    "start_time": "2022-01-10T17:43:51.713Z"
   },
   {
    "duration": 10,
    "start_time": "2022-01-10T17:44:31.178Z"
   },
   {
    "duration": 6,
    "start_time": "2022-01-10T17:44:31.325Z"
   },
   {
    "duration": 8,
    "start_time": "2022-01-10T17:44:44.497Z"
   },
   {
    "duration": 10,
    "start_time": "2022-01-10T17:44:51.764Z"
   },
   {
    "duration": 9,
    "start_time": "2022-01-10T17:44:57.993Z"
   },
   {
    "duration": 10,
    "start_time": "2022-01-10T17:45:02.686Z"
   },
   {
    "duration": 5,
    "start_time": "2022-01-10T17:45:18.940Z"
   },
   {
    "duration": 8,
    "start_time": "2022-01-10T17:45:48.531Z"
   },
   {
    "duration": 41,
    "start_time": "2022-01-10T17:46:02.227Z"
   },
   {
    "duration": 9,
    "start_time": "2022-01-10T17:46:15.536Z"
   },
   {
    "duration": 12,
    "start_time": "2022-01-10T17:46:22.047Z"
   },
   {
    "duration": 5,
    "start_time": "2022-01-10T17:46:40.779Z"
   },
   {
    "duration": 12,
    "start_time": "2022-01-10T17:47:04.467Z"
   },
   {
    "duration": 6,
    "start_time": "2022-01-10T17:47:05.118Z"
   },
   {
    "duration": 10,
    "start_time": "2022-01-10T17:47:09.051Z"
   },
   {
    "duration": 6,
    "start_time": "2022-01-10T17:47:22.414Z"
   },
   {
    "duration": 197,
    "start_time": "2022-01-10T17:47:27.924Z"
   },
   {
    "duration": 11,
    "start_time": "2022-01-10T17:48:54.796Z"
   },
   {
    "duration": 12,
    "start_time": "2022-01-10T17:49:54.675Z"
   },
   {
    "duration": 181,
    "start_time": "2022-01-10T17:49:55.851Z"
   },
   {
    "duration": 278,
    "start_time": "2022-01-10T17:50:04.823Z"
   },
   {
    "duration": 269,
    "start_time": "2022-01-10T17:50:17.836Z"
   },
   {
    "duration": 269,
    "start_time": "2022-01-10T17:50:27.224Z"
   },
   {
    "duration": 268,
    "start_time": "2022-01-10T17:50:37.010Z"
   },
   {
    "duration": 10,
    "start_time": "2022-01-10T17:50:44.494Z"
   },
   {
    "duration": 320,
    "start_time": "2022-01-10T17:50:49.762Z"
   },
   {
    "duration": 202,
    "start_time": "2022-01-10T17:53:49.160Z"
   },
   {
    "duration": 16,
    "start_time": "2022-01-10T17:54:05.463Z"
   },
   {
    "duration": 610,
    "start_time": "2022-01-10T17:54:21.294Z"
   },
   {
    "duration": 10,
    "start_time": "2022-01-10T17:54:21.907Z"
   },
   {
    "duration": 26,
    "start_time": "2022-01-10T17:54:21.919Z"
   },
   {
    "duration": 47,
    "start_time": "2022-01-10T17:54:21.947Z"
   },
   {
    "duration": 23,
    "start_time": "2022-01-10T17:54:21.996Z"
   },
   {
    "duration": 9,
    "start_time": "2022-01-10T17:54:22.021Z"
   },
   {
    "duration": 11,
    "start_time": "2022-01-10T17:54:22.032Z"
   },
   {
    "duration": 24,
    "start_time": "2022-01-10T17:54:22.046Z"
   },
   {
    "duration": 25,
    "start_time": "2022-01-10T17:54:22.073Z"
   },
   {
    "duration": 78,
    "start_time": "2022-01-10T17:54:22.101Z"
   },
   {
    "duration": 42,
    "start_time": "2022-01-10T17:54:22.181Z"
   },
   {
    "duration": 21,
    "start_time": "2022-01-10T17:54:22.225Z"
   },
   {
    "duration": 47,
    "start_time": "2022-01-10T17:54:22.248Z"
   },
   {
    "duration": 18,
    "start_time": "2022-01-10T17:54:22.296Z"
   },
   {
    "duration": 33,
    "start_time": "2022-01-10T17:54:22.316Z"
   },
   {
    "duration": 39,
    "start_time": "2022-01-10T17:54:22.351Z"
   },
   {
    "duration": 43,
    "start_time": "2022-01-10T17:54:22.392Z"
   },
   {
    "duration": 27,
    "start_time": "2022-01-10T17:54:22.437Z"
   },
   {
    "duration": 15,
    "start_time": "2022-01-10T17:54:22.465Z"
   },
   {
    "duration": 9,
    "start_time": "2022-01-10T17:54:22.483Z"
   },
   {
    "duration": 60,
    "start_time": "2022-01-10T17:54:22.494Z"
   },
   {
    "duration": 8,
    "start_time": "2022-01-10T17:54:22.557Z"
   },
   {
    "duration": 402,
    "start_time": "2022-01-10T17:54:22.569Z"
   },
   {
    "duration": 33,
    "start_time": "2022-01-10T17:54:22.974Z"
   },
   {
    "duration": 14,
    "start_time": "2022-01-10T17:54:23.009Z"
   },
   {
    "duration": 637,
    "start_time": "2022-01-10T17:54:23.025Z"
   },
   {
    "duration": 162,
    "start_time": "2022-01-10T17:54:23.664Z"
   },
   {
    "duration": 5,
    "start_time": "2022-01-10T17:54:23.828Z"
   },
   {
    "duration": 235,
    "start_time": "2022-01-10T17:54:23.835Z"
   },
   {
    "duration": 242,
    "start_time": "2022-01-10T17:54:24.072Z"
   },
   {
    "duration": 16,
    "start_time": "2022-01-10T17:54:24.316Z"
   },
   {
    "duration": 244,
    "start_time": "2022-01-10T17:54:24.334Z"
   },
   {
    "duration": 243,
    "start_time": "2022-01-10T17:54:24.580Z"
   },
   {
    "duration": 249,
    "start_time": "2022-01-10T17:54:24.825Z"
   },
   {
    "duration": 256,
    "start_time": "2022-01-10T17:54:25.076Z"
   },
   {
    "duration": 241,
    "start_time": "2022-01-10T17:54:25.334Z"
   },
   {
    "duration": 15,
    "start_time": "2022-01-10T17:54:25.576Z"
   },
   {
    "duration": 4,
    "start_time": "2022-01-10T17:54:25.593Z"
   },
   {
    "duration": 8,
    "start_time": "2022-01-10T17:54:25.598Z"
   },
   {
    "duration": 4,
    "start_time": "2022-01-10T17:54:25.607Z"
   },
   {
    "duration": 171,
    "start_time": "2022-01-10T17:54:25.613Z"
   },
   {
    "duration": 8,
    "start_time": "2022-01-10T17:54:25.792Z"
   },
   {
    "duration": 385,
    "start_time": "2022-01-10T17:54:25.802Z"
   },
   {
    "duration": 149,
    "start_time": "2022-01-10T17:54:26.189Z"
   },
   {
    "duration": 51,
    "start_time": "2022-01-10T17:54:26.340Z"
   },
   {
    "duration": 13,
    "start_time": "2022-01-10T17:54:26.393Z"
   },
   {
    "duration": 460,
    "start_time": "2022-01-10T17:54:26.407Z"
   },
   {
    "duration": 777,
    "start_time": "2022-01-10T17:54:26.869Z"
   },
   {
    "duration": 155,
    "start_time": "2022-01-10T17:54:27.648Z"
   },
   {
    "duration": 169,
    "start_time": "2022-01-10T17:54:27.805Z"
   },
   {
    "duration": 223,
    "start_time": "2022-01-10T17:54:27.976Z"
   },
   {
    "duration": 156,
    "start_time": "2022-01-10T17:54:28.201Z"
   },
   {
    "duration": 4,
    "start_time": "2022-01-10T17:54:28.359Z"
   },
   {
    "duration": 18,
    "start_time": "2022-01-10T17:54:28.364Z"
   },
   {
    "duration": 309,
    "start_time": "2022-01-10T17:54:28.383Z"
   },
   {
    "duration": 22,
    "start_time": "2022-01-10T17:54:28.693Z"
   },
   {
    "duration": 17,
    "start_time": "2022-01-10T17:54:28.717Z"
   },
   {
    "duration": 2,
    "start_time": "2022-01-10T17:54:28.736Z"
   },
   {
    "duration": 7,
    "start_time": "2022-01-10T17:54:28.740Z"
   },
   {
    "duration": 4,
    "start_time": "2022-01-10T17:55:12.160Z"
   },
   {
    "duration": 10,
    "start_time": "2022-01-10T17:55:31.009Z"
   },
   {
    "duration": 6,
    "start_time": "2022-01-10T17:56:22.152Z"
   },
   {
    "duration": 10,
    "start_time": "2022-01-10T17:56:25.940Z"
   },
   {
    "duration": 6,
    "start_time": "2022-01-10T17:56:26.471Z"
   },
   {
    "duration": 274,
    "start_time": "2022-01-10T17:57:05.148Z"
   },
   {
    "duration": 5,
    "start_time": "2022-01-10T17:57:33.047Z"
   },
   {
    "duration": 120,
    "start_time": "2022-01-10T17:57:42.815Z"
   },
   {
    "duration": 11,
    "start_time": "2022-01-10T17:57:42.938Z"
   },
   {
    "duration": 166,
    "start_time": "2022-01-10T17:57:42.952Z"
   },
   {
    "duration": 281,
    "start_time": "2022-01-10T17:57:43.121Z"
   },
   {
    "duration": 170,
    "start_time": "2022-01-10T17:57:43.405Z"
   },
   {
    "duration": 56,
    "start_time": "2022-01-10T17:57:43.577Z"
   },
   {
    "duration": 55,
    "start_time": "2022-01-10T17:57:43.635Z"
   },
   {
    "duration": 57,
    "start_time": "2022-01-10T17:57:43.692Z"
   },
   {
    "duration": 83,
    "start_time": "2022-01-10T17:57:43.751Z"
   },
   {
    "duration": 159,
    "start_time": "2022-01-10T17:57:43.837Z"
   },
   {
    "duration": 54,
    "start_time": "2022-01-10T17:57:43.998Z"
   },
   {
    "duration": 11,
    "start_time": "2022-01-10T17:57:44.054Z"
   },
   {
    "duration": 5,
    "start_time": "2022-01-10T17:57:44.066Z"
   },
   {
    "duration": 5,
    "start_time": "2022-01-10T17:57:44.072Z"
   },
   {
    "duration": 6,
    "start_time": "2022-01-10T17:57:44.078Z"
   },
   {
    "duration": 6,
    "start_time": "2022-01-10T17:57:44.085Z"
   },
   {
    "duration": 14,
    "start_time": "2022-01-10T17:57:44.093Z"
   },
   {
    "duration": 7,
    "start_time": "2022-01-10T17:57:44.108Z"
   },
   {
    "duration": 6,
    "start_time": "2022-01-10T17:57:44.117Z"
   },
   {
    "duration": 5,
    "start_time": "2022-01-10T17:57:44.124Z"
   },
   {
    "duration": 40,
    "start_time": "2022-01-10T17:57:44.130Z"
   },
   {
    "duration": 23,
    "start_time": "2022-01-10T17:57:44.172Z"
   },
   {
    "duration": 373,
    "start_time": "2022-01-10T17:57:44.197Z"
   },
   {
    "duration": 31,
    "start_time": "2022-01-10T17:57:44.572Z"
   },
   {
    "duration": 11,
    "start_time": "2022-01-10T17:57:44.605Z"
   },
   {
    "duration": 576,
    "start_time": "2022-01-10T17:57:44.619Z"
   },
   {
    "duration": 166,
    "start_time": "2022-01-10T17:57:45.199Z"
   },
   {
    "duration": 5,
    "start_time": "2022-01-10T17:57:45.367Z"
   },
   {
    "duration": 236,
    "start_time": "2022-01-10T17:57:45.374Z"
   },
   {
    "duration": 230,
    "start_time": "2022-01-10T17:57:45.612Z"
   },
   {
    "duration": 15,
    "start_time": "2022-01-10T17:57:45.844Z"
   },
   {
    "duration": 231,
    "start_time": "2022-01-10T17:57:45.860Z"
   },
   {
    "duration": 226,
    "start_time": "2022-01-10T17:57:46.093Z"
   },
   {
    "duration": 235,
    "start_time": "2022-01-10T17:57:46.320Z"
   },
   {
    "duration": 249,
    "start_time": "2022-01-10T17:57:46.556Z"
   },
   {
    "duration": 248,
    "start_time": "2022-01-10T17:57:46.806Z"
   },
   {
    "duration": 5,
    "start_time": "2022-01-10T17:57:47.055Z"
   },
   {
    "duration": 11,
    "start_time": "2022-01-10T17:57:47.061Z"
   },
   {
    "duration": 19,
    "start_time": "2022-01-10T17:57:47.073Z"
   },
   {
    "duration": 22,
    "start_time": "2022-01-10T17:57:47.094Z"
   },
   {
    "duration": 164,
    "start_time": "2022-01-10T17:57:47.117Z"
   },
   {
    "duration": 12,
    "start_time": "2022-01-10T17:57:47.283Z"
   },
   {
    "duration": 354,
    "start_time": "2022-01-10T17:57:47.296Z"
   },
   {
    "duration": 149,
    "start_time": "2022-01-10T17:57:47.652Z"
   },
   {
    "duration": 42,
    "start_time": "2022-01-10T17:57:47.803Z"
   },
   {
    "duration": 11,
    "start_time": "2022-01-10T17:57:47.846Z"
   },
   {
    "duration": 463,
    "start_time": "2022-01-10T17:57:47.858Z"
   },
   {
    "duration": 314,
    "start_time": "2022-01-10T17:57:48.323Z"
   },
   {
    "duration": 158,
    "start_time": "2022-01-10T17:57:48.639Z"
   },
   {
    "duration": 171,
    "start_time": "2022-01-10T17:57:48.799Z"
   },
   {
    "duration": 198,
    "start_time": "2022-01-10T17:57:48.972Z"
   },
   {
    "duration": 195,
    "start_time": "2022-01-10T17:57:49.172Z"
   },
   {
    "duration": 5,
    "start_time": "2022-01-10T17:57:49.369Z"
   },
   {
    "duration": 21,
    "start_time": "2022-01-10T17:57:49.376Z"
   },
   {
    "duration": 311,
    "start_time": "2022-01-10T17:57:49.399Z"
   },
   {
    "duration": 25,
    "start_time": "2022-01-10T17:57:49.712Z"
   },
   {
    "duration": 10,
    "start_time": "2022-01-10T17:57:49.739Z"
   },
   {
    "duration": 14,
    "start_time": "2022-01-10T17:57:49.750Z"
   },
   {
    "duration": 314,
    "start_time": "2022-01-10T17:57:49.766Z"
   },
   {
    "duration": 10,
    "start_time": "2022-01-10T17:57:50.081Z"
   },
   {
    "duration": 12,
    "start_time": "2022-01-10T17:57:50.093Z"
   },
   {
    "duration": 7,
    "start_time": "2022-01-10T17:58:11.087Z"
   },
   {
    "duration": 8,
    "start_time": "2022-01-10T17:58:24.766Z"
   },
   {
    "duration": 111,
    "start_time": "2022-01-10T17:58:30.534Z"
   },
   {
    "duration": 10,
    "start_time": "2022-01-10T17:58:30.647Z"
   },
   {
    "duration": 38,
    "start_time": "2022-01-10T17:58:30.659Z"
   },
   {
    "duration": 35,
    "start_time": "2022-01-10T17:58:30.699Z"
   },
   {
    "duration": 16,
    "start_time": "2022-01-10T17:58:30.736Z"
   },
   {
    "duration": 10,
    "start_time": "2022-01-10T17:58:30.754Z"
   },
   {
    "duration": 17,
    "start_time": "2022-01-10T17:58:30.766Z"
   },
   {
    "duration": 20,
    "start_time": "2022-01-10T17:58:30.785Z"
   },
   {
    "duration": 13,
    "start_time": "2022-01-10T17:58:30.808Z"
   },
   {
    "duration": 18,
    "start_time": "2022-01-10T17:58:30.823Z"
   },
   {
    "duration": 6,
    "start_time": "2022-01-10T17:58:30.842Z"
   },
   {
    "duration": 7,
    "start_time": "2022-01-10T17:58:30.850Z"
   },
   {
    "duration": 7,
    "start_time": "2022-01-10T17:58:30.858Z"
   },
   {
    "duration": 7,
    "start_time": "2022-01-10T17:58:30.866Z"
   },
   {
    "duration": 7,
    "start_time": "2022-01-10T17:58:30.874Z"
   },
   {
    "duration": 7,
    "start_time": "2022-01-10T17:58:30.883Z"
   },
   {
    "duration": 20,
    "start_time": "2022-01-10T17:58:30.892Z"
   },
   {
    "duration": 17,
    "start_time": "2022-01-10T17:58:30.914Z"
   },
   {
    "duration": 11,
    "start_time": "2022-01-10T17:58:30.933Z"
   },
   {
    "duration": 10,
    "start_time": "2022-01-10T17:58:30.946Z"
   },
   {
    "duration": 56,
    "start_time": "2022-01-10T17:58:30.957Z"
   },
   {
    "duration": 6,
    "start_time": "2022-01-10T17:58:31.015Z"
   },
   {
    "duration": 396,
    "start_time": "2022-01-10T17:58:31.023Z"
   },
   {
    "duration": 25,
    "start_time": "2022-01-10T17:58:31.421Z"
   },
   {
    "duration": 12,
    "start_time": "2022-01-10T17:58:31.448Z"
   },
   {
    "duration": 597,
    "start_time": "2022-01-10T17:58:31.461Z"
   },
   {
    "duration": 156,
    "start_time": "2022-01-10T17:58:32.062Z"
   },
   {
    "duration": 5,
    "start_time": "2022-01-10T17:58:32.220Z"
   },
   {
    "duration": 232,
    "start_time": "2022-01-10T17:58:32.227Z"
   },
   {
    "duration": 225,
    "start_time": "2022-01-10T17:58:32.461Z"
   },
   {
    "duration": 16,
    "start_time": "2022-01-10T17:58:32.688Z"
   },
   {
    "duration": 243,
    "start_time": "2022-01-10T17:58:32.706Z"
   },
   {
    "duration": 236,
    "start_time": "2022-01-10T17:58:32.951Z"
   },
   {
    "duration": 239,
    "start_time": "2022-01-10T17:58:33.191Z"
   },
   {
    "duration": 243,
    "start_time": "2022-01-10T17:58:33.431Z"
   },
   {
    "duration": 238,
    "start_time": "2022-01-10T17:58:33.676Z"
   },
   {
    "duration": 4,
    "start_time": "2022-01-10T17:58:33.916Z"
   },
   {
    "duration": 5,
    "start_time": "2022-01-10T17:58:33.922Z"
   },
   {
    "duration": 13,
    "start_time": "2022-01-10T17:58:33.929Z"
   },
   {
    "duration": 4,
    "start_time": "2022-01-10T17:58:33.943Z"
   },
   {
    "duration": 170,
    "start_time": "2022-01-10T17:58:33.949Z"
   },
   {
    "duration": 9,
    "start_time": "2022-01-10T17:58:34.121Z"
   },
   {
    "duration": 390,
    "start_time": "2022-01-10T17:58:34.131Z"
   },
   {
    "duration": 149,
    "start_time": "2022-01-10T17:58:34.523Z"
   },
   {
    "duration": 57,
    "start_time": "2022-01-10T17:58:34.673Z"
   },
   {
    "duration": 12,
    "start_time": "2022-01-10T17:58:34.732Z"
   },
   {
    "duration": 454,
    "start_time": "2022-01-10T17:58:34.746Z"
   },
   {
    "duration": 303,
    "start_time": "2022-01-10T17:58:35.201Z"
   },
   {
    "duration": 151,
    "start_time": "2022-01-10T17:58:35.506Z"
   },
   {
    "duration": 171,
    "start_time": "2022-01-10T17:58:35.659Z"
   },
   {
    "duration": 288,
    "start_time": "2022-01-10T17:58:35.833Z"
   },
   {
    "duration": 162,
    "start_time": "2022-01-10T17:58:36.122Z"
   },
   {
    "duration": 6,
    "start_time": "2022-01-10T17:58:36.285Z"
   },
   {
    "duration": 15,
    "start_time": "2022-01-10T17:58:36.293Z"
   },
   {
    "duration": 294,
    "start_time": "2022-01-10T17:58:36.310Z"
   },
   {
    "duration": 22,
    "start_time": "2022-01-10T17:58:36.606Z"
   },
   {
    "duration": 9,
    "start_time": "2022-01-10T17:58:36.629Z"
   },
   {
    "duration": 7,
    "start_time": "2022-01-10T17:58:36.640Z"
   },
   {
    "duration": 455,
    "start_time": "2022-01-10T17:58:36.649Z"
   },
   {
    "duration": 2,
    "start_time": "2022-01-10T17:58:37.106Z"
   },
   {
    "duration": 5,
    "start_time": "2022-01-10T17:58:37.109Z"
   },
   {
    "duration": 111,
    "start_time": "2022-01-10T17:59:24.609Z"
   },
   {
    "duration": 10,
    "start_time": "2022-01-10T17:59:24.722Z"
   },
   {
    "duration": 18,
    "start_time": "2022-01-10T17:59:24.734Z"
   },
   {
    "duration": 50,
    "start_time": "2022-01-10T17:59:24.754Z"
   },
   {
    "duration": 16,
    "start_time": "2022-01-10T17:59:24.806Z"
   },
   {
    "duration": 5,
    "start_time": "2022-01-10T17:59:24.824Z"
   },
   {
    "duration": 7,
    "start_time": "2022-01-10T17:59:24.831Z"
   },
   {
    "duration": 7,
    "start_time": "2022-01-10T17:59:24.841Z"
   },
   {
    "duration": 43,
    "start_time": "2022-01-10T17:59:24.850Z"
   },
   {
    "duration": 8,
    "start_time": "2022-01-10T17:59:24.894Z"
   },
   {
    "duration": 4,
    "start_time": "2022-01-10T17:59:24.904Z"
   },
   {
    "duration": 6,
    "start_time": "2022-01-10T17:59:24.909Z"
   },
   {
    "duration": 6,
    "start_time": "2022-01-10T17:59:24.916Z"
   },
   {
    "duration": 5,
    "start_time": "2022-01-10T17:59:24.923Z"
   },
   {
    "duration": 6,
    "start_time": "2022-01-10T17:59:24.929Z"
   },
   {
    "duration": 6,
    "start_time": "2022-01-10T17:59:24.937Z"
   },
   {
    "duration": 55,
    "start_time": "2022-01-10T17:59:24.945Z"
   },
   {
    "duration": 6,
    "start_time": "2022-01-10T17:59:25.002Z"
   },
   {
    "duration": 7,
    "start_time": "2022-01-10T17:59:25.009Z"
   },
   {
    "duration": 15,
    "start_time": "2022-01-10T17:59:25.018Z"
   },
   {
    "duration": 44,
    "start_time": "2022-01-10T17:59:25.035Z"
   },
   {
    "duration": 14,
    "start_time": "2022-01-10T17:59:25.080Z"
   },
   {
    "duration": 363,
    "start_time": "2022-01-10T17:59:25.098Z"
   },
   {
    "duration": 33,
    "start_time": "2022-01-10T17:59:25.464Z"
   },
   {
    "duration": 11,
    "start_time": "2022-01-10T17:59:25.499Z"
   },
   {
    "duration": 581,
    "start_time": "2022-01-10T17:59:25.512Z"
   },
   {
    "duration": 156,
    "start_time": "2022-01-10T17:59:26.095Z"
   },
   {
    "duration": 6,
    "start_time": "2022-01-10T17:59:26.253Z"
   },
   {
    "duration": 232,
    "start_time": "2022-01-10T17:59:26.261Z"
   },
   {
    "duration": 764,
    "start_time": "2022-01-10T17:59:26.495Z"
   },
   {
    "duration": 17,
    "start_time": "2022-01-10T17:59:27.261Z"
   },
   {
    "duration": 235,
    "start_time": "2022-01-10T17:59:27.279Z"
   },
   {
    "duration": 236,
    "start_time": "2022-01-10T17:59:27.516Z"
   },
   {
    "duration": 246,
    "start_time": "2022-01-10T17:59:27.754Z"
   },
   {
    "duration": 265,
    "start_time": "2022-01-10T17:59:28.002Z"
   },
   {
    "duration": 248,
    "start_time": "2022-01-10T17:59:28.269Z"
   },
   {
    "duration": 6,
    "start_time": "2022-01-10T17:59:28.519Z"
   },
   {
    "duration": 5,
    "start_time": "2022-01-10T17:59:28.527Z"
   },
   {
    "duration": 5,
    "start_time": "2022-01-10T17:59:28.534Z"
   },
   {
    "duration": 4,
    "start_time": "2022-01-10T17:59:28.540Z"
   },
   {
    "duration": 193,
    "start_time": "2022-01-10T17:59:28.546Z"
   },
   {
    "duration": 8,
    "start_time": "2022-01-10T17:59:28.741Z"
   },
   {
    "duration": 370,
    "start_time": "2022-01-10T17:59:28.752Z"
   },
   {
    "duration": 142,
    "start_time": "2022-01-10T17:59:29.124Z"
   },
   {
    "duration": 49,
    "start_time": "2022-01-10T17:59:29.268Z"
   },
   {
    "duration": 12,
    "start_time": "2022-01-10T17:59:29.318Z"
   },
   {
    "duration": 460,
    "start_time": "2022-01-10T17:59:29.331Z"
   },
   {
    "duration": 301,
    "start_time": "2022-01-10T17:59:29.793Z"
   },
   {
    "duration": 163,
    "start_time": "2022-01-10T17:59:30.096Z"
   },
   {
    "duration": 172,
    "start_time": "2022-01-10T17:59:30.261Z"
   },
   {
    "duration": 211,
    "start_time": "2022-01-10T17:59:30.436Z"
   },
   {
    "duration": 158,
    "start_time": "2022-01-10T17:59:30.648Z"
   },
   {
    "duration": 3,
    "start_time": "2022-01-10T17:59:30.808Z"
   },
   {
    "duration": 44,
    "start_time": "2022-01-10T17:59:30.813Z"
   },
   {
    "duration": 314,
    "start_time": "2022-01-10T17:59:30.859Z"
   },
   {
    "duration": 32,
    "start_time": "2022-01-10T17:59:31.174Z"
   },
   {
    "duration": 9,
    "start_time": "2022-01-10T17:59:31.207Z"
   },
   {
    "duration": 250,
    "start_time": "2022-01-10T17:59:31.218Z"
   },
   {
    "duration": -2657,
    "start_time": "2022-01-10T17:59:34.127Z"
   },
   {
    "duration": -2658,
    "start_time": "2022-01-10T17:59:34.129Z"
   },
   {
    "duration": -2658,
    "start_time": "2022-01-10T17:59:34.130Z"
   },
   {
    "duration": 8,
    "start_time": "2022-01-10T18:00:02.998Z"
   },
   {
    "duration": 142,
    "start_time": "2022-01-10T18:00:10.680Z"
   },
   {
    "duration": 11,
    "start_time": "2022-01-10T18:00:10.824Z"
   },
   {
    "duration": 17,
    "start_time": "2022-01-10T18:00:10.837Z"
   },
   {
    "duration": 48,
    "start_time": "2022-01-10T18:00:10.856Z"
   },
   {
    "duration": 16,
    "start_time": "2022-01-10T18:00:10.905Z"
   },
   {
    "duration": 6,
    "start_time": "2022-01-10T18:00:10.923Z"
   },
   {
    "duration": 7,
    "start_time": "2022-01-10T18:00:10.930Z"
   },
   {
    "duration": 11,
    "start_time": "2022-01-10T18:00:10.939Z"
   },
   {
    "duration": 11,
    "start_time": "2022-01-10T18:00:10.953Z"
   },
   {
    "duration": 6,
    "start_time": "2022-01-10T18:00:10.991Z"
   },
   {
    "duration": 6,
    "start_time": "2022-01-10T18:00:10.999Z"
   },
   {
    "duration": 7,
    "start_time": "2022-01-10T18:00:11.006Z"
   },
   {
    "duration": 6,
    "start_time": "2022-01-10T18:00:11.015Z"
   },
   {
    "duration": 5,
    "start_time": "2022-01-10T18:00:11.023Z"
   },
   {
    "duration": 6,
    "start_time": "2022-01-10T18:00:11.030Z"
   },
   {
    "duration": 9,
    "start_time": "2022-01-10T18:00:11.038Z"
   },
   {
    "duration": 50,
    "start_time": "2022-01-10T18:00:11.049Z"
   },
   {
    "duration": 5,
    "start_time": "2022-01-10T18:00:11.101Z"
   },
   {
    "duration": 7,
    "start_time": "2022-01-10T18:00:11.108Z"
   },
   {
    "duration": 5,
    "start_time": "2022-01-10T18:00:11.117Z"
   },
   {
    "duration": 47,
    "start_time": "2022-01-10T18:00:11.124Z"
   },
   {
    "duration": 24,
    "start_time": "2022-01-10T18:00:11.172Z"
   },
   {
    "duration": 384,
    "start_time": "2022-01-10T18:00:11.199Z"
   },
   {
    "duration": 24,
    "start_time": "2022-01-10T18:00:11.586Z"
   },
   {
    "duration": 10,
    "start_time": "2022-01-10T18:00:11.612Z"
   },
   {
    "duration": 578,
    "start_time": "2022-01-10T18:00:11.623Z"
   },
   {
    "duration": 157,
    "start_time": "2022-01-10T18:00:12.203Z"
   },
   {
    "duration": 5,
    "start_time": "2022-01-10T18:00:12.361Z"
   },
   {
    "duration": 222,
    "start_time": "2022-01-10T18:00:12.368Z"
   },
   {
    "duration": 219,
    "start_time": "2022-01-10T18:00:12.592Z"
   },
   {
    "duration": 17,
    "start_time": "2022-01-10T18:00:12.812Z"
   },
   {
    "duration": 234,
    "start_time": "2022-01-10T18:00:12.831Z"
   },
   {
    "duration": 238,
    "start_time": "2022-01-10T18:00:13.067Z"
   },
   {
    "duration": 250,
    "start_time": "2022-01-10T18:00:13.307Z"
   },
   {
    "duration": 239,
    "start_time": "2022-01-10T18:00:13.559Z"
   },
   {
    "duration": 239,
    "start_time": "2022-01-10T18:00:13.799Z"
   },
   {
    "duration": 4,
    "start_time": "2022-01-10T18:00:14.040Z"
   },
   {
    "duration": 6,
    "start_time": "2022-01-10T18:00:14.045Z"
   },
   {
    "duration": 4,
    "start_time": "2022-01-10T18:00:14.053Z"
   },
   {
    "duration": 4,
    "start_time": "2022-01-10T18:00:14.059Z"
   },
   {
    "duration": 173,
    "start_time": "2022-01-10T18:00:14.064Z"
   },
   {
    "duration": 8,
    "start_time": "2022-01-10T18:00:14.239Z"
   },
   {
    "duration": 360,
    "start_time": "2022-01-10T18:00:14.249Z"
   },
   {
    "duration": 152,
    "start_time": "2022-01-10T18:00:14.611Z"
   },
   {
    "duration": 53,
    "start_time": "2022-01-10T18:00:14.765Z"
   },
   {
    "duration": 13,
    "start_time": "2022-01-10T18:00:14.819Z"
   },
   {
    "duration": 463,
    "start_time": "2022-01-10T18:00:14.834Z"
   },
   {
    "duration": 309,
    "start_time": "2022-01-10T18:00:15.299Z"
   },
   {
    "duration": 144,
    "start_time": "2022-01-10T18:00:15.610Z"
   },
   {
    "duration": 165,
    "start_time": "2022-01-10T18:00:15.756Z"
   },
   {
    "duration": 202,
    "start_time": "2022-01-10T18:00:15.924Z"
   },
   {
    "duration": 159,
    "start_time": "2022-01-10T18:00:16.128Z"
   },
   {
    "duration": 5,
    "start_time": "2022-01-10T18:00:16.291Z"
   },
   {
    "duration": 15,
    "start_time": "2022-01-10T18:00:16.297Z"
   },
   {
    "duration": 303,
    "start_time": "2022-01-10T18:00:16.314Z"
   },
   {
    "duration": 22,
    "start_time": "2022-01-10T18:00:16.619Z"
   },
   {
    "duration": 9,
    "start_time": "2022-01-10T18:00:16.643Z"
   },
   {
    "duration": 20,
    "start_time": "2022-01-10T18:00:16.654Z"
   },
   {
    "duration": 280,
    "start_time": "2022-01-10T18:00:16.692Z"
   },
   {
    "duration": 2,
    "start_time": "2022-01-10T18:00:16.974Z"
   },
   {
    "duration": 24,
    "start_time": "2022-01-10T18:00:16.977Z"
   },
   {
    "duration": 6,
    "start_time": "2022-01-10T18:00:39.661Z"
   },
   {
    "duration": 6,
    "start_time": "2022-01-10T18:01:00.978Z"
   },
   {
    "duration": 8,
    "start_time": "2022-01-10T18:01:32.355Z"
   },
   {
    "duration": 5,
    "start_time": "2022-01-10T18:01:58.614Z"
   },
   {
    "duration": 6,
    "start_time": "2022-01-10T18:02:12.850Z"
   },
   {
    "duration": 5,
    "start_time": "2022-01-10T18:02:14.126Z"
   },
   {
    "duration": 107,
    "start_time": "2022-01-10T18:02:21.043Z"
   },
   {
    "duration": 10,
    "start_time": "2022-01-10T18:02:21.153Z"
   },
   {
    "duration": 17,
    "start_time": "2022-01-10T18:02:21.191Z"
   },
   {
    "duration": 24,
    "start_time": "2022-01-10T18:02:21.210Z"
   },
   {
    "duration": 16,
    "start_time": "2022-01-10T18:02:21.236Z"
   },
   {
    "duration": 6,
    "start_time": "2022-01-10T18:02:21.254Z"
   },
   {
    "duration": 30,
    "start_time": "2022-01-10T18:02:21.262Z"
   },
   {
    "duration": 6,
    "start_time": "2022-01-10T18:02:21.294Z"
   },
   {
    "duration": 13,
    "start_time": "2022-01-10T18:02:21.303Z"
   },
   {
    "duration": 11,
    "start_time": "2022-01-10T18:02:21.318Z"
   },
   {
    "duration": 5,
    "start_time": "2022-01-10T18:02:21.330Z"
   },
   {
    "duration": 10,
    "start_time": "2022-01-10T18:02:21.337Z"
   },
   {
    "duration": 6,
    "start_time": "2022-01-10T18:02:21.349Z"
   },
   {
    "duration": 9,
    "start_time": "2022-01-10T18:02:21.356Z"
   },
   {
    "duration": 26,
    "start_time": "2022-01-10T18:02:21.367Z"
   },
   {
    "duration": 6,
    "start_time": "2022-01-10T18:02:21.395Z"
   },
   {
    "duration": 12,
    "start_time": "2022-01-10T18:02:21.403Z"
   },
   {
    "duration": 10,
    "start_time": "2022-01-10T18:02:21.417Z"
   },
   {
    "duration": 7,
    "start_time": "2022-01-10T18:02:21.429Z"
   },
   {
    "duration": 6,
    "start_time": "2022-01-10T18:02:21.437Z"
   },
   {
    "duration": 70,
    "start_time": "2022-01-10T18:02:21.444Z"
   },
   {
    "duration": 6,
    "start_time": "2022-01-10T18:02:21.516Z"
   },
   {
    "duration": 370,
    "start_time": "2022-01-10T18:02:21.523Z"
   },
   {
    "duration": 22,
    "start_time": "2022-01-10T18:02:21.895Z"
   },
   {
    "duration": 10,
    "start_time": "2022-01-10T18:02:21.919Z"
   },
   {
    "duration": 581,
    "start_time": "2022-01-10T18:02:21.931Z"
   },
   {
    "duration": 153,
    "start_time": "2022-01-10T18:02:22.516Z"
   },
   {
    "duration": 6,
    "start_time": "2022-01-10T18:02:22.672Z"
   },
   {
    "duration": 228,
    "start_time": "2022-01-10T18:02:22.680Z"
   },
   {
    "duration": 222,
    "start_time": "2022-01-10T18:02:22.910Z"
   },
   {
    "duration": 15,
    "start_time": "2022-01-10T18:02:23.134Z"
   },
   {
    "duration": 238,
    "start_time": "2022-01-10T18:02:23.151Z"
   },
   {
    "duration": 224,
    "start_time": "2022-01-10T18:02:23.392Z"
   },
   {
    "duration": 239,
    "start_time": "2022-01-10T18:02:23.618Z"
   },
   {
    "duration": 245,
    "start_time": "2022-01-10T18:02:23.859Z"
   },
   {
    "duration": 248,
    "start_time": "2022-01-10T18:02:24.106Z"
   },
   {
    "duration": 4,
    "start_time": "2022-01-10T18:02:24.356Z"
   },
   {
    "duration": 5,
    "start_time": "2022-01-10T18:02:24.362Z"
   },
   {
    "duration": 23,
    "start_time": "2022-01-10T18:02:24.369Z"
   },
   {
    "duration": 4,
    "start_time": "2022-01-10T18:02:24.394Z"
   },
   {
    "duration": 160,
    "start_time": "2022-01-10T18:02:24.400Z"
   },
   {
    "duration": 8,
    "start_time": "2022-01-10T18:02:24.562Z"
   },
   {
    "duration": 362,
    "start_time": "2022-01-10T18:02:24.572Z"
   },
   {
    "duration": 148,
    "start_time": "2022-01-10T18:02:24.936Z"
   },
   {
    "duration": 43,
    "start_time": "2022-01-10T18:02:25.086Z"
   },
   {
    "duration": 12,
    "start_time": "2022-01-10T18:02:25.131Z"
   },
   {
    "duration": 453,
    "start_time": "2022-01-10T18:02:25.144Z"
   },
   {
    "duration": 297,
    "start_time": "2022-01-10T18:02:25.599Z"
   },
   {
    "duration": 147,
    "start_time": "2022-01-10T18:02:25.898Z"
   },
   {
    "duration": 168,
    "start_time": "2022-01-10T18:02:26.047Z"
   },
   {
    "duration": 197,
    "start_time": "2022-01-10T18:02:26.217Z"
   },
   {
    "duration": 165,
    "start_time": "2022-01-10T18:02:26.415Z"
   },
   {
    "duration": 10,
    "start_time": "2022-01-10T18:02:26.582Z"
   },
   {
    "duration": 15,
    "start_time": "2022-01-10T18:02:26.594Z"
   },
   {
    "duration": 289,
    "start_time": "2022-01-10T18:02:26.611Z"
   },
   {
    "duration": 22,
    "start_time": "2022-01-10T18:02:26.902Z"
   },
   {
    "duration": 8,
    "start_time": "2022-01-10T18:02:26.925Z"
   },
   {
    "duration": 6,
    "start_time": "2022-01-10T18:02:26.935Z"
   },
   {
    "duration": 5,
    "start_time": "2022-01-10T18:02:26.943Z"
   },
   {
    "duration": 4,
    "start_time": "2022-01-10T18:02:26.950Z"
   },
   {
    "duration": 282,
    "start_time": "2022-01-10T18:02:26.992Z"
   },
   {
    "duration": 2,
    "start_time": "2022-01-10T18:02:27.276Z"
   },
   {
    "duration": 11,
    "start_time": "2022-01-10T18:02:27.280Z"
   },
   {
    "duration": 8,
    "start_time": "2022-01-10T18:02:55.316Z"
   },
   {
    "duration": 5,
    "start_time": "2022-01-10T18:02:56.108Z"
   },
   {
    "duration": 3,
    "start_time": "2022-01-10T18:02:58.488Z"
   },
   {
    "duration": 9,
    "start_time": "2022-01-10T18:03:02.200Z"
   },
   {
    "duration": 6,
    "start_time": "2022-01-10T18:03:02.778Z"
   },
   {
    "duration": 6,
    "start_time": "2022-01-10T18:03:03.434Z"
   },
   {
    "duration": 5,
    "start_time": "2022-01-10T18:03:04.145Z"
   },
   {
    "duration": 2,
    "start_time": "2022-01-10T18:03:05.699Z"
   },
   {
    "duration": 7,
    "start_time": "2022-01-10T18:03:58.878Z"
   },
   {
    "duration": 7,
    "start_time": "2022-01-10T18:04:06.784Z"
   },
   {
    "duration": 112,
    "start_time": "2022-01-10T18:04:20.641Z"
   },
   {
    "duration": 10,
    "start_time": "2022-01-10T18:04:20.755Z"
   },
   {
    "duration": 40,
    "start_time": "2022-01-10T18:04:20.767Z"
   },
   {
    "duration": 22,
    "start_time": "2022-01-10T18:04:20.810Z"
   },
   {
    "duration": 15,
    "start_time": "2022-01-10T18:04:20.834Z"
   },
   {
    "duration": 5,
    "start_time": "2022-01-10T18:04:20.851Z"
   },
   {
    "duration": 7,
    "start_time": "2022-01-10T18:04:20.857Z"
   },
   {
    "duration": 6,
    "start_time": "2022-01-10T18:04:20.892Z"
   },
   {
    "duration": 12,
    "start_time": "2022-01-10T18:04:20.901Z"
   },
   {
    "duration": 6,
    "start_time": "2022-01-10T18:04:20.915Z"
   },
   {
    "duration": 8,
    "start_time": "2022-01-10T18:04:20.923Z"
   },
   {
    "duration": 5,
    "start_time": "2022-01-10T18:04:20.933Z"
   },
   {
    "duration": 5,
    "start_time": "2022-01-10T18:04:20.940Z"
   },
   {
    "duration": 6,
    "start_time": "2022-01-10T18:04:20.946Z"
   },
   {
    "duration": 8,
    "start_time": "2022-01-10T18:04:20.954Z"
   },
   {
    "duration": 6,
    "start_time": "2022-01-10T18:04:20.992Z"
   },
   {
    "duration": 16,
    "start_time": "2022-01-10T18:04:21.000Z"
   },
   {
    "duration": 10,
    "start_time": "2022-01-10T18:04:21.018Z"
   },
   {
    "duration": 11,
    "start_time": "2022-01-10T18:04:21.029Z"
   },
   {
    "duration": 27,
    "start_time": "2022-01-10T18:04:21.041Z"
   },
   {
    "duration": 48,
    "start_time": "2022-01-10T18:04:21.069Z"
   },
   {
    "duration": 6,
    "start_time": "2022-01-10T18:04:21.119Z"
   },
   {
    "duration": 382,
    "start_time": "2022-01-10T18:04:21.126Z"
   },
   {
    "duration": 25,
    "start_time": "2022-01-10T18:04:21.509Z"
   },
   {
    "duration": 10,
    "start_time": "2022-01-10T18:04:21.536Z"
   },
   {
    "duration": 587,
    "start_time": "2022-01-10T18:04:21.548Z"
   },
   {
    "duration": 155,
    "start_time": "2022-01-10T18:04:22.139Z"
   },
   {
    "duration": 5,
    "start_time": "2022-01-10T18:04:22.297Z"
   },
   {
    "duration": 860,
    "start_time": "2022-01-10T18:04:22.303Z"
   },
   {
    "duration": 226,
    "start_time": "2022-01-10T18:04:23.165Z"
   },
   {
    "duration": 16,
    "start_time": "2022-01-10T18:04:23.393Z"
   },
   {
    "duration": 236,
    "start_time": "2022-01-10T18:04:23.410Z"
   },
   {
    "duration": 234,
    "start_time": "2022-01-10T18:04:23.648Z"
   },
   {
    "duration": 251,
    "start_time": "2022-01-10T18:04:23.891Z"
   },
   {
    "duration": 247,
    "start_time": "2022-01-10T18:04:24.144Z"
   },
   {
    "duration": 247,
    "start_time": "2022-01-10T18:04:24.393Z"
   },
   {
    "duration": 5,
    "start_time": "2022-01-10T18:04:24.641Z"
   },
   {
    "duration": 18,
    "start_time": "2022-01-10T18:04:24.647Z"
   },
   {
    "duration": 8,
    "start_time": "2022-01-10T18:04:24.666Z"
   },
   {
    "duration": 16,
    "start_time": "2022-01-10T18:04:24.676Z"
   },
   {
    "duration": 160,
    "start_time": "2022-01-10T18:04:24.693Z"
   },
   {
    "duration": 9,
    "start_time": "2022-01-10T18:04:24.855Z"
   },
   {
    "duration": 384,
    "start_time": "2022-01-10T18:04:24.866Z"
   },
   {
    "duration": 155,
    "start_time": "2022-01-10T18:04:25.251Z"
   },
   {
    "duration": 41,
    "start_time": "2022-01-10T18:04:25.408Z"
   },
   {
    "duration": 41,
    "start_time": "2022-01-10T18:04:25.451Z"
   },
   {
    "duration": 471,
    "start_time": "2022-01-10T18:04:25.494Z"
   },
   {
    "duration": 298,
    "start_time": "2022-01-10T18:04:25.967Z"
   },
   {
    "duration": 151,
    "start_time": "2022-01-10T18:04:26.267Z"
   },
   {
    "duration": 177,
    "start_time": "2022-01-10T18:04:26.421Z"
   },
   {
    "duration": 201,
    "start_time": "2022-01-10T18:04:26.600Z"
   },
   {
    "duration": 161,
    "start_time": "2022-01-10T18:04:26.802Z"
   },
   {
    "duration": 4,
    "start_time": "2022-01-10T18:04:26.965Z"
   },
   {
    "duration": 22,
    "start_time": "2022-01-10T18:04:26.971Z"
   },
   {
    "duration": 299,
    "start_time": "2022-01-10T18:04:26.995Z"
   },
   {
    "duration": 22,
    "start_time": "2022-01-10T18:04:27.296Z"
   },
   {
    "duration": 8,
    "start_time": "2022-01-10T18:04:27.320Z"
   },
   {
    "duration": 5,
    "start_time": "2022-01-10T18:04:27.329Z"
   },
   {
    "duration": 7,
    "start_time": "2022-01-10T18:04:27.335Z"
   },
   {
    "duration": 7,
    "start_time": "2022-01-10T18:04:27.344Z"
   },
   {
    "duration": 2,
    "start_time": "2022-01-10T18:04:27.353Z"
   },
   {
    "duration": 36,
    "start_time": "2022-01-10T18:04:27.356Z"
   },
   {
    "duration": 5,
    "start_time": "2022-01-10T18:04:27.394Z"
   },
   {
    "duration": 6,
    "start_time": "2022-01-10T18:06:33.867Z"
   },
   {
    "duration": 5,
    "start_time": "2022-01-10T18:06:39.919Z"
   },
   {
    "duration": 107,
    "start_time": "2022-01-10T18:06:44.342Z"
   },
   {
    "duration": 10,
    "start_time": "2022-01-10T18:06:44.451Z"
   },
   {
    "duration": 41,
    "start_time": "2022-01-10T18:06:44.463Z"
   },
   {
    "duration": 21,
    "start_time": "2022-01-10T18:06:44.506Z"
   },
   {
    "duration": 16,
    "start_time": "2022-01-10T18:06:44.529Z"
   },
   {
    "duration": 6,
    "start_time": "2022-01-10T18:06:44.547Z"
   },
   {
    "duration": 6,
    "start_time": "2022-01-10T18:06:44.554Z"
   },
   {
    "duration": 35,
    "start_time": "2022-01-10T18:06:44.561Z"
   },
   {
    "duration": 10,
    "start_time": "2022-01-10T18:06:44.599Z"
   },
   {
    "duration": 8,
    "start_time": "2022-01-10T18:06:44.611Z"
   },
   {
    "duration": 3,
    "start_time": "2022-01-10T18:06:44.621Z"
   },
   {
    "duration": 5,
    "start_time": "2022-01-10T18:06:44.626Z"
   },
   {
    "duration": 5,
    "start_time": "2022-01-10T18:06:44.632Z"
   },
   {
    "duration": 5,
    "start_time": "2022-01-10T18:06:44.638Z"
   },
   {
    "duration": 5,
    "start_time": "2022-01-10T18:06:44.644Z"
   },
   {
    "duration": 45,
    "start_time": "2022-01-10T18:06:44.650Z"
   },
   {
    "duration": 14,
    "start_time": "2022-01-10T18:06:44.697Z"
   },
   {
    "duration": 10,
    "start_time": "2022-01-10T18:06:44.712Z"
   },
   {
    "duration": 6,
    "start_time": "2022-01-10T18:06:44.723Z"
   },
   {
    "duration": 5,
    "start_time": "2022-01-10T18:06:44.731Z"
   },
   {
    "duration": 66,
    "start_time": "2022-01-10T18:06:44.738Z"
   },
   {
    "duration": 6,
    "start_time": "2022-01-10T18:06:44.805Z"
   },
   {
    "duration": 367,
    "start_time": "2022-01-10T18:06:44.813Z"
   },
   {
    "duration": 31,
    "start_time": "2022-01-10T18:06:45.182Z"
   },
   {
    "duration": 11,
    "start_time": "2022-01-10T18:06:45.215Z"
   },
   {
    "duration": 582,
    "start_time": "2022-01-10T18:06:45.228Z"
   },
   {
    "duration": 160,
    "start_time": "2022-01-10T18:06:45.814Z"
   },
   {
    "duration": 5,
    "start_time": "2022-01-10T18:06:45.976Z"
   },
   {
    "duration": 246,
    "start_time": "2022-01-10T18:06:45.982Z"
   },
   {
    "duration": 222,
    "start_time": "2022-01-10T18:06:46.229Z"
   },
   {
    "duration": 16,
    "start_time": "2022-01-10T18:06:46.452Z"
   },
   {
    "duration": 234,
    "start_time": "2022-01-10T18:06:46.469Z"
   },
   {
    "duration": 229,
    "start_time": "2022-01-10T18:06:46.704Z"
   },
   {
    "duration": 243,
    "start_time": "2022-01-10T18:06:46.935Z"
   },
   {
    "duration": 236,
    "start_time": "2022-01-10T18:06:47.180Z"
   },
   {
    "duration": 240,
    "start_time": "2022-01-10T18:06:47.418Z"
   },
   {
    "duration": 4,
    "start_time": "2022-01-10T18:06:47.659Z"
   },
   {
    "duration": 5,
    "start_time": "2022-01-10T18:06:47.665Z"
   },
   {
    "duration": 19,
    "start_time": "2022-01-10T18:06:47.672Z"
   },
   {
    "duration": 3,
    "start_time": "2022-01-10T18:06:47.693Z"
   },
   {
    "duration": 155,
    "start_time": "2022-01-10T18:06:47.698Z"
   },
   {
    "duration": 7,
    "start_time": "2022-01-10T18:06:47.855Z"
   },
   {
    "duration": 353,
    "start_time": "2022-01-10T18:06:47.864Z"
   },
   {
    "duration": 149,
    "start_time": "2022-01-10T18:06:48.219Z"
   },
   {
    "duration": 50,
    "start_time": "2022-01-10T18:06:48.369Z"
   },
   {
    "duration": 12,
    "start_time": "2022-01-10T18:06:48.420Z"
   },
   {
    "duration": 443,
    "start_time": "2022-01-10T18:06:48.434Z"
   },
   {
    "duration": 289,
    "start_time": "2022-01-10T18:06:48.879Z"
   },
   {
    "duration": 167,
    "start_time": "2022-01-10T18:06:49.170Z"
   },
   {
    "duration": 170,
    "start_time": "2022-01-10T18:06:49.339Z"
   },
   {
    "duration": 218,
    "start_time": "2022-01-10T18:06:49.511Z"
   },
   {
    "duration": 172,
    "start_time": "2022-01-10T18:06:49.732Z"
   },
   {
    "duration": 5,
    "start_time": "2022-01-10T18:06:49.905Z"
   },
   {
    "duration": 23,
    "start_time": "2022-01-10T18:06:49.912Z"
   },
   {
    "duration": 309,
    "start_time": "2022-01-10T18:06:49.937Z"
   },
   {
    "duration": 24,
    "start_time": "2022-01-10T18:06:50.248Z"
   },
   {
    "duration": 22,
    "start_time": "2022-01-10T18:06:50.274Z"
   },
   {
    "duration": 6,
    "start_time": "2022-01-10T18:06:50.298Z"
   },
   {
    "duration": 7,
    "start_time": "2022-01-10T18:06:50.306Z"
   },
   {
    "duration": 5,
    "start_time": "2022-01-10T18:06:50.315Z"
   },
   {
    "duration": 2,
    "start_time": "2022-01-10T18:06:50.322Z"
   },
   {
    "duration": 6,
    "start_time": "2022-01-10T18:06:50.326Z"
   },
   {
    "duration": 4,
    "start_time": "2022-01-10T18:06:50.334Z"
   },
   {
    "duration": 251,
    "start_time": "2022-01-10T18:08:43.699Z"
   },
   {
    "duration": 7,
    "start_time": "2022-01-10T18:09:14.273Z"
   },
   {
    "duration": 5,
    "start_time": "2022-01-10T18:09:18.448Z"
   },
   {
    "duration": 10,
    "start_time": "2022-01-10T18:09:28.390Z"
   },
   {
    "duration": 5,
    "start_time": "2022-01-10T18:09:29.018Z"
   },
   {
    "duration": 8,
    "start_time": "2022-01-10T18:09:29.628Z"
   },
   {
    "duration": 6,
    "start_time": "2022-01-10T18:09:30.326Z"
   },
   {
    "duration": 7,
    "start_time": "2022-01-10T18:10:22.446Z"
   },
   {
    "duration": 5,
    "start_time": "2022-01-10T18:10:22.893Z"
   },
   {
    "duration": 5,
    "start_time": "2022-01-10T18:10:26.637Z"
   },
   {
    "duration": 6,
    "start_time": "2022-01-10T18:10:27.041Z"
   },
   {
    "duration": 5,
    "start_time": "2022-01-10T18:10:27.465Z"
   },
   {
    "duration": 5,
    "start_time": "2022-01-10T18:13:12.348Z"
   },
   {
    "duration": 6,
    "start_time": "2022-01-10T18:13:13.159Z"
   },
   {
    "duration": 6,
    "start_time": "2022-01-10T18:13:16.250Z"
   },
   {
    "duration": 6,
    "start_time": "2022-01-10T18:13:16.931Z"
   },
   {
    "duration": 5,
    "start_time": "2022-01-10T18:13:17.439Z"
   },
   {
    "duration": 5,
    "start_time": "2022-01-10T18:13:41.598Z"
   },
   {
    "duration": 6,
    "start_time": "2022-01-10T18:15:47.865Z"
   },
   {
    "duration": 5,
    "start_time": "2022-01-10T18:15:58.952Z"
   },
   {
    "duration": 183,
    "start_time": "2022-01-10T18:16:17.573Z"
   },
   {
    "duration": 177,
    "start_time": "2022-01-10T18:16:39.421Z"
   },
   {
    "duration": 204,
    "start_time": "2022-01-10T18:16:41.937Z"
   },
   {
    "duration": 11,
    "start_time": "2022-01-10T18:16:45.261Z"
   },
   {
    "duration": 5,
    "start_time": "2022-01-10T18:16:45.710Z"
   },
   {
    "duration": 5,
    "start_time": "2022-01-10T18:16:46.214Z"
   },
   {
    "duration": 5,
    "start_time": "2022-01-10T18:16:46.709Z"
   },
   {
    "duration": 225,
    "start_time": "2022-01-10T18:16:47.239Z"
   },
   {
    "duration": 679,
    "start_time": "2022-01-10T18:17:33.535Z"
   },
   {
    "duration": 10,
    "start_time": "2022-01-10T18:17:34.216Z"
   },
   {
    "duration": 18,
    "start_time": "2022-01-10T18:17:34.228Z"
   },
   {
    "duration": 51,
    "start_time": "2022-01-10T18:17:34.248Z"
   },
   {
    "duration": 18,
    "start_time": "2022-01-10T18:17:34.301Z"
   },
   {
    "duration": 16,
    "start_time": "2022-01-10T18:17:34.321Z"
   },
   {
    "duration": 14,
    "start_time": "2022-01-10T18:17:34.339Z"
   },
   {
    "duration": 16,
    "start_time": "2022-01-10T18:17:34.355Z"
   },
   {
    "duration": 11,
    "start_time": "2022-01-10T18:17:34.374Z"
   },
   {
    "duration": 12,
    "start_time": "2022-01-10T18:17:34.393Z"
   },
   {
    "duration": 9,
    "start_time": "2022-01-10T18:17:34.407Z"
   },
   {
    "duration": 22,
    "start_time": "2022-01-10T18:17:34.418Z"
   },
   {
    "duration": 17,
    "start_time": "2022-01-10T18:17:34.442Z"
   },
   {
    "duration": 9,
    "start_time": "2022-01-10T18:17:34.461Z"
   },
   {
    "duration": 12,
    "start_time": "2022-01-10T18:17:34.471Z"
   },
   {
    "duration": 10,
    "start_time": "2022-01-10T18:17:34.485Z"
   },
   {
    "duration": 28,
    "start_time": "2022-01-10T18:17:34.498Z"
   },
   {
    "duration": 50,
    "start_time": "2022-01-10T18:17:34.528Z"
   },
   {
    "duration": 12,
    "start_time": "2022-01-10T18:17:34.580Z"
   },
   {
    "duration": 11,
    "start_time": "2022-01-10T18:17:34.594Z"
   },
   {
    "duration": 63,
    "start_time": "2022-01-10T18:17:34.608Z"
   },
   {
    "duration": 8,
    "start_time": "2022-01-10T18:17:34.673Z"
   },
   {
    "duration": 469,
    "start_time": "2022-01-10T18:17:34.683Z"
   },
   {
    "duration": 24,
    "start_time": "2022-01-10T18:17:35.154Z"
   },
   {
    "duration": 21,
    "start_time": "2022-01-10T18:17:35.180Z"
   },
   {
    "duration": 681,
    "start_time": "2022-01-10T18:17:35.203Z"
   },
   {
    "duration": 172,
    "start_time": "2022-01-10T18:17:35.891Z"
   },
   {
    "duration": 5,
    "start_time": "2022-01-10T18:17:36.066Z"
   },
   {
    "duration": 258,
    "start_time": "2022-01-10T18:17:36.073Z"
   },
   {
    "duration": 243,
    "start_time": "2022-01-10T18:17:36.333Z"
   },
   {
    "duration": 23,
    "start_time": "2022-01-10T18:17:36.577Z"
   },
   {
    "duration": 232,
    "start_time": "2022-01-10T18:17:36.601Z"
   },
   {
    "duration": 237,
    "start_time": "2022-01-10T18:17:36.835Z"
   },
   {
    "duration": 245,
    "start_time": "2022-01-10T18:17:37.074Z"
   },
   {
    "duration": 253,
    "start_time": "2022-01-10T18:17:37.321Z"
   },
   {
    "duration": 244,
    "start_time": "2022-01-10T18:17:37.575Z"
   },
   {
    "duration": 4,
    "start_time": "2022-01-10T18:17:37.821Z"
   },
   {
    "duration": 4,
    "start_time": "2022-01-10T18:17:37.827Z"
   },
   {
    "duration": 6,
    "start_time": "2022-01-10T18:17:37.833Z"
   },
   {
    "duration": 4,
    "start_time": "2022-01-10T18:17:37.840Z"
   },
   {
    "duration": 184,
    "start_time": "2022-01-10T18:17:37.845Z"
   },
   {
    "duration": 10,
    "start_time": "2022-01-10T18:17:38.031Z"
   },
   {
    "duration": 420,
    "start_time": "2022-01-10T18:17:38.043Z"
   },
   {
    "duration": 155,
    "start_time": "2022-01-10T18:17:38.465Z"
   },
   {
    "duration": 47,
    "start_time": "2022-01-10T18:17:38.621Z"
   },
   {
    "duration": 28,
    "start_time": "2022-01-10T18:17:38.670Z"
   },
   {
    "duration": 452,
    "start_time": "2022-01-10T18:17:38.700Z"
   },
   {
    "duration": 312,
    "start_time": "2022-01-10T18:17:39.153Z"
   },
   {
    "duration": 163,
    "start_time": "2022-01-10T18:17:39.467Z"
   },
   {
    "duration": 182,
    "start_time": "2022-01-10T18:17:39.632Z"
   },
   {
    "duration": 197,
    "start_time": "2022-01-10T18:17:39.816Z"
   },
   {
    "duration": 170,
    "start_time": "2022-01-10T18:17:40.015Z"
   },
   {
    "duration": 8,
    "start_time": "2022-01-10T18:17:40.186Z"
   },
   {
    "duration": 15,
    "start_time": "2022-01-10T18:17:40.195Z"
   },
   {
    "duration": 303,
    "start_time": "2022-01-10T18:17:40.211Z"
   },
   {
    "duration": 22,
    "start_time": "2022-01-10T18:17:40.516Z"
   },
   {
    "duration": 8,
    "start_time": "2022-01-10T18:17:40.539Z"
   },
   {
    "duration": 6,
    "start_time": "2022-01-10T18:17:40.548Z"
   },
   {
    "duration": 5,
    "start_time": "2022-01-10T18:17:40.555Z"
   },
   {
    "duration": 32,
    "start_time": "2022-01-10T18:17:40.562Z"
   },
   {
    "duration": 259,
    "start_time": "2022-01-10T18:17:40.596Z"
   },
   {
    "duration": -2686,
    "start_time": "2022-01-10T18:17:43.543Z"
   },
   {
    "duration": -2688,
    "start_time": "2022-01-10T18:17:43.546Z"
   },
   {
    "duration": -2690,
    "start_time": "2022-01-10T18:17:43.549Z"
   },
   {
    "duration": 9,
    "start_time": "2022-01-10T18:20:11.723Z"
   },
   {
    "duration": 4,
    "start_time": "2022-01-10T18:20:12.223Z"
   },
   {
    "duration": 5,
    "start_time": "2022-01-10T18:20:12.705Z"
   },
   {
    "duration": 5,
    "start_time": "2022-01-10T18:20:13.296Z"
   },
   {
    "duration": 107,
    "start_time": "2022-01-10T18:20:28.725Z"
   },
   {
    "duration": 10,
    "start_time": "2022-01-10T18:20:28.835Z"
   },
   {
    "duration": 18,
    "start_time": "2022-01-10T18:20:28.847Z"
   },
   {
    "duration": 41,
    "start_time": "2022-01-10T18:20:28.867Z"
   },
   {
    "duration": 15,
    "start_time": "2022-01-10T18:20:28.910Z"
   },
   {
    "duration": 7,
    "start_time": "2022-01-10T18:20:28.927Z"
   },
   {
    "duration": 6,
    "start_time": "2022-01-10T18:20:28.935Z"
   },
   {
    "duration": 9,
    "start_time": "2022-01-10T18:20:28.943Z"
   },
   {
    "duration": 45,
    "start_time": "2022-01-10T18:20:28.956Z"
   },
   {
    "duration": 5,
    "start_time": "2022-01-10T18:20:29.004Z"
   },
   {
    "duration": 5,
    "start_time": "2022-01-10T18:20:29.011Z"
   },
   {
    "duration": 7,
    "start_time": "2022-01-10T18:20:29.017Z"
   },
   {
    "duration": 8,
    "start_time": "2022-01-10T18:20:29.025Z"
   },
   {
    "duration": 3,
    "start_time": "2022-01-10T18:20:29.035Z"
   },
   {
    "duration": 5,
    "start_time": "2022-01-10T18:20:29.040Z"
   },
   {
    "duration": 7,
    "start_time": "2022-01-10T18:20:29.046Z"
   },
   {
    "duration": 49,
    "start_time": "2022-01-10T18:20:29.054Z"
   },
   {
    "duration": 9,
    "start_time": "2022-01-10T18:20:29.105Z"
   },
   {
    "duration": 7,
    "start_time": "2022-01-10T18:20:29.116Z"
   },
   {
    "duration": 4,
    "start_time": "2022-01-10T18:20:29.125Z"
   },
   {
    "duration": 69,
    "start_time": "2022-01-10T18:20:29.131Z"
   },
   {
    "duration": 7,
    "start_time": "2022-01-10T18:20:29.202Z"
   },
   {
    "duration": 448,
    "start_time": "2022-01-10T18:20:29.211Z"
   },
   {
    "duration": 38,
    "start_time": "2022-01-10T18:20:29.661Z"
   },
   {
    "duration": 12,
    "start_time": "2022-01-10T18:20:29.701Z"
   },
   {
    "duration": 596,
    "start_time": "2022-01-10T18:20:29.716Z"
   },
   {
    "duration": 162,
    "start_time": "2022-01-10T18:20:30.316Z"
   },
   {
    "duration": 14,
    "start_time": "2022-01-10T18:20:30.481Z"
   },
   {
    "duration": 234,
    "start_time": "2022-01-10T18:20:30.497Z"
   },
   {
    "duration": 233,
    "start_time": "2022-01-10T18:20:30.733Z"
   },
   {
    "duration": 27,
    "start_time": "2022-01-10T18:20:30.968Z"
   },
   {
    "duration": 246,
    "start_time": "2022-01-10T18:20:30.997Z"
   },
   {
    "duration": 253,
    "start_time": "2022-01-10T18:20:31.245Z"
   },
   {
    "duration": 271,
    "start_time": "2022-01-10T18:20:31.500Z"
   },
   {
    "duration": 247,
    "start_time": "2022-01-10T18:20:31.773Z"
   },
   {
    "duration": 351,
    "start_time": "2022-01-10T18:20:32.022Z"
   },
   {
    "duration": 4,
    "start_time": "2022-01-10T18:20:32.375Z"
   },
   {
    "duration": 4,
    "start_time": "2022-01-10T18:20:32.391Z"
   },
   {
    "duration": 8,
    "start_time": "2022-01-10T18:20:32.397Z"
   },
   {
    "duration": 5,
    "start_time": "2022-01-10T18:20:32.406Z"
   },
   {
    "duration": 170,
    "start_time": "2022-01-10T18:20:32.413Z"
   },
   {
    "duration": 13,
    "start_time": "2022-01-10T18:20:32.585Z"
   },
   {
    "duration": 382,
    "start_time": "2022-01-10T18:20:32.600Z"
   },
   {
    "duration": 151,
    "start_time": "2022-01-10T18:20:32.983Z"
   },
   {
    "duration": 57,
    "start_time": "2022-01-10T18:20:33.136Z"
   },
   {
    "duration": 12,
    "start_time": "2022-01-10T18:20:33.195Z"
   },
   {
    "duration": 463,
    "start_time": "2022-01-10T18:20:33.208Z"
   },
   {
    "duration": 316,
    "start_time": "2022-01-10T18:20:33.673Z"
   },
   {
    "duration": 156,
    "start_time": "2022-01-10T18:20:33.991Z"
   },
   {
    "duration": 189,
    "start_time": "2022-01-10T18:20:34.149Z"
   },
   {
    "duration": 209,
    "start_time": "2022-01-10T18:20:34.340Z"
   },
   {
    "duration": 203,
    "start_time": "2022-01-10T18:20:34.551Z"
   },
   {
    "duration": 5,
    "start_time": "2022-01-10T18:20:34.755Z"
   },
   {
    "duration": 30,
    "start_time": "2022-01-10T18:20:34.762Z"
   },
   {
    "duration": 309,
    "start_time": "2022-01-10T18:20:34.795Z"
   },
   {
    "duration": 22,
    "start_time": "2022-01-10T18:20:35.106Z"
   },
   {
    "duration": 7,
    "start_time": "2022-01-10T18:20:35.130Z"
   },
   {
    "duration": 6,
    "start_time": "2022-01-10T18:20:35.139Z"
   },
   {
    "duration": 6,
    "start_time": "2022-01-10T18:20:35.148Z"
   },
   {
    "duration": 36,
    "start_time": "2022-01-10T18:20:35.156Z"
   },
   {
    "duration": 3,
    "start_time": "2022-01-10T18:20:35.194Z"
   },
   {
    "duration": 5,
    "start_time": "2022-01-10T18:20:35.199Z"
   },
   {
    "duration": 4,
    "start_time": "2022-01-10T18:20:35.206Z"
   },
   {
    "duration": 6,
    "start_time": "2022-01-10T18:20:35.211Z"
   },
   {
    "duration": 292,
    "start_time": "2022-01-10T18:22:48.673Z"
   },
   {
    "duration": 274,
    "start_time": "2022-01-10T18:23:33.277Z"
   },
   {
    "duration": 10,
    "start_time": "2022-01-10T18:24:25.360Z"
   },
   {
    "duration": 300,
    "start_time": "2022-01-10T18:24:26.478Z"
   },
   {
    "duration": 297,
    "start_time": "2022-01-10T18:24:42.857Z"
   },
   {
    "duration": 104,
    "start_time": "2022-01-10T18:24:53.919Z"
   },
   {
    "duration": 10,
    "start_time": "2022-01-10T18:24:54.024Z"
   },
   {
    "duration": 17,
    "start_time": "2022-01-10T18:24:54.036Z"
   },
   {
    "duration": 44,
    "start_time": "2022-01-10T18:24:54.055Z"
   },
   {
    "duration": 16,
    "start_time": "2022-01-10T18:24:54.101Z"
   },
   {
    "duration": 8,
    "start_time": "2022-01-10T18:24:54.119Z"
   },
   {
    "duration": 8,
    "start_time": "2022-01-10T18:24:54.129Z"
   },
   {
    "duration": 136,
    "start_time": "2022-01-10T18:24:54.139Z"
   },
   {
    "duration": 14,
    "start_time": "2022-01-10T18:24:54.278Z"
   },
   {
    "duration": 10,
    "start_time": "2022-01-10T18:24:54.294Z"
   },
   {
    "duration": 11,
    "start_time": "2022-01-10T18:24:54.305Z"
   },
   {
    "duration": 7,
    "start_time": "2022-01-10T18:24:54.317Z"
   },
   {
    "duration": 4,
    "start_time": "2022-01-10T18:24:54.326Z"
   },
   {
    "duration": 4,
    "start_time": "2022-01-10T18:24:54.332Z"
   },
   {
    "duration": 7,
    "start_time": "2022-01-10T18:24:54.338Z"
   },
   {
    "duration": 7,
    "start_time": "2022-01-10T18:24:54.346Z"
   },
   {
    "duration": 13,
    "start_time": "2022-01-10T18:24:54.354Z"
   },
   {
    "duration": 5,
    "start_time": "2022-01-10T18:24:54.392Z"
   },
   {
    "duration": 7,
    "start_time": "2022-01-10T18:24:54.398Z"
   },
   {
    "duration": 6,
    "start_time": "2022-01-10T18:24:54.406Z"
   },
   {
    "duration": 41,
    "start_time": "2022-01-10T18:24:54.413Z"
   },
   {
    "duration": 5,
    "start_time": "2022-01-10T18:24:54.456Z"
   },
   {
    "duration": 398,
    "start_time": "2022-01-10T18:24:54.465Z"
   },
   {
    "duration": 31,
    "start_time": "2022-01-10T18:24:54.866Z"
   },
   {
    "duration": 10,
    "start_time": "2022-01-10T18:24:54.899Z"
   },
   {
    "duration": 563,
    "start_time": "2022-01-10T18:24:54.911Z"
   },
   {
    "duration": 163,
    "start_time": "2022-01-10T18:24:55.476Z"
   },
   {
    "duration": 6,
    "start_time": "2022-01-10T18:24:55.641Z"
   },
   {
    "duration": 229,
    "start_time": "2022-01-10T18:24:55.649Z"
   },
   {
    "duration": 223,
    "start_time": "2022-01-10T18:24:55.880Z"
   },
   {
    "duration": 18,
    "start_time": "2022-01-10T18:24:56.105Z"
   },
   {
    "duration": 241,
    "start_time": "2022-01-10T18:24:56.125Z"
   },
   {
    "duration": 236,
    "start_time": "2022-01-10T18:24:56.368Z"
   },
   {
    "duration": 247,
    "start_time": "2022-01-10T18:24:56.606Z"
   },
   {
    "duration": 253,
    "start_time": "2022-01-10T18:24:56.854Z"
   },
   {
    "duration": 272,
    "start_time": "2022-01-10T18:24:57.108Z"
   },
   {
    "duration": 4,
    "start_time": "2022-01-10T18:24:57.382Z"
   },
   {
    "duration": 4,
    "start_time": "2022-01-10T18:24:57.392Z"
   },
   {
    "duration": 6,
    "start_time": "2022-01-10T18:24:57.397Z"
   },
   {
    "duration": 7,
    "start_time": "2022-01-10T18:24:57.405Z"
   },
   {
    "duration": 319,
    "start_time": "2022-01-10T18:24:57.413Z"
   },
   {
    "duration": 10,
    "start_time": "2022-01-10T18:24:57.734Z"
   },
   {
    "duration": 376,
    "start_time": "2022-01-10T18:24:57.746Z"
   },
   {
    "duration": 161,
    "start_time": "2022-01-10T18:24:58.124Z"
   },
   {
    "duration": 49,
    "start_time": "2022-01-10T18:24:58.287Z"
   },
   {
    "duration": 212,
    "start_time": "2022-01-10T18:24:58.337Z"
   },
   {
    "duration": 527,
    "start_time": "2022-01-10T18:24:58.551Z"
   },
   {
    "duration": 314,
    "start_time": "2022-01-10T18:24:59.080Z"
   },
   {
    "duration": 148,
    "start_time": "2022-01-10T18:24:59.396Z"
   },
   {
    "duration": 168,
    "start_time": "2022-01-10T18:24:59.547Z"
   },
   {
    "duration": 201,
    "start_time": "2022-01-10T18:24:59.717Z"
   },
   {
    "duration": 168,
    "start_time": "2022-01-10T18:24:59.919Z"
   },
   {
    "duration": 4,
    "start_time": "2022-01-10T18:25:00.089Z"
   },
   {
    "duration": 31,
    "start_time": "2022-01-10T18:25:00.094Z"
   },
   {
    "duration": 321,
    "start_time": "2022-01-10T18:25:00.127Z"
   },
   {
    "duration": 22,
    "start_time": "2022-01-10T18:25:00.450Z"
   },
   {
    "duration": 25,
    "start_time": "2022-01-10T18:25:00.474Z"
   },
   {
    "duration": 343,
    "start_time": "2022-01-10T18:25:00.501Z"
   },
   {
    "duration": 271,
    "start_time": "2022-01-10T18:32:31.937Z"
   },
   {
    "duration": 272,
    "start_time": "2022-01-10T18:33:29.005Z"
   },
   {
    "duration": 276,
    "start_time": "2022-01-10T18:33:41.424Z"
   },
   {
    "duration": 280,
    "start_time": "2022-01-10T18:39:38.732Z"
   },
   {
    "duration": 168,
    "start_time": "2022-01-10T18:39:47.763Z"
   },
   {
    "duration": 294,
    "start_time": "2022-01-10T18:39:52.107Z"
   },
   {
    "duration": 209,
    "start_time": "2022-01-10T18:43:45.037Z"
   },
   {
    "duration": 205,
    "start_time": "2022-01-10T18:43:59.874Z"
   },
   {
    "duration": 125,
    "start_time": "2022-01-10T18:44:14.724Z"
   },
   {
    "duration": 11,
    "start_time": "2022-01-10T18:44:14.851Z"
   },
   {
    "duration": 39,
    "start_time": "2022-01-10T18:44:14.865Z"
   },
   {
    "duration": 59,
    "start_time": "2022-01-10T18:44:14.906Z"
   },
   {
    "duration": 44,
    "start_time": "2022-01-10T18:44:14.967Z"
   },
   {
    "duration": 37,
    "start_time": "2022-01-10T18:44:15.014Z"
   },
   {
    "duration": 32,
    "start_time": "2022-01-10T18:44:15.054Z"
   },
   {
    "duration": 33,
    "start_time": "2022-01-10T18:44:15.090Z"
   },
   {
    "duration": 37,
    "start_time": "2022-01-10T18:44:15.126Z"
   },
   {
    "duration": 33,
    "start_time": "2022-01-10T18:44:15.165Z"
   },
   {
    "duration": 20,
    "start_time": "2022-01-10T18:44:15.200Z"
   },
   {
    "duration": 34,
    "start_time": "2022-01-10T18:44:15.223Z"
   },
   {
    "duration": 18,
    "start_time": "2022-01-10T18:44:15.259Z"
   },
   {
    "duration": 24,
    "start_time": "2022-01-10T18:44:15.279Z"
   },
   {
    "duration": 22,
    "start_time": "2022-01-10T18:44:15.306Z"
   },
   {
    "duration": 27,
    "start_time": "2022-01-10T18:44:15.330Z"
   },
   {
    "duration": 48,
    "start_time": "2022-01-10T18:44:15.360Z"
   },
   {
    "duration": 23,
    "start_time": "2022-01-10T18:44:15.410Z"
   },
   {
    "duration": 53,
    "start_time": "2022-01-10T18:44:15.435Z"
   },
   {
    "duration": 31,
    "start_time": "2022-01-10T18:44:15.490Z"
   },
   {
    "duration": 49,
    "start_time": "2022-01-10T18:44:15.524Z"
   },
   {
    "duration": 7,
    "start_time": "2022-01-10T18:44:15.575Z"
   },
   {
    "duration": 397,
    "start_time": "2022-01-10T18:44:15.590Z"
   },
   {
    "duration": 25,
    "start_time": "2022-01-10T18:44:15.990Z"
   },
   {
    "duration": 12,
    "start_time": "2022-01-10T18:44:16.017Z"
   },
   {
    "duration": 770,
    "start_time": "2022-01-10T18:44:16.031Z"
   },
   {
    "duration": 172,
    "start_time": "2022-01-10T18:44:16.803Z"
   },
   {
    "duration": 14,
    "start_time": "2022-01-10T18:44:16.977Z"
   },
   {
    "duration": 249,
    "start_time": "2022-01-10T18:44:16.994Z"
   },
   {
    "duration": 254,
    "start_time": "2022-01-10T18:44:17.245Z"
   },
   {
    "duration": 21,
    "start_time": "2022-01-10T18:44:17.501Z"
   },
   {
    "duration": 270,
    "start_time": "2022-01-10T18:44:17.524Z"
   },
   {
    "duration": 260,
    "start_time": "2022-01-10T18:44:17.797Z"
   },
   {
    "duration": 284,
    "start_time": "2022-01-10T18:44:18.059Z"
   },
   {
    "duration": 285,
    "start_time": "2022-01-10T18:44:18.346Z"
   },
   {
    "duration": 261,
    "start_time": "2022-01-10T18:44:18.633Z"
   },
   {
    "duration": 5,
    "start_time": "2022-01-10T18:44:18.896Z"
   },
   {
    "duration": 5,
    "start_time": "2022-01-10T18:44:18.902Z"
   },
   {
    "duration": 7,
    "start_time": "2022-01-10T18:44:18.908Z"
   },
   {
    "duration": 5,
    "start_time": "2022-01-10T18:44:18.916Z"
   },
   {
    "duration": 195,
    "start_time": "2022-01-10T18:44:18.923Z"
   },
   {
    "duration": 10,
    "start_time": "2022-01-10T18:44:19.120Z"
   },
   {
    "duration": 416,
    "start_time": "2022-01-10T18:44:19.133Z"
   },
   {
    "duration": 173,
    "start_time": "2022-01-10T18:44:19.551Z"
   },
   {
    "duration": 49,
    "start_time": "2022-01-10T18:44:19.727Z"
   },
   {
    "duration": 22,
    "start_time": "2022-01-10T18:44:19.778Z"
   },
   {
    "duration": 501,
    "start_time": "2022-01-10T18:44:19.803Z"
   },
   {
    "duration": 334,
    "start_time": "2022-01-10T18:44:20.306Z"
   },
   {
    "duration": 169,
    "start_time": "2022-01-10T18:44:20.642Z"
   },
   {
    "duration": 188,
    "start_time": "2022-01-10T18:44:20.813Z"
   },
   {
    "duration": 224,
    "start_time": "2022-01-10T18:44:21.003Z"
   },
   {
    "duration": 197,
    "start_time": "2022-01-10T18:44:21.229Z"
   },
   {
    "duration": 4,
    "start_time": "2022-01-10T18:44:21.428Z"
   },
   {
    "duration": 25,
    "start_time": "2022-01-10T18:44:21.434Z"
   },
   {
    "duration": 317,
    "start_time": "2022-01-10T18:44:21.461Z"
   },
   {
    "duration": 32,
    "start_time": "2022-01-10T18:44:21.780Z"
   },
   {
    "duration": 12,
    "start_time": "2022-01-10T18:44:21.814Z"
   },
   {
    "duration": 333,
    "start_time": "2022-01-10T18:44:21.828Z"
   },
   {
    "duration": 276,
    "start_time": "2022-01-10T18:44:22.163Z"
   },
   {
    "duration": 308,
    "start_time": "2022-01-10T18:45:16.711Z"
   },
   {
    "duration": 188,
    "start_time": "2022-01-10T18:45:26.729Z"
   },
   {
    "duration": 139,
    "start_time": "2022-01-10T18:45:30.872Z"
   },
   {
    "duration": 11,
    "start_time": "2022-01-10T18:45:31.013Z"
   },
   {
    "duration": 17,
    "start_time": "2022-01-10T18:45:31.026Z"
   },
   {
    "duration": 48,
    "start_time": "2022-01-10T18:45:31.045Z"
   },
   {
    "duration": 19,
    "start_time": "2022-01-10T18:45:31.095Z"
   },
   {
    "duration": 7,
    "start_time": "2022-01-10T18:45:31.115Z"
   },
   {
    "duration": 8,
    "start_time": "2022-01-10T18:45:31.124Z"
   },
   {
    "duration": 7,
    "start_time": "2022-01-10T18:45:31.134Z"
   },
   {
    "duration": 48,
    "start_time": "2022-01-10T18:45:31.143Z"
   },
   {
    "duration": 13,
    "start_time": "2022-01-10T18:45:31.194Z"
   },
   {
    "duration": 6,
    "start_time": "2022-01-10T18:45:31.209Z"
   },
   {
    "duration": 8,
    "start_time": "2022-01-10T18:45:31.216Z"
   },
   {
    "duration": 9,
    "start_time": "2022-01-10T18:45:31.225Z"
   },
   {
    "duration": 7,
    "start_time": "2022-01-10T18:45:31.235Z"
   },
   {
    "duration": 6,
    "start_time": "2022-01-10T18:45:31.244Z"
   },
   {
    "duration": 7,
    "start_time": "2022-01-10T18:45:31.252Z"
   },
   {
    "duration": 38,
    "start_time": "2022-01-10T18:45:31.261Z"
   },
   {
    "duration": 11,
    "start_time": "2022-01-10T18:45:31.301Z"
   },
   {
    "duration": 7,
    "start_time": "2022-01-10T18:45:31.314Z"
   },
   {
    "duration": 8,
    "start_time": "2022-01-10T18:45:31.323Z"
   },
   {
    "duration": 58,
    "start_time": "2022-01-10T18:45:31.333Z"
   },
   {
    "duration": 8,
    "start_time": "2022-01-10T18:45:31.393Z"
   },
   {
    "duration": 588,
    "start_time": "2022-01-10T18:45:31.404Z"
   },
   {
    "duration": 26,
    "start_time": "2022-01-10T18:45:31.994Z"
   },
   {
    "duration": 11,
    "start_time": "2022-01-10T18:45:32.021Z"
   },
   {
    "duration": 608,
    "start_time": "2022-01-10T18:45:32.034Z"
   },
   {
    "duration": 167,
    "start_time": "2022-01-10T18:45:32.644Z"
   },
   {
    "duration": 5,
    "start_time": "2022-01-10T18:45:32.813Z"
   },
   {
    "duration": 242,
    "start_time": "2022-01-10T18:45:32.819Z"
   },
   {
    "duration": 254,
    "start_time": "2022-01-10T18:45:33.063Z"
   },
   {
    "duration": 18,
    "start_time": "2022-01-10T18:45:33.319Z"
   },
   {
    "duration": 254,
    "start_time": "2022-01-10T18:45:33.339Z"
   },
   {
    "duration": 264,
    "start_time": "2022-01-10T18:45:33.595Z"
   },
   {
    "duration": 267,
    "start_time": "2022-01-10T18:45:33.861Z"
   },
   {
    "duration": 294,
    "start_time": "2022-01-10T18:45:34.130Z"
   },
   {
    "duration": 306,
    "start_time": "2022-01-10T18:45:34.426Z"
   },
   {
    "duration": 5,
    "start_time": "2022-01-10T18:45:34.734Z"
   },
   {
    "duration": 6,
    "start_time": "2022-01-10T18:45:34.741Z"
   },
   {
    "duration": 7,
    "start_time": "2022-01-10T18:45:34.748Z"
   },
   {
    "duration": 37,
    "start_time": "2022-01-10T18:45:34.757Z"
   },
   {
    "duration": 174,
    "start_time": "2022-01-10T18:45:34.796Z"
   },
   {
    "duration": 20,
    "start_time": "2022-01-10T18:45:34.972Z"
   },
   {
    "duration": 383,
    "start_time": "2022-01-10T18:45:34.993Z"
   },
   {
    "duration": 164,
    "start_time": "2022-01-10T18:45:35.377Z"
   },
   {
    "duration": 54,
    "start_time": "2022-01-10T18:45:35.543Z"
   },
   {
    "duration": 12,
    "start_time": "2022-01-10T18:45:35.599Z"
   },
   {
    "duration": 470,
    "start_time": "2022-01-10T18:45:35.613Z"
   },
   {
    "duration": 308,
    "start_time": "2022-01-10T18:45:36.085Z"
   },
   {
    "duration": 155,
    "start_time": "2022-01-10T18:45:36.395Z"
   },
   {
    "duration": 174,
    "start_time": "2022-01-10T18:45:36.552Z"
   },
   {
    "duration": 215,
    "start_time": "2022-01-10T18:45:36.728Z"
   },
   {
    "duration": 170,
    "start_time": "2022-01-10T18:45:36.945Z"
   },
   {
    "duration": 5,
    "start_time": "2022-01-10T18:45:37.116Z"
   },
   {
    "duration": 13,
    "start_time": "2022-01-10T18:45:37.123Z"
   },
   {
    "duration": 325,
    "start_time": "2022-01-10T18:45:37.138Z"
   },
   {
    "duration": 32,
    "start_time": "2022-01-10T18:45:37.465Z"
   },
   {
    "duration": 14,
    "start_time": "2022-01-10T18:45:37.499Z"
   },
   {
    "duration": 329,
    "start_time": "2022-01-10T18:45:37.516Z"
   },
   {
    "duration": 189,
    "start_time": "2022-01-10T18:45:37.847Z"
   },
   {
    "duration": 70,
    "start_time": "2022-01-10T18:47:38.523Z"
   },
   {
    "duration": 65,
    "start_time": "2022-01-10T18:47:50.187Z"
   },
   {
    "duration": 78,
    "start_time": "2022-01-10T18:47:53.790Z"
   },
   {
    "duration": 137,
    "start_time": "2022-01-10T18:48:04.895Z"
   },
   {
    "duration": 35,
    "start_time": "2022-01-10T18:50:03.306Z"
   },
   {
    "duration": 79,
    "start_time": "2022-01-10T18:56:14.692Z"
   },
   {
    "duration": 90,
    "start_time": "2022-01-10T18:56:48.757Z"
   },
   {
    "duration": 169,
    "start_time": "2022-01-10T19:10:50.279Z"
   },
   {
    "duration": 31,
    "start_time": "2022-01-10T19:11:01.211Z"
   },
   {
    "duration": 196,
    "start_time": "2022-01-10T19:11:05.293Z"
   },
   {
    "duration": 29,
    "start_time": "2022-01-10T19:11:09.525Z"
   },
   {
    "duration": 5,
    "start_time": "2022-01-10T19:12:52.228Z"
   },
   {
    "duration": 244,
    "start_time": "2022-01-10T19:13:39.135Z"
   },
   {
    "duration": 174,
    "start_time": "2022-01-10T19:13:45.748Z"
   },
   {
    "duration": 2190,
    "start_time": "2022-01-10T19:13:51.513Z"
   },
   {
    "duration": 13,
    "start_time": "2022-01-10T19:22:09.871Z"
   },
   {
    "duration": 11,
    "start_time": "2022-01-10T19:22:22.510Z"
   },
   {
    "duration": 9,
    "start_time": "2022-01-10T19:24:14.511Z"
   },
   {
    "duration": 174,
    "start_time": "2022-01-10T19:25:52.534Z"
   },
   {
    "duration": 4915,
    "start_time": "2022-01-10T19:25:58.369Z"
   },
   {
    "duration": 5097,
    "start_time": "2022-01-10T19:27:41.110Z"
   },
   {
    "duration": 4,
    "start_time": "2022-01-10T19:27:55.915Z"
   },
   {
    "duration": 10,
    "start_time": "2022-01-10T19:28:08.038Z"
   },
   {
    "duration": 2367,
    "start_time": "2022-01-10T19:30:01.459Z"
   },
   {
    "duration": 4,
    "start_time": "2022-01-10T19:32:11.118Z"
   },
   {
    "duration": 11,
    "start_time": "2022-01-10T19:32:11.597Z"
   },
   {
    "duration": 2165,
    "start_time": "2022-01-10T19:32:16.997Z"
   },
   {
    "duration": 5,
    "start_time": "2022-01-10T19:33:10.792Z"
   },
   {
    "duration": 10,
    "start_time": "2022-01-10T19:33:28.798Z"
   },
   {
    "duration": 12,
    "start_time": "2022-01-10T19:33:42.014Z"
   },
   {
    "duration": 10,
    "start_time": "2022-01-10T19:40:56.558Z"
   },
   {
    "duration": 13,
    "start_time": "2022-01-10T19:41:37.753Z"
   },
   {
    "duration": 276,
    "start_time": "2022-01-10T19:54:59.726Z"
   },
   {
    "duration": 116,
    "start_time": "2022-01-10T20:18:56.318Z"
   },
   {
    "duration": 10,
    "start_time": "2022-01-10T20:18:56.436Z"
   },
   {
    "duration": 18,
    "start_time": "2022-01-10T20:18:56.448Z"
   },
   {
    "duration": 41,
    "start_time": "2022-01-10T20:18:56.468Z"
   },
   {
    "duration": 15,
    "start_time": "2022-01-10T20:18:56.512Z"
   },
   {
    "duration": 5,
    "start_time": "2022-01-10T20:18:56.529Z"
   },
   {
    "duration": 6,
    "start_time": "2022-01-10T20:18:56.535Z"
   },
   {
    "duration": 8,
    "start_time": "2022-01-10T20:18:56.543Z"
   },
   {
    "duration": 41,
    "start_time": "2022-01-10T20:18:56.553Z"
   },
   {
    "duration": 6,
    "start_time": "2022-01-10T20:18:56.596Z"
   },
   {
    "duration": 4,
    "start_time": "2022-01-10T20:18:56.604Z"
   },
   {
    "duration": 6,
    "start_time": "2022-01-10T20:18:56.609Z"
   },
   {
    "duration": 7,
    "start_time": "2022-01-10T20:18:56.617Z"
   },
   {
    "duration": 10,
    "start_time": "2022-01-10T20:18:56.626Z"
   },
   {
    "duration": 5,
    "start_time": "2022-01-10T20:18:56.637Z"
   },
   {
    "duration": 5,
    "start_time": "2022-01-10T20:18:56.644Z"
   },
   {
    "duration": 40,
    "start_time": "2022-01-10T20:18:56.651Z"
   },
   {
    "duration": 5,
    "start_time": "2022-01-10T20:18:56.694Z"
   },
   {
    "duration": 6,
    "start_time": "2022-01-10T20:18:56.701Z"
   },
   {
    "duration": 5,
    "start_time": "2022-01-10T20:18:56.709Z"
   },
   {
    "duration": 52,
    "start_time": "2022-01-10T20:18:56.716Z"
   },
   {
    "duration": 23,
    "start_time": "2022-01-10T20:18:56.770Z"
   },
   {
    "duration": 304,
    "start_time": "2022-01-10T20:18:56.794Z"
   },
   {
    "duration": 24,
    "start_time": "2022-01-10T20:18:57.100Z"
   },
   {
    "duration": 11,
    "start_time": "2022-01-10T20:18:57.125Z"
   },
   {
    "duration": 622,
    "start_time": "2022-01-10T20:18:57.138Z"
   },
   {
    "duration": 423,
    "start_time": "2022-01-10T20:18:57.764Z"
   },
   {
    "duration": 5,
    "start_time": "2022-01-10T20:18:58.192Z"
   },
   {
    "duration": 243,
    "start_time": "2022-01-10T20:18:58.199Z"
   },
   {
    "duration": 223,
    "start_time": "2022-01-10T20:18:58.444Z"
   },
   {
    "duration": 28,
    "start_time": "2022-01-10T20:18:58.668Z"
   },
   {
    "duration": 241,
    "start_time": "2022-01-10T20:18:58.698Z"
   },
   {
    "duration": 242,
    "start_time": "2022-01-10T20:18:58.940Z"
   },
   {
    "duration": 257,
    "start_time": "2022-01-10T20:18:59.184Z"
   },
   {
    "duration": 256,
    "start_time": "2022-01-10T20:18:59.442Z"
   },
   {
    "duration": 247,
    "start_time": "2022-01-10T20:18:59.700Z"
   },
   {
    "duration": 4,
    "start_time": "2022-01-10T20:18:59.949Z"
   },
   {
    "duration": 5,
    "start_time": "2022-01-10T20:18:59.954Z"
   },
   {
    "duration": 5,
    "start_time": "2022-01-10T20:18:59.961Z"
   },
   {
    "duration": 26,
    "start_time": "2022-01-10T20:18:59.967Z"
   },
   {
    "duration": 178,
    "start_time": "2022-01-10T20:18:59.995Z"
   },
   {
    "duration": 23,
    "start_time": "2022-01-10T20:19:00.175Z"
   },
   {
    "duration": 361,
    "start_time": "2022-01-10T20:19:00.199Z"
   },
   {
    "duration": 151,
    "start_time": "2022-01-10T20:19:00.562Z"
   },
   {
    "duration": 46,
    "start_time": "2022-01-10T20:19:00.715Z"
   },
   {
    "duration": 28,
    "start_time": "2022-01-10T20:19:00.763Z"
   },
   {
    "duration": 461,
    "start_time": "2022-01-10T20:19:00.793Z"
   },
   {
    "duration": 315,
    "start_time": "2022-01-10T20:19:01.255Z"
   },
   {
    "duration": 155,
    "start_time": "2022-01-10T20:19:01.571Z"
   },
   {
    "duration": 178,
    "start_time": "2022-01-10T20:19:01.727Z"
   },
   {
    "duration": 213,
    "start_time": "2022-01-10T20:19:01.908Z"
   },
   {
    "duration": 169,
    "start_time": "2022-01-10T20:19:02.123Z"
   },
   {
    "duration": 4,
    "start_time": "2022-01-10T20:19:02.294Z"
   },
   {
    "duration": 17,
    "start_time": "2022-01-10T20:19:02.300Z"
   },
   {
    "duration": 302,
    "start_time": "2022-01-10T20:19:02.319Z"
   },
   {
    "duration": 22,
    "start_time": "2022-01-10T20:19:02.623Z"
   },
   {
    "duration": 9,
    "start_time": "2022-01-10T20:19:02.647Z"
   },
   {
    "duration": 316,
    "start_time": "2022-01-10T20:19:02.657Z"
   },
   {
    "duration": 85,
    "start_time": "2022-01-10T20:19:02.975Z"
   },
   {
    "duration": 90,
    "start_time": "2022-01-10T20:19:03.062Z"
   },
   {
    "duration": 11,
    "start_time": "2022-01-10T20:19:03.154Z"
   },
   {
    "duration": 30,
    "start_time": "2022-01-10T20:19:03.167Z"
   },
   {
    "duration": 752,
    "start_time": "2022-01-12T08:33:48.345Z"
   },
   {
    "duration": 11,
    "start_time": "2022-01-12T08:33:49.099Z"
   },
   {
    "duration": 19,
    "start_time": "2022-01-12T08:33:50.023Z"
   },
   {
    "duration": 23,
    "start_time": "2022-01-12T08:33:50.242Z"
   },
   {
    "duration": 17,
    "start_time": "2022-01-12T08:33:50.501Z"
   },
   {
    "duration": 5,
    "start_time": "2022-01-12T08:33:51.004Z"
   },
   {
    "duration": 6,
    "start_time": "2022-01-12T08:33:51.315Z"
   },
   {
    "duration": 6,
    "start_time": "2022-01-12T08:33:51.757Z"
   },
   {
    "duration": 11,
    "start_time": "2022-01-12T08:33:51.932Z"
   },
   {
    "duration": 5,
    "start_time": "2022-01-12T08:33:52.070Z"
   },
   {
    "duration": 4,
    "start_time": "2022-01-12T08:33:52.220Z"
   },
   {
    "duration": 6,
    "start_time": "2022-01-12T08:33:52.460Z"
   },
   {
    "duration": 6,
    "start_time": "2022-01-12T08:33:52.620Z"
   },
   {
    "duration": 4,
    "start_time": "2022-01-12T08:33:52.774Z"
   },
   {
    "duration": 5,
    "start_time": "2022-01-12T08:33:53.084Z"
   },
   {
    "duration": 5,
    "start_time": "2022-01-12T08:33:53.372Z"
   },
   {
    "duration": 12,
    "start_time": "2022-01-12T08:33:53.740Z"
   },
   {
    "duration": 6,
    "start_time": "2022-01-12T08:33:53.932Z"
   },
   {
    "duration": 5,
    "start_time": "2022-01-12T08:33:54.092Z"
   },
   {
    "duration": 4,
    "start_time": "2022-01-12T08:33:54.332Z"
   },
   {
    "duration": 45,
    "start_time": "2022-01-12T08:33:54.639Z"
   },
   {
    "duration": 12,
    "start_time": "2022-01-12T08:34:08.773Z"
   },
   {
    "duration": 90,
    "start_time": "2022-01-12T08:42:33.803Z"
   },
   {
    "duration": 76,
    "start_time": "2022-01-12T16:33:44.838Z"
   },
   {
    "duration": 93,
    "start_time": "2022-01-12T16:33:50.124Z"
   },
   {
    "duration": 898,
    "start_time": "2022-01-12T16:34:03.063Z"
   },
   {
    "duration": 16,
    "start_time": "2022-01-12T16:34:03.963Z"
   },
   {
    "duration": 47,
    "start_time": "2022-01-12T16:34:03.983Z"
   },
   {
    "duration": 47,
    "start_time": "2022-01-12T16:34:04.033Z"
   },
   {
    "duration": 30,
    "start_time": "2022-01-12T16:34:04.082Z"
   },
   {
    "duration": 7,
    "start_time": "2022-01-12T16:34:04.118Z"
   },
   {
    "duration": 12,
    "start_time": "2022-01-12T16:34:04.127Z"
   },
   {
    "duration": 11,
    "start_time": "2022-01-12T16:34:04.142Z"
   },
   {
    "duration": 17,
    "start_time": "2022-01-12T16:34:04.157Z"
   },
   {
    "duration": 41,
    "start_time": "2022-01-12T16:34:04.178Z"
   },
   {
    "duration": 6,
    "start_time": "2022-01-12T16:34:04.221Z"
   },
   {
    "duration": 8,
    "start_time": "2022-01-12T16:34:04.230Z"
   },
   {
    "duration": 9,
    "start_time": "2022-01-12T16:34:04.240Z"
   },
   {
    "duration": 7,
    "start_time": "2022-01-12T16:34:04.252Z"
   },
   {
    "duration": 57,
    "start_time": "2022-01-12T16:34:04.262Z"
   },
   {
    "duration": 7,
    "start_time": "2022-01-12T16:34:04.321Z"
   },
   {
    "duration": 18,
    "start_time": "2022-01-12T16:34:04.331Z"
   },
   {
    "duration": 11,
    "start_time": "2022-01-12T16:34:04.352Z"
   },
   {
    "duration": 8,
    "start_time": "2022-01-12T16:34:04.365Z"
   },
   {
    "duration": 46,
    "start_time": "2022-01-12T16:34:04.375Z"
   },
   {
    "duration": 69,
    "start_time": "2022-01-12T16:34:04.423Z"
   },
   {
    "duration": 35,
    "start_time": "2022-01-12T16:34:04.494Z"
   },
   {
    "duration": 13,
    "start_time": "2022-01-12T16:34:04.532Z"
   },
   {
    "duration": 554,
    "start_time": "2022-01-12T16:34:04.548Z"
   },
   {
    "duration": 41,
    "start_time": "2022-01-12T16:34:05.105Z"
   },
   {
    "duration": 16,
    "start_time": "2022-01-12T16:34:05.148Z"
   },
   {
    "duration": 1081,
    "start_time": "2022-01-12T16:34:05.170Z"
   },
   {
    "duration": 266,
    "start_time": "2022-01-12T16:34:06.255Z"
   },
   {
    "duration": 8,
    "start_time": "2022-01-12T16:34:06.524Z"
   },
   {
    "duration": 352,
    "start_time": "2022-01-12T16:34:06.535Z"
   },
   {
    "duration": 586,
    "start_time": "2022-01-12T16:34:06.890Z"
   },
   {
    "duration": 49,
    "start_time": "2022-01-12T16:34:07.479Z"
   },
   {
    "duration": 555,
    "start_time": "2022-01-12T16:34:07.531Z"
   },
   {
    "duration": 532,
    "start_time": "2022-01-12T16:34:08.088Z"
   },
   {
    "duration": 622,
    "start_time": "2022-01-12T16:34:08.624Z"
   },
   {
    "duration": 613,
    "start_time": "2022-01-12T16:34:09.249Z"
   },
   {
    "duration": 375,
    "start_time": "2022-01-12T16:34:09.866Z"
   },
   {
    "duration": 5,
    "start_time": "2022-01-12T16:34:10.244Z"
   },
   {
    "duration": 7,
    "start_time": "2022-01-12T16:34:10.252Z"
   },
   {
    "duration": 7,
    "start_time": "2022-01-12T16:34:10.261Z"
   },
   {
    "duration": 6,
    "start_time": "2022-01-12T16:34:10.271Z"
   },
   {
    "duration": 290,
    "start_time": "2022-01-12T16:34:10.318Z"
   },
   {
    "duration": 24,
    "start_time": "2022-01-12T16:34:10.610Z"
   },
   {
    "duration": 1060,
    "start_time": "2022-01-12T16:34:10.637Z"
   },
   {
    "duration": 375,
    "start_time": "2022-01-12T16:34:11.700Z"
   },
   {
    "duration": 125,
    "start_time": "2022-01-12T16:34:12.078Z"
   },
   {
    "duration": 32,
    "start_time": "2022-01-12T16:34:12.206Z"
   },
   {
    "duration": 1069,
    "start_time": "2022-01-12T16:34:12.241Z"
   },
   {
    "duration": 507,
    "start_time": "2022-01-12T16:34:13.316Z"
   },
   {
    "duration": 231,
    "start_time": "2022-01-12T16:34:13.826Z"
   },
   {
    "duration": 280,
    "start_time": "2022-01-12T16:34:14.059Z"
   },
   {
    "duration": 311,
    "start_time": "2022-01-12T16:34:14.341Z"
   },
   {
    "duration": 277,
    "start_time": "2022-01-12T16:34:14.654Z"
   },
   {
    "duration": 7,
    "start_time": "2022-01-12T16:34:14.934Z"
   },
   {
    "duration": 18,
    "start_time": "2022-01-12T16:34:14.944Z"
   },
   {
    "duration": 512,
    "start_time": "2022-01-12T16:34:14.965Z"
   },
   {
    "duration": 59,
    "start_time": "2022-01-12T16:34:15.480Z"
   },
   {
    "duration": 13,
    "start_time": "2022-01-12T16:34:15.542Z"
   },
   {
    "duration": 475,
    "start_time": "2022-01-12T16:34:15.557Z"
   },
   {
    "duration": 214,
    "start_time": "2022-01-12T16:34:16.035Z"
   },
   {
    "duration": 151,
    "start_time": "2022-01-12T16:34:16.253Z"
   },
   {
    "duration": 25,
    "start_time": "2022-01-12T16:34:16.407Z"
   },
   {
    "duration": 16,
    "start_time": "2022-01-12T16:34:16.435Z"
   },
   {
    "duration": 77,
    "start_time": "2022-01-12T16:53:01.392Z"
   },
   {
    "duration": 15,
    "start_time": "2022-01-12T16:53:45.872Z"
   },
   {
    "duration": 9,
    "start_time": "2022-01-12T16:53:57.909Z"
   },
   {
    "duration": 5,
    "start_time": "2022-01-12T16:54:10.446Z"
   },
   {
    "duration": 6,
    "start_time": "2022-01-12T16:54:11.886Z"
   },
   {
    "duration": 17,
    "start_time": "2022-01-12T16:54:16.196Z"
   },
   {
    "duration": 10,
    "start_time": "2022-01-12T16:55:09.026Z"
   },
   {
    "duration": 21,
    "start_time": "2022-01-12T16:55:34.353Z"
   },
   {
    "duration": 254,
    "start_time": "2022-01-12T16:55:49.515Z"
   },
   {
    "duration": 24,
    "start_time": "2022-01-12T16:55:49.772Z"
   },
   {
    "duration": 39,
    "start_time": "2022-01-12T16:55:49.816Z"
   },
   {
    "duration": 72,
    "start_time": "2022-01-12T16:55:49.859Z"
   },
   {
    "duration": 24,
    "start_time": "2022-01-12T16:55:49.934Z"
   },
   {
    "duration": 5,
    "start_time": "2022-01-12T16:55:49.960Z"
   },
   {
    "duration": 9,
    "start_time": "2022-01-12T16:55:49.967Z"
   },
   {
    "duration": 9,
    "start_time": "2022-01-12T16:55:50.016Z"
   },
   {
    "duration": 15,
    "start_time": "2022-01-12T16:55:50.028Z"
   },
   {
    "duration": 10,
    "start_time": "2022-01-12T16:55:50.046Z"
   },
   {
    "duration": 7,
    "start_time": "2022-01-12T16:55:50.058Z"
   },
   {
    "duration": 52,
    "start_time": "2022-01-12T16:55:50.067Z"
   },
   {
    "duration": 7,
    "start_time": "2022-01-12T16:55:50.121Z"
   },
   {
    "duration": 5,
    "start_time": "2022-01-12T16:55:50.130Z"
   },
   {
    "duration": 7,
    "start_time": "2022-01-12T16:55:50.137Z"
   },
   {
    "duration": 8,
    "start_time": "2022-01-12T16:55:50.146Z"
   },
   {
    "duration": 69,
    "start_time": "2022-01-12T16:55:50.156Z"
   },
   {
    "duration": 18,
    "start_time": "2022-01-12T16:55:50.227Z"
   },
   {
    "duration": 9,
    "start_time": "2022-01-12T16:55:50.248Z"
   },
   {
    "duration": 8,
    "start_time": "2022-01-12T16:55:50.259Z"
   },
   {
    "duration": 74,
    "start_time": "2022-01-12T16:55:50.270Z"
   },
   {
    "duration": 16,
    "start_time": "2022-01-12T16:55:50.346Z"
   },
   {
    "duration": 7,
    "start_time": "2022-01-12T16:55:50.368Z"
   },
   {
    "duration": 40,
    "start_time": "2022-01-12T16:55:50.378Z"
   },
   {
    "duration": 461,
    "start_time": "2022-01-12T16:55:50.421Z"
   },
   {
    "duration": 47,
    "start_time": "2022-01-12T16:55:50.885Z"
   },
   {
    "duration": 16,
    "start_time": "2022-01-12T16:55:50.934Z"
   },
   {
    "duration": 1048,
    "start_time": "2022-01-12T16:55:50.953Z"
   },
   {
    "duration": 279,
    "start_time": "2022-01-12T16:55:52.004Z"
   },
   {
    "duration": 9,
    "start_time": "2022-01-12T16:55:52.286Z"
   },
   {
    "duration": 376,
    "start_time": "2022-01-12T16:55:52.298Z"
   },
   {
    "duration": 457,
    "start_time": "2022-01-12T16:55:52.677Z"
   },
   {
    "duration": 25,
    "start_time": "2022-01-12T16:55:53.136Z"
   },
   {
    "duration": 391,
    "start_time": "2022-01-12T16:55:53.164Z"
   },
   {
    "duration": 376,
    "start_time": "2022-01-12T16:55:53.557Z"
   },
   {
    "duration": 389,
    "start_time": "2022-01-12T16:55:53.936Z"
   },
   {
    "duration": 470,
    "start_time": "2022-01-12T16:55:54.328Z"
   },
   {
    "duration": 374,
    "start_time": "2022-01-12T16:55:54.801Z"
   },
   {
    "duration": 6,
    "start_time": "2022-01-12T16:55:55.178Z"
   },
   {
    "duration": 6,
    "start_time": "2022-01-12T16:55:55.186Z"
   },
   {
    "duration": 7,
    "start_time": "2022-01-12T16:55:55.217Z"
   },
   {
    "duration": 5,
    "start_time": "2022-01-12T16:55:55.227Z"
   },
   {
    "duration": 283,
    "start_time": "2022-01-12T16:55:55.234Z"
   },
   {
    "duration": 13,
    "start_time": "2022-01-12T16:55:55.520Z"
   },
   {
    "duration": 919,
    "start_time": "2022-01-12T16:55:55.535Z"
   },
   {
    "duration": 236,
    "start_time": "2022-01-12T16:55:56.457Z"
   },
   {
    "duration": 105,
    "start_time": "2022-01-12T16:55:56.695Z"
   },
   {
    "duration": 28,
    "start_time": "2022-01-12T16:55:56.802Z"
   },
   {
    "duration": 701,
    "start_time": "2022-01-12T16:55:56.833Z"
   },
   {
    "duration": 469,
    "start_time": "2022-01-12T16:55:57.537Z"
   },
   {
    "duration": 228,
    "start_time": "2022-01-12T16:55:58.008Z"
   },
   {
    "duration": 249,
    "start_time": "2022-01-12T16:55:58.239Z"
   },
   {
    "duration": 305,
    "start_time": "2022-01-12T16:55:58.491Z"
   },
   {
    "duration": 257,
    "start_time": "2022-01-12T16:55:58.799Z"
   },
   {
    "duration": 5,
    "start_time": "2022-01-12T16:55:59.058Z"
   },
   {
    "duration": 17,
    "start_time": "2022-01-12T16:55:59.066Z"
   },
   {
    "duration": 473,
    "start_time": "2022-01-12T16:55:59.085Z"
   },
   {
    "duration": 34,
    "start_time": "2022-01-12T16:55:59.561Z"
   },
   {
    "duration": 32,
    "start_time": "2022-01-12T16:55:59.597Z"
   },
   {
    "duration": 474,
    "start_time": "2022-01-12T16:55:59.631Z"
   },
   {
    "duration": 259,
    "start_time": "2022-01-12T16:56:00.108Z"
   },
   {
    "duration": 150,
    "start_time": "2022-01-12T16:56:00.371Z"
   },
   {
    "duration": 18,
    "start_time": "2022-01-12T16:56:00.523Z"
   },
   {
    "duration": 22,
    "start_time": "2022-01-12T16:56:00.543Z"
   },
   {
    "duration": 397,
    "start_time": "2022-01-12T16:56:28.763Z"
   },
   {
    "duration": 6,
    "start_time": "2022-01-12T16:56:33.673Z"
   },
   {
    "duration": 12,
    "start_time": "2022-01-12T17:03:28.335Z"
   },
   {
    "duration": 7,
    "start_time": "2022-01-12T17:04:52.356Z"
   },
   {
    "duration": 6,
    "start_time": "2022-01-12T17:05:43.295Z"
   },
   {
    "duration": 8,
    "start_time": "2022-01-12T17:06:26.584Z"
   },
   {
    "duration": 7,
    "start_time": "2022-01-12T17:06:55.668Z"
   },
   {
    "duration": 5,
    "start_time": "2022-01-12T17:06:56.080Z"
   },
   {
    "duration": 7,
    "start_time": "2022-01-12T17:06:56.572Z"
   },
   {
    "duration": 179,
    "start_time": "2022-01-12T17:07:04.210Z"
   },
   {
    "duration": 15,
    "start_time": "2022-01-12T17:07:04.416Z"
   },
   {
    "duration": 26,
    "start_time": "2022-01-12T17:07:04.433Z"
   },
   {
    "duration": 74,
    "start_time": "2022-01-12T17:07:04.462Z"
   },
   {
    "duration": 24,
    "start_time": "2022-01-12T17:07:04.539Z"
   },
   {
    "duration": 8,
    "start_time": "2022-01-12T17:07:04.566Z"
   },
   {
    "duration": 41,
    "start_time": "2022-01-12T17:07:04.577Z"
   },
   {
    "duration": 9,
    "start_time": "2022-01-12T17:07:04.621Z"
   },
   {
    "duration": 16,
    "start_time": "2022-01-12T17:07:04.634Z"
   },
   {
    "duration": 6,
    "start_time": "2022-01-12T17:07:04.653Z"
   },
   {
    "duration": 8,
    "start_time": "2022-01-12T17:07:04.662Z"
   },
   {
    "duration": 7,
    "start_time": "2022-01-12T17:07:04.716Z"
   },
   {
    "duration": 7,
    "start_time": "2022-01-12T17:07:04.725Z"
   },
   {
    "duration": 6,
    "start_time": "2022-01-12T17:07:04.735Z"
   },
   {
    "duration": 8,
    "start_time": "2022-01-12T17:07:04.744Z"
   },
   {
    "duration": 8,
    "start_time": "2022-01-12T17:07:04.755Z"
   },
   {
    "duration": 19,
    "start_time": "2022-01-12T17:07:04.818Z"
   },
   {
    "duration": 9,
    "start_time": "2022-01-12T17:07:04.839Z"
   },
   {
    "duration": 7,
    "start_time": "2022-01-12T17:07:04.851Z"
   },
   {
    "duration": 7,
    "start_time": "2022-01-12T17:07:04.861Z"
   },
   {
    "duration": 102,
    "start_time": "2022-01-12T17:07:04.870Z"
   },
   {
    "duration": 15,
    "start_time": "2022-01-12T17:07:04.974Z"
   },
   {
    "duration": 26,
    "start_time": "2022-01-12T17:07:04.991Z"
   },
   {
    "duration": 6,
    "start_time": "2022-01-12T17:07:05.019Z"
   },
   {
    "duration": 7,
    "start_time": "2022-01-12T17:07:05.028Z"
   },
   {
    "duration": 12,
    "start_time": "2022-01-12T17:07:05.037Z"
   },
   {
    "duration": 749,
    "start_time": "2022-01-12T17:07:05.061Z"
   },
   {
    "duration": 59,
    "start_time": "2022-01-12T17:07:05.820Z"
   },
   {
    "duration": 43,
    "start_time": "2022-01-12T17:07:05.882Z"
   },
   {
    "duration": 1816,
    "start_time": "2022-01-12T17:07:05.928Z"
   },
   {
    "duration": 262,
    "start_time": "2022-01-12T17:07:07.747Z"
   },
   {
    "duration": 8,
    "start_time": "2022-01-12T17:07:08.012Z"
   },
   {
    "duration": 342,
    "start_time": "2022-01-12T17:07:08.022Z"
   },
   {
    "duration": 335,
    "start_time": "2022-01-12T17:07:08.366Z"
   },
   {
    "duration": 36,
    "start_time": "2022-01-12T17:07:08.703Z"
   },
   {
    "duration": 375,
    "start_time": "2022-01-12T17:07:08.742Z"
   },
   {
    "duration": 366,
    "start_time": "2022-01-12T17:07:09.119Z"
   },
   {
    "duration": 377,
    "start_time": "2022-01-12T17:07:09.487Z"
   },
   {
    "duration": 369,
    "start_time": "2022-01-12T17:07:09.866Z"
   },
   {
    "duration": 372,
    "start_time": "2022-01-12T17:07:10.238Z"
   },
   {
    "duration": 7,
    "start_time": "2022-01-12T17:07:10.618Z"
   },
   {
    "duration": 9,
    "start_time": "2022-01-12T17:07:10.628Z"
   },
   {
    "duration": 9,
    "start_time": "2022-01-12T17:07:10.640Z"
   },
   {
    "duration": 7,
    "start_time": "2022-01-12T17:07:10.653Z"
   },
   {
    "duration": 408,
    "start_time": "2022-01-12T17:07:10.662Z"
   },
   {
    "duration": 13,
    "start_time": "2022-01-12T17:07:11.073Z"
   },
   {
    "duration": 553,
    "start_time": "2022-01-12T17:07:11.088Z"
   },
   {
    "duration": 238,
    "start_time": "2022-01-12T17:07:11.644Z"
   },
   {
    "duration": 72,
    "start_time": "2022-01-12T17:07:11.884Z"
   },
   {
    "duration": 14,
    "start_time": "2022-01-12T17:07:11.958Z"
   },
   {
    "duration": 709,
    "start_time": "2022-01-12T17:07:11.975Z"
   },
   {
    "duration": 492,
    "start_time": "2022-01-12T17:07:12.688Z"
   },
   {
    "duration": 236,
    "start_time": "2022-01-12T17:07:13.183Z"
   },
   {
    "duration": 259,
    "start_time": "2022-01-12T17:07:13.422Z"
   },
   {
    "duration": 316,
    "start_time": "2022-01-12T17:07:13.684Z"
   },
   {
    "duration": 260,
    "start_time": "2022-01-12T17:07:14.002Z"
   },
   {
    "duration": 5,
    "start_time": "2022-01-12T17:07:14.264Z"
   },
   {
    "duration": 16,
    "start_time": "2022-01-12T17:07:14.271Z"
   },
   {
    "duration": 711,
    "start_time": "2022-01-12T17:07:14.290Z"
   },
   {
    "duration": 51,
    "start_time": "2022-01-12T17:07:15.016Z"
   },
   {
    "duration": 18,
    "start_time": "2022-01-12T17:07:15.070Z"
   },
   {
    "duration": 691,
    "start_time": "2022-01-12T17:07:15.092Z"
   },
   {
    "duration": 134,
    "start_time": "2022-01-12T17:07:15.785Z"
   },
   {
    "duration": 143,
    "start_time": "2022-01-12T17:07:15.922Z"
   },
   {
    "duration": 16,
    "start_time": "2022-01-12T17:07:16.068Z"
   },
   {
    "duration": 43,
    "start_time": "2022-01-12T17:07:16.086Z"
   },
   {
    "duration": 7,
    "start_time": "2022-01-12T17:09:32.582Z"
   },
   {
    "duration": 9,
    "start_time": "2022-01-12T17:10:26.593Z"
   },
   {
    "duration": 8,
    "start_time": "2022-01-12T17:10:29.194Z"
   },
   {
    "duration": 8,
    "start_time": "2022-01-12T17:10:29.552Z"
   },
   {
    "duration": 105,
    "start_time": "2022-01-12T17:16:07.492Z"
   },
   {
    "duration": 87,
    "start_time": "2022-01-12T17:17:02.369Z"
   },
   {
    "duration": 8,
    "start_time": "2022-01-12T17:19:52.270Z"
   },
   {
    "duration": 6,
    "start_time": "2022-01-12T17:20:07.385Z"
   },
   {
    "duration": 7,
    "start_time": "2022-01-12T17:20:28.891Z"
   },
   {
    "duration": 10,
    "start_time": "2022-01-12T17:20:32.684Z"
   },
   {
    "duration": 262,
    "start_time": "2022-01-12T17:20:40.208Z"
   },
   {
    "duration": 24,
    "start_time": "2022-01-12T17:20:40.474Z"
   },
   {
    "duration": 41,
    "start_time": "2022-01-12T17:20:40.519Z"
   },
   {
    "duration": 76,
    "start_time": "2022-01-12T17:20:40.563Z"
   },
   {
    "duration": 36,
    "start_time": "2022-01-12T17:20:40.642Z"
   },
   {
    "duration": 7,
    "start_time": "2022-01-12T17:20:40.682Z"
   },
   {
    "duration": 10,
    "start_time": "2022-01-12T17:20:40.718Z"
   },
   {
    "duration": 10,
    "start_time": "2022-01-12T17:20:40.731Z"
   },
   {
    "duration": 19,
    "start_time": "2022-01-12T17:20:40.747Z"
   },
   {
    "duration": 12,
    "start_time": "2022-01-12T17:20:40.769Z"
   },
   {
    "duration": 5,
    "start_time": "2022-01-12T17:20:40.818Z"
   },
   {
    "duration": 6,
    "start_time": "2022-01-12T17:20:40.826Z"
   },
   {
    "duration": 8,
    "start_time": "2022-01-12T17:20:40.834Z"
   },
   {
    "duration": 8,
    "start_time": "2022-01-12T17:20:40.845Z"
   },
   {
    "duration": 10,
    "start_time": "2022-01-12T17:20:40.855Z"
   },
   {
    "duration": 55,
    "start_time": "2022-01-12T17:20:40.867Z"
   },
   {
    "duration": 17,
    "start_time": "2022-01-12T17:20:40.924Z"
   },
   {
    "duration": 8,
    "start_time": "2022-01-12T17:20:40.943Z"
   },
   {
    "duration": 8,
    "start_time": "2022-01-12T17:20:40.953Z"
   },
   {
    "duration": 7,
    "start_time": "2022-01-12T17:20:40.963Z"
   },
   {
    "duration": 93,
    "start_time": "2022-01-12T17:20:40.972Z"
   },
   {
    "duration": 16,
    "start_time": "2022-01-12T17:20:41.067Z"
   },
   {
    "duration": 6,
    "start_time": "2022-01-12T17:20:41.085Z"
   },
   {
    "duration": 27,
    "start_time": "2022-01-12T17:20:41.093Z"
   },
   {
    "duration": 9,
    "start_time": "2022-01-12T17:20:41.124Z"
   },
   {
    "duration": 7,
    "start_time": "2022-01-12T17:20:41.136Z"
   },
   {
    "duration": 6,
    "start_time": "2022-01-12T17:20:41.154Z"
   },
   {
    "duration": 52,
    "start_time": "2022-01-12T17:20:41.165Z"
   },
   {
    "duration": 269,
    "start_time": "2022-01-12T17:20:41.220Z"
   },
   {
    "duration": 229,
    "start_time": "2022-01-12T17:20:41.264Z"
   },
   {
    "duration": 228,
    "start_time": "2022-01-12T17:20:41.267Z"
   },
   {
    "duration": 222,
    "start_time": "2022-01-12T17:20:41.275Z"
   },
   {
    "duration": 221,
    "start_time": "2022-01-12T17:20:41.278Z"
   },
   {
    "duration": 221,
    "start_time": "2022-01-12T17:20:41.280Z"
   },
   {
    "duration": 220,
    "start_time": "2022-01-12T17:20:41.283Z"
   },
   {
    "duration": 215,
    "start_time": "2022-01-12T17:20:41.290Z"
   },
   {
    "duration": 214,
    "start_time": "2022-01-12T17:20:41.293Z"
   },
   {
    "duration": 214,
    "start_time": "2022-01-12T17:20:41.295Z"
   },
   {
    "duration": 213,
    "start_time": "2022-01-12T17:20:41.298Z"
   },
   {
    "duration": 208,
    "start_time": "2022-01-12T17:20:41.305Z"
   },
   {
    "duration": 207,
    "start_time": "2022-01-12T17:20:41.308Z"
   },
   {
    "duration": 207,
    "start_time": "2022-01-12T17:20:41.311Z"
   },
   {
    "duration": 207,
    "start_time": "2022-01-12T17:20:41.313Z"
   },
   {
    "duration": 208,
    "start_time": "2022-01-12T17:20:41.315Z"
   },
   {
    "duration": 203,
    "start_time": "2022-01-12T17:20:41.322Z"
   },
   {
    "duration": 202,
    "start_time": "2022-01-12T17:20:41.325Z"
   },
   {
    "duration": 201,
    "start_time": "2022-01-12T17:20:41.328Z"
   },
   {
    "duration": 201,
    "start_time": "2022-01-12T17:20:41.330Z"
   },
   {
    "duration": 201,
    "start_time": "2022-01-12T17:20:41.332Z"
   },
   {
    "duration": 201,
    "start_time": "2022-01-12T17:20:41.334Z"
   },
   {
    "duration": 201,
    "start_time": "2022-01-12T17:20:41.337Z"
   },
   {
    "duration": 201,
    "start_time": "2022-01-12T17:20:41.339Z"
   },
   {
    "duration": 159,
    "start_time": "2022-01-12T17:20:41.382Z"
   },
   {
    "duration": 131,
    "start_time": "2022-01-12T17:20:41.411Z"
   },
   {
    "duration": 130,
    "start_time": "2022-01-12T17:20:41.413Z"
   },
   {
    "duration": 129,
    "start_time": "2022-01-12T17:20:41.416Z"
   },
   {
    "duration": 126,
    "start_time": "2022-01-12T17:20:41.420Z"
   },
   {
    "duration": 125,
    "start_time": "2022-01-12T17:20:41.422Z"
   },
   {
    "duration": 90,
    "start_time": "2022-01-12T17:20:41.459Z"
   },
   {
    "duration": 89,
    "start_time": "2022-01-12T17:20:41.461Z"
   },
   {
    "duration": 88,
    "start_time": "2022-01-12T17:20:41.463Z"
   },
   {
    "duration": 86,
    "start_time": "2022-01-12T17:20:41.467Z"
   },
   {
    "duration": 84,
    "start_time": "2022-01-12T17:20:41.470Z"
   },
   {
    "duration": 85,
    "start_time": "2022-01-12T17:20:41.471Z"
   },
   {
    "duration": 143,
    "start_time": "2022-01-12T17:20:41.474Z"
   },
   {
    "duration": 143,
    "start_time": "2022-01-12T17:20:41.476Z"
   },
   {
    "duration": 142,
    "start_time": "2022-01-12T17:20:41.479Z"
   },
   {
    "duration": 141,
    "start_time": "2022-01-12T17:20:41.481Z"
   },
   {
    "duration": 139,
    "start_time": "2022-01-12T17:20:41.484Z"
   },
   {
    "duration": 139,
    "start_time": "2022-01-12T17:20:41.486Z"
   },
   {
    "duration": 138,
    "start_time": "2022-01-12T17:20:41.488Z"
   },
   {
    "duration": 3,
    "start_time": "2022-01-12T17:21:25.652Z"
   },
   {
    "duration": 8,
    "start_time": "2022-01-12T17:21:26.519Z"
   },
   {
    "duration": 5,
    "start_time": "2022-01-12T17:21:34.906Z"
   },
   {
    "duration": 200,
    "start_time": "2022-01-12T17:21:39.078Z"
   },
   {
    "duration": 37,
    "start_time": "2022-01-12T17:21:39.281Z"
   },
   {
    "duration": 24,
    "start_time": "2022-01-12T17:21:39.321Z"
   },
   {
    "duration": 30,
    "start_time": "2022-01-12T17:21:39.348Z"
   },
   {
    "duration": 55,
    "start_time": "2022-01-12T17:21:39.381Z"
   },
   {
    "duration": 10,
    "start_time": "2022-01-12T17:21:39.438Z"
   },
   {
    "duration": 12,
    "start_time": "2022-01-12T17:21:39.450Z"
   },
   {
    "duration": 14,
    "start_time": "2022-01-12T17:21:39.466Z"
   },
   {
    "duration": 17,
    "start_time": "2022-01-12T17:21:39.519Z"
   },
   {
    "duration": 8,
    "start_time": "2022-01-12T17:21:39.540Z"
   },
   {
    "duration": 6,
    "start_time": "2022-01-12T17:21:39.551Z"
   },
   {
    "duration": 7,
    "start_time": "2022-01-12T17:21:39.559Z"
   },
   {
    "duration": 6,
    "start_time": "2022-01-12T17:21:39.568Z"
   },
   {
    "duration": 8,
    "start_time": "2022-01-12T17:21:39.617Z"
   },
   {
    "duration": 7,
    "start_time": "2022-01-12T17:21:39.627Z"
   },
   {
    "duration": 11,
    "start_time": "2022-01-12T17:21:39.637Z"
   },
   {
    "duration": 16,
    "start_time": "2022-01-12T17:21:39.651Z"
   },
   {
    "duration": 47,
    "start_time": "2022-01-12T17:21:39.670Z"
   },
   {
    "duration": 16,
    "start_time": "2022-01-12T17:21:39.720Z"
   },
   {
    "duration": 5,
    "start_time": "2022-01-12T17:21:39.738Z"
   },
   {
    "duration": 87,
    "start_time": "2022-01-12T17:21:39.746Z"
   },
   {
    "duration": 14,
    "start_time": "2022-01-12T17:21:39.835Z"
   },
   {
    "duration": 6,
    "start_time": "2022-01-12T17:21:39.856Z"
   },
   {
    "duration": 5,
    "start_time": "2022-01-12T17:21:39.866Z"
   },
   {
    "duration": 49,
    "start_time": "2022-01-12T17:21:39.874Z"
   },
   {
    "duration": 7,
    "start_time": "2022-01-12T17:21:39.926Z"
   },
   {
    "duration": 6,
    "start_time": "2022-01-12T17:21:39.936Z"
   },
   {
    "duration": 11,
    "start_time": "2022-01-12T17:21:39.945Z"
   },
   {
    "duration": 4,
    "start_time": "2022-01-12T17:21:39.959Z"
   },
   {
    "duration": 7,
    "start_time": "2022-01-12T17:21:39.965Z"
   },
   {
    "duration": 11,
    "start_time": "2022-01-12T17:21:40.019Z"
   },
   {
    "duration": 436,
    "start_time": "2022-01-12T17:21:40.033Z"
   },
   {
    "duration": 46,
    "start_time": "2022-01-12T17:21:40.471Z"
   },
   {
    "duration": 16,
    "start_time": "2022-01-12T17:21:40.520Z"
   },
   {
    "duration": 980,
    "start_time": "2022-01-12T17:21:40.538Z"
   },
   {
    "duration": 234,
    "start_time": "2022-01-12T17:21:41.521Z"
   },
   {
    "duration": 7,
    "start_time": "2022-01-12T17:21:41.757Z"
   },
   {
    "duration": 352,
    "start_time": "2022-01-12T17:21:41.766Z"
   },
   {
    "duration": 516,
    "start_time": "2022-01-12T17:21:42.120Z"
   },
   {
    "duration": 26,
    "start_time": "2022-01-12T17:21:42.639Z"
   },
   {
    "duration": 469,
    "start_time": "2022-01-12T17:21:42.667Z"
   },
   {
    "duration": 363,
    "start_time": "2022-01-12T17:21:43.138Z"
   },
   {
    "duration": 371,
    "start_time": "2022-01-12T17:21:43.503Z"
   },
   {
    "duration": 392,
    "start_time": "2022-01-12T17:21:43.876Z"
   },
   {
    "duration": 389,
    "start_time": "2022-01-12T17:21:44.270Z"
   },
   {
    "duration": 6,
    "start_time": "2022-01-12T17:21:44.662Z"
   },
   {
    "duration": 11,
    "start_time": "2022-01-12T17:21:44.670Z"
   },
   {
    "duration": 35,
    "start_time": "2022-01-12T17:21:44.684Z"
   },
   {
    "duration": 7,
    "start_time": "2022-01-12T17:21:44.722Z"
   },
   {
    "duration": 255,
    "start_time": "2022-01-12T17:21:44.732Z"
   },
   {
    "duration": 27,
    "start_time": "2022-01-12T17:21:44.990Z"
   },
   {
    "duration": 562,
    "start_time": "2022-01-12T17:21:45.020Z"
   },
   {
    "duration": 367,
    "start_time": "2022-01-12T17:21:45.585Z"
   },
   {
    "duration": 115,
    "start_time": "2022-01-12T17:21:45.955Z"
   },
   {
    "duration": 17,
    "start_time": "2022-01-12T17:21:46.073Z"
   },
   {
    "duration": 777,
    "start_time": "2022-01-12T17:21:46.093Z"
   },
   {
    "duration": 471,
    "start_time": "2022-01-12T17:21:46.873Z"
   },
   {
    "duration": 240,
    "start_time": "2022-01-12T17:21:47.347Z"
   },
   {
    "duration": 266,
    "start_time": "2022-01-12T17:21:47.590Z"
   },
   {
    "duration": 314,
    "start_time": "2022-01-12T17:21:47.858Z"
   },
   {
    "duration": 250,
    "start_time": "2022-01-12T17:21:48.174Z"
   },
   {
    "duration": 5,
    "start_time": "2022-01-12T17:21:48.426Z"
   },
   {
    "duration": 18,
    "start_time": "2022-01-12T17:21:48.433Z"
   },
   {
    "duration": 484,
    "start_time": "2022-01-12T17:21:48.453Z"
   },
   {
    "duration": 31,
    "start_time": "2022-01-12T17:21:48.939Z"
   },
   {
    "duration": 12,
    "start_time": "2022-01-12T17:21:48.972Z"
   },
   {
    "duration": 459,
    "start_time": "2022-01-12T17:21:49.018Z"
   },
   {
    "duration": 137,
    "start_time": "2022-01-12T17:21:49.484Z"
   },
   {
    "duration": 153,
    "start_time": "2022-01-12T17:21:49.623Z"
   },
   {
    "duration": 16,
    "start_time": "2022-01-12T17:21:49.778Z"
   },
   {
    "duration": 34,
    "start_time": "2022-01-12T17:21:49.796Z"
   },
   {
    "duration": 5,
    "start_time": "2022-01-12T17:24:00.764Z"
   },
   {
    "duration": 7,
    "start_time": "2022-01-12T17:24:01.364Z"
   },
   {
    "duration": 6,
    "start_time": "2022-01-12T17:25:43.425Z"
   },
   {
    "duration": 8,
    "start_time": "2022-01-12T17:25:49.231Z"
   },
   {
    "duration": 5,
    "start_time": "2022-01-12T17:26:35.245Z"
   },
   {
    "duration": 5,
    "start_time": "2022-01-12T17:26:57.217Z"
   },
   {
    "duration": 7,
    "start_time": "2022-01-12T17:27:02.489Z"
   },
   {
    "duration": 5,
    "start_time": "2022-01-12T17:27:13.464Z"
   },
   {
    "duration": 6,
    "start_time": "2022-01-12T17:28:16.331Z"
   },
   {
    "duration": 10,
    "start_time": "2022-01-12T17:34:16.092Z"
   },
   {
    "duration": 262,
    "start_time": "2022-01-12T17:41:30.803Z"
   },
   {
    "duration": 29296,
    "start_time": "2022-01-12T17:41:53.215Z"
   },
   {
    "duration": 29831,
    "start_time": "2022-01-12T17:42:49.262Z"
   },
   {
    "duration": 178,
    "start_time": "2022-01-12T17:43:26.413Z"
   },
   {
    "duration": 15,
    "start_time": "2022-01-12T17:43:26.617Z"
   },
   {
    "duration": 30,
    "start_time": "2022-01-12T17:43:26.637Z"
   },
   {
    "duration": 83,
    "start_time": "2022-01-12T17:43:26.670Z"
   },
   {
    "duration": 23,
    "start_time": "2022-01-12T17:43:26.756Z"
   },
   {
    "duration": 36,
    "start_time": "2022-01-12T17:43:26.781Z"
   },
   {
    "duration": 6,
    "start_time": "2022-01-12T17:43:26.820Z"
   },
   {
    "duration": 16,
    "start_time": "2022-01-12T17:43:26.829Z"
   },
   {
    "duration": 15,
    "start_time": "2022-01-12T17:43:26.850Z"
   },
   {
    "duration": 49,
    "start_time": "2022-01-12T17:43:26.870Z"
   },
   {
    "duration": 14,
    "start_time": "2022-01-12T17:43:26.923Z"
   },
   {
    "duration": 9,
    "start_time": "2022-01-12T17:43:26.940Z"
   },
   {
    "duration": 6,
    "start_time": "2022-01-12T17:43:26.951Z"
   },
   {
    "duration": 9,
    "start_time": "2022-01-12T17:43:26.959Z"
   },
   {
    "duration": 49,
    "start_time": "2022-01-12T17:43:26.970Z"
   },
   {
    "duration": 15,
    "start_time": "2022-01-12T17:43:27.021Z"
   },
   {
    "duration": 16,
    "start_time": "2022-01-12T17:43:27.039Z"
   },
   {
    "duration": 8,
    "start_time": "2022-01-12T17:43:27.058Z"
   },
   {
    "duration": 10,
    "start_time": "2022-01-12T17:43:27.069Z"
   },
   {
    "duration": 37,
    "start_time": "2022-01-12T17:43:27.081Z"
   },
   {
    "duration": 62,
    "start_time": "2022-01-12T17:43:27.121Z"
   },
   {
    "duration": 36,
    "start_time": "2022-01-12T17:43:27.185Z"
   },
   {
    "duration": 7,
    "start_time": "2022-01-12T17:43:27.224Z"
   },
   {
    "duration": 9,
    "start_time": "2022-01-12T17:43:27.234Z"
   },
   {
    "duration": 6,
    "start_time": "2022-01-12T17:43:27.246Z"
   },
   {
    "duration": 8,
    "start_time": "2022-01-12T17:43:27.255Z"
   },
   {
    "duration": 8,
    "start_time": "2022-01-12T17:43:27.322Z"
   },
   {
    "duration": 7,
    "start_time": "2022-01-12T17:43:27.334Z"
   },
   {
    "duration": 1097,
    "start_time": "2022-01-12T17:43:27.343Z"
   },
   {
    "duration": 206,
    "start_time": "2022-01-12T17:43:28.237Z"
   },
   {
    "duration": 204,
    "start_time": "2022-01-12T17:43:28.240Z"
   },
   {
    "duration": 204,
    "start_time": "2022-01-12T17:43:28.242Z"
   },
   {
    "duration": 203,
    "start_time": "2022-01-12T17:43:28.244Z"
   },
   {
    "duration": 202,
    "start_time": "2022-01-12T17:43:28.246Z"
   },
   {
    "duration": 201,
    "start_time": "2022-01-12T17:43:28.249Z"
   },
   {
    "duration": 195,
    "start_time": "2022-01-12T17:43:28.256Z"
   },
   {
    "duration": 194,
    "start_time": "2022-01-12T17:43:28.258Z"
   },
   {
    "duration": 194,
    "start_time": "2022-01-12T17:43:28.261Z"
   },
   {
    "duration": 194,
    "start_time": "2022-01-12T17:43:28.262Z"
   },
   {
    "duration": 191,
    "start_time": "2022-01-12T17:43:28.266Z"
   },
   {
    "duration": 186,
    "start_time": "2022-01-12T17:43:28.273Z"
   },
   {
    "duration": 185,
    "start_time": "2022-01-12T17:43:28.275Z"
   },
   {
    "duration": 185,
    "start_time": "2022-01-12T17:43:28.277Z"
   },
   {
    "duration": 184,
    "start_time": "2022-01-12T17:43:28.279Z"
   },
   {
    "duration": 184,
    "start_time": "2022-01-12T17:43:28.281Z"
   },
   {
    "duration": 177,
    "start_time": "2022-01-12T17:43:28.289Z"
   },
   {
    "duration": 177,
    "start_time": "2022-01-12T17:43:28.291Z"
   },
   {
    "duration": 175,
    "start_time": "2022-01-12T17:43:28.294Z"
   },
   {
    "duration": 174,
    "start_time": "2022-01-12T17:43:28.296Z"
   },
   {
    "duration": 167,
    "start_time": "2022-01-12T17:43:28.305Z"
   },
   {
    "duration": 165,
    "start_time": "2022-01-12T17:43:28.308Z"
   },
   {
    "duration": 164,
    "start_time": "2022-01-12T17:43:28.311Z"
   },
   {
    "duration": 162,
    "start_time": "2022-01-12T17:43:28.314Z"
   },
   {
    "duration": 156,
    "start_time": "2022-01-12T17:43:28.322Z"
   },
   {
    "duration": 155,
    "start_time": "2022-01-12T17:43:28.324Z"
   },
   {
    "duration": 154,
    "start_time": "2022-01-12T17:43:28.327Z"
   },
   {
    "duration": 153,
    "start_time": "2022-01-12T17:43:28.329Z"
   },
   {
    "duration": 151,
    "start_time": "2022-01-12T17:43:28.331Z"
   },
   {
    "duration": 145,
    "start_time": "2022-01-12T17:43:28.338Z"
   },
   {
    "duration": 181,
    "start_time": "2022-01-12T17:43:28.341Z"
   },
   {
    "duration": 181,
    "start_time": "2022-01-12T17:43:28.343Z"
   },
   {
    "duration": 182,
    "start_time": "2022-01-12T17:43:28.345Z"
   },
   {
    "duration": 182,
    "start_time": "2022-01-12T17:43:28.347Z"
   },
   {
    "duration": 176,
    "start_time": "2022-01-12T17:43:28.355Z"
   },
   {
    "duration": 176,
    "start_time": "2022-01-12T17:43:28.358Z"
   },
   {
    "duration": 175,
    "start_time": "2022-01-12T17:43:28.360Z"
   },
   {
    "duration": 175,
    "start_time": "2022-01-12T17:43:28.362Z"
   },
   {
    "duration": 174,
    "start_time": "2022-01-12T17:43:28.364Z"
   },
   {
    "duration": 167,
    "start_time": "2022-01-12T17:43:28.372Z"
   },
   {
    "duration": 158,
    "start_time": "2022-01-12T17:43:28.383Z"
   },
   {
    "duration": 135,
    "start_time": "2022-01-12T17:43:28.407Z"
   },
   {
    "duration": 123,
    "start_time": "2022-01-12T17:43:28.420Z"
   },
   {
    "duration": 120,
    "start_time": "2022-01-12T17:43:28.424Z"
   },
   {
    "duration": 119,
    "start_time": "2022-01-12T17:43:28.427Z"
   },
   {
    "duration": 11,
    "start_time": "2022-01-12T17:44:16.328Z"
   },
   {
    "duration": 5,
    "start_time": "2022-01-12T17:44:18.132Z"
   },
   {
    "duration": 6,
    "start_time": "2022-01-12T17:44:19.131Z"
   },
   {
    "duration": 11,
    "start_time": "2022-01-12T17:44:21.489Z"
   },
   {
    "duration": 47093,
    "start_time": "2022-01-12T17:44:22.550Z"
   },
   {
    "duration": 995,
    "start_time": "2022-01-12T17:45:42.250Z"
   },
   {
    "duration": 24,
    "start_time": "2022-01-12T17:47:05.626Z"
   },
   {
    "duration": 14,
    "start_time": "2022-01-12T17:47:26.487Z"
   },
   {
    "duration": 16,
    "start_time": "2022-01-12T17:47:37.121Z"
   },
   {
    "duration": 30,
    "start_time": "2022-01-12T17:47:56.548Z"
   },
   {
    "duration": 270,
    "start_time": "2022-01-12T17:48:19.680Z"
   },
   {
    "duration": 6,
    "start_time": "2022-01-12T17:48:31.481Z"
   },
   {
    "duration": 8,
    "start_time": "2022-01-12T17:48:50.251Z"
   },
   {
    "duration": 161,
    "start_time": "2022-01-12T17:49:00.692Z"
   },
   {
    "duration": 15,
    "start_time": "2022-01-12T17:49:00.872Z"
   },
   {
    "duration": 26,
    "start_time": "2022-01-12T17:49:01.775Z"
   },
   {
    "duration": 40,
    "start_time": "2022-01-12T17:49:01.997Z"
   },
   {
    "duration": 22,
    "start_time": "2022-01-12T17:49:02.293Z"
   },
   {
    "duration": 7,
    "start_time": "2022-01-12T17:49:02.653Z"
   },
   {
    "duration": 7,
    "start_time": "2022-01-12T17:49:03.287Z"
   },
   {
    "duration": 8,
    "start_time": "2022-01-12T17:49:03.858Z"
   },
   {
    "duration": 16,
    "start_time": "2022-01-12T17:49:04.463Z"
   },
   {
    "duration": 6,
    "start_time": "2022-01-12T17:49:05.036Z"
   },
   {
    "duration": 6,
    "start_time": "2022-01-12T17:49:05.564Z"
   },
   {
    "duration": 6,
    "start_time": "2022-01-12T17:49:05.934Z"
   },
   {
    "duration": 7,
    "start_time": "2022-01-12T17:49:06.118Z"
   },
   {
    "duration": 5,
    "start_time": "2022-01-12T17:49:06.286Z"
   },
   {
    "duration": 7,
    "start_time": "2022-01-12T17:49:06.468Z"
   },
   {
    "duration": 7,
    "start_time": "2022-01-12T17:49:06.666Z"
   },
   {
    "duration": 15,
    "start_time": "2022-01-12T17:49:06.848Z"
   },
   {
    "duration": 5,
    "start_time": "2022-01-12T17:49:07.011Z"
   },
   {
    "duration": 7,
    "start_time": "2022-01-12T17:49:07.177Z"
   },
   {
    "duration": 5,
    "start_time": "2022-01-12T17:49:07.357Z"
   },
   {
    "duration": 65,
    "start_time": "2022-01-12T17:49:07.547Z"
   },
   {
    "duration": 15,
    "start_time": "2022-01-12T17:49:08.087Z"
   },
   {
    "duration": 7,
    "start_time": "2022-01-12T17:49:09.953Z"
   },
   {
    "duration": 6,
    "start_time": "2022-01-12T17:49:10.385Z"
   },
   {
    "duration": 7,
    "start_time": "2022-01-12T17:49:10.678Z"
   },
   {
    "duration": 6,
    "start_time": "2022-01-12T17:49:10.870Z"
   },
   {
    "duration": 6,
    "start_time": "2022-01-12T17:49:11.096Z"
   },
   {
    "duration": 7,
    "start_time": "2022-01-12T17:49:11.349Z"
   },
   {
    "duration": 7,
    "start_time": "2022-01-12T17:49:12.898Z"
   },
   {
    "duration": 9,
    "start_time": "2022-01-12T17:49:15.532Z"
   },
   {
    "duration": 8,
    "start_time": "2022-01-12T17:49:26.473Z"
   },
   {
    "duration": 266,
    "start_time": "2022-01-12T17:49:45.342Z"
   },
   {
    "duration": 330,
    "start_time": "2022-01-12T17:49:52.511Z"
   },
   {
    "duration": 12,
    "start_time": "2022-01-12T17:49:57.301Z"
   },
   {
    "duration": 8,
    "start_time": "2022-01-12T17:50:00.435Z"
   },
   {
    "duration": 1019,
    "start_time": "2022-01-12T17:50:22.127Z"
   },
   {
    "duration": 274,
    "start_time": "2022-01-12T17:53:20.680Z"
   },
   {
    "duration": 297,
    "start_time": "2022-01-12T17:54:22.311Z"
   },
   {
    "duration": 312,
    "start_time": "2022-01-12T17:54:31.417Z"
   },
   {
    "duration": 8,
    "start_time": "2022-01-12T17:54:39.121Z"
   },
   {
    "duration": 298,
    "start_time": "2022-01-12T17:54:41.282Z"
   },
   {
    "duration": 163,
    "start_time": "2022-01-12T17:54:49.226Z"
   },
   {
    "duration": 26,
    "start_time": "2022-01-12T17:54:49.392Z"
   },
   {
    "duration": 30,
    "start_time": "2022-01-12T17:54:49.423Z"
   },
   {
    "duration": 84,
    "start_time": "2022-01-12T17:54:49.456Z"
   },
   {
    "duration": 35,
    "start_time": "2022-01-12T17:54:49.544Z"
   },
   {
    "duration": 7,
    "start_time": "2022-01-12T17:54:49.582Z"
   },
   {
    "duration": 41,
    "start_time": "2022-01-12T17:54:49.591Z"
   },
   {
    "duration": 18,
    "start_time": "2022-01-12T17:54:49.636Z"
   },
   {
    "duration": 26,
    "start_time": "2022-01-12T17:54:49.661Z"
   },
   {
    "duration": 9,
    "start_time": "2022-01-12T17:54:49.718Z"
   },
   {
    "duration": 8,
    "start_time": "2022-01-12T17:54:49.730Z"
   },
   {
    "duration": 8,
    "start_time": "2022-01-12T17:54:49.741Z"
   },
   {
    "duration": 8,
    "start_time": "2022-01-12T17:54:49.752Z"
   },
   {
    "duration": 60,
    "start_time": "2022-01-12T17:54:49.762Z"
   },
   {
    "duration": 11,
    "start_time": "2022-01-12T17:54:49.826Z"
   },
   {
    "duration": 7,
    "start_time": "2022-01-12T17:54:49.840Z"
   },
   {
    "duration": 30,
    "start_time": "2022-01-12T17:54:49.850Z"
   },
   {
    "duration": 37,
    "start_time": "2022-01-12T17:54:49.884Z"
   },
   {
    "duration": 11,
    "start_time": "2022-01-12T17:54:49.925Z"
   },
   {
    "duration": 6,
    "start_time": "2022-01-12T17:54:49.940Z"
   },
   {
    "duration": 126,
    "start_time": "2022-01-12T17:54:49.949Z"
   },
   {
    "duration": 17,
    "start_time": "2022-01-12T17:54:50.079Z"
   },
   {
    "duration": 25,
    "start_time": "2022-01-12T17:54:50.099Z"
   },
   {
    "duration": 8,
    "start_time": "2022-01-12T17:54:50.127Z"
   },
   {
    "duration": 8,
    "start_time": "2022-01-12T17:54:50.138Z"
   },
   {
    "duration": 7,
    "start_time": "2022-01-12T17:54:50.149Z"
   },
   {
    "duration": 51,
    "start_time": "2022-01-12T17:54:50.167Z"
   },
   {
    "duration": 8,
    "start_time": "2022-01-12T17:54:50.226Z"
   },
   {
    "duration": 8,
    "start_time": "2022-01-12T17:54:50.237Z"
   },
   {
    "duration": 6,
    "start_time": "2022-01-12T17:54:50.248Z"
   },
   {
    "duration": 8,
    "start_time": "2022-01-12T17:54:50.257Z"
   },
   {
    "duration": 47,
    "start_time": "2022-01-12T17:54:50.270Z"
   },
   {
    "duration": 10,
    "start_time": "2022-01-12T17:54:50.320Z"
   },
   {
    "duration": 12,
    "start_time": "2022-01-12T17:54:50.333Z"
   },
   {
    "duration": 46829,
    "start_time": "2022-01-12T17:54:50.348Z"
   },
   {
    "duration": 8,
    "start_time": "2022-01-12T17:55:37.179Z"
   },
   {
    "duration": 491,
    "start_time": "2022-01-12T17:55:37.190Z"
   },
   {
    "duration": 61,
    "start_time": "2022-01-12T17:55:37.684Z"
   },
   {
    "duration": 20,
    "start_time": "2022-01-12T17:55:37.749Z"
   },
   {
    "duration": 1260,
    "start_time": "2022-01-12T17:55:37.772Z"
   },
   {
    "duration": 264,
    "start_time": "2022-01-12T17:55:39.034Z"
   },
   {
    "duration": 18,
    "start_time": "2022-01-12T17:55:39.300Z"
   },
   {
    "duration": 377,
    "start_time": "2022-01-12T17:55:39.323Z"
   },
   {
    "duration": 376,
    "start_time": "2022-01-12T17:55:39.702Z"
   },
   {
    "duration": 39,
    "start_time": "2022-01-12T17:55:40.080Z"
   },
   {
    "duration": 381,
    "start_time": "2022-01-12T17:55:40.124Z"
   },
   {
    "duration": 405,
    "start_time": "2022-01-12T17:55:40.507Z"
   },
   {
    "duration": 494,
    "start_time": "2022-01-12T17:55:40.919Z"
   },
   {
    "duration": 420,
    "start_time": "2022-01-12T17:55:41.416Z"
   },
   {
    "duration": 383,
    "start_time": "2022-01-12T17:55:41.838Z"
   },
   {
    "duration": 8,
    "start_time": "2022-01-12T17:55:42.224Z"
   },
   {
    "duration": 22,
    "start_time": "2022-01-12T17:55:42.236Z"
   },
   {
    "duration": 11,
    "start_time": "2022-01-12T17:55:42.261Z"
   },
   {
    "duration": 14,
    "start_time": "2022-01-12T17:55:42.275Z"
   },
   {
    "duration": 266,
    "start_time": "2022-01-12T17:55:42.291Z"
   },
   {
    "duration": 11,
    "start_time": "2022-01-12T17:55:42.559Z"
   },
   {
    "duration": 589,
    "start_time": "2022-01-12T17:55:42.573Z"
   },
   {
    "duration": 236,
    "start_time": "2022-01-12T17:55:43.165Z"
   },
   {
    "duration": 80,
    "start_time": "2022-01-12T17:55:43.404Z"
   },
   {
    "duration": 14,
    "start_time": "2022-01-12T17:55:43.487Z"
   },
   {
    "duration": 843,
    "start_time": "2022-01-12T17:55:43.504Z"
   },
   {
    "duration": 507,
    "start_time": "2022-01-12T17:55:44.350Z"
   },
   {
    "duration": 249,
    "start_time": "2022-01-12T17:55:44.859Z"
   },
   {
    "duration": 276,
    "start_time": "2022-01-12T17:55:45.111Z"
   },
   {
    "duration": 303,
    "start_time": "2022-01-12T17:55:45.390Z"
   },
   {
    "duration": 281,
    "start_time": "2022-01-12T17:55:45.696Z"
   },
   {
    "duration": 5,
    "start_time": "2022-01-12T17:55:45.980Z"
   },
   {
    "duration": 31,
    "start_time": "2022-01-12T17:55:45.987Z"
   },
   {
    "duration": 613,
    "start_time": "2022-01-12T17:55:46.021Z"
   },
   {
    "duration": 30,
    "start_time": "2022-01-12T17:55:46.636Z"
   },
   {
    "duration": 13,
    "start_time": "2022-01-12T17:55:46.668Z"
   },
   {
    "duration": 493,
    "start_time": "2022-01-12T17:55:46.683Z"
   },
   {
    "duration": 138,
    "start_time": "2022-01-12T17:55:47.179Z"
   },
   {
    "duration": 146,
    "start_time": "2022-01-12T17:55:47.320Z"
   },
   {
    "duration": 15,
    "start_time": "2022-01-12T17:55:47.469Z"
   },
   {
    "duration": 46,
    "start_time": "2022-01-12T17:55:47.486Z"
   },
   {
    "duration": 5,
    "start_time": "2022-01-12T17:55:47.537Z"
   },
   {
    "duration": 203,
    "start_time": "2022-01-12T17:58:28.979Z"
   },
   {
    "duration": 39,
    "start_time": "2022-01-12T17:58:29.185Z"
   },
   {
    "duration": 27,
    "start_time": "2022-01-12T17:58:29.229Z"
   },
   {
    "duration": 77,
    "start_time": "2022-01-12T17:58:29.259Z"
   },
   {
    "duration": 37,
    "start_time": "2022-01-12T17:58:29.340Z"
   },
   {
    "duration": 9,
    "start_time": "2022-01-12T17:58:29.380Z"
   },
   {
    "duration": 13,
    "start_time": "2022-01-12T17:58:29.417Z"
   },
   {
    "duration": 12,
    "start_time": "2022-01-12T17:58:29.434Z"
   },
   {
    "duration": 21,
    "start_time": "2022-01-12T17:58:29.449Z"
   },
   {
    "duration": 46,
    "start_time": "2022-01-12T17:58:29.473Z"
   },
   {
    "duration": 6,
    "start_time": "2022-01-12T17:58:29.522Z"
   },
   {
    "duration": 16,
    "start_time": "2022-01-12T17:58:29.531Z"
   },
   {
    "duration": 7,
    "start_time": "2022-01-12T17:58:29.550Z"
   },
   {
    "duration": 7,
    "start_time": "2022-01-12T17:58:29.559Z"
   },
   {
    "duration": 58,
    "start_time": "2022-01-12T17:58:29.568Z"
   },
   {
    "duration": 9,
    "start_time": "2022-01-12T17:58:29.632Z"
   },
   {
    "duration": 23,
    "start_time": "2022-01-12T17:58:29.645Z"
   },
   {
    "duration": 9,
    "start_time": "2022-01-12T17:58:29.671Z"
   },
   {
    "duration": 44,
    "start_time": "2022-01-12T17:58:29.683Z"
   },
   {
    "duration": 6,
    "start_time": "2022-01-12T17:58:29.730Z"
   },
   {
    "duration": 121,
    "start_time": "2022-01-12T17:58:29.739Z"
   },
   {
    "duration": 23,
    "start_time": "2022-01-12T17:58:29.863Z"
   },
   {
    "duration": 29,
    "start_time": "2022-01-12T17:58:29.889Z"
   },
   {
    "duration": 9,
    "start_time": "2022-01-12T17:58:29.926Z"
   },
   {
    "duration": 6,
    "start_time": "2022-01-12T17:58:29.938Z"
   },
   {
    "duration": 7,
    "start_time": "2022-01-12T17:58:29.946Z"
   },
   {
    "duration": 5,
    "start_time": "2022-01-12T17:58:29.960Z"
   },
   {
    "duration": 49,
    "start_time": "2022-01-12T17:58:29.970Z"
   },
   {
    "duration": 16,
    "start_time": "2022-01-12T17:58:30.023Z"
   },
   {
    "duration": 9,
    "start_time": "2022-01-12T17:58:30.042Z"
   },
   {
    "duration": 13,
    "start_time": "2022-01-12T17:58:30.054Z"
   },
   {
    "duration": 13,
    "start_time": "2022-01-12T17:58:30.069Z"
   },
   {
    "duration": 9,
    "start_time": "2022-01-12T17:58:30.084Z"
   },
   {
    "duration": 8,
    "start_time": "2022-01-12T17:58:30.117Z"
   },
   {
    "duration": 19,
    "start_time": "2022-01-12T17:58:30.130Z"
   },
   {
    "duration": 49415,
    "start_time": "2022-01-12T17:58:30.152Z"
   },
   {
    "duration": 9,
    "start_time": "2022-01-12T17:59:19.569Z"
   },
   {
    "duration": 719,
    "start_time": "2022-01-12T17:59:19.581Z"
   },
   {
    "duration": 60,
    "start_time": "2022-01-12T17:59:20.303Z"
   },
   {
    "duration": 15,
    "start_time": "2022-01-12T17:59:20.365Z"
   },
   {
    "duration": 1888,
    "start_time": "2022-01-12T17:59:20.383Z"
   },
   {
    "duration": 373,
    "start_time": "2022-01-12T17:59:22.274Z"
   },
   {
    "duration": 10,
    "start_time": "2022-01-12T17:59:22.650Z"
   },
   {
    "duration": 577,
    "start_time": "2022-01-12T17:59:22.663Z"
   },
   {
    "duration": 366,
    "start_time": "2022-01-12T17:59:23.243Z"
   },
   {
    "duration": 28,
    "start_time": "2022-01-12T17:59:23.617Z"
   },
   {
    "duration": 400,
    "start_time": "2022-01-12T17:59:23.647Z"
   },
   {
    "duration": 371,
    "start_time": "2022-01-12T17:59:24.050Z"
   },
   {
    "duration": 419,
    "start_time": "2022-01-12T17:59:24.424Z"
   },
   {
    "duration": 475,
    "start_time": "2022-01-12T17:59:24.846Z"
   },
   {
    "duration": 402,
    "start_time": "2022-01-12T17:59:25.324Z"
   },
   {
    "duration": 7,
    "start_time": "2022-01-12T17:59:25.729Z"
   },
   {
    "duration": 8,
    "start_time": "2022-01-12T17:59:25.738Z"
   },
   {
    "duration": 12,
    "start_time": "2022-01-12T17:59:25.748Z"
   },
   {
    "duration": 5,
    "start_time": "2022-01-12T17:59:25.762Z"
   },
   {
    "duration": 284,
    "start_time": "2022-01-12T17:59:25.769Z"
   },
   {
    "duration": 11,
    "start_time": "2022-01-12T17:59:26.055Z"
   },
   {
    "duration": 615,
    "start_time": "2022-01-12T17:59:26.069Z"
   },
   {
    "duration": 231,
    "start_time": "2022-01-12T17:59:26.686Z"
   },
   {
    "duration": 75,
    "start_time": "2022-01-12T17:59:26.920Z"
   },
   {
    "duration": 42,
    "start_time": "2022-01-12T17:59:26.997Z"
   },
   {
    "duration": 855,
    "start_time": "2022-01-12T17:59:27.042Z"
   },
   {
    "duration": 493,
    "start_time": "2022-01-12T17:59:27.899Z"
   },
   {
    "duration": 244,
    "start_time": "2022-01-12T17:59:28.394Z"
   },
   {
    "duration": 271,
    "start_time": "2022-01-12T17:59:28.640Z"
   },
   {
    "duration": 290,
    "start_time": "2022-01-12T17:59:28.917Z"
   },
   {
    "duration": 282,
    "start_time": "2022-01-12T17:59:29.218Z"
   },
   {
    "duration": 5,
    "start_time": "2022-01-12T17:59:29.502Z"
   },
   {
    "duration": 21,
    "start_time": "2022-01-12T17:59:29.517Z"
   },
   {
    "duration": 494,
    "start_time": "2022-01-12T17:59:29.541Z"
   },
   {
    "duration": 33,
    "start_time": "2022-01-12T17:59:30.037Z"
   },
   {
    "duration": 18,
    "start_time": "2022-01-12T17:59:30.072Z"
   },
   {
    "duration": 514,
    "start_time": "2022-01-12T17:59:30.092Z"
   },
   {
    "duration": 142,
    "start_time": "2022-01-12T17:59:30.608Z"
   },
   {
    "duration": 150,
    "start_time": "2022-01-12T17:59:30.752Z"
   },
   {
    "duration": 34,
    "start_time": "2022-01-12T17:59:30.905Z"
   },
   {
    "duration": 16,
    "start_time": "2022-01-12T17:59:30.941Z"
   },
   {
    "duration": 15,
    "start_time": "2022-01-12T18:04:13.926Z"
   },
   {
    "duration": 5,
    "start_time": "2022-01-12T18:08:49.371Z"
   },
   {
    "duration": 258,
    "start_time": "2022-01-12T18:11:44.197Z"
   },
   {
    "duration": 11,
    "start_time": "2022-01-12T18:13:16.799Z"
   },
   {
    "duration": 241,
    "start_time": "2022-01-12T18:14:29.654Z"
   },
   {
    "duration": 967,
    "start_time": "2022-01-12T18:14:52.537Z"
   },
   {
    "duration": 947,
    "start_time": "2022-01-12T18:15:04.263Z"
   },
   {
    "duration": 23,
    "start_time": "2022-01-12T18:20:33.829Z"
   },
   {
    "duration": 16,
    "start_time": "2022-01-12T18:21:01.507Z"
   },
   {
    "duration": 10,
    "start_time": "2022-01-12T18:26:59.285Z"
   },
   {
    "duration": 10,
    "start_time": "2022-01-12T18:27:09.578Z"
   },
   {
    "duration": 266,
    "start_time": "2022-01-12T18:28:13.406Z"
   },
   {
    "duration": 1310,
    "start_time": "2022-01-12T18:28:22.719Z"
   },
   {
    "duration": 1264,
    "start_time": "2022-01-12T18:28:57.581Z"
   },
   {
    "duration": 1242,
    "start_time": "2022-01-12T18:32:25.474Z"
   },
   {
    "duration": 4,
    "start_time": "2022-01-12T18:53:40.929Z"
   },
   {
    "duration": 1215,
    "start_time": "2022-01-12T18:53:44.966Z"
   },
   {
    "duration": 251,
    "start_time": "2022-01-12T18:55:05.649Z"
   },
   {
    "duration": 186,
    "start_time": "2022-01-12T18:55:25.101Z"
   },
   {
    "duration": 40,
    "start_time": "2022-01-12T18:55:25.289Z"
   },
   {
    "duration": 25,
    "start_time": "2022-01-12T18:55:25.332Z"
   },
   {
    "duration": 65,
    "start_time": "2022-01-12T18:55:25.360Z"
   },
   {
    "duration": 22,
    "start_time": "2022-01-12T18:55:25.427Z"
   },
   {
    "duration": 10,
    "start_time": "2022-01-12T18:55:25.452Z"
   },
   {
    "duration": 8,
    "start_time": "2022-01-12T18:55:25.465Z"
   },
   {
    "duration": 59,
    "start_time": "2022-01-12T18:55:25.477Z"
   },
   {
    "duration": 15,
    "start_time": "2022-01-12T18:55:25.539Z"
   },
   {
    "duration": 11,
    "start_time": "2022-01-12T18:55:25.556Z"
   },
   {
    "duration": 7,
    "start_time": "2022-01-12T18:55:25.570Z"
   },
   {
    "duration": 43,
    "start_time": "2022-01-12T18:55:25.579Z"
   },
   {
    "duration": 8,
    "start_time": "2022-01-12T18:55:25.625Z"
   },
   {
    "duration": 8,
    "start_time": "2022-01-12T18:55:25.636Z"
   },
   {
    "duration": 9,
    "start_time": "2022-01-12T18:55:25.647Z"
   },
   {
    "duration": 9,
    "start_time": "2022-01-12T18:55:25.658Z"
   },
   {
    "duration": 58,
    "start_time": "2022-01-12T18:55:25.670Z"
   },
   {
    "duration": 8,
    "start_time": "2022-01-12T18:55:25.731Z"
   },
   {
    "duration": 9,
    "start_time": "2022-01-12T18:55:25.741Z"
   },
   {
    "duration": 6,
    "start_time": "2022-01-12T18:55:25.753Z"
   },
   {
    "duration": 93,
    "start_time": "2022-01-12T18:55:25.761Z"
   },
   {
    "duration": 18,
    "start_time": "2022-01-12T18:55:25.857Z"
   },
   {
    "duration": 6,
    "start_time": "2022-01-12T18:55:25.883Z"
   },
   {
    "duration": 6,
    "start_time": "2022-01-12T18:55:25.918Z"
   },
   {
    "duration": 8,
    "start_time": "2022-01-12T18:55:25.927Z"
   },
   {
    "duration": 7,
    "start_time": "2022-01-12T18:55:25.938Z"
   },
   {
    "duration": 7,
    "start_time": "2022-01-12T18:55:25.948Z"
   },
   {
    "duration": 63,
    "start_time": "2022-01-12T18:55:25.957Z"
   },
   {
    "duration": 7,
    "start_time": "2022-01-12T18:55:26.023Z"
   },
   {
    "duration": 6,
    "start_time": "2022-01-12T18:55:26.033Z"
   },
   {
    "duration": 7,
    "start_time": "2022-01-12T18:55:26.042Z"
   },
   {
    "duration": 7,
    "start_time": "2022-01-12T18:55:26.052Z"
   },
   {
    "duration": 60,
    "start_time": "2022-01-12T18:55:26.061Z"
   },
   {
    "duration": 6,
    "start_time": "2022-01-12T18:55:26.124Z"
   },
   {
    "duration": 14,
    "start_time": "2022-01-12T18:55:26.133Z"
   },
   {
    "duration": 43198,
    "start_time": "2022-01-12T18:55:26.150Z"
   },
   {
    "duration": 9,
    "start_time": "2022-01-12T18:56:09.351Z"
   },
   {
    "duration": 24,
    "start_time": "2022-01-12T18:56:09.362Z"
   },
   {
    "duration": 287,
    "start_time": "2022-01-12T18:56:09.388Z"
   },
   {
    "duration": 223,
    "start_time": "2022-01-12T18:56:09.455Z"
   },
   {
    "duration": 222,
    "start_time": "2022-01-12T18:56:09.458Z"
   },
   {
    "duration": 221,
    "start_time": "2022-01-12T18:56:09.460Z"
   },
   {
    "duration": 210,
    "start_time": "2022-01-12T18:56:09.473Z"
   },
   {
    "duration": 207,
    "start_time": "2022-01-12T18:56:09.477Z"
   },
   {
    "duration": 206,
    "start_time": "2022-01-12T18:56:09.480Z"
   },
   {
    "duration": 204,
    "start_time": "2022-01-12T18:56:09.483Z"
   },
   {
    "duration": 203,
    "start_time": "2022-01-12T18:56:09.486Z"
   },
   {
    "duration": 202,
    "start_time": "2022-01-12T18:56:09.489Z"
   },
   {
    "duration": 200,
    "start_time": "2022-01-12T18:56:09.493Z"
   },
   {
    "duration": 197,
    "start_time": "2022-01-12T18:56:09.497Z"
   },
   {
    "duration": 196,
    "start_time": "2022-01-12T18:56:09.500Z"
   },
   {
    "duration": 194,
    "start_time": "2022-01-12T18:56:09.503Z"
   },
   {
    "duration": 193,
    "start_time": "2022-01-12T18:56:09.506Z"
   },
   {
    "duration": 191,
    "start_time": "2022-01-12T18:56:09.509Z"
   },
   {
    "duration": 190,
    "start_time": "2022-01-12T18:56:09.512Z"
   },
   {
    "duration": 188,
    "start_time": "2022-01-12T18:56:09.515Z"
   },
   {
    "duration": 186,
    "start_time": "2022-01-12T18:56:09.518Z"
   },
   {
    "duration": 185,
    "start_time": "2022-01-12T18:56:09.521Z"
   },
   {
    "duration": 184,
    "start_time": "2022-01-12T18:56:09.523Z"
   },
   {
    "duration": 182,
    "start_time": "2022-01-12T18:56:09.526Z"
   },
   {
    "duration": 181,
    "start_time": "2022-01-12T18:56:09.529Z"
   },
   {
    "duration": 178,
    "start_time": "2022-01-12T18:56:09.533Z"
   },
   {
    "duration": 177,
    "start_time": "2022-01-12T18:56:09.535Z"
   },
   {
    "duration": 176,
    "start_time": "2022-01-12T18:56:09.538Z"
   },
   {
    "duration": 175,
    "start_time": "2022-01-12T18:56:09.540Z"
   },
   {
    "duration": 173,
    "start_time": "2022-01-12T18:56:09.543Z"
   },
   {
    "duration": 173,
    "start_time": "2022-01-12T18:56:09.545Z"
   },
   {
    "duration": 170,
    "start_time": "2022-01-12T18:56:09.549Z"
   },
   {
    "duration": 170,
    "start_time": "2022-01-12T18:56:09.551Z"
   },
   {
    "duration": 168,
    "start_time": "2022-01-12T18:56:09.554Z"
   },
   {
    "duration": 167,
    "start_time": "2022-01-12T18:56:09.556Z"
   },
   {
    "duration": 165,
    "start_time": "2022-01-12T18:56:09.559Z"
   },
   {
    "duration": 165,
    "start_time": "2022-01-12T18:56:09.561Z"
   },
   {
    "duration": 164,
    "start_time": "2022-01-12T18:56:09.564Z"
   },
   {
    "duration": 163,
    "start_time": "2022-01-12T18:56:09.566Z"
   },
   {
    "duration": 162,
    "start_time": "2022-01-12T18:56:09.569Z"
   },
   {
    "duration": 160,
    "start_time": "2022-01-12T18:56:09.572Z"
   },
   {
    "duration": 159,
    "start_time": "2022-01-12T18:56:09.574Z"
   },
   {
    "duration": 158,
    "start_time": "2022-01-12T18:56:09.577Z"
   },
   {
    "duration": 156,
    "start_time": "2022-01-12T18:56:09.580Z"
   },
   {
    "duration": 154,
    "start_time": "2022-01-12T18:56:09.583Z"
   },
   {
    "duration": 152,
    "start_time": "2022-01-12T18:56:09.587Z"
   },
   {
    "duration": 150,
    "start_time": "2022-01-12T18:56:09.590Z"
   },
   {
    "duration": 253,
    "start_time": "2022-01-12T18:58:58.195Z"
   },
   {
    "duration": 1495,
    "start_time": "2022-01-12T18:59:16.104Z"
   },
   {
    "duration": 466,
    "start_time": "2022-01-12T18:59:39.863Z"
   },
   {
    "duration": 62,
    "start_time": "2022-01-12T19:00:34.932Z"
   },
   {
    "duration": 60,
    "start_time": "2022-01-12T19:01:01.877Z"
   },
   {
    "duration": 479,
    "start_time": "2022-01-12T19:01:14.992Z"
   },
   {
    "duration": 88,
    "start_time": "2022-01-12T19:06:31.206Z"
   },
   {
    "duration": 88,
    "start_time": "2022-01-12T19:06:47.178Z"
   },
   {
    "duration": 101,
    "start_time": "2022-01-12T19:08:11.226Z"
   },
   {
    "duration": 10,
    "start_time": "2022-01-12T19:08:12.935Z"
   },
   {
    "duration": 116,
    "start_time": "2022-01-12T19:08:46.597Z"
   },
   {
    "duration": 11,
    "start_time": "2022-01-12T19:08:47.537Z"
   },
   {
    "duration": 187,
    "start_time": "2022-01-12T19:10:23.989Z"
   },
   {
    "duration": 9,
    "start_time": "2022-01-12T19:10:24.463Z"
   },
   {
    "duration": 206,
    "start_time": "2022-01-12T19:11:04.016Z"
   },
   {
    "duration": 183,
    "start_time": "2022-01-12T19:11:21.439Z"
   },
   {
    "duration": 182,
    "start_time": "2022-01-12T19:11:27.841Z"
   },
   {
    "duration": 11,
    "start_time": "2022-01-12T19:11:29.206Z"
   },
   {
    "duration": 179,
    "start_time": "2022-01-12T19:12:25.646Z"
   },
   {
    "duration": 8,
    "start_time": "2022-01-12T19:12:26.442Z"
   },
   {
    "duration": 180,
    "start_time": "2022-01-12T19:12:49.222Z"
   },
   {
    "duration": 9,
    "start_time": "2022-01-12T19:12:49.698Z"
   },
   {
    "duration": 867,
    "start_time": "2022-01-12T19:15:15.933Z"
   },
   {
    "duration": 16,
    "start_time": "2022-01-12T19:15:20.894Z"
   },
   {
    "duration": 27,
    "start_time": "2022-01-12T19:15:24.254Z"
   },
   {
    "duration": 34,
    "start_time": "2022-01-12T19:15:24.599Z"
   },
   {
    "duration": 23,
    "start_time": "2022-01-12T19:15:24.922Z"
   },
   {
    "duration": 7,
    "start_time": "2022-01-12T19:15:25.135Z"
   },
   {
    "duration": 7,
    "start_time": "2022-01-12T19:15:25.328Z"
   },
   {
    "duration": 8,
    "start_time": "2022-01-12T19:15:25.750Z"
   },
   {
    "duration": 15,
    "start_time": "2022-01-12T19:15:26.140Z"
   },
   {
    "duration": 7,
    "start_time": "2022-01-12T19:15:26.332Z"
   },
   {
    "duration": 6,
    "start_time": "2022-01-12T19:15:26.511Z"
   },
   {
    "duration": 6,
    "start_time": "2022-01-12T19:15:26.904Z"
   },
   {
    "duration": 8,
    "start_time": "2022-01-12T19:15:27.102Z"
   },
   {
    "duration": 6,
    "start_time": "2022-01-12T19:15:27.288Z"
   },
   {
    "duration": 7,
    "start_time": "2022-01-12T19:15:27.500Z"
   },
   {
    "duration": 8,
    "start_time": "2022-01-12T19:15:27.709Z"
   },
   {
    "duration": 15,
    "start_time": "2022-01-12T19:15:27.892Z"
   },
   {
    "duration": 5,
    "start_time": "2022-01-12T19:15:28.111Z"
   },
   {
    "duration": 6,
    "start_time": "2022-01-12T19:15:28.524Z"
   },
   {
    "duration": 5,
    "start_time": "2022-01-12T19:15:28.761Z"
   },
   {
    "duration": 66,
    "start_time": "2022-01-12T19:15:28.954Z"
   },
   {
    "duration": 18,
    "start_time": "2022-01-12T19:15:30.287Z"
   },
   {
    "duration": 6,
    "start_time": "2022-01-12T19:15:32.376Z"
   },
   {
    "duration": 5,
    "start_time": "2022-01-12T19:15:32.854Z"
   },
   {
    "duration": 6,
    "start_time": "2022-01-12T19:15:33.324Z"
   },
   {
    "duration": 7,
    "start_time": "2022-01-12T19:15:33.553Z"
   },
   {
    "duration": 7,
    "start_time": "2022-01-12T19:15:33.786Z"
   },
   {
    "duration": 8,
    "start_time": "2022-01-12T19:15:34.014Z"
   },
   {
    "duration": 7,
    "start_time": "2022-01-12T19:15:36.597Z"
   },
   {
    "duration": 6,
    "start_time": "2022-01-12T19:15:36.890Z"
   },
   {
    "duration": 6,
    "start_time": "2022-01-12T19:15:37.147Z"
   },
   {
    "duration": 8,
    "start_time": "2022-01-12T19:15:37.448Z"
   },
   {
    "duration": 7,
    "start_time": "2022-01-12T19:15:38.157Z"
   },
   {
    "duration": 6,
    "start_time": "2022-01-12T19:15:38.398Z"
   },
   {
    "duration": 17,
    "start_time": "2022-01-12T19:15:39.375Z"
   },
   {
    "duration": 52542,
    "start_time": "2022-01-12T19:15:40.581Z"
   },
   {
    "duration": 9,
    "start_time": "2022-01-12T19:16:33.125Z"
   },
   {
    "duration": 199,
    "start_time": "2022-01-12T19:16:40.956Z"
   },
   {
    "duration": 14,
    "start_time": "2022-01-12T19:16:41.776Z"
   },
   {
    "duration": 225,
    "start_time": "2022-01-12T19:17:02.378Z"
   },
   {
    "duration": 14,
    "start_time": "2022-01-12T19:17:02.988Z"
   },
   {
    "duration": 37,
    "start_time": "2022-01-12T19:19:06.800Z"
   },
   {
    "duration": 35,
    "start_time": "2022-01-12T19:19:21.653Z"
   },
   {
    "duration": 243,
    "start_time": "2022-01-12T19:20:15.327Z"
   },
   {
    "duration": 9,
    "start_time": "2022-01-12T19:20:16.060Z"
   },
   {
    "duration": 15,
    "start_time": "2022-01-12T19:21:15.139Z"
   },
   {
    "duration": 520,
    "start_time": "2022-01-12T19:21:15.331Z"
   },
   {
    "duration": 33,
    "start_time": "2022-01-12T19:21:15.854Z"
   },
   {
    "duration": 16,
    "start_time": "2022-01-12T19:21:15.982Z"
   },
   {
    "duration": 976,
    "start_time": "2022-01-12T19:21:16.421Z"
   },
   {
    "duration": 240,
    "start_time": "2022-01-12T19:21:17.399Z"
   },
   {
    "duration": 7,
    "start_time": "2022-01-12T19:21:17.642Z"
   },
   {
    "duration": 408,
    "start_time": "2022-01-12T19:21:17.652Z"
   },
   {
    "duration": 517,
    "start_time": "2022-01-12T19:21:18.063Z"
   },
   {
    "duration": 23,
    "start_time": "2022-01-12T19:21:19.260Z"
   },
   {
    "duration": 350,
    "start_time": "2022-01-12T19:21:19.439Z"
   },
   {
    "duration": 376,
    "start_time": "2022-01-12T19:21:19.791Z"
   },
   {
    "duration": 396,
    "start_time": "2022-01-12T19:21:20.169Z"
   },
   {
    "duration": 355,
    "start_time": "2022-01-12T19:21:20.653Z"
   },
   {
    "duration": 363,
    "start_time": "2022-01-12T19:21:23.454Z"
   },
   {
    "duration": 5,
    "start_time": "2022-01-12T19:21:23.820Z"
   },
   {
    "duration": 6,
    "start_time": "2022-01-12T19:21:23.832Z"
   },
   {
    "duration": 7,
    "start_time": "2022-01-12T19:21:24.022Z"
   },
   {
    "duration": 8,
    "start_time": "2022-01-12T19:21:24.662Z"
   },
   {
    "duration": 225,
    "start_time": "2022-01-12T19:21:26.162Z"
   },
   {
    "duration": 13,
    "start_time": "2022-01-12T19:21:27.089Z"
   },
   {
    "duration": 670,
    "start_time": "2022-01-12T19:21:27.476Z"
   },
   {
    "duration": 232,
    "start_time": "2022-01-12T19:21:28.149Z"
   },
   {
    "duration": 84,
    "start_time": "2022-01-12T19:21:28.384Z"
   },
   {
    "duration": 17,
    "start_time": "2022-01-12T19:21:29.205Z"
   },
   {
    "duration": 8,
    "start_time": "2022-01-12T19:32:57.733Z"
   },
   {
    "duration": 15,
    "start_time": "2022-01-12T19:34:35.322Z"
   },
   {
    "duration": 16,
    "start_time": "2022-01-12T19:38:34.158Z"
   },
   {
    "duration": 8,
    "start_time": "2022-01-12T19:38:56.389Z"
   },
   {
    "duration": 14,
    "start_time": "2022-01-12T19:39:01.721Z"
   },
   {
    "duration": 9,
    "start_time": "2022-01-12T19:39:02.452Z"
   },
   {
    "duration": 10,
    "start_time": "2022-01-12T19:39:07.799Z"
   },
   {
    "duration": 11,
    "start_time": "2022-01-12T19:39:10.220Z"
   },
   {
    "duration": 6,
    "start_time": "2022-01-12T19:39:28.308Z"
   },
   {
    "duration": 8,
    "start_time": "2022-01-12T19:39:29.735Z"
   },
   {
    "duration": 6,
    "start_time": "2022-01-12T19:40:44.810Z"
   },
   {
    "duration": 8,
    "start_time": "2022-01-12T19:40:45.528Z"
   },
   {
    "duration": 696,
    "start_time": "2022-01-12T19:43:04.834Z"
   },
   {
    "duration": 495,
    "start_time": "2022-01-12T19:43:05.749Z"
   },
   {
    "duration": 214,
    "start_time": "2022-01-12T19:43:06.437Z"
   },
   {
    "duration": 243,
    "start_time": "2022-01-12T19:43:06.808Z"
   },
   {
    "duration": 263,
    "start_time": "2022-01-12T19:43:07.161Z"
   },
   {
    "duration": 294,
    "start_time": "2022-01-12T19:43:07.531Z"
   },
   {
    "duration": 7,
    "start_time": "2022-01-12T19:43:07.894Z"
   },
   {
    "duration": 15,
    "start_time": "2022-01-12T19:43:08.071Z"
   },
   {
    "duration": 449,
    "start_time": "2022-01-12T19:43:08.252Z"
   },
   {
    "duration": 31,
    "start_time": "2022-01-12T19:43:09.012Z"
   },
   {
    "duration": 12,
    "start_time": "2022-01-12T19:43:09.815Z"
   },
   {
    "duration": 444,
    "start_time": "2022-01-12T19:43:10.197Z"
   },
   {
    "duration": 198,
    "start_time": "2022-01-12T19:43:10.950Z"
   },
   {
    "duration": 122,
    "start_time": "2022-01-12T19:43:11.167Z"
   },
   {
    "duration": 15,
    "start_time": "2022-01-12T19:43:11.768Z"
   },
   {
    "duration": 17,
    "start_time": "2022-01-12T19:43:11.938Z"
   },
   {
    "duration": 190,
    "start_time": "2022-01-12T19:43:45.825Z"
   },
   {
    "duration": 7,
    "start_time": "2022-01-12T19:46:30.646Z"
   },
   {
    "duration": 7,
    "start_time": "2022-01-12T19:46:37.873Z"
   },
   {
    "duration": 10,
    "start_time": "2022-01-12T19:46:46.091Z"
   },
   {
    "duration": 9,
    "start_time": "2022-01-12T19:49:30.492Z"
   },
   {
    "duration": 6,
    "start_time": "2022-01-12T19:49:48.531Z"
   },
   {
    "duration": 7,
    "start_time": "2022-01-12T19:50:04.189Z"
   },
   {
    "duration": 6,
    "start_time": "2022-01-12T19:54:05.050Z"
   },
   {
    "duration": 6,
    "start_time": "2022-01-12T19:54:10.883Z"
   },
   {
    "duration": 172,
    "start_time": "2022-01-12T19:58:45.786Z"
   },
   {
    "duration": 15,
    "start_time": "2022-01-12T19:58:45.961Z"
   },
   {
    "duration": 62,
    "start_time": "2022-01-12T19:58:45.979Z"
   },
   {
    "duration": 32,
    "start_time": "2022-01-12T19:58:46.044Z"
   },
   {
    "duration": 60,
    "start_time": "2022-01-12T19:58:46.078Z"
   },
   {
    "duration": 8,
    "start_time": "2022-01-12T19:58:46.141Z"
   },
   {
    "duration": 11,
    "start_time": "2022-01-12T19:58:46.152Z"
   },
   {
    "duration": 15,
    "start_time": "2022-01-12T19:58:46.168Z"
   },
   {
    "duration": 23,
    "start_time": "2022-01-12T19:58:46.219Z"
   },
   {
    "duration": 8,
    "start_time": "2022-01-12T19:58:46.245Z"
   },
   {
    "duration": 7,
    "start_time": "2022-01-12T19:58:46.256Z"
   },
   {
    "duration": 8,
    "start_time": "2022-01-12T19:58:46.266Z"
   },
   {
    "duration": 7,
    "start_time": "2022-01-12T19:58:46.317Z"
   },
   {
    "duration": 7,
    "start_time": "2022-01-12T19:58:46.326Z"
   },
   {
    "duration": 7,
    "start_time": "2022-01-12T19:58:46.335Z"
   },
   {
    "duration": 9,
    "start_time": "2022-01-12T19:58:46.346Z"
   },
   {
    "duration": 70,
    "start_time": "2022-01-12T19:58:46.358Z"
   },
   {
    "duration": 7,
    "start_time": "2022-01-12T19:58:46.431Z"
   },
   {
    "duration": 8,
    "start_time": "2022-01-12T19:58:46.441Z"
   },
   {
    "duration": 6,
    "start_time": "2022-01-12T19:58:46.452Z"
   },
   {
    "duration": 122,
    "start_time": "2022-01-12T19:58:46.461Z"
   },
   {
    "duration": 15,
    "start_time": "2022-01-12T19:58:46.586Z"
   },
   {
    "duration": 7,
    "start_time": "2022-01-12T19:58:46.621Z"
   },
   {
    "duration": 6,
    "start_time": "2022-01-12T19:58:46.633Z"
   },
   {
    "duration": 9,
    "start_time": "2022-01-12T19:58:46.641Z"
   },
   {
    "duration": 7,
    "start_time": "2022-01-12T19:58:46.652Z"
   },
   {
    "duration": 56,
    "start_time": "2022-01-12T19:58:46.661Z"
   },
   {
    "duration": 7,
    "start_time": "2022-01-12T19:58:46.719Z"
   },
   {
    "duration": 9,
    "start_time": "2022-01-12T19:58:46.728Z"
   },
   {
    "duration": 8,
    "start_time": "2022-01-12T19:58:46.739Z"
   },
   {
    "duration": 6,
    "start_time": "2022-01-12T19:58:46.750Z"
   },
   {
    "duration": 5,
    "start_time": "2022-01-12T19:58:46.759Z"
   },
   {
    "duration": 54,
    "start_time": "2022-01-12T19:58:46.767Z"
   },
   {
    "duration": 8,
    "start_time": "2022-01-12T19:58:46.824Z"
   },
   {
    "duration": 11,
    "start_time": "2022-01-12T19:58:46.834Z"
   },
   {
    "duration": 45070,
    "start_time": "2022-01-12T19:58:46.848Z"
   },
   {
    "duration": 10,
    "start_time": "2022-01-12T19:59:31.920Z"
   },
   {
    "duration": 269,
    "start_time": "2022-01-12T19:59:31.932Z"
   },
   {
    "duration": 16,
    "start_time": "2022-01-12T19:59:32.203Z"
   },
   {
    "duration": 37,
    "start_time": "2022-01-12T19:59:32.222Z"
   },
   {
    "duration": 8,
    "start_time": "2022-01-12T19:59:32.262Z"
   },
   {
    "duration": 461,
    "start_time": "2022-01-12T19:59:32.273Z"
   },
   {
    "duration": 35,
    "start_time": "2022-01-12T19:59:32.736Z"
   },
   {
    "duration": 15,
    "start_time": "2022-01-12T19:59:32.773Z"
   },
   {
    "duration": 969,
    "start_time": "2022-01-12T19:59:32.791Z"
   },
   {
    "duration": 253,
    "start_time": "2022-01-12T19:59:33.763Z"
   },
   {
    "duration": 7,
    "start_time": "2022-01-12T19:59:34.019Z"
   },
   {
    "duration": 364,
    "start_time": "2022-01-12T19:59:34.029Z"
   },
   {
    "duration": 347,
    "start_time": "2022-01-12T19:59:34.396Z"
   },
   {
    "duration": 24,
    "start_time": "2022-01-12T19:59:34.745Z"
   },
   {
    "duration": 368,
    "start_time": "2022-01-12T19:59:34.772Z"
   },
   {
    "duration": 366,
    "start_time": "2022-01-12T19:59:35.142Z"
   },
   {
    "duration": 382,
    "start_time": "2022-01-12T19:59:35.511Z"
   },
   {
    "duration": 474,
    "start_time": "2022-01-12T19:59:35.895Z"
   },
   {
    "duration": 373,
    "start_time": "2022-01-12T19:59:36.371Z"
   },
   {
    "duration": 6,
    "start_time": "2022-01-12T19:59:36.746Z"
   },
   {
    "duration": 6,
    "start_time": "2022-01-12T19:59:36.754Z"
   },
   {
    "duration": 9,
    "start_time": "2022-01-12T19:59:36.762Z"
   },
   {
    "duration": 44,
    "start_time": "2022-01-12T19:59:36.773Z"
   },
   {
    "duration": 247,
    "start_time": "2022-01-12T19:59:36.820Z"
   },
   {
    "duration": 11,
    "start_time": "2022-01-12T19:59:37.070Z"
   },
   {
    "duration": 581,
    "start_time": "2022-01-12T19:59:37.084Z"
   },
   {
    "duration": 239,
    "start_time": "2022-01-12T19:59:37.669Z"
   },
   {
    "duration": 72,
    "start_time": "2022-01-12T19:59:37.917Z"
   },
   {
    "duration": 29,
    "start_time": "2022-01-12T19:59:37.991Z"
   },
   {
    "duration": 8,
    "start_time": "2022-01-12T19:59:38.022Z"
   },
   {
    "duration": 17,
    "start_time": "2022-01-12T19:59:38.033Z"
   },
   {
    "duration": 5,
    "start_time": "2022-01-12T19:59:38.058Z"
   },
   {
    "duration": 58,
    "start_time": "2022-01-12T19:59:38.067Z"
   },
   {
    "duration": 8,
    "start_time": "2022-01-12T19:59:38.128Z"
   },
   {
    "duration": 9,
    "start_time": "2022-01-12T19:59:38.138Z"
   },
   {
    "duration": 800,
    "start_time": "2022-01-12T19:59:38.149Z"
   },
   {
    "duration": 475,
    "start_time": "2022-01-12T19:59:38.951Z"
   },
   {
    "duration": 229,
    "start_time": "2022-01-12T19:59:39.429Z"
   },
   {
    "duration": 261,
    "start_time": "2022-01-12T19:59:39.660Z"
   },
   {
    "duration": 278,
    "start_time": "2022-01-12T19:59:39.924Z"
   },
   {
    "duration": 257,
    "start_time": "2022-01-12T19:59:40.205Z"
   },
   {
    "duration": 5,
    "start_time": "2022-01-12T19:59:40.465Z"
   },
   {
    "duration": 17,
    "start_time": "2022-01-12T19:59:40.472Z"
   },
   {
    "duration": 467,
    "start_time": "2022-01-12T19:59:40.518Z"
   },
   {
    "duration": 49,
    "start_time": "2022-01-12T19:59:40.988Z"
   },
   {
    "duration": 13,
    "start_time": "2022-01-12T19:59:41.040Z"
   },
   {
    "duration": 475,
    "start_time": "2022-01-12T19:59:41.055Z"
   },
   {
    "duration": 247,
    "start_time": "2022-01-12T19:59:41.532Z"
   },
   {
    "duration": 137,
    "start_time": "2022-01-12T19:59:41.782Z"
   },
   {
    "duration": 16,
    "start_time": "2022-01-12T19:59:41.922Z"
   },
   {
    "duration": 17,
    "start_time": "2022-01-12T19:59:41.940Z"
   }
  ],
  "kernelspec": {
   "display_name": "Python 3 (ipykernel)",
   "language": "python",
   "name": "python3"
  },
  "language_info": {
   "codemirror_mode": {
    "name": "ipython",
    "version": 3
   },
   "file_extension": ".py",
   "mimetype": "text/x-python",
   "name": "python",
   "nbconvert_exporter": "python",
   "pygments_lexer": "ipython3",
   "version": "3.9.7"
  },
  "toc": {
   "base_numbering": 1,
   "nav_menu": {},
   "number_sections": true,
   "sideBar": true,
   "skip_h1_title": true,
   "title_cell": "Содержание",
   "title_sidebar": "Contents",
   "toc_cell": true,
   "toc_position": {
    "height": "calc(100% - 180px)",
    "left": "10px",
    "top": "150px",
    "width": "165px"
   },
   "toc_section_display": true,
   "toc_window_display": true
  }
 },
 "nbformat": 4,
 "nbformat_minor": 2
}
