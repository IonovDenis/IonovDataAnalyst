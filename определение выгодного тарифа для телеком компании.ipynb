{
 "cells": [
  {
   "cell_type": "markdown",
   "metadata": {},
   "source": [
    "# Определение перспективного тарифа для телеком-компании"
   ]
  },
  {
   "cell_type": "markdown",
   "metadata": {},
   "source": [
    "\n",
    "# Шаг 1. Открыть файл с данными и изучить общую информацию"
   ]
  },
  {
   "cell_type": "code",
   "execution_count": 64,
   "metadata": {},
   "outputs": [],
   "source": [
    "#импортируем необходимые для проекта библиотеки Python\n",
    "import pandas as pd\n",
    "import math \n",
    "import seaborn as sns\n",
    "import matplotlib.pyplot as plt\n",
    "import numpy as np\n",
    "import scipy.stats as st\n",
    "from functools import reduce\n",
    "from scipy import stats as st\n"
   ]
  },
  {
   "cell_type": "code",
   "execution_count": 65,
   "metadata": {},
   "outputs": [],
   "source": [
    "#ознакомимся с данными приведеными в 5 таблицах\n",
    "calls = pd.read_csv('/datasets/calls.csv')\n",
    "internet = pd.read_csv('/datasets/internet.csv')\n",
    "messages = pd.read_csv('/datasets/messages.csv')\n",
    "tariffs = pd.read_csv('/datasets/tariffs.csv')\n",
    "users = pd.read_csv('/datasets/users.csv')"
   ]
  },
  {
   "cell_type": "code",
   "execution_count": 66,
   "metadata": {},
   "outputs": [
    {
     "data": {
      "text/html": [
       "<div>\n",
       "<style scoped>\n",
       "    .dataframe tbody tr th:only-of-type {\n",
       "        vertical-align: middle;\n",
       "    }\n",
       "\n",
       "    .dataframe tbody tr th {\n",
       "        vertical-align: top;\n",
       "    }\n",
       "\n",
       "    .dataframe thead th {\n",
       "        text-align: right;\n",
       "    }\n",
       "</style>\n",
       "<table border=\"1\" class=\"dataframe\">\n",
       "  <thead>\n",
       "    <tr style=\"text-align: right;\">\n",
       "      <th></th>\n",
       "      <th>user_id</th>\n",
       "      <th>age</th>\n",
       "      <th>churn_date</th>\n",
       "      <th>city</th>\n",
       "      <th>first_name</th>\n",
       "      <th>last_name</th>\n",
       "      <th>reg_date</th>\n",
       "      <th>tariff</th>\n",
       "    </tr>\n",
       "  </thead>\n",
       "  <tbody>\n",
       "    <tr>\n",
       "      <td>0</td>\n",
       "      <td>1000</td>\n",
       "      <td>52</td>\n",
       "      <td>NaN</td>\n",
       "      <td>Краснодар</td>\n",
       "      <td>Рафаил</td>\n",
       "      <td>Верещагин</td>\n",
       "      <td>2018-05-25</td>\n",
       "      <td>ultra</td>\n",
       "    </tr>\n",
       "    <tr>\n",
       "      <td>1</td>\n",
       "      <td>1001</td>\n",
       "      <td>41</td>\n",
       "      <td>NaN</td>\n",
       "      <td>Москва</td>\n",
       "      <td>Иван</td>\n",
       "      <td>Ежов</td>\n",
       "      <td>2018-11-01</td>\n",
       "      <td>smart</td>\n",
       "    </tr>\n",
       "    <tr>\n",
       "      <td>2</td>\n",
       "      <td>1002</td>\n",
       "      <td>59</td>\n",
       "      <td>NaN</td>\n",
       "      <td>Стерлитамак</td>\n",
       "      <td>Евгений</td>\n",
       "      <td>Абрамович</td>\n",
       "      <td>2018-06-17</td>\n",
       "      <td>smart</td>\n",
       "    </tr>\n",
       "    <tr>\n",
       "      <td>3</td>\n",
       "      <td>1003</td>\n",
       "      <td>23</td>\n",
       "      <td>NaN</td>\n",
       "      <td>Москва</td>\n",
       "      <td>Белла</td>\n",
       "      <td>Белякова</td>\n",
       "      <td>2018-08-17</td>\n",
       "      <td>ultra</td>\n",
       "    </tr>\n",
       "    <tr>\n",
       "      <td>4</td>\n",
       "      <td>1004</td>\n",
       "      <td>68</td>\n",
       "      <td>NaN</td>\n",
       "      <td>Новокузнецк</td>\n",
       "      <td>Татьяна</td>\n",
       "      <td>Авдеенко</td>\n",
       "      <td>2018-05-14</td>\n",
       "      <td>ultra</td>\n",
       "    </tr>\n",
       "    <tr>\n",
       "      <td>...</td>\n",
       "      <td>...</td>\n",
       "      <td>...</td>\n",
       "      <td>...</td>\n",
       "      <td>...</td>\n",
       "      <td>...</td>\n",
       "      <td>...</td>\n",
       "      <td>...</td>\n",
       "      <td>...</td>\n",
       "    </tr>\n",
       "    <tr>\n",
       "      <td>495</td>\n",
       "      <td>1495</td>\n",
       "      <td>65</td>\n",
       "      <td>NaN</td>\n",
       "      <td>Иркутск</td>\n",
       "      <td>Авксентий</td>\n",
       "      <td>Фокин</td>\n",
       "      <td>2018-08-28</td>\n",
       "      <td>ultra</td>\n",
       "    </tr>\n",
       "    <tr>\n",
       "      <td>496</td>\n",
       "      <td>1496</td>\n",
       "      <td>36</td>\n",
       "      <td>NaN</td>\n",
       "      <td>Вологда</td>\n",
       "      <td>Трифон</td>\n",
       "      <td>Блохин</td>\n",
       "      <td>2018-01-27</td>\n",
       "      <td>smart</td>\n",
       "    </tr>\n",
       "    <tr>\n",
       "      <td>497</td>\n",
       "      <td>1497</td>\n",
       "      <td>32</td>\n",
       "      <td>NaN</td>\n",
       "      <td>Челябинск</td>\n",
       "      <td>Каролина</td>\n",
       "      <td>Агеева</td>\n",
       "      <td>2018-10-09</td>\n",
       "      <td>smart</td>\n",
       "    </tr>\n",
       "    <tr>\n",
       "      <td>498</td>\n",
       "      <td>1498</td>\n",
       "      <td>68</td>\n",
       "      <td>2018-10-25</td>\n",
       "      <td>Владикавказ</td>\n",
       "      <td>Всеволод</td>\n",
       "      <td>Акимчин</td>\n",
       "      <td>2018-07-19</td>\n",
       "      <td>smart</td>\n",
       "    </tr>\n",
       "    <tr>\n",
       "      <td>499</td>\n",
       "      <td>1499</td>\n",
       "      <td>35</td>\n",
       "      <td>NaN</td>\n",
       "      <td>Пермь</td>\n",
       "      <td>Гектор</td>\n",
       "      <td>Корнилов</td>\n",
       "      <td>2018-09-27</td>\n",
       "      <td>smart</td>\n",
       "    </tr>\n",
       "  </tbody>\n",
       "</table>\n",
       "<p>500 rows × 8 columns</p>\n",
       "</div>"
      ],
      "text/plain": [
       "     user_id  age  churn_date         city first_name  last_name    reg_date  \\\n",
       "0       1000   52         NaN    Краснодар     Рафаил  Верещагин  2018-05-25   \n",
       "1       1001   41         NaN       Москва       Иван       Ежов  2018-11-01   \n",
       "2       1002   59         NaN  Стерлитамак    Евгений  Абрамович  2018-06-17   \n",
       "3       1003   23         NaN       Москва      Белла   Белякова  2018-08-17   \n",
       "4       1004   68         NaN  Новокузнецк    Татьяна   Авдеенко  2018-05-14   \n",
       "..       ...  ...         ...          ...        ...        ...         ...   \n",
       "495     1495   65         NaN      Иркутск  Авксентий      Фокин  2018-08-28   \n",
       "496     1496   36         NaN      Вологда     Трифон     Блохин  2018-01-27   \n",
       "497     1497   32         NaN    Челябинск   Каролина     Агеева  2018-10-09   \n",
       "498     1498   68  2018-10-25  Владикавказ   Всеволод    Акимчин  2018-07-19   \n",
       "499     1499   35         NaN        Пермь     Гектор   Корнилов  2018-09-27   \n",
       "\n",
       "    tariff  \n",
       "0    ultra  \n",
       "1    smart  \n",
       "2    smart  \n",
       "3    ultra  \n",
       "4    ultra  \n",
       "..     ...  \n",
       "495  ultra  \n",
       "496  smart  \n",
       "497  smart  \n",
       "498  smart  \n",
       "499  smart  \n",
       "\n",
       "[500 rows x 8 columns]"
      ]
     },
     "execution_count": 66,
     "metadata": {},
     "output_type": "execute_result"
    }
   ],
   "source": [
    "#информация о пользователях\n",
    "users"
   ]
  },
  {
   "cell_type": "code",
   "execution_count": 67,
   "metadata": {},
   "outputs": [
    {
     "data": {
      "text/html": [
       "<div>\n",
       "<style scoped>\n",
       "    .dataframe tbody tr th:only-of-type {\n",
       "        vertical-align: middle;\n",
       "    }\n",
       "\n",
       "    .dataframe tbody tr th {\n",
       "        vertical-align: top;\n",
       "    }\n",
       "\n",
       "    .dataframe thead th {\n",
       "        text-align: right;\n",
       "    }\n",
       "</style>\n",
       "<table border=\"1\" class=\"dataframe\">\n",
       "  <thead>\n",
       "    <tr style=\"text-align: right;\">\n",
       "      <th></th>\n",
       "      <th>id</th>\n",
       "      <th>call_date</th>\n",
       "      <th>duration</th>\n",
       "      <th>user_id</th>\n",
       "    </tr>\n",
       "  </thead>\n",
       "  <tbody>\n",
       "    <tr>\n",
       "      <td>0</td>\n",
       "      <td>1000_0</td>\n",
       "      <td>2018-07-25</td>\n",
       "      <td>0.00</td>\n",
       "      <td>1000</td>\n",
       "    </tr>\n",
       "    <tr>\n",
       "      <td>1</td>\n",
       "      <td>1000_1</td>\n",
       "      <td>2018-08-17</td>\n",
       "      <td>0.00</td>\n",
       "      <td>1000</td>\n",
       "    </tr>\n",
       "    <tr>\n",
       "      <td>2</td>\n",
       "      <td>1000_2</td>\n",
       "      <td>2018-06-11</td>\n",
       "      <td>2.85</td>\n",
       "      <td>1000</td>\n",
       "    </tr>\n",
       "    <tr>\n",
       "      <td>3</td>\n",
       "      <td>1000_3</td>\n",
       "      <td>2018-09-21</td>\n",
       "      <td>13.80</td>\n",
       "      <td>1000</td>\n",
       "    </tr>\n",
       "    <tr>\n",
       "      <td>4</td>\n",
       "      <td>1000_4</td>\n",
       "      <td>2018-12-15</td>\n",
       "      <td>5.18</td>\n",
       "      <td>1000</td>\n",
       "    </tr>\n",
       "    <tr>\n",
       "      <td>...</td>\n",
       "      <td>...</td>\n",
       "      <td>...</td>\n",
       "      <td>...</td>\n",
       "      <td>...</td>\n",
       "    </tr>\n",
       "    <tr>\n",
       "      <td>202602</td>\n",
       "      <td>1499_215</td>\n",
       "      <td>2018-12-26</td>\n",
       "      <td>0.76</td>\n",
       "      <td>1499</td>\n",
       "    </tr>\n",
       "    <tr>\n",
       "      <td>202603</td>\n",
       "      <td>1499_216</td>\n",
       "      <td>2018-10-18</td>\n",
       "      <td>18.83</td>\n",
       "      <td>1499</td>\n",
       "    </tr>\n",
       "    <tr>\n",
       "      <td>202604</td>\n",
       "      <td>1499_217</td>\n",
       "      <td>2018-11-10</td>\n",
       "      <td>10.81</td>\n",
       "      <td>1499</td>\n",
       "    </tr>\n",
       "    <tr>\n",
       "      <td>202605</td>\n",
       "      <td>1499_218</td>\n",
       "      <td>2018-10-06</td>\n",
       "      <td>4.27</td>\n",
       "      <td>1499</td>\n",
       "    </tr>\n",
       "    <tr>\n",
       "      <td>202606</td>\n",
       "      <td>1499_219</td>\n",
       "      <td>2018-12-14</td>\n",
       "      <td>19.62</td>\n",
       "      <td>1499</td>\n",
       "    </tr>\n",
       "  </tbody>\n",
       "</table>\n",
       "<p>202607 rows × 4 columns</p>\n",
       "</div>"
      ],
      "text/plain": [
       "              id   call_date  duration  user_id\n",
       "0         1000_0  2018-07-25      0.00     1000\n",
       "1         1000_1  2018-08-17      0.00     1000\n",
       "2         1000_2  2018-06-11      2.85     1000\n",
       "3         1000_3  2018-09-21     13.80     1000\n",
       "4         1000_4  2018-12-15      5.18     1000\n",
       "...          ...         ...       ...      ...\n",
       "202602  1499_215  2018-12-26      0.76     1499\n",
       "202603  1499_216  2018-10-18     18.83     1499\n",
       "202604  1499_217  2018-11-10     10.81     1499\n",
       "202605  1499_218  2018-10-06      4.27     1499\n",
       "202606  1499_219  2018-12-14     19.62     1499\n",
       "\n",
       "[202607 rows x 4 columns]"
      ]
     },
     "execution_count": 67,
     "metadata": {},
     "output_type": "execute_result"
    }
   ],
   "source": [
    "#информация о звонках\n",
    "calls"
   ]
  },
  {
   "cell_type": "code",
   "execution_count": 68,
   "metadata": {},
   "outputs": [
    {
     "data": {
      "text/html": [
       "<div>\n",
       "<style scoped>\n",
       "    .dataframe tbody tr th:only-of-type {\n",
       "        vertical-align: middle;\n",
       "    }\n",
       "\n",
       "    .dataframe tbody tr th {\n",
       "        vertical-align: top;\n",
       "    }\n",
       "\n",
       "    .dataframe thead th {\n",
       "        text-align: right;\n",
       "    }\n",
       "</style>\n",
       "<table border=\"1\" class=\"dataframe\">\n",
       "  <thead>\n",
       "    <tr style=\"text-align: right;\">\n",
       "      <th></th>\n",
       "      <th>Unnamed: 0</th>\n",
       "      <th>id</th>\n",
       "      <th>mb_used</th>\n",
       "      <th>session_date</th>\n",
       "      <th>user_id</th>\n",
       "    </tr>\n",
       "  </thead>\n",
       "  <tbody>\n",
       "    <tr>\n",
       "      <td>0</td>\n",
       "      <td>0</td>\n",
       "      <td>1000_0</td>\n",
       "      <td>112.95</td>\n",
       "      <td>2018-11-25</td>\n",
       "      <td>1000</td>\n",
       "    </tr>\n",
       "    <tr>\n",
       "      <td>1</td>\n",
       "      <td>1</td>\n",
       "      <td>1000_1</td>\n",
       "      <td>1052.81</td>\n",
       "      <td>2018-09-07</td>\n",
       "      <td>1000</td>\n",
       "    </tr>\n",
       "    <tr>\n",
       "      <td>2</td>\n",
       "      <td>2</td>\n",
       "      <td>1000_2</td>\n",
       "      <td>1197.26</td>\n",
       "      <td>2018-06-25</td>\n",
       "      <td>1000</td>\n",
       "    </tr>\n",
       "    <tr>\n",
       "      <td>3</td>\n",
       "      <td>3</td>\n",
       "      <td>1000_3</td>\n",
       "      <td>550.27</td>\n",
       "      <td>2018-08-22</td>\n",
       "      <td>1000</td>\n",
       "    </tr>\n",
       "    <tr>\n",
       "      <td>4</td>\n",
       "      <td>4</td>\n",
       "      <td>1000_4</td>\n",
       "      <td>302.56</td>\n",
       "      <td>2018-09-24</td>\n",
       "      <td>1000</td>\n",
       "    </tr>\n",
       "    <tr>\n",
       "      <td>...</td>\n",
       "      <td>...</td>\n",
       "      <td>...</td>\n",
       "      <td>...</td>\n",
       "      <td>...</td>\n",
       "      <td>...</td>\n",
       "    </tr>\n",
       "    <tr>\n",
       "      <td>149391</td>\n",
       "      <td>149391</td>\n",
       "      <td>1499_152</td>\n",
       "      <td>318.90</td>\n",
       "      <td>2018-10-03</td>\n",
       "      <td>1499</td>\n",
       "    </tr>\n",
       "    <tr>\n",
       "      <td>149392</td>\n",
       "      <td>149392</td>\n",
       "      <td>1499_153</td>\n",
       "      <td>490.13</td>\n",
       "      <td>2018-12-14</td>\n",
       "      <td>1499</td>\n",
       "    </tr>\n",
       "    <tr>\n",
       "      <td>149393</td>\n",
       "      <td>149393</td>\n",
       "      <td>1499_154</td>\n",
       "      <td>0.00</td>\n",
       "      <td>2018-10-27</td>\n",
       "      <td>1499</td>\n",
       "    </tr>\n",
       "    <tr>\n",
       "      <td>149394</td>\n",
       "      <td>149394</td>\n",
       "      <td>1499_155</td>\n",
       "      <td>1246.32</td>\n",
       "      <td>2018-11-26</td>\n",
       "      <td>1499</td>\n",
       "    </tr>\n",
       "    <tr>\n",
       "      <td>149395</td>\n",
       "      <td>149395</td>\n",
       "      <td>1499_156</td>\n",
       "      <td>544.37</td>\n",
       "      <td>2018-10-26</td>\n",
       "      <td>1499</td>\n",
       "    </tr>\n",
       "  </tbody>\n",
       "</table>\n",
       "<p>149396 rows × 5 columns</p>\n",
       "</div>"
      ],
      "text/plain": [
       "        Unnamed: 0        id  mb_used session_date  user_id\n",
       "0                0    1000_0   112.95   2018-11-25     1000\n",
       "1                1    1000_1  1052.81   2018-09-07     1000\n",
       "2                2    1000_2  1197.26   2018-06-25     1000\n",
       "3                3    1000_3   550.27   2018-08-22     1000\n",
       "4                4    1000_4   302.56   2018-09-24     1000\n",
       "...            ...       ...      ...          ...      ...\n",
       "149391      149391  1499_152   318.90   2018-10-03     1499\n",
       "149392      149392  1499_153   490.13   2018-12-14     1499\n",
       "149393      149393  1499_154     0.00   2018-10-27     1499\n",
       "149394      149394  1499_155  1246.32   2018-11-26     1499\n",
       "149395      149395  1499_156   544.37   2018-10-26     1499\n",
       "\n",
       "[149396 rows x 5 columns]"
      ]
     },
     "execution_count": 68,
     "metadata": {},
     "output_type": "execute_result"
    }
   ],
   "source": [
    "#информация об интернет-сессиях\n",
    "internet"
   ]
  },
  {
   "cell_type": "code",
   "execution_count": 69,
   "metadata": {},
   "outputs": [
    {
     "data": {
      "text/html": [
       "<div>\n",
       "<style scoped>\n",
       "    .dataframe tbody tr th:only-of-type {\n",
       "        vertical-align: middle;\n",
       "    }\n",
       "\n",
       "    .dataframe tbody tr th {\n",
       "        vertical-align: top;\n",
       "    }\n",
       "\n",
       "    .dataframe thead th {\n",
       "        text-align: right;\n",
       "    }\n",
       "</style>\n",
       "<table border=\"1\" class=\"dataframe\">\n",
       "  <thead>\n",
       "    <tr style=\"text-align: right;\">\n",
       "      <th></th>\n",
       "      <th>id</th>\n",
       "      <th>message_date</th>\n",
       "      <th>user_id</th>\n",
       "    </tr>\n",
       "  </thead>\n",
       "  <tbody>\n",
       "    <tr>\n",
       "      <td>0</td>\n",
       "      <td>1000_0</td>\n",
       "      <td>2018-06-27</td>\n",
       "      <td>1000</td>\n",
       "    </tr>\n",
       "    <tr>\n",
       "      <td>1</td>\n",
       "      <td>1000_1</td>\n",
       "      <td>2018-10-08</td>\n",
       "      <td>1000</td>\n",
       "    </tr>\n",
       "    <tr>\n",
       "      <td>2</td>\n",
       "      <td>1000_2</td>\n",
       "      <td>2018-08-04</td>\n",
       "      <td>1000</td>\n",
       "    </tr>\n",
       "    <tr>\n",
       "      <td>3</td>\n",
       "      <td>1000_3</td>\n",
       "      <td>2018-06-16</td>\n",
       "      <td>1000</td>\n",
       "    </tr>\n",
       "    <tr>\n",
       "      <td>4</td>\n",
       "      <td>1000_4</td>\n",
       "      <td>2018-12-05</td>\n",
       "      <td>1000</td>\n",
       "    </tr>\n",
       "    <tr>\n",
       "      <td>...</td>\n",
       "      <td>...</td>\n",
       "      <td>...</td>\n",
       "      <td>...</td>\n",
       "    </tr>\n",
       "    <tr>\n",
       "      <td>123031</td>\n",
       "      <td>1499_179</td>\n",
       "      <td>2018-12-12</td>\n",
       "      <td>1499</td>\n",
       "    </tr>\n",
       "    <tr>\n",
       "      <td>123032</td>\n",
       "      <td>1499_180</td>\n",
       "      <td>2018-09-28</td>\n",
       "      <td>1499</td>\n",
       "    </tr>\n",
       "    <tr>\n",
       "      <td>123033</td>\n",
       "      <td>1499_181</td>\n",
       "      <td>2018-09-27</td>\n",
       "      <td>1499</td>\n",
       "    </tr>\n",
       "    <tr>\n",
       "      <td>123034</td>\n",
       "      <td>1499_182</td>\n",
       "      <td>2018-11-15</td>\n",
       "      <td>1499</td>\n",
       "    </tr>\n",
       "    <tr>\n",
       "      <td>123035</td>\n",
       "      <td>1499_183</td>\n",
       "      <td>2018-11-16</td>\n",
       "      <td>1499</td>\n",
       "    </tr>\n",
       "  </tbody>\n",
       "</table>\n",
       "<p>123036 rows × 3 columns</p>\n",
       "</div>"
      ],
      "text/plain": [
       "              id message_date  user_id\n",
       "0         1000_0   2018-06-27     1000\n",
       "1         1000_1   2018-10-08     1000\n",
       "2         1000_2   2018-08-04     1000\n",
       "3         1000_3   2018-06-16     1000\n",
       "4         1000_4   2018-12-05     1000\n",
       "...          ...          ...      ...\n",
       "123031  1499_179   2018-12-12     1499\n",
       "123032  1499_180   2018-09-28     1499\n",
       "123033  1499_181   2018-09-27     1499\n",
       "123034  1499_182   2018-11-15     1499\n",
       "123035  1499_183   2018-11-16     1499\n",
       "\n",
       "[123036 rows x 3 columns]"
      ]
     },
     "execution_count": 69,
     "metadata": {},
     "output_type": "execute_result"
    }
   ],
   "source": [
    "#информация о сообщениях\n",
    "messages"
   ]
  },
  {
   "cell_type": "code",
   "execution_count": 70,
   "metadata": {},
   "outputs": [
    {
     "data": {
      "text/html": [
       "<div>\n",
       "<style scoped>\n",
       "    .dataframe tbody tr th:only-of-type {\n",
       "        vertical-align: middle;\n",
       "    }\n",
       "\n",
       "    .dataframe tbody tr th {\n",
       "        vertical-align: top;\n",
       "    }\n",
       "\n",
       "    .dataframe thead th {\n",
       "        text-align: right;\n",
       "    }\n",
       "</style>\n",
       "<table border=\"1\" class=\"dataframe\">\n",
       "  <thead>\n",
       "    <tr style=\"text-align: right;\">\n",
       "      <th></th>\n",
       "      <th>messages_included</th>\n",
       "      <th>mb_per_month_included</th>\n",
       "      <th>minutes_included</th>\n",
       "      <th>rub_monthly_fee</th>\n",
       "      <th>rub_per_gb</th>\n",
       "      <th>rub_per_message</th>\n",
       "      <th>rub_per_minute</th>\n",
       "      <th>tariff_name</th>\n",
       "    </tr>\n",
       "  </thead>\n",
       "  <tbody>\n",
       "    <tr>\n",
       "      <td>0</td>\n",
       "      <td>50</td>\n",
       "      <td>15360</td>\n",
       "      <td>500</td>\n",
       "      <td>550</td>\n",
       "      <td>200</td>\n",
       "      <td>3</td>\n",
       "      <td>3</td>\n",
       "      <td>smart</td>\n",
       "    </tr>\n",
       "    <tr>\n",
       "      <td>1</td>\n",
       "      <td>1000</td>\n",
       "      <td>30720</td>\n",
       "      <td>3000</td>\n",
       "      <td>1950</td>\n",
       "      <td>150</td>\n",
       "      <td>1</td>\n",
       "      <td>1</td>\n",
       "      <td>ultra</td>\n",
       "    </tr>\n",
       "  </tbody>\n",
       "</table>\n",
       "</div>"
      ],
      "text/plain": [
       "   messages_included  mb_per_month_included  minutes_included  \\\n",
       "0                 50                  15360               500   \n",
       "1               1000                  30720              3000   \n",
       "\n",
       "   rub_monthly_fee  rub_per_gb  rub_per_message  rub_per_minute tariff_name  \n",
       "0              550         200                3               3       smart  \n",
       "1             1950         150                1               1       ultra  "
      ]
     },
     "execution_count": 70,
     "metadata": {},
     "output_type": "execute_result"
    }
   ],
   "source": [
    "#информация о тарифах\n",
    "tariffs"
   ]
  },
  {
   "cell_type": "markdown",
   "metadata": {},
   "source": [
    "**Описание тарифов**\n",
    "\n",
    "**Тариф «Смарт»**\n",
    "- Ежемесячная плата: 550 рублей\n",
    "- Включено 500 минут разговора, 50 сообщений и 15 Гб интернет-трафика\n",
    "- Стоимость услуг сверх тарифного пакета: 1. минута разговора: 3 рубля («Мегалайн» всегда округляет вверх значения минут и мегабайтов. Если пользователь проговорил всего 1 секунду, в тарифе засчитывается целая минута); 2. сообщение: 3 рубля; 3. 1 Гб интернет-трафика: 200 рублей.\n",
    "\n",
    "**Тариф «Ультра»**\n",
    "- Ежемесячная плата: 1950 рублей\n",
    "- Включено 3000 минут разговора, 1000 сообщений и 30 Гб интернет-трафика\n",
    "- Стоимость услуг сверх тарифного пакета: 1. минута разговора: 1 рубль; 2. сообщение: 1 рубль; 3. 1 Гб интернет-трафика: 150 рублей."
   ]
  },
  {
   "cell_type": "markdown",
   "metadata": {},
   "source": [
    "**Посмотрим на общую информацию о таблицах количестве строк, столбцов и типах данных.** "
   ]
  },
  {
   "cell_type": "markdown",
   "metadata": {},
   "source": [
    "**Таблица users (информация о пользователях):**\n",
    " \n",
    "- user_id — уникальный идентификатор пользователя\n",
    "- first_name — имя пользователя\n",
    "- last_name — фамилия пользователя\n",
    "- age — возраст пользователя (годы)\n",
    "- reg_date — дата подключения тарифа (день, месяц, год)\n",
    "- churn_date — дата прекращения пользования тарифом (если значение пропущено, то тариф ещё действовал на момент выгрузки данных)\n",
    "- city — город проживания пользователя\n",
    "- tarif — название тарифного плана"
   ]
  },
  {
   "cell_type": "code",
   "execution_count": 71,
   "metadata": {},
   "outputs": [
    {
     "name": "stdout",
     "output_type": "stream",
     "text": [
      "<class 'pandas.core.frame.DataFrame'>\n",
      "RangeIndex: 500 entries, 0 to 499\n",
      "Data columns (total 8 columns):\n",
      "user_id       500 non-null int64\n",
      "age           500 non-null int64\n",
      "churn_date    38 non-null object\n",
      "city          500 non-null object\n",
      "first_name    500 non-null object\n",
      "last_name     500 non-null object\n",
      "reg_date      500 non-null object\n",
      "tariff        500 non-null object\n",
      "dtypes: int64(2), object(6)\n",
      "memory usage: 31.4+ KB\n"
     ]
    }
   ],
   "source": [
    "#пользователи\n",
    "users.info()"
   ]
  },
  {
   "cell_type": "markdown",
   "metadata": {},
   "source": [
    "**Таблица calls (информация о звонках):**\n",
    " \n",
    "- id — уникальный номер звонка\n",
    "- call_date — дата звонка\n",
    "- duration — длительность звонка в минутах\n",
    "- user_id — идентификатор пользователя, сделавшего звонок"
   ]
  },
  {
   "cell_type": "code",
   "execution_count": 72,
   "metadata": {},
   "outputs": [
    {
     "name": "stdout",
     "output_type": "stream",
     "text": [
      "<class 'pandas.core.frame.DataFrame'>\n",
      "RangeIndex: 202607 entries, 0 to 202606\n",
      "Data columns (total 4 columns):\n",
      "id           202607 non-null object\n",
      "call_date    202607 non-null object\n",
      "duration     202607 non-null float64\n",
      "user_id      202607 non-null int64\n",
      "dtypes: float64(1), int64(1), object(2)\n",
      "memory usage: 6.2+ MB\n"
     ]
    }
   ],
   "source": [
    "#звонки\n",
    "calls.info()"
   ]
  },
  {
   "cell_type": "markdown",
   "metadata": {},
   "source": [
    "**Таблица internet (информация об интернет-сессиях):**\n",
    " \n",
    "- id — уникальный номер сессии\n",
    "- mb_used — объём потраченного за сессию интернет-трафика (в мегабайтах)\n",
    "- session_date — дата интернет-сессии\n",
    "- user_id — идентификатор пользователя"
   ]
  },
  {
   "cell_type": "code",
   "execution_count": 73,
   "metadata": {},
   "outputs": [
    {
     "name": "stdout",
     "output_type": "stream",
     "text": [
      "<class 'pandas.core.frame.DataFrame'>\n",
      "RangeIndex: 149396 entries, 0 to 149395\n",
      "Data columns (total 5 columns):\n",
      "Unnamed: 0      149396 non-null int64\n",
      "id              149396 non-null object\n",
      "mb_used         149396 non-null float64\n",
      "session_date    149396 non-null object\n",
      "user_id         149396 non-null int64\n",
      "dtypes: float64(1), int64(2), object(2)\n",
      "memory usage: 5.7+ MB\n"
     ]
    }
   ],
   "source": [
    "#интернет\n",
    "internet.info()"
   ]
  },
  {
   "cell_type": "markdown",
   "metadata": {},
   "source": [
    "**Таблица tariffs (информация о тарифах):**\n",
    " \n",
    "- tariff_name — название тарифа\n",
    "- rub_monthly_fee — ежемесячная абонентская плата в рублях\n",
    "- minutes_included — количество минут разговора в месяц, включённых в абонентскую плату\n",
    "- messages_included — количество сообщений в месяц, включённых в абонентскую плату\n",
    "- mb_per_month_included — объём интернет-трафика, включённого в абонентскую плату (в мегабайтах)\n",
    "- rub_per_minute — стоимость минуты разговора сверх тарифного пакета (например, если в тарифе 100 минут разговора в месяц, то со 101 минуты будет взиматься плата)\n",
    "- rub_per_message — стоимость отправки сообщения сверх тарифного пакета\n",
    "- rub_per_gb — стоимость дополнительного гигабайта интернет-трафика сверх тарифного пакета (1 гигабайт = 1024 мегабайта)"
   ]
  },
  {
   "cell_type": "code",
   "execution_count": 74,
   "metadata": {},
   "outputs": [
    {
     "name": "stdout",
     "output_type": "stream",
     "text": [
      "<class 'pandas.core.frame.DataFrame'>\n",
      "RangeIndex: 2 entries, 0 to 1\n",
      "Data columns (total 8 columns):\n",
      "messages_included        2 non-null int64\n",
      "mb_per_month_included    2 non-null int64\n",
      "minutes_included         2 non-null int64\n",
      "rub_monthly_fee          2 non-null int64\n",
      "rub_per_gb               2 non-null int64\n",
      "rub_per_message          2 non-null int64\n",
      "rub_per_minute           2 non-null int64\n",
      "tariff_name              2 non-null object\n",
      "dtypes: int64(7), object(1)\n",
      "memory usage: 256.0+ bytes\n"
     ]
    }
   ],
   "source": [
    "#тарифы\n",
    "tariffs.info()"
   ]
  },
  {
   "cell_type": "markdown",
   "metadata": {},
   "source": [
    "**Таблица messages (информация о сообщениях):**\n",
    "- id — уникальный номер сообщения\n",
    "- message_date — дата сообщения\n",
    "- user_id — идентификатор пользователя, отправившего сообщение"
   ]
  },
  {
   "cell_type": "code",
   "execution_count": 75,
   "metadata": {},
   "outputs": [
    {
     "name": "stdout",
     "output_type": "stream",
     "text": [
      "<class 'pandas.core.frame.DataFrame'>\n",
      "RangeIndex: 123036 entries, 0 to 123035\n",
      "Data columns (total 3 columns):\n",
      "id              123036 non-null object\n",
      "message_date    123036 non-null object\n",
      "user_id         123036 non-null int64\n",
      "dtypes: int64(1), object(2)\n",
      "memory usage: 2.8+ MB\n"
     ]
    }
   ],
   "source": [
    "#сообщения\n",
    "messages.info()"
   ]
  },
  {
   "cell_type": "markdown",
   "metadata": {},
   "source": [
    "Из полученных таблиц сразу видно, что имеются проблемы с датами, указанными как вещественный тип данных. Длительность звонка в минутах и скаченный траффик нужно изменить, привести к целочисленному виду и округлить в большую сторону, как этого требует оператор."
   ]
  },
  {
   "cell_type": "markdown",
   "metadata": {},
   "source": [
    "# Шаг 2. Предобработка данных"
   ]
  },
  {
   "cell_type": "code",
   "execution_count": 76,
   "metadata": {},
   "outputs": [],
   "source": [
    "#из дано известно, что \"Мегалайн\" всегда округляет секунды до минут\n",
    "#duration — длительность звонка в минутах - из дано длительность уже в минутах занчит надо избавиться от дробной части\n",
    "calls['duration'] = calls['duration'].apply(np.ceil).astype(int)"
   ]
  },
  {
   "cell_type": "code",
   "execution_count": 77,
   "metadata": {},
   "outputs": [],
   "source": [
    "#churn_date — дата прекращения пользования тарифом (если значение пропущено, то тариф ещё действовал на момент выгрузки данных)\n",
    "#для красоты заменим пропуски 0 \n",
    "users['churn_date'] = users['churn_date'].fillna(0)"
   ]
  },
  {
   "cell_type": "code",
   "execution_count": 78,
   "metadata": {},
   "outputs": [],
   "source": [
    "#во всех таблицах, где есть дата, приведем ее к типу  datetime\n",
    "users['reg_date'] = pd.to_datetime(users['reg_date'],format='%Y-%m-%d')\n",
    "users['churn_date'] = pd.to_datetime(users['churn_date'],format='%Y-%m-%d')\n",
    "calls['call_date'] = pd.to_datetime(calls['call_date'],format='%Y-%m-%d')\n",
    "internet['session_date'] = pd.to_datetime(internet['session_date'],format='%Y-%m-%d')\n",
    "messages['message_date'] = pd.to_datetime(messages['message_date'],format='%Y-%m-%d')"
   ]
  },
  {
   "cell_type": "code",
   "execution_count": 79,
   "metadata": {},
   "outputs": [],
   "source": [
    "#из дано известно, что \"Мегалайн\" всегда округляет мегабайты в гигобайты, но для начала округлим до целых чисел мегабайты\n",
    "internet['mb_used'] = internet['mb_used'].apply(np.ceil).astype(int)"
   ]
  },
  {
   "cell_type": "markdown",
   "metadata": {},
   "source": [
    "**Подсчет параметров для каждого пользователя**"
   ]
  },
  {
   "cell_type": "markdown",
   "metadata": {},
   "source": [
    "- количество сделанных звонков и израсходованных минут разговора по месяцам"
   ]
  },
  {
   "cell_type": "code",
   "execution_count": 80,
   "metadata": {},
   "outputs": [
    {
     "data": {
      "text/html": [
       "<div>\n",
       "<style scoped>\n",
       "    .dataframe tbody tr th:only-of-type {\n",
       "        vertical-align: middle;\n",
       "    }\n",
       "\n",
       "    .dataframe tbody tr th {\n",
       "        vertical-align: top;\n",
       "    }\n",
       "\n",
       "    .dataframe thead th {\n",
       "        text-align: right;\n",
       "    }\n",
       "</style>\n",
       "<table border=\"1\" class=\"dataframe\">\n",
       "  <thead>\n",
       "    <tr style=\"text-align: right;\">\n",
       "      <th></th>\n",
       "      <th></th>\n",
       "      <th>calls</th>\n",
       "      <th>duration</th>\n",
       "    </tr>\n",
       "    <tr>\n",
       "      <th>user_id</th>\n",
       "      <th>month</th>\n",
       "      <th></th>\n",
       "      <th></th>\n",
       "    </tr>\n",
       "  </thead>\n",
       "  <tbody>\n",
       "    <tr>\n",
       "      <td rowspan=\"5\" valign=\"top\">1000</td>\n",
       "      <td>5</td>\n",
       "      <td>22</td>\n",
       "      <td>159</td>\n",
       "    </tr>\n",
       "    <tr>\n",
       "      <td>6</td>\n",
       "      <td>43</td>\n",
       "      <td>172</td>\n",
       "    </tr>\n",
       "    <tr>\n",
       "      <td>7</td>\n",
       "      <td>47</td>\n",
       "      <td>340</td>\n",
       "    </tr>\n",
       "    <tr>\n",
       "      <td>8</td>\n",
       "      <td>52</td>\n",
       "      <td>408</td>\n",
       "    </tr>\n",
       "    <tr>\n",
       "      <td>9</td>\n",
       "      <td>58</td>\n",
       "      <td>466</td>\n",
       "    </tr>\n",
       "    <tr>\n",
       "      <td>...</td>\n",
       "      <td>...</td>\n",
       "      <td>...</td>\n",
       "      <td>...</td>\n",
       "    </tr>\n",
       "    <tr>\n",
       "      <td>1498</td>\n",
       "      <td>10</td>\n",
       "      <td>41</td>\n",
       "      <td>247</td>\n",
       "    </tr>\n",
       "    <tr>\n",
       "      <td rowspan=\"4\" valign=\"top\">1499</td>\n",
       "      <td>9</td>\n",
       "      <td>9</td>\n",
       "      <td>70</td>\n",
       "    </tr>\n",
       "    <tr>\n",
       "      <td>10</td>\n",
       "      <td>68</td>\n",
       "      <td>449</td>\n",
       "    </tr>\n",
       "    <tr>\n",
       "      <td>11</td>\n",
       "      <td>74</td>\n",
       "      <td>612</td>\n",
       "    </tr>\n",
       "    <tr>\n",
       "      <td>12</td>\n",
       "      <td>69</td>\n",
       "      <td>492</td>\n",
       "    </tr>\n",
       "  </tbody>\n",
       "</table>\n",
       "<p>3174 rows × 2 columns</p>\n",
       "</div>"
      ],
      "text/plain": [
       "               calls  duration\n",
       "user_id month                 \n",
       "1000    5         22       159\n",
       "        6         43       172\n",
       "        7         47       340\n",
       "        8         52       408\n",
       "        9         58       466\n",
       "...              ...       ...\n",
       "1498    10        41       247\n",
       "1499    9          9        70\n",
       "        10        68       449\n",
       "        11        74       612\n",
       "        12        69       492\n",
       "\n",
       "[3174 rows x 2 columns]"
      ]
     },
     "execution_count": 80,
     "metadata": {},
     "output_type": "execute_result"
    }
   ],
   "source": [
    "#Создадим сводную таблицу в которой будут отражены звонки и минуты для каждого пользователя по месяцам\n",
    "#Преобразуем время в месяцы\n",
    "calls['month'] = calls['call_date'].dt.month  \n",
    "calls_in_month = calls.pivot_table(\n",
    "    index = ['user_id', 'month'], values = ['duration'], aggfunc = ['count','sum'])\n",
    "calls_in_month.columns = ['calls', 'duration']\n",
    "calls_in_month"
   ]
  },
  {
   "cell_type": "markdown",
   "metadata": {},
   "source": [
    "- количество отправленных сообщений по месяцам"
   ]
  },
  {
   "cell_type": "code",
   "execution_count": 81,
   "metadata": {},
   "outputs": [
    {
     "data": {
      "text/html": [
       "<div>\n",
       "<style scoped>\n",
       "    .dataframe tbody tr th:only-of-type {\n",
       "        vertical-align: middle;\n",
       "    }\n",
       "\n",
       "    .dataframe tbody tr th {\n",
       "        vertical-align: top;\n",
       "    }\n",
       "\n",
       "    .dataframe thead th {\n",
       "        text-align: right;\n",
       "    }\n",
       "</style>\n",
       "<table border=\"1\" class=\"dataframe\">\n",
       "  <thead>\n",
       "    <tr style=\"text-align: right;\">\n",
       "      <th></th>\n",
       "      <th></th>\n",
       "      <th>messages</th>\n",
       "    </tr>\n",
       "    <tr>\n",
       "      <th>user_id</th>\n",
       "      <th>month</th>\n",
       "      <th></th>\n",
       "    </tr>\n",
       "  </thead>\n",
       "  <tbody>\n",
       "    <tr>\n",
       "      <td rowspan=\"5\" valign=\"top\">1000</td>\n",
       "      <td>5</td>\n",
       "      <td>22</td>\n",
       "    </tr>\n",
       "    <tr>\n",
       "      <td>6</td>\n",
       "      <td>60</td>\n",
       "    </tr>\n",
       "    <tr>\n",
       "      <td>7</td>\n",
       "      <td>75</td>\n",
       "    </tr>\n",
       "    <tr>\n",
       "      <td>8</td>\n",
       "      <td>81</td>\n",
       "    </tr>\n",
       "    <tr>\n",
       "      <td>9</td>\n",
       "      <td>57</td>\n",
       "    </tr>\n",
       "    <tr>\n",
       "      <td>...</td>\n",
       "      <td>...</td>\n",
       "      <td>...</td>\n",
       "    </tr>\n",
       "    <tr>\n",
       "      <td>1498</td>\n",
       "      <td>10</td>\n",
       "      <td>42</td>\n",
       "    </tr>\n",
       "    <tr>\n",
       "      <td rowspan=\"4\" valign=\"top\">1499</td>\n",
       "      <td>9</td>\n",
       "      <td>11</td>\n",
       "    </tr>\n",
       "    <tr>\n",
       "      <td>10</td>\n",
       "      <td>48</td>\n",
       "    </tr>\n",
       "    <tr>\n",
       "      <td>11</td>\n",
       "      <td>59</td>\n",
       "    </tr>\n",
       "    <tr>\n",
       "      <td>12</td>\n",
       "      <td>66</td>\n",
       "    </tr>\n",
       "  </tbody>\n",
       "</table>\n",
       "<p>2717 rows × 1 columns</p>\n",
       "</div>"
      ],
      "text/plain": [
       "               messages\n",
       "user_id month          \n",
       "1000    5            22\n",
       "        6            60\n",
       "        7            75\n",
       "        8            81\n",
       "        9            57\n",
       "...                 ...\n",
       "1498    10           42\n",
       "1499    9            11\n",
       "        10           48\n",
       "        11           59\n",
       "        12           66\n",
       "\n",
       "[2717 rows x 1 columns]"
      ]
     },
     "execution_count": 81,
     "metadata": {},
     "output_type": "execute_result"
    }
   ],
   "source": [
    "#создадим сводную таблицу с сообщениями по месяцам\n",
    "messages['month'] = messages['message_date'].dt.month  \n",
    "message_in_month = messages.pivot_table(\n",
    "    index = ['user_id', 'month'], values = ['id'], aggfunc = ['count'])\n",
    "message_in_month.columns = ['messages']\n",
    "message_in_month"
   ]
  },
  {
   "cell_type": "markdown",
   "metadata": {},
   "source": [
    "- объем израсходованного интернет-трафика по месяцам;"
   ]
  },
  {
   "cell_type": "code",
   "execution_count": 82,
   "metadata": {},
   "outputs": [
    {
     "data": {
      "text/html": [
       "<div>\n",
       "<style scoped>\n",
       "    .dataframe tbody tr th:only-of-type {\n",
       "        vertical-align: middle;\n",
       "    }\n",
       "\n",
       "    .dataframe tbody tr th {\n",
       "        vertical-align: top;\n",
       "    }\n",
       "\n",
       "    .dataframe thead th {\n",
       "        text-align: right;\n",
       "    }\n",
       "</style>\n",
       "<table border=\"1\" class=\"dataframe\">\n",
       "  <thead>\n",
       "    <tr style=\"text-align: right;\">\n",
       "      <th></th>\n",
       "      <th></th>\n",
       "      <th>mb_used</th>\n",
       "    </tr>\n",
       "    <tr>\n",
       "      <th>user_id</th>\n",
       "      <th>month</th>\n",
       "      <th></th>\n",
       "    </tr>\n",
       "  </thead>\n",
       "  <tbody>\n",
       "    <tr>\n",
       "      <td rowspan=\"5\" valign=\"top\">1000</td>\n",
       "      <td>5</td>\n",
       "      <td>2256</td>\n",
       "    </tr>\n",
       "    <tr>\n",
       "      <td>6</td>\n",
       "      <td>23257</td>\n",
       "    </tr>\n",
       "    <tr>\n",
       "      <td>7</td>\n",
       "      <td>14016</td>\n",
       "    </tr>\n",
       "    <tr>\n",
       "      <td>8</td>\n",
       "      <td>14070</td>\n",
       "    </tr>\n",
       "    <tr>\n",
       "      <td>9</td>\n",
       "      <td>14581</td>\n",
       "    </tr>\n",
       "    <tr>\n",
       "      <td>...</td>\n",
       "      <td>...</td>\n",
       "      <td>...</td>\n",
       "    </tr>\n",
       "    <tr>\n",
       "      <td>1498</td>\n",
       "      <td>10</td>\n",
       "      <td>20604</td>\n",
       "    </tr>\n",
       "    <tr>\n",
       "      <td rowspan=\"4\" valign=\"top\">1499</td>\n",
       "      <td>9</td>\n",
       "      <td>1848</td>\n",
       "    </tr>\n",
       "    <tr>\n",
       "      <td>10</td>\n",
       "      <td>17809</td>\n",
       "    </tr>\n",
       "    <tr>\n",
       "      <td>11</td>\n",
       "      <td>17984</td>\n",
       "    </tr>\n",
       "    <tr>\n",
       "      <td>12</td>\n",
       "      <td>13077</td>\n",
       "    </tr>\n",
       "  </tbody>\n",
       "</table>\n",
       "<p>3203 rows × 1 columns</p>\n",
       "</div>"
      ],
      "text/plain": [
       "               mb_used\n",
       "user_id month         \n",
       "1000    5         2256\n",
       "        6        23257\n",
       "        7        14016\n",
       "        8        14070\n",
       "        9        14581\n",
       "...                ...\n",
       "1498    10       20604\n",
       "1499    9         1848\n",
       "        10       17809\n",
       "        11       17984\n",
       "        12       13077\n",
       "\n",
       "[3203 rows x 1 columns]"
      ]
     },
     "execution_count": 82,
     "metadata": {},
     "output_type": "execute_result"
    }
   ],
   "source": [
    "#создадим сводную таблицу с интернет-трафиком по месяцам\n",
    "internet['month'] = internet['session_date'].dt.month  \n",
    "internet_in_month = internet.pivot_table(\n",
    "    index = ['user_id', 'month'], values = ['mb_used'], aggfunc = 'sum')\n",
    "internet_in_month.columns = ['mb_used']\n",
    "internet_in_month"
   ]
  },
  {
   "cell_type": "markdown",
   "metadata": {},
   "source": [
    "- посчитаем помесячную выручку с каждого пользователя (вычтите бесплатный лимит из суммарного количества звонков, сообщений и интернет-трафика; остаток умножьте на значение из тарифного плана; прибавьте абонентскую плату, соответствующую тарифному плану)."
   ]
  },
  {
   "cell_type": "code",
   "execution_count": 83,
   "metadata": {},
   "outputs": [],
   "source": [
    "#для удобства в исходной таблице добавим месяц по которому потом будем группировать данные\n",
    "users['month'] = users['reg_date'].dt.month\n",
    "\n",
    "#объеденим звонки, минуты, количество смс и трафик для каждого пользователя, а также добавим тарифный план\n",
    "df = calls_in_month.merge(message_in_month,  on=['user_id', 'month'], how='outer')\n",
    "df = df.merge(internet_in_month,  on=['user_id', 'month'], how='outer')\n",
    "df = df.reset_index(drop=False)\n",
    "df = df.merge(users[['user_id', 'tariff']], on='user_id', how='left')"
   ]
  },
  {
   "cell_type": "code",
   "execution_count": 84,
   "metadata": {},
   "outputs": [
    {
     "data": {
      "text/html": [
       "<div>\n",
       "<style scoped>\n",
       "    .dataframe tbody tr th:only-of-type {\n",
       "        vertical-align: middle;\n",
       "    }\n",
       "\n",
       "    .dataframe tbody tr th {\n",
       "        vertical-align: top;\n",
       "    }\n",
       "\n",
       "    .dataframe thead th {\n",
       "        text-align: right;\n",
       "    }\n",
       "</style>\n",
       "<table border=\"1\" class=\"dataframe\">\n",
       "  <thead>\n",
       "    <tr style=\"text-align: right;\">\n",
       "      <th></th>\n",
       "      <th>user_id</th>\n",
       "      <th>month</th>\n",
       "      <th>calls</th>\n",
       "      <th>duration</th>\n",
       "      <th>messages</th>\n",
       "      <th>mb_used</th>\n",
       "      <th>tariff</th>\n",
       "    </tr>\n",
       "  </thead>\n",
       "  <tbody>\n",
       "    <tr>\n",
       "      <td>0</td>\n",
       "      <td>1000</td>\n",
       "      <td>5</td>\n",
       "      <td>22.0</td>\n",
       "      <td>159.0</td>\n",
       "      <td>22.0</td>\n",
       "      <td>2256.0</td>\n",
       "      <td>ultra</td>\n",
       "    </tr>\n",
       "    <tr>\n",
       "      <td>1</td>\n",
       "      <td>1000</td>\n",
       "      <td>6</td>\n",
       "      <td>43.0</td>\n",
       "      <td>172.0</td>\n",
       "      <td>60.0</td>\n",
       "      <td>23257.0</td>\n",
       "      <td>ultra</td>\n",
       "    </tr>\n",
       "    <tr>\n",
       "      <td>2</td>\n",
       "      <td>1000</td>\n",
       "      <td>7</td>\n",
       "      <td>47.0</td>\n",
       "      <td>340.0</td>\n",
       "      <td>75.0</td>\n",
       "      <td>14016.0</td>\n",
       "      <td>ultra</td>\n",
       "    </tr>\n",
       "    <tr>\n",
       "      <td>3</td>\n",
       "      <td>1000</td>\n",
       "      <td>8</td>\n",
       "      <td>52.0</td>\n",
       "      <td>408.0</td>\n",
       "      <td>81.0</td>\n",
       "      <td>14070.0</td>\n",
       "      <td>ultra</td>\n",
       "    </tr>\n",
       "    <tr>\n",
       "      <td>4</td>\n",
       "      <td>1000</td>\n",
       "      <td>9</td>\n",
       "      <td>58.0</td>\n",
       "      <td>466.0</td>\n",
       "      <td>57.0</td>\n",
       "      <td>14581.0</td>\n",
       "      <td>ultra</td>\n",
       "    </tr>\n",
       "    <tr>\n",
       "      <td>...</td>\n",
       "      <td>...</td>\n",
       "      <td>...</td>\n",
       "      <td>...</td>\n",
       "      <td>...</td>\n",
       "      <td>...</td>\n",
       "      <td>...</td>\n",
       "      <td>...</td>\n",
       "    </tr>\n",
       "    <tr>\n",
       "      <td>3169</td>\n",
       "      <td>1498</td>\n",
       "      <td>10</td>\n",
       "      <td>41.0</td>\n",
       "      <td>247.0</td>\n",
       "      <td>42.0</td>\n",
       "      <td>20604.0</td>\n",
       "      <td>smart</td>\n",
       "    </tr>\n",
       "    <tr>\n",
       "      <td>3173</td>\n",
       "      <td>1499</td>\n",
       "      <td>12</td>\n",
       "      <td>69.0</td>\n",
       "      <td>492.0</td>\n",
       "      <td>66.0</td>\n",
       "      <td>13077.0</td>\n",
       "      <td>smart</td>\n",
       "    </tr>\n",
       "    <tr>\n",
       "      <td>3170</td>\n",
       "      <td>1499</td>\n",
       "      <td>9</td>\n",
       "      <td>9.0</td>\n",
       "      <td>70.0</td>\n",
       "      <td>11.0</td>\n",
       "      <td>1848.0</td>\n",
       "      <td>smart</td>\n",
       "    </tr>\n",
       "    <tr>\n",
       "      <td>3171</td>\n",
       "      <td>1499</td>\n",
       "      <td>10</td>\n",
       "      <td>68.0</td>\n",
       "      <td>449.0</td>\n",
       "      <td>48.0</td>\n",
       "      <td>17809.0</td>\n",
       "      <td>smart</td>\n",
       "    </tr>\n",
       "    <tr>\n",
       "      <td>3172</td>\n",
       "      <td>1499</td>\n",
       "      <td>11</td>\n",
       "      <td>74.0</td>\n",
       "      <td>612.0</td>\n",
       "      <td>59.0</td>\n",
       "      <td>17984.0</td>\n",
       "      <td>smart</td>\n",
       "    </tr>\n",
       "  </tbody>\n",
       "</table>\n",
       "<p>3214 rows × 7 columns</p>\n",
       "</div>"
      ],
      "text/plain": [
       "      user_id  month  calls  duration  messages  mb_used tariff\n",
       "0        1000      5   22.0     159.0      22.0   2256.0  ultra\n",
       "1        1000      6   43.0     172.0      60.0  23257.0  ultra\n",
       "2        1000      7   47.0     340.0      75.0  14016.0  ultra\n",
       "3        1000      8   52.0     408.0      81.0  14070.0  ultra\n",
       "4        1000      9   58.0     466.0      57.0  14581.0  ultra\n",
       "...       ...    ...    ...       ...       ...      ...    ...\n",
       "3169     1498     10   41.0     247.0      42.0  20604.0  smart\n",
       "3173     1499     12   69.0     492.0      66.0  13077.0  smart\n",
       "3170     1499      9    9.0      70.0      11.0   1848.0  smart\n",
       "3171     1499     10   68.0     449.0      48.0  17809.0  smart\n",
       "3172     1499     11   74.0     612.0      59.0  17984.0  smart\n",
       "\n",
       "[3214 rows x 7 columns]"
      ]
     },
     "execution_count": 84,
     "metadata": {},
     "output_type": "execute_result"
    }
   ],
   "source": [
    "#вставим вместо пропусков нули\n",
    "df = df.fillna(0).sort_values(by='user_id')\n",
    "df"
   ]
  },
  {
   "cell_type": "code",
   "execution_count": 85,
   "metadata": {
    "scrolled": true
   },
   "outputs": [
    {
     "data": {
      "text/html": [
       "<div>\n",
       "<style scoped>\n",
       "    .dataframe tbody tr th:only-of-type {\n",
       "        vertical-align: middle;\n",
       "    }\n",
       "\n",
       "    .dataframe tbody tr th {\n",
       "        vertical-align: top;\n",
       "    }\n",
       "\n",
       "    .dataframe thead th {\n",
       "        text-align: right;\n",
       "    }\n",
       "</style>\n",
       "<table border=\"1\" class=\"dataframe\">\n",
       "  <thead>\n",
       "    <tr style=\"text-align: right;\">\n",
       "      <th></th>\n",
       "      <th>messages_included</th>\n",
       "      <th>mb_per_month_included</th>\n",
       "      <th>minutes_included</th>\n",
       "      <th>rub_monthly_fee</th>\n",
       "      <th>rub_per_gb</th>\n",
       "      <th>rub_per_message</th>\n",
       "      <th>rub_per_minute</th>\n",
       "      <th>tariff_name</th>\n",
       "    </tr>\n",
       "  </thead>\n",
       "  <tbody>\n",
       "    <tr>\n",
       "      <td>0</td>\n",
       "      <td>50</td>\n",
       "      <td>15360</td>\n",
       "      <td>500</td>\n",
       "      <td>550</td>\n",
       "      <td>200</td>\n",
       "      <td>3</td>\n",
       "      <td>3</td>\n",
       "      <td>smart</td>\n",
       "    </tr>\n",
       "    <tr>\n",
       "      <td>1</td>\n",
       "      <td>1000</td>\n",
       "      <td>30720</td>\n",
       "      <td>3000</td>\n",
       "      <td>1950</td>\n",
       "      <td>150</td>\n",
       "      <td>1</td>\n",
       "      <td>1</td>\n",
       "      <td>ultra</td>\n",
       "    </tr>\n",
       "  </tbody>\n",
       "</table>\n",
       "</div>"
      ],
      "text/plain": [
       "   messages_included  mb_per_month_included  minutes_included  \\\n",
       "0                 50                  15360               500   \n",
       "1               1000                  30720              3000   \n",
       "\n",
       "   rub_monthly_fee  rub_per_gb  rub_per_message  rub_per_minute tariff_name  \n",
       "0              550         200                3               3       smart  \n",
       "1             1950         150                1               1       ultra  "
      ]
     },
     "execution_count": 85,
     "metadata": {},
     "output_type": "execute_result"
    }
   ],
   "source": [
    "#вспомним таблицу с тарифами\n",
    "tariffs"
   ]
  },
  {
   "cell_type": "code",
   "execution_count": 86,
   "metadata": {},
   "outputs": [],
   "source": [
    "#создадим функцию для расчета платежей клиента\n",
    "def payment (tariff_name, messages, duration, mb_used):\n",
    "    if tariff_name == 'smart':\n",
    "        m = messages - tariffs['messages_included'][0]\n",
    "        d = duration - tariffs['minutes_included'][0]\n",
    "        mb = mb_used - tariffs['mb_per_month_included'][0]\n",
    "        if m <= 0:\n",
    "            m = 0\n",
    "        else:\n",
    "            m = math.ceil(m)*tariffs['rub_per_message'][0]    \n",
    "        if d <= 0:\n",
    "            d = 0\n",
    "        else:\n",
    "            d = math.ceil(d)*tariffs['rub_per_minute'][0] \n",
    "        if mb <= 0:\n",
    "            mb = 0\n",
    "        else:\n",
    "            mb = (math.ceil(mb/1024))*tariffs['rub_per_gb'][0]     \n",
    "        return tariffs['rub_monthly_fee'][0] + m + d + mb\n",
    "    \n",
    "    elif tariff_name == 'ultra':\n",
    "        m = messages - tariffs['messages_included'][1]\n",
    "        d = duration - tariffs['minutes_included'][1]\n",
    "        mb = mb_used - tariffs['mb_per_month_included'][1]\n",
    "        if m <= 0:\n",
    "            m = 0\n",
    "        else:\n",
    "            m = math.ceil(m)*tariffs['rub_per_message'][1]    \n",
    "        if d <= 0:\n",
    "            d = 0\n",
    "        else:\n",
    "            d = math.ceil(d)*tariffs['rub_per_minute'][1] \n",
    "        if mb <= 0:\n",
    "            mb = 0\n",
    "        else:\n",
    "            mb = (math.ceil(mb/1024))*tariffs['rub_per_gb'][1]     \n",
    "        return tariffs['rub_monthly_fee'][1] + m + d + mb"
   ]
  },
  {
   "cell_type": "code",
   "execution_count": 87,
   "metadata": {},
   "outputs": [],
   "source": [
    "#c помощью функции получаем необходимую плату\n",
    "df['payment'] = df.apply(lambda row: payment(row['tariff'], row['messages'], row['duration'], row['mb_used']), axis=1)"
   ]
  },
  {
   "cell_type": "code",
   "execution_count": 88,
   "metadata": {},
   "outputs": [
    {
     "data": {
      "text/html": [
       "<div>\n",
       "<style scoped>\n",
       "    .dataframe tbody tr th:only-of-type {\n",
       "        vertical-align: middle;\n",
       "    }\n",
       "\n",
       "    .dataframe tbody tr th {\n",
       "        vertical-align: top;\n",
       "    }\n",
       "\n",
       "    .dataframe thead th {\n",
       "        text-align: right;\n",
       "    }\n",
       "</style>\n",
       "<table border=\"1\" class=\"dataframe\">\n",
       "  <thead>\n",
       "    <tr style=\"text-align: right;\">\n",
       "      <th></th>\n",
       "      <th>user_id</th>\n",
       "      <th>month</th>\n",
       "      <th>calls</th>\n",
       "      <th>duration</th>\n",
       "      <th>messages</th>\n",
       "      <th>mb_used</th>\n",
       "      <th>tariff</th>\n",
       "      <th>payment</th>\n",
       "    </tr>\n",
       "  </thead>\n",
       "  <tbody>\n",
       "    <tr>\n",
       "      <td>0</td>\n",
       "      <td>1000</td>\n",
       "      <td>5</td>\n",
       "      <td>22.0</td>\n",
       "      <td>159.0</td>\n",
       "      <td>22.0</td>\n",
       "      <td>2256.0</td>\n",
       "      <td>ultra</td>\n",
       "      <td>1950</td>\n",
       "    </tr>\n",
       "    <tr>\n",
       "      <td>1</td>\n",
       "      <td>1000</td>\n",
       "      <td>6</td>\n",
       "      <td>43.0</td>\n",
       "      <td>172.0</td>\n",
       "      <td>60.0</td>\n",
       "      <td>23257.0</td>\n",
       "      <td>ultra</td>\n",
       "      <td>1950</td>\n",
       "    </tr>\n",
       "    <tr>\n",
       "      <td>2</td>\n",
       "      <td>1000</td>\n",
       "      <td>7</td>\n",
       "      <td>47.0</td>\n",
       "      <td>340.0</td>\n",
       "      <td>75.0</td>\n",
       "      <td>14016.0</td>\n",
       "      <td>ultra</td>\n",
       "      <td>1950</td>\n",
       "    </tr>\n",
       "    <tr>\n",
       "      <td>3</td>\n",
       "      <td>1000</td>\n",
       "      <td>8</td>\n",
       "      <td>52.0</td>\n",
       "      <td>408.0</td>\n",
       "      <td>81.0</td>\n",
       "      <td>14070.0</td>\n",
       "      <td>ultra</td>\n",
       "      <td>1950</td>\n",
       "    </tr>\n",
       "    <tr>\n",
       "      <td>4</td>\n",
       "      <td>1000</td>\n",
       "      <td>9</td>\n",
       "      <td>58.0</td>\n",
       "      <td>466.0</td>\n",
       "      <td>57.0</td>\n",
       "      <td>14581.0</td>\n",
       "      <td>ultra</td>\n",
       "      <td>1950</td>\n",
       "    </tr>\n",
       "    <tr>\n",
       "      <td>...</td>\n",
       "      <td>...</td>\n",
       "      <td>...</td>\n",
       "      <td>...</td>\n",
       "      <td>...</td>\n",
       "      <td>...</td>\n",
       "      <td>...</td>\n",
       "      <td>...</td>\n",
       "      <td>...</td>\n",
       "    </tr>\n",
       "    <tr>\n",
       "      <td>3169</td>\n",
       "      <td>1498</td>\n",
       "      <td>10</td>\n",
       "      <td>41.0</td>\n",
       "      <td>247.0</td>\n",
       "      <td>42.0</td>\n",
       "      <td>20604.0</td>\n",
       "      <td>smart</td>\n",
       "      <td>1750</td>\n",
       "    </tr>\n",
       "    <tr>\n",
       "      <td>3173</td>\n",
       "      <td>1499</td>\n",
       "      <td>12</td>\n",
       "      <td>69.0</td>\n",
       "      <td>492.0</td>\n",
       "      <td>66.0</td>\n",
       "      <td>13077.0</td>\n",
       "      <td>smart</td>\n",
       "      <td>598</td>\n",
       "    </tr>\n",
       "    <tr>\n",
       "      <td>3170</td>\n",
       "      <td>1499</td>\n",
       "      <td>9</td>\n",
       "      <td>9.0</td>\n",
       "      <td>70.0</td>\n",
       "      <td>11.0</td>\n",
       "      <td>1848.0</td>\n",
       "      <td>smart</td>\n",
       "      <td>550</td>\n",
       "    </tr>\n",
       "    <tr>\n",
       "      <td>3171</td>\n",
       "      <td>1499</td>\n",
       "      <td>10</td>\n",
       "      <td>68.0</td>\n",
       "      <td>449.0</td>\n",
       "      <td>48.0</td>\n",
       "      <td>17809.0</td>\n",
       "      <td>smart</td>\n",
       "      <td>1150</td>\n",
       "    </tr>\n",
       "    <tr>\n",
       "      <td>3172</td>\n",
       "      <td>1499</td>\n",
       "      <td>11</td>\n",
       "      <td>74.0</td>\n",
       "      <td>612.0</td>\n",
       "      <td>59.0</td>\n",
       "      <td>17984.0</td>\n",
       "      <td>smart</td>\n",
       "      <td>1513</td>\n",
       "    </tr>\n",
       "  </tbody>\n",
       "</table>\n",
       "<p>3214 rows × 8 columns</p>\n",
       "</div>"
      ],
      "text/plain": [
       "      user_id  month  calls  duration  messages  mb_used tariff  payment\n",
       "0        1000      5   22.0     159.0      22.0   2256.0  ultra     1950\n",
       "1        1000      6   43.0     172.0      60.0  23257.0  ultra     1950\n",
       "2        1000      7   47.0     340.0      75.0  14016.0  ultra     1950\n",
       "3        1000      8   52.0     408.0      81.0  14070.0  ultra     1950\n",
       "4        1000      9   58.0     466.0      57.0  14581.0  ultra     1950\n",
       "...       ...    ...    ...       ...       ...      ...    ...      ...\n",
       "3169     1498     10   41.0     247.0      42.0  20604.0  smart     1750\n",
       "3173     1499     12   69.0     492.0      66.0  13077.0  smart      598\n",
       "3170     1499      9    9.0      70.0      11.0   1848.0  smart      550\n",
       "3171     1499     10   68.0     449.0      48.0  17809.0  smart     1150\n",
       "3172     1499     11   74.0     612.0      59.0  17984.0  smart     1513\n",
       "\n",
       "[3214 rows x 8 columns]"
      ]
     },
     "execution_count": 88,
     "metadata": {},
     "output_type": "execute_result"
    }
   ],
   "source": [
    "df"
   ]
  },
  {
   "cell_type": "code",
   "execution_count": 89,
   "metadata": {},
   "outputs": [
    {
     "data": {
      "text/plain": [
       "1950    902\n",
       "550     564\n",
       "950      87\n",
       "1350     82\n",
       "1150     75\n",
       "       ... \n",
       "2035      1\n",
       "2014      1\n",
       "2004      1\n",
       "1992      1\n",
       "2041      1\n",
       "Name: payment, Length: 778, dtype: int64"
      ]
     },
     "execution_count": 89,
     "metadata": {},
     "output_type": "execute_result"
    }
   ],
   "source": [
    "#убедимся что цифры разные\n",
    "df['payment'].value_counts()"
   ]
  },
  {
   "cell_type": "markdown",
   "metadata": {},
   "source": [
    "В процессе предобработки данных была сформированна сводная таблица необходимая для последующих операций и добавлен столбец с ежемесячными платежами который отражает сколько наговорит клиент пользуюясь тем или иным тарифом."
   ]
  },
  {
   "cell_type": "markdown",
   "metadata": {},
   "source": [
    "# Шаг 3. Анализ данных"
   ]
  },
  {
   "cell_type": "code",
   "execution_count": 90,
   "metadata": {},
   "outputs": [],
   "source": [
    "#Создадим таблицу со средними значениямиb сгруппируем их относительно пользователей\n",
    "average_values = df.pivot_table(index='user_id', values=['duration', 'messages', 'mb_used', 'payment'], aggfunc='median')"
   ]
  },
  {
   "cell_type": "code",
   "execution_count": 91,
   "metadata": {},
   "outputs": [
    {
     "data": {
      "text/html": [
       "<div>\n",
       "<style scoped>\n",
       "    .dataframe tbody tr th:only-of-type {\n",
       "        vertical-align: middle;\n",
       "    }\n",
       "\n",
       "    .dataframe tbody tr th {\n",
       "        vertical-align: top;\n",
       "    }\n",
       "\n",
       "    .dataframe thead th {\n",
       "        text-align: right;\n",
       "    }\n",
       "</style>\n",
       "<table border=\"1\" class=\"dataframe\">\n",
       "  <thead>\n",
       "    <tr style=\"text-align: right;\">\n",
       "      <th></th>\n",
       "      <th>user_id</th>\n",
       "      <th>duration</th>\n",
       "      <th>mb_used</th>\n",
       "      <th>messages</th>\n",
       "      <th>payment</th>\n",
       "      <th>tariff</th>\n",
       "      <th>city</th>\n",
       "    </tr>\n",
       "  </thead>\n",
       "  <tbody>\n",
       "    <tr>\n",
       "      <td>0</td>\n",
       "      <td>1000</td>\n",
       "      <td>339.0</td>\n",
       "      <td>14325.5</td>\n",
       "      <td>65.0</td>\n",
       "      <td>1950.0</td>\n",
       "      <td>ultra</td>\n",
       "      <td>Краснодар</td>\n",
       "    </tr>\n",
       "    <tr>\n",
       "      <td>1</td>\n",
       "      <td>1001</td>\n",
       "      <td>422.0</td>\n",
       "      <td>16252.5</td>\n",
       "      <td>0.0</td>\n",
       "      <td>950.0</td>\n",
       "      <td>smart</td>\n",
       "      <td>Москва</td>\n",
       "    </tr>\n",
       "    <tr>\n",
       "      <td>2</td>\n",
       "      <td>1002</td>\n",
       "      <td>214.0</td>\n",
       "      <td>17601.0</td>\n",
       "      <td>11.0</td>\n",
       "      <td>1150.0</td>\n",
       "      <td>smart</td>\n",
       "      <td>Стерлитамак</td>\n",
       "    </tr>\n",
       "    <tr>\n",
       "      <td>3</td>\n",
       "      <td>1003</td>\n",
       "      <td>824.0</td>\n",
       "      <td>11368.0</td>\n",
       "      <td>83.0</td>\n",
       "      <td>1950.0</td>\n",
       "      <td>ultra</td>\n",
       "      <td>Москва</td>\n",
       "    </tr>\n",
       "    <tr>\n",
       "      <td>4</td>\n",
       "      <td>1004</td>\n",
       "      <td>132.5</td>\n",
       "      <td>17828.5</td>\n",
       "      <td>154.5</td>\n",
       "      <td>1950.0</td>\n",
       "      <td>ultra</td>\n",
       "      <td>Новокузнецк</td>\n",
       "    </tr>\n",
       "    <tr>\n",
       "      <td>...</td>\n",
       "      <td>...</td>\n",
       "      <td>...</td>\n",
       "      <td>...</td>\n",
       "      <td>...</td>\n",
       "      <td>...</td>\n",
       "      <td>...</td>\n",
       "      <td>...</td>\n",
       "    </tr>\n",
       "    <tr>\n",
       "      <td>493</td>\n",
       "      <td>1495</td>\n",
       "      <td>954.0</td>\n",
       "      <td>29393.0</td>\n",
       "      <td>82.0</td>\n",
       "      <td>1950.0</td>\n",
       "      <td>ultra</td>\n",
       "      <td>Иркутск</td>\n",
       "    </tr>\n",
       "    <tr>\n",
       "      <td>494</td>\n",
       "      <td>1496</td>\n",
       "      <td>524.0</td>\n",
       "      <td>24067.5</td>\n",
       "      <td>41.5</td>\n",
       "      <td>2513.5</td>\n",
       "      <td>smart</td>\n",
       "      <td>Вологда</td>\n",
       "    </tr>\n",
       "    <tr>\n",
       "      <td>495</td>\n",
       "      <td>1497</td>\n",
       "      <td>490.0</td>\n",
       "      <td>14174.0</td>\n",
       "      <td>17.0</td>\n",
       "      <td>550.0</td>\n",
       "      <td>smart</td>\n",
       "      <td>Челябинск</td>\n",
       "    </tr>\n",
       "    <tr>\n",
       "      <td>496</td>\n",
       "      <td>1498</td>\n",
       "      <td>323.5</td>\n",
       "      <td>21385.0</td>\n",
       "      <td>43.0</td>\n",
       "      <td>1850.0</td>\n",
       "      <td>smart</td>\n",
       "      <td>Владикавказ</td>\n",
       "    </tr>\n",
       "    <tr>\n",
       "      <td>497</td>\n",
       "      <td>1499</td>\n",
       "      <td>470.5</td>\n",
       "      <td>15443.0</td>\n",
       "      <td>53.5</td>\n",
       "      <td>874.0</td>\n",
       "      <td>smart</td>\n",
       "      <td>Пермь</td>\n",
       "    </tr>\n",
       "  </tbody>\n",
       "</table>\n",
       "<p>498 rows × 7 columns</p>\n",
       "</div>"
      ],
      "text/plain": [
       "     user_id  duration  mb_used  messages  payment tariff         city\n",
       "0       1000     339.0  14325.5      65.0   1950.0  ultra    Краснодар\n",
       "1       1001     422.0  16252.5       0.0    950.0  smart       Москва\n",
       "2       1002     214.0  17601.0      11.0   1150.0  smart  Стерлитамак\n",
       "3       1003     824.0  11368.0      83.0   1950.0  ultra       Москва\n",
       "4       1004     132.5  17828.5     154.5   1950.0  ultra  Новокузнецк\n",
       "..       ...       ...      ...       ...      ...    ...          ...\n",
       "493     1495     954.0  29393.0      82.0   1950.0  ultra      Иркутск\n",
       "494     1496     524.0  24067.5      41.5   2513.5  smart      Вологда\n",
       "495     1497     490.0  14174.0      17.0    550.0  smart    Челябинск\n",
       "496     1498     323.5  21385.0      43.0   1850.0  smart  Владикавказ\n",
       "497     1499     470.5  15443.0      53.5    874.0  smart        Пермь\n",
       "\n",
       "[498 rows x 7 columns]"
      ]
     },
     "execution_count": 91,
     "metadata": {},
     "output_type": "execute_result"
    }
   ],
   "source": [
    "#добавим столбец с тарифом и городом\n",
    "average_values = average_values.merge(users[['user_id', 'tariff', 'city']], on='user_id', how='left')\n",
    "average_values"
   ]
  },
  {
   "cell_type": "code",
   "execution_count": 92,
   "metadata": {},
   "outputs": [],
   "source": [
    "#разграничим польpователей по тарифам\n",
    "ultra = average_values.query('tariff == \"ultra\"')\n",
    "smart = average_values.query('tariff == \"smart\"')\n"
   ]
  },
  {
   "cell_type": "code",
   "execution_count": 93,
   "metadata": {},
   "outputs": [
    {
     "data": {
      "text/html": [
       "<div>\n",
       "<style scoped>\n",
       "    .dataframe tbody tr th:only-of-type {\n",
       "        vertical-align: middle;\n",
       "    }\n",
       "\n",
       "    .dataframe tbody tr th {\n",
       "        vertical-align: top;\n",
       "    }\n",
       "\n",
       "    .dataframe thead th {\n",
       "        text-align: right;\n",
       "    }\n",
       "</style>\n",
       "<table border=\"1\" class=\"dataframe\">\n",
       "  <thead>\n",
       "    <tr style=\"text-align: right;\">\n",
       "      <th></th>\n",
       "      <th>user_id</th>\n",
       "      <th>duration</th>\n",
       "      <th>mb_used</th>\n",
       "      <th>messages</th>\n",
       "      <th>payment</th>\n",
       "    </tr>\n",
       "  </thead>\n",
       "  <tbody>\n",
       "    <tr>\n",
       "      <td>count</td>\n",
       "      <td>148.000000</td>\n",
       "      <td>148.000000</td>\n",
       "      <td>148.000000</td>\n",
       "      <td>148.000000</td>\n",
       "      <td>148.000000</td>\n",
       "    </tr>\n",
       "    <tr>\n",
       "      <td>mean</td>\n",
       "      <td>1263.047297</td>\n",
       "      <td>557.503378</td>\n",
       "      <td>20322.489865</td>\n",
       "      <td>56.983108</td>\n",
       "      <td>2061.993243</td>\n",
       "    </tr>\n",
       "    <tr>\n",
       "      <td>std</td>\n",
       "      <td>143.031861</td>\n",
       "      <td>303.793641</td>\n",
       "      <td>8901.168701</td>\n",
       "      <td>49.236809</td>\n",
       "      <td>300.318278</td>\n",
       "    </tr>\n",
       "    <tr>\n",
       "      <td>min</td>\n",
       "      <td>1000.000000</td>\n",
       "      <td>0.000000</td>\n",
       "      <td>0.000000</td>\n",
       "      <td>0.000000</td>\n",
       "      <td>1950.000000</td>\n",
       "    </tr>\n",
       "    <tr>\n",
       "      <td>25%</td>\n",
       "      <td>1146.750000</td>\n",
       "      <td>336.500000</td>\n",
       "      <td>14698.625000</td>\n",
       "      <td>16.875000</td>\n",
       "      <td>1950.000000</td>\n",
       "    </tr>\n",
       "    <tr>\n",
       "      <td>50%</td>\n",
       "      <td>1276.500000</td>\n",
       "      <td>535.250000</td>\n",
       "      <td>19750.500000</td>\n",
       "      <td>47.500000</td>\n",
       "      <td>1950.000000</td>\n",
       "    </tr>\n",
       "    <tr>\n",
       "      <td>75%</td>\n",
       "      <td>1379.250000</td>\n",
       "      <td>786.250000</td>\n",
       "      <td>27234.250000</td>\n",
       "      <td>87.000000</td>\n",
       "      <td>1950.000000</td>\n",
       "    </tr>\n",
       "    <tr>\n",
       "      <td>max</td>\n",
       "      <td>1495.000000</td>\n",
       "      <td>1273.000000</td>\n",
       "      <td>39230.000000</td>\n",
       "      <td>197.000000</td>\n",
       "      <td>3300.000000</td>\n",
       "    </tr>\n",
       "  </tbody>\n",
       "</table>\n",
       "</div>"
      ],
      "text/plain": [
       "           user_id     duration       mb_used    messages      payment\n",
       "count   148.000000   148.000000    148.000000  148.000000   148.000000\n",
       "mean   1263.047297   557.503378  20322.489865   56.983108  2061.993243\n",
       "std     143.031861   303.793641   8901.168701   49.236809   300.318278\n",
       "min    1000.000000     0.000000      0.000000    0.000000  1950.000000\n",
       "25%    1146.750000   336.500000  14698.625000   16.875000  1950.000000\n",
       "50%    1276.500000   535.250000  19750.500000   47.500000  1950.000000\n",
       "75%    1379.250000   786.250000  27234.250000   87.000000  1950.000000\n",
       "max    1495.000000  1273.000000  39230.000000  197.000000  3300.000000"
      ]
     },
     "execution_count": 93,
     "metadata": {},
     "output_type": "execute_result"
    }
   ],
   "source": [
    "#найдем средние значения и стандартное отклонение в тарифе ультра\n",
    "ultra.describe()"
   ]
  },
  {
   "cell_type": "code",
   "execution_count": 94,
   "metadata": {},
   "outputs": [
    {
     "data": {
      "text/html": [
       "<div>\n",
       "<style scoped>\n",
       "    .dataframe tbody tr th:only-of-type {\n",
       "        vertical-align: middle;\n",
       "    }\n",
       "\n",
       "    .dataframe tbody tr th {\n",
       "        vertical-align: top;\n",
       "    }\n",
       "\n",
       "    .dataframe thead th {\n",
       "        text-align: right;\n",
       "    }\n",
       "</style>\n",
       "<table border=\"1\" class=\"dataframe\">\n",
       "  <thead>\n",
       "    <tr style=\"text-align: right;\">\n",
       "      <th></th>\n",
       "      <th>user_id</th>\n",
       "      <th>duration</th>\n",
       "      <th>mb_used</th>\n",
       "      <th>messages</th>\n",
       "      <th>payment</th>\n",
       "    </tr>\n",
       "  </thead>\n",
       "  <tbody>\n",
       "    <tr>\n",
       "      <td>count</td>\n",
       "      <td>350.000000</td>\n",
       "      <td>350.000000</td>\n",
       "      <td>350.000000</td>\n",
       "      <td>350.000000</td>\n",
       "      <td>350.000000</td>\n",
       "    </tr>\n",
       "    <tr>\n",
       "      <td>mean</td>\n",
       "      <td>1243.771429</td>\n",
       "      <td>437.468571</td>\n",
       "      <td>16853.828571</td>\n",
       "      <td>33.770000</td>\n",
       "      <td>1309.358571</td>\n",
       "    </tr>\n",
       "    <tr>\n",
       "      <td>std</td>\n",
       "      <td>145.033439</td>\n",
       "      <td>160.266622</td>\n",
       "      <td>4179.542704</td>\n",
       "      <td>28.010653</td>\n",
       "      <td>724.375340</td>\n",
       "    </tr>\n",
       "    <tr>\n",
       "      <td>min</td>\n",
       "      <td>1001.000000</td>\n",
       "      <td>0.000000</td>\n",
       "      <td>5545.000000</td>\n",
       "      <td>0.000000</td>\n",
       "      <td>550.000000</td>\n",
       "    </tr>\n",
       "    <tr>\n",
       "      <td>25%</td>\n",
       "      <td>1119.500000</td>\n",
       "      <td>323.750000</td>\n",
       "      <td>14204.000000</td>\n",
       "      <td>11.000000</td>\n",
       "      <td>750.000000</td>\n",
       "    </tr>\n",
       "    <tr>\n",
       "      <td>50%</td>\n",
       "      <td>1235.500000</td>\n",
       "      <td>439.750000</td>\n",
       "      <td>16948.000000</td>\n",
       "      <td>28.500000</td>\n",
       "      <td>1150.000000</td>\n",
       "    </tr>\n",
       "    <tr>\n",
       "      <td>75%</td>\n",
       "      <td>1371.500000</td>\n",
       "      <td>540.875000</td>\n",
       "      <td>19325.000000</td>\n",
       "      <td>50.875000</td>\n",
       "      <td>1669.125000</td>\n",
       "    </tr>\n",
       "    <tr>\n",
       "      <td>max</td>\n",
       "      <td>1499.000000</td>\n",
       "      <td>891.500000</td>\n",
       "      <td>36319.000000</td>\n",
       "      <td>134.000000</td>\n",
       "      <td>5680.000000</td>\n",
       "    </tr>\n",
       "  </tbody>\n",
       "</table>\n",
       "</div>"
      ],
      "text/plain": [
       "           user_id    duration       mb_used    messages      payment\n",
       "count   350.000000  350.000000    350.000000  350.000000   350.000000\n",
       "mean   1243.771429  437.468571  16853.828571   33.770000  1309.358571\n",
       "std     145.033439  160.266622   4179.542704   28.010653   724.375340\n",
       "min    1001.000000    0.000000   5545.000000    0.000000   550.000000\n",
       "25%    1119.500000  323.750000  14204.000000   11.000000   750.000000\n",
       "50%    1235.500000  439.750000  16948.000000   28.500000  1150.000000\n",
       "75%    1371.500000  540.875000  19325.000000   50.875000  1669.125000\n",
       "max    1499.000000  891.500000  36319.000000  134.000000  5680.000000"
      ]
     },
     "execution_count": 94,
     "metadata": {},
     "output_type": "execute_result"
    }
   ],
   "source": [
    "#найдем средние значения и стандартное отклонение в тарифе смарт\n",
    "smart.describe()"
   ]
  },
  {
   "cell_type": "code",
   "execution_count": 95,
   "metadata": {},
   "outputs": [
    {
     "data": {
      "text/plain": [
       "user_id    23\n",
       "dtype: int64"
      ]
     },
     "execution_count": 95,
     "metadata": {},
     "output_type": "execute_result"
    }
   ],
   "source": [
    "#найдем сколько человек расходует весь тариф ультра и доплачивает сверху\n",
    "ultra.query('payment>1950').count().head(1)"
   ]
  },
  {
   "cell_type": "code",
   "execution_count": 96,
   "metadata": {},
   "outputs": [
    {
     "data": {
      "text/plain": [
       "user_id    302\n",
       "dtype: int64"
      ]
     },
     "execution_count": 96,
     "metadata": {},
     "output_type": "execute_result"
    }
   ],
   "source": [
    "#найдем сколько человек расходует весь тариф смарт и доплачивает сверху\n",
    "smart.query('payment>550').count().head(1)"
   ]
  },
  {
   "cell_type": "code",
   "execution_count": 97,
   "metadata": {},
   "outputs": [
    {
     "data": {
      "text/html": [
       "<div>\n",
       "<style scoped>\n",
       "    .dataframe tbody tr th:only-of-type {\n",
       "        vertical-align: middle;\n",
       "    }\n",
       "\n",
       "    .dataframe tbody tr th {\n",
       "        vertical-align: top;\n",
       "    }\n",
       "\n",
       "    .dataframe thead tr th {\n",
       "        text-align: left;\n",
       "    }\n",
       "\n",
       "    .dataframe thead tr:last-of-type th {\n",
       "        text-align: right;\n",
       "    }\n",
       "</style>\n",
       "<table border=\"1\" class=\"dataframe\">\n",
       "  <thead>\n",
       "    <tr>\n",
       "      <th></th>\n",
       "      <th colspan=\"3\" halign=\"left\">median</th>\n",
       "      <th colspan=\"3\" halign=\"left\">var</th>\n",
       "      <th colspan=\"3\" halign=\"left\">std</th>\n",
       "    </tr>\n",
       "    <tr>\n",
       "      <th></th>\n",
       "      <th>duration</th>\n",
       "      <th>mb_used</th>\n",
       "      <th>messages</th>\n",
       "      <th>duration</th>\n",
       "      <th>mb_used</th>\n",
       "      <th>messages</th>\n",
       "      <th>duration</th>\n",
       "      <th>mb_used</th>\n",
       "      <th>messages</th>\n",
       "    </tr>\n",
       "    <tr>\n",
       "      <th>tariff</th>\n",
       "      <th></th>\n",
       "      <th></th>\n",
       "      <th></th>\n",
       "      <th></th>\n",
       "      <th></th>\n",
       "      <th></th>\n",
       "      <th></th>\n",
       "      <th></th>\n",
       "      <th></th>\n",
       "    </tr>\n",
       "  </thead>\n",
       "  <tbody>\n",
       "    <tr>\n",
       "      <td>smart</td>\n",
       "      <td>439.75</td>\n",
       "      <td>16948.0</td>\n",
       "      <td>28.5</td>\n",
       "      <td>25685.390127</td>\n",
       "      <td>1.746858e+07</td>\n",
       "      <td>784.596662</td>\n",
       "      <td>160.266622</td>\n",
       "      <td>4179.542704</td>\n",
       "      <td>28.010653</td>\n",
       "    </tr>\n",
       "    <tr>\n",
       "      <td>ultra</td>\n",
       "      <td>535.25</td>\n",
       "      <td>19750.5</td>\n",
       "      <td>47.5</td>\n",
       "      <td>92290.576519</td>\n",
       "      <td>7.923080e+07</td>\n",
       "      <td>2424.263318</td>\n",
       "      <td>303.793641</td>\n",
       "      <td>8901.168701</td>\n",
       "      <td>49.236809</td>\n",
       "    </tr>\n",
       "  </tbody>\n",
       "</table>\n",
       "</div>"
      ],
      "text/plain": [
       "         median                             var                             \\\n",
       "       duration  mb_used messages      duration       mb_used     messages   \n",
       "tariff                                                                       \n",
       "smart    439.75  16948.0     28.5  25685.390127  1.746858e+07   784.596662   \n",
       "ultra    535.25  19750.5     47.5  92290.576519  7.923080e+07  2424.263318   \n",
       "\n",
       "               std                          \n",
       "          duration      mb_used   messages  \n",
       "tariff                                      \n",
       "smart   160.266622  4179.542704  28.010653  \n",
       "ultra   303.793641  8901.168701  49.236809  "
      ]
     },
     "execution_count": 97,
     "metadata": {},
     "output_type": "execute_result"
    }
   ],
   "source": [
    "#посчитаем дисперсию\n",
    "variance = average_values.pivot_table(index=['tariff'], values=['duration', 'messages', 'mb_used'], \n",
    "                    aggfunc=[np.median, np.var, np.std])\n",
    "variance"
   ]
  },
  {
   "cell_type": "markdown",
   "metadata": {},
   "source": [
    "Дисперсия больше у тарифа ультра, он выгодней для оператора"
   ]
  },
  {
   "cell_type": "code",
   "execution_count": 98,
   "metadata": {},
   "outputs": [
    {
     "data": {
      "text/html": [
       "<div>\n",
       "<style scoped>\n",
       "    .dataframe tbody tr th:only-of-type {\n",
       "        vertical-align: middle;\n",
       "    }\n",
       "\n",
       "    .dataframe tbody tr th {\n",
       "        vertical-align: top;\n",
       "    }\n",
       "\n",
       "    .dataframe thead th {\n",
       "        text-align: right;\n",
       "    }\n",
       "</style>\n",
       "<table border=\"1\" class=\"dataframe\">\n",
       "  <thead>\n",
       "    <tr style=\"text-align: right;\">\n",
       "      <th></th>\n",
       "      <th>tariff</th>\n",
       "      <th>duration</th>\n",
       "      <th>mb_used</th>\n",
       "      <th>messages</th>\n",
       "      <th>payment</th>\n",
       "      <th>rub_monthly_fee</th>\n",
       "      <th>user_count</th>\n",
       "      <th>overpayment_count</th>\n",
       "    </tr>\n",
       "  </thead>\n",
       "  <tbody>\n",
       "    <tr>\n",
       "      <td>0</td>\n",
       "      <td>smart</td>\n",
       "      <td>438</td>\n",
       "      <td>16854</td>\n",
       "      <td>34</td>\n",
       "      <td>1310</td>\n",
       "      <td>550</td>\n",
       "      <td>350</td>\n",
       "      <td>194</td>\n",
       "    </tr>\n",
       "    <tr>\n",
       "      <td>1</td>\n",
       "      <td>ultra</td>\n",
       "      <td>558</td>\n",
       "      <td>20323</td>\n",
       "      <td>57</td>\n",
       "      <td>2062</td>\n",
       "      <td>1950</td>\n",
       "      <td>148</td>\n",
       "      <td>12</td>\n",
       "    </tr>\n",
       "  </tbody>\n",
       "</table>\n",
       "</div>"
      ],
      "text/plain": [
       "  tariff  duration  mb_used  messages  payment  rub_monthly_fee  user_count  \\\n",
       "0  smart       438    16854        34     1310              550         350   \n",
       "1  ultra       558    20323        57     2062             1950         148   \n",
       "\n",
       "   overpayment_count  \n",
       "0                194  \n",
       "1                 12  "
      ]
     },
     "execution_count": 98,
     "metadata": {},
     "output_type": "execute_result"
    }
   ],
   "source": [
    "#Посмотрим среднее количество потребляемых минут, мегабайт, смс, а также среднюю сумму чека, округлим все до целых чисел\n",
    "average_tariff = average_values.pivot_table(index='tariff', values=['duration', 'mb_used', 'messages', 'payment'])\n",
    "average_tariff['rub_monthly_fee'] = [550,1950]\n",
    "average_tariff['user_count'] = [350,148]\n",
    "average_tariff['overpayment_count'] = [194,12]\n",
    "average_tariff = average_tariff.reset_index(drop=False)\n",
    "average_tariff['duration'] = average_tariff['duration'].apply(np.ceil).astype('int')\n",
    "average_tariff['mb_used'] = average_tariff['mb_used'].apply(np.ceil).astype('int')\n",
    "average_tariff['messages'] = average_tariff['messages'].apply(np.ceil).astype('int')\n",
    "average_tariff['payment'] = average_tariff['payment'].apply(np.ceil).astype('int')\n",
    "average_tariff"
   ]
  },
  {
   "cell_type": "markdown",
   "metadata": {},
   "source": [
    "Пользователи тарифа ультра тратят больше времени и денег на разговоры, смс, интернет, но их меньше, при этом пользователям тарифа смарт чаще не хватает лимита и они его чаще превышают, за что и вынуждены доплачивать, средняя стоимость тарифа смарт, обходится пользователям почти в два раза дороже от номинала, но все равно дешевле тарифа ультра."
   ]
  },
  {
   "cell_type": "code",
   "execution_count": 99,
   "metadata": {},
   "outputs": [
    {
     "data": {
      "text/plain": [
       "Text(0.5, 1.0, 'Звонки')"
      ]
     },
     "execution_count": 99,
     "metadata": {},
     "output_type": "execute_result"
    },
    {
     "data": {
      "image/png": "[encoded data removed]",
      "text/plain": [
       "<Figure size 432x288 with 1 Axes>"
      ]
     },
     "metadata": {
      "needs_background": "light"
     },
     "output_type": "display_data"
    }
   ],
   "source": [
    "sns.distplot(smart['duration'], kde=False)\n",
    "sns.distplot(ultra['duration'], kde=False)\n",
    "plt.legend(['smart', 'ultra'])\n",
    "plt.xlabel('количество минут')\n",
    "plt.ylabel('количество пользователей')\n",
    "plt.title('Звонки')"
   ]
  },
  {
   "cell_type": "code",
   "execution_count": 100,
   "metadata": {},
   "outputs": [
    {
     "data": {
      "text/plain": [
       "Text(0.5, 1.0, 'Сообщения')"
      ]
     },
     "execution_count": 100,
     "metadata": {},
     "output_type": "execute_result"
    },
    {
     "data": {
      "image/png": "[encoded data removed]",
      "text/plain": [
       "<Figure size 432x288 with 1 Axes>"
      ]
     },
     "metadata": {
      "needs_background": "light"
     },
     "output_type": "display_data"
    }
   ],
   "source": [
    "sns.distplot(smart['messages'], kde=False)\n",
    "sns.distplot(ultra['messages'], kde=False)\n",
    "plt.legend(['smart', 'ultra'])\n",
    "plt.xlabel('количество смс')\n",
    "plt.ylabel('количество пользователей')\n",
    "plt.title('Сообщения')"
   ]
  },
  {
   "cell_type": "code",
   "execution_count": 101,
   "metadata": {},
   "outputs": [
    {
     "data": {
      "text/plain": [
       "Text(0.5, 1.0, 'траффик')"
      ]
     },
     "execution_count": 101,
     "metadata": {},
     "output_type": "execute_result"
    },
    {
     "data": {
      "image/png": "[encoded data removed]",
      "text/plain": [
       "<Figure size 432x288 with 1 Axes>"
      ]
     },
     "metadata": {
      "needs_background": "light"
     },
     "output_type": "display_data"
    }
   ],
   "source": [
    "sns.distplot(smart['mb_used'], kde=False)\n",
    "sns.distplot(ultra['mb_used'], kde=False)\n",
    "plt.legend(['smart', 'ultra'])\n",
    "plt.xlabel('количество мб')\n",
    "plt.ylabel('количество пользователей')\n",
    "plt.title('траффик')"
   ]
  },
  {
   "cell_type": "markdown",
   "metadata": {},
   "source": [
    "Пользователи тарифа смарт ограничены лимитом гораздо больше, чем те кто перешел на ультра."
   ]
  },
  {
   "cell_type": "markdown",
   "metadata": {},
   "source": [
    "# Шаг 4. Проверка гипотез"
   ]
  },
  {
   "cell_type": "markdown",
   "metadata": {},
   "source": [
    "- **средняя выручка пользователей тарифов «Ультра» и «Смарт» различаются**"
   ]
  },
  {
   "cell_type": "markdown",
   "metadata": {},
   "source": [
    "H0 — Средняя выручка пользователей тарифов \"Ультра\" и \"Смарт\" равна\n",
    "\n",
    "H1 — Средняя выручка пользователей тарифов \"Ультра\" и \"Смарт\" различается\n",
    "\n",
    "alpha = 5% - критический уровень статистической значимости\n",
    "\n",
    "p-value -  вероятность получить наблюдаемый или еще более далекий от предполагаемого результат при условии, что нулевая гипотеза верна"
   ]
  },
  {
   "cell_type": "code",
   "execution_count": 102,
   "metadata": {},
   "outputs": [
    {
     "data": {
      "text/plain": [
       "524719"
      ]
     },
     "execution_count": 102,
     "metadata": {},
     "output_type": "execute_result"
    }
   ],
   "source": [
    "#дисперсия платежей smart\n",
    "smart['payment'].var().astype('int')"
   ]
  },
  {
   "cell_type": "code",
   "execution_count": 103,
   "metadata": {},
   "outputs": [
    {
     "data": {
      "text/plain": [
       "90191"
      ]
     },
     "execution_count": 103,
     "metadata": {},
     "output_type": "execute_result"
    }
   ],
   "source": [
    "#дисперсия платежей ultra\n",
    "ultra['payment'].var().astype('int')"
   ]
  },
  {
   "cell_type": "code",
   "execution_count": 122,
   "metadata": {},
   "outputs": [
    {
     "name": "stdout",
     "output_type": "stream",
     "text": [
      "p-значение:  2.7240946993530856e-246\n",
      "Отвергаем нулевую гипотезу\n"
     ]
    }
   ],
   "source": [
    "#отвегнем гипотезу если вероятность p-value окажется меньше alpha \n",
    "alpha = 0.05 \n",
    "\n",
    "#так как дисперсии тарифов сильно отличаются то параметр equal_var = False\n",
    "results = st.ttest_ind(\n",
    "    #smart['payment'],\n",
    "    #ultra['payment'], , equal_var=False)\n",
    "    #average_values.query('tariff == \"smart\"')['payment'], \n",
    "    #average_values.query('tariff == \"ultra\"')['payment'], equal_var=False)\n",
    "    df.query('tariff == \"smart\"')['payment'], \n",
    "    df.query('tariff == \"ultra\"')['payment'], equal_var=False)\n",
    "\n",
    "print('p-значение: ', results.pvalue)\n",
    "\n",
    "if results.pvalue < alpha:\n",
    "    print(\"Отвергаем нулевую гипотезу\")\n",
    "else:\n",
    "    print(\"Не получилось отвергнуть нулевую гипотезу\") "
   ]
  },
  {
   "cell_type": "markdown",
   "metadata": {},
   "source": [
    "Вероятность получить равную выручку стремится к нулю, отвергаем тезис, что: \n",
    "Средняя выручка пользователей тарифов \"Ультра\" и \"Смарт\" равна"
   ]
  },
  {
   "cell_type": "markdown",
   "metadata": {},
   "source": [
    "По результату исследования средняя выручка пользователей тарифов «Ультра» и «Смарт» различаются"
   ]
  },
  {
   "cell_type": "markdown",
   "metadata": {},
   "source": [
    "- **средняя выручка пользователей из Москвы отличается от выручки пользователей из других регионов**"
   ]
  },
  {
   "cell_type": "markdown",
   "metadata": {},
   "source": [
    "H0 — средняя выручка пользователей из Москвы равна средней выручке пользователей из других регионов\n",
    "\n",
    "H1 — средняя выручка пользователей из Москвы отличается от средней выручке пользователей из других регионов\n",
    "\n",
    "alpha = 5% - критический уровень статистической значимости\n",
    "\n",
    "p-value -  вероятность получить наблюдаемый или еще более далекий от предполагаемого результат при условии, что нулевая гипотеза верна"
   ]
  },
  {
   "cell_type": "code",
   "execution_count": 124,
   "metadata": {},
   "outputs": [],
   "source": [
    "moscow = average_values.query('city == \"Москва\"')\n",
    "russia = average_values.query('city != \"Москва\"')"
   ]
  },
  {
   "cell_type": "code",
   "execution_count": 125,
   "metadata": {},
   "outputs": [
    {
     "name": "stdout",
     "output_type": "stream",
     "text": [
      "p-значение:  0.32344400088705527\n",
      "Не получилось отвергнуть нулевую гипотезу\n"
     ]
    }
   ],
   "source": [
    "#отвегнем гипотезу если вероятность p-value окажется меньше alpha \n",
    "alpha = 0.05 \n",
    "\n",
    "results = st.ttest_ind(\n",
    "    moscow['payment'], \n",
    "    russia['payment'])\n",
    "\n",
    "print('p-значение: ', results.pvalue)\n",
    "\n",
    "if results.pvalue < alpha:\n",
    "    print(\"Отвергаем нулевую гипотезу\")\n",
    "else:\n",
    "    print(\"Не получилось отвергнуть нулевую гипотезу\") "
   ]
  },
  {
   "cell_type": "markdown",
   "metadata": {},
   "source": [
    "По результату исследования средняя выручка пользователей из Москвы равна средней выручке пользователей из других регионов"
   ]
  },
  {
   "cell_type": "markdown",
   "metadata": {},
   "source": [
    "# Общий вывод"
   ]
  },
  {
   "cell_type": "markdown",
   "metadata": {},
   "source": [
    "в результате статистического анализа было выявлено:\n",
    "    - пользователи тарифа ультра платят в среднем - 2002, а пользователи смарта - 952\n",
    "    - пользователей тарифа смарт почти в два раза больше чем тарифа ультра, тариф смарт гораздо дешевле.\n",
    "    - тариф смарт не обладает большим лимитом и вынуждает своих держателей часто пополнять счет\n",
    "    - доплат по тарифу ультра меньше, чем по смарту, но он все равно выгодней для оператора."
   ]
  }
 ],
 "metadata": {
  "ExecuteTimeLog": [
   {
    "duration": 554,
    "start_time": "2022-01-21T08:23:25.898Z"
   },
   {
    "duration": 130,
    "start_time": "2022-01-21T08:24:57.164Z"
   },
   {
    "duration": 15,
    "start_time": "2022-01-21T08:25:01.537Z"
   },
   {
    "duration": 21,
    "start_time": "2022-01-21T08:25:24.334Z"
   },
   {
    "duration": 11,
    "start_time": "2022-01-21T08:25:31.497Z"
   },
   {
    "duration": 110,
    "start_time": "2022-01-21T08:26:13.260Z"
   },
   {
    "duration": 349,
    "start_time": "2022-01-21T08:27:28.660Z"
   },
   {
    "duration": 10,
    "start_time": "2022-01-21T08:27:51.303Z"
   },
   {
    "duration": 12,
    "start_time": "2022-01-21T08:27:57.112Z"
   },
   {
    "duration": 10,
    "start_time": "2022-01-21T08:28:05.639Z"
   },
   {
    "duration": 257,
    "start_time": "2022-01-21T08:28:18.154Z"
   },
   {
    "duration": 15,
    "start_time": "2022-01-21T08:28:31.825Z"
   },
   {
    "duration": 13,
    "start_time": "2022-01-21T08:28:38.832Z"
   },
   {
    "duration": 12,
    "start_time": "2022-01-21T08:28:49.967Z"
   },
   {
    "duration": 8,
    "start_time": "2022-01-21T08:29:01.860Z"
   },
   {
    "duration": 6,
    "start_time": "2022-01-21T08:29:09.638Z"
   },
   {
    "duration": 11,
    "start_time": "2022-01-21T08:29:19.711Z"
   },
   {
    "duration": 18,
    "start_time": "2022-01-21T08:30:17.483Z"
   },
   {
    "duration": 10,
    "start_time": "2022-01-21T08:30:26.259Z"
   },
   {
    "duration": 20,
    "start_time": "2022-01-21T08:30:40.516Z"
   },
   {
    "duration": 44,
    "start_time": "2022-01-21T08:31:33.178Z"
   },
   {
    "duration": 20,
    "start_time": "2022-01-21T08:32:15.589Z"
   },
   {
    "duration": 16,
    "start_time": "2022-01-21T08:32:22.671Z"
   },
   {
    "duration": 14,
    "start_time": "2022-01-21T08:32:28.390Z"
   },
   {
    "duration": 6,
    "start_time": "2022-01-21T08:32:35.743Z"
   },
   {
    "duration": 6,
    "start_time": "2022-01-21T08:32:39.194Z"
   },
   {
    "duration": 356,
    "start_time": "2022-01-21T08:33:10.540Z"
   },
   {
    "duration": 9,
    "start_time": "2022-01-21T08:35:53.631Z"
   },
   {
    "duration": 325,
    "start_time": "2022-01-21T08:36:08.022Z"
   },
   {
    "duration": 18,
    "start_time": "2022-01-21T08:36:14.591Z"
   },
   {
    "duration": 13,
    "start_time": "2022-01-21T08:37:21.757Z"
   },
   {
    "duration": 12,
    "start_time": "2022-01-21T08:37:38.363Z"
   },
   {
    "duration": 6,
    "start_time": "2022-01-21T08:38:02.440Z"
   },
   {
    "duration": 6,
    "start_time": "2022-01-21T08:42:24.551Z"
   },
   {
    "duration": 19,
    "start_time": "2022-01-21T08:42:35.573Z"
   },
   {
    "duration": 7,
    "start_time": "2022-01-21T08:44:12.014Z"
   },
   {
    "duration": 2,
    "start_time": "2022-01-21T08:50:08.715Z"
   },
   {
    "duration": 342,
    "start_time": "2022-01-21T08:50:11.349Z"
   },
   {
    "duration": 10,
    "start_time": "2022-01-21T08:50:11.693Z"
   },
   {
    "duration": 7,
    "start_time": "2022-01-21T08:50:11.705Z"
   },
   {
    "duration": 10,
    "start_time": "2022-01-21T08:50:11.814Z"
   },
   {
    "duration": 8,
    "start_time": "2022-01-21T08:50:11.974Z"
   },
   {
    "duration": 8,
    "start_time": "2022-01-21T08:50:12.479Z"
   },
   {
    "duration": 6,
    "start_time": "2022-01-21T08:50:12.964Z"
   },
   {
    "duration": 19,
    "start_time": "2022-01-21T08:50:13.135Z"
   },
   {
    "duration": 16,
    "start_time": "2022-01-21T08:50:13.500Z"
   },
   {
    "duration": 13,
    "start_time": "2022-01-21T08:50:13.700Z"
   },
   {
    "duration": 6,
    "start_time": "2022-01-21T08:50:14.134Z"
   },
   {
    "duration": 76,
    "start_time": "2022-01-21T08:51:08.471Z"
   },
   {
    "duration": 60,
    "start_time": "2022-01-21T08:51:13.940Z"
   },
   {
    "duration": 47,
    "start_time": "2022-01-21T08:55:55.397Z"
   },
   {
    "duration": 26,
    "start_time": "2022-01-21T08:55:58.110Z"
   },
   {
    "duration": 540,
    "start_time": "2022-01-21T09:00:04.269Z"
   },
   {
    "duration": 361,
    "start_time": "2022-01-21T09:00:05.652Z"
   },
   {
    "duration": 18,
    "start_time": "2022-01-21T09:00:06.031Z"
   },
   {
    "duration": 16,
    "start_time": "2022-01-21T09:00:06.309Z"
   },
   {
    "duration": 12,
    "start_time": "2022-01-21T09:00:06.534Z"
   },
   {
    "duration": 13,
    "start_time": "2022-01-21T09:00:06.719Z"
   },
   {
    "duration": 8,
    "start_time": "2022-01-21T09:00:06.895Z"
   },
   {
    "duration": 6,
    "start_time": "2022-01-21T09:00:07.427Z"
   },
   {
    "duration": 19,
    "start_time": "2022-01-21T09:00:07.628Z"
   },
   {
    "duration": 27,
    "start_time": "2022-01-21T09:00:07.816Z"
   },
   {
    "duration": 25,
    "start_time": "2022-01-21T09:00:08.005Z"
   },
   {
    "duration": 6,
    "start_time": "2022-01-21T09:00:08.206Z"
   },
   {
    "duration": 52,
    "start_time": "2022-01-21T09:00:08.789Z"
   },
   {
    "duration": 20,
    "start_time": "2022-01-21T09:00:09.052Z"
   },
   {
    "duration": 225,
    "start_time": "2022-01-21T09:13:05.792Z"
   },
   {
    "duration": 215,
    "start_time": "2022-01-21T09:13:18.467Z"
   },
   {
    "duration": 544,
    "start_time": "2022-01-21T09:13:21.333Z"
   },
   {
    "duration": 359,
    "start_time": "2022-01-21T09:13:21.879Z"
   },
   {
    "duration": 18,
    "start_time": "2022-01-21T09:13:22.240Z"
   },
   {
    "duration": 10,
    "start_time": "2022-01-21T09:13:22.553Z"
   },
   {
    "duration": 13,
    "start_time": "2022-01-21T09:13:22.796Z"
   },
   {
    "duration": 8,
    "start_time": "2022-01-21T09:13:22.986Z"
   },
   {
    "duration": 7,
    "start_time": "2022-01-21T09:13:23.141Z"
   },
   {
    "duration": 7,
    "start_time": "2022-01-21T09:13:23.606Z"
   },
   {
    "duration": 20,
    "start_time": "2022-01-21T09:13:23.763Z"
   },
   {
    "duration": 17,
    "start_time": "2022-01-21T09:13:24.161Z"
   },
   {
    "duration": 15,
    "start_time": "2022-01-21T09:13:24.421Z"
   },
   {
    "duration": 6,
    "start_time": "2022-01-21T09:13:24.712Z"
   },
   {
    "duration": 240,
    "start_time": "2022-01-21T10:59:11.326Z"
   },
   {
    "duration": 536,
    "start_time": "2022-01-21T10:59:20.026Z"
   },
   {
    "duration": 347,
    "start_time": "2022-01-21T10:59:20.564Z"
   },
   {
    "duration": 16,
    "start_time": "2022-01-21T10:59:20.913Z"
   },
   {
    "duration": 11,
    "start_time": "2022-01-21T10:59:20.931Z"
   },
   {
    "duration": 11,
    "start_time": "2022-01-21T10:59:20.944Z"
   },
   {
    "duration": 7,
    "start_time": "2022-01-21T10:59:20.956Z"
   },
   {
    "duration": 11,
    "start_time": "2022-01-21T10:59:20.965Z"
   },
   {
    "duration": 6,
    "start_time": "2022-01-21T10:59:21.012Z"
   },
   {
    "duration": 26,
    "start_time": "2022-01-21T10:59:21.020Z"
   },
   {
    "duration": 15,
    "start_time": "2022-01-21T10:59:21.048Z"
   },
   {
    "duration": 16,
    "start_time": "2022-01-21T10:59:21.065Z"
   },
   {
    "duration": 33,
    "start_time": "2022-01-21T10:59:21.083Z"
   },
   {
    "duration": 6,
    "start_time": "2022-01-21T10:59:21.117Z"
   },
   {
    "duration": 66,
    "start_time": "2022-01-21T10:59:21.124Z"
   },
   {
    "duration": 38,
    "start_time": "2022-01-21T10:59:21.192Z"
   },
   {
    "duration": 533,
    "start_time": "2022-01-21T10:59:42.385Z"
   },
   {
    "duration": 352,
    "start_time": "2022-01-21T10:59:42.920Z"
   },
   {
    "duration": 15,
    "start_time": "2022-01-21T10:59:43.274Z"
   },
   {
    "duration": 9,
    "start_time": "2022-01-21T10:59:43.291Z"
   },
   {
    "duration": 12,
    "start_time": "2022-01-21T10:59:43.302Z"
   },
   {
    "duration": 7,
    "start_time": "2022-01-21T10:59:43.315Z"
   },
   {
    "duration": 6,
    "start_time": "2022-01-21T10:59:43.323Z"
   },
   {
    "duration": 11,
    "start_time": "2022-01-21T10:59:43.330Z"
   },
   {
    "duration": 21,
    "start_time": "2022-01-21T10:59:43.343Z"
   },
   {
    "duration": 15,
    "start_time": "2022-01-21T10:59:43.366Z"
   },
   {
    "duration": 36,
    "start_time": "2022-01-21T10:59:43.382Z"
   },
   {
    "duration": 5,
    "start_time": "2022-01-21T10:59:43.420Z"
   },
   {
    "duration": 5,
    "start_time": "2022-01-21T10:59:43.426Z"
   },
   {
    "duration": 79,
    "start_time": "2022-01-21T10:59:43.433Z"
   },
   {
    "duration": 19,
    "start_time": "2022-01-21T10:59:43.513Z"
   },
   {
    "duration": 7,
    "start_time": "2022-01-21T10:59:57.628Z"
   },
   {
    "duration": 14,
    "start_time": "2022-01-21T11:00:02.941Z"
   },
   {
    "duration": 58,
    "start_time": "2022-01-21T11:03:03.064Z"
   },
   {
    "duration": 19,
    "start_time": "2022-01-21T11:05:14.990Z"
   },
   {
    "duration": 7,
    "start_time": "2022-01-21T11:10:55.545Z"
   },
   {
    "duration": 5,
    "start_time": "2022-01-21T11:12:51.572Z"
   },
   {
    "duration": 4,
    "start_time": "2022-01-21T11:25:05.336Z"
   },
   {
    "duration": 7,
    "start_time": "2022-01-21T11:25:10.865Z"
   },
   {
    "duration": 320,
    "start_time": "2022-01-21T11:27:06.439Z"
   },
   {
    "duration": 8,
    "start_time": "2022-01-21T11:27:16.527Z"
   },
   {
    "duration": 566,
    "start_time": "2022-01-21T11:37:46.861Z"
   },
   {
    "duration": 361,
    "start_time": "2022-01-21T11:37:47.429Z"
   },
   {
    "duration": 12,
    "start_time": "2022-01-21T11:37:47.885Z"
   },
   {
    "duration": 11,
    "start_time": "2022-01-21T11:37:48.247Z"
   },
   {
    "duration": 14,
    "start_time": "2022-01-21T11:37:48.690Z"
   },
   {
    "duration": 10,
    "start_time": "2022-01-21T11:37:48.965Z"
   },
   {
    "duration": 8,
    "start_time": "2022-01-21T11:37:49.235Z"
   },
   {
    "duration": 7,
    "start_time": "2022-01-21T11:37:50.348Z"
   },
   {
    "duration": 21,
    "start_time": "2022-01-21T11:37:50.734Z"
   },
   {
    "duration": 18,
    "start_time": "2022-01-21T11:37:51.198Z"
   },
   {
    "duration": 14,
    "start_time": "2022-01-21T11:37:51.634Z"
   },
   {
    "duration": 5,
    "start_time": "2022-01-21T11:37:52.144Z"
   },
   {
    "duration": 4,
    "start_time": "2022-01-21T11:37:54.634Z"
   },
   {
    "duration": 9,
    "start_time": "2022-01-21T11:38:04.313Z"
   },
   {
    "duration": 8,
    "start_time": "2022-01-21T11:38:10.739Z"
   },
   {
    "duration": 8,
    "start_time": "2022-01-21T11:38:14.851Z"
   },
   {
    "duration": 3,
    "start_time": "2022-01-21T11:43:34.855Z"
   },
   {
    "duration": 333,
    "start_time": "2022-01-21T11:43:35.354Z"
   },
   {
    "duration": 11,
    "start_time": "2022-01-21T11:43:35.865Z"
   },
   {
    "duration": 10,
    "start_time": "2022-01-21T11:43:36.427Z"
   },
   {
    "duration": 12,
    "start_time": "2022-01-21T11:43:36.946Z"
   },
   {
    "duration": 9,
    "start_time": "2022-01-21T11:43:37.399Z"
   },
   {
    "duration": 7,
    "start_time": "2022-01-21T11:43:37.838Z"
   },
   {
    "duration": 7,
    "start_time": "2022-01-21T11:43:39.948Z"
   },
   {
    "duration": 20,
    "start_time": "2022-01-21T11:43:40.980Z"
   },
   {
    "duration": 16,
    "start_time": "2022-01-21T11:43:42.055Z"
   },
   {
    "duration": 6,
    "start_time": "2022-01-21T11:43:45.307Z"
   },
   {
    "duration": 15,
    "start_time": "2022-01-21T11:43:48.501Z"
   },
   {
    "duration": 6,
    "start_time": "2022-01-21T12:01:32.189Z"
   },
   {
    "duration": 4,
    "start_time": "2022-01-21T12:01:42.588Z"
   },
   {
    "duration": 67,
    "start_time": "2022-01-21T12:01:43.605Z"
   },
   {
    "duration": 9,
    "start_time": "2022-01-21T12:07:39.738Z"
   },
   {
    "duration": 7,
    "start_time": "2022-01-21T12:07:56.151Z"
   },
   {
    "duration": 15,
    "start_time": "2022-01-21T14:43:56.070Z"
   },
   {
    "duration": 6,
    "start_time": "2022-01-21T14:46:26.055Z"
   },
   {
    "duration": 5,
    "start_time": "2022-01-21T14:47:12.038Z"
   },
   {
    "duration": 249,
    "start_time": "2022-01-21T14:47:58.669Z"
   },
   {
    "duration": 857,
    "start_time": "2022-01-21T14:48:04.601Z"
   },
   {
    "duration": 5,
    "start_time": "2022-01-21T14:48:11.585Z"
   },
   {
    "duration": 203,
    "start_time": "2022-01-21T14:48:24.024Z"
   },
   {
    "duration": 5,
    "start_time": "2022-01-21T15:04:10.071Z"
   },
   {
    "duration": 5,
    "start_time": "2022-01-21T15:04:32.426Z"
   },
   {
    "duration": 22,
    "start_time": "2022-01-21T15:21:56.485Z"
   },
   {
    "duration": 24,
    "start_time": "2022-01-21T15:22:04.957Z"
   },
   {
    "duration": 334,
    "start_time": "2022-01-21T15:28:31.385Z"
   },
   {
    "duration": 253,
    "start_time": "2022-01-21T15:30:35.735Z"
   },
   {
    "duration": 74,
    "start_time": "2022-01-21T15:30:55.513Z"
   },
   {
    "duration": 344,
    "start_time": "2022-01-21T15:31:19.828Z"
   },
   {
    "duration": 284,
    "start_time": "2022-01-21T15:31:25.880Z"
   },
   {
    "duration": 99,
    "start_time": "2022-01-21T15:31:30.969Z"
   },
   {
    "duration": 72,
    "start_time": "2022-01-21T15:31:39.499Z"
   },
   {
    "duration": 71,
    "start_time": "2022-01-21T15:31:58.782Z"
   },
   {
    "duration": 82,
    "start_time": "2022-01-21T15:32:06.630Z"
   },
   {
    "duration": 45,
    "start_time": "2022-01-21T15:41:24.791Z"
   },
   {
    "duration": 59,
    "start_time": "2022-01-21T15:50:03.859Z"
   },
   {
    "duration": 39,
    "start_time": "2022-01-21T15:53:01.759Z"
   },
   {
    "duration": 68,
    "start_time": "2022-01-21T15:54:13.748Z"
   },
   {
    "duration": 9,
    "start_time": "2022-01-21T15:54:37.979Z"
   },
   {
    "duration": 222,
    "start_time": "2022-01-21T15:57:08.671Z"
   },
   {
    "duration": 211,
    "start_time": "2022-01-21T15:57:31.069Z"
   },
   {
    "duration": 189,
    "start_time": "2022-01-21T15:57:45.960Z"
   },
   {
    "duration": 10,
    "start_time": "2022-01-21T15:57:51.500Z"
   },
   {
    "duration": 254,
    "start_time": "2022-01-21T15:57:55.196Z"
   },
   {
    "duration": 38,
    "start_time": "2022-01-21T15:58:14.380Z"
   },
   {
    "duration": 859,
    "start_time": "2022-01-21T15:58:26.949Z"
   },
   {
    "duration": 11,
    "start_time": "2022-01-21T15:58:34.327Z"
   },
   {
    "duration": 20,
    "start_time": "2022-01-21T15:58:44.947Z"
   },
   {
    "duration": 21,
    "start_time": "2022-01-21T15:59:04.143Z"
   },
   {
    "duration": 19,
    "start_time": "2022-01-21T15:59:10.145Z"
   },
   {
    "duration": 23,
    "start_time": "2022-01-21T15:59:16.099Z"
   },
   {
    "duration": 19,
    "start_time": "2022-01-21T15:59:20.233Z"
   },
   {
    "duration": 5445,
    "start_time": "2022-01-21T16:01:24.617Z"
   },
   {
    "duration": 5095,
    "start_time": "2022-01-21T16:01:48.230Z"
   },
   {
    "duration": 5726,
    "start_time": "2022-01-21T16:01:59.616Z"
   },
   {
    "duration": 5730,
    "start_time": "2022-01-21T16:04:29.235Z"
   },
   {
    "duration": 69,
    "start_time": "2022-01-21T16:05:10.693Z"
   },
   {
    "duration": 5205,
    "start_time": "2022-01-21T16:05:16.813Z"
   },
   {
    "duration": 3,
    "start_time": "2022-01-21T16:10:50.312Z"
   },
   {
    "duration": 15,
    "start_time": "2022-01-21T16:10:57.076Z"
   },
   {
    "duration": 22,
    "start_time": "2022-01-21T16:12:08.018Z"
   },
   {
    "duration": 4697,
    "start_time": "2022-01-21T16:12:42.638Z"
   },
   {
    "duration": 5448,
    "start_time": "2022-01-21T16:26:26.410Z"
   },
   {
    "duration": 12,
    "start_time": "2022-01-21T16:33:04.842Z"
   },
   {
    "duration": 210,
    "start_time": "2022-01-21T16:33:16.453Z"
   },
   {
    "duration": 64,
    "start_time": "2022-01-21T16:34:34.048Z"
   },
   {
    "duration": 7,
    "start_time": "2022-01-21T16:45:02.668Z"
   },
   {
    "duration": 3,
    "start_time": "2022-01-21T16:55:08.384Z"
   },
   {
    "duration": 3,
    "start_time": "2022-01-21T17:02:14.970Z"
   },
   {
    "duration": 387,
    "start_time": "2022-01-21T17:02:15.561Z"
   },
   {
    "duration": 12,
    "start_time": "2022-01-21T17:02:15.950Z"
   },
   {
    "duration": 10,
    "start_time": "2022-01-21T17:02:16.148Z"
   },
   {
    "duration": 13,
    "start_time": "2022-01-21T17:02:16.419Z"
   },
   {
    "duration": 9,
    "start_time": "2022-01-21T17:02:16.786Z"
   },
   {
    "duration": 8,
    "start_time": "2022-01-21T17:02:17.100Z"
   },
   {
    "duration": 6,
    "start_time": "2022-01-21T17:02:18.935Z"
   },
   {
    "duration": 22,
    "start_time": "2022-01-21T17:02:19.773Z"
   },
   {
    "duration": 20,
    "start_time": "2022-01-21T17:02:20.261Z"
   },
   {
    "duration": 6,
    "start_time": "2022-01-21T17:02:20.933Z"
   },
   {
    "duration": 22,
    "start_time": "2022-01-21T17:02:21.810Z"
   },
   {
    "duration": 7,
    "start_time": "2022-01-21T17:02:24.476Z"
   },
   {
    "duration": 3,
    "start_time": "2022-01-21T17:02:25.304Z"
   },
   {
    "duration": 5,
    "start_time": "2022-01-21T17:02:33.328Z"
   },
   {
    "duration": 3,
    "start_time": "2022-01-21T17:02:33.841Z"
   },
   {
    "duration": 55,
    "start_time": "2022-01-21T17:02:34.228Z"
   },
   {
    "duration": 5,
    "start_time": "2022-01-21T17:02:34.878Z"
   },
   {
    "duration": 70,
    "start_time": "2022-01-21T17:02:41.151Z"
   },
   {
    "duration": 43,
    "start_time": "2022-01-21T17:02:46.262Z"
   },
   {
    "duration": 38,
    "start_time": "2022-01-21T17:02:47.829Z"
   },
   {
    "duration": 9,
    "start_time": "2022-01-21T17:02:50.909Z"
   },
   {
    "duration": 66,
    "start_time": "2022-01-21T17:27:01.772Z"
   },
   {
    "duration": 108,
    "start_time": "2022-01-21T17:27:16.903Z"
   },
   {
    "duration": 64,
    "start_time": "2022-01-21T17:27:45.816Z"
   },
   {
    "duration": 68,
    "start_time": "2022-01-21T17:28:08.388Z"
   },
   {
    "duration": 66,
    "start_time": "2022-01-21T17:29:32.164Z"
   },
   {
    "duration": 157,
    "start_time": "2022-01-21T17:30:06.382Z"
   },
   {
    "duration": 72,
    "start_time": "2022-01-21T17:31:12.077Z"
   },
   {
    "duration": 67,
    "start_time": "2022-01-21T17:34:05.816Z"
   },
   {
    "duration": 67,
    "start_time": "2022-01-21T17:35:53.945Z"
   },
   {
    "duration": 3,
    "start_time": "2022-01-21T17:36:00.609Z"
   },
   {
    "duration": 381,
    "start_time": "2022-01-21T17:36:00.795Z"
   },
   {
    "duration": 12,
    "start_time": "2022-01-21T17:36:01.177Z"
   },
   {
    "duration": 16,
    "start_time": "2022-01-21T17:36:01.191Z"
   },
   {
    "duration": 12,
    "start_time": "2022-01-21T17:36:01.240Z"
   },
   {
    "duration": 8,
    "start_time": "2022-01-21T17:36:01.378Z"
   },
   {
    "duration": 10,
    "start_time": "2022-01-21T17:36:01.513Z"
   },
   {
    "duration": 8,
    "start_time": "2022-01-21T17:36:02.114Z"
   },
   {
    "duration": 26,
    "start_time": "2022-01-21T17:36:02.409Z"
   },
   {
    "duration": 17,
    "start_time": "2022-01-21T17:36:02.726Z"
   },
   {
    "duration": 8,
    "start_time": "2022-01-21T17:36:03.017Z"
   },
   {
    "duration": 16,
    "start_time": "2022-01-21T17:36:03.327Z"
   },
   {
    "duration": 5,
    "start_time": "2022-01-21T17:36:03.791Z"
   },
   {
    "duration": 4,
    "start_time": "2022-01-21T17:36:03.952Z"
   },
   {
    "duration": 62,
    "start_time": "2022-01-21T17:36:04.107Z"
   },
   {
    "duration": 5,
    "start_time": "2022-01-21T17:36:04.280Z"
   },
   {
    "duration": 2,
    "start_time": "2022-01-21T17:36:04.435Z"
   },
   {
    "duration": 2,
    "start_time": "2022-01-21T17:36:04.601Z"
   },
   {
    "duration": 79,
    "start_time": "2022-01-21T17:36:05.047Z"
   },
   {
    "duration": 50,
    "start_time": "2022-01-21T17:36:05.375Z"
   },
   {
    "duration": 43,
    "start_time": "2022-01-21T17:36:05.697Z"
   },
   {
    "duration": 8,
    "start_time": "2022-01-21T17:36:06.025Z"
   },
   {
    "duration": 64,
    "start_time": "2022-01-21T17:36:06.186Z"
   },
   {
    "duration": 71,
    "start_time": "2022-01-21T17:37:19.438Z"
   },
   {
    "duration": 95,
    "start_time": "2022-01-21T17:37:34.236Z"
   },
   {
    "duration": 61,
    "start_time": "2022-01-21T17:41:40.794Z"
   },
   {
    "duration": 70,
    "start_time": "2022-01-21T17:41:51.196Z"
   },
   {
    "duration": 64,
    "start_time": "2022-01-21T17:41:57.796Z"
   },
   {
    "duration": 79,
    "start_time": "2022-01-21T17:42:06.318Z"
   },
   {
    "duration": 9,
    "start_time": "2022-01-23T09:32:20.070Z"
   },
   {
    "duration": 1196,
    "start_time": "2022-01-23T09:32:26.947Z"
   },
   {
    "duration": 387,
    "start_time": "2022-01-23T09:32:28.145Z"
   },
   {
    "duration": 16,
    "start_time": "2022-01-23T09:32:28.534Z"
   },
   {
    "duration": 14,
    "start_time": "2022-01-23T09:32:28.552Z"
   },
   {
    "duration": 13,
    "start_time": "2022-01-23T09:32:28.568Z"
   },
   {
    "duration": 16,
    "start_time": "2022-01-23T09:32:28.583Z"
   },
   {
    "duration": 9,
    "start_time": "2022-01-23T09:32:28.659Z"
   },
   {
    "duration": 7,
    "start_time": "2022-01-23T09:32:29.786Z"
   },
   {
    "duration": 31,
    "start_time": "2022-01-23T09:32:30.377Z"
   },
   {
    "duration": 20,
    "start_time": "2022-01-23T09:32:31.029Z"
   },
   {
    "duration": 7,
    "start_time": "2022-01-23T09:32:31.546Z"
   },
   {
    "duration": 15,
    "start_time": "2022-01-23T09:32:32.019Z"
   },
   {
    "duration": 7,
    "start_time": "2022-01-23T09:32:32.759Z"
   },
   {
    "duration": 3,
    "start_time": "2022-01-23T09:32:33.007Z"
   },
   {
    "duration": 76,
    "start_time": "2022-01-23T09:32:33.257Z"
   },
   {
    "duration": 5,
    "start_time": "2022-01-23T09:32:33.545Z"
   },
   {
    "duration": 80,
    "start_time": "2022-01-23T09:32:34.306Z"
   },
   {
    "duration": 46,
    "start_time": "2022-01-23T09:32:34.949Z"
   },
   {
    "duration": 42,
    "start_time": "2022-01-23T09:32:35.425Z"
   },
   {
    "duration": 8,
    "start_time": "2022-01-23T09:32:36.215Z"
   },
   {
    "duration": 8,
    "start_time": "2022-01-23T09:32:36.690Z"
   },
   {
    "duration": 6,
    "start_time": "2022-01-23T09:32:59.365Z"
   },
   {
    "duration": 10,
    "start_time": "2022-01-23T09:44:08.852Z"
   },
   {
    "duration": 21,
    "start_time": "2022-01-23T09:44:19.518Z"
   },
   {
    "duration": 11,
    "start_time": "2022-01-23T09:44:36.457Z"
   },
   {
    "duration": 22,
    "start_time": "2022-01-23T09:44:45.473Z"
   },
   {
    "duration": 23,
    "start_time": "2022-01-23T09:44:56.875Z"
   },
   {
    "duration": 20,
    "start_time": "2022-01-23T09:45:48.027Z"
   },
   {
    "duration": 21,
    "start_time": "2022-01-23T09:45:58.193Z"
   },
   {
    "duration": 9,
    "start_time": "2022-01-23T09:47:05.771Z"
   },
   {
    "duration": 19,
    "start_time": "2022-01-23T09:47:11.952Z"
   },
   {
    "duration": 9,
    "start_time": "2022-01-23T09:48:46.522Z"
   },
   {
    "duration": 80,
    "start_time": "2022-01-23T09:52:28.511Z"
   },
   {
    "duration": 75,
    "start_time": "2022-01-23T09:53:12.482Z"
   },
   {
    "duration": 75,
    "start_time": "2022-01-23T09:53:20.327Z"
   },
   {
    "duration": 3,
    "start_time": "2022-01-23T09:53:33.209Z"
   },
   {
    "duration": 388,
    "start_time": "2022-01-23T09:53:33.415Z"
   },
   {
    "duration": 12,
    "start_time": "2022-01-23T09:53:33.805Z"
   },
   {
    "duration": 10,
    "start_time": "2022-01-23T09:53:33.839Z"
   },
   {
    "duration": 12,
    "start_time": "2022-01-23T09:53:34.043Z"
   },
   {
    "duration": 11,
    "start_time": "2022-01-23T09:53:34.217Z"
   },
   {
    "duration": 8,
    "start_time": "2022-01-23T09:53:34.397Z"
   },
   {
    "duration": 6,
    "start_time": "2022-01-23T09:53:35.078Z"
   },
   {
    "duration": 21,
    "start_time": "2022-01-23T09:53:35.427Z"
   },
   {
    "duration": 17,
    "start_time": "2022-01-23T09:53:35.779Z"
   },
   {
    "duration": 6,
    "start_time": "2022-01-23T09:53:36.286Z"
   },
   {
    "duration": 14,
    "start_time": "2022-01-23T09:53:36.625Z"
   },
   {
    "duration": 5,
    "start_time": "2022-01-23T09:53:37.213Z"
   },
   {
    "duration": 4,
    "start_time": "2022-01-23T09:53:37.379Z"
   },
   {
    "duration": 62,
    "start_time": "2022-01-23T09:53:37.579Z"
   },
   {
    "duration": 4,
    "start_time": "2022-01-23T09:53:37.758Z"
   },
   {
    "duration": 68,
    "start_time": "2022-01-23T09:53:38.304Z"
   },
   {
    "duration": 43,
    "start_time": "2022-01-23T09:53:38.715Z"
   },
   {
    "duration": 10,
    "start_time": "2022-01-23T09:53:38.890Z"
   },
   {
    "duration": 41,
    "start_time": "2022-01-23T09:53:39.261Z"
   },
   {
    "duration": 10,
    "start_time": "2022-01-23T09:53:39.662Z"
   },
   {
    "duration": 8,
    "start_time": "2022-01-23T09:53:39.865Z"
   },
   {
    "duration": 7,
    "start_time": "2022-01-23T09:53:40.414Z"
   },
   {
    "duration": 82,
    "start_time": "2022-01-23T09:53:41.121Z"
   },
   {
    "duration": 75,
    "start_time": "2022-01-23T09:53:51.587Z"
   },
   {
    "duration": 7618,
    "start_time": "2022-01-23T09:54:47.530Z"
   },
   {
    "duration": 6941,
    "start_time": "2022-01-23T09:55:23.803Z"
   },
   {
    "duration": 7745,
    "start_time": "2022-01-23T09:55:38.971Z"
   },
   {
    "duration": 7297,
    "start_time": "2022-01-23T09:56:38.389Z"
   },
   {
    "duration": 355,
    "start_time": "2022-01-23T10:00:01.754Z"
   },
   {
    "duration": 17,
    "start_time": "2022-01-23T10:01:30.986Z"
   },
   {
    "duration": 9,
    "start_time": "2022-01-23T10:01:32.274Z"
   },
   {
    "duration": 6,
    "start_time": "2022-01-23T10:01:33.134Z"
   },
   {
    "duration": 239,
    "start_time": "2022-01-23T10:01:33.964Z"
   },
   {
    "duration": 4,
    "start_time": "2022-01-23T10:01:39.476Z"
   },
   {
    "duration": 411,
    "start_time": "2022-01-23T10:01:39.483Z"
   },
   {
    "duration": 12,
    "start_time": "2022-01-23T10:01:39.896Z"
   },
   {
    "duration": 40,
    "start_time": "2022-01-23T10:01:39.909Z"
   },
   {
    "duration": 41,
    "start_time": "2022-01-23T10:01:39.951Z"
   },
   {
    "duration": 26,
    "start_time": "2022-01-23T10:01:39.993Z"
   },
   {
    "duration": 29,
    "start_time": "2022-01-23T10:01:40.021Z"
   },
   {
    "duration": 32,
    "start_time": "2022-01-23T10:01:40.052Z"
   },
   {
    "duration": 29,
    "start_time": "2022-01-23T10:01:40.088Z"
   },
   {
    "duration": 18,
    "start_time": "2022-01-23T10:01:40.120Z"
   },
   {
    "duration": 6,
    "start_time": "2022-01-23T10:01:40.140Z"
   },
   {
    "duration": 22,
    "start_time": "2022-01-23T10:01:40.148Z"
   },
   {
    "duration": 5,
    "start_time": "2022-01-23T10:01:40.172Z"
   },
   {
    "duration": 4,
    "start_time": "2022-01-23T10:01:40.179Z"
   },
   {
    "duration": 90,
    "start_time": "2022-01-23T10:01:40.185Z"
   },
   {
    "duration": 5,
    "start_time": "2022-01-23T10:01:40.276Z"
   },
   {
    "duration": 102,
    "start_time": "2022-01-23T10:01:40.282Z"
   },
   {
    "duration": 61,
    "start_time": "2022-01-23T10:01:40.386Z"
   },
   {
    "duration": 12,
    "start_time": "2022-01-23T10:01:40.449Z"
   },
   {
    "duration": 53,
    "start_time": "2022-01-23T10:01:40.463Z"
   },
   {
    "duration": 28,
    "start_time": "2022-01-23T10:01:40.517Z"
   },
   {
    "duration": 8,
    "start_time": "2022-01-23T10:01:40.546Z"
   },
   {
    "duration": 8,
    "start_time": "2022-01-23T10:01:40.555Z"
   },
   {
    "duration": 248,
    "start_time": "2022-01-23T10:01:40.564Z"
   },
   {
    "duration": 5,
    "start_time": "2022-01-23T10:06:13.495Z"
   },
   {
    "duration": 7246,
    "start_time": "2022-01-23T10:06:34.373Z"
   },
   {
    "duration": 268,
    "start_time": "2022-01-23T10:08:54.238Z"
   },
   {
    "duration": 6,
    "start_time": "2022-01-23T10:09:07.289Z"
   },
   {
    "duration": 7513,
    "start_time": "2022-01-23T10:09:07.865Z"
   },
   {
    "duration": 234,
    "start_time": "2022-01-23T10:09:50.515Z"
   },
   {
    "duration": 10,
    "start_time": "2022-01-23T10:10:28.582Z"
   },
   {
    "duration": 39,
    "start_time": "2022-01-23T10:10:29.446Z"
   },
   {
    "duration": 12,
    "start_time": "2022-01-23T10:10:29.784Z"
   },
   {
    "duration": 7,
    "start_time": "2022-01-23T10:10:29.928Z"
   },
   {
    "duration": 7,
    "start_time": "2022-01-23T10:10:30.090Z"
   },
   {
    "duration": 268,
    "start_time": "2022-01-23T10:10:30.757Z"
   },
   {
    "duration": 10,
    "start_time": "2022-01-23T10:10:45.697Z"
   },
   {
    "duration": 18,
    "start_time": "2022-01-23T10:13:14.130Z"
   },
   {
    "duration": 7478,
    "start_time": "2022-01-23T10:22:17.947Z"
   },
   {
    "duration": 15,
    "start_time": "2022-01-23T10:27:28.645Z"
   },
   {
    "duration": 247,
    "start_time": "2022-01-23T10:27:37.853Z"
   },
   {
    "duration": 5,
    "start_time": "2022-01-23T10:30:18.599Z"
   },
   {
    "duration": 11,
    "start_time": "2022-01-23T10:30:24.333Z"
   },
   {
    "duration": 44,
    "start_time": "2022-01-23T10:30:31.440Z"
   },
   {
    "duration": 285,
    "start_time": "2022-01-23T10:31:21.439Z"
   },
   {
    "duration": 7548,
    "start_time": "2022-01-23T10:31:32.050Z"
   },
   {
    "duration": 28,
    "start_time": "2022-01-23T10:31:57.234Z"
   },
   {
    "duration": 18,
    "start_time": "2022-01-23T10:31:58.007Z"
   },
   {
    "duration": 12,
    "start_time": "2022-01-23T10:34:02.685Z"
   },
   {
    "duration": 37,
    "start_time": "2022-01-23T10:34:03.629Z"
   },
   {
    "duration": 18,
    "start_time": "2022-01-23T10:34:06.312Z"
   },
   {
    "duration": 7,
    "start_time": "2022-01-23T10:36:44.067Z"
   },
   {
    "duration": 648,
    "start_time": "2022-01-23T10:36:45.647Z"
   },
   {
    "duration": 6207,
    "start_time": "2022-01-23T10:37:53.007Z"
   },
   {
    "duration": 4,
    "start_time": "2022-01-23T10:38:10.050Z"
   },
   {
    "duration": 464,
    "start_time": "2022-01-23T10:38:10.251Z"
   },
   {
    "duration": 13,
    "start_time": "2022-01-23T10:38:10.717Z"
   },
   {
    "duration": 16,
    "start_time": "2022-01-23T10:38:10.745Z"
   },
   {
    "duration": 17,
    "start_time": "2022-01-23T10:38:11.202Z"
   },
   {
    "duration": 10,
    "start_time": "2022-01-23T10:38:11.582Z"
   },
   {
    "duration": 7,
    "start_time": "2022-01-23T10:38:11.932Z"
   },
   {
    "duration": 6,
    "start_time": "2022-01-23T10:38:13.533Z"
   },
   {
    "duration": 33,
    "start_time": "2022-01-23T10:38:14.376Z"
   },
   {
    "duration": 20,
    "start_time": "2022-01-23T10:38:15.195Z"
   },
   {
    "duration": 6,
    "start_time": "2022-01-23T10:38:16.024Z"
   },
   {
    "duration": 21,
    "start_time": "2022-01-23T10:38:16.893Z"
   },
   {
    "duration": 5,
    "start_time": "2022-01-23T10:38:18.299Z"
   },
   {
    "duration": 3,
    "start_time": "2022-01-23T10:38:18.609Z"
   },
   {
    "duration": 79,
    "start_time": "2022-01-23T10:38:18.942Z"
   },
   {
    "duration": 6,
    "start_time": "2022-01-23T10:38:19.325Z"
   },
   {
    "duration": 72,
    "start_time": "2022-01-23T10:38:20.527Z"
   },
   {
    "duration": 42,
    "start_time": "2022-01-23T10:38:21.708Z"
   },
   {
    "duration": 11,
    "start_time": "2022-01-23T10:38:22.394Z"
   },
   {
    "duration": 51,
    "start_time": "2022-01-23T10:38:23.770Z"
   },
   {
    "duration": 12,
    "start_time": "2022-01-23T10:38:26.511Z"
   },
   {
    "duration": 28,
    "start_time": "2022-01-23T10:38:27.932Z"
   },
   {
    "duration": 27,
    "start_time": "2022-01-23T10:38:31.056Z"
   },
   {
    "duration": 10,
    "start_time": "2022-01-23T10:38:57.501Z"
   },
   {
    "duration": 7,
    "start_time": "2022-01-23T10:38:58.427Z"
   },
   {
    "duration": 51,
    "start_time": "2022-01-23T10:38:59.443Z"
   },
   {
    "duration": 16,
    "start_time": "2022-01-23T10:39:25.279Z"
   },
   {
    "duration": 9,
    "start_time": "2022-01-23T10:40:07.773Z"
   },
   {
    "duration": 253,
    "start_time": "2022-01-23T10:42:16.486Z"
   },
   {
    "duration": 56,
    "start_time": "2022-01-23T10:42:28.339Z"
   },
   {
    "duration": 16,
    "start_time": "2022-01-23T10:42:30.204Z"
   },
   {
    "duration": 6,
    "start_time": "2022-01-23T10:43:48.960Z"
   },
   {
    "duration": 57,
    "start_time": "2022-01-23T10:43:50.182Z"
   },
   {
    "duration": 14,
    "start_time": "2022-01-23T10:43:51.026Z"
   },
   {
    "duration": 47,
    "start_time": "2022-01-23T10:44:37.450Z"
   },
   {
    "duration": 37,
    "start_time": "2022-01-23T10:45:32.901Z"
   },
   {
    "duration": 12,
    "start_time": "2022-01-23T10:45:34.482Z"
   },
   {
    "duration": 26,
    "start_time": "2022-01-23T10:45:34.949Z"
   },
   {
    "duration": 21,
    "start_time": "2022-01-23T10:45:35.873Z"
   },
   {
    "duration": 6119,
    "start_time": "2022-01-23T10:45:39.791Z"
   },
   {
    "duration": 3,
    "start_time": "2022-01-23T10:46:19.673Z"
   },
   {
    "duration": 476,
    "start_time": "2022-01-23T10:46:19.842Z"
   },
   {
    "duration": 12,
    "start_time": "2022-01-23T10:46:20.320Z"
   },
   {
    "duration": 14,
    "start_time": "2022-01-23T10:46:20.334Z"
   },
   {
    "duration": 14,
    "start_time": "2022-01-23T10:46:20.565Z"
   },
   {
    "duration": 9,
    "start_time": "2022-01-23T10:46:21.033Z"
   },
   {
    "duration": 7,
    "start_time": "2022-01-23T10:46:21.484Z"
   },
   {
    "duration": 8,
    "start_time": "2022-01-23T10:46:23.409Z"
   },
   {
    "duration": 29,
    "start_time": "2022-01-23T10:46:24.187Z"
   },
   {
    "duration": 16,
    "start_time": "2022-01-23T10:46:24.961Z"
   },
   {
    "duration": 6,
    "start_time": "2022-01-23T10:46:25.761Z"
   },
   {
    "duration": 16,
    "start_time": "2022-01-23T10:46:26.904Z"
   },
   {
    "duration": 5,
    "start_time": "2022-01-23T10:46:28.868Z"
   },
   {
    "duration": 4,
    "start_time": "2022-01-23T10:46:29.278Z"
   },
   {
    "duration": 63,
    "start_time": "2022-01-23T10:46:29.762Z"
   },
   {
    "duration": 5,
    "start_time": "2022-01-23T10:46:30.739Z"
   },
   {
    "duration": 68,
    "start_time": "2022-01-23T10:46:32.807Z"
   },
   {
    "duration": 47,
    "start_time": "2022-01-23T10:46:34.668Z"
   },
   {
    "duration": 10,
    "start_time": "2022-01-23T10:46:35.398Z"
   },
   {
    "duration": 42,
    "start_time": "2022-01-23T10:46:36.832Z"
   },
   {
    "duration": 11,
    "start_time": "2022-01-23T10:46:38.291Z"
   },
   {
    "duration": 27,
    "start_time": "2022-01-23T10:46:38.890Z"
   },
   {
    "duration": 21,
    "start_time": "2022-01-23T10:46:39.584Z"
   },
   {
    "duration": 8,
    "start_time": "2022-01-23T10:46:42.232Z"
   },
   {
    "duration": 34,
    "start_time": "2022-01-23T10:47:37.966Z"
   },
   {
    "duration": 23,
    "start_time": "2022-01-23T10:47:39.433Z"
   },
   {
    "duration": 9,
    "start_time": "2022-01-23T10:47:40.931Z"
   },
   {
    "duration": 8,
    "start_time": "2022-01-23T10:47:41.836Z"
   },
   {
    "duration": 60,
    "start_time": "2022-01-23T10:47:43.414Z"
   },
   {
    "duration": 18,
    "start_time": "2022-01-23T10:47:44.848Z"
   },
   {
    "duration": 8,
    "start_time": "2022-01-23T10:48:25.802Z"
   },
   {
    "duration": 245,
    "start_time": "2022-01-23T10:48:39.258Z"
   },
   {
    "duration": 57,
    "start_time": "2022-01-23T10:48:46.272Z"
   },
   {
    "duration": 15,
    "start_time": "2022-01-23T10:48:49.509Z"
   },
   {
    "duration": 8,
    "start_time": "2022-01-23T11:03:02.698Z"
   },
   {
    "duration": 47,
    "start_time": "2022-01-23T11:03:03.423Z"
   },
   {
    "duration": 16,
    "start_time": "2022-01-23T11:03:04.134Z"
   },
   {
    "duration": 8,
    "start_time": "2022-01-23T11:03:12.132Z"
   },
   {
    "duration": 5,
    "start_time": "2022-01-23T11:04:33.010Z"
   },
   {
    "duration": 13,
    "start_time": "2022-01-23T11:04:49.508Z"
   },
   {
    "duration": 4,
    "start_time": "2022-01-23T11:04:53.862Z"
   },
   {
    "duration": 268,
    "start_time": "2022-01-23T11:05:23.932Z"
   },
   {
    "duration": 15,
    "start_time": "2022-01-23T11:05:28.050Z"
   },
   {
    "duration": 5,
    "start_time": "2022-01-23T11:05:28.399Z"
   },
   {
    "duration": 246,
    "start_time": "2022-01-23T11:05:28.849Z"
   },
   {
    "duration": 5,
    "start_time": "2022-01-23T11:05:50.032Z"
   },
   {
    "duration": 16,
    "start_time": "2022-01-23T11:05:53.708Z"
   },
   {
    "duration": 3,
    "start_time": "2022-01-23T11:06:00.983Z"
   },
   {
    "duration": 427,
    "start_time": "2022-01-23T11:06:00.988Z"
   },
   {
    "duration": 14,
    "start_time": "2022-01-23T11:06:01.417Z"
   },
   {
    "duration": 21,
    "start_time": "2022-01-23T11:06:01.433Z"
   },
   {
    "duration": 34,
    "start_time": "2022-01-23T11:06:01.456Z"
   },
   {
    "duration": 63,
    "start_time": "2022-01-23T11:06:01.492Z"
   },
   {
    "duration": 14,
    "start_time": "2022-01-23T11:06:01.557Z"
   },
   {
    "duration": 14,
    "start_time": "2022-01-23T11:06:01.575Z"
   },
   {
    "duration": 34,
    "start_time": "2022-01-23T11:06:01.592Z"
   },
   {
    "duration": 25,
    "start_time": "2022-01-23T11:06:01.629Z"
   },
   {
    "duration": 7,
    "start_time": "2022-01-23T11:06:01.655Z"
   },
   {
    "duration": 43,
    "start_time": "2022-01-23T11:06:01.663Z"
   },
   {
    "duration": 19,
    "start_time": "2022-01-23T11:06:01.707Z"
   },
   {
    "duration": 5,
    "start_time": "2022-01-23T11:06:01.728Z"
   },
   {
    "duration": 67,
    "start_time": "2022-01-23T11:06:01.734Z"
   },
   {
    "duration": 4,
    "start_time": "2022-01-23T11:06:01.803Z"
   },
   {
    "duration": 88,
    "start_time": "2022-01-23T11:06:01.809Z"
   },
   {
    "duration": 56,
    "start_time": "2022-01-23T11:06:01.899Z"
   },
   {
    "duration": 10,
    "start_time": "2022-01-23T11:06:01.956Z"
   },
   {
    "duration": 51,
    "start_time": "2022-01-23T11:06:01.968Z"
   },
   {
    "duration": 29,
    "start_time": "2022-01-23T11:06:02.020Z"
   },
   {
    "duration": 38,
    "start_time": "2022-01-23T11:06:02.051Z"
   },
   {
    "duration": 51,
    "start_time": "2022-01-23T11:06:02.093Z"
   },
   {
    "duration": 10,
    "start_time": "2022-01-23T11:06:02.147Z"
   },
   {
    "duration": 11,
    "start_time": "2022-01-23T11:06:02.159Z"
   },
   {
    "duration": 86,
    "start_time": "2022-01-23T11:06:02.172Z"
   },
   {
    "duration": 16,
    "start_time": "2022-01-23T11:06:02.260Z"
   },
   {
    "duration": 4,
    "start_time": "2022-01-23T11:06:02.278Z"
   },
   {
    "duration": 236,
    "start_time": "2022-01-23T11:06:02.284Z"
   },
   {
    "duration": 8,
    "start_time": "2022-01-23T11:06:33.327Z"
   },
   {
    "duration": 28,
    "start_time": "2022-01-23T11:08:59.225Z"
   },
   {
    "duration": 19,
    "start_time": "2022-01-23T11:09:02.312Z"
   },
   {
    "duration": 7,
    "start_time": "2022-01-23T11:09:03.188Z"
   },
   {
    "duration": 6,
    "start_time": "2022-01-23T11:09:04.247Z"
   },
   {
    "duration": 149,
    "start_time": "2022-01-23T11:09:05.101Z"
   },
   {
    "duration": 17,
    "start_time": "2022-01-23T11:09:06.006Z"
   },
   {
    "duration": 5,
    "start_time": "2022-01-23T11:09:08.626Z"
   },
   {
    "duration": 9,
    "start_time": "2022-01-23T11:09:09.970Z"
   },
   {
    "duration": 12,
    "start_time": "2022-01-23T11:10:06.991Z"
   },
   {
    "duration": 30,
    "start_time": "2022-01-23T11:10:08.374Z"
   },
   {
    "duration": 26,
    "start_time": "2022-01-23T11:10:51.890Z"
   },
   {
    "duration": 29,
    "start_time": "2022-01-23T11:11:05.612Z"
   },
   {
    "duration": 237,
    "start_time": "2022-01-23T11:11:13.068Z"
   },
   {
    "duration": 11,
    "start_time": "2022-01-23T11:11:15.866Z"
   },
   {
    "duration": 40,
    "start_time": "2022-01-23T11:11:18.207Z"
   },
   {
    "duration": 10,
    "start_time": "2022-01-23T11:11:21.097Z"
   },
   {
    "duration": 26,
    "start_time": "2022-01-23T11:11:21.745Z"
   },
   {
    "duration": 10,
    "start_time": "2022-01-23T11:12:55.133Z"
   },
   {
    "duration": 37,
    "start_time": "2022-01-23T11:12:56.814Z"
   },
   {
    "duration": 10,
    "start_time": "2022-01-23T11:13:04.719Z"
   },
   {
    "duration": 26,
    "start_time": "2022-01-23T11:13:34.863Z"
   },
   {
    "duration": 25,
    "start_time": "2022-01-23T11:13:50.680Z"
   },
   {
    "duration": 3,
    "start_time": "2022-01-23T11:17:06.823Z"
   },
   {
    "duration": 384,
    "start_time": "2022-01-23T11:17:07.000Z"
   },
   {
    "duration": 12,
    "start_time": "2022-01-23T11:17:07.386Z"
   },
   {
    "duration": 12,
    "start_time": "2022-01-23T11:17:07.399Z"
   },
   {
    "duration": 13,
    "start_time": "2022-01-23T11:17:07.428Z"
   },
   {
    "duration": 10,
    "start_time": "2022-01-23T11:17:07.575Z"
   },
   {
    "duration": 8,
    "start_time": "2022-01-23T11:17:07.730Z"
   },
   {
    "duration": 6,
    "start_time": "2022-01-23T11:17:08.641Z"
   },
   {
    "duration": 20,
    "start_time": "2022-01-23T11:17:09.611Z"
   },
   {
    "duration": 16,
    "start_time": "2022-01-23T11:17:09.633Z"
   },
   {
    "duration": 6,
    "start_time": "2022-01-23T11:17:10.091Z"
   },
   {
    "duration": 14,
    "start_time": "2022-01-23T11:17:10.834Z"
   },
   {
    "duration": 5,
    "start_time": "2022-01-23T11:17:12.156Z"
   },
   {
    "duration": 4,
    "start_time": "2022-01-23T11:17:12.567Z"
   },
   {
    "duration": 57,
    "start_time": "2022-01-23T11:17:13.041Z"
   },
   {
    "duration": 4,
    "start_time": "2022-01-23T11:17:13.786Z"
   },
   {
    "duration": 96,
    "start_time": "2022-01-23T11:17:15.797Z"
   },
   {
    "duration": 44,
    "start_time": "2022-01-23T11:17:17.164Z"
   },
   {
    "duration": 2,
    "start_time": "2022-01-23T11:17:17.838Z"
   },
   {
    "duration": 41,
    "start_time": "2022-01-23T11:17:19.341Z"
   },
   {
    "duration": 3,
    "start_time": "2022-01-23T11:17:21.093Z"
   },
   {
    "duration": 282,
    "start_time": "2022-01-23T11:17:23.344Z"
   },
   {
    "duration": 34,
    "start_time": "2022-01-23T11:17:55.715Z"
   },
   {
    "duration": 6155,
    "start_time": "2022-01-23T11:17:58.159Z"
   },
   {
    "duration": 3,
    "start_time": "2022-01-23T11:18:13.274Z"
   },
   {
    "duration": 398,
    "start_time": "2022-01-23T11:18:13.437Z"
   },
   {
    "duration": 13,
    "start_time": "2022-01-23T11:18:13.837Z"
   },
   {
    "duration": 16,
    "start_time": "2022-01-23T11:18:13.852Z"
   },
   {
    "duration": 13,
    "start_time": "2022-01-23T11:18:13.939Z"
   },
   {
    "duration": 10,
    "start_time": "2022-01-23T11:18:14.211Z"
   },
   {
    "duration": 8,
    "start_time": "2022-01-23T11:18:14.506Z"
   },
   {
    "duration": 7,
    "start_time": "2022-01-23T11:18:15.908Z"
   },
   {
    "duration": 21,
    "start_time": "2022-01-23T11:18:16.634Z"
   },
   {
    "duration": 18,
    "start_time": "2022-01-23T11:18:17.503Z"
   },
   {
    "duration": 6,
    "start_time": "2022-01-23T11:18:18.330Z"
   },
   {
    "duration": 14,
    "start_time": "2022-01-23T11:18:19.003Z"
   },
   {
    "duration": 6,
    "start_time": "2022-01-23T11:18:19.843Z"
   },
   {
    "duration": 4,
    "start_time": "2022-01-23T11:18:20.172Z"
   },
   {
    "duration": 66,
    "start_time": "2022-01-23T11:18:20.458Z"
   },
   {
    "duration": 5,
    "start_time": "2022-01-23T11:18:20.870Z"
   },
   {
    "duration": 67,
    "start_time": "2022-01-23T11:18:21.958Z"
   },
   {
    "duration": 51,
    "start_time": "2022-01-23T11:18:23.429Z"
   },
   {
    "duration": 2,
    "start_time": "2022-01-23T11:18:24.169Z"
   },
   {
    "duration": 42,
    "start_time": "2022-01-23T11:18:25.774Z"
   },
   {
    "duration": 3,
    "start_time": "2022-01-23T11:18:27.244Z"
   },
   {
    "duration": 23,
    "start_time": "2022-01-23T11:18:27.905Z"
   },
   {
    "duration": 5986,
    "start_time": "2022-01-23T11:18:28.706Z"
   },
   {
    "duration": 6250,
    "start_time": "2022-01-23T11:18:44.037Z"
   },
   {
    "duration": 17,
    "start_time": "2022-01-23T11:18:54.067Z"
   },
   {
    "duration": 14,
    "start_time": "2022-01-23T11:19:09.587Z"
   },
   {
    "duration": 8,
    "start_time": "2022-01-23T11:19:10.974Z"
   },
   {
    "duration": 6,
    "start_time": "2022-01-23T11:19:11.814Z"
   },
   {
    "duration": 350,
    "start_time": "2022-01-23T11:19:12.749Z"
   },
   {
    "duration": 15,
    "start_time": "2022-01-23T11:19:14.077Z"
   },
   {
    "duration": 7,
    "start_time": "2022-01-23T11:19:17.622Z"
   },
   {
    "duration": 8,
    "start_time": "2022-01-23T11:19:39.535Z"
   },
   {
    "duration": 1165,
    "start_time": "2022-01-23T11:19:54.218Z"
   },
   {
    "duration": 4,
    "start_time": "2022-01-23T11:20:02.935Z"
   },
   {
    "duration": 7,
    "start_time": "2022-01-23T11:20:09.909Z"
   },
   {
    "duration": 245,
    "start_time": "2022-01-23T11:20:14.899Z"
   },
   {
    "duration": 282,
    "start_time": "2022-01-23T11:20:23.448Z"
   },
   {
    "duration": 6,
    "start_time": "2022-01-23T11:20:35.074Z"
   },
   {
    "duration": 314,
    "start_time": "2022-01-23T11:24:05.441Z"
   },
   {
    "duration": 22,
    "start_time": "2022-01-23T11:24:10.598Z"
   },
   {
    "duration": 14,
    "start_time": "2022-01-23T11:24:12.589Z"
   },
   {
    "duration": 164,
    "start_time": "2022-01-23T13:57:12.749Z"
   },
   {
    "duration": 9,
    "start_time": "2022-01-23T13:59:15.143Z"
   },
   {
    "duration": 5,
    "start_time": "2022-01-23T13:59:34.665Z"
   },
   {
    "duration": 12,
    "start_time": "2022-01-23T13:59:40.727Z"
   },
   {
    "duration": 7132,
    "start_time": "2022-01-23T14:02:05.025Z"
   },
   {
    "duration": 987,
    "start_time": "2022-01-23T14:02:11.172Z"
   },
   {
    "duration": 3,
    "start_time": "2022-01-23T14:02:33.524Z"
   },
   {
    "duration": 418,
    "start_time": "2022-01-23T14:02:33.529Z"
   },
   {
    "duration": 12,
    "start_time": "2022-01-23T14:02:33.950Z"
   },
   {
    "duration": 30,
    "start_time": "2022-01-23T14:02:33.964Z"
   },
   {
    "duration": 38,
    "start_time": "2022-01-23T14:02:33.996Z"
   },
   {
    "duration": 30,
    "start_time": "2022-01-23T14:02:34.036Z"
   },
   {
    "duration": 33,
    "start_time": "2022-01-23T14:02:34.068Z"
   },
   {
    "duration": 21,
    "start_time": "2022-01-23T14:02:34.102Z"
   },
   {
    "duration": 28,
    "start_time": "2022-01-23T14:02:34.126Z"
   },
   {
    "duration": 17,
    "start_time": "2022-01-23T14:02:34.156Z"
   },
   {
    "duration": 7,
    "start_time": "2022-01-23T14:02:34.174Z"
   },
   {
    "duration": 17,
    "start_time": "2022-01-23T14:02:34.182Z"
   },
   {
    "duration": 8,
    "start_time": "2022-01-23T14:02:34.201Z"
   },
   {
    "duration": 34,
    "start_time": "2022-01-23T14:02:34.211Z"
   },
   {
    "duration": 67,
    "start_time": "2022-01-23T14:02:34.247Z"
   },
   {
    "duration": 5,
    "start_time": "2022-01-23T14:02:34.315Z"
   },
   {
    "duration": 70,
    "start_time": "2022-01-23T14:02:34.342Z"
   },
   {
    "duration": 63,
    "start_time": "2022-01-23T14:02:34.414Z"
   },
   {
    "duration": 44,
    "start_time": "2022-01-23T14:02:34.479Z"
   },
   {
    "duration": 40,
    "start_time": "2022-01-23T14:02:34.525Z"
   },
   {
    "duration": 15,
    "start_time": "2022-01-23T14:02:34.567Z"
   },
   {
    "duration": 8,
    "start_time": "2022-01-23T14:02:34.584Z"
   },
   {
    "duration": 9,
    "start_time": "2022-01-23T14:02:34.594Z"
   },
   {
    "duration": 6626,
    "start_time": "2022-01-23T14:02:34.642Z"
   },
   {
    "duration": 979,
    "start_time": "2022-01-23T14:02:40.291Z"
   },
   {
    "duration": 978,
    "start_time": "2022-01-23T14:02:40.293Z"
   },
   {
    "duration": 975,
    "start_time": "2022-01-23T14:02:40.297Z"
   },
   {
    "duration": 973,
    "start_time": "2022-01-23T14:02:40.300Z"
   },
   {
    "duration": 972,
    "start_time": "2022-01-23T14:02:40.302Z"
   },
   {
    "duration": 970,
    "start_time": "2022-01-23T14:02:40.305Z"
   },
   {
    "duration": 354,
    "start_time": "2022-01-23T14:03:25.570Z"
   },
   {
    "duration": 14,
    "start_time": "2022-01-23T14:03:26.921Z"
   },
   {
    "duration": 4,
    "start_time": "2022-01-23T14:04:07.636Z"
   },
   {
    "duration": 16,
    "start_time": "2022-01-23T14:04:08.315Z"
   },
   {
    "duration": 6,
    "start_time": "2022-01-23T14:05:13.444Z"
   },
   {
    "duration": 16,
    "start_time": "2022-01-23T14:05:14.206Z"
   },
   {
    "duration": 10,
    "start_time": "2022-01-23T14:05:36.329Z"
   },
   {
    "duration": 9,
    "start_time": "2022-01-23T14:06:00.175Z"
   },
   {
    "duration": 6,
    "start_time": "2022-01-23T14:10:16.979Z"
   },
   {
    "duration": 7,
    "start_time": "2022-01-23T14:11:53.061Z"
   },
   {
    "duration": 8,
    "start_time": "2022-01-23T14:11:53.828Z"
   },
   {
    "duration": 237,
    "start_time": "2022-01-23T14:12:40.134Z"
   },
   {
    "duration": 29,
    "start_time": "2022-01-23T14:13:00.334Z"
   },
   {
    "duration": 19,
    "start_time": "2022-01-23T14:13:27.807Z"
   },
   {
    "duration": 26,
    "start_time": "2022-01-23T14:14:04.876Z"
   },
   {
    "duration": 1339,
    "start_time": "2022-01-23T14:18:11.664Z"
   },
   {
    "duration": 1193,
    "start_time": "2022-01-23T14:18:34.436Z"
   },
   {
    "duration": 28,
    "start_time": "2022-01-23T14:19:35.891Z"
   },
   {
    "duration": 21,
    "start_time": "2022-01-23T14:20:03.027Z"
   },
   {
    "duration": 20,
    "start_time": "2022-01-23T14:21:00.239Z"
   },
   {
    "duration": 20,
    "start_time": "2022-01-23T14:21:45.958Z"
   },
   {
    "duration": 22,
    "start_time": "2022-01-23T14:21:55.081Z"
   },
   {
    "duration": 1669,
    "start_time": "2022-01-23T14:23:09.125Z"
   },
   {
    "duration": 19,
    "start_time": "2022-01-23T14:23:24.612Z"
   },
   {
    "duration": 17,
    "start_time": "2022-01-23T14:24:30.644Z"
   },
   {
    "duration": 17,
    "start_time": "2022-01-23T14:25:56.895Z"
   },
   {
    "duration": 9,
    "start_time": "2022-01-23T14:26:27.929Z"
   },
   {
    "duration": 334,
    "start_time": "2022-01-23T14:31:17.956Z"
   },
   {
    "duration": 18,
    "start_time": "2022-01-23T14:31:22.246Z"
   },
   {
    "duration": 15,
    "start_time": "2022-01-23T14:31:30.733Z"
   },
   {
    "duration": 15,
    "start_time": "2022-01-23T14:32:42.541Z"
   },
   {
    "duration": 246,
    "start_time": "2022-01-23T14:34:17.816Z"
   },
   {
    "duration": 14,
    "start_time": "2022-01-23T14:34:37.530Z"
   },
   {
    "duration": 10,
    "start_time": "2022-01-23T14:34:45.237Z"
   },
   {
    "duration": 280,
    "start_time": "2022-01-23T14:36:41.044Z"
   },
   {
    "duration": 15,
    "start_time": "2022-01-23T14:36:57.571Z"
   },
   {
    "duration": 17,
    "start_time": "2022-01-23T14:37:16.575Z"
   },
   {
    "duration": 13,
    "start_time": "2022-01-23T14:37:34.748Z"
   },
   {
    "duration": 24,
    "start_time": "2022-01-23T14:37:35.411Z"
   },
   {
    "duration": 19,
    "start_time": "2022-01-23T14:38:55.213Z"
   },
   {
    "duration": 26,
    "start_time": "2022-01-23T14:39:15.218Z"
   },
   {
    "duration": 27,
    "start_time": "2022-01-23T14:39:43.098Z"
   },
   {
    "duration": 28,
    "start_time": "2022-01-23T14:40:02.981Z"
   },
   {
    "duration": 19,
    "start_time": "2022-01-23T14:40:08.579Z"
   },
   {
    "duration": 27,
    "start_time": "2022-01-23T14:40:12.225Z"
   },
   {
    "duration": 17,
    "start_time": "2022-01-23T14:40:20.434Z"
   },
   {
    "duration": 12,
    "start_time": "2022-01-23T14:40:22.774Z"
   },
   {
    "duration": 17,
    "start_time": "2022-01-23T14:40:26.168Z"
   },
   {
    "duration": 4,
    "start_time": "2022-01-23T14:40:40.804Z"
   },
   {
    "duration": 394,
    "start_time": "2022-01-23T14:40:40.810Z"
   },
   {
    "duration": 15,
    "start_time": "2022-01-23T14:40:41.206Z"
   },
   {
    "duration": 34,
    "start_time": "2022-01-23T14:40:41.223Z"
   },
   {
    "duration": 27,
    "start_time": "2022-01-23T14:40:41.258Z"
   },
   {
    "duration": 9,
    "start_time": "2022-01-23T14:40:41.287Z"
   },
   {
    "duration": 8,
    "start_time": "2022-01-23T14:40:41.298Z"
   },
   {
    "duration": 8,
    "start_time": "2022-01-23T14:40:41.307Z"
   },
   {
    "duration": 40,
    "start_time": "2022-01-23T14:40:41.318Z"
   },
   {
    "duration": 16,
    "start_time": "2022-01-23T14:40:41.360Z"
   },
   {
    "duration": 6,
    "start_time": "2022-01-23T14:40:41.378Z"
   },
   {
    "duration": 17,
    "start_time": "2022-01-23T14:40:41.386Z"
   },
   {
    "duration": 6,
    "start_time": "2022-01-23T14:40:41.405Z"
   },
   {
    "duration": 32,
    "start_time": "2022-01-23T14:40:41.412Z"
   },
   {
    "duration": 66,
    "start_time": "2022-01-23T14:40:41.446Z"
   },
   {
    "duration": 4,
    "start_time": "2022-01-23T14:40:41.514Z"
   },
   {
    "duration": 88,
    "start_time": "2022-01-23T14:40:41.520Z"
   },
   {
    "duration": 59,
    "start_time": "2022-01-23T14:40:41.610Z"
   },
   {
    "duration": 41,
    "start_time": "2022-01-23T14:40:41.670Z"
   },
   {
    "duration": 44,
    "start_time": "2022-01-23T14:40:41.713Z"
   },
   {
    "duration": 15,
    "start_time": "2022-01-23T14:40:41.758Z"
   },
   {
    "duration": 9,
    "start_time": "2022-01-23T14:40:41.775Z"
   },
   {
    "duration": 9,
    "start_time": "2022-01-23T14:40:41.786Z"
   },
   {
    "duration": 387,
    "start_time": "2022-01-23T14:40:41.797Z"
   },
   {
    "duration": 7,
    "start_time": "2022-01-23T14:40:42.186Z"
   },
   {
    "duration": 19,
    "start_time": "2022-01-23T14:40:42.195Z"
   },
   {
    "duration": 24,
    "start_time": "2022-01-23T14:40:42.218Z"
   },
   {
    "duration": 9,
    "start_time": "2022-01-23T14:40:42.244Z"
   },
   {
    "duration": 27,
    "start_time": "2022-01-23T14:40:42.255Z"
   },
   {
    "duration": 4,
    "start_time": "2022-01-23T14:40:54.712Z"
   },
   {
    "duration": 415,
    "start_time": "2022-01-23T14:40:54.718Z"
   },
   {
    "duration": 12,
    "start_time": "2022-01-23T14:40:55.135Z"
   },
   {
    "duration": 28,
    "start_time": "2022-01-23T14:40:55.149Z"
   },
   {
    "duration": 41,
    "start_time": "2022-01-23T14:40:55.178Z"
   },
   {
    "duration": 37,
    "start_time": "2022-01-23T14:40:55.222Z"
   },
   {
    "duration": 30,
    "start_time": "2022-01-23T14:40:55.261Z"
   },
   {
    "duration": 47,
    "start_time": "2022-01-23T14:40:55.293Z"
   },
   {
    "duration": 50,
    "start_time": "2022-01-23T14:40:55.343Z"
   },
   {
    "duration": 24,
    "start_time": "2022-01-23T14:40:55.395Z"
   },
   {
    "duration": 25,
    "start_time": "2022-01-23T14:40:55.421Z"
   },
   {
    "duration": 30,
    "start_time": "2022-01-23T14:40:55.447Z"
   },
   {
    "duration": 37,
    "start_time": "2022-01-23T14:40:55.479Z"
   },
   {
    "duration": 17,
    "start_time": "2022-01-23T14:40:55.518Z"
   },
   {
    "duration": 111,
    "start_time": "2022-01-23T14:40:55.537Z"
   },
   {
    "duration": 6,
    "start_time": "2022-01-23T14:40:55.650Z"
   },
   {
    "duration": 122,
    "start_time": "2022-01-23T14:40:55.658Z"
   },
   {
    "duration": 70,
    "start_time": "2022-01-23T14:40:55.782Z"
   },
   {
    "duration": 57,
    "start_time": "2022-01-23T14:40:55.854Z"
   },
   {
    "duration": 42,
    "start_time": "2022-01-23T14:40:55.913Z"
   },
   {
    "duration": 18,
    "start_time": "2022-01-23T14:40:55.957Z"
   },
   {
    "duration": 32,
    "start_time": "2022-01-23T14:40:55.977Z"
   },
   {
    "duration": 40,
    "start_time": "2022-01-23T14:40:56.011Z"
   },
   {
    "duration": 444,
    "start_time": "2022-01-23T14:40:56.053Z"
   },
   {
    "duration": 6,
    "start_time": "2022-01-23T14:40:56.499Z"
   },
   {
    "duration": 51,
    "start_time": "2022-01-23T14:40:56.506Z"
   },
   {
    "duration": 32,
    "start_time": "2022-01-23T14:40:56.561Z"
   },
   {
    "duration": 36,
    "start_time": "2022-01-23T14:40:56.595Z"
   },
   {
    "duration": 26,
    "start_time": "2022-01-23T14:40:56.633Z"
   },
   {
    "duration": 30,
    "start_time": "2022-01-23T14:40:56.661Z"
   },
   {
    "duration": 19,
    "start_time": "2022-01-23T14:41:25.341Z"
   },
   {
    "duration": 20,
    "start_time": "2022-01-23T14:41:34.906Z"
   },
   {
    "duration": 18,
    "start_time": "2022-01-23T14:41:43.544Z"
   },
   {
    "duration": 18,
    "start_time": "2022-01-23T14:41:49.135Z"
   },
   {
    "duration": 248,
    "start_time": "2022-01-23T14:42:32.637Z"
   },
   {
    "duration": 18,
    "start_time": "2022-01-23T14:42:33.190Z"
   },
   {
    "duration": 13,
    "start_time": "2022-01-23T14:42:49.928Z"
   },
   {
    "duration": 17,
    "start_time": "2022-01-23T14:42:51.136Z"
   },
   {
    "duration": 18,
    "start_time": "2022-01-23T14:43:25.371Z"
   },
   {
    "duration": 20,
    "start_time": "2022-01-23T14:45:19.979Z"
   },
   {
    "duration": 3,
    "start_time": "2022-01-23T14:45:35.585Z"
   },
   {
    "duration": 426,
    "start_time": "2022-01-23T14:45:35.590Z"
   },
   {
    "duration": 12,
    "start_time": "2022-01-23T14:45:36.018Z"
   },
   {
    "duration": 35,
    "start_time": "2022-01-23T14:45:36.032Z"
   },
   {
    "duration": 43,
    "start_time": "2022-01-23T14:45:36.068Z"
   },
   {
    "duration": 37,
    "start_time": "2022-01-23T14:45:36.112Z"
   },
   {
    "duration": 35,
    "start_time": "2022-01-23T14:45:36.151Z"
   },
   {
    "duration": 42,
    "start_time": "2022-01-23T14:45:36.188Z"
   },
   {
    "duration": 48,
    "start_time": "2022-01-23T14:45:36.233Z"
   },
   {
    "duration": 37,
    "start_time": "2022-01-23T14:45:36.283Z"
   },
   {
    "duration": 27,
    "start_time": "2022-01-23T14:45:36.322Z"
   },
   {
    "duration": 46,
    "start_time": "2022-01-23T14:45:36.351Z"
   },
   {
    "duration": 32,
    "start_time": "2022-01-23T14:45:36.398Z"
   },
   {
    "duration": 24,
    "start_time": "2022-01-23T14:45:36.432Z"
   },
   {
    "duration": 98,
    "start_time": "2022-01-23T14:45:36.458Z"
   },
   {
    "duration": 23,
    "start_time": "2022-01-23T14:45:36.557Z"
   },
   {
    "duration": 104,
    "start_time": "2022-01-23T14:45:36.582Z"
   },
   {
    "duration": 43,
    "start_time": "2022-01-23T14:45:36.687Z"
   },
   {
    "duration": 40,
    "start_time": "2022-01-23T14:45:36.731Z"
   },
   {
    "duration": 22,
    "start_time": "2022-01-23T14:45:36.773Z"
   },
   {
    "duration": 45,
    "start_time": "2022-01-23T14:45:36.797Z"
   },
   {
    "duration": 33,
    "start_time": "2022-01-23T14:45:36.844Z"
   },
   {
    "duration": 38,
    "start_time": "2022-01-23T14:45:36.879Z"
   },
   {
    "duration": 385,
    "start_time": "2022-01-23T14:45:36.919Z"
   },
   {
    "duration": 5,
    "start_time": "2022-01-23T14:45:37.306Z"
   },
   {
    "duration": 39,
    "start_time": "2022-01-23T14:45:37.313Z"
   },
   {
    "duration": 29,
    "start_time": "2022-01-23T14:45:37.355Z"
   },
   {
    "duration": 28,
    "start_time": "2022-01-23T14:45:37.386Z"
   },
   {
    "duration": 27,
    "start_time": "2022-01-23T14:45:37.416Z"
   },
   {
    "duration": 44,
    "start_time": "2022-01-23T14:45:37.444Z"
   },
   {
    "duration": 7,
    "start_time": "2022-01-23T14:50:37.126Z"
   },
   {
    "duration": 7,
    "start_time": "2022-01-23T14:50:56.877Z"
   },
   {
    "duration": 644,
    "start_time": "2022-01-23T14:52:27.249Z"
   },
   {
    "duration": 18,
    "start_time": "2022-01-23T14:52:27.991Z"
   },
   {
    "duration": 260,
    "start_time": "2022-01-23T14:52:59.531Z"
   },
   {
    "duration": 15,
    "start_time": "2022-01-23T14:53:13.636Z"
   },
   {
    "duration": 18,
    "start_time": "2022-01-23T14:53:15.142Z"
   },
   {
    "duration": 7,
    "start_time": "2022-01-23T14:53:17.779Z"
   },
   {
    "duration": 9,
    "start_time": "2022-01-23T14:55:59.226Z"
   },
   {
    "duration": 8,
    "start_time": "2022-01-23T14:56:14.470Z"
   },
   {
    "duration": 8,
    "start_time": "2022-01-23T14:56:25.223Z"
   },
   {
    "duration": 9,
    "start_time": "2022-01-23T14:57:06.624Z"
   },
   {
    "duration": 8,
    "start_time": "2022-01-23T14:57:25.187Z"
   },
   {
    "duration": 22,
    "start_time": "2022-01-23T14:58:35.203Z"
   },
   {
    "duration": 7,
    "start_time": "2022-01-23T14:59:40.836Z"
   },
   {
    "duration": 19,
    "start_time": "2022-01-23T15:00:06.707Z"
   },
   {
    "duration": 23,
    "start_time": "2022-01-23T15:06:26.297Z"
   },
   {
    "duration": 21,
    "start_time": "2022-01-23T15:06:26.929Z"
   },
   {
    "duration": 18,
    "start_time": "2022-01-23T15:20:27.087Z"
   },
   {
    "duration": 7,
    "start_time": "2022-01-23T15:23:24.884Z"
   },
   {
    "duration": 27,
    "start_time": "2022-01-23T15:23:26.442Z"
   },
   {
    "duration": 6,
    "start_time": "2022-01-23T15:23:36.114Z"
   },
   {
    "duration": 24,
    "start_time": "2022-01-23T15:23:36.699Z"
   },
   {
    "duration": 14,
    "start_time": "2022-01-23T15:23:53.527Z"
   },
   {
    "duration": 25,
    "start_time": "2022-01-23T15:24:08.396Z"
   },
   {
    "duration": 7,
    "start_time": "2022-01-23T15:24:49.315Z"
   },
   {
    "duration": 26,
    "start_time": "2022-01-23T15:24:51.167Z"
   },
   {
    "duration": 27,
    "start_time": "2022-01-23T15:25:24.336Z"
   },
   {
    "duration": 26,
    "start_time": "2022-01-23T15:25:27.945Z"
   },
   {
    "duration": 11,
    "start_time": "2022-01-23T15:25:33.847Z"
   },
   {
    "duration": 25,
    "start_time": "2022-01-23T15:25:34.335Z"
   },
   {
    "duration": 22,
    "start_time": "2022-01-23T15:25:35.030Z"
   },
   {
    "duration": 7,
    "start_time": "2022-01-23T15:26:31.254Z"
   },
   {
    "duration": 26,
    "start_time": "2022-01-23T15:26:32.249Z"
   },
   {
    "duration": 34,
    "start_time": "2022-01-23T15:26:38.462Z"
   },
   {
    "duration": 25,
    "start_time": "2022-01-23T15:26:46.686Z"
   },
   {
    "duration": 25,
    "start_time": "2022-01-23T15:26:47.460Z"
   },
   {
    "duration": 8,
    "start_time": "2022-01-23T15:26:56.962Z"
   },
   {
    "duration": 9,
    "start_time": "2022-01-23T15:26:57.908Z"
   },
   {
    "duration": 7,
    "start_time": "2022-01-23T15:28:49.284Z"
   },
   {
    "duration": 21,
    "start_time": "2022-01-23T15:28:50.671Z"
   },
   {
    "duration": 20,
    "start_time": "2022-01-23T15:28:51.375Z"
   },
   {
    "duration": 8,
    "start_time": "2022-01-23T15:28:52.167Z"
   },
   {
    "duration": 9,
    "start_time": "2022-01-23T15:28:52.751Z"
   },
   {
    "duration": 244,
    "start_time": "2022-01-23T15:31:11.187Z"
   },
   {
    "duration": 17,
    "start_time": "2022-01-23T15:31:16.460Z"
   },
   {
    "duration": 17,
    "start_time": "2022-01-23T15:31:24.908Z"
   },
   {
    "duration": 18,
    "start_time": "2022-01-23T15:32:12.125Z"
   },
   {
    "duration": 17,
    "start_time": "2022-01-23T15:34:09.149Z"
   },
   {
    "duration": 246,
    "start_time": "2022-01-23T15:35:18.610Z"
   },
   {
    "duration": 247,
    "start_time": "2022-01-23T15:35:59.082Z"
   },
   {
    "duration": 19,
    "start_time": "2022-01-23T15:36:13.723Z"
   },
   {
    "duration": 5221,
    "start_time": "2022-01-23T15:36:27.770Z"
   },
   {
    "duration": 3827,
    "start_time": "2022-01-23T15:37:45.495Z"
   },
   {
    "duration": 4,
    "start_time": "2022-01-23T15:39:20.084Z"
   },
   {
    "duration": 408,
    "start_time": "2022-01-23T15:39:20.090Z"
   },
   {
    "duration": 12,
    "start_time": "2022-01-23T15:39:20.500Z"
   },
   {
    "duration": 12,
    "start_time": "2022-01-23T15:39:20.514Z"
   },
   {
    "duration": 15,
    "start_time": "2022-01-23T15:39:20.528Z"
   },
   {
    "duration": 20,
    "start_time": "2022-01-23T15:39:20.546Z"
   },
   {
    "duration": 10,
    "start_time": "2022-01-23T15:39:20.568Z"
   },
   {
    "duration": 10,
    "start_time": "2022-01-23T15:39:20.582Z"
   },
   {
    "duration": 22,
    "start_time": "2022-01-23T15:39:20.594Z"
   },
   {
    "duration": 43,
    "start_time": "2022-01-23T15:39:20.617Z"
   },
   {
    "duration": 5,
    "start_time": "2022-01-23T15:39:20.662Z"
   },
   {
    "duration": 15,
    "start_time": "2022-01-23T15:39:20.669Z"
   },
   {
    "duration": 5,
    "start_time": "2022-01-23T15:39:20.686Z"
   },
   {
    "duration": 7,
    "start_time": "2022-01-23T15:39:20.693Z"
   },
   {
    "duration": 98,
    "start_time": "2022-01-23T15:39:20.701Z"
   },
   {
    "duration": 5,
    "start_time": "2022-01-23T15:39:20.801Z"
   },
   {
    "duration": 94,
    "start_time": "2022-01-23T15:39:20.808Z"
   },
   {
    "duration": 64,
    "start_time": "2022-01-23T15:39:20.904Z"
   },
   {
    "duration": 47,
    "start_time": "2022-01-23T15:39:20.970Z"
   },
   {
    "duration": 45,
    "start_time": "2022-01-23T15:39:21.018Z"
   },
   {
    "duration": 17,
    "start_time": "2022-01-23T15:39:21.065Z"
   },
   {
    "duration": 8,
    "start_time": "2022-01-23T15:39:21.084Z"
   },
   {
    "duration": 7,
    "start_time": "2022-01-23T15:39:21.095Z"
   },
   {
    "duration": 392,
    "start_time": "2022-01-23T15:39:21.143Z"
   },
   {
    "duration": 8,
    "start_time": "2022-01-23T15:39:21.537Z"
   },
   {
    "duration": 20,
    "start_time": "2022-01-23T15:39:21.547Z"
   },
   {
    "duration": 6,
    "start_time": "2022-01-23T15:39:21.569Z"
   },
   {
    "duration": 12,
    "start_time": "2022-01-23T15:39:21.576Z"
   },
   {
    "duration": 13,
    "start_time": "2022-01-23T15:39:21.589Z"
   },
   {
    "duration": 49,
    "start_time": "2022-01-23T15:39:21.603Z"
   },
   {
    "duration": 7,
    "start_time": "2022-01-23T15:39:21.654Z"
   },
   {
    "duration": 24,
    "start_time": "2022-01-23T15:39:21.663Z"
   },
   {
    "duration": 21,
    "start_time": "2022-01-23T15:39:21.689Z"
   },
   {
    "duration": 37,
    "start_time": "2022-01-23T15:39:21.712Z"
   },
   {
    "duration": 13,
    "start_time": "2022-01-23T15:39:21.752Z"
   },
   {
    "duration": 17,
    "start_time": "2022-01-23T15:39:21.766Z"
   },
   {
    "duration": 26,
    "start_time": "2022-01-23T15:41:08.463Z"
   },
   {
    "duration": 20,
    "start_time": "2022-01-23T15:41:20.937Z"
   },
   {
    "duration": 19,
    "start_time": "2022-01-23T15:43:58.320Z"
   },
   {
    "duration": 29,
    "start_time": "2022-01-23T15:45:06.461Z"
   },
   {
    "duration": 27,
    "start_time": "2022-01-23T15:45:17.300Z"
   },
   {
    "duration": 29,
    "start_time": "2022-01-23T15:46:56.449Z"
   },
   {
    "duration": 21,
    "start_time": "2022-01-23T15:48:25.895Z"
   },
   {
    "duration": 21,
    "start_time": "2022-01-23T15:49:46.105Z"
   },
   {
    "duration": 19,
    "start_time": "2022-01-23T15:55:34.833Z"
   },
   {
    "duration": 18,
    "start_time": "2022-01-23T15:55:36.926Z"
   },
   {
    "duration": 28,
    "start_time": "2022-01-23T16:00:22.394Z"
   },
   {
    "duration": 298,
    "start_time": "2022-01-23T16:00:41.741Z"
   },
   {
    "duration": 13,
    "start_time": "2022-01-23T16:05:46.903Z"
   },
   {
    "duration": 18,
    "start_time": "2022-01-23T16:05:55.352Z"
   },
   {
    "duration": 18,
    "start_time": "2022-01-23T16:09:29.987Z"
   },
   {
    "duration": 17,
    "start_time": "2022-01-23T16:12:14.767Z"
   },
   {
    "duration": 319,
    "start_time": "2022-01-23T16:13:13.201Z"
   },
   {
    "duration": 375,
    "start_time": "2022-01-23T18:51:24.517Z"
   },
   {
    "duration": 1158,
    "start_time": "2022-01-23T18:51:32.715Z"
   },
   {
    "duration": 347,
    "start_time": "2022-01-23T18:51:33.875Z"
   },
   {
    "duration": 13,
    "start_time": "2022-01-23T18:51:34.224Z"
   },
   {
    "duration": 11,
    "start_time": "2022-01-23T18:51:34.239Z"
   },
   {
    "duration": 11,
    "start_time": "2022-01-23T18:51:34.251Z"
   },
   {
    "duration": 54,
    "start_time": "2022-01-23T18:51:34.264Z"
   },
   {
    "duration": 8,
    "start_time": "2022-01-23T18:51:34.320Z"
   },
   {
    "duration": 9,
    "start_time": "2022-01-23T18:51:34.329Z"
   },
   {
    "duration": 18,
    "start_time": "2022-01-23T18:51:34.380Z"
   },
   {
    "duration": 16,
    "start_time": "2022-01-23T18:51:34.643Z"
   },
   {
    "duration": 6,
    "start_time": "2022-01-23T18:51:35.110Z"
   },
   {
    "duration": 14,
    "start_time": "2022-01-23T18:51:35.417Z"
   },
   {
    "duration": 6,
    "start_time": "2022-01-23T18:51:35.852Z"
   },
   {
    "duration": 3,
    "start_time": "2022-01-23T18:51:36.018Z"
   },
   {
    "duration": 60,
    "start_time": "2022-01-23T18:51:36.164Z"
   },
   {
    "duration": 4,
    "start_time": "2022-01-23T18:51:36.304Z"
   },
   {
    "duration": 72,
    "start_time": "2022-01-23T18:51:36.746Z"
   },
   {
    "duration": 45,
    "start_time": "2022-01-23T18:51:37.048Z"
   },
   {
    "duration": 38,
    "start_time": "2022-01-23T18:51:37.368Z"
   },
   {
    "duration": 21,
    "start_time": "2022-01-23T18:51:37.691Z"
   },
   {
    "duration": 15,
    "start_time": "2022-01-23T18:51:37.857Z"
   },
   {
    "duration": 7,
    "start_time": "2022-01-23T18:51:38.035Z"
   },
   {
    "duration": 7,
    "start_time": "2022-01-23T18:51:38.223Z"
   },
   {
    "duration": 345,
    "start_time": "2022-01-23T18:51:38.409Z"
   },
   {
    "duration": 5,
    "start_time": "2022-01-23T18:51:38.797Z"
   },
   {
    "duration": 12,
    "start_time": "2022-01-23T18:51:39.057Z"
   },
   {
    "duration": 5,
    "start_time": "2022-01-23T18:51:39.279Z"
   },
   {
    "duration": 8,
    "start_time": "2022-01-23T18:51:39.622Z"
   },
   {
    "duration": 12,
    "start_time": "2022-01-23T18:51:40.805Z"
   },
   {
    "duration": 15,
    "start_time": "2022-01-23T18:51:41.253Z"
   },
   {
    "duration": 9,
    "start_time": "2022-01-23T18:51:41.744Z"
   },
   {
    "duration": 21,
    "start_time": "2022-01-23T18:51:42.304Z"
   },
   {
    "duration": 19,
    "start_time": "2022-01-23T18:51:43.243Z"
   },
   {
    "duration": 1479,
    "start_time": "2022-01-23T18:51:44.008Z"
   },
   {
    "duration": 7,
    "start_time": "2022-01-23T18:51:45.489Z"
   },
   {
    "duration": 1575,
    "start_time": "2022-01-23T18:52:44.766Z"
   },
   {
    "duration": 1771,
    "start_time": "2022-01-23T18:52:53.690Z"
   },
   {
    "duration": 26,
    "start_time": "2022-01-23T18:57:56.747Z"
   },
   {
    "duration": 42,
    "start_time": "2022-01-23T18:58:02.935Z"
   },
   {
    "duration": 34,
    "start_time": "2022-01-23T19:19:03.548Z"
   },
   {
    "duration": 387,
    "start_time": "2022-01-23T19:19:22.524Z"
   },
   {
    "duration": 3,
    "start_time": "2022-01-23T19:19:34.272Z"
   },
   {
    "duration": 402,
    "start_time": "2022-01-23T19:19:34.277Z"
   },
   {
    "duration": 13,
    "start_time": "2022-01-23T19:19:34.681Z"
   },
   {
    "duration": 9,
    "start_time": "2022-01-23T19:19:34.696Z"
   },
   {
    "duration": 21,
    "start_time": "2022-01-23T19:19:34.707Z"
   },
   {
    "duration": 9,
    "start_time": "2022-01-23T19:19:34.730Z"
   },
   {
    "duration": 22,
    "start_time": "2022-01-23T19:19:34.741Z"
   },
   {
    "duration": 11,
    "start_time": "2022-01-23T19:19:34.764Z"
   },
   {
    "duration": 21,
    "start_time": "2022-01-23T19:19:34.778Z"
   },
   {
    "duration": 17,
    "start_time": "2022-01-23T19:19:34.801Z"
   },
   {
    "duration": 5,
    "start_time": "2022-01-23T19:19:34.819Z"
   },
   {
    "duration": 24,
    "start_time": "2022-01-23T19:19:34.826Z"
   },
   {
    "duration": 20,
    "start_time": "2022-01-23T19:19:34.851Z"
   },
   {
    "duration": 3,
    "start_time": "2022-01-23T19:19:34.873Z"
   },
   {
    "duration": 65,
    "start_time": "2022-01-23T19:19:34.878Z"
   },
   {
    "duration": 4,
    "start_time": "2022-01-23T19:19:34.945Z"
   },
   {
    "duration": 76,
    "start_time": "2022-01-23T19:19:34.950Z"
   },
   {
    "duration": 47,
    "start_time": "2022-01-23T19:19:35.028Z"
   },
   {
    "duration": 38,
    "start_time": "2022-01-23T19:19:35.077Z"
   },
   {
    "duration": 23,
    "start_time": "2022-01-23T19:19:35.116Z"
   },
   {
    "duration": 35,
    "start_time": "2022-01-23T19:19:35.140Z"
   },
   {
    "duration": 7,
    "start_time": "2022-01-23T19:19:35.176Z"
   },
   {
    "duration": 7,
    "start_time": "2022-01-23T19:19:35.184Z"
   },
   {
    "duration": 389,
    "start_time": "2022-01-23T19:19:35.192Z"
   },
   {
    "duration": 6,
    "start_time": "2022-01-23T19:19:35.583Z"
   },
   {
    "duration": 13,
    "start_time": "2022-01-23T19:19:35.591Z"
   },
   {
    "duration": 5,
    "start_time": "2022-01-23T19:19:35.608Z"
   },
   {
    "duration": 7,
    "start_time": "2022-01-23T19:19:35.616Z"
   },
   {
    "duration": 49,
    "start_time": "2022-01-23T19:19:35.625Z"
   },
   {
    "duration": 16,
    "start_time": "2022-01-23T19:19:35.676Z"
   },
   {
    "duration": 7,
    "start_time": "2022-01-23T19:19:35.694Z"
   },
   {
    "duration": 22,
    "start_time": "2022-01-23T19:19:35.702Z"
   },
   {
    "duration": 49,
    "start_time": "2022-01-23T19:19:35.726Z"
   },
   {
    "duration": 8,
    "start_time": "2022-01-23T19:19:35.777Z"
   },
   {
    "duration": 9,
    "start_time": "2022-01-23T19:19:35.786Z"
   },
   {
    "duration": 29,
    "start_time": "2022-01-23T19:19:35.796Z"
   },
   {
    "duration": 107,
    "start_time": "2022-01-23T19:19:35.826Z"
   },
   {
    "duration": 247,
    "start_time": "2022-01-23T19:19:35.688Z"
   },
   {
    "duration": 247,
    "start_time": "2022-01-23T19:19:35.689Z"
   },
   {
    "duration": 246,
    "start_time": "2022-01-23T19:19:35.691Z"
   },
   {
    "duration": 3,
    "start_time": "2022-01-23T19:19:52.562Z"
   },
   {
    "duration": 375,
    "start_time": "2022-01-23T19:19:52.567Z"
   },
   {
    "duration": 12,
    "start_time": "2022-01-23T19:19:52.944Z"
   },
   {
    "duration": 17,
    "start_time": "2022-01-23T19:19:52.958Z"
   },
   {
    "duration": 16,
    "start_time": "2022-01-23T19:19:52.976Z"
   },
   {
    "duration": 10,
    "start_time": "2022-01-23T19:19:52.994Z"
   },
   {
    "duration": 15,
    "start_time": "2022-01-23T19:19:53.006Z"
   },
   {
    "duration": 11,
    "start_time": "2022-01-23T19:19:53.023Z"
   },
   {
    "duration": 23,
    "start_time": "2022-01-23T19:19:53.037Z"
   },
   {
    "duration": 19,
    "start_time": "2022-01-23T19:19:53.061Z"
   },
   {
    "duration": 5,
    "start_time": "2022-01-23T19:19:53.081Z"
   },
   {
    "duration": 20,
    "start_time": "2022-01-23T19:19:53.088Z"
   },
   {
    "duration": 8,
    "start_time": "2022-01-23T19:19:53.109Z"
   },
   {
    "duration": 8,
    "start_time": "2022-01-23T19:19:53.118Z"
   },
   {
    "duration": 70,
    "start_time": "2022-01-23T19:19:53.128Z"
   },
   {
    "duration": 4,
    "start_time": "2022-01-23T19:19:53.200Z"
   },
   {
    "duration": 71,
    "start_time": "2022-01-23T19:19:53.206Z"
   },
   {
    "duration": 44,
    "start_time": "2022-01-23T19:19:53.278Z"
   },
   {
    "duration": 55,
    "start_time": "2022-01-23T19:19:53.323Z"
   },
   {
    "duration": 22,
    "start_time": "2022-01-23T19:19:53.380Z"
   },
   {
    "duration": 13,
    "start_time": "2022-01-23T19:19:53.403Z"
   },
   {
    "duration": 7,
    "start_time": "2022-01-23T19:19:53.418Z"
   },
   {
    "duration": 16,
    "start_time": "2022-01-23T19:19:53.426Z"
   },
   {
    "duration": 379,
    "start_time": "2022-01-23T19:19:53.443Z"
   },
   {
    "duration": 6,
    "start_time": "2022-01-23T19:19:53.823Z"
   },
   {
    "duration": 14,
    "start_time": "2022-01-23T19:19:53.831Z"
   },
   {
    "duration": 4,
    "start_time": "2022-01-23T19:19:53.848Z"
   },
   {
    "duration": 5,
    "start_time": "2022-01-23T19:19:53.872Z"
   },
   {
    "duration": 10,
    "start_time": "2022-01-23T19:19:53.879Z"
   },
   {
    "duration": 15,
    "start_time": "2022-01-23T19:19:53.890Z"
   },
   {
    "duration": 6,
    "start_time": "2022-01-23T19:19:53.906Z"
   },
   {
    "duration": 20,
    "start_time": "2022-01-23T19:19:53.913Z"
   },
   {
    "duration": 53,
    "start_time": "2022-01-23T19:19:53.935Z"
   },
   {
    "duration": 7,
    "start_time": "2022-01-23T19:19:53.989Z"
   },
   {
    "duration": 7,
    "start_time": "2022-01-23T19:19:53.998Z"
   },
   {
    "duration": 28,
    "start_time": "2022-01-23T19:19:54.007Z"
   },
   {
    "duration": 46,
    "start_time": "2022-01-23T19:19:54.037Z"
   },
   {
    "duration": 14,
    "start_time": "2022-01-23T19:19:54.084Z"
   },
   {
    "duration": 299,
    "start_time": "2022-01-23T19:19:54.099Z"
   },
   {
    "duration": 27,
    "start_time": "2022-01-23T19:20:30.911Z"
   },
   {
    "duration": 19,
    "start_time": "2022-01-23T19:20:44.024Z"
   },
   {
    "duration": 20,
    "start_time": "2022-01-23T19:20:49.229Z"
   },
   {
    "duration": 525,
    "start_time": "2022-01-23T19:22:06.629Z"
   },
   {
    "duration": 7,
    "start_time": "2022-01-23T19:22:15.350Z"
   },
   {
    "duration": 4,
    "start_time": "2022-01-23T19:22:41.072Z"
   },
   {
    "duration": 402,
    "start_time": "2022-01-23T19:22:41.079Z"
   },
   {
    "duration": 12,
    "start_time": "2022-01-23T19:22:41.483Z"
   },
   {
    "duration": 10,
    "start_time": "2022-01-23T19:22:41.497Z"
   },
   {
    "duration": 13,
    "start_time": "2022-01-23T19:22:41.509Z"
   },
   {
    "duration": 9,
    "start_time": "2022-01-23T19:22:41.524Z"
   },
   {
    "duration": 8,
    "start_time": "2022-01-23T19:22:41.535Z"
   },
   {
    "duration": 8,
    "start_time": "2022-01-23T19:22:41.572Z"
   },
   {
    "duration": 19,
    "start_time": "2022-01-23T19:22:41.583Z"
   },
   {
    "duration": 15,
    "start_time": "2022-01-23T19:22:41.605Z"
   },
   {
    "duration": 5,
    "start_time": "2022-01-23T19:22:41.622Z"
   },
   {
    "duration": 46,
    "start_time": "2022-01-23T19:22:41.629Z"
   },
   {
    "duration": 4,
    "start_time": "2022-01-23T19:22:41.677Z"
   },
   {
    "duration": 4,
    "start_time": "2022-01-23T19:22:41.683Z"
   },
   {
    "duration": 60,
    "start_time": "2022-01-23T19:22:41.689Z"
   },
   {
    "duration": 21,
    "start_time": "2022-01-23T19:22:41.750Z"
   },
   {
    "duration": 63,
    "start_time": "2022-01-23T19:22:41.773Z"
   },
   {
    "duration": 53,
    "start_time": "2022-01-23T19:22:41.838Z"
   },
   {
    "duration": 39,
    "start_time": "2022-01-23T19:22:41.893Z"
   },
   {
    "duration": 39,
    "start_time": "2022-01-23T19:22:41.934Z"
   },
   {
    "duration": 14,
    "start_time": "2022-01-23T19:22:41.975Z"
   },
   {
    "duration": 7,
    "start_time": "2022-01-23T19:22:41.990Z"
   },
   {
    "duration": 6,
    "start_time": "2022-01-23T19:22:41.999Z"
   },
   {
    "duration": 377,
    "start_time": "2022-01-23T19:22:42.007Z"
   },
   {
    "duration": 6,
    "start_time": "2022-01-23T19:22:42.385Z"
   },
   {
    "duration": 12,
    "start_time": "2022-01-23T19:22:42.392Z"
   },
   {
    "duration": 4,
    "start_time": "2022-01-23T19:22:42.407Z"
   },
   {
    "duration": 5,
    "start_time": "2022-01-23T19:22:42.413Z"
   },
   {
    "duration": 6,
    "start_time": "2022-01-23T19:22:42.420Z"
   },
   {
    "duration": 11,
    "start_time": "2022-01-23T19:22:42.427Z"
   },
   {
    "duration": 15,
    "start_time": "2022-01-23T19:22:42.471Z"
   },
   {
    "duration": 5,
    "start_time": "2022-01-23T19:22:42.488Z"
   },
   {
    "duration": 20,
    "start_time": "2022-01-23T19:22:42.495Z"
   },
   {
    "duration": 18,
    "start_time": "2022-01-23T19:22:42.516Z"
   },
   {
    "duration": 7,
    "start_time": "2022-01-23T19:22:42.536Z"
   },
   {
    "duration": 8,
    "start_time": "2022-01-23T19:22:42.572Z"
   },
   {
    "duration": 28,
    "start_time": "2022-01-23T19:22:42.582Z"
   },
   {
    "duration": 19,
    "start_time": "2022-01-23T19:22:42.611Z"
   },
   {
    "duration": 42,
    "start_time": "2022-01-23T19:22:42.631Z"
   },
   {
    "duration": 289,
    "start_time": "2022-01-23T19:22:42.674Z"
   },
   {
    "duration": 299,
    "start_time": "2022-01-23T19:23:07.236Z"
   },
   {
    "duration": 6,
    "start_time": "2022-01-23T19:23:10.943Z"
   },
   {
    "duration": 288,
    "start_time": "2022-01-23T19:23:17.832Z"
   },
   {
    "duration": 6,
    "start_time": "2022-01-23T19:23:22.253Z"
   },
   {
    "duration": 315,
    "start_time": "2022-01-23T19:23:36.147Z"
   },
   {
    "duration": 6,
    "start_time": "2022-01-23T19:23:56.419Z"
   },
   {
    "duration": 6,
    "start_time": "2022-01-23T19:24:21.791Z"
   },
   {
    "duration": 285,
    "start_time": "2022-01-23T19:27:36.732Z"
   },
   {
    "duration": 222,
    "start_time": "2022-01-23T19:28:58.656Z"
   },
   {
    "duration": 211,
    "start_time": "2022-01-23T19:30:22.031Z"
   },
   {
    "duration": 189,
    "start_time": "2022-01-23T19:30:28.563Z"
   },
   {
    "duration": 184,
    "start_time": "2022-01-23T19:30:35.070Z"
   },
   {
    "duration": 198,
    "start_time": "2022-01-23T19:30:41.977Z"
   },
   {
    "duration": 12,
    "start_time": "2022-01-23T19:36:01.120Z"
   },
   {
    "duration": 3,
    "start_time": "2022-01-23T19:36:04.552Z"
   },
   {
    "duration": 377,
    "start_time": "2022-01-23T19:36:04.557Z"
   },
   {
    "duration": 11,
    "start_time": "2022-01-23T19:36:04.937Z"
   },
   {
    "duration": 11,
    "start_time": "2022-01-23T19:36:04.949Z"
   },
   {
    "duration": 12,
    "start_time": "2022-01-23T19:36:04.962Z"
   },
   {
    "duration": 8,
    "start_time": "2022-01-23T19:36:04.975Z"
   },
   {
    "duration": 7,
    "start_time": "2022-01-23T19:36:04.985Z"
   },
   {
    "duration": 8,
    "start_time": "2022-01-23T19:36:04.993Z"
   },
   {
    "duration": 23,
    "start_time": "2022-01-23T19:36:05.004Z"
   },
   {
    "duration": 16,
    "start_time": "2022-01-23T19:36:05.029Z"
   },
   {
    "duration": 6,
    "start_time": "2022-01-23T19:36:05.071Z"
   },
   {
    "duration": 18,
    "start_time": "2022-01-23T19:36:05.078Z"
   },
   {
    "duration": 5,
    "start_time": "2022-01-23T19:36:05.098Z"
   },
   {
    "duration": 10,
    "start_time": "2022-01-23T19:36:05.105Z"
   },
   {
    "duration": 60,
    "start_time": "2022-01-23T19:36:05.116Z"
   },
   {
    "duration": 4,
    "start_time": "2022-01-23T19:36:05.177Z"
   },
   {
    "duration": 63,
    "start_time": "2022-01-23T19:36:05.183Z"
   },
   {
    "duration": 60,
    "start_time": "2022-01-23T19:36:05.248Z"
   },
   {
    "duration": 42,
    "start_time": "2022-01-23T19:36:05.310Z"
   },
   {
    "duration": 23,
    "start_time": "2022-01-23T19:36:05.372Z"
   },
   {
    "duration": 14,
    "start_time": "2022-01-23T19:36:05.396Z"
   },
   {
    "duration": 7,
    "start_time": "2022-01-23T19:36:05.412Z"
   },
   {
    "duration": 8,
    "start_time": "2022-01-23T19:36:05.421Z"
   },
   {
    "duration": 393,
    "start_time": "2022-01-23T19:36:05.431Z"
   },
   {
    "duration": 17,
    "start_time": "2022-01-23T19:36:05.825Z"
   },
   {
    "duration": 7,
    "start_time": "2022-01-23T19:36:05.843Z"
   },
   {
    "duration": 12,
    "start_time": "2022-01-23T19:36:05.871Z"
   },
   {
    "duration": 17,
    "start_time": "2022-01-23T19:36:05.885Z"
   },
   {
    "duration": 7,
    "start_time": "2022-01-23T19:36:05.904Z"
   },
   {
    "duration": 21,
    "start_time": "2022-01-23T19:36:05.913Z"
   },
   {
    "duration": 55,
    "start_time": "2022-01-23T19:36:05.936Z"
   },
   {
    "duration": 7,
    "start_time": "2022-01-23T19:36:05.993Z"
   },
   {
    "duration": 8,
    "start_time": "2022-01-23T19:36:06.002Z"
   },
   {
    "duration": 28,
    "start_time": "2022-01-23T19:36:06.011Z"
   },
   {
    "duration": 49,
    "start_time": "2022-01-23T19:36:06.041Z"
   },
   {
    "duration": 208,
    "start_time": "2022-01-23T19:36:06.092Z"
   },
   {
    "duration": 229,
    "start_time": "2022-01-23T19:36:06.302Z"
   },
   {
    "duration": 198,
    "start_time": "2022-01-23T19:36:06.533Z"
   },
   {
    "duration": 22,
    "start_time": "2022-01-23T19:39:18.000Z"
   },
   {
    "duration": 26,
    "start_time": "2022-01-23T19:39:22.466Z"
   },
   {
    "duration": 26,
    "start_time": "2022-01-23T19:39:28.305Z"
   },
   {
    "duration": 19,
    "start_time": "2022-01-23T19:40:28.271Z"
   },
   {
    "duration": 18,
    "start_time": "2022-01-23T19:40:34.229Z"
   },
   {
    "duration": 19,
    "start_time": "2022-01-23T19:40:49.254Z"
   },
   {
    "duration": 109,
    "start_time": "2022-01-23T19:41:03.945Z"
   },
   {
    "duration": 18,
    "start_time": "2022-01-23T19:41:14.699Z"
   },
   {
    "duration": 22,
    "start_time": "2022-01-23T19:41:44.265Z"
   },
   {
    "duration": 19,
    "start_time": "2022-01-23T19:41:48.171Z"
   },
   {
    "duration": 19,
    "start_time": "2022-01-23T19:42:18.312Z"
   },
   {
    "duration": 20,
    "start_time": "2022-01-23T19:42:43.128Z"
   },
   {
    "duration": 22,
    "start_time": "2022-01-23T19:43:18.685Z"
   },
   {
    "duration": 21,
    "start_time": "2022-01-23T19:44:19.848Z"
   },
   {
    "duration": 20,
    "start_time": "2022-01-23T19:44:28.928Z"
   },
   {
    "duration": 20,
    "start_time": "2022-01-23T19:44:39.685Z"
   },
   {
    "duration": 20,
    "start_time": "2022-01-23T19:45:10.751Z"
   },
   {
    "duration": 20,
    "start_time": "2022-01-23T19:45:27.909Z"
   },
   {
    "duration": 386,
    "start_time": "2022-01-24T12:19:17.533Z"
   },
   {
    "duration": 1354,
    "start_time": "2022-01-24T12:19:53.799Z"
   },
   {
    "duration": 483,
    "start_time": "2022-01-24T12:19:55.156Z"
   },
   {
    "duration": 24,
    "start_time": "2022-01-24T12:19:55.642Z"
   },
   {
    "duration": 15,
    "start_time": "2022-01-24T12:19:55.669Z"
   },
   {
    "duration": 38,
    "start_time": "2022-01-24T12:19:55.686Z"
   },
   {
    "duration": 13,
    "start_time": "2022-01-24T12:19:55.726Z"
   },
   {
    "duration": 12,
    "start_time": "2022-01-24T12:19:55.741Z"
   },
   {
    "duration": 9,
    "start_time": "2022-01-24T12:19:55.757Z"
   },
   {
    "duration": 77,
    "start_time": "2022-01-24T12:19:55.769Z"
   },
   {
    "duration": 19,
    "start_time": "2022-01-24T12:19:55.849Z"
   },
   {
    "duration": 8,
    "start_time": "2022-01-24T12:19:55.871Z"
   },
   {
    "duration": 55,
    "start_time": "2022-01-24T12:19:55.881Z"
   },
   {
    "duration": 8,
    "start_time": "2022-01-24T12:19:55.938Z"
   },
   {
    "duration": 4,
    "start_time": "2022-01-24T12:19:55.948Z"
   },
   {
    "duration": 120,
    "start_time": "2022-01-24T12:19:55.954Z"
   },
   {
    "duration": 5,
    "start_time": "2022-01-24T12:19:56.076Z"
   },
   {
    "duration": 118,
    "start_time": "2022-01-24T12:19:56.083Z"
   },
   {
    "duration": 71,
    "start_time": "2022-01-24T12:19:56.203Z"
   },
   {
    "duration": 75,
    "start_time": "2022-01-24T12:19:56.276Z"
   },
   {
    "duration": 33,
    "start_time": "2022-01-24T12:19:56.353Z"
   },
   {
    "duration": 41,
    "start_time": "2022-01-24T12:19:56.388Z"
   },
   {
    "duration": 9,
    "start_time": "2022-01-24T12:19:56.431Z"
   },
   {
    "duration": 9,
    "start_time": "2022-01-24T12:19:56.446Z"
   },
   {
    "duration": 657,
    "start_time": "2022-01-24T12:19:56.458Z"
   },
   {
    "duration": 23,
    "start_time": "2022-01-24T12:19:57.117Z"
   },
   {
    "duration": 9,
    "start_time": "2022-01-24T12:19:57.143Z"
   },
   {
    "duration": 15,
    "start_time": "2022-01-24T12:19:57.155Z"
   },
   {
    "duration": 65,
    "start_time": "2022-01-24T12:19:57.172Z"
   },
   {
    "duration": 13,
    "start_time": "2022-01-24T12:19:57.239Z"
   },
   {
    "duration": 33,
    "start_time": "2022-01-24T12:19:57.254Z"
   },
   {
    "duration": 33,
    "start_time": "2022-01-24T12:19:57.323Z"
   },
   {
    "duration": 9,
    "start_time": "2022-01-24T12:19:57.359Z"
   },
   {
    "duration": 13,
    "start_time": "2022-01-24T12:19:57.371Z"
   },
   {
    "duration": 42,
    "start_time": "2022-01-24T12:19:57.423Z"
   },
   {
    "duration": 58,
    "start_time": "2022-01-24T12:19:57.467Z"
   },
   {
    "duration": 345,
    "start_time": "2022-01-24T12:19:57.528Z"
   },
   {
    "duration": 395,
    "start_time": "2022-01-24T12:19:57.876Z"
   },
   {
    "duration": 353,
    "start_time": "2022-01-24T12:19:58.273Z"
   },
   {
    "duration": 623,
    "start_time": "2022-01-24T12:19:58.629Z"
   },
   {
    "duration": 9,
    "start_time": "2022-01-24T12:20:55.065Z"
   },
   {
    "duration": 6,
    "start_time": "2022-01-24T12:29:17.697Z"
   },
   {
    "duration": 6,
    "start_time": "2022-01-24T12:29:33.772Z"
   },
   {
    "duration": 9,
    "start_time": "2022-01-24T12:30:28.835Z"
   },
   {
    "duration": 8,
    "start_time": "2022-01-24T12:31:21.222Z"
   },
   {
    "duration": 5,
    "start_time": "2022-01-24T12:31:51.799Z"
   },
   {
    "duration": 7,
    "start_time": "2022-01-24T12:33:41.471Z"
   },
   {
    "duration": 6,
    "start_time": "2022-01-24T12:33:53.906Z"
   },
   {
    "duration": 7,
    "start_time": "2022-01-24T12:34:05.639Z"
   },
   {
    "duration": 8,
    "start_time": "2022-01-24T12:35:56.223Z"
   },
   {
    "duration": 7,
    "start_time": "2022-01-24T12:36:02.339Z"
   },
   {
    "duration": 8,
    "start_time": "2022-01-24T12:36:33.458Z"
   },
   {
    "duration": 29,
    "start_time": "2022-01-24T12:45:15.229Z"
   },
   {
    "duration": 5,
    "start_time": "2022-01-24T12:45:21.926Z"
   },
   {
    "duration": 502,
    "start_time": "2022-01-24T12:45:21.934Z"
   },
   {
    "duration": 17,
    "start_time": "2022-01-24T12:45:22.440Z"
   },
   {
    "duration": 21,
    "start_time": "2022-01-24T12:45:22.460Z"
   },
   {
    "duration": 45,
    "start_time": "2022-01-24T12:45:22.484Z"
   },
   {
    "duration": 18,
    "start_time": "2022-01-24T12:45:22.532Z"
   },
   {
    "duration": 11,
    "start_time": "2022-01-24T12:45:22.552Z"
   },
   {
    "duration": 11,
    "start_time": "2022-01-24T12:45:22.566Z"
   },
   {
    "duration": 73,
    "start_time": "2022-01-24T12:45:22.581Z"
   },
   {
    "duration": 20,
    "start_time": "2022-01-24T12:45:22.657Z"
   },
   {
    "duration": 8,
    "start_time": "2022-01-24T12:45:22.680Z"
   },
   {
    "duration": 26,
    "start_time": "2022-01-24T12:45:22.723Z"
   },
   {
    "duration": 5,
    "start_time": "2022-01-24T12:45:22.752Z"
   },
   {
    "duration": 5,
    "start_time": "2022-01-24T12:45:22.759Z"
   },
   {
    "duration": 135,
    "start_time": "2022-01-24T12:45:22.766Z"
   },
   {
    "duration": 20,
    "start_time": "2022-01-24T12:45:22.904Z"
   },
   {
    "duration": 115,
    "start_time": "2022-01-24T12:45:22.927Z"
   },
   {
    "duration": 56,
    "start_time": "2022-01-24T12:45:23.045Z"
   },
   {
    "duration": 61,
    "start_time": "2022-01-24T12:45:23.124Z"
   },
   {
    "duration": 69,
    "start_time": "2022-01-24T12:45:23.187Z"
   },
   {
    "duration": 20,
    "start_time": "2022-01-24T12:45:23.259Z"
   },
   {
    "duration": 11,
    "start_time": "2022-01-24T12:45:23.281Z"
   },
   {
    "duration": 38,
    "start_time": "2022-01-24T12:45:23.294Z"
   },
   {
    "duration": 717,
    "start_time": "2022-01-24T12:45:23.335Z"
   },
   {
    "duration": 23,
    "start_time": "2022-01-24T12:45:24.055Z"
   },
   {
    "duration": 8,
    "start_time": "2022-01-24T12:45:24.081Z"
   },
   {
    "duration": 45,
    "start_time": "2022-01-24T12:45:24.094Z"
   },
   {
    "duration": 27,
    "start_time": "2022-01-24T12:45:24.143Z"
   },
   {
    "duration": 10,
    "start_time": "2022-01-24T12:45:24.173Z"
   },
   {
    "duration": 38,
    "start_time": "2022-01-24T12:45:24.225Z"
   },
   {
    "duration": 62,
    "start_time": "2022-01-24T12:45:24.266Z"
   },
   {
    "duration": 13,
    "start_time": "2022-01-24T12:45:24.331Z"
   },
   {
    "duration": 14,
    "start_time": "2022-01-24T12:45:24.347Z"
   },
   {
    "duration": 85,
    "start_time": "2022-01-24T12:45:24.363Z"
   },
   {
    "duration": 32,
    "start_time": "2022-01-24T12:45:24.451Z"
   },
   {
    "duration": 371,
    "start_time": "2022-01-24T12:45:24.485Z"
   },
   {
    "duration": 410,
    "start_time": "2022-01-24T12:45:24.859Z"
   },
   {
    "duration": 377,
    "start_time": "2022-01-24T12:45:25.272Z"
   },
   {
    "duration": 7,
    "start_time": "2022-01-24T12:45:25.651Z"
   },
   {
    "duration": 12,
    "start_time": "2022-01-24T12:45:25.660Z"
   },
   {
    "duration": 8,
    "start_time": "2022-01-24T12:45:25.674Z"
   },
   {
    "duration": 10,
    "start_time": "2022-01-24T12:50:29.652Z"
   },
   {
    "duration": 7,
    "start_time": "2022-01-24T12:51:04.947Z"
   },
   {
    "duration": 7,
    "start_time": "2022-01-24T12:51:31.072Z"
   },
   {
    "duration": 9,
    "start_time": "2022-01-24T12:51:34.585Z"
   },
   {
    "duration": 7,
    "start_time": "2022-01-24T12:51:34.953Z"
   },
   {
    "duration": 8,
    "start_time": "2022-01-24T12:51:44.536Z"
   },
   {
    "duration": 6,
    "start_time": "2022-01-24T12:54:27.792Z"
   },
   {
    "duration": 10,
    "start_time": "2022-01-24T13:11:01.096Z"
   },
   {
    "duration": 5,
    "start_time": "2022-01-24T13:17:48.989Z"
   },
   {
    "duration": 483,
    "start_time": "2022-01-24T13:17:48.996Z"
   },
   {
    "duration": 19,
    "start_time": "2022-01-24T13:17:49.483Z"
   },
   {
    "duration": 77,
    "start_time": "2022-01-24T13:17:49.505Z"
   },
   {
    "duration": 39,
    "start_time": "2022-01-24T13:17:49.585Z"
   },
   {
    "duration": 26,
    "start_time": "2022-01-24T13:17:49.628Z"
   },
   {
    "duration": 13,
    "start_time": "2022-01-24T13:17:49.656Z"
   },
   {
    "duration": 12,
    "start_time": "2022-01-24T13:17:49.672Z"
   },
   {
    "duration": 62,
    "start_time": "2022-01-24T13:17:49.688Z"
   },
   {
    "duration": 21,
    "start_time": "2022-01-24T13:17:49.753Z"
   },
   {
    "duration": 8,
    "start_time": "2022-01-24T13:17:49.777Z"
   },
   {
    "duration": 24,
    "start_time": "2022-01-24T13:17:49.824Z"
   },
   {
    "duration": 6,
    "start_time": "2022-01-24T13:17:49.850Z"
   },
   {
    "duration": 6,
    "start_time": "2022-01-24T13:17:49.858Z"
   },
   {
    "duration": 122,
    "start_time": "2022-01-24T13:17:49.866Z"
   },
   {
    "duration": 5,
    "start_time": "2022-01-24T13:17:49.991Z"
   },
   {
    "duration": 112,
    "start_time": "2022-01-24T13:17:49.998Z"
   },
   {
    "duration": 69,
    "start_time": "2022-01-24T13:17:50.113Z"
   },
   {
    "duration": 82,
    "start_time": "2022-01-24T13:17:50.185Z"
   },
   {
    "duration": 34,
    "start_time": "2022-01-24T13:17:50.269Z"
   },
   {
    "duration": 30,
    "start_time": "2022-01-24T13:17:50.324Z"
   },
   {
    "duration": 16,
    "start_time": "2022-01-24T13:17:50.356Z"
   },
   {
    "duration": 10,
    "start_time": "2022-01-24T13:17:50.375Z"
   },
   {
    "duration": 802,
    "start_time": "2022-01-24T13:17:50.387Z"
   },
   {
    "duration": 41,
    "start_time": "2022-01-24T13:17:51.191Z"
   },
   {
    "duration": 18,
    "start_time": "2022-01-24T13:17:51.235Z"
   },
   {
    "duration": 16,
    "start_time": "2022-01-24T13:17:51.258Z"
   },
   {
    "duration": 60,
    "start_time": "2022-01-24T13:17:51.277Z"
   },
   {
    "duration": 12,
    "start_time": "2022-01-24T13:17:51.341Z"
   },
   {
    "duration": 36,
    "start_time": "2022-01-24T13:17:51.355Z"
   },
   {
    "duration": 68,
    "start_time": "2022-01-24T13:17:51.394Z"
   },
   {
    "duration": 14,
    "start_time": "2022-01-24T13:17:51.465Z"
   },
   {
    "duration": 49,
    "start_time": "2022-01-24T13:17:51.482Z"
   },
   {
    "duration": 61,
    "start_time": "2022-01-24T13:17:51.535Z"
   },
   {
    "duration": 65,
    "start_time": "2022-01-24T13:17:51.599Z"
   },
   {
    "duration": 401,
    "start_time": "2022-01-24T13:17:51.667Z"
   },
   {
    "duration": 464,
    "start_time": "2022-01-24T13:17:52.070Z"
   },
   {
    "duration": 410,
    "start_time": "2022-01-24T13:17:52.537Z"
   },
   {
    "duration": 7,
    "start_time": "2022-01-24T13:17:52.951Z"
   },
   {
    "duration": 9,
    "start_time": "2022-01-24T13:17:52.960Z"
   },
   {
    "duration": 8,
    "start_time": "2022-01-24T13:17:52.972Z"
   },
   {
    "duration": 12,
    "start_time": "2022-01-24T13:17:53.023Z"
   },
   {
    "duration": 14,
    "start_time": "2022-01-24T13:17:53.039Z"
   },
   {
    "duration": 1267,
    "start_time": "2022-01-31T16:43:39.767Z"
   },
   {
    "duration": 402,
    "start_time": "2022-01-31T16:43:41.037Z"
   },
   {
    "duration": 18,
    "start_time": "2022-01-31T16:43:41.441Z"
   },
   {
    "duration": 14,
    "start_time": "2022-01-31T16:43:41.461Z"
   },
   {
    "duration": 15,
    "start_time": "2022-01-31T16:43:41.477Z"
   },
   {
    "duration": 16,
    "start_time": "2022-01-31T16:43:41.493Z"
   },
   {
    "duration": 10,
    "start_time": "2022-01-31T16:43:41.511Z"
   },
   {
    "duration": 12,
    "start_time": "2022-01-31T16:43:41.523Z"
   },
   {
    "duration": 33,
    "start_time": "2022-01-31T16:43:41.538Z"
   },
   {
    "duration": 27,
    "start_time": "2022-01-31T16:43:41.574Z"
   },
   {
    "duration": 20,
    "start_time": "2022-01-31T16:43:41.604Z"
   },
   {
    "duration": 18,
    "start_time": "2022-01-31T16:43:41.626Z"
   },
   {
    "duration": 9,
    "start_time": "2022-01-31T16:43:41.646Z"
   },
   {
    "duration": 3,
    "start_time": "2022-01-31T16:43:41.656Z"
   },
   {
    "duration": 115,
    "start_time": "2022-01-31T16:43:41.661Z"
   },
   {
    "duration": 5,
    "start_time": "2022-01-31T16:43:41.778Z"
   },
   {
    "duration": 118,
    "start_time": "2022-01-31T16:43:41.785Z"
   },
   {
    "duration": 55,
    "start_time": "2022-01-31T16:43:41.904Z"
   },
   {
    "duration": 58,
    "start_time": "2022-01-31T16:43:41.961Z"
   },
   {
    "duration": 24,
    "start_time": "2022-01-31T16:43:42.021Z"
   },
   {
    "duration": 14,
    "start_time": "2022-01-31T16:43:42.047Z"
   },
   {
    "duration": 8,
    "start_time": "2022-01-31T16:43:42.063Z"
   },
   {
    "duration": 11,
    "start_time": "2022-01-31T16:43:42.073Z"
   },
   {
    "duration": 406,
    "start_time": "2022-01-31T16:43:42.086Z"
   },
   {
    "duration": 25,
    "start_time": "2022-01-31T16:43:42.494Z"
   },
   {
    "duration": 5,
    "start_time": "2022-01-31T16:43:42.521Z"
   },
   {
    "duration": 11,
    "start_time": "2022-01-31T16:43:42.530Z"
   },
   {
    "duration": 17,
    "start_time": "2022-01-31T16:43:42.543Z"
   },
   {
    "duration": 19,
    "start_time": "2022-01-31T16:43:42.563Z"
   },
   {
    "duration": 49,
    "start_time": "2022-01-31T16:43:42.584Z"
   },
   {
    "duration": 24,
    "start_time": "2022-01-31T16:43:42.635Z"
   },
   {
    "duration": 8,
    "start_time": "2022-01-31T16:43:42.661Z"
   },
   {
    "duration": 12,
    "start_time": "2022-01-31T16:43:42.671Z"
   },
   {
    "duration": 51,
    "start_time": "2022-01-31T16:43:42.685Z"
   },
   {
    "duration": 20,
    "start_time": "2022-01-31T16:43:42.738Z"
   },
   {
    "duration": 238,
    "start_time": "2022-01-31T16:43:42.760Z"
   },
   {
    "duration": 251,
    "start_time": "2022-01-31T16:43:43.000Z"
   },
   {
    "duration": 220,
    "start_time": "2022-01-31T16:43:43.253Z"
   },
   {
    "duration": 4,
    "start_time": "2022-01-31T16:43:43.475Z"
   },
   {
    "duration": 6,
    "start_time": "2022-01-31T16:43:43.481Z"
   },
   {
    "duration": 9,
    "start_time": "2022-01-31T16:43:43.489Z"
   },
   {
    "duration": 6,
    "start_time": "2022-01-31T16:43:43.518Z"
   },
   {
    "duration": 7,
    "start_time": "2022-01-31T16:43:43.526Z"
   },
   {
    "duration": 17,
    "start_time": "2022-01-31T16:49:34.007Z"
   },
   {
    "duration": 20,
    "start_time": "2022-01-31T16:49:52.984Z"
   },
   {
    "duration": 15,
    "start_time": "2022-01-31T16:49:53.476Z"
   },
   {
    "duration": 18,
    "start_time": "2022-01-31T16:50:41.396Z"
   },
   {
    "duration": 14,
    "start_time": "2022-01-31T16:50:41.582Z"
   },
   {
    "duration": 10,
    "start_time": "2022-01-31T16:53:31.750Z"
   },
   {
    "duration": 40,
    "start_time": "2022-01-31T16:53:45.857Z"
   },
   {
    "duration": 13,
    "start_time": "2022-01-31T16:53:49.030Z"
   },
   {
    "duration": 18,
    "start_time": "2022-01-31T16:54:20.447Z"
   },
   {
    "duration": 342,
    "start_time": "2022-01-31T16:54:39.757Z"
   },
   {
    "duration": 9,
    "start_time": "2022-01-31T16:54:43.773Z"
   },
   {
    "duration": 329,
    "start_time": "2022-01-31T16:56:18.711Z"
   },
   {
    "duration": 351,
    "start_time": "2022-01-31T16:56:27.124Z"
   },
   {
    "duration": 59,
    "start_time": "2022-01-31T16:56:33.197Z"
   },
   {
    "duration": 51,
    "start_time": "2022-01-31T16:56:37.067Z"
   },
   {
    "duration": 31,
    "start_time": "2022-01-31T16:56:41.444Z"
   },
   {
    "duration": 32,
    "start_time": "2022-01-31T16:56:46.427Z"
   },
   {
    "duration": 5,
    "start_time": "2022-01-31T16:57:38.572Z"
   },
   {
    "duration": 262,
    "start_time": "2022-01-31T16:58:34.652Z"
   },
   {
    "duration": 8,
    "start_time": "2022-01-31T16:58:37.792Z"
   },
   {
    "duration": 457,
    "start_time": "2022-01-31T17:00:23.948Z"
   },
   {
    "duration": 5,
    "start_time": "2022-01-31T17:00:32.026Z"
   },
   {
    "duration": 61,
    "start_time": "2022-01-31T17:00:33.942Z"
   },
   {
    "duration": 5,
    "start_time": "2022-01-31T17:00:34.144Z"
   },
   {
    "duration": 80,
    "start_time": "2022-01-31T17:00:36.551Z"
   },
   {
    "duration": 270,
    "start_time": "2022-01-31T17:00:37.443Z"
   },
   {
    "duration": 45,
    "start_time": "2022-01-31T17:00:39.571Z"
   },
   {
    "duration": 48,
    "start_time": "2022-01-31T17:00:46.636Z"
   },
   {
    "duration": 21,
    "start_time": "2022-01-31T17:00:57.949Z"
   },
   {
    "duration": 15,
    "start_time": "2022-01-31T17:00:59.506Z"
   },
   {
    "duration": 24,
    "start_time": "2022-01-31T17:01:07.288Z"
   },
   {
    "duration": 16,
    "start_time": "2022-01-31T17:01:07.578Z"
   },
   {
    "duration": 5,
    "start_time": "2022-01-31T17:01:25.653Z"
   },
   {
    "duration": 7,
    "start_time": "2022-01-31T17:02:51.569Z"
   },
   {
    "duration": 289,
    "start_time": "2022-01-31T17:03:45.434Z"
   },
   {
    "duration": 16,
    "start_time": "2022-01-31T17:03:49.575Z"
   },
   {
    "duration": 19,
    "start_time": "2022-01-31T17:04:06.888Z"
   },
   {
    "duration": 260,
    "start_time": "2022-01-31T17:04:11.969Z"
   },
   {
    "duration": 11,
    "start_time": "2022-01-31T17:04:20.492Z"
   },
   {
    "duration": 6,
    "start_time": "2022-01-31T17:17:33.674Z"
   },
   {
    "duration": 6,
    "start_time": "2022-01-31T17:17:38.567Z"
   },
   {
    "duration": 297,
    "start_time": "2022-01-31T17:18:25.904Z"
   },
   {
    "duration": 3,
    "start_time": "2022-01-31T17:18:44.004Z"
   },
   {
    "duration": 407,
    "start_time": "2022-01-31T17:18:44.009Z"
   },
   {
    "duration": 16,
    "start_time": "2022-01-31T17:18:44.418Z"
   },
   {
    "duration": 16,
    "start_time": "2022-01-31T17:18:44.436Z"
   },
   {
    "duration": 13,
    "start_time": "2022-01-31T17:18:44.454Z"
   },
   {
    "duration": 12,
    "start_time": "2022-01-31T17:18:44.468Z"
   },
   {
    "duration": 10,
    "start_time": "2022-01-31T17:18:44.482Z"
   },
   {
    "duration": 34,
    "start_time": "2022-01-31T17:18:44.493Z"
   },
   {
    "duration": 25,
    "start_time": "2022-01-31T17:18:44.531Z"
   },
   {
    "duration": 16,
    "start_time": "2022-01-31T17:18:44.558Z"
   },
   {
    "duration": 10,
    "start_time": "2022-01-31T17:18:44.576Z"
   },
   {
    "duration": 39,
    "start_time": "2022-01-31T17:18:44.588Z"
   },
   {
    "duration": 13,
    "start_time": "2022-01-31T17:18:44.629Z"
   },
   {
    "duration": 4,
    "start_time": "2022-01-31T17:18:44.645Z"
   },
   {
    "duration": 74,
    "start_time": "2022-01-31T17:18:44.651Z"
   },
   {
    "duration": 7,
    "start_time": "2022-01-31T17:18:44.728Z"
   },
   {
    "duration": 90,
    "start_time": "2022-01-31T17:18:44.737Z"
   },
   {
    "duration": 6311,
    "start_time": "2022-01-31T17:18:44.829Z"
   },
   {
    "duration": -81,
    "start_time": "2022-01-31T17:18:51.225Z"
   },
   {
    "duration": -83,
    "start_time": "2022-01-31T17:18:51.229Z"
   },
   {
    "duration": -84,
    "start_time": "2022-01-31T17:18:51.231Z"
   },
   {
    "duration": -87,
    "start_time": "2022-01-31T17:18:51.234Z"
   },
   {
    "duration": -96,
    "start_time": "2022-01-31T17:18:51.245Z"
   },
   {
    "duration": -98,
    "start_time": "2022-01-31T17:18:51.248Z"
   },
   {
    "duration": -100,
    "start_time": "2022-01-31T17:18:51.251Z"
   },
   {
    "duration": -107,
    "start_time": "2022-01-31T17:18:51.259Z"
   },
   {
    "duration": -109,
    "start_time": "2022-01-31T17:18:51.262Z"
   },
   {
    "duration": -111,
    "start_time": "2022-01-31T17:18:51.265Z"
   },
   {
    "duration": -112,
    "start_time": "2022-01-31T17:18:51.267Z"
   },
   {
    "duration": -113,
    "start_time": "2022-01-31T17:18:51.269Z"
   },
   {
    "duration": -115,
    "start_time": "2022-01-31T17:18:51.272Z"
   },
   {
    "duration": -116,
    "start_time": "2022-01-31T17:18:51.275Z"
   },
   {
    "duration": -117,
    "start_time": "2022-01-31T17:18:51.277Z"
   },
   {
    "duration": -119,
    "start_time": "2022-01-31T17:18:51.280Z"
   },
   {
    "duration": -120,
    "start_time": "2022-01-31T17:18:51.282Z"
   },
   {
    "duration": -127,
    "start_time": "2022-01-31T17:18:51.290Z"
   },
   {
    "duration": -129,
    "start_time": "2022-01-31T17:18:51.293Z"
   },
   {
    "duration": -130,
    "start_time": "2022-01-31T17:18:51.295Z"
   },
   {
    "duration": -131,
    "start_time": "2022-01-31T17:18:51.297Z"
   },
   {
    "duration": -133,
    "start_time": "2022-01-31T17:18:51.300Z"
   },
   {
    "duration": -134,
    "start_time": "2022-01-31T17:18:51.302Z"
   },
   {
    "duration": -141,
    "start_time": "2022-01-31T17:18:51.311Z"
   },
   {
    "duration": -152,
    "start_time": "2022-01-31T17:18:51.323Z"
   },
   {
    "duration": -154,
    "start_time": "2022-01-31T17:18:51.326Z"
   },
   {
    "duration": -156,
    "start_time": "2022-01-31T17:18:51.329Z"
   },
   {
    "duration": 48,
    "start_time": "2022-01-31T17:19:04.980Z"
   },
   {
    "duration": 48,
    "start_time": "2022-01-31T17:19:05.031Z"
   },
   {
    "duration": 23,
    "start_time": "2022-01-31T17:19:05.081Z"
   },
   {
    "duration": 15,
    "start_time": "2022-01-31T17:19:05.119Z"
   },
   {
    "duration": 20,
    "start_time": "2022-01-31T17:19:05.136Z"
   },
   {
    "duration": 15,
    "start_time": "2022-01-31T17:19:05.158Z"
   },
   {
    "duration": 418,
    "start_time": "2022-01-31T17:19:05.175Z"
   },
   {
    "duration": 25,
    "start_time": "2022-01-31T17:19:05.595Z"
   },
   {
    "duration": 7,
    "start_time": "2022-01-31T17:19:05.623Z"
   },
   {
    "duration": 13,
    "start_time": "2022-01-31T17:19:05.632Z"
   },
   {
    "duration": 17,
    "start_time": "2022-01-31T17:19:05.647Z"
   },
   {
    "duration": 6,
    "start_time": "2022-01-31T17:19:05.666Z"
   },
   {
    "duration": 24,
    "start_time": "2022-01-31T17:19:05.673Z"
   },
   {
    "duration": 32,
    "start_time": "2022-01-31T17:19:05.699Z"
   },
   {
    "duration": 8,
    "start_time": "2022-01-31T17:19:05.733Z"
   },
   {
    "duration": 10,
    "start_time": "2022-01-31T17:19:05.743Z"
   },
   {
    "duration": 34,
    "start_time": "2022-01-31T17:19:05.755Z"
   },
   {
    "duration": 20,
    "start_time": "2022-01-31T17:19:05.791Z"
   },
   {
    "duration": 215,
    "start_time": "2022-01-31T17:19:05.813Z"
   },
   {
    "duration": 263,
    "start_time": "2022-01-31T17:19:06.031Z"
   },
   {
    "duration": 274,
    "start_time": "2022-01-31T17:19:06.295Z"
   },
   {
    "duration": 62,
    "start_time": "2022-01-31T17:19:06.570Z"
   },
   {
    "duration": 9,
    "start_time": "2022-01-31T17:19:06.634Z"
   },
   {
    "duration": 7,
    "start_time": "2022-01-31T17:19:06.645Z"
   },
   {
    "duration": 8,
    "start_time": "2022-01-31T17:19:06.654Z"
   },
   {
    "duration": 22,
    "start_time": "2022-01-31T17:19:06.664Z"
   },
   {
    "duration": 7,
    "start_time": "2022-01-31T17:19:06.689Z"
   },
   {
    "duration": 8,
    "start_time": "2022-01-31T17:21:48.425Z"
   },
   {
    "duration": 6,
    "start_time": "2022-01-31T17:21:59.944Z"
   },
   {
    "duration": 6,
    "start_time": "2022-01-31T17:22:04.464Z"
   },
   {
    "duration": 6,
    "start_time": "2022-01-31T17:22:08.424Z"
   },
   {
    "duration": 4,
    "start_time": "2022-01-31T17:22:11.294Z"
   },
   {
    "duration": 5,
    "start_time": "2022-01-31T17:22:13.994Z"
   },
   {
    "duration": 154,
    "start_time": "2022-02-01T12:56:35.302Z"
   },
   {
    "duration": 1508,
    "start_time": "2022-02-01T12:57:11.817Z"
   },
   {
    "duration": 473,
    "start_time": "2022-02-01T12:57:13.328Z"
   },
   {
    "duration": 23,
    "start_time": "2022-02-01T12:57:13.804Z"
   },
   {
    "duration": 16,
    "start_time": "2022-02-01T12:57:13.829Z"
   },
   {
    "duration": 19,
    "start_time": "2022-02-01T12:57:13.847Z"
   },
   {
    "duration": 12,
    "start_time": "2022-02-01T12:57:13.869Z"
   },
   {
    "duration": 40,
    "start_time": "2022-02-01T12:57:13.884Z"
   },
   {
    "duration": 10,
    "start_time": "2022-02-01T12:57:13.927Z"
   },
   {
    "duration": 25,
    "start_time": "2022-02-01T12:57:13.941Z"
   },
   {
    "duration": 21,
    "start_time": "2022-02-01T12:57:13.969Z"
   },
   {
    "duration": 9,
    "start_time": "2022-02-01T12:57:14.023Z"
   },
   {
    "duration": 18,
    "start_time": "2022-02-01T12:57:14.034Z"
   },
   {
    "duration": 7,
    "start_time": "2022-02-01T12:57:14.055Z"
   },
   {
    "duration": 4,
    "start_time": "2022-02-01T12:57:14.064Z"
   },
   {
    "duration": 7721,
    "start_time": "2022-02-01T12:57:14.071Z"
   },
   {
    "duration": -1041,
    "start_time": "2022-02-01T12:57:22.838Z"
   },
   {
    "duration": -1042,
    "start_time": "2022-02-01T12:57:22.842Z"
   },
   {
    "duration": -1042,
    "start_time": "2022-02-01T12:57:22.844Z"
   },
   {
    "duration": -1042,
    "start_time": "2022-02-01T12:57:22.847Z"
   },
   {
    "duration": -1043,
    "start_time": "2022-02-01T12:57:22.850Z"
   },
   {
    "duration": -1045,
    "start_time": "2022-02-01T12:57:22.854Z"
   },
   {
    "duration": -1046,
    "start_time": "2022-02-01T12:57:22.858Z"
   },
   {
    "duration": -1047,
    "start_time": "2022-02-01T12:57:22.861Z"
   },
   {
    "duration": -1046,
    "start_time": "2022-02-01T12:57:22.863Z"
   },
   {
    "duration": -1046,
    "start_time": "2022-02-01T12:57:22.865Z"
   },
   {
    "duration": -1046,
    "start_time": "2022-02-01T12:57:22.867Z"
   },
   {
    "duration": -1045,
    "start_time": "2022-02-01T12:57:22.869Z"
   },
   {
    "duration": -1045,
    "start_time": "2022-02-01T12:57:22.871Z"
   },
   {
    "duration": -1045,
    "start_time": "2022-02-01T12:57:22.873Z"
   },
   {
    "duration": -1044,
    "start_time": "2022-02-01T12:57:22.875Z"
   },
   {
    "duration": -1045,
    "start_time": "2022-02-01T12:57:22.878Z"
   },
   {
    "duration": -1044,
    "start_time": "2022-02-01T12:57:22.879Z"
   },
   {
    "duration": -1047,
    "start_time": "2022-02-01T12:57:22.886Z"
   },
   {
    "duration": -1049,
    "start_time": "2022-02-01T12:57:22.890Z"
   },
   {
    "duration": -1049,
    "start_time": "2022-02-01T12:57:22.892Z"
   },
   {
    "duration": -1048,
    "start_time": "2022-02-01T12:57:22.894Z"
   },
   {
    "duration": -1048,
    "start_time": "2022-02-01T12:57:22.896Z"
   },
   {
    "duration": -1049,
    "start_time": "2022-02-01T12:57:22.899Z"
   },
   {
    "duration": -1048,
    "start_time": "2022-02-01T12:57:22.901Z"
   },
   {
    "duration": -1049,
    "start_time": "2022-02-01T12:57:22.904Z"
   },
   {
    "duration": -1049,
    "start_time": "2022-02-01T12:57:22.906Z"
   },
   {
    "duration": -1049,
    "start_time": "2022-02-01T12:57:22.909Z"
   },
   {
    "duration": -1058,
    "start_time": "2022-02-01T12:57:22.921Z"
   },
   {
    "duration": 29,
    "start_time": "2022-02-01T12:57:49.026Z"
   },
   {
    "duration": 16,
    "start_time": "2022-02-01T12:58:54.576Z"
   },
   {
    "duration": 5,
    "start_time": "2022-02-01T12:59:05.995Z"
   },
   {
    "duration": 508,
    "start_time": "2022-02-01T12:59:06.003Z"
   },
   {
    "duration": 18,
    "start_time": "2022-02-01T12:59:06.514Z"
   },
   {
    "duration": 16,
    "start_time": "2022-02-01T12:59:06.534Z"
   },
   {
    "duration": 18,
    "start_time": "2022-02-01T12:59:06.552Z"
   },
   {
    "duration": 17,
    "start_time": "2022-02-01T12:59:06.573Z"
   },
   {
    "duration": 12,
    "start_time": "2022-02-01T12:59:06.624Z"
   },
   {
    "duration": 10,
    "start_time": "2022-02-01T12:59:06.640Z"
   },
   {
    "duration": 30,
    "start_time": "2022-02-01T12:59:06.653Z"
   },
   {
    "duration": 52,
    "start_time": "2022-02-01T12:59:06.686Z"
   },
   {
    "duration": 10,
    "start_time": "2022-02-01T12:59:06.741Z"
   },
   {
    "duration": 19,
    "start_time": "2022-02-01T12:59:06.754Z"
   },
   {
    "duration": 47,
    "start_time": "2022-02-01T12:59:06.776Z"
   },
   {
    "duration": 5,
    "start_time": "2022-02-01T12:59:06.826Z"
   },
   {
    "duration": 20,
    "start_time": "2022-02-01T12:59:06.833Z"
   },
   {
    "duration": 102,
    "start_time": "2022-02-01T12:59:06.856Z"
   },
   {
    "duration": 6,
    "start_time": "2022-02-01T12:59:06.960Z"
   },
   {
    "duration": 119,
    "start_time": "2022-02-01T12:59:06.969Z"
   },
   {
    "duration": 74,
    "start_time": "2022-02-01T12:59:07.090Z"
   },
   {
    "duration": 73,
    "start_time": "2022-02-01T12:59:07.166Z"
   },
   {
    "duration": 36,
    "start_time": "2022-02-01T12:59:07.241Z"
   },
   {
    "duration": 44,
    "start_time": "2022-02-01T12:59:07.279Z"
   },
   {
    "duration": 10,
    "start_time": "2022-02-01T12:59:07.328Z"
   },
   {
    "duration": 11,
    "start_time": "2022-02-01T12:59:07.341Z"
   },
   {
    "duration": 737,
    "start_time": "2022-02-01T12:59:07.354Z"
   },
   {
    "duration": 32,
    "start_time": "2022-02-01T12:59:08.094Z"
   },
   {
    "duration": 10,
    "start_time": "2022-02-01T12:59:08.130Z"
   },
   {
    "duration": 19,
    "start_time": "2022-02-01T12:59:08.143Z"
   },
   {
    "duration": 69,
    "start_time": "2022-02-01T12:59:08.164Z"
   },
   {
    "duration": 16,
    "start_time": "2022-02-01T12:59:08.236Z"
   },
   {
    "duration": 36,
    "start_time": "2022-02-01T12:59:08.254Z"
   },
   {
    "duration": 53,
    "start_time": "2022-02-01T12:59:08.292Z"
   },
   {
    "duration": 12,
    "start_time": "2022-02-01T12:59:08.347Z"
   },
   {
    "duration": 22,
    "start_time": "2022-02-01T12:59:08.361Z"
   },
   {
    "duration": 73,
    "start_time": "2022-02-01T12:59:08.386Z"
   },
   {
    "duration": 32,
    "start_time": "2022-02-01T12:59:08.462Z"
   },
   {
    "duration": 367,
    "start_time": "2022-02-01T12:59:08.496Z"
   },
   {
    "duration": 387,
    "start_time": "2022-02-01T12:59:08.866Z"
   },
   {
    "duration": 363,
    "start_time": "2022-02-01T12:59:09.255Z"
   },
   {
    "duration": 5,
    "start_time": "2022-02-01T12:59:09.624Z"
   },
   {
    "duration": 17,
    "start_time": "2022-02-01T12:59:09.632Z"
   },
   {
    "duration": 11,
    "start_time": "2022-02-01T12:59:09.652Z"
   },
   {
    "duration": 16,
    "start_time": "2022-02-01T12:59:09.666Z"
   },
   {
    "duration": 40,
    "start_time": "2022-02-01T12:59:09.685Z"
   },
   {
    "duration": 25,
    "start_time": "2022-02-01T12:59:43.132Z"
   },
   {
    "duration": 4,
    "start_time": "2022-02-01T12:59:54.139Z"
   },
   {
    "duration": 520,
    "start_time": "2022-02-01T12:59:54.145Z"
   },
   {
    "duration": 21,
    "start_time": "2022-02-01T12:59:54.668Z"
   },
   {
    "duration": 16,
    "start_time": "2022-02-01T12:59:54.692Z"
   },
   {
    "duration": 20,
    "start_time": "2022-02-01T12:59:54.711Z"
   },
   {
    "duration": 16,
    "start_time": "2022-02-01T12:59:54.734Z"
   },
   {
    "duration": 13,
    "start_time": "2022-02-01T12:59:54.753Z"
   },
   {
    "duration": 8,
    "start_time": "2022-02-01T12:59:54.770Z"
   },
   {
    "duration": 26,
    "start_time": "2022-02-01T12:59:54.825Z"
   },
   {
    "duration": 22,
    "start_time": "2022-02-01T12:59:54.853Z"
   },
   {
    "duration": 9,
    "start_time": "2022-02-01T12:59:54.878Z"
   },
   {
    "duration": 21,
    "start_time": "2022-02-01T12:59:54.924Z"
   },
   {
    "duration": 5,
    "start_time": "2022-02-01T12:59:54.948Z"
   },
   {
    "duration": 5,
    "start_time": "2022-02-01T12:59:54.955Z"
   },
   {
    "duration": 126,
    "start_time": "2022-02-01T12:59:54.962Z"
   },
   {
    "duration": 7,
    "start_time": "2022-02-01T12:59:55.090Z"
   },
   {
    "duration": 111,
    "start_time": "2022-02-01T12:59:55.099Z"
   },
   {
    "duration": 66,
    "start_time": "2022-02-01T12:59:55.213Z"
   },
   {
    "duration": 71,
    "start_time": "2022-02-01T12:59:55.281Z"
   },
   {
    "duration": 33,
    "start_time": "2022-02-01T12:59:55.355Z"
   },
   {
    "duration": 42,
    "start_time": "2022-02-01T12:59:55.391Z"
   },
   {
    "duration": 10,
    "start_time": "2022-02-01T12:59:55.436Z"
   },
   {
    "duration": 10,
    "start_time": "2022-02-01T12:59:55.451Z"
   },
   {
    "duration": 516,
    "start_time": "2022-02-01T12:59:55.464Z"
   },
   {
    "duration": 23,
    "start_time": "2022-02-01T12:59:55.982Z"
   },
   {
    "duration": 9,
    "start_time": "2022-02-01T12:59:56.023Z"
   },
   {
    "duration": 17,
    "start_time": "2022-02-01T12:59:56.034Z"
   },
   {
    "duration": 25,
    "start_time": "2022-02-01T12:59:56.053Z"
   },
   {
    "duration": 43,
    "start_time": "2022-02-01T12:59:56.081Z"
   },
   {
    "duration": 36,
    "start_time": "2022-02-01T12:59:56.127Z"
   },
   {
    "duration": 60,
    "start_time": "2022-02-01T12:59:56.165Z"
   },
   {
    "duration": 12,
    "start_time": "2022-02-01T12:59:56.228Z"
   },
   {
    "duration": 14,
    "start_time": "2022-02-01T12:59:56.243Z"
   },
   {
    "duration": 87,
    "start_time": "2022-02-01T12:59:56.259Z"
   },
   {
    "duration": 33,
    "start_time": "2022-02-01T12:59:56.348Z"
   },
   {
    "duration": 395,
    "start_time": "2022-02-01T12:59:56.383Z"
   },
   {
    "duration": 391,
    "start_time": "2022-02-01T12:59:56.780Z"
   },
   {
    "duration": 472,
    "start_time": "2022-02-01T12:59:57.173Z"
   },
   {
    "duration": 6,
    "start_time": "2022-02-01T12:59:57.648Z"
   },
   {
    "duration": 10,
    "start_time": "2022-02-01T12:59:57.656Z"
   },
   {
    "duration": 15,
    "start_time": "2022-02-01T12:59:57.668Z"
   },
   {
    "duration": 38,
    "start_time": "2022-02-01T12:59:57.685Z"
   },
   {
    "duration": 7,
    "start_time": "2022-02-01T12:59:57.726Z"
   },
   {
    "duration": 8,
    "start_time": "2022-02-01T13:03:11.343Z"
   },
   {
    "duration": 6,
    "start_time": "2022-02-01T13:03:16.617Z"
   },
   {
    "duration": 11,
    "start_time": "2022-02-01T13:05:32.875Z"
   },
   {
    "duration": 7,
    "start_time": "2022-02-01T13:08:12.467Z"
   },
   {
    "duration": 539,
    "start_time": "2022-02-01T13:23:37.604Z"
   },
   {
    "duration": 1151,
    "start_time": "2022-02-01T13:24:00.288Z"
   },
   {
    "duration": 7,
    "start_time": "2022-02-01T13:24:19.178Z"
   },
   {
    "duration": 8,
    "start_time": "2022-02-01T13:26:12.597Z"
   },
   {
    "duration": 6,
    "start_time": "2022-02-01T13:26:22.432Z"
   },
   {
    "duration": 6,
    "start_time": "2022-02-01T13:26:38.595Z"
   },
   {
    "duration": 9,
    "start_time": "2022-02-01T13:33:47.998Z"
   },
   {
    "duration": 13,
    "start_time": "2022-02-01T13:34:04.712Z"
   },
   {
    "duration": 16,
    "start_time": "2022-02-01T14:21:36.864Z"
   },
   {
    "duration": 12,
    "start_time": "2022-02-01T14:22:12.777Z"
   },
   {
    "duration": 14,
    "start_time": "2022-02-01T14:22:23.897Z"
   },
   {
    "duration": 20,
    "start_time": "2022-02-01T16:54:04.812Z"
   },
   {
    "duration": 117,
    "start_time": "2022-02-01T16:54:07.687Z"
   },
   {
    "duration": 12,
    "start_time": "2022-02-01T16:54:09.663Z"
   },
   {
    "duration": 7,
    "start_time": "2022-02-01T16:54:10.189Z"
   }
  ],
  "kernelspec": {
   "display_name": "Python 3 (ipykernel)",
   "language": "python",
   "name": "python3"
  },
  "language_info": {
   "codemirror_mode": {
    "name": "ipython",
    "version": 3
   },
   "file_extension": ".py",
   "mimetype": "text/x-python",
   "name": "python",
   "nbconvert_exporter": "python",
   "pygments_lexer": "ipython3",
   "version": "3.9.7"
  },
  "toc": {
   "base_numbering": 1,
   "nav_menu": {},
   "number_sections": true,
   "sideBar": true,
   "skip_h1_title": true,
   "title_cell": "Table of Contents",
   "title_sidebar": "Contents",
   "toc_cell": false,
   "toc_position": {},
   "toc_section_display": true,
   "toc_window_display": false
  }
 },
 "nbformat": 4,
 "nbformat_minor": 2
}
